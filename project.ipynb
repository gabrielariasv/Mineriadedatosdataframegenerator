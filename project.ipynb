{
 "cells": [
  {
   "cell_type": "markdown",
   "id": "76ffdfd6-4a31-4377-824d-605a67456295",
   "metadata": {},
   "source": [
    "# Proyecto de Minería"
   ]
  },
  {
   "cell_type": "code",
   "execution_count": 20,
   "id": "0626ae6e-17eb-436c-a7a1-be279a32a625",
   "metadata": {},
   "outputs": [],
   "source": [
    "import pandas as pd\n",
    "import matplotlib.pyplot as plt\n"
   ]
  },
  {
   "cell_type": "code",
   "execution_count": 21,
   "id": "dbb747d8",
   "metadata": {},
   "outputs": [],
   "source": [
    "shazam_df = pd.read_csv(\"data/ShazamData.csv\", encoding = \"ISO-8859-1\")\n",
    "spotify_df = pd.read_csv(\"data/spotifyData.csv\", encoding = \"ISO-8859-1\")\n",
    "tiktok_df = pd.read_csv(\"data/tiktokData.csv\", encoding = \"ISO-8859-1\")\n"
   ]
  },
  {
   "cell_type": "code",
   "execution_count": 22,
   "id": "d132c3e4",
   "metadata": {},
   "outputs": [
    {
     "name": "stdout",
     "output_type": "stream",
     "text": [
      "musicId      7323282980226140960\n",
      "trackName                 EEYUH!\n",
      "artists             H.R. & Irokz\n",
      "Name: 424, dtype: object\n"
     ]
    }
   ],
   "source": [
    "pattern = r'\\s*(\\(|\\[).*?(Slowed|Reverb|sped up|Speed|Radio Edit|remix|Lofi|Remix|Mix|VHS|remastered|SLOWED|SUPER SLOWED|Sped Up|slowed|reverb).*?(\\)|\\])\\s*'\n",
    "shazam_df['trackName'] = shazam_df['trackName'].str.replace(pattern, '', regex=True)\n",
    "shazam_df\n",
    "print(shazam_df.iloc[424])"
   ]
  },
  {
   "cell_type": "markdown",
   "id": "61e6347a-9c07-4642-9c2a-c43baa67764e",
   "metadata": {},
   "source": [
    "### Agrupar canciones por día en spotifyData.csv"
   ]
  },
  {
   "cell_type": "code",
   "execution_count": 23,
   "id": "8d387d17-2c66-423e-aa46-c3805974faf1",
   "metadata": {},
   "outputs": [],
   "source": [
    "spotify_df[\"date\"] = spotify_df[\"date\"].str[:10]\n",
    "grouped_by_day = spotify_df.groupby(\"date\")\n",
    "daily_data_df = pd.DataFrame()"
   ]
  },
  {
   "cell_type": "code",
   "execution_count": 24,
   "metadata": {},
   "outputs": [
    {
     "data": {
      "application/vnd.plotly.v1+json": {
       "config": {
        "plotlyServerURL": "https://plot.ly"
       },
       "data": [
        {
         "hovertemplate": "trackName=MILLION DOLLAR BABY<br>date=%{x}<br>position=%{y}<extra></extra>",
         "legendgroup": "MILLION DOLLAR BABY",
         "line": {
          "color": "#636efa",
          "dash": "solid"
         },
         "marker": {
          "symbol": "circle"
         },
         "mode": "lines",
         "name": "MILLION DOLLAR BABY",
         "orientation": "v",
         "showlegend": true,
         "type": "scatter",
         "x": [
          "2024-05-16",
          "2024-05-17",
          "2024-05-18",
          "2024-05-19",
          "2024-05-20",
          "2024-05-21",
          "2024-05-22",
          "2024-05-23",
          "2024-05-24",
          "2024-05-25",
          "2024-05-26",
          "2024-05-27",
          "2024-05-28",
          "2024-05-29",
          "2024-05-30",
          "2024-05-31",
          "2024-06-01",
          "2024-06-02",
          "2024-06-03",
          "2024-06-04",
          "2024-06-05",
          "2024-06-06",
          "2024-06-07",
          "2024-06-08",
          "2024-06-09",
          "2024-06-10",
          "2024-06-11",
          "2024-06-12",
          "2024-06-13",
          "2024-06-14",
          "2024-06-15",
          "2024-06-16",
          "2024-06-17",
          "2024-06-18",
          "2024-06-19",
          "2024-06-20",
          "2024-06-21",
          "2024-06-22",
          "2024-06-23",
          "2024-06-24",
          "2024-06-25",
          "2024-06-26",
          "2024-06-27"
         ],
         "xaxis": "x",
         "y": [
          1,
          1,
          1,
          1,
          1,
          1,
          1,
          1,
          2,
          2,
          3,
          3,
          3,
          3,
          2,
          2,
          2,
          2,
          2,
          2,
          3,
          4,
          4,
          7,
          7,
          8,
          6,
          4,
          4,
          8,
          6,
          5,
          4,
          4,
          4,
          4,
          4,
          4,
          4,
          6,
          6,
          5,
          5
         ],
         "yaxis": "y"
        },
        {
         "hovertemplate": "trackName=Not Like Us<br>date=%{x}<br>position=%{y}<extra></extra>",
         "legendgroup": "Not Like Us",
         "line": {
          "color": "#EF553B",
          "dash": "solid"
         },
         "marker": {
          "symbol": "circle"
         },
         "mode": "lines",
         "name": "Not Like Us",
         "orientation": "v",
         "showlegend": true,
         "type": "scatter",
         "x": [
          "2024-05-16",
          "2024-05-17",
          "2024-05-18",
          "2024-05-19",
          "2024-05-20",
          "2024-05-21",
          "2024-05-22",
          "2024-05-23",
          "2024-05-24",
          "2024-05-25",
          "2024-05-26",
          "2024-05-27",
          "2024-05-28",
          "2024-05-29",
          "2024-05-30",
          "2024-05-31",
          "2024-06-01",
          "2024-06-02",
          "2024-06-03",
          "2024-06-04",
          "2024-06-05",
          "2024-06-06",
          "2024-06-07",
          "2024-06-08",
          "2024-06-09",
          "2024-06-10",
          "2024-06-11",
          "2024-06-12",
          "2024-06-13",
          "2024-06-14",
          "2024-06-15",
          "2024-06-16",
          "2024-06-17",
          "2024-06-18",
          "2024-06-19",
          "2024-06-20",
          "2024-06-21",
          "2024-06-22",
          "2024-06-23",
          "2024-06-24",
          "2024-06-25",
          "2024-06-26",
          "2024-06-27"
         ],
         "xaxis": "x",
         "y": [
          2,
          2,
          2,
          5,
          2,
          3,
          3,
          3,
          4,
          4,
          4,
          4,
          4,
          4,
          4,
          4,
          4,
          6,
          7,
          7,
          8,
          8,
          9,
          9,
          11,
          13,
          13,
          13,
          12,
          10,
          12,
          13,
          14,
          12,
          14,
          14,
          13,
          7,
          5,
          4,
          4,
          4,
          4
         ],
         "yaxis": "y"
        },
        {
         "hovertemplate": "trackName=Espresso<br>date=%{x}<br>position=%{y}<extra></extra>",
         "legendgroup": "Espresso",
         "line": {
          "color": "#00cc96",
          "dash": "solid"
         },
         "marker": {
          "symbol": "circle"
         },
         "mode": "lines",
         "name": "Espresso",
         "orientation": "v",
         "showlegend": true,
         "type": "scatter",
         "x": [
          "2024-05-16",
          "2024-05-17",
          "2024-05-18",
          "2024-05-19",
          "2024-05-20",
          "2024-05-21",
          "2024-05-22",
          "2024-05-23",
          "2024-05-24",
          "2024-05-25",
          "2024-05-26",
          "2024-05-27",
          "2024-05-28",
          "2024-05-29",
          "2024-05-30",
          "2024-05-31",
          "2024-06-01",
          "2024-06-02",
          "2024-06-03",
          "2024-06-04",
          "2024-06-05",
          "2024-06-06",
          "2024-06-07",
          "2024-06-08",
          "2024-06-09",
          "2024-06-10",
          "2024-06-11",
          "2024-06-12",
          "2024-06-13",
          "2024-06-14",
          "2024-06-15",
          "2024-06-16",
          "2024-06-17",
          "2024-06-18",
          "2024-06-19",
          "2024-06-20",
          "2024-06-21",
          "2024-06-22",
          "2024-06-23",
          "2024-06-24",
          "2024-06-25",
          "2024-06-26",
          "2024-06-27"
         ],
         "xaxis": "x",
         "y": [
          3,
          3,
          3,
          4,
          3,
          2,
          2,
          2,
          3,
          3,
          2,
          2,
          2,
          1,
          1,
          1,
          1,
          1,
          1,
          1,
          1,
          1,
          1,
          1,
          1,
          1,
          1,
          1,
          2,
          2,
          2,
          2,
          2,
          2,
          2,
          2,
          2,
          2,
          2,
          2,
          2,
          2,
          2
         ],
         "yaxis": "y"
        },
        {
         "hovertemplate": "trackName=I Had Some Help (Feat. Morgan Wallen)<br>date=%{x}<br>position=%{y}<extra></extra>",
         "legendgroup": "I Had Some Help (Feat. Morgan Wallen)",
         "line": {
          "color": "#ab63fa",
          "dash": "solid"
         },
         "marker": {
          "symbol": "circle"
         },
         "mode": "lines",
         "name": "I Had Some Help (Feat. Morgan Wallen)",
         "orientation": "v",
         "showlegend": true,
         "type": "scatter",
         "x": [
          "2024-05-16",
          "2024-05-17",
          "2024-05-18",
          "2024-05-19",
          "2024-05-20",
          "2024-05-21",
          "2024-05-22",
          "2024-05-23",
          "2024-05-24",
          "2024-05-25",
          "2024-05-26",
          "2024-05-27",
          "2024-05-28",
          "2024-05-29",
          "2024-05-30",
          "2024-05-31",
          "2024-06-01",
          "2024-06-02",
          "2024-06-03",
          "2024-06-04",
          "2024-06-05",
          "2024-06-06",
          "2024-06-07",
          "2024-06-08",
          "2024-06-09",
          "2024-06-10",
          "2024-06-11",
          "2024-06-12",
          "2024-06-13",
          "2024-06-14",
          "2024-06-15",
          "2024-06-16",
          "2024-06-17",
          "2024-06-18",
          "2024-06-19",
          "2024-06-20",
          "2024-06-21",
          "2024-06-22",
          "2024-06-23",
          "2024-06-24",
          "2024-06-25",
          "2024-06-26",
          "2024-06-27"
         ],
         "xaxis": "x",
         "y": [
          4,
          4,
          4,
          6,
          5,
          5,
          6,
          6,
          7,
          7,
          7,
          6,
          7,
          8,
          7,
          7,
          7,
          8,
          8,
          8,
          7,
          7,
          7,
          6,
          6,
          7,
          10,
          10,
          11,
          12,
          10,
          11,
          10,
          10,
          12,
          12,
          10,
          10,
          9,
          9,
          9,
          10,
          11
         ],
         "yaxis": "y"
        },
        {
         "hovertemplate": "trackName=i like the way you kiss me<br>date=%{x}<br>position=%{y}<extra></extra>",
         "legendgroup": "i like the way you kiss me",
         "line": {
          "color": "#FFA15A",
          "dash": "solid"
         },
         "marker": {
          "symbol": "circle"
         },
         "mode": "lines",
         "name": "i like the way you kiss me",
         "orientation": "v",
         "showlegend": true,
         "type": "scatter",
         "x": [
          "2024-05-16",
          "2024-05-17",
          "2024-05-18",
          "2024-05-19",
          "2024-05-20",
          "2024-05-21",
          "2024-05-22",
          "2024-05-23",
          "2024-05-24",
          "2024-05-25",
          "2024-05-26",
          "2024-05-27",
          "2024-05-28",
          "2024-05-29",
          "2024-05-30",
          "2024-05-31",
          "2024-06-01",
          "2024-06-02",
          "2024-06-03",
          "2024-06-04",
          "2024-06-05",
          "2024-06-06",
          "2024-06-07",
          "2024-06-08",
          "2024-06-09",
          "2024-06-10",
          "2024-06-11",
          "2024-06-12",
          "2024-06-13",
          "2024-06-14",
          "2024-06-15",
          "2024-06-16",
          "2024-06-17",
          "2024-06-18",
          "2024-06-19",
          "2024-06-20",
          "2024-06-21",
          "2024-06-22",
          "2024-06-23",
          "2024-06-24",
          "2024-06-25",
          "2024-06-26",
          "2024-06-27"
         ],
         "xaxis": "x",
         "y": [
          5,
          5,
          5,
          9,
          8,
          9,
          9,
          10,
          11,
          12,
          12,
          12,
          12,
          12,
          10,
          9,
          11,
          11,
          12,
          11,
          10,
          10,
          10,
          10,
          12,
          12,
          12,
          12,
          13,
          14,
          14,
          12,
          12,
          14,
          13,
          13,
          14,
          13,
          13,
          13,
          13,
          13,
          13
         ],
         "yaxis": "y"
        },
        {
         "hovertemplate": "trackName=Gata Only<br>date=%{x}<br>position=%{y}<extra></extra>",
         "legendgroup": "Gata Only",
         "line": {
          "color": "#19d3f3",
          "dash": "solid"
         },
         "marker": {
          "symbol": "circle"
         },
         "mode": "lines",
         "name": "Gata Only",
         "orientation": "v",
         "showlegend": true,
         "type": "scatter",
         "x": [
          "2024-05-16",
          "2024-05-17",
          "2024-05-18",
          "2024-05-19",
          "2024-05-20",
          "2024-05-21",
          "2024-05-22",
          "2024-05-23",
          "2024-05-24",
          "2024-05-25",
          "2024-05-26",
          "2024-05-27",
          "2024-05-28",
          "2024-05-29",
          "2024-05-30",
          "2024-05-31",
          "2024-06-01",
          "2024-06-02",
          "2024-06-03",
          "2024-06-04",
          "2024-06-05",
          "2024-06-06",
          "2024-06-07",
          "2024-06-08",
          "2024-06-09",
          "2024-06-10",
          "2024-06-11",
          "2024-06-12",
          "2024-06-13",
          "2024-06-14",
          "2024-06-15",
          "2024-06-16",
          "2024-06-17",
          "2024-06-18",
          "2024-06-19",
          "2024-06-20",
          "2024-06-21",
          "2024-06-22",
          "2024-06-23",
          "2024-06-24",
          "2024-06-25",
          "2024-06-26",
          "2024-06-27"
         ],
         "xaxis": "x",
         "y": [
          6,
          6,
          7,
          10,
          7,
          7,
          7,
          7,
          8,
          8,
          8,
          5,
          6,
          6,
          6,
          6,
          6,
          7,
          5,
          6,
          6,
          6,
          6,
          5,
          5,
          4,
          5,
          6,
          6,
          5,
          5,
          4,
          5,
          5,
          5,
          5,
          5,
          5,
          6,
          5,
          5,
          6,
          6
         ],
         "yaxis": "y"
        },
        {
         "hovertemplate": "trackName=LUNCH<br>date=%{x}<br>position=%{y}<extra></extra>",
         "legendgroup": "LUNCH",
         "line": {
          "color": "#FF6692",
          "dash": "solid"
         },
         "marker": {
          "symbol": "circle"
         },
         "mode": "lines",
         "name": "LUNCH",
         "orientation": "v",
         "showlegend": true,
         "type": "scatter",
         "x": [
          "2024-05-19",
          "2024-05-20",
          "2024-05-21",
          "2024-05-22",
          "2024-05-23",
          "2024-05-24",
          "2024-05-25",
          "2024-05-26",
          "2024-05-27",
          "2024-05-28",
          "2024-05-29",
          "2024-05-30",
          "2024-05-31",
          "2024-06-01",
          "2024-06-02",
          "2024-06-03",
          "2024-06-04",
          "2024-06-05",
          "2024-06-06",
          "2024-06-07",
          "2024-06-08",
          "2024-06-09",
          "2024-06-10",
          "2024-06-11",
          "2024-06-12",
          "2024-06-13",
          "2024-06-14",
          "2024-06-15",
          "2024-06-16",
          "2024-06-17",
          "2024-06-18",
          "2024-06-19",
          "2024-06-20",
          "2024-06-21",
          "2024-06-22",
          "2024-06-23",
          "2024-06-24",
          "2024-06-25",
          "2024-06-26",
          "2024-06-27"
         ],
         "xaxis": "x",
         "y": [
          2,
          4,
          4,
          4,
          4,
          1,
          1,
          1,
          1,
          1,
          2,
          3,
          3,
          3,
          5,
          6,
          5,
          5,
          5,
          5,
          4,
          4,
          5,
          7,
          7,
          7,
          6,
          7,
          8,
          11,
          11,
          10,
          11,
          12,
          12,
          14,
          15,
          15,
          14,
          15
         ],
         "yaxis": "y"
        },
        {
         "hovertemplate": "trackName=CHIHIRO<br>date=%{x}<br>position=%{y}<extra></extra>",
         "legendgroup": "CHIHIRO",
         "line": {
          "color": "#B6E880",
          "dash": "solid"
         },
         "marker": {
          "symbol": "circle"
         },
         "mode": "lines",
         "name": "CHIHIRO",
         "orientation": "v",
         "showlegend": true,
         "type": "scatter",
         "x": [
          "2024-05-19",
          "2024-05-20",
          "2024-05-21",
          "2024-05-22",
          "2024-05-23",
          "2024-05-24",
          "2024-05-25",
          "2024-05-26",
          "2024-05-27",
          "2024-05-28",
          "2024-05-29",
          "2024-05-30",
          "2024-05-31",
          "2024-06-01",
          "2024-06-02",
          "2024-06-03",
          "2024-06-04",
          "2024-06-05",
          "2024-06-06",
          "2024-06-07",
          "2024-06-08",
          "2024-06-09",
          "2024-06-10",
          "2024-06-11",
          "2024-06-12",
          "2024-06-13",
          "2024-06-14",
          "2024-06-15",
          "2024-06-16",
          "2024-06-17",
          "2024-06-18",
          "2024-06-19",
          "2024-06-20",
          "2024-06-21",
          "2024-06-22",
          "2024-06-23",
          "2024-06-24",
          "2024-06-25",
          "2024-06-26",
          "2024-06-27"
         ],
         "xaxis": "x",
         "y": [
          3,
          6,
          6,
          5,
          5,
          5,
          5,
          6,
          7,
          8,
          7,
          9,
          10,
          10,
          13,
          13,
          13,
          13,
          13,
          13,
          13,
          15,
          14,
          14,
          14,
          14,
          13,
          13,
          15,
          16,
          15,
          15,
          15,
          16,
          18,
          21,
          22,
          22,
          22,
          22
         ],
         "yaxis": "y"
        },
        {
         "hovertemplate": "trackName=BIRDS OF A FEATHER<br>date=%{x}<br>position=%{y}<extra></extra>",
         "legendgroup": "BIRDS OF A FEATHER",
         "line": {
          "color": "#FF97FF",
          "dash": "solid"
         },
         "marker": {
          "symbol": "circle"
         },
         "mode": "lines",
         "name": "BIRDS OF A FEATHER",
         "orientation": "v",
         "showlegend": true,
         "type": "scatter",
         "x": [
          "2024-05-19",
          "2024-05-20",
          "2024-05-21",
          "2024-05-22",
          "2024-05-23",
          "2024-05-24",
          "2024-05-25",
          "2024-05-26",
          "2024-05-27",
          "2024-05-28",
          "2024-05-29",
          "2024-05-30",
          "2024-05-31",
          "2024-06-01",
          "2024-06-02",
          "2024-06-03",
          "2024-06-04",
          "2024-06-05",
          "2024-06-06",
          "2024-06-07",
          "2024-06-08",
          "2024-06-09",
          "2024-06-10",
          "2024-06-11",
          "2024-06-12",
          "2024-06-13",
          "2024-06-14",
          "2024-06-15",
          "2024-06-16",
          "2024-06-17",
          "2024-06-18",
          "2024-06-19",
          "2024-06-20",
          "2024-06-21",
          "2024-06-22",
          "2024-06-23",
          "2024-06-24",
          "2024-06-25",
          "2024-06-26",
          "2024-06-27"
         ],
         "xaxis": "x",
         "y": [
          8,
          10,
          8,
          8,
          8,
          6,
          6,
          5,
          8,
          5,
          5,
          5,
          5,
          5,
          4,
          4,
          4,
          4,
          3,
          3,
          2,
          2,
          2,
          2,
          3,
          3,
          3,
          3,
          3,
          3,
          3,
          3,
          3,
          3,
          3,
          3,
          3,
          3,
          3,
          3
         ],
         "yaxis": "y"
        },
        {
         "hovertemplate": "trackName=Houdini<br>date=%{x}<br>position=%{y}<extra></extra>",
         "legendgroup": "Houdini",
         "line": {
          "color": "#FECB52",
          "dash": "solid"
         },
         "marker": {
          "symbol": "circle"
         },
         "mode": "lines",
         "name": "Houdini",
         "orientation": "v",
         "showlegend": true,
         "type": "scatter",
         "x": [
          "2024-06-02",
          "2024-06-03",
          "2024-06-04",
          "2024-06-05",
          "2024-06-06",
          "2024-06-07",
          "2024-06-08",
          "2024-06-09",
          "2024-06-10",
          "2024-06-11",
          "2024-06-12",
          "2024-06-13",
          "2024-06-14",
          "2024-06-15",
          "2024-06-16",
          "2024-06-17",
          "2024-06-18",
          "2024-06-19",
          "2024-06-20",
          "2024-06-21",
          "2024-06-22",
          "2024-06-23",
          "2024-06-24",
          "2024-06-25",
          "2024-06-26",
          "2024-06-27"
         ],
         "xaxis": "x",
         "y": [
          3,
          3,
          3,
          2,
          2,
          2,
          3,
          3,
          3,
          4,
          5,
          5,
          4,
          4,
          6,
          8,
          9,
          7,
          9,
          9,
          11,
          12,
          12,
          12,
          12,
          12
         ],
         "yaxis": "y"
        },
        {
         "hovertemplate": "trackName=Please Please Please<br>date=%{x}<br>position=%{y}<extra></extra>",
         "legendgroup": "Please Please Please",
         "line": {
          "color": "#636efa",
          "dash": "solid"
         },
         "marker": {
          "symbol": "circle"
         },
         "mode": "lines",
         "name": "Please Please Please",
         "orientation": "v",
         "showlegend": true,
         "type": "scatter",
         "x": [
          "2024-06-09",
          "2024-06-10",
          "2024-06-11",
          "2024-06-12",
          "2024-06-13",
          "2024-06-14",
          "2024-06-15",
          "2024-06-16",
          "2024-06-17",
          "2024-06-18",
          "2024-06-19",
          "2024-06-20",
          "2024-06-21",
          "2024-06-22",
          "2024-06-23",
          "2024-06-24",
          "2024-06-25",
          "2024-06-26",
          "2024-06-27"
         ],
         "xaxis": "x",
         "y": [
          9,
          6,
          3,
          2,
          1,
          1,
          1,
          1,
          1,
          1,
          1,
          1,
          1,
          1,
          1,
          1,
          1,
          1,
          1
         ],
         "yaxis": "y"
        }
       ],
       "layout": {
        "legend": {
         "title": {
          "text": "trackName"
         },
         "tracegroupgap": 0
        },
        "template": {
         "data": {
          "bar": [
           {
            "error_x": {
             "color": "#2a3f5f"
            },
            "error_y": {
             "color": "#2a3f5f"
            },
            "marker": {
             "line": {
              "color": "#E5ECF6",
              "width": 0.5
             },
             "pattern": {
              "fillmode": "overlay",
              "size": 10,
              "solidity": 0.2
             }
            },
            "type": "bar"
           }
          ],
          "barpolar": [
           {
            "marker": {
             "line": {
              "color": "#E5ECF6",
              "width": 0.5
             },
             "pattern": {
              "fillmode": "overlay",
              "size": 10,
              "solidity": 0.2
             }
            },
            "type": "barpolar"
           }
          ],
          "carpet": [
           {
            "aaxis": {
             "endlinecolor": "#2a3f5f",
             "gridcolor": "white",
             "linecolor": "white",
             "minorgridcolor": "white",
             "startlinecolor": "#2a3f5f"
            },
            "baxis": {
             "endlinecolor": "#2a3f5f",
             "gridcolor": "white",
             "linecolor": "white",
             "minorgridcolor": "white",
             "startlinecolor": "#2a3f5f"
            },
            "type": "carpet"
           }
          ],
          "choropleth": [
           {
            "colorbar": {
             "outlinewidth": 0,
             "ticks": ""
            },
            "type": "choropleth"
           }
          ],
          "contour": [
           {
            "colorbar": {
             "outlinewidth": 0,
             "ticks": ""
            },
            "colorscale": [
             [
              0,
              "#0d0887"
             ],
             [
              0.1111111111111111,
              "#46039f"
             ],
             [
              0.2222222222222222,
              "#7201a8"
             ],
             [
              0.3333333333333333,
              "#9c179e"
             ],
             [
              0.4444444444444444,
              "#bd3786"
             ],
             [
              0.5555555555555556,
              "#d8576b"
             ],
             [
              0.6666666666666666,
              "#ed7953"
             ],
             [
              0.7777777777777778,
              "#fb9f3a"
             ],
             [
              0.8888888888888888,
              "#fdca26"
             ],
             [
              1,
              "#f0f921"
             ]
            ],
            "type": "contour"
           }
          ],
          "contourcarpet": [
           {
            "colorbar": {
             "outlinewidth": 0,
             "ticks": ""
            },
            "type": "contourcarpet"
           }
          ],
          "heatmap": [
           {
            "colorbar": {
             "outlinewidth": 0,
             "ticks": ""
            },
            "colorscale": [
             [
              0,
              "#0d0887"
             ],
             [
              0.1111111111111111,
              "#46039f"
             ],
             [
              0.2222222222222222,
              "#7201a8"
             ],
             [
              0.3333333333333333,
              "#9c179e"
             ],
             [
              0.4444444444444444,
              "#bd3786"
             ],
             [
              0.5555555555555556,
              "#d8576b"
             ],
             [
              0.6666666666666666,
              "#ed7953"
             ],
             [
              0.7777777777777778,
              "#fb9f3a"
             ],
             [
              0.8888888888888888,
              "#fdca26"
             ],
             [
              1,
              "#f0f921"
             ]
            ],
            "type": "heatmap"
           }
          ],
          "heatmapgl": [
           {
            "colorbar": {
             "outlinewidth": 0,
             "ticks": ""
            },
            "colorscale": [
             [
              0,
              "#0d0887"
             ],
             [
              0.1111111111111111,
              "#46039f"
             ],
             [
              0.2222222222222222,
              "#7201a8"
             ],
             [
              0.3333333333333333,
              "#9c179e"
             ],
             [
              0.4444444444444444,
              "#bd3786"
             ],
             [
              0.5555555555555556,
              "#d8576b"
             ],
             [
              0.6666666666666666,
              "#ed7953"
             ],
             [
              0.7777777777777778,
              "#fb9f3a"
             ],
             [
              0.8888888888888888,
              "#fdca26"
             ],
             [
              1,
              "#f0f921"
             ]
            ],
            "type": "heatmapgl"
           }
          ],
          "histogram": [
           {
            "marker": {
             "pattern": {
              "fillmode": "overlay",
              "size": 10,
              "solidity": 0.2
             }
            },
            "type": "histogram"
           }
          ],
          "histogram2d": [
           {
            "colorbar": {
             "outlinewidth": 0,
             "ticks": ""
            },
            "colorscale": [
             [
              0,
              "#0d0887"
             ],
             [
              0.1111111111111111,
              "#46039f"
             ],
             [
              0.2222222222222222,
              "#7201a8"
             ],
             [
              0.3333333333333333,
              "#9c179e"
             ],
             [
              0.4444444444444444,
              "#bd3786"
             ],
             [
              0.5555555555555556,
              "#d8576b"
             ],
             [
              0.6666666666666666,
              "#ed7953"
             ],
             [
              0.7777777777777778,
              "#fb9f3a"
             ],
             [
              0.8888888888888888,
              "#fdca26"
             ],
             [
              1,
              "#f0f921"
             ]
            ],
            "type": "histogram2d"
           }
          ],
          "histogram2dcontour": [
           {
            "colorbar": {
             "outlinewidth": 0,
             "ticks": ""
            },
            "colorscale": [
             [
              0,
              "#0d0887"
             ],
             [
              0.1111111111111111,
              "#46039f"
             ],
             [
              0.2222222222222222,
              "#7201a8"
             ],
             [
              0.3333333333333333,
              "#9c179e"
             ],
             [
              0.4444444444444444,
              "#bd3786"
             ],
             [
              0.5555555555555556,
              "#d8576b"
             ],
             [
              0.6666666666666666,
              "#ed7953"
             ],
             [
              0.7777777777777778,
              "#fb9f3a"
             ],
             [
              0.8888888888888888,
              "#fdca26"
             ],
             [
              1,
              "#f0f921"
             ]
            ],
            "type": "histogram2dcontour"
           }
          ],
          "mesh3d": [
           {
            "colorbar": {
             "outlinewidth": 0,
             "ticks": ""
            },
            "type": "mesh3d"
           }
          ],
          "parcoords": [
           {
            "line": {
             "colorbar": {
              "outlinewidth": 0,
              "ticks": ""
             }
            },
            "type": "parcoords"
           }
          ],
          "pie": [
           {
            "automargin": true,
            "type": "pie"
           }
          ],
          "scatter": [
           {
            "fillpattern": {
             "fillmode": "overlay",
             "size": 10,
             "solidity": 0.2
            },
            "type": "scatter"
           }
          ],
          "scatter3d": [
           {
            "line": {
             "colorbar": {
              "outlinewidth": 0,
              "ticks": ""
             }
            },
            "marker": {
             "colorbar": {
              "outlinewidth": 0,
              "ticks": ""
             }
            },
            "type": "scatter3d"
           }
          ],
          "scattercarpet": [
           {
            "marker": {
             "colorbar": {
              "outlinewidth": 0,
              "ticks": ""
             }
            },
            "type": "scattercarpet"
           }
          ],
          "scattergeo": [
           {
            "marker": {
             "colorbar": {
              "outlinewidth": 0,
              "ticks": ""
             }
            },
            "type": "scattergeo"
           }
          ],
          "scattergl": [
           {
            "marker": {
             "colorbar": {
              "outlinewidth": 0,
              "ticks": ""
             }
            },
            "type": "scattergl"
           }
          ],
          "scattermapbox": [
           {
            "marker": {
             "colorbar": {
              "outlinewidth": 0,
              "ticks": ""
             }
            },
            "type": "scattermapbox"
           }
          ],
          "scatterpolar": [
           {
            "marker": {
             "colorbar": {
              "outlinewidth": 0,
              "ticks": ""
             }
            },
            "type": "scatterpolar"
           }
          ],
          "scatterpolargl": [
           {
            "marker": {
             "colorbar": {
              "outlinewidth": 0,
              "ticks": ""
             }
            },
            "type": "scatterpolargl"
           }
          ],
          "scatterternary": [
           {
            "marker": {
             "colorbar": {
              "outlinewidth": 0,
              "ticks": ""
             }
            },
            "type": "scatterternary"
           }
          ],
          "surface": [
           {
            "colorbar": {
             "outlinewidth": 0,
             "ticks": ""
            },
            "colorscale": [
             [
              0,
              "#0d0887"
             ],
             [
              0.1111111111111111,
              "#46039f"
             ],
             [
              0.2222222222222222,
              "#7201a8"
             ],
             [
              0.3333333333333333,
              "#9c179e"
             ],
             [
              0.4444444444444444,
              "#bd3786"
             ],
             [
              0.5555555555555556,
              "#d8576b"
             ],
             [
              0.6666666666666666,
              "#ed7953"
             ],
             [
              0.7777777777777778,
              "#fb9f3a"
             ],
             [
              0.8888888888888888,
              "#fdca26"
             ],
             [
              1,
              "#f0f921"
             ]
            ],
            "type": "surface"
           }
          ],
          "table": [
           {
            "cells": {
             "fill": {
              "color": "#EBF0F8"
             },
             "line": {
              "color": "white"
             }
            },
            "header": {
             "fill": {
              "color": "#C8D4E3"
             },
             "line": {
              "color": "white"
             }
            },
            "type": "table"
           }
          ]
         },
         "layout": {
          "annotationdefaults": {
           "arrowcolor": "#2a3f5f",
           "arrowhead": 0,
           "arrowwidth": 1
          },
          "autotypenumbers": "strict",
          "coloraxis": {
           "colorbar": {
            "outlinewidth": 0,
            "ticks": ""
           }
          },
          "colorscale": {
           "diverging": [
            [
             0,
             "#8e0152"
            ],
            [
             0.1,
             "#c51b7d"
            ],
            [
             0.2,
             "#de77ae"
            ],
            [
             0.3,
             "#f1b6da"
            ],
            [
             0.4,
             "#fde0ef"
            ],
            [
             0.5,
             "#f7f7f7"
            ],
            [
             0.6,
             "#e6f5d0"
            ],
            [
             0.7,
             "#b8e186"
            ],
            [
             0.8,
             "#7fbc41"
            ],
            [
             0.9,
             "#4d9221"
            ],
            [
             1,
             "#276419"
            ]
           ],
           "sequential": [
            [
             0,
             "#0d0887"
            ],
            [
             0.1111111111111111,
             "#46039f"
            ],
            [
             0.2222222222222222,
             "#7201a8"
            ],
            [
             0.3333333333333333,
             "#9c179e"
            ],
            [
             0.4444444444444444,
             "#bd3786"
            ],
            [
             0.5555555555555556,
             "#d8576b"
            ],
            [
             0.6666666666666666,
             "#ed7953"
            ],
            [
             0.7777777777777778,
             "#fb9f3a"
            ],
            [
             0.8888888888888888,
             "#fdca26"
            ],
            [
             1,
             "#f0f921"
            ]
           ],
           "sequentialminus": [
            [
             0,
             "#0d0887"
            ],
            [
             0.1111111111111111,
             "#46039f"
            ],
            [
             0.2222222222222222,
             "#7201a8"
            ],
            [
             0.3333333333333333,
             "#9c179e"
            ],
            [
             0.4444444444444444,
             "#bd3786"
            ],
            [
             0.5555555555555556,
             "#d8576b"
            ],
            [
             0.6666666666666666,
             "#ed7953"
            ],
            [
             0.7777777777777778,
             "#fb9f3a"
            ],
            [
             0.8888888888888888,
             "#fdca26"
            ],
            [
             1,
             "#f0f921"
            ]
           ]
          },
          "colorway": [
           "#636efa",
           "#EF553B",
           "#00cc96",
           "#ab63fa",
           "#FFA15A",
           "#19d3f3",
           "#FF6692",
           "#B6E880",
           "#FF97FF",
           "#FECB52"
          ],
          "font": {
           "color": "#2a3f5f"
          },
          "geo": {
           "bgcolor": "white",
           "lakecolor": "white",
           "landcolor": "#E5ECF6",
           "showlakes": true,
           "showland": true,
           "subunitcolor": "white"
          },
          "hoverlabel": {
           "align": "left"
          },
          "hovermode": "closest",
          "mapbox": {
           "style": "light"
          },
          "paper_bgcolor": "white",
          "plot_bgcolor": "#E5ECF6",
          "polar": {
           "angularaxis": {
            "gridcolor": "white",
            "linecolor": "white",
            "ticks": ""
           },
           "bgcolor": "#E5ECF6",
           "radialaxis": {
            "gridcolor": "white",
            "linecolor": "white",
            "ticks": ""
           }
          },
          "scene": {
           "xaxis": {
            "backgroundcolor": "#E5ECF6",
            "gridcolor": "white",
            "gridwidth": 2,
            "linecolor": "white",
            "showbackground": true,
            "ticks": "",
            "zerolinecolor": "white"
           },
           "yaxis": {
            "backgroundcolor": "#E5ECF6",
            "gridcolor": "white",
            "gridwidth": 2,
            "linecolor": "white",
            "showbackground": true,
            "ticks": "",
            "zerolinecolor": "white"
           },
           "zaxis": {
            "backgroundcolor": "#E5ECF6",
            "gridcolor": "white",
            "gridwidth": 2,
            "linecolor": "white",
            "showbackground": true,
            "ticks": "",
            "zerolinecolor": "white"
           }
          },
          "shapedefaults": {
           "line": {
            "color": "#2a3f5f"
           }
          },
          "ternary": {
           "aaxis": {
            "gridcolor": "white",
            "linecolor": "white",
            "ticks": ""
           },
           "baxis": {
            "gridcolor": "white",
            "linecolor": "white",
            "ticks": ""
           },
           "bgcolor": "#E5ECF6",
           "caxis": {
            "gridcolor": "white",
            "linecolor": "white",
            "ticks": ""
           }
          },
          "title": {
           "x": 0.05
          },
          "xaxis": {
           "automargin": true,
           "gridcolor": "white",
           "linecolor": "white",
           "ticks": "",
           "title": {
            "standoff": 15
           },
           "zerolinecolor": "white",
           "zerolinewidth": 2
          },
          "yaxis": {
           "automargin": true,
           "gridcolor": "white",
           "linecolor": "white",
           "ticks": "",
           "title": {
            "standoff": 15
           },
           "zerolinecolor": "white",
           "zerolinewidth": 2
          }
         }
        },
        "title": {
         "text": "Evolución temporal de la posición en la lista"
        },
        "xaxis": {
         "anchor": "y",
         "domain": [
          0,
          1
         ],
         "title": {
          "text": "date"
         }
        },
        "yaxis": {
         "anchor": "x",
         "autorange": "reversed",
         "domain": [
          0,
          1
         ],
         "title": {
          "text": "position"
         }
        }
       }
      }
     },
     "metadata": {},
     "output_type": "display_data"
    },
    {
     "data": {
      "application/vnd.plotly.v1+json": {
       "config": {
        "plotlyServerURL": "https://plot.ly"
       },
       "data": [
        {
         "hovertemplate": "trackName=MILLION DOLLAR BABY<br>date=%{x}<br>position=%{y}<extra></extra>",
         "legendgroup": "MILLION DOLLAR BABY",
         "line": {
          "color": "#636efa",
          "dash": "solid"
         },
         "marker": {
          "symbol": "circle"
         },
         "mode": "lines",
         "name": "MILLION DOLLAR BABY",
         "showlegend": true,
         "type": "scattergl",
         "x": [
          "2024-05-16",
          "2024-05-17",
          "2024-05-18",
          "2024-05-19",
          "2024-05-20",
          "2024-05-21",
          "2024-05-22",
          "2024-05-23",
          "2024-05-24",
          "2024-05-25",
          "2024-05-26",
          "2024-05-27",
          "2024-05-28",
          "2024-05-29",
          "2024-05-30",
          "2024-05-31",
          "2024-06-01",
          "2024-06-02",
          "2024-06-03",
          "2024-06-04",
          "2024-06-05",
          "2024-06-06",
          "2024-06-07",
          "2024-06-08",
          "2024-06-09",
          "2024-06-10",
          "2024-06-11",
          "2024-06-12",
          "2024-06-13",
          "2024-06-14",
          "2024-06-15",
          "2024-06-16",
          "2024-06-17",
          "2024-06-18",
          "2024-06-19",
          "2024-06-20",
          "2024-06-21",
          "2024-06-22",
          "2024-06-23",
          "2024-06-24",
          "2024-06-25",
          "2024-06-26",
          "2024-06-27"
         ],
         "xaxis": "x",
         "y": [
          1,
          1,
          1,
          1,
          1,
          1,
          1,
          1,
          2,
          2,
          3,
          3,
          3,
          3,
          2,
          2,
          2,
          2,
          2,
          2,
          3,
          4,
          4,
          7,
          7,
          8,
          6,
          4,
          4,
          8,
          6,
          5,
          4,
          4,
          4,
          4,
          4,
          4,
          4,
          6,
          6,
          5,
          5
         ],
         "yaxis": "y"
        },
        {
         "hovertemplate": "trackName=Not Like Us<br>date=%{x}<br>position=%{y}<extra></extra>",
         "legendgroup": "Not Like Us",
         "line": {
          "color": "#EF553B",
          "dash": "solid"
         },
         "marker": {
          "symbol": "circle"
         },
         "mode": "lines",
         "name": "Not Like Us",
         "showlegend": true,
         "type": "scattergl",
         "x": [
          "2024-05-16",
          "2024-05-17",
          "2024-05-18",
          "2024-05-19",
          "2024-05-20",
          "2024-05-21",
          "2024-05-22",
          "2024-05-23",
          "2024-05-24",
          "2024-05-25",
          "2024-05-26",
          "2024-05-27",
          "2024-05-28",
          "2024-05-29",
          "2024-05-30",
          "2024-05-31",
          "2024-06-01",
          "2024-06-02",
          "2024-06-03",
          "2024-06-04",
          "2024-06-05",
          "2024-06-06",
          "2024-06-07",
          "2024-06-08",
          "2024-06-09",
          "2024-06-10",
          "2024-06-11",
          "2024-06-12",
          "2024-06-13",
          "2024-06-14",
          "2024-06-15",
          "2024-06-16",
          "2024-06-17",
          "2024-06-18",
          "2024-06-19",
          "2024-06-20",
          "2024-06-21",
          "2024-06-22",
          "2024-06-23",
          "2024-06-24",
          "2024-06-25",
          "2024-06-26",
          "2024-06-27"
         ],
         "xaxis": "x",
         "y": [
          2,
          2,
          2,
          5,
          2,
          3,
          3,
          3,
          4,
          4,
          4,
          4,
          4,
          4,
          4,
          4,
          4,
          6,
          7,
          7,
          8,
          8,
          9,
          9,
          11,
          13,
          13,
          13,
          12,
          10,
          12,
          13,
          14,
          12,
          14,
          14,
          13,
          7,
          5,
          4,
          4,
          4,
          4
         ],
         "yaxis": "y"
        },
        {
         "hovertemplate": "trackName=Espresso<br>date=%{x}<br>position=%{y}<extra></extra>",
         "legendgroup": "Espresso",
         "line": {
          "color": "#00cc96",
          "dash": "solid"
         },
         "marker": {
          "symbol": "circle"
         },
         "mode": "lines",
         "name": "Espresso",
         "showlegend": true,
         "type": "scattergl",
         "x": [
          "2024-05-16",
          "2024-05-17",
          "2024-05-18",
          "2024-05-19",
          "2024-05-20",
          "2024-05-21",
          "2024-05-22",
          "2024-05-23",
          "2024-05-24",
          "2024-05-25",
          "2024-05-26",
          "2024-05-27",
          "2024-05-28",
          "2024-05-29",
          "2024-05-30",
          "2024-05-31",
          "2024-06-01",
          "2024-06-02",
          "2024-06-03",
          "2024-06-04",
          "2024-06-05",
          "2024-06-06",
          "2024-06-07",
          "2024-06-08",
          "2024-06-09",
          "2024-06-10",
          "2024-06-11",
          "2024-06-12",
          "2024-06-13",
          "2024-06-14",
          "2024-06-15",
          "2024-06-16",
          "2024-06-17",
          "2024-06-18",
          "2024-06-19",
          "2024-06-20",
          "2024-06-21",
          "2024-06-22",
          "2024-06-23",
          "2024-06-24",
          "2024-06-25",
          "2024-06-26",
          "2024-06-27"
         ],
         "xaxis": "x",
         "y": [
          3,
          3,
          3,
          4,
          3,
          2,
          2,
          2,
          3,
          3,
          2,
          2,
          2,
          1,
          1,
          1,
          1,
          1,
          1,
          1,
          1,
          1,
          1,
          1,
          1,
          1,
          1,
          1,
          2,
          2,
          2,
          2,
          2,
          2,
          2,
          2,
          2,
          2,
          2,
          2,
          2,
          2,
          2
         ],
         "yaxis": "y"
        },
        {
         "hovertemplate": "trackName=I Had Some Help (Feat. Morgan Wallen)<br>date=%{x}<br>position=%{y}<extra></extra>",
         "legendgroup": "I Had Some Help (Feat. Morgan Wallen)",
         "line": {
          "color": "#ab63fa",
          "dash": "solid"
         },
         "marker": {
          "symbol": "circle"
         },
         "mode": "lines",
         "name": "I Had Some Help (Feat. Morgan Wallen)",
         "showlegend": true,
         "type": "scattergl",
         "x": [
          "2024-05-16",
          "2024-05-17",
          "2024-05-18",
          "2024-05-19",
          "2024-05-20",
          "2024-05-21",
          "2024-05-22",
          "2024-05-23",
          "2024-05-24",
          "2024-05-25",
          "2024-05-26",
          "2024-05-27",
          "2024-05-28",
          "2024-05-29",
          "2024-05-30",
          "2024-05-31",
          "2024-06-01",
          "2024-06-02",
          "2024-06-03",
          "2024-06-04",
          "2024-06-05",
          "2024-06-06",
          "2024-06-07",
          "2024-06-08",
          "2024-06-09",
          "2024-06-10",
          "2024-06-11",
          "2024-06-12",
          "2024-06-13",
          "2024-06-14",
          "2024-06-15",
          "2024-06-16",
          "2024-06-17",
          "2024-06-18",
          "2024-06-19",
          "2024-06-20",
          "2024-06-21",
          "2024-06-22",
          "2024-06-23",
          "2024-06-24",
          "2024-06-25",
          "2024-06-26",
          "2024-06-27"
         ],
         "xaxis": "x",
         "y": [
          4,
          4,
          4,
          6,
          5,
          5,
          6,
          6,
          7,
          7,
          7,
          6,
          7,
          8,
          7,
          7,
          7,
          8,
          8,
          8,
          7,
          7,
          7,
          6,
          6,
          7,
          10,
          10,
          11,
          12,
          10,
          11,
          10,
          10,
          12,
          12,
          10,
          10,
          9,
          9,
          9,
          10,
          11
         ],
         "yaxis": "y"
        },
        {
         "hovertemplate": "trackName=i like the way you kiss me<br>date=%{x}<br>position=%{y}<extra></extra>",
         "legendgroup": "i like the way you kiss me",
         "line": {
          "color": "#FFA15A",
          "dash": "solid"
         },
         "marker": {
          "symbol": "circle"
         },
         "mode": "lines",
         "name": "i like the way you kiss me",
         "showlegend": true,
         "type": "scattergl",
         "x": [
          "2024-05-16",
          "2024-05-17",
          "2024-05-18",
          "2024-05-19",
          "2024-05-20",
          "2024-05-21",
          "2024-05-22",
          "2024-05-23",
          "2024-05-24",
          "2024-05-25",
          "2024-05-26",
          "2024-05-27",
          "2024-05-28",
          "2024-05-29",
          "2024-05-30",
          "2024-05-31",
          "2024-06-01",
          "2024-06-02",
          "2024-06-03",
          "2024-06-04",
          "2024-06-05",
          "2024-06-06",
          "2024-06-07",
          "2024-06-08",
          "2024-06-09",
          "2024-06-10",
          "2024-06-11",
          "2024-06-12",
          "2024-06-13",
          "2024-06-14",
          "2024-06-15",
          "2024-06-16",
          "2024-06-17",
          "2024-06-18",
          "2024-06-19",
          "2024-06-20",
          "2024-06-21",
          "2024-06-22",
          "2024-06-23",
          "2024-06-24",
          "2024-06-25",
          "2024-06-26",
          "2024-06-27"
         ],
         "xaxis": "x",
         "y": [
          5,
          5,
          5,
          9,
          8,
          9,
          9,
          10,
          11,
          12,
          12,
          12,
          12,
          12,
          10,
          9,
          11,
          11,
          12,
          11,
          10,
          10,
          10,
          10,
          12,
          12,
          12,
          12,
          13,
          14,
          14,
          12,
          12,
          14,
          13,
          13,
          14,
          13,
          13,
          13,
          13,
          13,
          13
         ],
         "yaxis": "y"
        },
        {
         "hovertemplate": "trackName=Gata Only<br>date=%{x}<br>position=%{y}<extra></extra>",
         "legendgroup": "Gata Only",
         "line": {
          "color": "#19d3f3",
          "dash": "solid"
         },
         "marker": {
          "symbol": "circle"
         },
         "mode": "lines",
         "name": "Gata Only",
         "showlegend": true,
         "type": "scattergl",
         "x": [
          "2024-05-16",
          "2024-05-17",
          "2024-05-18",
          "2024-05-19",
          "2024-05-20",
          "2024-05-21",
          "2024-05-22",
          "2024-05-23",
          "2024-05-24",
          "2024-05-25",
          "2024-05-26",
          "2024-05-27",
          "2024-05-28",
          "2024-05-29",
          "2024-05-30",
          "2024-05-31",
          "2024-06-01",
          "2024-06-02",
          "2024-06-03",
          "2024-06-04",
          "2024-06-05",
          "2024-06-06",
          "2024-06-07",
          "2024-06-08",
          "2024-06-09",
          "2024-06-10",
          "2024-06-11",
          "2024-06-12",
          "2024-06-13",
          "2024-06-14",
          "2024-06-15",
          "2024-06-16",
          "2024-06-17",
          "2024-06-18",
          "2024-06-19",
          "2024-06-20",
          "2024-06-21",
          "2024-06-22",
          "2024-06-23",
          "2024-06-24",
          "2024-06-25",
          "2024-06-26",
          "2024-06-27"
         ],
         "xaxis": "x",
         "y": [
          6,
          6,
          7,
          10,
          7,
          7,
          7,
          7,
          8,
          8,
          8,
          5,
          6,
          6,
          6,
          6,
          6,
          7,
          5,
          6,
          6,
          6,
          6,
          5,
          5,
          4,
          5,
          6,
          6,
          5,
          5,
          4,
          5,
          5,
          5,
          5,
          5,
          5,
          6,
          5,
          5,
          6,
          6
         ],
         "yaxis": "y"
        },
        {
         "hovertemplate": "trackName=Fortnight (feat. Post Malone)<br>date=%{x}<br>position=%{y}<extra></extra>",
         "legendgroup": "Fortnight (feat. Post Malone)",
         "line": {
          "color": "#FF6692",
          "dash": "solid"
         },
         "marker": {
          "symbol": "circle"
         },
         "mode": "lines",
         "name": "Fortnight (feat. Post Malone)",
         "showlegend": true,
         "type": "scattergl",
         "x": [
          "2024-05-16",
          "2024-05-17",
          "2024-05-18",
          "2024-05-19",
          "2024-05-20",
          "2024-05-21",
          "2024-05-22",
          "2024-05-23",
          "2024-05-24",
          "2024-05-25",
          "2024-05-26",
          "2024-05-27",
          "2024-05-28",
          "2024-05-29",
          "2024-05-30",
          "2024-05-31",
          "2024-06-01",
          "2024-06-02",
          "2024-06-03",
          "2024-06-04",
          "2024-06-05",
          "2024-06-06",
          "2024-06-07",
          "2024-06-08",
          "2024-06-09",
          "2024-06-10",
          "2024-06-11",
          "2024-06-12",
          "2024-06-13",
          "2024-06-14",
          "2024-06-15",
          "2024-06-16",
          "2024-06-17",
          "2024-06-18",
          "2024-06-19",
          "2024-06-20",
          "2024-06-21",
          "2024-06-22",
          "2024-06-23",
          "2024-06-24",
          "2024-06-25",
          "2024-06-26",
          "2024-06-27"
         ],
         "xaxis": "x",
         "y": [
          7,
          7,
          10,
          17,
          13,
          13,
          13,
          13,
          13,
          13,
          13,
          13,
          13,
          13,
          13,
          14,
          14,
          15,
          16,
          17,
          17,
          16,
          17,
          16,
          18,
          17,
          17,
          17,
          16,
          16,
          20,
          20,
          20,
          19,
          20,
          21,
          20,
          20,
          20,
          18,
          19,
          19,
          19
         ],
         "yaxis": "y"
        },
        {
         "hovertemplate": "trackName=A Bar Song (Tipsy)<br>date=%{x}<br>position=%{y}<extra></extra>",
         "legendgroup": "A Bar Song (Tipsy)",
         "line": {
          "color": "#B6E880",
          "dash": "solid"
         },
         "marker": {
          "symbol": "circle"
         },
         "mode": "lines",
         "name": "A Bar Song (Tipsy)",
         "showlegend": true,
         "type": "scattergl",
         "x": [
          "2024-05-16",
          "2024-05-17",
          "2024-05-18",
          "2024-05-19",
          "2024-05-20",
          "2024-05-21",
          "2024-05-22",
          "2024-05-23",
          "2024-05-24",
          "2024-05-25",
          "2024-05-26",
          "2024-05-27",
          "2024-05-28",
          "2024-05-29",
          "2024-05-30",
          "2024-05-31",
          "2024-06-01",
          "2024-06-02",
          "2024-06-03",
          "2024-06-04",
          "2024-06-05",
          "2024-06-06",
          "2024-06-07",
          "2024-06-08",
          "2024-06-09",
          "2024-06-10",
          "2024-06-11",
          "2024-06-12",
          "2024-06-13",
          "2024-06-14",
          "2024-06-15",
          "2024-06-16",
          "2024-06-17",
          "2024-06-18",
          "2024-06-19",
          "2024-06-20",
          "2024-06-21",
          "2024-06-22",
          "2024-06-23",
          "2024-06-24",
          "2024-06-25",
          "2024-06-26",
          "2024-06-27"
         ],
         "xaxis": "x",
         "y": [
          8,
          8,
          6,
          12,
          9,
          10,
          11,
          11,
          10,
          11,
          9,
          9,
          10,
          11,
          11,
          11,
          12,
          9,
          10,
          14,
          14,
          14,
          12,
          11,
          10,
          9,
          9,
          9,
          9,
          11,
          11,
          10,
          9,
          8,
          9,
          8,
          8,
          9,
          8,
          7,
          7,
          11,
          10
         ],
         "yaxis": "y"
        },
        {
         "hovertemplate": "trackName=Too Sweet<br>date=%{x}<br>position=%{y}<extra></extra>",
         "legendgroup": "Too Sweet",
         "line": {
          "color": "#FF97FF",
          "dash": "solid"
         },
         "marker": {
          "symbol": "circle"
         },
         "mode": "lines",
         "name": "Too Sweet",
         "showlegend": true,
         "type": "scattergl",
         "x": [
          "2024-05-16",
          "2024-05-17",
          "2024-05-18",
          "2024-05-19",
          "2024-05-20",
          "2024-05-21",
          "2024-05-22",
          "2024-05-23",
          "2024-05-24",
          "2024-05-25",
          "2024-05-26",
          "2024-05-27",
          "2024-05-28",
          "2024-05-29",
          "2024-05-30",
          "2024-05-31",
          "2024-06-01",
          "2024-06-02",
          "2024-06-03",
          "2024-06-04",
          "2024-06-05",
          "2024-06-06",
          "2024-06-07",
          "2024-06-08",
          "2024-06-09",
          "2024-06-10",
          "2024-06-11",
          "2024-06-12",
          "2024-06-13",
          "2024-06-14",
          "2024-06-15",
          "2024-06-16",
          "2024-06-17",
          "2024-06-18",
          "2024-06-19",
          "2024-06-20",
          "2024-06-21",
          "2024-06-22",
          "2024-06-23",
          "2024-06-24",
          "2024-06-25",
          "2024-06-26",
          "2024-06-27"
         ],
         "xaxis": "x",
         "y": [
          9,
          9,
          8,
          13,
          11,
          11,
          10,
          9,
          9,
          9,
          10,
          11,
          9,
          9,
          8,
          8,
          8,
          10,
          9,
          9,
          9,
          9,
          8,
          8,
          8,
          10,
          8,
          8,
          8,
          7,
          8,
          7,
          6,
          6,
          6,
          6,
          6,
          6,
          7,
          10,
          10,
          8,
          8
         ],
         "yaxis": "y"
        },
        {
         "hovertemplate": "trackName=Beautiful Things<br>date=%{x}<br>position=%{y}<extra></extra>",
         "legendgroup": "Beautiful Things",
         "line": {
          "color": "#FECB52",
          "dash": "solid"
         },
         "marker": {
          "symbol": "circle"
         },
         "mode": "lines",
         "name": "Beautiful Things",
         "showlegend": true,
         "type": "scattergl",
         "x": [
          "2024-05-16",
          "2024-05-17",
          "2024-05-18",
          "2024-05-19",
          "2024-05-20",
          "2024-05-21",
          "2024-05-22",
          "2024-05-23",
          "2024-05-24",
          "2024-05-25",
          "2024-05-26",
          "2024-05-27",
          "2024-05-28",
          "2024-05-29",
          "2024-05-30",
          "2024-05-31",
          "2024-06-01",
          "2024-06-02",
          "2024-06-03",
          "2024-06-04",
          "2024-06-05",
          "2024-06-06",
          "2024-06-07",
          "2024-06-08",
          "2024-06-09",
          "2024-06-10",
          "2024-06-11",
          "2024-06-12",
          "2024-06-13",
          "2024-06-14",
          "2024-06-15",
          "2024-06-16",
          "2024-06-17",
          "2024-06-18",
          "2024-06-19",
          "2024-06-20",
          "2024-06-21",
          "2024-06-22",
          "2024-06-23",
          "2024-06-24",
          "2024-06-25",
          "2024-06-26",
          "2024-06-27"
         ],
         "xaxis": "x",
         "y": [
          10,
          10,
          9,
          14,
          12,
          12,
          12,
          12,
          12,
          10,
          11,
          10,
          11,
          10,
          12,
          12,
          9,
          12,
          11,
          10,
          12,
          11,
          11,
          12,
          13,
          11,
          11,
          11,
          10,
          9,
          9,
          9,
          7,
          7,
          8,
          7,
          7,
          8,
          10,
          8,
          8,
          9,
          7
         ],
         "yaxis": "y"
        },
        {
         "hovertemplate": "trackName=we can't be friends (wait for your love)<br>date=%{x}<br>position=%{y}<extra></extra>",
         "legendgroup": "we can't be friends (wait for your love)",
         "line": {
          "color": "#636efa",
          "dash": "solid"
         },
         "marker": {
          "symbol": "circle"
         },
         "mode": "lines",
         "name": "we can't be friends (wait for your love)",
         "showlegend": true,
         "type": "scattergl",
         "x": [
          "2024-05-16",
          "2024-05-17",
          "2024-05-18",
          "2024-05-19",
          "2024-05-20",
          "2024-05-21",
          "2024-05-22",
          "2024-05-23",
          "2024-05-24",
          "2024-05-25",
          "2024-05-26",
          "2024-05-27",
          "2024-05-28",
          "2024-05-29",
          "2024-05-30",
          "2024-05-31",
          "2024-06-01",
          "2024-06-02",
          "2024-06-03",
          "2024-06-04",
          "2024-06-05",
          "2024-06-06",
          "2024-06-07",
          "2024-06-08",
          "2024-06-09",
          "2024-06-10",
          "2024-06-11",
          "2024-06-12",
          "2024-06-13",
          "2024-06-14",
          "2024-06-15",
          "2024-06-16",
          "2024-06-17",
          "2024-06-18",
          "2024-06-19",
          "2024-06-20",
          "2024-06-21",
          "2024-06-22",
          "2024-06-23",
          "2024-06-24",
          "2024-06-25",
          "2024-06-26",
          "2024-06-27"
         ],
         "xaxis": "x",
         "y": [
          11,
          11,
          11,
          20,
          16,
          14,
          14,
          14,
          14,
          14,
          14,
          14,
          14,
          14,
          14,
          13,
          13,
          16,
          15,
          15,
          15,
          15,
          16,
          17,
          21,
          20,
          18,
          19,
          19,
          19,
          21,
          19,
          18,
          17,
          21,
          18,
          17,
          16,
          18,
          17,
          18,
          18,
          20
         ],
         "yaxis": "y"
        },
        {
         "hovertemplate": "trackName=End of Beginning<br>date=%{x}<br>position=%{y}<extra></extra>",
         "legendgroup": "End of Beginning",
         "line": {
          "color": "#EF553B",
          "dash": "solid"
         },
         "marker": {
          "symbol": "circle"
         },
         "mode": "lines",
         "name": "End of Beginning",
         "showlegend": true,
         "type": "scattergl",
         "x": [
          "2024-05-16",
          "2024-05-17",
          "2024-05-18",
          "2024-05-19",
          "2024-05-20",
          "2024-05-21",
          "2024-05-22",
          "2024-05-23",
          "2024-05-24",
          "2024-05-25",
          "2024-05-26",
          "2024-05-27",
          "2024-05-28",
          "2024-05-29",
          "2024-05-30",
          "2024-05-31",
          "2024-06-01",
          "2024-06-02",
          "2024-06-03",
          "2024-06-04",
          "2024-06-05",
          "2024-06-06",
          "2024-06-07",
          "2024-06-08",
          "2024-06-09",
          "2024-06-10",
          "2024-06-11",
          "2024-06-12",
          "2024-06-13",
          "2024-06-14",
          "2024-06-15",
          "2024-06-16",
          "2024-06-17",
          "2024-06-18",
          "2024-06-19",
          "2024-06-20",
          "2024-06-21",
          "2024-06-22",
          "2024-06-23",
          "2024-06-24",
          "2024-06-25",
          "2024-06-26",
          "2024-06-27"
         ],
         "xaxis": "x",
         "y": [
          12,
          12,
          12,
          22,
          20,
          16,
          17,
          15,
          16,
          15,
          15,
          15,
          15,
          15,
          15,
          15,
          16,
          17,
          17,
          16,
          16,
          17,
          15,
          15,
          19,
          16,
          16,
          16,
          17,
          17,
          18,
          21,
          22,
          18,
          19,
          19,
          18,
          19,
          19,
          19,
          16,
          16,
          17
         ],
         "yaxis": "y"
        },
        {
         "hovertemplate": "trackName=I Can Do It With a Broken Heart<br>date=%{x}<br>position=%{y}<extra></extra>",
         "legendgroup": "I Can Do It With a Broken Heart",
         "line": {
          "color": "#00cc96",
          "dash": "solid"
         },
         "marker": {
          "symbol": "circle"
         },
         "mode": "lines",
         "name": "I Can Do It With a Broken Heart",
         "showlegend": true,
         "type": "scattergl",
         "x": [
          "2024-05-16",
          "2024-05-17",
          "2024-05-18",
          "2024-05-19",
          "2024-05-20",
          "2024-05-21",
          "2024-05-22",
          "2024-05-23",
          "2024-05-24",
          "2024-05-25",
          "2024-05-26",
          "2024-05-27",
          "2024-05-28",
          "2024-05-29",
          "2024-05-30",
          "2024-05-31",
          "2024-06-01",
          "2024-06-02",
          "2024-06-03",
          "2024-06-04",
          "2024-06-05",
          "2024-06-06",
          "2024-06-07",
          "2024-06-08",
          "2024-06-09",
          "2024-06-10",
          "2024-06-11",
          "2024-06-12",
          "2024-06-13",
          "2024-06-14",
          "2024-06-15",
          "2024-06-16",
          "2024-06-17",
          "2024-06-18",
          "2024-06-19",
          "2024-06-20",
          "2024-06-21",
          "2024-06-22",
          "2024-06-23",
          "2024-06-24",
          "2024-06-25",
          "2024-06-26",
          "2024-06-27"
         ],
         "xaxis": "x",
         "y": [
          13,
          13,
          13,
          25,
          25,
          23,
          23,
          23,
          24,
          24,
          23,
          20,
          21,
          24,
          23,
          26,
          24,
          25,
          27,
          28,
          31,
          32,
          32,
          32,
          35,
          34,
          37,
          35,
          33,
          32,
          33,
          34,
          37,
          38,
          37,
          37,
          35,
          34,
          39,
          40,
          41,
          32,
          35
         ],
         "yaxis": "y"
        },
        {
         "hovertemplate": "trackName=euphoria<br>date=%{x}<br>position=%{y}<extra></extra>",
         "legendgroup": "euphoria",
         "line": {
          "color": "#ab63fa",
          "dash": "solid"
         },
         "marker": {
          "symbol": "circle"
         },
         "mode": "lines",
         "name": "euphoria",
         "showlegend": true,
         "type": "scattergl",
         "x": [
          "2024-05-16",
          "2024-05-17",
          "2024-05-18",
          "2024-05-19",
          "2024-05-20",
          "2024-05-21",
          "2024-05-22",
          "2024-05-23",
          "2024-05-24",
          "2024-05-25",
          "2024-05-26",
          "2024-05-27",
          "2024-05-28",
          "2024-05-29",
          "2024-05-30",
          "2024-05-31",
          "2024-06-01"
         ],
         "xaxis": "x",
         "y": [
          14,
          14,
          16,
          27,
          29,
          30,
          30,
          28,
          30,
          31,
          35,
          42,
          46,
          47,
          49,
          50,
          50
         ],
         "yaxis": "y"
        },
        {
         "hovertemplate": "trackName=Lose Control<br>date=%{x}<br>position=%{y}<extra></extra>",
         "legendgroup": "Lose Control",
         "line": {
          "color": "#FFA15A",
          "dash": "solid"
         },
         "marker": {
          "symbol": "circle"
         },
         "mode": "lines",
         "name": "Lose Control",
         "showlegend": true,
         "type": "scattergl",
         "x": [
          "2024-05-16",
          "2024-05-17",
          "2024-05-18",
          "2024-05-19",
          "2024-05-20",
          "2024-05-21",
          "2024-05-22",
          "2024-05-23",
          "2024-05-24",
          "2024-05-25",
          "2024-05-26",
          "2024-05-27",
          "2024-05-28",
          "2024-05-29",
          "2024-05-30",
          "2024-05-31",
          "2024-06-01",
          "2024-06-02",
          "2024-06-03",
          "2024-06-04",
          "2024-06-05",
          "2024-06-06",
          "2024-06-07",
          "2024-06-08",
          "2024-06-09",
          "2024-06-10",
          "2024-06-11",
          "2024-06-12",
          "2024-06-13",
          "2024-06-14",
          "2024-06-15",
          "2024-06-16",
          "2024-06-17",
          "2024-06-18",
          "2024-06-19",
          "2024-06-20",
          "2024-06-21",
          "2024-06-22",
          "2024-06-23",
          "2024-06-24",
          "2024-06-25",
          "2024-06-26",
          "2024-06-27"
         ],
         "xaxis": "x",
         "y": [
          15,
          15,
          14,
          23,
          21,
          21,
          21,
          21,
          20,
          17,
          16,
          16,
          16,
          16,
          17,
          17,
          17,
          18,
          18,
          18,
          19,
          19,
          19,
          19,
          20,
          19,
          19,
          20,
          20,
          20,
          19,
          18,
          15,
          16,
          17,
          16,
          19,
          17,
          16,
          16,
          17,
          20,
          18
         ],
         "yaxis": "y"
        },
        {
         "hovertemplate": "trackName=Like That<br>date=%{x}<br>position=%{y}<extra></extra>",
         "legendgroup": "Like That",
         "line": {
          "color": "#19d3f3",
          "dash": "solid"
         },
         "marker": {
          "symbol": "circle"
         },
         "mode": "lines",
         "name": "Like That",
         "showlegend": true,
         "type": "scattergl",
         "x": [
          "2024-05-16",
          "2024-05-17",
          "2024-05-18",
          "2024-05-19",
          "2024-05-20",
          "2024-05-21",
          "2024-05-22",
          "2024-05-23",
          "2024-05-24",
          "2024-05-25",
          "2024-05-26",
          "2024-05-27",
          "2024-05-28",
          "2024-05-29",
          "2024-05-30",
          "2024-05-31",
          "2024-06-01",
          "2024-06-02",
          "2024-06-03",
          "2024-06-04",
          "2024-06-05",
          "2024-06-06",
          "2024-06-07",
          "2024-06-08",
          "2024-06-09",
          "2024-06-10",
          "2024-06-11",
          "2024-06-12",
          "2024-06-13",
          "2024-06-14",
          "2024-06-15",
          "2024-06-22",
          "2024-06-23",
          "2024-06-24",
          "2024-06-25",
          "2024-06-26",
          "2024-06-27"
         ],
         "xaxis": "x",
         "y": [
          16,
          16,
          15,
          26,
          26,
          27,
          26,
          25,
          25,
          25,
          24,
          22,
          23,
          25,
          24,
          24,
          27,
          29,
          33,
          34,
          33,
          33,
          35,
          35,
          37,
          37,
          43,
          41,
          39,
          42,
          46,
          42,
          38,
          36,
          39,
          38,
          40
         ],
         "yaxis": "y"
        },
        {
         "hovertemplate": "trackName=Santa<br>date=%{x}<br>position=%{y}<extra></extra>",
         "legendgroup": "Santa",
         "line": {
          "color": "#FF6692",
          "dash": "solid"
         },
         "marker": {
          "symbol": "circle"
         },
         "mode": "lines",
         "name": "Santa",
         "showlegend": true,
         "type": "scattergl",
         "x": [
          "2024-05-16",
          "2024-05-17",
          "2024-05-18",
          "2024-05-19",
          "2024-05-20",
          "2024-05-21",
          "2024-05-22",
          "2024-05-23",
          "2024-05-24",
          "2024-05-25",
          "2024-05-26",
          "2024-05-27",
          "2024-05-28",
          "2024-05-29",
          "2024-05-30",
          "2024-05-31",
          "2024-06-01",
          "2024-06-02",
          "2024-06-03",
          "2024-06-04",
          "2024-06-05",
          "2024-06-06",
          "2024-06-07",
          "2024-06-08",
          "2024-06-09",
          "2024-06-10",
          "2024-06-11",
          "2024-06-12",
          "2024-06-13",
          "2024-06-14",
          "2024-06-15",
          "2024-06-16",
          "2024-06-17",
          "2024-06-18",
          "2024-06-19",
          "2024-06-20",
          "2024-06-21",
          "2024-06-22",
          "2024-06-23",
          "2024-06-24",
          "2024-06-25",
          "2024-06-26",
          "2024-06-27"
         ],
         "xaxis": "x",
         "y": [
          17,
          17,
          17,
          24,
          22,
          22,
          22,
          22,
          15,
          19,
          31,
          28,
          42,
          45,
          39,
          21,
          21,
          22,
          20,
          24,
          25,
          26,
          24,
          21,
          23,
          22,
          24,
          22,
          23,
          23,
          23,
          23,
          24,
          25,
          26,
          26,
          28,
          28,
          29,
          25,
          28,
          28,
          28
         ],
         "yaxis": "y"
        },
        {
         "hovertemplate": "trackName=Belong Together<br>date=%{x}<br>position=%{y}<extra></extra>",
         "legendgroup": "Belong Together",
         "line": {
          "color": "#B6E880",
          "dash": "solid"
         },
         "marker": {
          "symbol": "circle"
         },
         "mode": "lines",
         "name": "Belong Together",
         "showlegend": true,
         "type": "scattergl",
         "x": [
          "2024-05-16",
          "2024-05-17",
          "2024-05-18",
          "2024-05-19",
          "2024-05-20",
          "2024-05-21",
          "2024-05-22",
          "2024-05-23",
          "2024-05-24",
          "2024-05-25",
          "2024-05-26",
          "2024-05-27",
          "2024-05-28",
          "2024-05-29",
          "2024-05-30",
          "2024-05-31",
          "2024-06-01",
          "2024-06-02",
          "2024-06-03",
          "2024-06-04",
          "2024-06-05",
          "2024-06-06",
          "2024-06-07",
          "2024-06-08",
          "2024-06-09",
          "2024-06-10",
          "2024-06-11",
          "2024-06-12",
          "2024-06-13",
          "2024-06-14",
          "2024-06-15",
          "2024-06-16",
          "2024-06-17",
          "2024-06-18",
          "2024-06-19",
          "2024-06-20",
          "2024-06-21",
          "2024-06-22",
          "2024-06-23",
          "2024-06-24",
          "2024-06-25",
          "2024-06-26",
          "2024-06-27"
         ],
         "xaxis": "x",
         "y": [
          18,
          18,
          18,
          28,
          35,
          36,
          32,
          32,
          31,
          30,
          32,
          30,
          35,
          28,
          25,
          25,
          31,
          28,
          31,
          32,
          30,
          28,
          28,
          28,
          31,
          31,
          33,
          32,
          32,
          33,
          32,
          31,
          32,
          35,
          31,
          31,
          29,
          30,
          32,
          30,
          31,
          34,
          31
         ],
         "yaxis": "y"
        },
        {
         "hovertemplate": "trackName=One Of The Girls (with JENNIE, Lily Rose Depp)<br>date=%{x}<br>position=%{y}<extra></extra>",
         "legendgroup": "One Of The Girls (with JENNIE, Lily Rose Depp)",
         "line": {
          "color": "#FF97FF",
          "dash": "solid"
         },
         "marker": {
          "symbol": "circle"
         },
         "mode": "lines",
         "name": "One Of The Girls (with JENNIE, Lily Rose Depp)",
         "showlegend": true,
         "type": "scattergl",
         "x": [
          "2024-05-16",
          "2024-05-17",
          "2024-05-18",
          "2024-05-19",
          "2024-05-20",
          "2024-05-21",
          "2024-05-22",
          "2024-05-23",
          "2024-05-24",
          "2024-05-25",
          "2024-05-26",
          "2024-05-27",
          "2024-05-28",
          "2024-05-29",
          "2024-05-30",
          "2024-05-31",
          "2024-06-01",
          "2024-06-02",
          "2024-06-03",
          "2024-06-04",
          "2024-06-05",
          "2024-06-06",
          "2024-06-07",
          "2024-06-08",
          "2024-06-09",
          "2024-06-10",
          "2024-06-11",
          "2024-06-12",
          "2024-06-13",
          "2024-06-14",
          "2024-06-15",
          "2024-06-16",
          "2024-06-17",
          "2024-06-18",
          "2024-06-19",
          "2024-06-20",
          "2024-06-21",
          "2024-06-22",
          "2024-06-23",
          "2024-06-24",
          "2024-06-25",
          "2024-06-26",
          "2024-06-27"
         ],
         "xaxis": "x",
         "y": [
          19,
          19,
          19,
          29,
          27,
          25,
          25,
          24,
          23,
          22,
          20,
          17,
          17,
          18,
          19,
          19,
          19,
          21,
          21,
          20,
          20,
          20,
          20,
          22,
          27,
          27,
          22,
          25,
          25,
          24,
          24,
          25,
          25,
          24,
          23,
          23,
          24,
          25,
          28,
          29,
          26,
          26,
          26
         ],
         "yaxis": "y"
        },
        {
         "hovertemplate": "trackName=Saturn<br>date=%{x}<br>position=%{y}<extra></extra>",
         "legendgroup": "Saturn",
         "line": {
          "color": "#FECB52",
          "dash": "solid"
         },
         "marker": {
          "symbol": "circle"
         },
         "mode": "lines",
         "name": "Saturn",
         "showlegend": true,
         "type": "scattergl",
         "x": [
          "2024-05-16",
          "2024-05-17",
          "2024-05-18",
          "2024-05-19",
          "2024-05-20",
          "2024-05-21",
          "2024-05-22",
          "2024-05-23",
          "2024-05-24",
          "2024-05-25",
          "2024-05-26",
          "2024-05-27",
          "2024-05-28",
          "2024-05-29",
          "2024-05-30",
          "2024-05-31",
          "2024-06-01",
          "2024-06-02",
          "2024-06-03",
          "2024-06-04",
          "2024-06-05",
          "2024-06-06",
          "2024-06-07",
          "2024-06-08",
          "2024-06-09",
          "2024-06-10",
          "2024-06-11",
          "2024-06-12",
          "2024-06-13",
          "2024-06-14",
          "2024-06-15",
          "2024-06-16",
          "2024-06-17",
          "2024-06-18",
          "2024-06-19",
          "2024-06-20",
          "2024-06-21",
          "2024-06-22",
          "2024-06-24",
          "2024-06-25",
          "2024-06-26",
          "2024-06-27"
         ],
         "xaxis": "x",
         "y": [
          20,
          20,
          20,
          32,
          31,
          29,
          28,
          26,
          26,
          27,
          36,
          29,
          29,
          29,
          29,
          31,
          36,
          39,
          37,
          36,
          39,
          40,
          40,
          41,
          46,
          45,
          41,
          42,
          41,
          46,
          45,
          41,
          39,
          43,
          44,
          39,
          37,
          45,
          48,
          46,
          48,
          47
         ],
         "yaxis": "y"
        },
        {
         "hovertemplate": "trackName=Down Bad<br>date=%{x}<br>position=%{y}<extra></extra>",
         "legendgroup": "Down Bad",
         "line": {
          "color": "#636efa",
          "dash": "solid"
         },
         "marker": {
          "symbol": "circle"
         },
         "mode": "lines",
         "name": "Down Bad",
         "showlegend": true,
         "type": "scattergl",
         "x": [
          "2024-05-16",
          "2024-05-17",
          "2024-05-18",
          "2024-05-19",
          "2024-05-20",
          "2024-05-21",
          "2024-05-22",
          "2024-05-23",
          "2024-05-24",
          "2024-05-25",
          "2024-05-26"
         ],
         "xaxis": "x",
         "y": [
          21,
          21,
          22,
          36,
          40,
          40,
          37,
          37,
          41,
          44,
          50
         ],
         "yaxis": "y"
        },
        {
         "hovertemplate": "trackName=Cruel Summer<br>date=%{x}<br>position=%{y}<extra></extra>",
         "legendgroup": "Cruel Summer",
         "line": {
          "color": "#EF553B",
          "dash": "solid"
         },
         "marker": {
          "symbol": "circle"
         },
         "mode": "lines",
         "name": "Cruel Summer",
         "showlegend": true,
         "type": "scattergl",
         "x": [
          "2024-05-16",
          "2024-05-17",
          "2024-05-18",
          "2024-05-19",
          "2024-05-20",
          "2024-05-21",
          "2024-05-22",
          "2024-05-23",
          "2024-05-24",
          "2024-05-25",
          "2024-05-26",
          "2024-05-27",
          "2024-05-28",
          "2024-05-29",
          "2024-05-30",
          "2024-05-31",
          "2024-06-01",
          "2024-06-02",
          "2024-06-03",
          "2024-06-04",
          "2024-06-05",
          "2024-06-06",
          "2024-06-07",
          "2024-06-08",
          "2024-06-09",
          "2024-06-10",
          "2024-06-11",
          "2024-06-12",
          "2024-06-13",
          "2024-06-14",
          "2024-06-15",
          "2024-06-16",
          "2024-06-17",
          "2024-06-18",
          "2024-06-19",
          "2024-06-20",
          "2024-06-21",
          "2024-06-22",
          "2024-06-23",
          "2024-06-24",
          "2024-06-25",
          "2024-06-26",
          "2024-06-27"
         ],
         "xaxis": "x",
         "y": [
          22,
          22,
          21,
          30,
          28,
          26,
          29,
          29,
          27,
          26,
          25,
          21,
          20,
          21,
          22,
          22,
          22,
          24,
          22,
          23,
          24,
          24,
          23,
          24,
          26,
          23,
          26,
          26,
          24,
          27,
          25,
          24,
          23,
          23,
          24,
          24,
          23,
          22,
          23,
          21,
          21,
          23,
          23
         ],
         "yaxis": "y"
        },
        {
         "hovertemplate": "trackName=Europapa<br>date=%{x}<br>position=%{y}<extra></extra>",
         "legendgroup": "Europapa",
         "line": {
          "color": "#00cc96",
          "dash": "solid"
         },
         "marker": {
          "symbol": "circle"
         },
         "mode": "lines",
         "name": "Europapa",
         "showlegend": true,
         "type": "scattergl",
         "x": [
          "2024-05-16",
          "2024-05-17",
          "2024-05-18",
          "2024-05-19",
          "2024-05-20",
          "2024-05-21"
         ],
         "xaxis": "x",
         "y": [
          23,
          23,
          29,
          41,
          42,
          50
         ],
         "yaxis": "y"
        },
        {
         "hovertemplate": "trackName=As It Was<br>date=%{x}<br>position=%{y}<extra></extra>",
         "legendgroup": "As It Was",
         "line": {
          "color": "#ab63fa",
          "dash": "solid"
         },
         "marker": {
          "symbol": "circle"
         },
         "mode": "lines",
         "name": "As It Was",
         "showlegend": true,
         "type": "scattergl",
         "x": [
          "2024-05-16",
          "2024-05-17",
          "2024-05-18",
          "2024-05-19",
          "2024-05-20",
          "2024-05-21",
          "2024-05-22",
          "2024-05-23",
          "2024-05-24",
          "2024-05-25",
          "2024-05-26",
          "2024-05-27",
          "2024-05-28",
          "2024-05-29",
          "2024-05-30",
          "2024-05-31",
          "2024-06-01",
          "2024-06-02",
          "2024-06-03",
          "2024-06-04",
          "2024-06-05",
          "2024-06-06",
          "2024-06-07",
          "2024-06-08",
          "2024-06-09",
          "2024-06-10",
          "2024-06-11",
          "2024-06-12",
          "2024-06-13",
          "2024-06-14",
          "2024-06-15",
          "2024-06-16",
          "2024-06-17",
          "2024-06-18",
          "2024-06-19",
          "2024-06-20",
          "2024-06-21",
          "2024-06-22",
          "2024-06-23",
          "2024-06-24",
          "2024-06-25",
          "2024-06-26",
          "2024-06-27"
         ],
         "xaxis": "x",
         "y": [
          24,
          24,
          24,
          33,
          32,
          32,
          31,
          31,
          34,
          34,
          33,
          24,
          22,
          23,
          26,
          29,
          23,
          27,
          28,
          27,
          26,
          25,
          27,
          27,
          30,
          30,
          29,
          30,
          31,
          34,
          31,
          29,
          26,
          27,
          25,
          25,
          25,
          24,
          24,
          23,
          24,
          25,
          24
         ],
         "yaxis": "y"
        },
        {
         "hovertemplate": "trackName=Madonna<br>date=%{x}<br>position=%{y}<extra></extra>",
         "legendgroup": "Madonna",
         "line": {
          "color": "#FFA15A",
          "dash": "solid"
         },
         "marker": {
          "symbol": "circle"
         },
         "mode": "lines",
         "name": "Madonna",
         "showlegend": true,
         "type": "scattergl",
         "x": [
          "2024-05-16",
          "2024-05-17",
          "2024-05-18",
          "2024-05-19",
          "2024-05-20",
          "2024-05-21",
          "2024-05-22",
          "2024-05-23",
          "2024-05-24",
          "2024-05-25",
          "2024-05-26",
          "2024-05-27",
          "2024-05-28",
          "2024-05-29",
          "2024-05-30",
          "2024-05-31",
          "2024-06-01",
          "2024-06-02",
          "2024-06-03",
          "2024-06-04"
         ],
         "xaxis": "x",
         "y": [
          25,
          25,
          23,
          31,
          30,
          31,
          34,
          34,
          38,
          40,
          40,
          25,
          25,
          44,
          42,
          40,
          32,
          30,
          39,
          41
         ],
         "yaxis": "y"
        },
        {
         "hovertemplate": "trackName=Austin<br>date=%{x}<br>position=%{y}<extra></extra>",
         "legendgroup": "Austin",
         "line": {
          "color": "#19d3f3",
          "dash": "solid"
         },
         "marker": {
          "symbol": "circle"
         },
         "mode": "lines",
         "name": "Austin",
         "showlegend": true,
         "type": "scattergl",
         "x": [
          "2024-05-16",
          "2024-05-17",
          "2024-05-18",
          "2024-05-19",
          "2024-05-20",
          "2024-05-21",
          "2024-05-22",
          "2024-05-23",
          "2024-05-24",
          "2024-05-25",
          "2024-05-26",
          "2024-05-27",
          "2024-05-28",
          "2024-05-29",
          "2024-05-30",
          "2024-05-31"
         ],
         "xaxis": "x",
         "y": [
          26,
          26,
          25,
          34,
          34,
          34,
          33,
          33,
          33,
          32,
          29,
          23,
          28,
          27,
          27,
          28
         ],
         "yaxis": "y"
        },
        {
         "hovertemplate": "trackName=greedy<br>date=%{x}<br>position=%{y}<extra></extra>",
         "legendgroup": "greedy",
         "line": {
          "color": "#FF6692",
          "dash": "solid"
         },
         "marker": {
          "symbol": "circle"
         },
         "mode": "lines",
         "name": "greedy",
         "showlegend": true,
         "type": "scattergl",
         "x": [
          "2024-05-16",
          "2024-05-17",
          "2024-05-18",
          "2024-05-19",
          "2024-05-20",
          "2024-05-21",
          "2024-05-22",
          "2024-05-23",
          "2024-05-24",
          "2024-05-25",
          "2024-05-26",
          "2024-05-27",
          "2024-05-28",
          "2024-05-29",
          "2024-05-30",
          "2024-05-31",
          "2024-06-01",
          "2024-06-02",
          "2024-06-03",
          "2024-06-04",
          "2024-06-05",
          "2024-06-06",
          "2024-06-07",
          "2024-06-08",
          "2024-06-10",
          "2024-06-11",
          "2024-06-12",
          "2024-06-13",
          "2024-06-14",
          "2024-06-15",
          "2024-06-16",
          "2024-06-17",
          "2024-06-18",
          "2024-06-19",
          "2024-06-20",
          "2024-06-21",
          "2024-06-22"
         ],
         "xaxis": "x",
         "y": [
          27,
          27,
          26,
          37,
          38,
          37,
          36,
          35,
          36,
          36,
          43,
          41,
          43,
          37,
          43,
          41,
          39,
          42,
          43,
          43,
          43,
          43,
          42,
          42,
          49,
          50,
          47,
          46,
          44,
          47,
          42,
          43,
          50,
          48,
          47,
          47,
          47
         ],
         "yaxis": "y"
        },
        {
         "hovertemplate": "trackName=Slow It Down<br>date=%{x}<br>position=%{y}<extra></extra>",
         "legendgroup": "Slow It Down",
         "line": {
          "color": "#B6E880",
          "dash": "solid"
         },
         "marker": {
          "symbol": "circle"
         },
         "mode": "lines",
         "name": "Slow It Down",
         "showlegend": true,
         "type": "scattergl",
         "x": [
          "2024-05-16",
          "2024-05-17",
          "2024-05-18",
          "2024-05-19",
          "2024-05-20",
          "2024-05-21",
          "2024-05-22",
          "2024-05-23",
          "2024-05-24",
          "2024-05-25",
          "2024-05-26",
          "2024-05-27",
          "2024-05-28",
          "2024-05-29",
          "2024-05-30",
          "2024-05-31",
          "2024-06-01",
          "2024-06-02",
          "2024-06-03",
          "2024-06-04",
          "2024-06-05",
          "2024-06-06",
          "2024-06-07",
          "2024-06-08",
          "2024-06-09",
          "2024-06-10",
          "2024-06-11",
          "2024-06-12",
          "2024-06-13",
          "2024-06-14",
          "2024-06-15",
          "2024-06-16",
          "2024-06-17",
          "2024-06-18",
          "2024-06-19",
          "2024-06-20",
          "2024-06-21",
          "2024-06-22",
          "2024-06-23",
          "2024-06-24",
          "2024-06-25",
          "2024-06-26",
          "2024-06-27"
         ],
         "xaxis": "x",
         "y": [
          28,
          28,
          30,
          42,
          46,
          47,
          45,
          43,
          37,
          37,
          39,
          40,
          44,
          36,
          31,
          30,
          30,
          35,
          34,
          38,
          35,
          34,
          34,
          34,
          33,
          32,
          35,
          31,
          30,
          29,
          28,
          26,
          28,
          29,
          27,
          27,
          26,
          27,
          34,
          35,
          44,
          40,
          41
         ],
         "yaxis": "y"
        },
        {
         "hovertemplate": "trackName=FE!N (feat. Playboi Carti)<br>date=%{x}<br>position=%{y}<extra></extra>",
         "legendgroup": "FE!N (feat. Playboi Carti)",
         "line": {
          "color": "#FF97FF",
          "dash": "solid"
         },
         "marker": {
          "symbol": "circle"
         },
         "mode": "lines",
         "name": "FE!N (feat. Playboi Carti)",
         "showlegend": true,
         "type": "scattergl",
         "x": [
          "2024-05-16",
          "2024-05-17",
          "2024-05-18",
          "2024-05-19",
          "2024-05-20",
          "2024-05-21",
          "2024-05-22",
          "2024-05-23",
          "2024-05-24",
          "2024-05-25",
          "2024-05-26",
          "2024-05-27",
          "2024-05-28",
          "2024-05-29",
          "2024-05-30",
          "2024-05-31",
          "2024-06-01",
          "2024-06-02",
          "2024-06-03",
          "2024-06-04",
          "2024-06-05",
          "2024-06-06",
          "2024-06-07",
          "2024-06-08",
          "2024-06-09",
          "2024-06-12",
          "2024-06-13",
          "2024-06-14",
          "2024-06-17",
          "2024-06-18",
          "2024-06-19",
          "2024-06-20",
          "2024-06-21",
          "2024-06-22",
          "2024-06-24"
         ],
         "xaxis": "x",
         "y": [
          29,
          29,
          27,
          39,
          37,
          41,
          39,
          38,
          40,
          39,
          37,
          39,
          38,
          39,
          34,
          32,
          35,
          36,
          47,
          48,
          44,
          44,
          43,
          43,
          49,
          49,
          49,
          47,
          48,
          49,
          46,
          48,
          48,
          46,
          50
         ],
         "yaxis": "y"
        },
        {
         "hovertemplate": "trackName=Magnetic<br>date=%{x}<br>position=%{y}<extra></extra>",
         "legendgroup": "Magnetic",
         "line": {
          "color": "#FECB52",
          "dash": "solid"
         },
         "marker": {
          "symbol": "circle"
         },
         "mode": "lines",
         "name": "Magnetic",
         "showlegend": true,
         "type": "scattergl",
         "x": [
          "2024-05-16",
          "2024-05-17",
          "2024-05-18",
          "2024-05-19",
          "2024-05-20",
          "2024-05-21",
          "2024-05-22",
          "2024-05-23",
          "2024-05-24",
          "2024-05-25",
          "2024-05-27",
          "2024-05-28",
          "2024-05-29",
          "2024-05-30",
          "2024-05-31",
          "2024-06-01",
          "2024-06-02",
          "2024-06-03",
          "2024-06-04",
          "2024-06-05",
          "2024-06-06",
          "2024-06-07",
          "2024-06-08",
          "2024-06-10",
          "2024-06-11",
          "2024-06-12",
          "2024-06-13",
          "2024-06-18",
          "2024-06-20"
         ],
         "xaxis": "x",
         "y": [
          30,
          30,
          31,
          46,
          41,
          35,
          40,
          42,
          44,
          47,
          44,
          39,
          42,
          46,
          44,
          42,
          43,
          40,
          37,
          41,
          42,
          44,
          46,
          50,
          46,
          48,
          50,
          48,
          49
         ],
         "yaxis": "y"
        },
        {
         "hovertemplate": "trackName=Whoâs Afraid of Little Old Me?<br>date=%{x}<br>position=%{y}<extra></extra>",
         "legendgroup": "Whoâs Afraid of Little Old Me?",
         "line": {
          "color": "#636efa",
          "dash": "solid"
         },
         "marker": {
          "symbol": "circle"
         },
         "mode": "lines",
         "name": "Whoâs Afraid of Little Old Me?",
         "showlegend": true,
         "type": "scattergl",
         "x": [
          "2024-05-16",
          "2024-05-17",
          "2024-05-18",
          "2024-05-19",
          "2024-05-20",
          "2024-05-23"
         ],
         "xaxis": "x",
         "y": [
          31,
          31,
          36,
          48,
          50,
          50
         ],
         "yaxis": "y"
        },
        {
         "hovertemplate": "trackName=LUNA<br>date=%{x}<br>position=%{y}<extra></extra>",
         "legendgroup": "LUNA",
         "line": {
          "color": "#EF553B",
          "dash": "solid"
         },
         "marker": {
          "symbol": "circle"
         },
         "mode": "lines",
         "name": "LUNA",
         "showlegend": true,
         "type": "scattergl",
         "x": [
          "2024-05-16",
          "2024-05-17",
          "2024-05-18",
          "2024-05-19",
          "2024-05-20",
          "2024-05-21",
          "2024-05-22",
          "2024-05-23",
          "2024-05-24",
          "2024-05-25",
          "2024-05-26",
          "2024-05-27",
          "2024-05-28",
          "2024-05-29",
          "2024-05-30",
          "2024-05-31",
          "2024-06-01",
          "2024-06-02",
          "2024-06-03",
          "2024-06-04",
          "2024-06-05",
          "2024-06-06",
          "2024-06-07",
          "2024-06-08",
          "2024-06-09",
          "2024-06-10",
          "2024-06-11",
          "2024-06-12",
          "2024-06-13",
          "2024-06-14",
          "2024-06-15",
          "2024-06-16",
          "2024-06-17",
          "2024-06-18",
          "2024-06-19",
          "2024-06-20",
          "2024-06-21",
          "2024-06-22",
          "2024-06-23",
          "2024-06-24",
          "2024-06-25",
          "2024-06-26",
          "2024-06-27"
         ],
         "xaxis": "x",
         "y": [
          32,
          32,
          28,
          35,
          33,
          38,
          41,
          39,
          35,
          33,
          34,
          32,
          32,
          35,
          35,
          35,
          34,
          31,
          26,
          31,
          34,
          31,
          29,
          29,
          29,
          29,
          31,
          33,
          34,
          35,
          30,
          32,
          33,
          32,
          36,
          36,
          31,
          31,
          30,
          27,
          29,
          29,
          29
         ],
         "yaxis": "y"
        },
        {
         "hovertemplate": "trackName=Good Luck, Babe!<br>date=%{x}<br>position=%{y}<extra></extra>",
         "legendgroup": "Good Luck, Babe!",
         "line": {
          "color": "#00cc96",
          "dash": "solid"
         },
         "marker": {
          "symbol": "circle"
         },
         "mode": "lines",
         "name": "Good Luck, Babe!",
         "showlegend": true,
         "type": "scattergl",
         "x": [
          "2024-05-16",
          "2024-05-17",
          "2024-05-18",
          "2024-05-19",
          "2024-05-20",
          "2024-05-21",
          "2024-05-22",
          "2024-05-23",
          "2024-05-24",
          "2024-05-25",
          "2024-05-26",
          "2024-05-27",
          "2024-05-28",
          "2024-05-29",
          "2024-05-30",
          "2024-05-31",
          "2024-06-01",
          "2024-06-02",
          "2024-06-03",
          "2024-06-04",
          "2024-06-05",
          "2024-06-06",
          "2024-06-07",
          "2024-06-08",
          "2024-06-09",
          "2024-06-10",
          "2024-06-11",
          "2024-06-12",
          "2024-06-13",
          "2024-06-14",
          "2024-06-15",
          "2024-06-16",
          "2024-06-17",
          "2024-06-18",
          "2024-06-19",
          "2024-06-20",
          "2024-06-21",
          "2024-06-22",
          "2024-06-23",
          "2024-06-24",
          "2024-06-25",
          "2024-06-26",
          "2024-06-27"
         ],
         "xaxis": "x",
         "y": [
          33,
          33,
          34,
          45,
          45,
          42,
          35,
          36,
          39,
          38,
          41,
          43,
          41,
          40,
          32,
          33,
          29,
          33,
          30,
          26,
          21,
          21,
          21,
          20,
          24,
          26,
          25,
          21,
          22,
          22,
          22,
          22,
          21,
          21,
          22,
          20,
          15,
          15,
          11,
          11,
          11,
          7,
          9
         ],
         "yaxis": "y"
        },
        {
         "hovertemplate": "trackName=Sweater Weather<br>date=%{x}<br>position=%{y}<extra></extra>",
         "legendgroup": "Sweater Weather",
         "line": {
          "color": "#ab63fa",
          "dash": "solid"
         },
         "marker": {
          "symbol": "circle"
         },
         "mode": "lines",
         "name": "Sweater Weather",
         "showlegend": true,
         "type": "scattergl",
         "x": [
          "2024-05-16",
          "2024-05-17",
          "2024-05-18",
          "2024-05-19",
          "2024-05-20",
          "2024-05-21",
          "2024-05-22",
          "2024-05-23",
          "2024-05-24",
          "2024-05-25",
          "2024-05-26",
          "2024-05-27",
          "2024-05-28",
          "2024-05-29",
          "2024-05-30",
          "2024-05-31",
          "2024-06-01",
          "2024-06-02",
          "2024-06-03",
          "2024-06-04",
          "2024-06-05",
          "2024-06-06",
          "2024-06-07",
          "2024-06-08",
          "2024-06-09",
          "2024-06-10",
          "2024-06-11",
          "2024-06-12",
          "2024-06-13",
          "2024-06-14",
          "2024-06-15",
          "2024-06-16",
          "2024-06-17",
          "2024-06-18",
          "2024-06-19",
          "2024-06-20",
          "2024-06-21",
          "2024-06-22",
          "2024-06-23",
          "2024-06-24",
          "2024-06-25",
          "2024-06-26",
          "2024-06-27"
         ],
         "xaxis": "x",
         "y": [
          34,
          34,
          37,
          44,
          48,
          45,
          43,
          46,
          48,
          43,
          45,
          46,
          31,
          33,
          38,
          38,
          33,
          34,
          32,
          30,
          32,
          35,
          36,
          36,
          40,
          38,
          36,
          39,
          38,
          36,
          36,
          33,
          36,
          31,
          28,
          30,
          30,
          29,
          33,
          31,
          30,
          30,
          30
         ],
         "yaxis": "y"
        },
        {
         "hovertemplate": "trackName=I Wanna Be Yours<br>date=%{x}<br>position=%{y}<extra></extra>",
         "legendgroup": "I Wanna Be Yours",
         "line": {
          "color": "#FFA15A",
          "dash": "solid"
         },
         "marker": {
          "symbol": "circle"
         },
         "mode": "lines",
         "name": "I Wanna Be Yours",
         "showlegend": true,
         "type": "scattergl",
         "x": [
          "2024-05-16",
          "2024-05-17",
          "2024-05-18",
          "2024-05-19",
          "2024-05-20",
          "2024-05-21",
          "2024-05-22",
          "2024-05-23",
          "2024-05-24",
          "2024-05-25",
          "2024-05-26",
          "2024-05-27",
          "2024-05-28",
          "2024-05-29",
          "2024-05-30",
          "2024-05-31",
          "2024-06-01",
          "2024-06-02",
          "2024-06-03",
          "2024-06-04",
          "2024-06-05",
          "2024-06-06",
          "2024-06-07",
          "2024-06-08",
          "2024-06-09",
          "2024-06-10",
          "2024-06-11",
          "2024-06-12",
          "2024-06-13",
          "2024-06-14",
          "2024-06-15",
          "2024-06-16",
          "2024-06-17",
          "2024-06-18",
          "2024-06-19",
          "2024-06-20",
          "2024-06-21",
          "2024-06-22",
          "2024-06-23",
          "2024-06-24",
          "2024-06-25",
          "2024-06-26",
          "2024-06-27"
         ],
         "xaxis": "x",
         "y": [
          35,
          35,
          33,
          47,
          44,
          33,
          38,
          40,
          43,
          42,
          47,
          47,
          36,
          32,
          33,
          37,
          40,
          41,
          38,
          35,
          37,
          38,
          37,
          38,
          44,
          46,
          38,
          43,
          42,
          40,
          40,
          39,
          38,
          36,
          33,
          34,
          36,
          36,
          40,
          38,
          33,
          31,
          33
         ],
         "yaxis": "y"
        },
        {
         "hovertemplate": "trackName=Guilty as Sin?<br>date=%{x}<br>position=%{y}<extra></extra>",
         "legendgroup": "Guilty as Sin?",
         "line": {
          "color": "#19d3f3",
          "dash": "solid"
         },
         "marker": {
          "symbol": "circle"
         },
         "mode": "lines",
         "name": "Guilty as Sin?",
         "showlegend": true,
         "type": "scattergl",
         "x": [
          "2024-05-16",
          "2024-05-17",
          "2024-05-18",
          "2024-05-22",
          "2024-05-23",
          "2024-05-25"
         ],
         "xaxis": "x",
         "y": [
          36,
          36,
          39,
          48,
          47,
          50
         ],
         "yaxis": "y"
        },
        {
         "hovertemplate": "trackName=Pedro<br>date=%{x}<br>position=%{y}<extra></extra>",
         "legendgroup": "Pedro",
         "line": {
          "color": "#FF6692",
          "dash": "solid"
         },
         "marker": {
          "symbol": "circle"
         },
         "mode": "lines",
         "name": "Pedro",
         "showlegend": true,
         "type": "scattergl",
         "x": [
          "2024-05-16",
          "2024-05-17",
          "2024-05-18",
          "2024-05-19",
          "2024-05-20",
          "2024-05-21",
          "2024-05-22",
          "2024-05-25",
          "2024-05-26",
          "2024-05-27",
          "2024-05-28",
          "2024-06-02",
          "2024-06-03",
          "2024-06-08",
          "2024-06-09",
          "2024-06-10"
         ],
         "xaxis": "x",
         "y": [
          37,
          37,
          32,
          38,
          36,
          44,
          50,
          49,
          49,
          35,
          49,
          44,
          42,
          48,
          47,
          39
         ],
         "yaxis": "y"
        },
        {
         "hovertemplate": "trackName=Stick Season<br>date=%{x}<br>position=%{y}<extra></extra>",
         "legendgroup": "Stick Season",
         "line": {
          "color": "#B6E880",
          "dash": "solid"
         },
         "marker": {
          "symbol": "circle"
         },
         "mode": "lines",
         "name": "Stick Season",
         "showlegend": true,
         "type": "scattergl",
         "x": [
          "2024-05-16",
          "2024-05-17",
          "2024-05-18",
          "2024-05-19",
          "2024-05-20",
          "2024-05-21",
          "2024-05-22",
          "2024-05-23",
          "2024-05-24",
          "2024-05-25",
          "2024-05-26",
          "2024-05-27",
          "2024-05-28",
          "2024-05-29",
          "2024-05-30",
          "2024-05-31",
          "2024-06-01",
          "2024-06-02",
          "2024-06-03",
          "2024-06-04",
          "2024-06-05",
          "2024-06-06",
          "2024-06-07",
          "2024-06-08",
          "2024-06-09",
          "2024-06-10",
          "2024-06-11",
          "2024-06-12",
          "2024-06-13",
          "2024-06-14",
          "2024-06-15",
          "2024-06-16",
          "2024-06-17",
          "2024-06-18",
          "2024-06-19",
          "2024-06-20",
          "2024-06-21",
          "2024-06-22",
          "2024-06-23",
          "2024-06-24",
          "2024-06-25",
          "2024-06-26",
          "2024-06-27"
         ],
         "xaxis": "x",
         "y": [
          38,
          38,
          35,
          43,
          43,
          43,
          42,
          44,
          42,
          41,
          42,
          34,
          40,
          43,
          36,
          34,
          38,
          37,
          36,
          39,
          42,
          41,
          39,
          37,
          43,
          41,
          47,
          45,
          44,
          43,
          44,
          43,
          41,
          40,
          40,
          41,
          42,
          39,
          49,
          46,
          42,
          50,
          45
         ],
         "yaxis": "y"
        },
        {
         "hovertemplate": "trackName=The Code<br>date=%{x}<br>position=%{y}<extra></extra>",
         "legendgroup": "The Code",
         "line": {
          "color": "#FF97FF",
          "dash": "solid"
         },
         "marker": {
          "symbol": "circle"
         },
         "mode": "lines",
         "name": "The Code",
         "showlegend": true,
         "type": "scattergl",
         "x": [
          "2024-05-16",
          "2024-05-17",
          "2024-05-18"
         ],
         "xaxis": "x",
         "y": [
          39,
          39,
          44
         ],
         "yaxis": "y"
        },
        {
         "hovertemplate": "trackName=So Long, London<br>date=%{x}<br>position=%{y}<extra></extra>",
         "legendgroup": "So Long, London",
         "line": {
          "color": "#FECB52",
          "dash": "solid"
         },
         "marker": {
          "symbol": "circle"
         },
         "mode": "lines",
         "name": "So Long, London",
         "showlegend": true,
         "type": "scattergl",
         "x": [
          "2024-05-16",
          "2024-05-17",
          "2024-05-18"
         ],
         "xaxis": "x",
         "y": [
          40,
          40,
          42
         ],
         "yaxis": "y"
        },
        {
         "hovertemplate": "trackName=Stargazing<br>date=%{x}<br>position=%{y}<extra></extra>",
         "legendgroup": "Stargazing",
         "line": {
          "color": "#636efa",
          "dash": "solid"
         },
         "marker": {
          "symbol": "circle"
         },
         "mode": "lines",
         "name": "Stargazing",
         "showlegend": true,
         "type": "scattergl",
         "x": [
          "2024-05-16",
          "2024-05-17",
          "2024-05-18",
          "2024-05-19",
          "2024-05-20",
          "2024-05-21",
          "2024-05-22",
          "2024-05-23",
          "2024-05-24",
          "2024-05-25",
          "2024-05-26",
          "2024-05-27",
          "2024-05-28",
          "2024-05-29",
          "2024-05-30",
          "2024-05-31",
          "2024-06-01",
          "2024-06-02",
          "2024-06-03",
          "2024-06-04",
          "2024-06-05",
          "2024-06-06",
          "2024-06-07",
          "2024-06-08",
          "2024-06-09",
          "2024-06-10",
          "2024-06-11",
          "2024-06-12",
          "2024-06-13",
          "2024-06-14",
          "2024-06-15",
          "2024-06-16",
          "2024-06-17",
          "2024-06-18",
          "2024-06-19",
          "2024-06-20",
          "2024-06-21",
          "2024-06-22",
          "2024-06-23",
          "2024-06-24",
          "2024-06-25",
          "2024-06-26",
          "2024-06-27"
         ],
         "xaxis": "x",
         "y": [
          41,
          41,
          38,
          40,
          47,
          48,
          44,
          41,
          29,
          28,
          27,
          27,
          26,
          22,
          20,
          18,
          18,
          19,
          19,
          19,
          18,
          18,
          18,
          18,
          17,
          18,
          20,
          18,
          18,
          18,
          17,
          17,
          19,
          22,
          16,
          17,
          21,
          21,
          17,
          20,
          20,
          21,
          21
         ],
         "yaxis": "y"
        },
        {
         "hovertemplate": "trackName=Tell Ur Girlfriend<br>date=%{x}<br>position=%{y}<extra></extra>",
         "legendgroup": "Tell Ur Girlfriend",
         "line": {
          "color": "#EF553B",
          "dash": "solid"
         },
         "marker": {
          "symbol": "circle"
         },
         "mode": "lines",
         "name": "Tell Ur Girlfriend",
         "showlegend": true,
         "type": "scattergl",
         "x": [
          "2024-05-16",
          "2024-05-17",
          "2024-05-18"
         ],
         "xaxis": "x",
         "y": [
          42,
          42,
          43
         ],
         "yaxis": "y"
        },
        {
         "hovertemplate": "trackName=My Love Mine All Mine<br>date=%{x}<br>position=%{y}<extra></extra>",
         "legendgroup": "My Love Mine All Mine",
         "line": {
          "color": "#00cc96",
          "dash": "solid"
         },
         "marker": {
          "symbol": "circle"
         },
         "mode": "lines",
         "name": "My Love Mine All Mine",
         "showlegend": true,
         "type": "scattergl",
         "x": [
          "2024-05-16",
          "2024-05-17",
          "2024-05-18",
          "2024-05-21",
          "2024-05-22",
          "2024-05-23",
          "2024-05-24",
          "2024-05-25",
          "2024-05-28",
          "2024-05-29",
          "2024-05-30",
          "2024-05-31",
          "2024-06-01",
          "2024-06-04",
          "2024-06-05",
          "2024-06-06",
          "2024-06-07"
         ],
         "xaxis": "x",
         "y": [
          43,
          43,
          41,
          46,
          46,
          45,
          45,
          46,
          47,
          46,
          47,
          48,
          47,
          49,
          47,
          48,
          47
         ],
         "yaxis": "y"
        },
        {
         "hovertemplate": "trackName=ADIVINO<br>date=%{x}<br>position=%{y}<extra></extra>",
         "legendgroup": "ADIVINO",
         "line": {
          "color": "#ab63fa",
          "dash": "solid"
         },
         "marker": {
          "symbol": "circle"
         },
         "mode": "lines",
         "name": "ADIVINO",
         "showlegend": true,
         "type": "scattergl",
         "x": [
          "2024-05-16",
          "2024-05-17",
          "2024-05-18",
          "2024-05-19"
         ],
         "xaxis": "x",
         "y": [
          44,
          44,
          40,
          49
         ],
         "yaxis": "y"
        },
        {
         "hovertemplate": "trackName=The Night We Met<br>date=%{x}<br>position=%{y}<extra></extra>",
         "legendgroup": "The Night We Met",
         "line": {
          "color": "#FFA15A",
          "dash": "solid"
         },
         "marker": {
          "symbol": "circle"
         },
         "mode": "lines",
         "name": "The Night We Met",
         "showlegend": true,
         "type": "scattergl",
         "x": [
          "2024-05-16",
          "2024-05-17",
          "2024-05-18",
          "2024-05-21",
          "2024-05-22",
          "2024-05-23",
          "2024-05-24",
          "2024-05-25",
          "2024-05-26",
          "2024-05-27",
          "2024-05-28",
          "2024-05-29",
          "2024-05-30",
          "2024-05-31",
          "2024-06-01",
          "2024-06-02",
          "2024-06-03",
          "2024-06-04",
          "2024-06-05",
          "2024-06-06",
          "2024-06-07",
          "2024-06-08",
          "2024-06-09",
          "2024-06-11",
          "2024-06-12",
          "2024-06-13",
          "2024-06-14",
          "2024-06-15",
          "2024-06-16",
          "2024-06-17",
          "2024-06-18",
          "2024-06-19",
          "2024-06-20",
          "2024-06-21",
          "2024-06-22",
          "2024-06-23",
          "2024-06-24",
          "2024-06-25",
          "2024-06-26",
          "2024-06-27"
         ],
         "xaxis": "x",
         "y": [
          45,
          45,
          45,
          49,
          49,
          48,
          50,
          45,
          48,
          49,
          45,
          38,
          37,
          36,
          41,
          45,
          46,
          40,
          38,
          37,
          38,
          39,
          50,
          45,
          44,
          45,
          39,
          43,
          40,
          40,
          34,
          32,
          32,
          34,
          33,
          37,
          43,
          32,
          36,
          34
         ],
         "yaxis": "y"
        },
        {
         "hovertemplate": "trackName=But Daddy I Love Him<br>date=%{x}<br>position=%{y}<extra></extra>",
         "legendgroup": "But Daddy I Love Him",
         "line": {
          "color": "#19d3f3",
          "dash": "solid"
         },
         "marker": {
          "symbol": "circle"
         },
         "mode": "lines",
         "name": "But Daddy I Love Him",
         "showlegend": true,
         "type": "scattergl",
         "x": [
          "2024-05-16",
          "2024-05-17",
          "2024-05-18"
         ],
         "xaxis": "x",
         "y": [
          46,
          46,
          47
         ],
         "yaxis": "y"
        },
        {
         "hovertemplate": "trackName=Type Shit<br>date=%{x}<br>position=%{y}<extra></extra>",
         "legendgroup": "Type Shit",
         "line": {
          "color": "#FF6692",
          "dash": "solid"
         },
         "marker": {
          "symbol": "circle"
         },
         "mode": "lines",
         "name": "Type Shit",
         "showlegend": true,
         "type": "scattergl",
         "x": [
          "2024-05-16",
          "2024-05-17",
          "2024-05-18"
         ],
         "xaxis": "x",
         "y": [
          47,
          47,
          48
         ],
         "yaxis": "y"
        },
        {
         "hovertemplate": "trackName=My Boy Only Breaks His Favorite Toys<br>date=%{x}<br>position=%{y}<extra></extra>",
         "legendgroup": "My Boy Only Breaks His Favorite Toys",
         "line": {
          "color": "#B6E880",
          "dash": "solid"
         },
         "marker": {
          "symbol": "circle"
         },
         "mode": "lines",
         "name": "My Boy Only Breaks His Favorite Toys",
         "showlegend": true,
         "type": "scattergl",
         "x": [
          "2024-05-16",
          "2024-05-17",
          "2024-05-18"
         ],
         "xaxis": "x",
         "y": [
          48,
          48,
          49
         ],
         "yaxis": "y"
        },
        {
         "hovertemplate": "trackName=Si No Quieres No<br>date=%{x}<br>position=%{y}<extra></extra>",
         "legendgroup": "Si No Quieres No",
         "line": {
          "color": "#FF97FF",
          "dash": "solid"
         },
         "marker": {
          "symbol": "circle"
         },
         "mode": "lines",
         "name": "Si No Quieres No",
         "showlegend": true,
         "type": "scattergl",
         "x": [
          "2024-05-16",
          "2024-05-17",
          "2024-05-18",
          "2024-05-19",
          "2024-05-20",
          "2024-05-21",
          "2024-05-22",
          "2024-05-23",
          "2024-05-24",
          "2024-05-25",
          "2024-05-27",
          "2024-05-28",
          "2024-05-29",
          "2024-05-30",
          "2024-05-31",
          "2024-06-01",
          "2024-06-02",
          "2024-06-03",
          "2024-06-04",
          "2024-06-05",
          "2024-06-06",
          "2024-06-07",
          "2024-06-08",
          "2024-06-09",
          "2024-06-10",
          "2024-06-11",
          "2024-06-12",
          "2024-06-13",
          "2024-06-14",
          "2024-06-15",
          "2024-06-16",
          "2024-06-17",
          "2024-06-18",
          "2024-06-19",
          "2024-06-20",
          "2024-06-21",
          "2024-06-23",
          "2024-06-24",
          "2024-06-25",
          "2024-06-26"
         ],
         "xaxis": "x",
         "y": [
          49,
          49,
          46,
          50,
          39,
          39,
          47,
          49,
          47,
          48,
          37,
          33,
          49,
          45,
          42,
          43,
          38,
          24,
          21,
          28,
          29,
          31,
          30,
          32,
          25,
          23,
          34,
          40,
          45,
          39,
          35,
          27,
          26,
          39,
          42,
          46,
          48,
          32,
          34,
          49
         ],
         "yaxis": "y"
        },
        {
         "hovertemplate": "trackName=See You Again (feat. Kali Uchis)<br>date=%{x}<br>position=%{y}<extra></extra>",
         "legendgroup": "See You Again (feat. Kali Uchis)",
         "line": {
          "color": "#FECB52",
          "dash": "solid"
         },
         "marker": {
          "symbol": "circle"
         },
         "mode": "lines",
         "name": "See You Again (feat. Kali Uchis)",
         "showlegend": true,
         "type": "scattergl",
         "x": [
          "2024-05-16",
          "2024-05-17",
          "2024-05-18",
          "2024-05-28",
          "2024-05-29",
          "2024-05-30",
          "2024-05-31",
          "2024-06-01",
          "2024-06-03",
          "2024-06-04",
          "2024-06-05",
          "2024-06-06",
          "2024-06-07",
          "2024-06-08"
         ],
         "xaxis": "x",
         "y": [
          50,
          50,
          50,
          50,
          50,
          48,
          46,
          45,
          50,
          45,
          46,
          47,
          48,
          50
         ],
         "yaxis": "y"
        },
        {
         "hovertemplate": "trackName=LUNCH<br>date=%{x}<br>position=%{y}<extra></extra>",
         "legendgroup": "LUNCH",
         "line": {
          "color": "#636efa",
          "dash": "solid"
         },
         "marker": {
          "symbol": "circle"
         },
         "mode": "lines",
         "name": "LUNCH",
         "showlegend": true,
         "type": "scattergl",
         "x": [
          "2024-05-19",
          "2024-05-20",
          "2024-05-21",
          "2024-05-22",
          "2024-05-23",
          "2024-05-24",
          "2024-05-25",
          "2024-05-26",
          "2024-05-27",
          "2024-05-28",
          "2024-05-29",
          "2024-05-30",
          "2024-05-31",
          "2024-06-01",
          "2024-06-02",
          "2024-06-03",
          "2024-06-04",
          "2024-06-05",
          "2024-06-06",
          "2024-06-07",
          "2024-06-08",
          "2024-06-09",
          "2024-06-10",
          "2024-06-11",
          "2024-06-12",
          "2024-06-13",
          "2024-06-14",
          "2024-06-15",
          "2024-06-16",
          "2024-06-17",
          "2024-06-18",
          "2024-06-19",
          "2024-06-20",
          "2024-06-21",
          "2024-06-22",
          "2024-06-23",
          "2024-06-24",
          "2024-06-25",
          "2024-06-26",
          "2024-06-27"
         ],
         "xaxis": "x",
         "y": [
          2,
          4,
          4,
          4,
          4,
          1,
          1,
          1,
          1,
          1,
          2,
          3,
          3,
          3,
          5,
          6,
          5,
          5,
          5,
          5,
          4,
          4,
          5,
          7,
          7,
          7,
          6,
          7,
          8,
          11,
          11,
          10,
          11,
          12,
          12,
          14,
          15,
          15,
          14,
          15
         ],
         "yaxis": "y"
        },
        {
         "hovertemplate": "trackName=CHIHIRO<br>date=%{x}<br>position=%{y}<extra></extra>",
         "legendgroup": "CHIHIRO",
         "line": {
          "color": "#EF553B",
          "dash": "solid"
         },
         "marker": {
          "symbol": "circle"
         },
         "mode": "lines",
         "name": "CHIHIRO",
         "showlegend": true,
         "type": "scattergl",
         "x": [
          "2024-05-19",
          "2024-05-20",
          "2024-05-21",
          "2024-05-22",
          "2024-05-23",
          "2024-05-24",
          "2024-05-25",
          "2024-05-26",
          "2024-05-27",
          "2024-05-28",
          "2024-05-29",
          "2024-05-30",
          "2024-05-31",
          "2024-06-01",
          "2024-06-02",
          "2024-06-03",
          "2024-06-04",
          "2024-06-05",
          "2024-06-06",
          "2024-06-07",
          "2024-06-08",
          "2024-06-09",
          "2024-06-10",
          "2024-06-11",
          "2024-06-12",
          "2024-06-13",
          "2024-06-14",
          "2024-06-15",
          "2024-06-16",
          "2024-06-17",
          "2024-06-18",
          "2024-06-19",
          "2024-06-20",
          "2024-06-21",
          "2024-06-22",
          "2024-06-23",
          "2024-06-24",
          "2024-06-25",
          "2024-06-26",
          "2024-06-27"
         ],
         "xaxis": "x",
         "y": [
          3,
          6,
          6,
          5,
          5,
          5,
          5,
          6,
          7,
          8,
          7,
          9,
          10,
          10,
          13,
          13,
          13,
          13,
          13,
          13,
          13,
          15,
          14,
          14,
          14,
          14,
          13,
          13,
          15,
          16,
          15,
          15,
          15,
          16,
          18,
          21,
          22,
          22,
          22,
          22
         ],
         "yaxis": "y"
        },
        {
         "hovertemplate": "trackName=SKINNY<br>date=%{x}<br>position=%{y}<extra></extra>",
         "legendgroup": "SKINNY",
         "line": {
          "color": "#00cc96",
          "dash": "solid"
         },
         "marker": {
          "symbol": "circle"
         },
         "mode": "lines",
         "name": "SKINNY",
         "showlegend": true,
         "type": "scattergl",
         "x": [
          "2024-05-19",
          "2024-05-20",
          "2024-05-21",
          "2024-05-22",
          "2024-05-23",
          "2024-05-24",
          "2024-05-25",
          "2024-05-26",
          "2024-05-27",
          "2024-05-28",
          "2024-05-29",
          "2024-05-30",
          "2024-05-31",
          "2024-06-01"
         ],
         "xaxis": "x",
         "y": [
          7,
          14,
          17,
          18,
          18,
          19,
          21,
          22,
          31,
          34,
          30,
          41,
          45,
          49
         ],
         "yaxis": "y"
        },
        {
         "hovertemplate": "trackName=BIRDS OF A FEATHER<br>date=%{x}<br>position=%{y}<extra></extra>",
         "legendgroup": "BIRDS OF A FEATHER",
         "line": {
          "color": "#ab63fa",
          "dash": "solid"
         },
         "marker": {
          "symbol": "circle"
         },
         "mode": "lines",
         "name": "BIRDS OF A FEATHER",
         "showlegend": true,
         "type": "scattergl",
         "x": [
          "2024-05-19",
          "2024-05-20",
          "2024-05-21",
          "2024-05-22",
          "2024-05-23",
          "2024-05-24",
          "2024-05-25",
          "2024-05-26",
          "2024-05-27",
          "2024-05-28",
          "2024-05-29",
          "2024-05-30",
          "2024-05-31",
          "2024-06-01",
          "2024-06-02",
          "2024-06-03",
          "2024-06-04",
          "2024-06-05",
          "2024-06-06",
          "2024-06-07",
          "2024-06-08",
          "2024-06-09",
          "2024-06-10",
          "2024-06-11",
          "2024-06-12",
          "2024-06-13",
          "2024-06-14",
          "2024-06-15",
          "2024-06-16",
          "2024-06-17",
          "2024-06-18",
          "2024-06-19",
          "2024-06-20",
          "2024-06-21",
          "2024-06-22",
          "2024-06-23",
          "2024-06-24",
          "2024-06-25",
          "2024-06-26",
          "2024-06-27"
         ],
         "xaxis": "x",
         "y": [
          8,
          10,
          8,
          8,
          8,
          6,
          6,
          5,
          8,
          5,
          5,
          5,
          5,
          5,
          4,
          4,
          4,
          4,
          3,
          3,
          2,
          2,
          2,
          2,
          3,
          3,
          3,
          3,
          3,
          3,
          3,
          3,
          3,
          3,
          3,
          3,
          3,
          3,
          3,
          3
         ],
         "yaxis": "y"
        },
        {
         "hovertemplate": "trackName=WILDFLOWER<br>date=%{x}<br>position=%{y}<extra></extra>",
         "legendgroup": "WILDFLOWER",
         "line": {
          "color": "#FFA15A",
          "dash": "solid"
         },
         "marker": {
          "symbol": "circle"
         },
         "mode": "lines",
         "name": "WILDFLOWER",
         "showlegend": true,
         "type": "scattergl",
         "x": [
          "2024-05-19",
          "2024-05-20",
          "2024-05-21",
          "2024-05-22",
          "2024-05-23",
          "2024-05-24",
          "2024-05-25",
          "2024-05-26",
          "2024-05-27",
          "2024-05-28",
          "2024-05-29",
          "2024-05-30",
          "2024-05-31",
          "2024-06-01",
          "2024-06-02",
          "2024-06-03",
          "2024-06-04",
          "2024-06-05",
          "2024-06-06",
          "2024-06-07",
          "2024-06-08",
          "2024-06-09",
          "2024-06-10",
          "2024-06-11",
          "2024-06-12",
          "2024-06-13",
          "2024-06-14",
          "2024-06-15",
          "2024-06-16",
          "2024-06-17",
          "2024-06-18",
          "2024-06-19",
          "2024-06-20",
          "2024-06-21",
          "2024-06-22"
         ],
         "xaxis": "x",
         "y": [
          11,
          15,
          15,
          15,
          17,
          17,
          16,
          17,
          18,
          18,
          17,
          18,
          20,
          20,
          23,
          29,
          25,
          22,
          23,
          22,
          23,
          28,
          33,
          30,
          29,
          29,
          28,
          29,
          38,
          44,
          42,
          38,
          40,
          39,
          43
         ],
         "yaxis": "y"
        },
        {
         "hovertemplate": "trackName=LâAMOUR DE MA VIE<br>date=%{x}<br>position=%{y}<extra></extra>",
         "legendgroup": "LâAMOUR DE MA VIE",
         "line": {
          "color": "#19d3f3",
          "dash": "solid"
         },
         "marker": {
          "symbol": "circle"
         },
         "mode": "lines",
         "name": "LâAMOUR DE MA VIE",
         "showlegend": true,
         "type": "scattergl",
         "x": [
          "2024-05-19",
          "2024-05-20",
          "2024-05-21",
          "2024-05-22",
          "2024-05-23",
          "2024-05-24",
          "2024-05-25",
          "2024-05-26",
          "2024-05-27",
          "2024-05-28",
          "2024-05-29",
          "2024-05-30",
          "2024-05-31",
          "2024-06-01",
          "2024-06-02",
          "2024-06-03",
          "2024-06-04",
          "2024-06-05",
          "2024-06-06",
          "2024-06-07",
          "2024-06-08",
          "2024-06-09",
          "2024-06-10",
          "2024-06-11",
          "2024-06-12",
          "2024-06-13",
          "2024-06-14",
          "2024-06-15",
          "2024-06-16"
         ],
         "xaxis": "x",
         "y": [
          15,
          18,
          19,
          19,
          19,
          21,
          20,
          21,
          26,
          27,
          26,
          30,
          39,
          37,
          40,
          49,
          42,
          36,
          36,
          33,
          33,
          38,
          44,
          42,
          38,
          36,
          37,
          42,
          47
         ],
         "yaxis": "y"
        },
        {
         "hovertemplate": "trackName=THE GREATEST<br>date=%{x}<br>position=%{y}<extra></extra>",
         "legendgroup": "THE GREATEST",
         "line": {
          "color": "#FF6692",
          "dash": "solid"
         },
         "marker": {
          "symbol": "circle"
         },
         "mode": "lines",
         "name": "THE GREATEST",
         "showlegend": true,
         "type": "scattergl",
         "x": [
          "2024-05-19",
          "2024-05-20",
          "2024-05-21",
          "2024-05-22",
          "2024-05-23",
          "2024-05-24",
          "2024-05-25",
          "2024-05-26",
          "2024-05-27",
          "2024-05-28",
          "2024-05-29",
          "2024-05-30",
          "2024-05-31",
          "2024-06-01",
          "2024-06-02"
         ],
         "xaxis": "x",
         "y": [
          16,
          19,
          20,
          20,
          20,
          22,
          23,
          26,
          33,
          37,
          31,
          40,
          43,
          44,
          50
         ],
         "yaxis": "y"
        },
        {
         "hovertemplate": "trackName=BLUE<br>date=%{x}<br>position=%{y}<extra></extra>",
         "legendgroup": "BLUE",
         "line": {
          "color": "#B6E880",
          "dash": "solid"
         },
         "marker": {
          "symbol": "circle"
         },
         "mode": "lines",
         "name": "BLUE",
         "showlegend": true,
         "type": "scattergl",
         "x": [
          "2024-05-19",
          "2024-05-20",
          "2024-05-21",
          "2024-05-22",
          "2024-05-23",
          "2024-05-24",
          "2024-05-25",
          "2024-05-26",
          "2024-05-27",
          "2024-05-28",
          "2024-05-29",
          "2024-05-30",
          "2024-05-31",
          "2024-06-01",
          "2024-06-02",
          "2024-06-03",
          "2024-06-04",
          "2024-06-05",
          "2024-06-06",
          "2024-06-07",
          "2024-06-08",
          "2024-06-09",
          "2024-06-10",
          "2024-06-11",
          "2024-06-12",
          "2024-06-13",
          "2024-06-14",
          "2024-06-15",
          "2024-06-16",
          "2024-06-19"
         ],
         "xaxis": "x",
         "y": [
          18,
          17,
          18,
          16,
          16,
          18,
          18,
          19,
          19,
          19,
          20,
          21,
          23,
          25,
          32,
          35,
          33,
          29,
          30,
          30,
          31,
          36,
          43,
          39,
          37,
          37,
          38,
          41,
          50,
          49
         ],
         "yaxis": "y"
        },
        {
         "hovertemplate": "trackName=THE DINER<br>date=%{x}<br>position=%{y}<extra></extra>",
         "legendgroup": "THE DINER",
         "line": {
          "color": "#FF97FF",
          "dash": "solid"
         },
         "marker": {
          "symbol": "circle"
         },
         "mode": "lines",
         "name": "THE DINER",
         "showlegend": true,
         "type": "scattergl",
         "x": [
          "2024-05-19",
          "2024-05-20",
          "2024-05-21",
          "2024-05-22",
          "2024-05-23",
          "2024-05-24",
          "2024-05-25",
          "2024-05-26",
          "2024-05-27",
          "2024-05-28",
          "2024-05-29",
          "2024-05-30"
         ],
         "xaxis": "x",
         "y": [
          19,
          23,
          24,
          24,
          27,
          28,
          29,
          38,
          48,
          48,
          48,
          50
         ],
         "yaxis": "y"
        },
        {
         "hovertemplate": "trackName=BITTERSUITE<br>date=%{x}<br>position=%{y}<extra></extra>",
         "legendgroup": "BITTERSUITE",
         "line": {
          "color": "#FECB52",
          "dash": "solid"
         },
         "marker": {
          "symbol": "circle"
         },
         "mode": "lines",
         "name": "BITTERSUITE",
         "showlegend": true,
         "type": "scattergl",
         "x": [
          "2024-05-19",
          "2024-05-20",
          "2024-05-21",
          "2024-05-22",
          "2024-05-23",
          "2024-05-24",
          "2024-05-25",
          "2024-05-26"
         ],
         "xaxis": "x",
         "y": [
          21,
          24,
          28,
          27,
          30,
          32,
          35,
          44
         ],
         "yaxis": "y"
        },
        {
         "hovertemplate": "trackName=TEXAS HOLD 'EM<br>date=%{x}<br>position=%{y}<extra></extra>",
         "legendgroup": "TEXAS HOLD 'EM",
         "line": {
          "color": "#636efa",
          "dash": "solid"
         },
         "marker": {
          "symbol": "circle"
         },
         "mode": "lines",
         "name": "TEXAS HOLD 'EM",
         "showlegend": true,
         "type": "scattergl",
         "x": [
          "2024-05-20",
          "2024-05-27"
         ],
         "xaxis": "x",
         "y": [
          49,
          50
         ],
         "yaxis": "y"
        },
        {
         "hovertemplate": "trackName=love hotel<br>date=%{x}<br>position=%{y}<extra></extra>",
         "legendgroup": "love hotel",
         "line": {
          "color": "#EF553B",
          "dash": "solid"
         },
         "marker": {
          "symbol": "circle"
         },
         "mode": "lines",
         "name": "love hotel",
         "showlegend": true,
         "type": "scattergl",
         "x": [
          "2024-05-24",
          "2024-06-06"
         ],
         "xaxis": "x",
         "y": [
          46,
          49
         ],
         "yaxis": "y"
        },
        {
         "hovertemplate": "trackName=Supernova<br>date=%{x}<br>position=%{y}<extra></extra>",
         "legendgroup": "Supernova",
         "line": {
          "color": "#00cc96",
          "dash": "solid"
         },
         "marker": {
          "symbol": "circle"
         },
         "mode": "lines",
         "name": "Supernova",
         "showlegend": true,
         "type": "scattergl",
         "x": [
          "2024-05-24",
          "2024-05-29",
          "2024-05-30",
          "2024-05-31",
          "2024-06-01",
          "2024-06-02",
          "2024-06-05"
         ],
         "xaxis": "x",
         "y": [
          49,
          41,
          44,
          47,
          46,
          48,
          45
         ],
         "yaxis": "y"
        },
        {
         "hovertemplate": "trackName=Pink Skies<br>date=%{x}<br>position=%{y}<extra></extra>",
         "legendgroup": "Pink Skies",
         "line": {
          "color": "#ab63fa",
          "dash": "solid"
         },
         "marker": {
          "symbol": "circle"
         },
         "mode": "lines",
         "name": "Pink Skies",
         "showlegend": true,
         "type": "scattergl",
         "x": [
          "2024-05-26",
          "2024-05-27",
          "2024-05-28",
          "2024-05-29",
          "2024-05-30",
          "2024-05-31",
          "2024-06-01",
          "2024-06-02",
          "2024-06-03",
          "2024-06-04",
          "2024-06-05",
          "2024-06-06",
          "2024-06-07",
          "2024-06-08",
          "2024-06-09",
          "2024-06-10",
          "2024-06-11",
          "2024-06-12",
          "2024-06-13",
          "2024-06-14",
          "2024-06-15",
          "2024-06-16",
          "2024-06-17",
          "2024-06-18",
          "2024-06-19",
          "2024-06-20",
          "2024-06-21",
          "2024-06-22"
         ],
         "xaxis": "x",
         "y": [
          18,
          38,
          30,
          34,
          28,
          27,
          26,
          20,
          23,
          22,
          23,
          22,
          26,
          26,
          22,
          28,
          27,
          27,
          27,
          25,
          26,
          28,
          30,
          30,
          30,
          29,
          32,
          38
         ],
         "yaxis": "y"
        },
        {
         "hovertemplate": "trackName=LOST!<br>date=%{x}<br>position=%{y}<extra></extra>",
         "legendgroup": "LOST!",
         "line": {
          "color": "#FFA15A",
          "dash": "solid"
         },
         "marker": {
          "symbol": "circle"
         },
         "mode": "lines",
         "name": "LOST!",
         "showlegend": true,
         "type": "scattergl",
         "x": [
          "2024-05-26"
         ],
         "xaxis": "x",
         "y": [
          28
         ],
         "yaxis": "y"
        },
        {
         "hovertemplate": "trackName=BAND4BAND (feat. Lil Baby)<br>date=%{x}<br>position=%{y}<extra></extra>",
         "legendgroup": "BAND4BAND (feat. Lil Baby)",
         "line": {
          "color": "#19d3f3",
          "dash": "solid"
         },
         "marker": {
          "symbol": "circle"
         },
         "mode": "lines",
         "name": "BAND4BAND (feat. Lil Baby)",
         "showlegend": true,
         "type": "scattergl",
         "x": [
          "2024-05-26",
          "2024-05-27",
          "2024-05-28",
          "2024-05-29",
          "2024-05-30",
          "2024-05-31",
          "2024-06-01",
          "2024-06-02",
          "2024-06-03",
          "2024-06-04",
          "2024-06-05",
          "2024-06-06",
          "2024-06-07",
          "2024-06-08",
          "2024-06-09",
          "2024-06-10",
          "2024-06-11",
          "2024-06-12",
          "2024-06-13",
          "2024-06-14",
          "2024-06-15",
          "2024-06-16",
          "2024-06-17",
          "2024-06-18",
          "2024-06-19",
          "2024-06-20",
          "2024-06-21",
          "2024-06-22",
          "2024-06-23",
          "2024-06-24",
          "2024-06-25",
          "2024-06-26",
          "2024-06-27"
         ],
         "xaxis": "x",
         "y": [
          30,
          36,
          24,
          19,
          16,
          16,
          15,
          14,
          14,
          12,
          11,
          12,
          14,
          14,
          16,
          15,
          15,
          15,
          15,
          15,
          15,
          16,
          17,
          20,
          18,
          22,
          22,
          23,
          22,
          24,
          25,
          24,
          25
         ],
         "yaxis": "y"
        },
        {
         "hovertemplate": "trackName=MTG QUEM NÃO QUER SOU EU<br>date=%{x}<br>position=%{y}<extra></extra>",
         "legendgroup": "MTG QUEM NÃO QUER SOU EU",
         "line": {
          "color": "#FF6692",
          "dash": "solid"
         },
         "marker": {
          "symbol": "circle"
         },
         "mode": "lines",
         "name": "MTG QUEM NÃO QUER SOU EU",
         "showlegend": true,
         "type": "scattergl",
         "x": [
          "2024-05-26",
          "2024-05-27",
          "2024-05-31",
          "2024-06-01",
          "2024-06-02",
          "2024-06-03"
         ],
         "xaxis": "x",
         "y": [
          46,
          45,
          49,
          48,
          47,
          41
         ],
         "yaxis": "y"
        },
        {
         "hovertemplate": "trackName=Austin (Boots Stop Workin')<br>date=%{x}<br>position=%{y}<extra></extra>",
         "legendgroup": "Austin (Boots Stop Workin')",
         "line": {
          "color": "#B6E880",
          "dash": "solid"
         },
         "marker": {
          "symbol": "circle"
         },
         "mode": "lines",
         "name": "Austin (Boots Stop Workin')",
         "showlegend": true,
         "type": "scattergl",
         "x": [
          "2024-06-01",
          "2024-06-02",
          "2024-06-03",
          "2024-06-04",
          "2024-06-05",
          "2024-06-06",
          "2024-06-07",
          "2024-06-08",
          "2024-06-09",
          "2024-06-10",
          "2024-06-11",
          "2024-06-12",
          "2024-06-13",
          "2024-06-14",
          "2024-06-15",
          "2024-06-16",
          "2024-06-17",
          "2024-06-18",
          "2024-06-19",
          "2024-06-20",
          "2024-06-21",
          "2024-06-22",
          "2024-06-23",
          "2024-06-24",
          "2024-06-25",
          "2024-06-26",
          "2024-06-27"
         ],
         "xaxis": "x",
         "y": [
          28,
          26,
          25,
          29,
          27,
          27,
          25,
          25,
          25,
          24,
          28,
          28,
          26,
          26,
          27,
          27,
          29,
          28,
          29,
          28,
          27,
          26,
          26,
          28,
          27,
          27,
          27
         ],
         "yaxis": "y"
        },
        {
         "hovertemplate": "trackName=Houdini<br>date=%{x}<br>position=%{y}<extra></extra>",
         "legendgroup": "Houdini",
         "line": {
          "color": "#FF97FF",
          "dash": "solid"
         },
         "marker": {
          "symbol": "circle"
         },
         "mode": "lines",
         "name": "Houdini",
         "showlegend": true,
         "type": "scattergl",
         "x": [
          "2024-06-02",
          "2024-06-03",
          "2024-06-04",
          "2024-06-05",
          "2024-06-06",
          "2024-06-07",
          "2024-06-08",
          "2024-06-09",
          "2024-06-10",
          "2024-06-11",
          "2024-06-12",
          "2024-06-13",
          "2024-06-14",
          "2024-06-15",
          "2024-06-16",
          "2024-06-17",
          "2024-06-18",
          "2024-06-19",
          "2024-06-20",
          "2024-06-21",
          "2024-06-22",
          "2024-06-23",
          "2024-06-24",
          "2024-06-25",
          "2024-06-26",
          "2024-06-27"
         ],
         "xaxis": "x",
         "y": [
          3,
          3,
          3,
          2,
          2,
          2,
          3,
          3,
          3,
          4,
          5,
          5,
          4,
          4,
          6,
          8,
          9,
          7,
          9,
          9,
          11,
          12,
          12,
          12,
          12,
          12
         ],
         "yaxis": "y"
        },
        {
         "hovertemplate": "trackName=SI NO ES CONTIGO<br>date=%{x}<br>position=%{y}<extra></extra>",
         "legendgroup": "SI NO ES CONTIGO",
         "line": {
          "color": "#FECB52",
          "dash": "solid"
         },
         "marker": {
          "symbol": "circle"
         },
         "mode": "lines",
         "name": "SI NO ES CONTIGO",
         "showlegend": true,
         "type": "scattergl",
         "x": [
          "2024-06-02",
          "2024-06-03",
          "2024-06-04",
          "2024-06-05",
          "2024-06-06",
          "2024-06-07",
          "2024-06-08",
          "2024-06-09",
          "2024-06-10",
          "2024-06-11",
          "2024-06-12",
          "2024-06-13",
          "2024-06-14",
          "2024-06-15",
          "2024-06-16",
          "2024-06-17",
          "2024-06-18",
          "2024-06-19",
          "2024-06-20",
          "2024-06-21",
          "2024-06-22",
          "2024-06-24",
          "2024-06-25",
          "2024-06-26"
         ],
         "xaxis": "x",
         "y": [
          46,
          44,
          50,
          40,
          39,
          41,
          40,
          39,
          36,
          40,
          36,
          35,
          30,
          35,
          30,
          35,
          33,
          34,
          33,
          33,
          49,
          47,
          48,
          41
         ],
         "yaxis": "y"
        },
        {
         "hovertemplate": "trackName=one of wun<br>date=%{x}<br>position=%{y}<extra></extra>",
         "legendgroup": "one of wun",
         "line": {
          "color": "#636efa",
          "dash": "solid"
         },
         "marker": {
          "symbol": "circle"
         },
         "mode": "lines",
         "name": "one of wun",
         "showlegend": true,
         "type": "scattergl",
         "x": [
          "2024-06-02"
         ],
         "xaxis": "x",
         "y": [
          49
         ],
         "yaxis": "y"
        },
        {
         "hovertemplate": "trackName=Locked out of Heaven<br>date=%{x}<br>position=%{y}<extra></extra>",
         "legendgroup": "Locked out of Heaven",
         "line": {
          "color": "#EF553B",
          "dash": "solid"
         },
         "marker": {
          "symbol": "circle"
         },
         "mode": "lines",
         "name": "Locked out of Heaven",
         "showlegend": true,
         "type": "scattergl",
         "x": [
          "2024-06-03",
          "2024-06-04",
          "2024-06-05",
          "2024-06-06",
          "2024-06-07",
          "2024-06-16",
          "2024-06-17",
          "2024-06-21",
          "2024-06-22",
          "2024-06-23",
          "2024-06-24",
          "2024-06-25",
          "2024-06-26",
          "2024-06-27"
         ],
         "xaxis": "x",
         "y": [
          45,
          46,
          48,
          50,
          50,
          45,
          49,
          45,
          32,
          36,
          34,
          37,
          33,
          36
         ],
         "yaxis": "y"
        },
        {
         "hovertemplate": "trackName=Flowers<br>date=%{x}<br>position=%{y}<extra></extra>",
         "legendgroup": "Flowers",
         "line": {
          "color": "#00cc96",
          "dash": "solid"
         },
         "marker": {
          "symbol": "circle"
         },
         "mode": "lines",
         "name": "Flowers",
         "showlegend": true,
         "type": "scattergl",
         "x": [
          "2024-06-03",
          "2024-06-24"
         ],
         "xaxis": "x",
         "y": [
          48,
          49
         ],
         "yaxis": "y"
        },
        {
         "hovertemplate": "trackName=Yellow<br>date=%{x}<br>position=%{y}<extra></extra>",
         "legendgroup": "Yellow",
         "line": {
          "color": "#ab63fa",
          "dash": "solid"
         },
         "marker": {
          "symbol": "circle"
         },
         "mode": "lines",
         "name": "Yellow",
         "showlegend": true,
         "type": "scattergl",
         "x": [
          "2024-06-04",
          "2024-06-05",
          "2024-06-14",
          "2024-06-16",
          "2024-06-17",
          "2024-06-18",
          "2024-06-19",
          "2024-06-20",
          "2024-06-21",
          "2024-06-22",
          "2024-06-23",
          "2024-06-24",
          "2024-06-25",
          "2024-06-26",
          "2024-06-27"
         ],
         "xaxis": "x",
         "y": [
          44,
          50,
          49,
          49,
          47,
          45,
          45,
          44,
          43,
          35,
          43,
          39,
          36,
          35,
          32
         ],
         "yaxis": "y"
        },
        {
         "hovertemplate": "trackName=Riptide<br>date=%{x}<br>position=%{y}<extra></extra>",
         "legendgroup": "Riptide",
         "line": {
          "color": "#FFA15A",
          "dash": "solid"
         },
         "marker": {
          "symbol": "circle"
         },
         "mode": "lines",
         "name": "Riptide",
         "showlegend": true,
         "type": "scattergl",
         "x": [
          "2024-06-04",
          "2024-06-07",
          "2024-06-08",
          "2024-06-10",
          "2024-06-11",
          "2024-06-12",
          "2024-06-13",
          "2024-06-14",
          "2024-06-15",
          "2024-06-17",
          "2024-06-18",
          "2024-06-19",
          "2024-06-20",
          "2024-06-21",
          "2024-06-22",
          "2024-06-23",
          "2024-06-24",
          "2024-06-25",
          "2024-06-26",
          "2024-06-27"
         ],
         "xaxis": "x",
         "y": [
          47,
          45,
          44,
          47,
          48,
          46,
          47,
          48,
          50,
          46,
          37,
          35,
          35,
          40,
          41,
          46,
          45,
          40,
          39,
          39
         ],
         "yaxis": "y"
        },
        {
         "hovertemplate": "trackName=Kill Bill<br>date=%{x}<br>position=%{y}<extra></extra>",
         "legendgroup": "Kill Bill",
         "line": {
          "color": "#19d3f3",
          "dash": "solid"
         },
         "marker": {
          "symbol": "circle"
         },
         "mode": "lines",
         "name": "Kill Bill",
         "showlegend": true,
         "type": "scattergl",
         "x": [
          "2024-06-05",
          "2024-06-06",
          "2024-06-25",
          "2024-06-27"
         ],
         "xaxis": "x",
         "y": [
          49,
          46,
          49,
          48
         ],
         "yaxis": "y"
        },
        {
         "hovertemplate": "trackName=Digitando<br>date=%{x}<br>position=%{y}<extra></extra>",
         "legendgroup": "Digitando",
         "line": {
          "color": "#FF6692",
          "dash": "solid"
         },
         "marker": {
          "symbol": "circle"
         },
         "mode": "lines",
         "name": "Digitando",
         "showlegend": true,
         "type": "scattergl",
         "x": [
          "2024-06-06"
         ],
         "xaxis": "x",
         "y": [
          45
         ],
         "yaxis": "y"
        },
        {
         "hovertemplate": "trackName=Without Me<br>date=%{x}<br>position=%{y}<extra></extra>",
         "legendgroup": "Without Me",
         "line": {
          "color": "#B6E880",
          "dash": "solid"
         },
         "marker": {
          "symbol": "circle"
         },
         "mode": "lines",
         "name": "Without Me",
         "showlegend": true,
         "type": "scattergl",
         "x": [
          "2024-06-07",
          "2024-06-08"
         ],
         "xaxis": "x",
         "y": [
          46,
          47
         ],
         "yaxis": "y"
        },
        {
         "hovertemplate": "trackName=I Don't Wanna Wait<br>date=%{x}<br>position=%{y}<extra></extra>",
         "legendgroup": "I Don't Wanna Wait",
         "line": {
          "color": "#FF97FF",
          "dash": "solid"
         },
         "marker": {
          "symbol": "circle"
         },
         "mode": "lines",
         "name": "I Don't Wanna Wait",
         "showlegend": true,
         "type": "scattergl",
         "x": [
          "2024-06-07",
          "2024-06-08",
          "2024-06-09",
          "2024-06-10",
          "2024-06-16",
          "2024-06-17",
          "2024-06-19",
          "2024-06-20",
          "2024-06-21",
          "2024-06-22",
          "2024-06-23",
          "2024-06-24",
          "2024-06-25",
          "2024-06-26",
          "2024-06-27"
         ],
         "xaxis": "x",
         "y": [
          49,
          49,
          48,
          48,
          46,
          45,
          47,
          45,
          44,
          40,
          35,
          33,
          43,
          37,
          37
         ],
         "yaxis": "y"
        },
        {
         "hovertemplate": "trackName=Volver Al Futuro<br>date=%{x}<br>position=%{y}<extra></extra>",
         "legendgroup": "Volver Al Futuro",
         "line": {
          "color": "#FECB52",
          "dash": "solid"
         },
         "marker": {
          "symbol": "circle"
         },
         "mode": "lines",
         "name": "Volver Al Futuro",
         "showlegend": true,
         "type": "scattergl",
         "x": [
          "2024-06-08",
          "2024-06-10",
          "2024-06-11",
          "2024-06-12",
          "2024-06-13",
          "2024-06-14",
          "2024-06-15",
          "2024-06-16",
          "2024-06-17",
          "2024-06-18",
          "2024-06-19",
          "2024-06-20"
         ],
         "xaxis": "x",
         "y": [
          45,
          42,
          49,
          50,
          43,
          41,
          38,
          37,
          34,
          39,
          42,
          46
         ],
         "yaxis": "y"
        },
        {
         "hovertemplate": "trackName=Please Please Please<br>date=%{x}<br>position=%{y}<extra></extra>",
         "legendgroup": "Please Please Please",
         "line": {
          "color": "#636efa",
          "dash": "solid"
         },
         "marker": {
          "symbol": "circle"
         },
         "mode": "lines",
         "name": "Please Please Please",
         "showlegend": true,
         "type": "scattergl",
         "x": [
          "2024-06-09",
          "2024-06-10",
          "2024-06-11",
          "2024-06-12",
          "2024-06-13",
          "2024-06-14",
          "2024-06-15",
          "2024-06-16",
          "2024-06-17",
          "2024-06-18",
          "2024-06-19",
          "2024-06-20",
          "2024-06-21",
          "2024-06-22",
          "2024-06-23",
          "2024-06-24",
          "2024-06-25",
          "2024-06-26",
          "2024-06-27"
         ],
         "xaxis": "x",
         "y": [
          9,
          6,
          3,
          2,
          1,
          1,
          1,
          1,
          1,
          1,
          1,
          1,
          1,
          1,
          1,
          1,
          1,
          1,
          1
         ],
         "yaxis": "y"
        },
        {
         "hovertemplate": "trackName=Never Let Go<br>date=%{x}<br>position=%{y}<extra></extra>",
         "legendgroup": "Never Let Go",
         "line": {
          "color": "#EF553B",
          "dash": "solid"
         },
         "marker": {
          "symbol": "circle"
         },
         "mode": "lines",
         "name": "Never Let Go",
         "showlegend": true,
         "type": "scattergl",
         "x": [
          "2024-06-09",
          "2024-06-10",
          "2024-06-11",
          "2024-06-12",
          "2024-06-13",
          "2024-06-14",
          "2024-06-15",
          "2024-06-16"
         ],
         "xaxis": "x",
         "y": [
          14,
          21,
          21,
          24,
          28,
          31,
          34,
          48
         ],
         "yaxis": "y"
        },
        {
         "hovertemplate": "trackName=Seven (feat. Latto) (Explicit Ver.)<br>date=%{x}<br>position=%{y}<extra></extra>",
         "legendgroup": "Seven (feat. Latto) (Explicit Ver.)",
         "line": {
          "color": "#00cc96",
          "dash": "solid"
         },
         "marker": {
          "symbol": "circle"
         },
         "mode": "lines",
         "name": "Seven (feat. Latto) (Explicit Ver.)",
         "showlegend": true,
         "type": "scattergl",
         "x": [
          "2024-06-09",
          "2024-06-10",
          "2024-06-11",
          "2024-06-12",
          "2024-06-13",
          "2024-06-14",
          "2024-06-15",
          "2024-06-18",
          "2024-06-19",
          "2024-06-20",
          "2024-06-21",
          "2024-06-25",
          "2024-06-27"
         ],
         "xaxis": "x",
         "y": [
          34,
          40,
          34,
          40,
          48,
          50,
          49,
          47,
          50,
          50,
          49,
          47,
          49
         ],
         "yaxis": "y"
        },
        {
         "hovertemplate": "trackName=Close To You<br>date=%{x}<br>position=%{y}<extra></extra>",
         "legendgroup": "Close To You",
         "line": {
          "color": "#ab63fa",
          "dash": "solid"
         },
         "marker": {
          "symbol": "circle"
         },
         "mode": "lines",
         "name": "Close To You",
         "showlegend": true,
         "type": "scattergl",
         "x": [
          "2024-06-09"
         ],
         "xaxis": "x",
         "y": [
          41
         ],
         "yaxis": "y"
        },
        {
         "hovertemplate": "trackName=Standing Next to You<br>date=%{x}<br>position=%{y}<extra></extra>",
         "legendgroup": "Standing Next to You",
         "line": {
          "color": "#FFA15A",
          "dash": "solid"
         },
         "marker": {
          "symbol": "circle"
         },
         "mode": "lines",
         "name": "Standing Next to You",
         "showlegend": true,
         "type": "scattergl",
         "x": [
          "2024-06-09"
         ],
         "xaxis": "x",
         "y": [
          42
         ],
         "yaxis": "y"
        },
        {
         "hovertemplate": "trackName=REAL GANGSTA LOVE<br>date=%{x}<br>position=%{y}<extra></extra>",
         "legendgroup": "REAL GANGSTA LOVE",
         "line": {
          "color": "#19d3f3",
          "dash": "solid"
         },
         "marker": {
          "symbol": "circle"
         },
         "mode": "lines",
         "name": "REAL GANGSTA LOVE",
         "showlegend": true,
         "type": "scattergl",
         "x": [
          "2024-06-09",
          "2024-06-10",
          "2024-06-11",
          "2024-06-12",
          "2024-06-13",
          "2024-06-14",
          "2024-06-15",
          "2024-06-16",
          "2024-06-17",
          "2024-06-18",
          "2024-06-19",
          "2024-06-20",
          "2024-06-21",
          "2024-06-22",
          "2024-06-23",
          "2024-06-24",
          "2024-06-25",
          "2024-06-26",
          "2024-06-27"
         ],
         "xaxis": "x",
         "y": [
          45,
          35,
          32,
          23,
          21,
          21,
          16,
          14,
          13,
          13,
          11,
          10,
          11,
          14,
          15,
          14,
          14,
          15,
          16
         ],
         "yaxis": "y"
        },
        {
         "hovertemplate": "trackName=Like Crazy<br>date=%{x}<br>position=%{y}<extra></extra>",
         "legendgroup": "Like Crazy",
         "line": {
          "color": "#FF6692",
          "dash": "solid"
         },
         "marker": {
          "symbol": "circle"
         },
         "mode": "lines",
         "name": "Like Crazy",
         "showlegend": true,
         "type": "scattergl",
         "x": [
          "2024-06-11",
          "2024-06-17",
          "2024-06-18",
          "2024-06-22",
          "2024-06-24",
          "2024-06-25",
          "2024-06-26",
          "2024-06-27"
         ],
         "xaxis": "x",
         "y": [
          44,
          50,
          44,
          50,
          44,
          35,
          44,
          44
         ],
         "yaxis": "y"
        },
        {
         "hovertemplate": "trackName=SORRY 4 THAT MUCH<br>date=%{x}<br>position=%{y}<extra></extra>",
         "legendgroup": "SORRY 4 THAT MUCH",
         "line": {
          "color": "#B6E880",
          "dash": "solid"
         },
         "marker": {
          "symbol": "circle"
         },
         "mode": "lines",
         "name": "SORRY 4 THAT MUCH",
         "showlegend": true,
         "type": "scattergl",
         "x": [
          "2024-06-15",
          "2024-06-16",
          "2024-06-17",
          "2024-06-18",
          "2024-06-19",
          "2024-06-20",
          "2024-06-21",
          "2024-06-22",
          "2024-06-23",
          "2024-06-24"
         ],
         "xaxis": "x",
         "y": [
          37,
          36,
          31,
          41,
          41,
          38,
          41,
          48,
          50,
          42
         ],
         "yaxis": "y"
        },
        {
         "hovertemplate": "trackName=Feather<br>date=%{x}<br>position=%{y}<extra></extra>",
         "legendgroup": "Feather",
         "line": {
          "color": "#FF97FF",
          "dash": "solid"
         },
         "marker": {
          "symbol": "circle"
         },
         "mode": "lines",
         "name": "Feather",
         "showlegend": true,
         "type": "scattergl",
         "x": [
          "2024-06-15",
          "2024-06-16",
          "2024-06-17",
          "2024-06-18",
          "2024-06-19",
          "2024-06-20",
          "2024-06-21",
          "2024-06-22",
          "2024-06-23",
          "2024-06-24",
          "2024-06-25",
          "2024-06-26",
          "2024-06-27"
         ],
         "xaxis": "x",
         "y": [
          48,
          44,
          42,
          46,
          43,
          43,
          38,
          37,
          41,
          37,
          38,
          43,
          42
         ],
         "yaxis": "y"
        },
        {
         "hovertemplate": "trackName=Nonsense<br>date=%{x}<br>position=%{y}<extra></extra>",
         "legendgroup": "Nonsense",
         "line": {
          "color": "#FECB52",
          "dash": "solid"
         },
         "marker": {
          "symbol": "circle"
         },
         "mode": "lines",
         "name": "Nonsense",
         "showlegend": true,
         "type": "scattergl",
         "x": [
          "2024-06-21",
          "2024-06-22",
          "2024-06-23",
          "2024-06-24",
          "2024-06-25",
          "2024-06-26",
          "2024-06-27"
         ],
         "xaxis": "x",
         "y": [
          50,
          44,
          44,
          41,
          45,
          46,
          43
         ],
         "yaxis": "y"
        },
        {
         "hovertemplate": "trackName=us. (feat. Taylor Swift)<br>date=%{x}<br>position=%{y}<extra></extra>",
         "legendgroup": "us. (feat. Taylor Swift)",
         "line": {
          "color": "#636efa",
          "dash": "solid"
         },
         "marker": {
          "symbol": "circle"
         },
         "mode": "lines",
         "name": "us. (feat. Taylor Swift)",
         "showlegend": true,
         "type": "scattergl",
         "x": [
          "2024-06-23",
          "2024-06-26",
          "2024-06-27"
         ],
         "xaxis": "x",
         "y": [
          25,
          47,
          50
         ],
         "yaxis": "y"
        },
        {
         "hovertemplate": "trackName=Si Antes Te Hubiera Conocido<br>date=%{x}<br>position=%{y}<extra></extra>",
         "legendgroup": "Si Antes Te Hubiera Conocido",
         "line": {
          "color": "#EF553B",
          "dash": "solid"
         },
         "marker": {
          "symbol": "circle"
         },
         "mode": "lines",
         "name": "Si Antes Te Hubiera Conocido",
         "showlegend": true,
         "type": "scattergl",
         "x": [
          "2024-06-23",
          "2024-06-24",
          "2024-06-25",
          "2024-06-26",
          "2024-06-27"
         ],
         "xaxis": "x",
         "y": [
          27,
          26,
          23,
          17,
          14
         ],
         "yaxis": "y"
        },
        {
         "hovertemplate": "trackName=Pour Me A Drink (Feat. Blake Shelton)<br>date=%{x}<br>position=%{y}<extra></extra>",
         "legendgroup": "Pour Me A Drink (Feat. Blake Shelton)",
         "line": {
          "color": "#00cc96",
          "dash": "solid"
         },
         "marker": {
          "symbol": "circle"
         },
         "mode": "lines",
         "name": "Pour Me A Drink (Feat. Blake Shelton)",
         "showlegend": true,
         "type": "scattergl",
         "x": [
          "2024-06-23",
          "2024-06-26",
          "2024-06-27"
         ],
         "xaxis": "x",
         "y": [
          31,
          42,
          38
         ],
         "yaxis": "y"
        },
        {
         "hovertemplate": "trackName=feelslikeimfallinginlove<br>date=%{x}<br>position=%{y}<extra></extra>",
         "legendgroup": "feelslikeimfallinginlove",
         "line": {
          "color": "#ab63fa",
          "dash": "solid"
         },
         "marker": {
          "symbol": "circle"
         },
         "mode": "lines",
         "name": "feelslikeimfallinginlove",
         "showlegend": true,
         "type": "scattergl",
         "x": [
          "2024-06-23"
         ],
         "xaxis": "x",
         "y": [
          42
         ],
         "yaxis": "y"
        },
        {
         "hovertemplate": "trackName=the boy is mine<br>date=%{x}<br>position=%{y}<extra></extra>",
         "legendgroup": "the boy is mine",
         "line": {
          "color": "#FFA15A",
          "dash": "solid"
         },
         "marker": {
          "symbol": "circle"
         },
         "mode": "lines",
         "name": "the boy is mine",
         "showlegend": true,
         "type": "scattergl",
         "x": [
          "2024-06-23"
         ],
         "xaxis": "x",
         "y": [
          45
         ],
         "yaxis": "y"
        },
        {
         "hovertemplate": "trackName=The girl, so confusing version with lorde<br>date=%{x}<br>position=%{y}<extra></extra>",
         "legendgroup": "The girl, so confusing version with lorde",
         "line": {
          "color": "#19d3f3",
          "dash": "solid"
         },
         "marker": {
          "symbol": "circle"
         },
         "mode": "lines",
         "name": "The girl, so confusing version with lorde",
         "showlegend": true,
         "type": "scattergl",
         "x": [
          "2024-06-23"
         ],
         "xaxis": "x",
         "y": [
          47
         ],
         "yaxis": "y"
        },
        {
         "hovertemplate": "trackName=Evergreen<br>date=%{x}<br>position=%{y}<extra></extra>",
         "legendgroup": "Evergreen",
         "line": {
          "color": "#FF6692",
          "dash": "solid"
         },
         "marker": {
          "symbol": "circle"
         },
         "mode": "lines",
         "name": "Evergreen",
         "showlegend": true,
         "type": "scattergl",
         "x": [
          "2024-06-25"
         ],
         "xaxis": "x",
         "y": [
          50
         ],
         "yaxis": "y"
        },
        {
         "hovertemplate": "trackName=DEVIL IS A LIE<br>date=%{x}<br>position=%{y}<extra></extra>",
         "legendgroup": "DEVIL IS A LIE",
         "line": {
          "color": "#B6E880",
          "dash": "solid"
         },
         "marker": {
          "symbol": "circle"
         },
         "mode": "lines",
         "name": "DEVIL IS A LIE",
         "showlegend": true,
         "type": "scattergl",
         "x": [
          "2024-06-26",
          "2024-06-27"
         ],
         "xaxis": "x",
         "y": [
          45,
          46
         ],
         "yaxis": "y"
        }
       ],
       "layout": {
        "height": 800,
        "legend": {
         "title": {
          "text": "trackName"
         },
         "tracegroupgap": 0
        },
        "template": {
         "data": {
          "bar": [
           {
            "error_x": {
             "color": "#2a3f5f"
            },
            "error_y": {
             "color": "#2a3f5f"
            },
            "marker": {
             "line": {
              "color": "#E5ECF6",
              "width": 0.5
             },
             "pattern": {
              "fillmode": "overlay",
              "size": 10,
              "solidity": 0.2
             }
            },
            "type": "bar"
           }
          ],
          "barpolar": [
           {
            "marker": {
             "line": {
              "color": "#E5ECF6",
              "width": 0.5
             },
             "pattern": {
              "fillmode": "overlay",
              "size": 10,
              "solidity": 0.2
             }
            },
            "type": "barpolar"
           }
          ],
          "carpet": [
           {
            "aaxis": {
             "endlinecolor": "#2a3f5f",
             "gridcolor": "white",
             "linecolor": "white",
             "minorgridcolor": "white",
             "startlinecolor": "#2a3f5f"
            },
            "baxis": {
             "endlinecolor": "#2a3f5f",
             "gridcolor": "white",
             "linecolor": "white",
             "minorgridcolor": "white",
             "startlinecolor": "#2a3f5f"
            },
            "type": "carpet"
           }
          ],
          "choropleth": [
           {
            "colorbar": {
             "outlinewidth": 0,
             "ticks": ""
            },
            "type": "choropleth"
           }
          ],
          "contour": [
           {
            "colorbar": {
             "outlinewidth": 0,
             "ticks": ""
            },
            "colorscale": [
             [
              0,
              "#0d0887"
             ],
             [
              0.1111111111111111,
              "#46039f"
             ],
             [
              0.2222222222222222,
              "#7201a8"
             ],
             [
              0.3333333333333333,
              "#9c179e"
             ],
             [
              0.4444444444444444,
              "#bd3786"
             ],
             [
              0.5555555555555556,
              "#d8576b"
             ],
             [
              0.6666666666666666,
              "#ed7953"
             ],
             [
              0.7777777777777778,
              "#fb9f3a"
             ],
             [
              0.8888888888888888,
              "#fdca26"
             ],
             [
              1,
              "#f0f921"
             ]
            ],
            "type": "contour"
           }
          ],
          "contourcarpet": [
           {
            "colorbar": {
             "outlinewidth": 0,
             "ticks": ""
            },
            "type": "contourcarpet"
           }
          ],
          "heatmap": [
           {
            "colorbar": {
             "outlinewidth": 0,
             "ticks": ""
            },
            "colorscale": [
             [
              0,
              "#0d0887"
             ],
             [
              0.1111111111111111,
              "#46039f"
             ],
             [
              0.2222222222222222,
              "#7201a8"
             ],
             [
              0.3333333333333333,
              "#9c179e"
             ],
             [
              0.4444444444444444,
              "#bd3786"
             ],
             [
              0.5555555555555556,
              "#d8576b"
             ],
             [
              0.6666666666666666,
              "#ed7953"
             ],
             [
              0.7777777777777778,
              "#fb9f3a"
             ],
             [
              0.8888888888888888,
              "#fdca26"
             ],
             [
              1,
              "#f0f921"
             ]
            ],
            "type": "heatmap"
           }
          ],
          "heatmapgl": [
           {
            "colorbar": {
             "outlinewidth": 0,
             "ticks": ""
            },
            "colorscale": [
             [
              0,
              "#0d0887"
             ],
             [
              0.1111111111111111,
              "#46039f"
             ],
             [
              0.2222222222222222,
              "#7201a8"
             ],
             [
              0.3333333333333333,
              "#9c179e"
             ],
             [
              0.4444444444444444,
              "#bd3786"
             ],
             [
              0.5555555555555556,
              "#d8576b"
             ],
             [
              0.6666666666666666,
              "#ed7953"
             ],
             [
              0.7777777777777778,
              "#fb9f3a"
             ],
             [
              0.8888888888888888,
              "#fdca26"
             ],
             [
              1,
              "#f0f921"
             ]
            ],
            "type": "heatmapgl"
           }
          ],
          "histogram": [
           {
            "marker": {
             "pattern": {
              "fillmode": "overlay",
              "size": 10,
              "solidity": 0.2
             }
            },
            "type": "histogram"
           }
          ],
          "histogram2d": [
           {
            "colorbar": {
             "outlinewidth": 0,
             "ticks": ""
            },
            "colorscale": [
             [
              0,
              "#0d0887"
             ],
             [
              0.1111111111111111,
              "#46039f"
             ],
             [
              0.2222222222222222,
              "#7201a8"
             ],
             [
              0.3333333333333333,
              "#9c179e"
             ],
             [
              0.4444444444444444,
              "#bd3786"
             ],
             [
              0.5555555555555556,
              "#d8576b"
             ],
             [
              0.6666666666666666,
              "#ed7953"
             ],
             [
              0.7777777777777778,
              "#fb9f3a"
             ],
             [
              0.8888888888888888,
              "#fdca26"
             ],
             [
              1,
              "#f0f921"
             ]
            ],
            "type": "histogram2d"
           }
          ],
          "histogram2dcontour": [
           {
            "colorbar": {
             "outlinewidth": 0,
             "ticks": ""
            },
            "colorscale": [
             [
              0,
              "#0d0887"
             ],
             [
              0.1111111111111111,
              "#46039f"
             ],
             [
              0.2222222222222222,
              "#7201a8"
             ],
             [
              0.3333333333333333,
              "#9c179e"
             ],
             [
              0.4444444444444444,
              "#bd3786"
             ],
             [
              0.5555555555555556,
              "#d8576b"
             ],
             [
              0.6666666666666666,
              "#ed7953"
             ],
             [
              0.7777777777777778,
              "#fb9f3a"
             ],
             [
              0.8888888888888888,
              "#fdca26"
             ],
             [
              1,
              "#f0f921"
             ]
            ],
            "type": "histogram2dcontour"
           }
          ],
          "mesh3d": [
           {
            "colorbar": {
             "outlinewidth": 0,
             "ticks": ""
            },
            "type": "mesh3d"
           }
          ],
          "parcoords": [
           {
            "line": {
             "colorbar": {
              "outlinewidth": 0,
              "ticks": ""
             }
            },
            "type": "parcoords"
           }
          ],
          "pie": [
           {
            "automargin": true,
            "type": "pie"
           }
          ],
          "scatter": [
           {
            "fillpattern": {
             "fillmode": "overlay",
             "size": 10,
             "solidity": 0.2
            },
            "type": "scatter"
           }
          ],
          "scatter3d": [
           {
            "line": {
             "colorbar": {
              "outlinewidth": 0,
              "ticks": ""
             }
            },
            "marker": {
             "colorbar": {
              "outlinewidth": 0,
              "ticks": ""
             }
            },
            "type": "scatter3d"
           }
          ],
          "scattercarpet": [
           {
            "marker": {
             "colorbar": {
              "outlinewidth": 0,
              "ticks": ""
             }
            },
            "type": "scattercarpet"
           }
          ],
          "scattergeo": [
           {
            "marker": {
             "colorbar": {
              "outlinewidth": 0,
              "ticks": ""
             }
            },
            "type": "scattergeo"
           }
          ],
          "scattergl": [
           {
            "marker": {
             "colorbar": {
              "outlinewidth": 0,
              "ticks": ""
             }
            },
            "type": "scattergl"
           }
          ],
          "scattermapbox": [
           {
            "marker": {
             "colorbar": {
              "outlinewidth": 0,
              "ticks": ""
             }
            },
            "type": "scattermapbox"
           }
          ],
          "scatterpolar": [
           {
            "marker": {
             "colorbar": {
              "outlinewidth": 0,
              "ticks": ""
             }
            },
            "type": "scatterpolar"
           }
          ],
          "scatterpolargl": [
           {
            "marker": {
             "colorbar": {
              "outlinewidth": 0,
              "ticks": ""
             }
            },
            "type": "scatterpolargl"
           }
          ],
          "scatterternary": [
           {
            "marker": {
             "colorbar": {
              "outlinewidth": 0,
              "ticks": ""
             }
            },
            "type": "scatterternary"
           }
          ],
          "surface": [
           {
            "colorbar": {
             "outlinewidth": 0,
             "ticks": ""
            },
            "colorscale": [
             [
              0,
              "#0d0887"
             ],
             [
              0.1111111111111111,
              "#46039f"
             ],
             [
              0.2222222222222222,
              "#7201a8"
             ],
             [
              0.3333333333333333,
              "#9c179e"
             ],
             [
              0.4444444444444444,
              "#bd3786"
             ],
             [
              0.5555555555555556,
              "#d8576b"
             ],
             [
              0.6666666666666666,
              "#ed7953"
             ],
             [
              0.7777777777777778,
              "#fb9f3a"
             ],
             [
              0.8888888888888888,
              "#fdca26"
             ],
             [
              1,
              "#f0f921"
             ]
            ],
            "type": "surface"
           }
          ],
          "table": [
           {
            "cells": {
             "fill": {
              "color": "#EBF0F8"
             },
             "line": {
              "color": "white"
             }
            },
            "header": {
             "fill": {
              "color": "#C8D4E3"
             },
             "line": {
              "color": "white"
             }
            },
            "type": "table"
           }
          ]
         },
         "layout": {
          "annotationdefaults": {
           "arrowcolor": "#2a3f5f",
           "arrowhead": 0,
           "arrowwidth": 1
          },
          "autotypenumbers": "strict",
          "coloraxis": {
           "colorbar": {
            "outlinewidth": 0,
            "ticks": ""
           }
          },
          "colorscale": {
           "diverging": [
            [
             0,
             "#8e0152"
            ],
            [
             0.1,
             "#c51b7d"
            ],
            [
             0.2,
             "#de77ae"
            ],
            [
             0.3,
             "#f1b6da"
            ],
            [
             0.4,
             "#fde0ef"
            ],
            [
             0.5,
             "#f7f7f7"
            ],
            [
             0.6,
             "#e6f5d0"
            ],
            [
             0.7,
             "#b8e186"
            ],
            [
             0.8,
             "#7fbc41"
            ],
            [
             0.9,
             "#4d9221"
            ],
            [
             1,
             "#276419"
            ]
           ],
           "sequential": [
            [
             0,
             "#0d0887"
            ],
            [
             0.1111111111111111,
             "#46039f"
            ],
            [
             0.2222222222222222,
             "#7201a8"
            ],
            [
             0.3333333333333333,
             "#9c179e"
            ],
            [
             0.4444444444444444,
             "#bd3786"
            ],
            [
             0.5555555555555556,
             "#d8576b"
            ],
            [
             0.6666666666666666,
             "#ed7953"
            ],
            [
             0.7777777777777778,
             "#fb9f3a"
            ],
            [
             0.8888888888888888,
             "#fdca26"
            ],
            [
             1,
             "#f0f921"
            ]
           ],
           "sequentialminus": [
            [
             0,
             "#0d0887"
            ],
            [
             0.1111111111111111,
             "#46039f"
            ],
            [
             0.2222222222222222,
             "#7201a8"
            ],
            [
             0.3333333333333333,
             "#9c179e"
            ],
            [
             0.4444444444444444,
             "#bd3786"
            ],
            [
             0.5555555555555556,
             "#d8576b"
            ],
            [
             0.6666666666666666,
             "#ed7953"
            ],
            [
             0.7777777777777778,
             "#fb9f3a"
            ],
            [
             0.8888888888888888,
             "#fdca26"
            ],
            [
             1,
             "#f0f921"
            ]
           ]
          },
          "colorway": [
           "#636efa",
           "#EF553B",
           "#00cc96",
           "#ab63fa",
           "#FFA15A",
           "#19d3f3",
           "#FF6692",
           "#B6E880",
           "#FF97FF",
           "#FECB52"
          ],
          "font": {
           "color": "#2a3f5f"
          },
          "geo": {
           "bgcolor": "white",
           "lakecolor": "white",
           "landcolor": "#E5ECF6",
           "showlakes": true,
           "showland": true,
           "subunitcolor": "white"
          },
          "hoverlabel": {
           "align": "left"
          },
          "hovermode": "closest",
          "mapbox": {
           "style": "light"
          },
          "paper_bgcolor": "white",
          "plot_bgcolor": "#E5ECF6",
          "polar": {
           "angularaxis": {
            "gridcolor": "white",
            "linecolor": "white",
            "ticks": ""
           },
           "bgcolor": "#E5ECF6",
           "radialaxis": {
            "gridcolor": "white",
            "linecolor": "white",
            "ticks": ""
           }
          },
          "scene": {
           "xaxis": {
            "backgroundcolor": "#E5ECF6",
            "gridcolor": "white",
            "gridwidth": 2,
            "linecolor": "white",
            "showbackground": true,
            "ticks": "",
            "zerolinecolor": "white"
           },
           "yaxis": {
            "backgroundcolor": "#E5ECF6",
            "gridcolor": "white",
            "gridwidth": 2,
            "linecolor": "white",
            "showbackground": true,
            "ticks": "",
            "zerolinecolor": "white"
           },
           "zaxis": {
            "backgroundcolor": "#E5ECF6",
            "gridcolor": "white",
            "gridwidth": 2,
            "linecolor": "white",
            "showbackground": true,
            "ticks": "",
            "zerolinecolor": "white"
           }
          },
          "shapedefaults": {
           "line": {
            "color": "#2a3f5f"
           }
          },
          "ternary": {
           "aaxis": {
            "gridcolor": "white",
            "linecolor": "white",
            "ticks": ""
           },
           "baxis": {
            "gridcolor": "white",
            "linecolor": "white",
            "ticks": ""
           },
           "bgcolor": "#E5ECF6",
           "caxis": {
            "gridcolor": "white",
            "linecolor": "white",
            "ticks": ""
           }
          },
          "title": {
           "x": 0.05
          },
          "xaxis": {
           "automargin": true,
           "gridcolor": "white",
           "linecolor": "white",
           "ticks": "",
           "title": {
            "standoff": 15
           },
           "zerolinecolor": "white",
           "zerolinewidth": 2
          },
          "yaxis": {
           "automargin": true,
           "gridcolor": "white",
           "linecolor": "white",
           "ticks": "",
           "title": {
            "standoff": 15
           },
           "zerolinecolor": "white",
           "zerolinewidth": 2
          }
         }
        },
        "title": {
         "text": "Evolución temporal de la posición en la lista"
        },
        "xaxis": {
         "anchor": "y",
         "domain": [
          0,
          1
         ],
         "title": {
          "text": "date"
         }
        },
        "yaxis": {
         "anchor": "x",
         "autorange": "reversed",
         "domain": [
          0,
          1
         ],
         "title": {
          "text": "position"
         }
        }
       }
      }
     },
     "metadata": {},
     "output_type": "display_data"
    }
   ],
   "source": [
    "import plotly.express as px\n",
    "\n",
    "# Ordena el dataframe por 'date' y 'position'\n",
    "spotify_df.sort_values(['date', 'position'], inplace=True)\n",
    "\n",
    "# Selecciona los 5 tracks más populares de cada día\n",
    "df_populares = spotify_df.groupby('date').head(5)\n",
    "\n",
    "# Obtiene los nombres de los tracks más populares\n",
    "tracks_populares = df_populares['trackName'].unique()\n",
    "\n",
    "# Filtra el dataframe original para incluir solo los tracks más populares\n",
    "df_filtrado = spotify_df[spotify_df['trackName'].isin(tracks_populares)]\n",
    "\n",
    "# Crea el gráfico de líneas\n",
    "fig = px.line(df_filtrado, x='date', y='position', color='trackName', title='Evolución temporal de la posición en la lista')\n",
    "\n",
    "# Invierte el eje y para que la posición 1 aparezca en la parte superior\n",
    "fig.update_yaxes(autorange=\"reversed\")\n",
    "\n",
    "fig.show()\n",
    "\n",
    "fig = px.line(spotify_df, x='date', y='position', color='trackName', title='Evolución temporal de la posición en la lista')\n",
    "\n",
    "# Invierte el eje y para que la posición 1 aparezca en la parte superior\n",
    "fig.update_yaxes(autorange=\"reversed\")\n",
    "\n",
    "fig.update_layout(height=800)\n",
    "\n",
    "fig.show()"
   ]
  },
  {
   "cell_type": "code",
   "execution_count": 25,
   "id": "f41e11ae-5cbe-4077-9e00-08029dcdcf61",
   "metadata": {},
   "outputs": [
    {
     "data": {
      "text/html": [
       "<div>\n",
       "<style scoped>\n",
       "    .dataframe tbody tr th:only-of-type {\n",
       "        vertical-align: middle;\n",
       "    }\n",
       "\n",
       "    .dataframe tbody tr th {\n",
       "        vertical-align: top;\n",
       "    }\n",
       "\n",
       "    .dataframe thead th {\n",
       "        text-align: right;\n",
       "    }\n",
       "</style>\n",
       "<table border=\"1\" class=\"dataframe\">\n",
       "  <thead>\n",
       "    <tr style=\"text-align: right;\">\n",
       "      <th></th>\n",
       "      <th>position</th>\n",
       "      <th>title</th>\n",
       "      <th>id</th>\n",
       "      <th>user</th>\n",
       "      <th>views</th>\n",
       "      <th>likes</th>\n",
       "      <th>comments</th>\n",
       "      <th>original_music</th>\n",
       "      <th>musicTitle</th>\n",
       "      <th>musicId</th>\n",
       "      <th>date</th>\n",
       "      <th>trackName</th>\n",
       "      <th>artists</th>\n",
       "    </tr>\n",
       "  </thead>\n",
       "  <tbody>\n",
       "    <tr>\n",
       "      <th>0</th>\n",
       "      <td>1</td>\n",
       "      <td>Get it Sexxxyyyyyy. Get your fav shade of tins...</td>\n",
       "      <td>7351210572395941166</td>\n",
       "      <td>.melimuah</td>\n",
       "      <td>6100000</td>\n",
       "      <td>968400</td>\n",
       "      <td>2374</td>\n",
       "      <td>False</td>\n",
       "      <td>Get It Sexyy</td>\n",
       "      <td>7342660098194148138</td>\n",
       "      <td>2024-05-16</td>\n",
       "      <td>My10</td>\n",
       "      <td>Cobra93</td>\n",
       "    </tr>\n",
       "    <tr>\n",
       "      <th>1</th>\n",
       "      <td>117</td>\n",
       "      <td>Get it Sexxxyyyyyy. Get your fav shade of tins...</td>\n",
       "      <td>7351210572395941166</td>\n",
       "      <td>.melimuah</td>\n",
       "      <td>6100000</td>\n",
       "      <td>968400</td>\n",
       "      <td>2374</td>\n",
       "      <td>False</td>\n",
       "      <td>Get It Sexyy</td>\n",
       "      <td>7342660098194148138</td>\n",
       "      <td>2024-05-16</td>\n",
       "      <td>My10</td>\n",
       "      <td>Cobra93</td>\n",
       "    </tr>\n",
       "    <tr>\n",
       "      <th>2</th>\n",
       "      <td>142</td>\n",
       "      <td>Get it Sexxxyyyyyy. Get your fav shade of tins...</td>\n",
       "      <td>7351210572395941166</td>\n",
       "      <td>.melimuah</td>\n",
       "      <td>6100000</td>\n",
       "      <td>968400</td>\n",
       "      <td>2374</td>\n",
       "      <td>False</td>\n",
       "      <td>Get It Sexyy</td>\n",
       "      <td>7342660098194148138</td>\n",
       "      <td>2024-05-16</td>\n",
       "      <td>My10</td>\n",
       "      <td>Cobra93</td>\n",
       "    </tr>\n",
       "    <tr>\n",
       "      <th>3</th>\n",
       "      <td>129</td>\n",
       "      <td>Get it Sexxxyyyyyy. Get your fav shade of tins...</td>\n",
       "      <td>7351210572395941166</td>\n",
       "      <td>.melimuah</td>\n",
       "      <td>6300000</td>\n",
       "      <td>982800</td>\n",
       "      <td>2421</td>\n",
       "      <td>False</td>\n",
       "      <td>Get It Sexyy</td>\n",
       "      <td>7342660098194148138</td>\n",
       "      <td>2024-05-23</td>\n",
       "      <td>My10</td>\n",
       "      <td>Cobra93</td>\n",
       "    </tr>\n",
       "    <tr>\n",
       "      <th>4</th>\n",
       "      <td>2</td>\n",
       "      <td>zawg and shlawg lookin spiffyð£ï¸ð£ï¸ð...</td>\n",
       "      <td>7343990419706973482</td>\n",
       "      <td>reillyd543</td>\n",
       "      <td>182500000</td>\n",
       "      <td>25800000</td>\n",
       "      <td>149300</td>\n",
       "      <td>True</td>\n",
       "      <td>som original</td>\n",
       "      <td>7325658348771085062</td>\n",
       "      <td>2024-05-16</td>\n",
       "      <td>FE!N (feat. Playboi Carti)</td>\n",
       "      <td>Travis Scott</td>\n",
       "    </tr>\n",
       "    <tr>\n",
       "      <th>5</th>\n",
       "      <td>86</td>\n",
       "      <td>zawg and shlawg lookin spiffyð£ï¸ð£ï¸ð...</td>\n",
       "      <td>7343990419706973482</td>\n",
       "      <td>reillyd543</td>\n",
       "      <td>182500000</td>\n",
       "      <td>25800000</td>\n",
       "      <td>149300</td>\n",
       "      <td>True</td>\n",
       "      <td>som original</td>\n",
       "      <td>7325658348771085062</td>\n",
       "      <td>2024-05-16</td>\n",
       "      <td>FE!N (feat. Playboi Carti)</td>\n",
       "      <td>Travis Scott</td>\n",
       "    </tr>\n",
       "    <tr>\n",
       "      <th>6</th>\n",
       "      <td>17</td>\n",
       "      <td>pov he has my heart now ðââ¬</td>\n",
       "      <td>7348629233234677034</td>\n",
       "      <td>katiana.kay</td>\n",
       "      <td>3800000</td>\n",
       "      <td>443500</td>\n",
       "      <td>1489</td>\n",
       "      <td>True</td>\n",
       "      <td>som original</td>\n",
       "      <td>7325658348771085062</td>\n",
       "      <td>2024-05-17</td>\n",
       "      <td>FE!N (feat. Playboi Carti)</td>\n",
       "      <td>Travis Scott</td>\n",
       "    </tr>\n",
       "    <tr>\n",
       "      <th>7</th>\n",
       "      <td>99</td>\n",
       "      <td>pov he has my heart now ðââ¬</td>\n",
       "      <td>7348629233234677034</td>\n",
       "      <td>katiana.kay</td>\n",
       "      <td>3800000</td>\n",
       "      <td>443500</td>\n",
       "      <td>1489</td>\n",
       "      <td>True</td>\n",
       "      <td>som original</td>\n",
       "      <td>7325658348771085062</td>\n",
       "      <td>2024-05-17</td>\n",
       "      <td>FE!N (feat. Playboi Carti)</td>\n",
       "      <td>Travis Scott</td>\n",
       "    </tr>\n",
       "    <tr>\n",
       "      <th>8</th>\n",
       "      <td>115</td>\n",
       "      <td>This ball was nuked ð±ð³ @Logan #uga #base...</td>\n",
       "      <td>7354428102904122666</td>\n",
       "      <td>kingofpointlesstrix</td>\n",
       "      <td>8100000</td>\n",
       "      <td>854300</td>\n",
       "      <td>3763</td>\n",
       "      <td>True</td>\n",
       "      <td>som original</td>\n",
       "      <td>7325658348771085062</td>\n",
       "      <td>2024-05-18</td>\n",
       "      <td>FE!N (feat. Playboi Carti)</td>\n",
       "      <td>Travis Scott</td>\n",
       "    </tr>\n",
       "    <tr>\n",
       "      <th>9</th>\n",
       "      <td>31</td>\n",
       "      <td>zawg and shlawg lookin spiffyð£ï¸ð£ï¸ð...</td>\n",
       "      <td>7343990419706973482</td>\n",
       "      <td>reillyd543</td>\n",
       "      <td>182900000</td>\n",
       "      <td>25900000</td>\n",
       "      <td>149200</td>\n",
       "      <td>True</td>\n",
       "      <td>som original</td>\n",
       "      <td>7325658348771085062</td>\n",
       "      <td>2024-05-21</td>\n",
       "      <td>FE!N (feat. Playboi Carti)</td>\n",
       "      <td>Travis Scott</td>\n",
       "    </tr>\n",
       "  </tbody>\n",
       "</table>\n",
       "</div>"
      ],
      "text/plain": [
       "   position                                              title   \n",
       "0         1  Get it Sexxxyyyyyy. Get your fav shade of tins...  \\\n",
       "1       117  Get it Sexxxyyyyyy. Get your fav shade of tins...   \n",
       "2       142  Get it Sexxxyyyyyy. Get your fav shade of tins...   \n",
       "3       129  Get it Sexxxyyyyyy. Get your fav shade of tins...   \n",
       "4         2  zawg and shlawg lookin spiffyð£ï¸ð£ï¸ð...   \n",
       "5        86  zawg and shlawg lookin spiffyð£ï¸ð£ï¸ð...   \n",
       "6        17                 pov he has my heart now ðââ¬   \n",
       "7        99                 pov he has my heart now ðââ¬   \n",
       "8       115  This ball was nuked ð±ð³ @Logan #uga #base...   \n",
       "9        31  zawg and shlawg lookin spiffyð£ï¸ð£ï¸ð...   \n",
       "\n",
       "                    id                 user      views     likes  comments   \n",
       "0  7351210572395941166            .melimuah    6100000    968400      2374  \\\n",
       "1  7351210572395941166            .melimuah    6100000    968400      2374   \n",
       "2  7351210572395941166            .melimuah    6100000    968400      2374   \n",
       "3  7351210572395941166            .melimuah    6300000    982800      2421   \n",
       "4  7343990419706973482           reillyd543  182500000  25800000    149300   \n",
       "5  7343990419706973482           reillyd543  182500000  25800000    149300   \n",
       "6  7348629233234677034          katiana.kay    3800000    443500      1489   \n",
       "7  7348629233234677034          katiana.kay    3800000    443500      1489   \n",
       "8  7354428102904122666  kingofpointlesstrix    8100000    854300      3763   \n",
       "9  7343990419706973482           reillyd543  182900000  25900000    149200   \n",
       "\n",
       "   original_music    musicTitle              musicId        date   \n",
       "0           False  Get It Sexyy  7342660098194148138  2024-05-16  \\\n",
       "1           False  Get It Sexyy  7342660098194148138  2024-05-16   \n",
       "2           False  Get It Sexyy  7342660098194148138  2024-05-16   \n",
       "3           False  Get It Sexyy  7342660098194148138  2024-05-23   \n",
       "4            True  som original  7325658348771085062  2024-05-16   \n",
       "5            True  som original  7325658348771085062  2024-05-16   \n",
       "6            True  som original  7325658348771085062  2024-05-17   \n",
       "7            True  som original  7325658348771085062  2024-05-17   \n",
       "8            True  som original  7325658348771085062  2024-05-18   \n",
       "9            True  som original  7325658348771085062  2024-05-21   \n",
       "\n",
       "                    trackName       artists  \n",
       "0                        My10       Cobra93  \n",
       "1                        My10       Cobra93  \n",
       "2                        My10       Cobra93  \n",
       "3                        My10       Cobra93  \n",
       "4  FE!N (feat. Playboi Carti)  Travis Scott  \n",
       "5  FE!N (feat. Playboi Carti)  Travis Scott  \n",
       "6  FE!N (feat. Playboi Carti)  Travis Scott  \n",
       "7  FE!N (feat. Playboi Carti)  Travis Scott  \n",
       "8  FE!N (feat. Playboi Carti)  Travis Scott  \n",
       "9  FE!N (feat. Playboi Carti)  Travis Scott  "
      ]
     },
     "execution_count": 25,
     "metadata": {},
     "output_type": "execute_result"
    }
   ],
   "source": [
    "shazam_df_fixed = shazam_df.drop_duplicates()\n",
    "tiktok_df_fixed = tiktok_df.drop_duplicates()\n",
    "\n",
    "spotifyshazam_df = pd.merge(tiktok_df_fixed, shazam_df_fixed, on='musicId', how='inner')\n",
    "\n",
    "spotifyshazam_df.head(10)"
   ]
  },
  {
   "cell_type": "code",
   "execution_count": 26,
   "id": "fd189adb",
   "metadata": {},
   "outputs": [
    {
     "data": {
      "application/vnd.plotly.v1+json": {
       "config": {
        "plotlyServerURL": "https://plot.ly"
       },
       "data": [
        {
         "hovertemplate": "trackName=20 Min<br>date=%{x}<br>views=%{y}<extra></extra>",
         "legendgroup": "20 Min",
         "line": {
          "color": "#636efa",
          "dash": "solid"
         },
         "marker": {
          "symbol": "circle"
         },
         "mode": "lines+markers",
         "name": "20 Min",
         "showlegend": true,
         "type": "scattergl",
         "x": [
          "2024-05-16"
         ],
         "xaxis": "x",
         "y": [
          4300000
         ],
         "yaxis": "y"
        },
        {
         "hovertemplate": "trackName=A Bird's Last Look<br>date=%{x}<br>views=%{y}<extra></extra>",
         "legendgroup": "A Bird's Last Look",
         "line": {
          "color": "#EF553B",
          "dash": "solid"
         },
         "marker": {
          "symbol": "circle"
         },
         "mode": "lines+markers",
         "name": "A Bird's Last Look",
         "showlegend": true,
         "type": "scattergl",
         "x": [
          "2024-05-16",
          "2024-05-17",
          "2024-05-18",
          "2024-05-19",
          "2024-05-20"
         ],
         "xaxis": "x",
         "y": [
          72000000,
          144200000,
          144400000,
          144800000,
          217800000
         ],
         "yaxis": "y"
        },
        {
         "hovertemplate": "trackName=BOOGIEMAN CULT<br>date=%{x}<br>views=%{y}<extra></extra>",
         "legendgroup": "BOOGIEMAN CULT",
         "line": {
          "color": "#00cc96",
          "dash": "solid"
         },
         "marker": {
          "symbol": "circle"
         },
         "mode": "lines+markers",
         "name": "BOOGIEMAN CULT",
         "showlegend": true,
         "type": "scattergl",
         "x": [
          "2024-05-16"
         ],
         "xaxis": "x",
         "y": [
          14100000
         ],
         "yaxis": "y"
        },
        {
         "hovertemplate": "trackName=Bonfire<br>date=%{x}<br>views=%{y}<extra></extra>",
         "legendgroup": "Bonfire",
         "line": {
          "color": "#ab63fa",
          "dash": "solid"
         },
         "marker": {
          "symbol": "circle"
         },
         "mode": "lines+markers",
         "name": "Bonfire",
         "showlegend": true,
         "type": "scattergl",
         "x": [
          "2024-05-16",
          "2024-05-17",
          "2024-06-03",
          "2024-06-04"
         ],
         "xaxis": "x",
         "y": [
          18900000,
          19000000,
          20200000,
          20400000
         ],
         "yaxis": "y"
        },
        {
         "hovertemplate": "trackName=CARNIVAL (feat. Playboi Carti)<br>date=%{x}<br>views=%{y}<extra></extra>",
         "legendgroup": "CARNIVAL (feat. Playboi Carti)",
         "line": {
          "color": "#FFA15A",
          "dash": "solid"
         },
         "marker": {
          "symbol": "circle"
         },
         "mode": "lines+markers",
         "name": "CARNIVAL (feat. Playboi Carti)",
         "showlegend": true,
         "type": "scattergl",
         "x": [
          "2024-05-16",
          "2024-05-17",
          "2024-05-21"
         ],
         "xaxis": "x",
         "y": [
          1100000,
          1200000,
          5100000
         ],
         "yaxis": "y"
        },
        {
         "hovertemplate": "trackName=CPU Love<br>date=%{x}<br>views=%{y}<extra></extra>",
         "legendgroup": "CPU Love",
         "line": {
          "color": "#19d3f3",
          "dash": "solid"
         },
         "marker": {
          "symbol": "circle"
         },
         "mode": "lines+markers",
         "name": "CPU Love",
         "showlegend": true,
         "type": "scattergl",
         "x": [
          "2024-05-16"
         ],
         "xaxis": "x",
         "y": [
          36500000
         ],
         "yaxis": "y"
        },
        {
         "hovertemplate": "trackName=Donât Take Step<br>date=%{x}<br>views=%{y}<extra></extra>",
         "legendgroup": "Donât Take Step",
         "line": {
          "color": "#FF6692",
          "dash": "solid"
         },
         "marker": {
          "symbol": "circle"
         },
         "mode": "lines+markers",
         "name": "Donât Take Step",
         "showlegend": true,
         "type": "scattergl",
         "x": [
          "2024-05-16"
         ],
         "xaxis": "x",
         "y": [
          14200000
         ],
         "yaxis": "y"
        },
        {
         "hovertemplate": "trackName=DÆ°á»i QuÃª Vui HÆ¡n<br>date=%{x}<br>views=%{y}<extra></extra>",
         "legendgroup": "DÆ°á»i QuÃª Vui HÆ¡n",
         "line": {
          "color": "#B6E880",
          "dash": "solid"
         },
         "marker": {
          "symbol": "circle"
         },
         "mode": "lines+markers",
         "name": "DÆ°á»i QuÃª Vui HÆ¡n",
         "showlegend": true,
         "type": "scattergl",
         "x": [
          "2024-05-16",
          "2024-05-21"
         ],
         "xaxis": "x",
         "y": [
          22100000,
          22200000
         ],
         "yaxis": "y"
        },
        {
         "hovertemplate": "trackName=End of Beginning<br>date=%{x}<br>views=%{y}<extra></extra>",
         "legendgroup": "End of Beginning",
         "line": {
          "color": "#FF97FF",
          "dash": "solid"
         },
         "marker": {
          "symbol": "circle"
         },
         "mode": "lines+markers",
         "name": "End of Beginning",
         "showlegend": true,
         "type": "scattergl",
         "x": [
          "2024-05-16",
          "2024-06-10",
          "2024-06-12",
          "2024-06-20"
         ],
         "xaxis": "x",
         "y": [
          39300000,
          5100000,
          46300000,
          46500000
         ],
         "yaxis": "y"
        },
        {
         "hovertemplate": "trackName=FE!N (feat. Playboi Carti)<br>date=%{x}<br>views=%{y}<extra></extra>",
         "legendgroup": "FE!N (feat. Playboi Carti)",
         "line": {
          "color": "#FECB52",
          "dash": "solid"
         },
         "marker": {
          "symbol": "circle"
         },
         "mode": "lines+markers",
         "name": "FE!N (feat. Playboi Carti)",
         "showlegend": true,
         "type": "scattergl",
         "x": [
          "2024-05-16",
          "2024-05-17",
          "2024-05-18",
          "2024-05-21",
          "2024-05-25",
          "2024-05-26"
         ],
         "xaxis": "x",
         "y": [
          365000000,
          7600000,
          8100000,
          191000000,
          5500000,
          11000000
         ],
         "yaxis": "y"
        },
        {
         "hovertemplate": "trackName=Face Value<br>date=%{x}<br>views=%{y}<extra></extra>",
         "legendgroup": "Face Value",
         "line": {
          "color": "#636efa",
          "dash": "solid"
         },
         "marker": {
          "symbol": "circle"
         },
         "mode": "lines+markers",
         "name": "Face Value",
         "showlegend": true,
         "type": "scattergl",
         "x": [
          "2024-05-16"
         ],
         "xaxis": "x",
         "y": [
          18300000
         ],
         "yaxis": "y"
        },
        {
         "hovertemplate": "trackName=Fairy<br>date=%{x}<br>views=%{y}<extra></extra>",
         "legendgroup": "Fairy",
         "line": {
          "color": "#EF553B",
          "dash": "solid"
         },
         "marker": {
          "symbol": "circle"
         },
         "mode": "lines+markers",
         "name": "Fairy",
         "showlegend": true,
         "type": "scattergl",
         "x": [
          "2024-05-16",
          "2024-05-17",
          "2024-05-18",
          "2024-05-19",
          "2024-05-20",
          "2024-05-21",
          "2024-05-23"
         ],
         "xaxis": "x",
         "y": [
          22200000,
          14800000,
          14800000,
          14800000,
          22200000,
          14800000,
          7500000
         ],
         "yaxis": "y"
        },
        {
         "hovertemplate": "trackName=Faster n Harder<br>date=%{x}<br>views=%{y}<extra></extra>",
         "legendgroup": "Faster n Harder",
         "line": {
          "color": "#00cc96",
          "dash": "solid"
         },
         "marker": {
          "symbol": "circle"
         },
         "mode": "lines+markers",
         "name": "Faster n Harder",
         "showlegend": true,
         "type": "scattergl",
         "x": [
          "2024-05-16"
         ],
         "xaxis": "x",
         "y": [
          1700000
         ],
         "yaxis": "y"
        },
        {
         "hovertemplate": "trackName=Good Googly Moogly<br>date=%{x}<br>views=%{y}<extra></extra>",
         "legendgroup": "Good Googly Moogly",
         "line": {
          "color": "#ab63fa",
          "dash": "solid"
         },
         "marker": {
          "symbol": "circle"
         },
         "mode": "lines+markers",
         "name": "Good Googly Moogly",
         "showlegend": true,
         "type": "scattergl",
         "x": [
          "2024-05-16",
          "2024-05-17",
          "2024-05-21",
          "2024-06-20"
         ],
         "xaxis": "x",
         "y": [
          13500000,
          13600000,
          15000000,
          39400000
         ],
         "yaxis": "y"
        },
        {
         "hovertemplate": "trackName=Goose Creek/ MDB<br>date=%{x}<br>views=%{y}<extra></extra>",
         "legendgroup": "Goose Creek/ MDB",
         "line": {
          "color": "#FFA15A",
          "dash": "solid"
         },
         "marker": {
          "symbol": "circle"
         },
         "mode": "lines+markers",
         "name": "Goose Creek/ MDB",
         "showlegend": true,
         "type": "scattergl",
         "x": [
          "2024-05-16",
          "2024-05-22",
          "2024-05-29",
          "2024-05-31",
          "2024-06-02",
          "2024-06-03",
          "2024-06-04"
         ],
         "xaxis": "x",
         "y": [
          6700000,
          6000000,
          10100000,
          32400000,
          11600000,
          45600000,
          23000000
         ],
         "yaxis": "y"
        },
        {
         "hovertemplate": "trackName=Grow a Pear<br>date=%{x}<br>views=%{y}<extra></extra>",
         "legendgroup": "Grow a Pear",
         "line": {
          "color": "#19d3f3",
          "dash": "solid"
         },
         "marker": {
          "symbol": "circle"
         },
         "mode": "lines+markers",
         "name": "Grow a Pear",
         "showlegend": true,
         "type": "scattergl",
         "x": [
          "2024-05-16",
          "2024-05-17",
          "2024-05-18",
          "2024-05-19",
          "2024-05-23"
         ],
         "xaxis": "x",
         "y": [
          4000000,
          24200000,
          12100000,
          4100000,
          4100000
         ],
         "yaxis": "y"
        },
        {
         "hovertemplate": "trackName=Hold My Hand<br>date=%{x}<br>views=%{y}<extra></extra>",
         "legendgroup": "Hold My Hand",
         "line": {
          "color": "#FF6692",
          "dash": "solid"
         },
         "marker": {
          "symbol": "circle"
         },
         "mode": "lines+markers",
         "name": "Hold My Hand",
         "showlegend": true,
         "type": "scattergl",
         "x": [
          "2024-05-16",
          "2024-05-17",
          "2024-05-18"
         ],
         "xaxis": "x",
         "y": [
          5400000,
          1800000,
          1800000
         ],
         "yaxis": "y"
        },
        {
         "hovertemplate": "trackName=Horse Panic<br>date=%{x}<br>views=%{y}<extra></extra>",
         "legendgroup": "Horse Panic",
         "line": {
          "color": "#B6E880",
          "dash": "solid"
         },
         "marker": {
          "symbol": "circle"
         },
         "mode": "lines+markers",
         "name": "Horse Panic",
         "showlegend": true,
         "type": "scattergl",
         "x": [
          "2024-05-16",
          "2024-05-18",
          "2024-05-21"
         ],
         "xaxis": "x",
         "y": [
          7500000,
          7600000,
          8000000
         ],
         "yaxis": "y"
        },
        {
         "hovertemplate": "trackName=How To Press a Pill<br>date=%{x}<br>views=%{y}<extra></extra>",
         "legendgroup": "How To Press a Pill",
         "line": {
          "color": "#FF97FF",
          "dash": "solid"
         },
         "marker": {
          "symbol": "circle"
         },
         "mode": "lines+markers",
         "name": "How To Press a Pill",
         "showlegend": true,
         "type": "scattergl",
         "x": [
          "2024-05-16",
          "2024-05-17",
          "2024-05-19",
          "2024-05-21"
         ],
         "xaxis": "x",
         "y": [
          60000000,
          40000000,
          40000000,
          40200000
         ],
         "yaxis": "y"
        },
        {
         "hovertemplate": "trackName=I Luv Your Girl<br>date=%{x}<br>views=%{y}<extra></extra>",
         "legendgroup": "I Luv Your Girl",
         "line": {
          "color": "#FECB52",
          "dash": "solid"
         },
         "marker": {
          "symbol": "circle"
         },
         "mode": "lines+markers",
         "name": "I Luv Your Girl",
         "showlegend": true,
         "type": "scattergl",
         "x": [
          "2024-05-16",
          "2024-05-17",
          "2024-05-18",
          "2024-05-19",
          "2024-05-21",
          "2024-05-23"
         ],
         "xaxis": "x",
         "y": [
          19200000,
          19200000,
          9600000,
          19400000,
          19400000,
          9800000
         ],
         "yaxis": "y"
        },
        {
         "hovertemplate": "trackName=I Will Survive<br>date=%{x}<br>views=%{y}<extra></extra>",
         "legendgroup": "I Will Survive",
         "line": {
          "color": "#636efa",
          "dash": "solid"
         },
         "marker": {
          "symbol": "circle"
         },
         "mode": "lines+markers",
         "name": "I Will Survive",
         "showlegend": true,
         "type": "scattergl",
         "x": [
          "2024-05-16",
          "2024-05-21",
          "2024-05-23",
          "2024-05-25",
          "2024-05-26",
          "2024-05-27",
          "2024-05-28"
         ],
         "xaxis": "x",
         "y": [
          9900000,
          10300000,
          22000000,
          11300000,
          23000000,
          23200000,
          23600000
         ],
         "yaxis": "y"
        },
        {
         "hovertemplate": "trackName=If Only<br>date=%{x}<br>views=%{y}<extra></extra>",
         "legendgroup": "If Only",
         "line": {
          "color": "#EF553B",
          "dash": "solid"
         },
         "marker": {
          "symbol": "circle"
         },
         "mode": "lines+markers",
         "name": "If Only",
         "showlegend": true,
         "type": "scattergl",
         "x": [
          "2024-05-16",
          "2024-05-18",
          "2024-05-19"
         ],
         "xaxis": "x",
         "y": [
          56200000,
          56200000,
          28100000
         ],
         "yaxis": "y"
        },
        {
         "hovertemplate": "trackName=If We Being RÃ«al<br>date=%{x}<br>views=%{y}<extra></extra>",
         "legendgroup": "If We Being RÃ«al",
         "line": {
          "color": "#00cc96",
          "dash": "solid"
         },
         "marker": {
          "symbol": "circle"
         },
         "mode": "lines+markers",
         "name": "If We Being RÃ«al",
         "showlegend": true,
         "type": "scattergl",
         "x": [
          "2024-05-16",
          "2024-05-17",
          "2024-05-18",
          "2024-05-19",
          "2024-05-20",
          "2024-05-21",
          "2024-05-27",
          "2024-05-29",
          "2024-05-31",
          "2024-06-01",
          "2024-06-02",
          "2024-06-05",
          "2024-06-07",
          "2024-06-09",
          "2024-06-10",
          "2024-06-13",
          "2024-06-14",
          "2024-06-16",
          "2024-06-18",
          "2024-06-19"
         ],
         "xaxis": "x",
         "y": [
          31000000,
          14100000,
          14200000,
          7300000,
          91000000,
          28600000,
          3600000,
          1900000,
          2000000,
          4900000,
          7100000,
          9600000,
          19200000,
          5400000,
          19400000,
          5400000,
          20000000,
          19400000,
          17800000,
          13900000
         ],
         "yaxis": "y"
        },
        {
         "hovertemplate": "trackName=Inflation<br>date=%{x}<br>views=%{y}<extra></extra>",
         "legendgroup": "Inflation",
         "line": {
          "color": "#ab63fa",
          "dash": "solid"
         },
         "marker": {
          "symbol": "circle"
         },
         "mode": "lines+markers",
         "name": "Inflation",
         "showlegend": true,
         "type": "scattergl",
         "x": [
          "2024-05-16",
          "2024-05-17",
          "2024-05-18",
          "2024-05-19",
          "2024-05-21",
          "2024-05-23"
         ],
         "xaxis": "x",
         "y": [
          19200000,
          19200000,
          9600000,
          19400000,
          19400000,
          9800000
         ],
         "yaxis": "y"
        },
        {
         "hovertemplate": "trackName=It's That Time<br>date=%{x}<br>views=%{y}<extra></extra>",
         "legendgroup": "It's That Time",
         "line": {
          "color": "#FFA15A",
          "dash": "solid"
         },
         "marker": {
          "symbol": "circle"
         },
         "mode": "lines+markers",
         "name": "It's That Time",
         "showlegend": true,
         "type": "scattergl",
         "x": [
          "2024-05-16",
          "2024-05-20",
          "2024-05-28",
          "2024-06-02"
         ],
         "xaxis": "x",
         "y": [
          17000000,
          53500000,
          1400000,
          3200000
         ],
         "yaxis": "y"
        },
        {
         "hovertemplate": "trackName=Jump<br>date=%{x}<br>views=%{y}<extra></extra>",
         "legendgroup": "Jump",
         "line": {
          "color": "#19d3f3",
          "dash": "solid"
         },
         "marker": {
          "symbol": "circle"
         },
         "mode": "lines+markers",
         "name": "Jump",
         "showlegend": true,
         "type": "scattergl",
         "x": [
          "2024-05-16",
          "2024-05-17",
          "2024-05-18",
          "2024-05-20"
         ],
         "xaxis": "x",
         "y": [
          6300000,
          6400000,
          10000000,
          6600000
         ],
         "yaxis": "y"
        },
        {
         "hovertemplate": "trackName=Kamen Rider<br>date=%{x}<br>views=%{y}<extra></extra>",
         "legendgroup": "Kamen Rider",
         "line": {
          "color": "#FF6692",
          "dash": "solid"
         },
         "marker": {
          "symbol": "circle"
         },
         "mode": "lines+markers",
         "name": "Kamen Rider",
         "showlegend": true,
         "type": "scattergl",
         "x": [
          "2024-05-16",
          "2024-05-17",
          "2024-05-31",
          "2024-06-01",
          "2024-06-02"
         ],
         "xaxis": "x",
         "y": [
          11000000,
          11100000,
          13000000,
          26800000,
          14800000
         ],
         "yaxis": "y"
        },
        {
         "hovertemplate": "trackName=Kobe Year (feat. RBG Harden)<br>date=%{x}<br>views=%{y}<extra></extra>",
         "legendgroup": "Kobe Year (feat. RBG Harden)",
         "line": {
          "color": "#B6E880",
          "dash": "solid"
         },
         "marker": {
          "symbol": "circle"
         },
         "mode": "lines+markers",
         "name": "Kobe Year (feat. RBG Harden)",
         "showlegend": true,
         "type": "scattergl",
         "x": [
          "2024-05-16"
         ],
         "xaxis": "x",
         "y": [
          7000000
         ],
         "yaxis": "y"
        },
        {
         "hovertemplate": "trackName=LET ME SEE YA MOVE!<br>date=%{x}<br>views=%{y}<extra></extra>",
         "legendgroup": "LET ME SEE YA MOVE!",
         "line": {
          "color": "#FF97FF",
          "dash": "solid"
         },
         "marker": {
          "symbol": "circle"
         },
         "mode": "lines+markers",
         "name": "LET ME SEE YA MOVE!",
         "showlegend": true,
         "type": "scattergl",
         "x": [
          "2024-05-16",
          "2024-05-23"
         ],
         "xaxis": "x",
         "y": [
          6200000,
          6300000
         ],
         "yaxis": "y"
        },
        {
         "hovertemplate": "trackName=Life Is Difficult (Turkish)<br>date=%{x}<br>views=%{y}<extra></extra>",
         "legendgroup": "Life Is Difficult (Turkish)",
         "line": {
          "color": "#FECB52",
          "dash": "solid"
         },
         "marker": {
          "symbol": "circle"
         },
         "mode": "lines+markers",
         "name": "Life Is Difficult (Turkish)",
         "showlegend": true,
         "type": "scattergl",
         "x": [
          "2024-05-16",
          "2024-05-17",
          "2024-05-18"
         ],
         "xaxis": "x",
         "y": [
          72700000,
          145400000,
          145600000
         ],
         "yaxis": "y"
        },
        {
         "hovertemplate": "trackName=MALA (feat. Anuel AA)<br>date=%{x}<br>views=%{y}<extra></extra>",
         "legendgroup": "MALA (feat. Anuel AA)",
         "line": {
          "color": "#636efa",
          "dash": "solid"
         },
         "marker": {
          "symbol": "circle"
         },
         "mode": "lines+markers",
         "name": "MALA (feat. Anuel AA)",
         "showlegend": true,
         "type": "scattergl",
         "x": [
          "2024-05-16",
          "2024-05-18",
          "2024-05-30",
          "2024-06-20"
         ],
         "xaxis": "x",
         "y": [
          129000000,
          29800,
          8200000,
          268400000
         ],
         "yaxis": "y"
        },
        {
         "hovertemplate": "trackName=MILLION DOLLAR BABY<br>date=%{x}<br>views=%{y}<extra></extra>",
         "legendgroup": "MILLION DOLLAR BABY",
         "line": {
          "color": "#EF553B",
          "dash": "solid"
         },
         "marker": {
          "symbol": "circle"
         },
         "mode": "lines+markers",
         "name": "MILLION DOLLAR BABY",
         "showlegend": true,
         "type": "scattergl",
         "x": [
          "2024-05-16",
          "2024-05-22",
          "2024-05-25",
          "2024-05-28",
          "2024-05-29",
          "2024-05-30",
          "2024-05-31",
          "2024-06-02",
          "2024-06-03",
          "2024-06-04",
          "2024-06-05",
          "2024-06-15",
          "2024-06-17",
          "2024-06-20",
          "2024-06-21",
          "2024-06-22",
          "2024-06-23",
          "2024-06-26"
         ],
         "xaxis": "x",
         "y": [
          6700000,
          40000000,
          7000000,
          7800000,
          78500000,
          60800000,
          132100000,
          11600000,
          45600000,
          30200000,
          0,
          107000000,
          96200000,
          98700000,
          99100000,
          113500000,
          138700000,
          26900000
         ],
         "yaxis": "y"
        },
        {
         "hovertemplate": "trackName=Make Up!<br>date=%{x}<br>views=%{y}<extra></extra>",
         "legendgroup": "Make Up!",
         "line": {
          "color": "#00cc96",
          "dash": "solid"
         },
         "marker": {
          "symbol": "circle"
         },
         "mode": "lines+markers",
         "name": "Make Up!",
         "showlegend": true,
         "type": "scattergl",
         "x": [
          "2024-05-16",
          "2024-05-17",
          "2024-05-18",
          "2024-05-19",
          "2024-05-20",
          "2024-05-21",
          "2024-05-23",
          "2024-05-24",
          "2024-05-25",
          "2024-05-26",
          "2024-05-28"
         ],
         "xaxis": "x",
         "y": [
          6000000,
          14700000,
          20700000,
          15000000,
          6000000,
          6000000,
          9300000,
          3100000,
          16000000,
          6800000,
          20000000
         ],
         "yaxis": "y"
        },
        {
         "hovertemplate": "trackName=Mi Casa Su Casa<br>date=%{x}<br>views=%{y}<extra></extra>",
         "legendgroup": "Mi Casa Su Casa",
         "line": {
          "color": "#ab63fa",
          "dash": "solid"
         },
         "marker": {
          "symbol": "circle"
         },
         "mode": "lines+markers",
         "name": "Mi Casa Su Casa",
         "showlegend": true,
         "type": "scattergl",
         "x": [
          "2024-05-16"
         ],
         "xaxis": "x",
         "y": [
          3400000
         ],
         "yaxis": "y"
        },
        {
         "hovertemplate": "trackName=Missy Elliott Wtf<br>date=%{x}<br>views=%{y}<extra></extra>",
         "legendgroup": "Missy Elliott Wtf",
         "line": {
          "color": "#FFA15A",
          "dash": "solid"
         },
         "marker": {
          "symbol": "circle"
         },
         "mode": "lines+markers",
         "name": "Missy Elliott Wtf",
         "showlegend": true,
         "type": "scattergl",
         "x": [
          "2024-05-16",
          "2024-05-17",
          "2024-05-20"
         ],
         "xaxis": "x",
         "y": [
          5300000,
          5300000,
          5400000
         ],
         "yaxis": "y"
        },
        {
         "hovertemplate": "trackName=Money! (Money Money, Green Green)<br>date=%{x}<br>views=%{y}<extra></extra>",
         "legendgroup": "Money! (Money Money, Green Green)",
         "line": {
          "color": "#19d3f3",
          "dash": "solid"
         },
         "marker": {
          "symbol": "circle"
         },
         "mode": "lines+markers",
         "name": "Money! (Money Money, Green Green)",
         "showlegend": true,
         "type": "scattergl",
         "x": [
          "2024-05-16",
          "2024-05-23"
         ],
         "xaxis": "x",
         "y": [
          5300000,
          12300000
         ],
         "yaxis": "y"
        },
        {
         "hovertemplate": "trackName=Moon River<br>date=%{x}<br>views=%{y}<extra></extra>",
         "legendgroup": "Moon River",
         "line": {
          "color": "#FF6692",
          "dash": "solid"
         },
         "marker": {
          "symbol": "circle"
         },
         "mode": "lines+markers",
         "name": "Moon River",
         "showlegend": true,
         "type": "scattergl",
         "x": [
          "2024-05-16",
          "2024-05-17",
          "2024-05-23",
          "2024-05-24",
          "2024-05-25",
          "2024-05-29",
          "2024-05-30",
          "2024-05-31",
          "2024-06-01",
          "2024-06-02",
          "2024-06-03"
         ],
         "xaxis": "x",
         "y": [
          5800000,
          5900000,
          19200000,
          6400000,
          13000000,
          13300000,
          20100000,
          20100000,
          13400000,
          20400000,
          13600000
         ],
         "yaxis": "y"
        },
        {
         "hovertemplate": "trackName=Mr Take That Risk<br>date=%{x}<br>views=%{y}<extra></extra>",
         "legendgroup": "Mr Take That Risk",
         "line": {
          "color": "#B6E880",
          "dash": "solid"
         },
         "marker": {
          "symbol": "circle"
         },
         "mode": "lines+markers",
         "name": "Mr Take That Risk",
         "showlegend": true,
         "type": "scattergl",
         "x": [
          "2024-05-16"
         ],
         "xaxis": "x",
         "y": [
          5800000
         ],
         "yaxis": "y"
        },
        {
         "hovertemplate": "trackName=Mundian To Bach Ke<br>date=%{x}<br>views=%{y}<extra></extra>",
         "legendgroup": "Mundian To Bach Ke",
         "line": {
          "color": "#FF97FF",
          "dash": "solid"
         },
         "marker": {
          "symbol": "circle"
         },
         "mode": "lines+markers",
         "name": "Mundian To Bach Ke",
         "showlegend": true,
         "type": "scattergl",
         "x": [
          "2024-05-16"
         ],
         "xaxis": "x",
         "y": [
          27000000
         ],
         "yaxis": "y"
        },
        {
         "hovertemplate": "trackName=My Love Mine All Mine<br>date=%{x}<br>views=%{y}<extra></extra>",
         "legendgroup": "My Love Mine All Mine",
         "line": {
          "color": "#FECB52",
          "dash": "solid"
         },
         "marker": {
          "symbol": "circle"
         },
         "mode": "lines+markers",
         "name": "My Love Mine All Mine",
         "showlegend": true,
         "type": "scattergl",
         "x": [
          "2024-05-16",
          "2024-05-17",
          "2024-05-18"
         ],
         "xaxis": "x",
         "y": [
          72700000,
          145400000,
          145600000
         ],
         "yaxis": "y"
        },
        {
         "hovertemplate": "trackName=My10<br>date=%{x}<br>views=%{y}<extra></extra>",
         "legendgroup": "My10",
         "line": {
          "color": "#636efa",
          "dash": "solid"
         },
         "marker": {
          "symbol": "circle"
         },
         "mode": "lines+markers",
         "name": "My10",
         "showlegend": true,
         "type": "scattergl",
         "x": [
          "2024-05-16",
          "2024-05-23"
         ],
         "xaxis": "x",
         "y": [
          18300000,
          6300000
         ],
         "yaxis": "y"
        },
        {
         "hovertemplate": "trackName=My12<br>date=%{x}<br>views=%{y}<extra></extra>",
         "legendgroup": "My12",
         "line": {
          "color": "#EF553B",
          "dash": "solid"
         },
         "marker": {
          "symbol": "circle"
         },
         "mode": "lines+markers",
         "name": "My12",
         "showlegend": true,
         "type": "scattergl",
         "x": [
          "2024-05-16",
          "2024-05-17",
          "2024-05-18",
          "2024-05-19",
          "2024-05-20",
          "2024-05-21"
         ],
         "xaxis": "x",
         "y": [
          40100000,
          59400000,
          49000000,
          59600000,
          57600000,
          38400000
         ],
         "yaxis": "y"
        },
        {
         "hovertemplate": "trackName=My7<br>date=%{x}<br>views=%{y}<extra></extra>",
         "legendgroup": "My7",
         "line": {
          "color": "#00cc96",
          "dash": "solid"
         },
         "marker": {
          "symbol": "circle"
         },
         "mode": "lines+markers",
         "name": "My7",
         "showlegend": true,
         "type": "scattergl",
         "x": [
          "2024-05-16",
          "2024-05-18",
          "2024-05-19",
          "2024-06-05"
         ],
         "xaxis": "x",
         "y": [
          50600000,
          25300000,
          71500000,
          0
         ],
         "yaxis": "y"
        },
        {
         "hovertemplate": "trackName=New Year, Same Tron<br>date=%{x}<br>views=%{y}<extra></extra>",
         "legendgroup": "New Year, Same Tron",
         "line": {
          "color": "#ab63fa",
          "dash": "solid"
         },
         "marker": {
          "symbol": "circle"
         },
         "mode": "lines+markers",
         "name": "New Year, Same Tron",
         "showlegend": true,
         "type": "scattergl",
         "x": [
          "2024-05-16",
          "2024-05-17",
          "2024-05-18",
          "2024-05-19",
          "2024-05-20",
          "2024-05-21"
         ],
         "xaxis": "x",
         "y": [
          3400000,
          6800000,
          6800000,
          6800000,
          7000000,
          7000000
         ],
         "yaxis": "y"
        },
        {
         "hovertemplate": "trackName=Nice & Slow (feat. Lil Dred)<br>date=%{x}<br>views=%{y}<extra></extra>",
         "legendgroup": "Nice & Slow (feat. Lil Dred)",
         "line": {
          "color": "#FFA15A",
          "dash": "solid"
         },
         "marker": {
          "symbol": "circle"
         },
         "mode": "lines+markers",
         "name": "Nice & Slow (feat. Lil Dred)",
         "showlegend": true,
         "type": "scattergl",
         "x": [
          "2024-05-16",
          "2024-05-17",
          "2024-05-19",
          "2024-05-20",
          "2024-05-21"
         ],
         "xaxis": "x",
         "y": [
          16600000,
          16600000,
          16700000,
          16700000,
          33400000
         ],
         "yaxis": "y"
        },
        {
         "hovertemplate": "trackName=Nintendo DS Soul Injection<br>date=%{x}<br>views=%{y}<extra></extra>",
         "legendgroup": "Nintendo DS Soul Injection",
         "line": {
          "color": "#19d3f3",
          "dash": "solid"
         },
         "marker": {
          "symbol": "circle"
         },
         "mode": "lines+markers",
         "name": "Nintendo DS Soul Injection",
         "showlegend": true,
         "type": "scattergl",
         "x": [
          "2024-05-16"
         ],
         "xaxis": "x",
         "y": [
          16000000
         ],
         "yaxis": "y"
        },
        {
         "hovertemplate": "trackName=Nintendo Wii (mii Channel) Song<br>date=%{x}<br>views=%{y}<extra></extra>",
         "legendgroup": "Nintendo Wii (mii Channel) Song",
         "line": {
          "color": "#FF6692",
          "dash": "solid"
         },
         "marker": {
          "symbol": "circle"
         },
         "mode": "lines+markers",
         "name": "Nintendo Wii (mii Channel) Song",
         "showlegend": true,
         "type": "scattergl",
         "x": [
          "2024-05-16",
          "2024-05-27"
         ],
         "xaxis": "x",
         "y": [
          4800000,
          5300000
         ],
         "yaxis": "y"
        },
        {
         "hovertemplate": "trackName=Nocturne<br>date=%{x}<br>views=%{y}<extra></extra>",
         "legendgroup": "Nocturne",
         "line": {
          "color": "#B6E880",
          "dash": "solid"
         },
         "marker": {
          "symbol": "circle"
         },
         "mode": "lines+markers",
         "name": "Nocturne",
         "showlegend": true,
         "type": "scattergl",
         "x": [
          "2024-05-16"
         ],
         "xaxis": "x",
         "y": [
          2300000
         ],
         "yaxis": "y"
        },
        {
         "hovertemplate": "trackName=Nowhere To Go (feat. SDOT GO)<br>date=%{x}<br>views=%{y}<extra></extra>",
         "legendgroup": "Nowhere To Go (feat. SDOT GO)",
         "line": {
          "color": "#FF97FF",
          "dash": "solid"
         },
         "marker": {
          "symbol": "circle"
         },
         "mode": "lines+markers",
         "name": "Nowhere To Go (feat. SDOT GO)",
         "showlegend": true,
         "type": "scattergl",
         "x": [
          "2024-05-16",
          "2024-05-17",
          "2024-05-19",
          "2024-05-20",
          "2024-05-21"
         ],
         "xaxis": "x",
         "y": [
          4200000,
          4400000,
          4400000,
          6600000,
          4600000
         ],
         "yaxis": "y"
        },
        {
         "hovertemplate": "trackName=Obsessed<br>date=%{x}<br>views=%{y}<extra></extra>",
         "legendgroup": "Obsessed",
         "line": {
          "color": "#FECB52",
          "dash": "solid"
         },
         "marker": {
          "symbol": "circle"
         },
         "mode": "lines+markers",
         "name": "Obsessed",
         "showlegend": true,
         "type": "scattergl",
         "x": [
          "2024-05-16",
          "2024-05-21"
         ],
         "xaxis": "x",
         "y": [
          2600000,
          2600000
         ],
         "yaxis": "y"
        },
        {
         "hovertemplate": "trackName=POKÃDANCE<br>date=%{x}<br>views=%{y}<extra></extra>",
         "legendgroup": "POKÃDANCE",
         "line": {
          "color": "#636efa",
          "dash": "solid"
         },
         "marker": {
          "symbol": "circle"
         },
         "mode": "lines+markers",
         "name": "POKÃDANCE",
         "showlegend": true,
         "type": "scattergl",
         "x": [
          "2024-05-16",
          "2024-05-19",
          "2024-05-21"
         ],
         "xaxis": "x",
         "y": [
          4700000,
          2200000,
          3200000
         ],
         "yaxis": "y"
        },
        {
         "hovertemplate": "trackName=Praise (feat. Brandon Lake, Chris Brown & Chandler Moore)<br>date=%{x}<br>views=%{y}<extra></extra>",
         "legendgroup": "Praise (feat. Brandon Lake, Chris Brown & Chandler Moore)",
         "line": {
          "color": "#EF553B",
          "dash": "solid"
         },
         "marker": {
          "symbol": "circle"
         },
         "mode": "lines+markers",
         "name": "Praise (feat. Brandon Lake, Chris Brown & Chandler Moore)",
         "showlegend": true,
         "type": "scattergl",
         "x": [
          "2024-05-16"
         ],
         "xaxis": "x",
         "y": [
          26500000
         ],
         "yaxis": "y"
        },
        {
         "hovertemplate": "trackName=Princess Diana<br>date=%{x}<br>views=%{y}<extra></extra>",
         "legendgroup": "Princess Diana",
         "line": {
          "color": "#00cc96",
          "dash": "solid"
         },
         "marker": {
          "symbol": "circle"
         },
         "mode": "lines+markers",
         "name": "Princess Diana",
         "showlegend": true,
         "type": "scattergl",
         "x": [
          "2024-05-16",
          "2024-05-17",
          "2024-05-23"
         ],
         "xaxis": "x",
         "y": [
          11100000,
          7400000,
          3900000
         ],
         "yaxis": "y"
        },
        {
         "hovertemplate": "trackName=Psycho<br>date=%{x}<br>views=%{y}<extra></extra>",
         "legendgroup": "Psycho",
         "line": {
          "color": "#ab63fa",
          "dash": "solid"
         },
         "marker": {
          "symbol": "circle"
         },
         "mode": "lines+markers",
         "name": "Psycho",
         "showlegend": true,
         "type": "scattergl",
         "x": [
          "2024-05-16"
         ],
         "xaxis": "x",
         "y": [
          25000000
         ],
         "yaxis": "y"
        },
        {
         "hovertemplate": "trackName=RAHHHH<br>date=%{x}<br>views=%{y}<extra></extra>",
         "legendgroup": "RAHHHH",
         "line": {
          "color": "#FFA15A",
          "dash": "solid"
         },
         "marker": {
          "symbol": "circle"
         },
         "mode": "lines+markers",
         "name": "RAHHHH",
         "showlegend": true,
         "type": "scattergl",
         "x": [
          "2024-05-16",
          "2024-05-17",
          "2024-05-18",
          "2024-05-19",
          "2024-05-20",
          "2024-05-21",
          "2024-05-23"
         ],
         "xaxis": "x",
         "y": [
          202300000,
          150800000,
          148500000,
          109200000,
          189400000,
          190000000,
          40400000
         ],
         "yaxis": "y"
        },
        {
         "hovertemplate": "trackName=Requiem<br>date=%{x}<br>views=%{y}<extra></extra>",
         "legendgroup": "Requiem",
         "line": {
          "color": "#19d3f3",
          "dash": "solid"
         },
         "marker": {
          "symbol": "circle"
         },
         "mode": "lines+markers",
         "name": "Requiem",
         "showlegend": true,
         "type": "scattergl",
         "x": [
          "2024-05-16"
         ],
         "xaxis": "x",
         "y": [
          30100000
         ],
         "yaxis": "y"
        },
        {
         "hovertemplate": "trackName=Sacrifice<br>date=%{x}<br>views=%{y}<extra></extra>",
         "legendgroup": "Sacrifice",
         "line": {
          "color": "#FF6692",
          "dash": "solid"
         },
         "marker": {
          "symbol": "circle"
         },
         "mode": "lines+markers",
         "name": "Sacrifice",
         "showlegend": true,
         "type": "scattergl",
         "x": [
          "2024-05-16"
         ],
         "xaxis": "x",
         "y": [
          30100000
         ],
         "yaxis": "y"
        },
        {
         "hovertemplate": "trackName=San Sanana<br>date=%{x}<br>views=%{y}<extra></extra>",
         "legendgroup": "San Sanana",
         "line": {
          "color": "#B6E880",
          "dash": "solid"
         },
         "marker": {
          "symbol": "circle"
         },
         "mode": "lines+markers",
         "name": "San Sanana",
         "showlegend": true,
         "type": "scattergl",
         "x": [
          "2024-05-16",
          "2024-05-19",
          "2024-05-21",
          "2024-05-25",
          "2024-05-26",
          "2024-05-30",
          "2024-06-02",
          "2024-06-03",
          "2024-06-20"
         ],
         "xaxis": "x",
         "y": [
          16400000,
          16800000,
          17000000,
          17400000,
          17400000,
          17700000,
          54000000,
          18000000,
          36700000
         ],
         "yaxis": "y"
        },
        {
         "hovertemplate": "trackName=Satisfaction (bassboosted)<br>date=%{x}<br>views=%{y}<extra></extra>",
         "legendgroup": "Satisfaction (bassboosted)",
         "line": {
          "color": "#FF97FF",
          "dash": "solid"
         },
         "marker": {
          "symbol": "circle"
         },
         "mode": "lines+markers",
         "name": "Satisfaction (bassboosted)",
         "showlegend": true,
         "type": "scattergl",
         "x": [
          "2024-05-16",
          "2024-05-21"
         ],
         "xaxis": "x",
         "y": [
          2500000,
          3200000
         ],
         "yaxis": "y"
        },
        {
         "hovertemplate": "trackName=Save Your Tears<br>date=%{x}<br>views=%{y}<extra></extra>",
         "legendgroup": "Save Your Tears",
         "line": {
          "color": "#FECB52",
          "dash": "solid"
         },
         "marker": {
          "symbol": "circle"
         },
         "mode": "lines+markers",
         "name": "Save Your Tears",
         "showlegend": true,
         "type": "scattergl",
         "x": [
          "2024-05-16",
          "2024-05-22",
          "2024-05-24",
          "2024-05-25",
          "2024-05-28",
          "2024-05-29",
          "2024-05-30",
          "2024-06-01",
          "2024-06-03",
          "2024-06-04"
         ],
         "xaxis": "x",
         "y": [
          2600000,
          6400000,
          3400000,
          3600000,
          4000000,
          4100000,
          8400000,
          4400000,
          9200000,
          4700000
         ],
         "yaxis": "y"
        },
        {
         "hovertemplate": "trackName=See You Again (feat. Kali Uchis)<br>date=%{x}<br>views=%{y}<extra></extra>",
         "legendgroup": "See You Again (feat. Kali Uchis)",
         "line": {
          "color": "#636efa",
          "dash": "solid"
         },
         "marker": {
          "symbol": "circle"
         },
         "mode": "lines+markers",
         "name": "See You Again (feat. Kali Uchis)",
         "showlegend": true,
         "type": "scattergl",
         "x": [
          "2024-05-16",
          "2024-05-17",
          "2024-06-03",
          "2024-06-04"
         ],
         "xaxis": "x",
         "y": [
          18900000,
          19000000,
          20200000,
          20400000
         ],
         "yaxis": "y"
        },
        {
         "hovertemplate": "trackName=Shhh<br>date=%{x}<br>views=%{y}<extra></extra>",
         "legendgroup": "Shhh",
         "line": {
          "color": "#EF553B",
          "dash": "solid"
         },
         "marker": {
          "symbol": "circle"
         },
         "mode": "lines+markers",
         "name": "Shhh",
         "showlegend": true,
         "type": "scattergl",
         "x": [
          "2024-05-16",
          "2024-05-17",
          "2024-05-18",
          "2024-05-19",
          "2024-05-21"
         ],
         "xaxis": "x",
         "y": [
          4600000,
          4600000,
          8000000,
          4800000,
          8900000
         ],
         "yaxis": "y"
        },
        {
         "hovertemplate": "trackName=Shots (feat. Lil Jon)<br>date=%{x}<br>views=%{y}<extra></extra>",
         "legendgroup": "Shots (feat. Lil Jon)",
         "line": {
          "color": "#00cc96",
          "dash": "solid"
         },
         "marker": {
          "symbol": "circle"
         },
         "mode": "lines+markers",
         "name": "Shots (feat. Lil Jon)",
         "showlegend": true,
         "type": "scattergl",
         "x": [
          "2024-05-16"
         ],
         "xaxis": "x",
         "y": [
          48400000
         ],
         "yaxis": "y"
        },
        {
         "hovertemplate": "trackName=Snow Bunny Heaven<br>date=%{x}<br>views=%{y}<extra></extra>",
         "legendgroup": "Snow Bunny Heaven",
         "line": {
          "color": "#ab63fa",
          "dash": "solid"
         },
         "marker": {
          "symbol": "circle"
         },
         "mode": "lines+markers",
         "name": "Snow Bunny Heaven",
         "showlegend": true,
         "type": "scattergl",
         "x": [
          "2024-05-16",
          "2024-05-28"
         ],
         "xaxis": "x",
         "y": [
          4300000,
          4600000
         ],
         "yaxis": "y"
        },
        {
         "hovertemplate": "trackName=So Anxious<br>date=%{x}<br>views=%{y}<extra></extra>",
         "legendgroup": "So Anxious",
         "line": {
          "color": "#FFA15A",
          "dash": "solid"
         },
         "marker": {
          "symbol": "circle"
         },
         "mode": "lines+markers",
         "name": "So Anxious",
         "showlegend": true,
         "type": "scattergl",
         "x": [
          "2024-05-16",
          "2024-05-17",
          "2024-05-18",
          "2024-05-20",
          "2024-05-21"
         ],
         "xaxis": "x",
         "y": [
          7900000,
          15800000,
          15800000,
          23700000,
          15800000
         ],
         "yaxis": "y"
        },
        {
         "hovertemplate": "trackName=Soaked<br>date=%{x}<br>views=%{y}<extra></extra>",
         "legendgroup": "Soaked",
         "line": {
          "color": "#19d3f3",
          "dash": "solid"
         },
         "marker": {
          "symbol": "circle"
         },
         "mode": "lines+markers",
         "name": "Soaked",
         "showlegend": true,
         "type": "scattergl",
         "x": [
          "2024-05-16",
          "2024-05-17"
         ],
         "xaxis": "x",
         "y": [
          17300000,
          17300000
         ],
         "yaxis": "y"
        },
        {
         "hovertemplate": "trackName=Someday I'll Get It<br>date=%{x}<br>views=%{y}<extra></extra>",
         "legendgroup": "Someday I'll Get It",
         "line": {
          "color": "#FF6692",
          "dash": "solid"
         },
         "marker": {
          "symbol": "circle"
         },
         "mode": "lines+markers",
         "name": "Someday I'll Get It",
         "showlegend": true,
         "type": "scattergl",
         "x": [
          "2024-05-16",
          "2024-05-21"
         ],
         "xaxis": "x",
         "y": [
          27900000,
          120700000
         ],
         "yaxis": "y"
        },
        {
         "hovertemplate": "trackName=Tell Ur Girlfriend<br>date=%{x}<br>views=%{y}<extra></extra>",
         "legendgroup": "Tell Ur Girlfriend",
         "line": {
          "color": "#B6E880",
          "dash": "solid"
         },
         "marker": {
          "symbol": "circle"
         },
         "mode": "lines+markers",
         "name": "Tell Ur Girlfriend",
         "showlegend": true,
         "type": "scattergl",
         "x": [
          "2024-05-16",
          "2024-05-17",
          "2024-05-19",
          "2024-05-22",
          "2024-05-24",
          "2024-05-25",
          "2024-05-26",
          "2024-05-27",
          "2024-05-28",
          "2024-05-29",
          "2024-05-30",
          "2024-06-01"
         ],
         "xaxis": "x",
         "y": [
          17800000,
          1500000,
          16700000,
          6500000,
          4800000,
          3200000,
          3200000,
          3200000,
          4500000,
          6200000,
          1300000,
          2300000
         ],
         "yaxis": "y"
        },
        {
         "hovertemplate": "trackName=The Lamp Is Low<br>date=%{x}<br>views=%{y}<extra></extra>",
         "legendgroup": "The Lamp Is Low",
         "line": {
          "color": "#FF97FF",
          "dash": "solid"
         },
         "marker": {
          "symbol": "circle"
         },
         "mode": "lines+markers",
         "name": "The Lamp Is Low",
         "showlegend": true,
         "type": "scattergl",
         "x": [
          "2024-05-16",
          "2024-05-17",
          "2024-05-18",
          "2024-05-19",
          "2024-05-20",
          "2024-05-21",
          "2024-05-23",
          "2024-05-24",
          "2024-05-25",
          "2024-05-26",
          "2024-05-27",
          "2024-05-28",
          "2024-05-29",
          "2024-05-30",
          "2024-05-31",
          "2024-06-01",
          "2024-06-02",
          "2024-06-03",
          "2024-06-04",
          "2024-06-05",
          "2024-06-10",
          "2024-06-12",
          "2024-06-21",
          "2024-06-25"
         ],
         "xaxis": "x",
         "y": [
          5600000,
          14000000,
          5600000,
          11200000,
          5600000,
          14100000,
          16800000,
          16800000,
          11200000,
          3800000,
          11200000,
          11200000,
          11200000,
          16800000,
          16900000,
          18700000,
          5600000,
          5600000,
          9400000,
          5600000,
          3500000,
          8700000,
          14900000,
          5700000
         ],
         "yaxis": "y"
        },
        {
         "hovertemplate": "trackName=They Shut Down<br>date=%{x}<br>views=%{y}<extra></extra>",
         "legendgroup": "They Shut Down",
         "line": {
          "color": "#FECB52",
          "dash": "solid"
         },
         "marker": {
          "symbol": "circle"
         },
         "mode": "lines+markers",
         "name": "They Shut Down",
         "showlegend": true,
         "type": "scattergl",
         "x": [
          "2024-05-16",
          "2024-05-17",
          "2024-05-18"
         ],
         "xaxis": "x",
         "y": [
          10600000,
          10700000,
          21400000
         ],
         "yaxis": "y"
        },
        {
         "hovertemplate": "trackName=Tujhe Dekha Toh<br>date=%{x}<br>views=%{y}<extra></extra>",
         "legendgroup": "Tujhe Dekha Toh",
         "line": {
          "color": "#636efa",
          "dash": "solid"
         },
         "marker": {
          "symbol": "circle"
         },
         "mode": "lines+markers",
         "name": "Tujhe Dekha Toh",
         "showlegend": true,
         "type": "scattergl",
         "x": [
          "2024-05-16"
         ],
         "xaxis": "x",
         "y": [
          13600000
         ],
         "yaxis": "y"
        },
        {
         "hovertemplate": "trackName=Tumblr Girls (feat. Christoph Andersson)<br>date=%{x}<br>views=%{y}<extra></extra>",
         "legendgroup": "Tumblr Girls (feat. Christoph Andersson)",
         "line": {
          "color": "#EF553B",
          "dash": "solid"
         },
         "marker": {
          "symbol": "circle"
         },
         "mode": "lines+markers",
         "name": "Tumblr Girls (feat. Christoph Andersson)",
         "showlegend": true,
         "type": "scattergl",
         "x": [
          "2024-05-16",
          "2024-05-21",
          "2024-05-31",
          "2024-06-01"
         ],
         "xaxis": "x",
         "y": [
          36800000,
          74400000,
          2600000,
          1400000
         ],
         "yaxis": "y"
        },
        {
         "hovertemplate": "trackName=Type Shit<br>date=%{x}<br>views=%{y}<extra></extra>",
         "legendgroup": "Type Shit",
         "line": {
          "color": "#00cc96",
          "dash": "solid"
         },
         "marker": {
          "symbol": "circle"
         },
         "mode": "lines+markers",
         "name": "Type Shit",
         "showlegend": true,
         "type": "scattergl",
         "x": [
          "2024-05-16",
          "2024-05-19",
          "2024-05-21",
          "2024-06-03",
          "2024-06-06",
          "2024-06-07",
          "2024-06-08",
          "2024-06-09",
          "2024-06-10",
          "2024-06-11",
          "2024-06-12",
          "2024-06-13",
          "2024-06-14",
          "2024-06-15",
          "2024-06-16",
          "2024-06-18",
          "2024-06-20",
          "2024-06-21",
          "2024-06-22",
          "2024-06-23",
          "2024-06-24",
          "2024-06-25"
         ],
         "xaxis": "x",
         "y": [
          10800000,
          10900000,
          6400000,
          26000000,
          78300000,
          52200000,
          78300000,
          26100000,
          52200000,
          78600000,
          52400000,
          78900000,
          52600000,
          26300000,
          52800000,
          53000000,
          26600000,
          53200000,
          53400000,
          53400000,
          53600000,
          53600000
         ],
         "yaxis": "y"
        },
        {
         "hovertemplate": "trackName=Under The Influence<br>date=%{x}<br>views=%{y}<extra></extra>",
         "legendgroup": "Under The Influence",
         "line": {
          "color": "#ab63fa",
          "dash": "solid"
         },
         "marker": {
          "symbol": "circle"
         },
         "mode": "lines+markers",
         "name": "Under The Influence",
         "showlegend": true,
         "type": "scattergl",
         "x": [
          "2024-05-16",
          "2024-05-19",
          "2024-05-25"
         ],
         "xaxis": "x",
         "y": [
          26700000,
          9000000,
          9000000
         ],
         "yaxis": "y"
        },
        {
         "hovertemplate": "trackName=WET DREAMS<br>date=%{x}<br>views=%{y}<extra></extra>",
         "legendgroup": "WET DREAMS",
         "line": {
          "color": "#FFA15A",
          "dash": "solid"
         },
         "marker": {
          "symbol": "circle"
         },
         "mode": "lines+markers",
         "name": "WET DREAMS",
         "showlegend": true,
         "type": "scattergl",
         "x": [
          "2024-05-16"
         ],
         "xaxis": "x",
         "y": [
          3000000
         ],
         "yaxis": "y"
        },
        {
         "hovertemplate": "trackName=Wait Me<br>date=%{x}<br>views=%{y}<extra></extra>",
         "legendgroup": "Wait Me",
         "line": {
          "color": "#19d3f3",
          "dash": "solid"
         },
         "marker": {
          "symbol": "circle"
         },
         "mode": "lines+markers",
         "name": "Wait Me",
         "showlegend": true,
         "type": "scattergl",
         "x": [
          "2024-05-16",
          "2024-05-17",
          "2024-05-18",
          "2024-05-19",
          "2024-05-21"
         ],
         "xaxis": "x",
         "y": [
          16600000,
          16600000,
          16700000,
          16700000,
          16800000
         ],
         "yaxis": "y"
        },
        {
         "hovertemplate": "trackName=Wanna Be<br>date=%{x}<br>views=%{y}<extra></extra>",
         "legendgroup": "Wanna Be",
         "line": {
          "color": "#FF6692",
          "dash": "solid"
         },
         "marker": {
          "symbol": "circle"
         },
         "mode": "lines+markers",
         "name": "Wanna Be",
         "showlegend": true,
         "type": "scattergl",
         "x": [
          "2024-05-16",
          "2024-05-21"
         ],
         "xaxis": "x",
         "y": [
          15300000,
          32800000
         ],
         "yaxis": "y"
        },
        {
         "hovertemplate": "trackName=We Could Be Together<br>date=%{x}<br>views=%{y}<extra></extra>",
         "legendgroup": "We Could Be Together",
         "line": {
          "color": "#B6E880",
          "dash": "solid"
         },
         "marker": {
          "symbol": "circle"
         },
         "mode": "lines+markers",
         "name": "We Could Be Together",
         "showlegend": true,
         "type": "scattergl",
         "x": [
          "2024-05-16",
          "2024-05-17"
         ],
         "xaxis": "x",
         "y": [
          3800000,
          1900000
         ],
         "yaxis": "y"
        },
        {
         "hovertemplate": "trackName=What Are You Doing Man<br>date=%{x}<br>views=%{y}<extra></extra>",
         "legendgroup": "What Are You Doing Man",
         "line": {
          "color": "#FF97FF",
          "dash": "solid"
         },
         "marker": {
          "symbol": "circle"
         },
         "mode": "lines+markers",
         "name": "What Are You Doing Man",
         "showlegend": true,
         "type": "scattergl",
         "x": [
          "2024-05-16",
          "2024-05-18",
          "2024-05-19",
          "2024-05-20",
          "2024-05-22",
          "2024-05-23",
          "2024-05-24",
          "2024-05-25",
          "2024-05-26",
          "2024-05-27"
         ],
         "xaxis": "x",
         "y": [
          84200000,
          2200000,
          12300000,
          85200000,
          10800000,
          25500000,
          8400000,
          8500000,
          8500000,
          17200000
         ],
         "yaxis": "y"
        },
        {
         "hovertemplate": "trackName=Without Me<br>date=%{x}<br>views=%{y}<extra></extra>",
         "legendgroup": "Without Me",
         "line": {
          "color": "#FECB52",
          "dash": "solid"
         },
         "marker": {
          "symbol": "circle"
         },
         "mode": "lines+markers",
         "name": "Without Me",
         "showlegend": true,
         "type": "scattergl",
         "x": [
          "2024-05-16",
          "2024-06-10"
         ],
         "xaxis": "x",
         "y": [
          7400000,
          6800000
         ],
         "yaxis": "y"
        },
        {
         "hovertemplate": "trackName=Yes Sir<br>date=%{x}<br>views=%{y}<extra></extra>",
         "legendgroup": "Yes Sir",
         "line": {
          "color": "#636efa",
          "dash": "solid"
         },
         "marker": {
          "symbol": "circle"
         },
         "mode": "lines+markers",
         "name": "Yes Sir",
         "showlegend": true,
         "type": "scattergl",
         "x": [
          "2024-05-16"
         ],
         "xaxis": "x",
         "y": [
          3300000
         ],
         "yaxis": "y"
        },
        {
         "hovertemplate": "trackName=22<br>date=%{x}<br>views=%{y}<extra></extra>",
         "legendgroup": "22",
         "line": {
          "color": "#EF553B",
          "dash": "solid"
         },
         "marker": {
          "symbol": "circle"
         },
         "mode": "lines+markers",
         "name": "22",
         "showlegend": true,
         "type": "scattergl",
         "x": [
          "2024-05-17",
          "2024-05-20"
         ],
         "xaxis": "x",
         "y": [
          3200000,
          1700000
         ],
         "yaxis": "y"
        },
        {
         "hovertemplate": "trackName=34+35<br>date=%{x}<br>views=%{y}<extra></extra>",
         "legendgroup": "34+35",
         "line": {
          "color": "#00cc96",
          "dash": "solid"
         },
         "marker": {
          "symbol": "circle"
         },
         "mode": "lines+markers",
         "name": "34+35",
         "showlegend": true,
         "type": "scattergl",
         "x": [
          "2024-05-17",
          "2024-05-21"
         ],
         "xaxis": "x",
         "y": [
          10600000,
          5400000
         ],
         "yaxis": "y"
        },
        {
         "hovertemplate": "trackName=Airplane Mode (Rochester Club)<br>date=%{x}<br>views=%{y}<extra></extra>",
         "legendgroup": "Airplane Mode (Rochester Club)",
         "line": {
          "color": "#ab63fa",
          "dash": "solid"
         },
         "marker": {
          "symbol": "circle"
         },
         "mode": "lines+markers",
         "name": "Airplane Mode (Rochester Club)",
         "showlegend": true,
         "type": "scattergl",
         "x": [
          "2024-05-17",
          "2024-05-20"
         ],
         "xaxis": "x",
         "y": [
          8400000,
          12600000
         ],
         "yaxis": "y"
        },
        {
         "hovertemplate": "trackName=Concerto in D Major, RV 93: I. Allegro giusto<br>date=%{x}<br>views=%{y}<extra></extra>",
         "legendgroup": "Concerto in D Major, RV 93: I. Allegro giusto",
         "line": {
          "color": "#FFA15A",
          "dash": "solid"
         },
         "marker": {
          "symbol": "circle"
         },
         "mode": "lines+markers",
         "name": "Concerto in D Major, RV 93: I. Allegro giusto",
         "showlegend": true,
         "type": "scattergl",
         "x": [
          "2024-05-17"
         ],
         "xaxis": "x",
         "y": [
          11800000
         ],
         "yaxis": "y"
        },
        {
         "hovertemplate": "trackName=Crazy Girls<br>date=%{x}<br>views=%{y}<extra></extra>",
         "legendgroup": "Crazy Girls",
         "line": {
          "color": "#19d3f3",
          "dash": "solid"
         },
         "marker": {
          "symbol": "circle"
         },
         "mode": "lines+markers",
         "name": "Crazy Girls",
         "showlegend": true,
         "type": "scattergl",
         "x": [
          "2024-05-17",
          "2024-05-20",
          "2024-05-21"
         ],
         "xaxis": "x",
         "y": [
          8100000,
          16600000,
          8400000
         ],
         "yaxis": "y"
        },
        {
         "hovertemplate": "trackName=Creepn Round<br>date=%{x}<br>views=%{y}<extra></extra>",
         "legendgroup": "Creepn Round",
         "line": {
          "color": "#FF6692",
          "dash": "solid"
         },
         "marker": {
          "symbol": "circle"
         },
         "mode": "lines+markers",
         "name": "Creepn Round",
         "showlegend": true,
         "type": "scattergl",
         "x": [
          "2024-05-17",
          "2024-05-20"
         ],
         "xaxis": "x",
         "y": [
          5100000,
          10400000
         ],
         "yaxis": "y"
        },
        {
         "hovertemplate": "trackName=Did Your Hair<br>date=%{x}<br>views=%{y}<extra></extra>",
         "legendgroup": "Did Your Hair",
         "line": {
          "color": "#B6E880",
          "dash": "solid"
         },
         "marker": {
          "symbol": "circle"
         },
         "mode": "lines+markers",
         "name": "Did Your Hair",
         "showlegend": true,
         "type": "scattergl",
         "x": [
          "2024-05-17",
          "2024-05-19",
          "2024-05-21",
          "2024-05-23"
         ],
         "xaxis": "x",
         "y": [
          3100000,
          6400000,
          3300000,
          3600000
         ],
         "yaxis": "y"
        },
        {
         "hovertemplate": "trackName=Dudvet<br>date=%{x}<br>views=%{y}<extra></extra>",
         "legendgroup": "Dudvet",
         "line": {
          "color": "#FF97FF",
          "dash": "solid"
         },
         "marker": {
          "symbol": "circle"
         },
         "mode": "lines+markers",
         "name": "Dudvet",
         "showlegend": true,
         "type": "scattergl",
         "x": [
          "2024-05-17"
         ],
         "xaxis": "x",
         "y": [
          2500000
         ],
         "yaxis": "y"
        },
        {
         "hovertemplate": "trackName=Get It Sexyy<br>date=%{x}<br>views=%{y}<extra></extra>",
         "legendgroup": "Get It Sexyy",
         "line": {
          "color": "#FECB52",
          "dash": "solid"
         },
         "marker": {
          "symbol": "circle"
         },
         "mode": "lines+markers",
         "name": "Get It Sexyy",
         "showlegend": true,
         "type": "scattergl",
         "x": [
          "2024-05-17",
          "2024-05-26",
          "2024-05-29",
          "2024-05-30",
          "2024-06-02",
          "2024-06-03",
          "2024-06-07",
          "2024-06-08",
          "2024-06-09",
          "2024-06-10",
          "2024-06-12",
          "2024-06-13"
         ],
         "xaxis": "x",
         "y": [
          19500000,
          1300000,
          5400000,
          2400000,
          1300000,
          9000000,
          8800000,
          13200000,
          4500000,
          4500000,
          9200000,
          9400000
         ],
         "yaxis": "y"
        },
        {
         "hovertemplate": "trackName=Goodnight Sweet Possums<br>date=%{x}<br>views=%{y}<extra></extra>",
         "legendgroup": "Goodnight Sweet Possums",
         "line": {
          "color": "#636efa",
          "dash": "solid"
         },
         "marker": {
          "symbol": "circle"
         },
         "mode": "lines+markers",
         "name": "Goodnight Sweet Possums",
         "showlegend": true,
         "type": "scattergl",
         "x": [
          "2024-05-17",
          "2024-05-20",
          "2024-05-21"
         ],
         "xaxis": "x",
         "y": [
          38600000,
          78200000,
          39200000
         ],
         "yaxis": "y"
        },
        {
         "hovertemplate": "trackName=Gwiyomi Song<br>date=%{x}<br>views=%{y}<extra></extra>",
         "legendgroup": "Gwiyomi Song",
         "line": {
          "color": "#EF553B",
          "dash": "solid"
         },
         "marker": {
          "symbol": "circle"
         },
         "mode": "lines+markers",
         "name": "Gwiyomi Song",
         "showlegend": true,
         "type": "scattergl",
         "x": [
          "2024-05-17",
          "2024-05-19",
          "2024-05-21",
          "2024-05-22",
          "2024-05-23",
          "2024-05-24",
          "2024-05-25"
         ],
         "xaxis": "x",
         "y": [
          5000000,
          2600000,
          2700000,
          2700000,
          2700000,
          2700000,
          2800000
         ],
         "yaxis": "y"
        },
        {
         "hovertemplate": "trackName=I Hate the New Kanye<br>date=%{x}<br>views=%{y}<extra></extra>",
         "legendgroup": "I Hate the New Kanye",
         "line": {
          "color": "#00cc96",
          "dash": "solid"
         },
         "marker": {
          "symbol": "circle"
         },
         "mode": "lines+markers",
         "name": "I Hate the New Kanye",
         "showlegend": true,
         "type": "scattergl",
         "x": [
          "2024-05-17",
          "2024-05-20",
          "2024-05-21"
         ],
         "xaxis": "x",
         "y": [
          8200000,
          8300000,
          8400000
         ],
         "yaxis": "y"
        },
        {
         "hovertemplate": "trackName=Juega<br>date=%{x}<br>views=%{y}<extra></extra>",
         "legendgroup": "Juega",
         "line": {
          "color": "#ab63fa",
          "dash": "solid"
         },
         "marker": {
          "symbol": "circle"
         },
         "mode": "lines+markers",
         "name": "Juega",
         "showlegend": true,
         "type": "scattergl",
         "x": [
          "2024-05-17"
         ],
         "xaxis": "x",
         "y": [
          53900000
         ],
         "yaxis": "y"
        },
        {
         "hovertemplate": "trackName=Like That!<br>date=%{x}<br>views=%{y}<extra></extra>",
         "legendgroup": "Like That!",
         "line": {
          "color": "#FFA15A",
          "dash": "solid"
         },
         "marker": {
          "symbol": "circle"
         },
         "mode": "lines+markers",
         "name": "Like That!",
         "showlegend": true,
         "type": "scattergl",
         "x": [
          "2024-05-17",
          "2024-05-18",
          "2024-05-19",
          "2024-05-20",
          "2024-05-21",
          "2024-05-23",
          "2024-05-27",
          "2024-05-28",
          "2024-05-29",
          "2024-05-31"
         ],
         "xaxis": "x",
         "y": [
          1100000,
          2200000,
          6700000,
          11400000,
          2200000,
          10000000,
          8700000,
          10400000,
          1600000,
          9200000
         ],
         "yaxis": "y"
        },
        {
         "hovertemplate": "trackName=Lip Gloss<br>date=%{x}<br>views=%{y}<extra></extra>",
         "legendgroup": "Lip Gloss",
         "line": {
          "color": "#19d3f3",
          "dash": "solid"
         },
         "marker": {
          "symbol": "circle"
         },
         "mode": "lines+markers",
         "name": "Lip Gloss",
         "showlegend": true,
         "type": "scattergl",
         "x": [
          "2024-05-17",
          "2024-05-19",
          "2024-05-21"
         ],
         "xaxis": "x",
         "y": [
          10900000,
          10900000,
          10900000
         ],
         "yaxis": "y"
        },
        {
         "hovertemplate": "trackName=Los santos vibe<br>date=%{x}<br>views=%{y}<extra></extra>",
         "legendgroup": "Los santos vibe",
         "line": {
          "color": "#FF6692",
          "dash": "solid"
         },
         "marker": {
          "symbol": "circle"
         },
         "mode": "lines+markers",
         "name": "Los santos vibe",
         "showlegend": true,
         "type": "scattergl",
         "x": [
          "2024-05-17",
          "2024-05-19",
          "2024-05-20"
         ],
         "xaxis": "x",
         "y": [
          9000000,
          1400000,
          18200000
         ],
         "yaxis": "y"
        },
        {
         "hovertemplate": "trackName=Love Letter<br>date=%{x}<br>views=%{y}<extra></extra>",
         "legendgroup": "Love Letter",
         "line": {
          "color": "#B6E880",
          "dash": "solid"
         },
         "marker": {
          "symbol": "circle"
         },
         "mode": "lines+markers",
         "name": "Love Letter",
         "showlegend": true,
         "type": "scattergl",
         "x": [
          "2024-05-17",
          "2024-05-29"
         ],
         "xaxis": "x",
         "y": [
          43900000,
          19600000
         ],
         "yaxis": "y"
        },
        {
         "hovertemplate": "trackName=Married Life<br>date=%{x}<br>views=%{y}<extra></extra>",
         "legendgroup": "Married Life",
         "line": {
          "color": "#FF97FF",
          "dash": "solid"
         },
         "marker": {
          "symbol": "circle"
         },
         "mode": "lines+markers",
         "name": "Married Life",
         "showlegend": true,
         "type": "scattergl",
         "x": [
          "2024-05-17",
          "2024-05-19",
          "2024-05-23",
          "2024-06-07"
         ],
         "xaxis": "x",
         "y": [
          3200000,
          3200000,
          3200000,
          2600000
         ],
         "yaxis": "y"
        },
        {
         "hovertemplate": "trackName=No Reason<br>date=%{x}<br>views=%{y}<extra></extra>",
         "legendgroup": "No Reason",
         "line": {
          "color": "#FECB52",
          "dash": "solid"
         },
         "marker": {
          "symbol": "circle"
         },
         "mode": "lines+markers",
         "name": "No Reason",
         "showlegend": true,
         "type": "scattergl",
         "x": [
          "2024-05-17",
          "2024-05-20"
         ],
         "xaxis": "x",
         "y": [
          3200000,
          1700000
         ],
         "yaxis": "y"
        },
        {
         "hovertemplate": "trackName=One Call<br>date=%{x}<br>views=%{y}<extra></extra>",
         "legendgroup": "One Call",
         "line": {
          "color": "#636efa",
          "dash": "solid"
         },
         "marker": {
          "symbol": "circle"
         },
         "mode": "lines+markers",
         "name": "One Call",
         "showlegend": true,
         "type": "scattergl",
         "x": [
          "2024-05-17",
          "2024-05-19",
          "2024-06-15"
         ],
         "xaxis": "x",
         "y": [
          59400000,
          59600000,
          3900000
         ],
         "yaxis": "y"
        },
        {
         "hovertemplate": "trackName=Pursuit Of Happiness (Nightmare) [feat. MGMT & Ratatat]<br>date=%{x}<br>views=%{y}<extra></extra>",
         "legendgroup": "Pursuit Of Happiness (Nightmare) [feat. MGMT & Ratatat]",
         "line": {
          "color": "#EF553B",
          "dash": "solid"
         },
         "marker": {
          "symbol": "circle"
         },
         "mode": "lines+markers",
         "name": "Pursuit Of Happiness (Nightmare) [feat. MGMT & Ratatat]",
         "showlegend": true,
         "type": "scattergl",
         "x": [
          "2024-05-17"
         ],
         "xaxis": "x",
         "y": [
          6900000
         ],
         "yaxis": "y"
        },
        {
         "hovertemplate": "trackName=Teenage Dirtbag<br>date=%{x}<br>views=%{y}<extra></extra>",
         "legendgroup": "Teenage Dirtbag",
         "line": {
          "color": "#00cc96",
          "dash": "solid"
         },
         "marker": {
          "symbol": "circle"
         },
         "mode": "lines+markers",
         "name": "Teenage Dirtbag",
         "showlegend": true,
         "type": "scattergl",
         "x": [
          "2024-05-17"
         ],
         "xaxis": "x",
         "y": [
          27200000
         ],
         "yaxis": "y"
        },
        {
         "hovertemplate": "trackName=Watch Out<br>date=%{x}<br>views=%{y}<extra></extra>",
         "legendgroup": "Watch Out",
         "line": {
          "color": "#ab63fa",
          "dash": "solid"
         },
         "marker": {
          "symbol": "circle"
         },
         "mode": "lines+markers",
         "name": "Watch Out",
         "showlegend": true,
         "type": "scattergl",
         "x": [
          "2024-05-17",
          "2024-05-19",
          "2024-05-20",
          "2024-05-21"
         ],
         "xaxis": "x",
         "y": [
          10800000,
          10800000,
          5400000,
          10800000
         ],
         "yaxis": "y"
        },
        {
         "hovertemplate": "trackName=Whitley<br>date=%{x}<br>views=%{y}<extra></extra>",
         "legendgroup": "Whitley",
         "line": {
          "color": "#FFA15A",
          "dash": "solid"
         },
         "marker": {
          "symbol": "circle"
         },
         "mode": "lines+markers",
         "name": "Whitley",
         "showlegend": true,
         "type": "scattergl",
         "x": [
          "2024-05-17"
         ],
         "xaxis": "x",
         "y": [
          7500000
         ],
         "yaxis": "y"
        },
        {
         "hovertemplate": "trackName=Wipe Me Down<br>date=%{x}<br>views=%{y}<extra></extra>",
         "legendgroup": "Wipe Me Down",
         "line": {
          "color": "#19d3f3",
          "dash": "solid"
         },
         "marker": {
          "symbol": "circle"
         },
         "mode": "lines+markers",
         "name": "Wipe Me Down",
         "showlegend": true,
         "type": "scattergl",
         "x": [
          "2024-05-17",
          "2024-05-19",
          "2024-05-21"
         ],
         "xaxis": "x",
         "y": [
          1900000,
          1900000,
          3800000
         ],
         "yaxis": "y"
        },
        {
         "hovertemplate": "trackName=Yeah !<br>date=%{x}<br>views=%{y}<extra></extra>",
         "legendgroup": "Yeah !",
         "line": {
          "color": "#FF6692",
          "dash": "solid"
         },
         "marker": {
          "symbol": "circle"
         },
         "mode": "lines+markers",
         "name": "Yeah !",
         "showlegend": true,
         "type": "scattergl",
         "x": [
          "2024-05-17"
         ],
         "xaxis": "x",
         "y": [
          17600000
         ],
         "yaxis": "y"
        },
        {
         "hovertemplate": "trackName=Yummy<br>date=%{x}<br>views=%{y}<extra></extra>",
         "legendgroup": "Yummy",
         "line": {
          "color": "#B6E880",
          "dash": "solid"
         },
         "marker": {
          "symbol": "circle"
         },
         "mode": "lines+markers",
         "name": "Yummy",
         "showlegend": true,
         "type": "scattergl",
         "x": [
          "2024-05-17",
          "2024-05-21"
         ],
         "xaxis": "x",
         "y": [
          19400000,
          39000000
         ],
         "yaxis": "y"
        },
        {
         "hovertemplate": "trackName=bussin'<br>date=%{x}<br>views=%{y}<extra></extra>",
         "legendgroup": "bussin'",
         "line": {
          "color": "#FF97FF",
          "dash": "solid"
         },
         "marker": {
          "symbol": "circle"
         },
         "mode": "lines+markers",
         "name": "bussin'",
         "showlegend": true,
         "type": "scattergl",
         "x": [
          "2024-05-17"
         ],
         "xaxis": "x",
         "y": [
          7900000
         ],
         "yaxis": "y"
        },
        {
         "hovertemplate": "trackName=AMERICAN HORROR SHOW<br>date=%{x}<br>views=%{y}<extra></extra>",
         "legendgroup": "AMERICAN HORROR SHOW",
         "line": {
          "color": "#FECB52",
          "dash": "solid"
         },
         "marker": {
          "symbol": "circle"
         },
         "mode": "lines+markers",
         "name": "AMERICAN HORROR SHOW",
         "showlegend": true,
         "type": "scattergl",
         "x": [
          "2024-05-18"
         ],
         "xaxis": "x",
         "y": [
          19800000
         ],
         "yaxis": "y"
        },
        {
         "hovertemplate": "trackName=Abre O Canal<br>date=%{x}<br>views=%{y}<extra></extra>",
         "legendgroup": "Abre O Canal",
         "line": {
          "color": "#636efa",
          "dash": "solid"
         },
         "marker": {
          "symbol": "circle"
         },
         "mode": "lines+markers",
         "name": "Abre O Canal",
         "showlegend": true,
         "type": "scattergl",
         "x": [
          "2024-05-18"
         ],
         "xaxis": "x",
         "y": [
          43000
         ],
         "yaxis": "y"
        },
        {
         "hovertemplate": "trackName=Ami Tomar Sathe<br>date=%{x}<br>views=%{y}<extra></extra>",
         "legendgroup": "Ami Tomar Sathe",
         "line": {
          "color": "#EF553B",
          "dash": "solid"
         },
         "marker": {
          "symbol": "circle"
         },
         "mode": "lines+markers",
         "name": "Ami Tomar Sathe",
         "showlegend": true,
         "type": "scattergl",
         "x": [
          "2024-05-18"
         ],
         "xaxis": "x",
         "y": [
          9200000
         ],
         "yaxis": "y"
        },
        {
         "hovertemplate": "trackName=Aruarian Dance<br>date=%{x}<br>views=%{y}<extra></extra>",
         "legendgroup": "Aruarian Dance",
         "line": {
          "color": "#00cc96",
          "dash": "solid"
         },
         "marker": {
          "symbol": "circle"
         },
         "mode": "lines+markers",
         "name": "Aruarian Dance",
         "showlegend": true,
         "type": "scattergl",
         "x": [
          "2024-05-18",
          "2024-05-21",
          "2024-06-02",
          "2024-06-03",
          "2024-06-04",
          "2024-06-05"
         ],
         "xaxis": "x",
         "y": [
          6900000,
          9200000,
          14100000,
          16600000,
          4700000,
          0
         ],
         "yaxis": "y"
        },
        {
         "hovertemplate": "trackName=Beautiful Things<br>date=%{x}<br>views=%{y}<extra></extra>",
         "legendgroup": "Beautiful Things",
         "line": {
          "color": "#ab63fa",
          "dash": "solid"
         },
         "marker": {
          "symbol": "circle"
         },
         "mode": "lines+markers",
         "name": "Beautiful Things",
         "showlegend": true,
         "type": "scattergl",
         "x": [
          "2024-05-18"
         ],
         "xaxis": "x",
         "y": [
          5200000
         ],
         "yaxis": "y"
        },
        {
         "hovertemplate": "trackName=Brazil<br>date=%{x}<br>views=%{y}<extra></extra>",
         "legendgroup": "Brazil",
         "line": {
          "color": "#FFA15A",
          "dash": "solid"
         },
         "marker": {
          "symbol": "circle"
         },
         "mode": "lines+markers",
         "name": "Brazil",
         "showlegend": true,
         "type": "scattergl",
         "x": [
          "2024-05-18",
          "2024-06-14",
          "2024-06-19",
          "2024-06-20"
         ],
         "xaxis": "x",
         "y": [
          4,
          34300000,
          35000000,
          35100000
         ],
         "yaxis": "y"
        },
        {
         "hovertemplate": "trackName=Bro It's Just a Corecore Video.<br>date=%{x}<br>views=%{y}<extra></extra>",
         "legendgroup": "Bro It's Just a Corecore Video.",
         "line": {
          "color": "#19d3f3",
          "dash": "solid"
         },
         "marker": {
          "symbol": "circle"
         },
         "mode": "lines+markers",
         "name": "Bro It's Just a Corecore Video.",
         "showlegend": true,
         "type": "scattergl",
         "x": [
          "2024-05-18"
         ],
         "xaxis": "x",
         "y": [
          363
         ],
         "yaxis": "y"
        },
        {
         "hovertemplate": "trackName=Catallena<br>date=%{x}<br>views=%{y}<extra></extra>",
         "legendgroup": "Catallena",
         "line": {
          "color": "#FF6692",
          "dash": "solid"
         },
         "marker": {
          "symbol": "circle"
         },
         "mode": "lines+markers",
         "name": "Catallena",
         "showlegend": true,
         "type": "scattergl",
         "x": [
          "2024-05-18"
         ],
         "xaxis": "x",
         "y": [
          3000000
         ],
         "yaxis": "y"
        },
        {
         "hovertemplate": "trackName=Enough (Miami)<br>date=%{x}<br>views=%{y}<extra></extra>",
         "legendgroup": "Enough (Miami)",
         "line": {
          "color": "#B6E880",
          "dash": "solid"
         },
         "marker": {
          "symbol": "circle"
         },
         "mode": "lines+markers",
         "name": "Enough (Miami)",
         "showlegend": true,
         "type": "scattergl",
         "x": [
          "2024-05-18",
          "2024-05-26",
          "2024-06-03"
         ],
         "xaxis": "x",
         "y": [
          4300000,
          4600000,
          9800000
         ],
         "yaxis": "y"
        },
        {
         "hovertemplate": "trackName=Funked Up<br>date=%{x}<br>views=%{y}<extra></extra>",
         "legendgroup": "Funked Up",
         "line": {
          "color": "#FF97FF",
          "dash": "solid"
         },
         "marker": {
          "symbol": "circle"
         },
         "mode": "lines+markers",
         "name": "Funked Up",
         "showlegend": true,
         "type": "scattergl",
         "x": [
          "2024-05-18",
          "2024-06-10"
         ],
         "xaxis": "x",
         "y": [
          1800000,
          4600000
         ],
         "yaxis": "y"
        },
        {
         "hovertemplate": "trackName=Funny<br>date=%{x}<br>views=%{y}<extra></extra>",
         "legendgroup": "Funny",
         "line": {
          "color": "#FECB52",
          "dash": "solid"
         },
         "marker": {
          "symbol": "circle"
         },
         "mode": "lines+markers",
         "name": "Funny",
         "showlegend": true,
         "type": "scattergl",
         "x": [
          "2024-05-18",
          "2024-05-19",
          "2024-05-20",
          "2024-06-05",
          "2024-06-20"
         ],
         "xaxis": "x",
         "y": [
          26100000,
          26100000,
          26100000,
          1600000,
          45200000
         ],
         "yaxis": "y"
        },
        {
         "hovertemplate": "trackName=Hell N Back<br>date=%{x}<br>views=%{y}<extra></extra>",
         "legendgroup": "Hell N Back",
         "line": {
          "color": "#636efa",
          "dash": "solid"
         },
         "marker": {
          "symbol": "circle"
         },
         "mode": "lines+markers",
         "name": "Hell N Back",
         "showlegend": true,
         "type": "scattergl",
         "x": [
          "2024-05-18"
         ],
         "xaxis": "x",
         "y": [
          6
         ],
         "yaxis": "y"
        },
        {
         "hovertemplate": "trackName=Isukile (feat. Mbali The Real, Billi B & Zaba)<br>date=%{x}<br>views=%{y}<extra></extra>",
         "legendgroup": "Isukile (feat. Mbali The Real, Billi B & Zaba)",
         "line": {
          "color": "#EF553B",
          "dash": "solid"
         },
         "marker": {
          "symbol": "circle"
         },
         "mode": "lines+markers",
         "name": "Isukile (feat. Mbali The Real, Billi B & Zaba)",
         "showlegend": true,
         "type": "scattergl",
         "x": [
          "2024-05-18"
         ],
         "xaxis": "x",
         "y": [
          5200000
         ],
         "yaxis": "y"
        },
        {
         "hovertemplate": "trackName=Move Ya Body (feat. Jabba)<br>date=%{x}<br>views=%{y}<extra></extra>",
         "legendgroup": "Move Ya Body (feat. Jabba)",
         "line": {
          "color": "#00cc96",
          "dash": "solid"
         },
         "marker": {
          "symbol": "circle"
         },
         "mode": "lines+markers",
         "name": "Move Ya Body (feat. Jabba)",
         "showlegend": true,
         "type": "scattergl",
         "x": [
          "2024-05-18",
          "2024-05-19"
         ],
         "xaxis": "x",
         "y": [
          2400000,
          2400000
         ],
         "yaxis": "y"
        },
        {
         "hovertemplate": "trackName=Na Na<br>date=%{x}<br>views=%{y}<extra></extra>",
         "legendgroup": "Na Na",
         "line": {
          "color": "#ab63fa",
          "dash": "solid"
         },
         "marker": {
          "symbol": "circle"
         },
         "mode": "lines+markers",
         "name": "Na Na",
         "showlegend": true,
         "type": "scattergl",
         "x": [
          "2024-05-18",
          "2024-05-19",
          "2024-05-20",
          "2024-05-22",
          "2024-05-23",
          "2024-05-26",
          "2024-06-06",
          "2024-06-09",
          "2024-06-10",
          "2024-06-13",
          "2024-06-14"
         ],
         "xaxis": "x",
         "y": [
          37400000,
          37400000,
          18700000,
          18800000,
          37800000,
          38200000,
          59700000,
          20100000,
          20200000,
          21500000,
          44200000
         ],
         "yaxis": "y"
        },
        {
         "hovertemplate": "trackName=Rice and Peas Riddim<br>date=%{x}<br>views=%{y}<extra></extra>",
         "legendgroup": "Rice and Peas Riddim",
         "line": {
          "color": "#FFA15A",
          "dash": "solid"
         },
         "marker": {
          "symbol": "circle"
         },
         "mode": "lines+markers",
         "name": "Rice and Peas Riddim",
         "showlegend": true,
         "type": "scattergl",
         "x": [
          "2024-05-18"
         ],
         "xaxis": "x",
         "y": [
          13800000
         ],
         "yaxis": "y"
        },
        {
         "hovertemplate": "trackName=Sus Improvisation<br>date=%{x}<br>views=%{y}<extra></extra>",
         "legendgroup": "Sus Improvisation",
         "line": {
          "color": "#19d3f3",
          "dash": "solid"
         },
         "marker": {
          "symbol": "circle"
         },
         "mode": "lines+markers",
         "name": "Sus Improvisation",
         "showlegend": true,
         "type": "scattergl",
         "x": [
          "2024-05-18"
         ],
         "xaxis": "x",
         "y": [
          16200000
         ],
         "yaxis": "y"
        },
        {
         "hovertemplate": "trackName=Window Shopping<br>date=%{x}<br>views=%{y}<extra></extra>",
         "legendgroup": "Window Shopping",
         "line": {
          "color": "#FF6692",
          "dash": "solid"
         },
         "marker": {
          "symbol": "circle"
         },
         "mode": "lines+markers",
         "name": "Window Shopping",
         "showlegend": true,
         "type": "scattergl",
         "x": [
          "2024-05-18"
         ],
         "xaxis": "x",
         "y": [
          1100000
         ],
         "yaxis": "y"
        },
        {
         "hovertemplate": "trackName=Work (feat. Drake)<br>date=%{x}<br>views=%{y}<extra></extra>",
         "legendgroup": "Work (feat. Drake)",
         "line": {
          "color": "#B6E880",
          "dash": "solid"
         },
         "marker": {
          "symbol": "circle"
         },
         "mode": "lines+markers",
         "name": "Work (feat. Drake)",
         "showlegend": true,
         "type": "scattergl",
         "x": [
          "2024-05-18",
          "2024-05-19",
          "2024-05-20",
          "2024-05-21",
          "2024-06-03",
          "2024-06-04",
          "2024-06-07",
          "2024-06-08",
          "2024-06-10",
          "2024-06-13",
          "2024-06-14",
          "2024-06-15",
          "2024-06-16",
          "2024-06-18",
          "2024-06-25",
          "2024-06-27"
         ],
         "xaxis": "x",
         "y": [
          4600000,
          9200000,
          9200000,
          4600000,
          20200000,
          10100000,
          60800000,
          30600000,
          10300000,
          10300000,
          61400000,
          30700000,
          20800000,
          61600000,
          30900000,
          62000000
         ],
         "yaxis": "y"
        },
        {
         "hovertemplate": "trackName=Your 19<br>date=%{x}<br>views=%{y}<extra></extra>",
         "legendgroup": "Your 19",
         "line": {
          "color": "#FF97FF",
          "dash": "solid"
         },
         "marker": {
          "symbol": "circle"
         },
         "mode": "lines+markers",
         "name": "Your 19",
         "showlegend": true,
         "type": "scattergl",
         "x": [
          "2024-05-18"
         ],
         "xaxis": "x",
         "y": [
          5200000
         ],
         "yaxis": "y"
        },
        {
         "hovertemplate": "trackName=euphoria<br>date=%{x}<br>views=%{y}<extra></extra>",
         "legendgroup": "euphoria",
         "line": {
          "color": "#FECB52",
          "dash": "solid"
         },
         "marker": {
          "symbol": "circle"
         },
         "mode": "lines+markers",
         "name": "euphoria",
         "showlegend": true,
         "type": "scattergl",
         "x": [
          "2024-05-18",
          "2024-06-04"
         ],
         "xaxis": "x",
         "y": [
          2900000,
          10700000
         ],
         "yaxis": "y"
        },
        {
         "hovertemplate": "trackName=Blind<br>date=%{x}<br>views=%{y}<extra></extra>",
         "legendgroup": "Blind",
         "line": {
          "color": "#636efa",
          "dash": "solid"
         },
         "marker": {
          "symbol": "circle"
         },
         "mode": "lines+markers",
         "name": "Blind",
         "showlegend": true,
         "type": "scattergl",
         "x": [
          "2024-05-19"
         ],
         "xaxis": "x",
         "y": [
          4700000
         ],
         "yaxis": "y"
        },
        {
         "hovertemplate": "trackName=CLEARED - Remix<br>date=%{x}<br>views=%{y}<extra></extra>",
         "legendgroup": "CLEARED - Remix",
         "line": {
          "color": "#EF553B",
          "dash": "solid"
         },
         "marker": {
          "symbol": "circle"
         },
         "mode": "lines+markers",
         "name": "CLEARED - Remix",
         "showlegend": true,
         "type": "scattergl",
         "x": [
          "2024-05-19",
          "2024-05-21",
          "2024-05-22"
         ],
         "xaxis": "x",
         "y": [
          39600000,
          4500000,
          13800000
         ],
         "yaxis": "y"
        },
        {
         "hovertemplate": "trackName=Drama Baby<br>date=%{x}<br>views=%{y}<extra></extra>",
         "legendgroup": "Drama Baby",
         "line": {
          "color": "#00cc96",
          "dash": "solid"
         },
         "marker": {
          "symbol": "circle"
         },
         "mode": "lines+markers",
         "name": "Drama Baby",
         "showlegend": true,
         "type": "scattergl",
         "x": [
          "2024-05-19"
         ],
         "xaxis": "x",
         "y": [
          2000000
         ],
         "yaxis": "y"
        },
        {
         "hovertemplate": "trackName=Hey Daddy (Daddy's Home) [feat. Plies]<br>date=%{x}<br>views=%{y}<extra></extra>",
         "legendgroup": "Hey Daddy (Daddy's Home) [feat. Plies]",
         "line": {
          "color": "#ab63fa",
          "dash": "solid"
         },
         "marker": {
          "symbol": "circle"
         },
         "mode": "lines+markers",
         "name": "Hey Daddy (Daddy's Home) [feat. Plies]",
         "showlegend": true,
         "type": "scattergl",
         "x": [
          "2024-05-19"
         ],
         "xaxis": "x",
         "y": [
          8000000
         ],
         "yaxis": "y"
        },
        {
         "hovertemplate": "trackName=I Like It<br>date=%{x}<br>views=%{y}<extra></extra>",
         "legendgroup": "I Like It",
         "line": {
          "color": "#FFA15A",
          "dash": "solid"
         },
         "marker": {
          "symbol": "circle"
         },
         "mode": "lines+markers",
         "name": "I Like It",
         "showlegend": true,
         "type": "scattergl",
         "x": [
          "2024-05-19"
         ],
         "xaxis": "x",
         "y": [
          15400000
         ],
         "yaxis": "y"
        },
        {
         "hovertemplate": "trackName=Lamborghini<br>date=%{x}<br>views=%{y}<extra></extra>",
         "legendgroup": "Lamborghini",
         "line": {
          "color": "#19d3f3",
          "dash": "solid"
         },
         "marker": {
          "symbol": "circle"
         },
         "mode": "lines+markers",
         "name": "Lamborghini",
         "showlegend": true,
         "type": "scattergl",
         "x": [
          "2024-05-19"
         ],
         "xaxis": "x",
         "y": [
          10200000
         ],
         "yaxis": "y"
        },
        {
         "hovertemplate": "trackName=Life in My House<br>date=%{x}<br>views=%{y}<extra></extra>",
         "legendgroup": "Life in My House",
         "line": {
          "color": "#FF6692",
          "dash": "solid"
         },
         "marker": {
          "symbol": "circle"
         },
         "mode": "lines+markers",
         "name": "Life in My House",
         "showlegend": true,
         "type": "scattergl",
         "x": [
          "2024-05-19"
         ],
         "xaxis": "x",
         "y": [
          45700000
         ],
         "yaxis": "y"
        },
        {
         "hovertemplate": "trackName=Meme It Up<br>date=%{x}<br>views=%{y}<extra></extra>",
         "legendgroup": "Meme It Up",
         "line": {
          "color": "#B6E880",
          "dash": "solid"
         },
         "marker": {
          "symbol": "circle"
         },
         "mode": "lines+markers",
         "name": "Meme It Up",
         "showlegend": true,
         "type": "scattergl",
         "x": [
          "2024-05-19"
         ],
         "xaxis": "x",
         "y": [
          3200000
         ],
         "yaxis": "y"
        },
        {
         "hovertemplate": "trackName=Meticulous<br>date=%{x}<br>views=%{y}<extra></extra>",
         "legendgroup": "Meticulous",
         "line": {
          "color": "#FF97FF",
          "dash": "solid"
         },
         "marker": {
          "symbol": "circle"
         },
         "mode": "lines+markers",
         "name": "Meticulous",
         "showlegend": true,
         "type": "scattergl",
         "x": [
          "2024-05-19"
         ],
         "xaxis": "x",
         "y": [
          15500000
         ],
         "yaxis": "y"
        },
        {
         "hovertemplate": "trackName=Pbj (MIXX)<br>date=%{x}<br>views=%{y}<extra></extra>",
         "legendgroup": "Pbj (MIXX)",
         "line": {
          "color": "#FECB52",
          "dash": "solid"
         },
         "marker": {
          "symbol": "circle"
         },
         "mode": "lines+markers",
         "name": "Pbj (MIXX)",
         "showlegend": true,
         "type": "scattergl",
         "x": [
          "2024-05-19",
          "2024-05-21"
         ],
         "xaxis": "x",
         "y": [
          4800000,
          2000000
         ],
         "yaxis": "y"
        },
        {
         "hovertemplate": "trackName=She Know What She Wanted<br>date=%{x}<br>views=%{y}<extra></extra>",
         "legendgroup": "She Know What She Wanted",
         "line": {
          "color": "#636efa",
          "dash": "solid"
         },
         "marker": {
          "symbol": "circle"
         },
         "mode": "lines+markers",
         "name": "She Know What She Wanted",
         "showlegend": true,
         "type": "scattergl",
         "x": [
          "2024-05-19",
          "2024-05-21",
          "2024-05-28",
          "2024-05-30"
         ],
         "xaxis": "x",
         "y": [
          5000000,
          5200000,
          3600000,
          3600000
         ],
         "yaxis": "y"
        },
        {
         "hovertemplate": "trackName=She Twerkin<br>date=%{x}<br>views=%{y}<extra></extra>",
         "legendgroup": "She Twerkin",
         "line": {
          "color": "#EF553B",
          "dash": "solid"
         },
         "marker": {
          "symbol": "circle"
         },
         "mode": "lines+markers",
         "name": "She Twerkin",
         "showlegend": true,
         "type": "scattergl",
         "x": [
          "2024-05-19"
         ],
         "xaxis": "x",
         "y": [
          15300000
         ],
         "yaxis": "y"
        },
        {
         "hovertemplate": "trackName=Tequila<br>date=%{x}<br>views=%{y}<extra></extra>",
         "legendgroup": "Tequila",
         "line": {
          "color": "#00cc96",
          "dash": "solid"
         },
         "marker": {
          "symbol": "circle"
         },
         "mode": "lines+markers",
         "name": "Tequila",
         "showlegend": true,
         "type": "scattergl",
         "x": [
          "2024-05-19"
         ],
         "xaxis": "x",
         "y": [
          9800000
         ],
         "yaxis": "y"
        },
        {
         "hovertemplate": "trackName=White Girl<br>date=%{x}<br>views=%{y}<extra></extra>",
         "legendgroup": "White Girl",
         "line": {
          "color": "#ab63fa",
          "dash": "solid"
         },
         "marker": {
          "symbol": "circle"
         },
         "mode": "lines+markers",
         "name": "White Girl",
         "showlegend": true,
         "type": "scattergl",
         "x": [
          "2024-05-19"
         ],
         "xaxis": "x",
         "y": [
          12500000
         ],
         "yaxis": "y"
        },
        {
         "hovertemplate": "trackName=ç­ç±105Â°Cçä½ <br>date=%{x}<br>views=%{y}<extra></extra>",
         "legendgroup": "ç­ç±105Â°Cçä½ ",
         "line": {
          "color": "#FFA15A",
          "dash": "solid"
         },
         "marker": {
          "symbol": "circle"
         },
         "mode": "lines+markers",
         "name": "ç­ç±105Â°Cçä½ ",
         "showlegend": true,
         "type": "scattergl",
         "x": [
          "2024-05-19"
         ],
         "xaxis": "x",
         "y": [
          7900000
         ],
         "yaxis": "y"
        },
        {
         "hovertemplate": "trackName=Bodak Yellow<br>date=%{x}<br>views=%{y}<extra></extra>",
         "legendgroup": "Bodak Yellow",
         "line": {
          "color": "#19d3f3",
          "dash": "solid"
         },
         "marker": {
          "symbol": "circle"
         },
         "mode": "lines+markers",
         "name": "Bodak Yellow",
         "showlegend": true,
         "type": "scattergl",
         "x": [
          "2024-05-20"
         ],
         "xaxis": "x",
         "y": [
          40800000
         ],
         "yaxis": "y"
        },
        {
         "hovertemplate": "trackName=Down with the Sickness<br>date=%{x}<br>views=%{y}<extra></extra>",
         "legendgroup": "Down with the Sickness",
         "line": {
          "color": "#FF6692",
          "dash": "solid"
         },
         "marker": {
          "symbol": "circle"
         },
         "mode": "lines+markers",
         "name": "Down with the Sickness",
         "showlegend": true,
         "type": "scattergl",
         "x": [
          "2024-05-20",
          "2024-05-21"
         ],
         "xaxis": "x",
         "y": [
          3600000,
          7200000
         ],
         "yaxis": "y"
        },
        {
         "hovertemplate": "trackName=Finesse<br>date=%{x}<br>views=%{y}<extra></extra>",
         "legendgroup": "Finesse",
         "line": {
          "color": "#B6E880",
          "dash": "solid"
         },
         "marker": {
          "symbol": "circle"
         },
         "mode": "lines+markers",
         "name": "Finesse",
         "showlegend": true,
         "type": "scattergl",
         "x": [
          "2024-05-20"
         ],
         "xaxis": "x",
         "y": [
          8000000
         ],
         "yaxis": "y"
        },
        {
         "hovertemplate": "trackName=Omg Shes Bald<br>date=%{x}<br>views=%{y}<extra></extra>",
         "legendgroup": "Omg Shes Bald",
         "line": {
          "color": "#FF97FF",
          "dash": "solid"
         },
         "marker": {
          "symbol": "circle"
         },
         "mode": "lines+markers",
         "name": "Omg Shes Bald",
         "showlegend": true,
         "type": "scattergl",
         "x": [
          "2024-05-20"
         ],
         "xaxis": "x",
         "y": [
          20100000
         ],
         "yaxis": "y"
        },
        {
         "hovertemplate": "trackName=Stan (feat. Dido)<br>date=%{x}<br>views=%{y}<extra></extra>",
         "legendgroup": "Stan (feat. Dido)",
         "line": {
          "color": "#FECB52",
          "dash": "solid"
         },
         "marker": {
          "symbol": "circle"
         },
         "mode": "lines+markers",
         "name": "Stan (feat. Dido)",
         "showlegend": true,
         "type": "scattergl",
         "x": [
          "2024-05-20",
          "2024-05-27",
          "2024-05-30",
          "2024-06-03",
          "2024-06-05",
          "2024-06-06",
          "2024-06-08",
          "2024-06-10",
          "2024-06-12",
          "2024-06-13",
          "2024-06-14",
          "2024-06-16",
          "2024-06-18"
         ],
         "xaxis": "x",
         "y": [
          19500000,
          21100000,
          22000000,
          1200000,
          1300000,
          1300000,
          1300000,
          1400000,
          1500000,
          3000000,
          1600000,
          1700000,
          1700000
         ],
         "yaxis": "y"
        },
        {
         "hovertemplate": "trackName=The Lost Soul Down<br>date=%{x}<br>views=%{y}<extra></extra>",
         "legendgroup": "The Lost Soul Down",
         "line": {
          "color": "#636efa",
          "dash": "solid"
         },
         "marker": {
          "symbol": "circle"
         },
         "mode": "lines+markers",
         "name": "The Lost Soul Down",
         "showlegend": true,
         "type": "scattergl",
         "x": [
          "2024-05-20"
         ],
         "xaxis": "x",
         "y": [
          5100000
         ],
         "yaxis": "y"
        },
        {
         "hovertemplate": "trackName=We Don't Talk About Bruno (From \"Encanto\"/Soundtrack Version)<br>date=%{x}<br>views=%{y}<extra></extra>",
         "legendgroup": "We Don't Talk About Bruno (From \"Encanto\"/Soundtrack Version)",
         "line": {
          "color": "#EF553B",
          "dash": "solid"
         },
         "marker": {
          "symbol": "circle"
         },
         "mode": "lines+markers",
         "name": "We Don't Talk About Bruno (From \"Encanto\"/Soundtrack Version)",
         "showlegend": true,
         "type": "scattergl",
         "x": [
          "2024-05-20"
         ],
         "xaxis": "x",
         "y": [
          18100000
         ],
         "yaxis": "y"
        },
        {
         "hovertemplate": "trackName=We Don't Talk About Yeah!<br>date=%{x}<br>views=%{y}<extra></extra>",
         "legendgroup": "We Don't Talk About Yeah!",
         "line": {
          "color": "#00cc96",
          "dash": "solid"
         },
         "marker": {
          "symbol": "circle"
         },
         "mode": "lines+markers",
         "name": "We Don't Talk About Yeah!",
         "showlegend": true,
         "type": "scattergl",
         "x": [
          "2024-05-20"
         ],
         "xaxis": "x",
         "y": [
          18100000
         ],
         "yaxis": "y"
        },
        {
         "hovertemplate": "trackName=#Sweetladychallenge<br>date=%{x}<br>views=%{y}<extra></extra>",
         "legendgroup": "#Sweetladychallenge",
         "line": {
          "color": "#ab63fa",
          "dash": "solid"
         },
         "marker": {
          "symbol": "circle"
         },
         "mode": "lines+markers",
         "name": "#Sweetladychallenge",
         "showlegend": true,
         "type": "scattergl",
         "x": [
          "2024-05-21"
         ],
         "xaxis": "x",
         "y": [
          5700000
         ],
         "yaxis": "y"
        },
        {
         "hovertemplate": "trackName=Baddie Friend (Two Bad Bitches) [feat. House of Evo]<br>date=%{x}<br>views=%{y}<extra></extra>",
         "legendgroup": "Baddie Friend (Two Bad Bitches) [feat. House of Evo]",
         "line": {
          "color": "#FFA15A",
          "dash": "solid"
         },
         "marker": {
          "symbol": "circle"
         },
         "mode": "lines+markers",
         "name": "Baddie Friend (Two Bad Bitches) [feat. House of Evo]",
         "showlegend": true,
         "type": "scattergl",
         "x": [
          "2024-05-21"
         ],
         "xaxis": "x",
         "y": [
          2900000
         ],
         "yaxis": "y"
        },
        {
         "hovertemplate": "trackName=Bando Freestyle<br>date=%{x}<br>views=%{y}<extra></extra>",
         "legendgroup": "Bando Freestyle",
         "line": {
          "color": "#19d3f3",
          "dash": "solid"
         },
         "marker": {
          "symbol": "circle"
         },
         "mode": "lines+markers",
         "name": "Bando Freestyle",
         "showlegend": true,
         "type": "scattergl",
         "x": [
          "2024-05-21",
          "2024-05-22",
          "2024-05-23",
          "2024-05-24",
          "2024-05-28",
          "2024-05-29",
          "2024-05-30",
          "2024-06-03",
          "2024-06-05"
         ],
         "xaxis": "x",
         "y": [
          63100000,
          126600000,
          63500000,
          190800000,
          128600000,
          129000000,
          64700000,
          131600000,
          66400000
         ],
         "yaxis": "y"
        },
        {
         "hovertemplate": "trackName=Bow Bow Bow (F My Baby Dad)<br>date=%{x}<br>views=%{y}<extra></extra>",
         "legendgroup": "Bow Bow Bow (F My Baby Dad)",
         "line": {
          "color": "#FF6692",
          "dash": "solid"
         },
         "marker": {
          "symbol": "circle"
         },
         "mode": "lines+markers",
         "name": "Bow Bow Bow (F My Baby Dad)",
         "showlegend": true,
         "type": "scattergl",
         "x": [
          "2024-05-21",
          "2024-05-22",
          "2024-05-27",
          "2024-05-28",
          "2024-05-30"
         ],
         "xaxis": "x",
         "y": [
          3800000,
          4000000,
          19300000,
          9300000,
          6900000
         ],
         "yaxis": "y"
        },
        {
         "hovertemplate": "trackName=Caseoh<br>date=%{x}<br>views=%{y}<extra></extra>",
         "legendgroup": "Caseoh",
         "line": {
          "color": "#B6E880",
          "dash": "solid"
         },
         "marker": {
          "symbol": "circle"
         },
         "mode": "lines+markers",
         "name": "Caseoh",
         "showlegend": true,
         "type": "scattergl",
         "x": [
          "2024-05-21"
         ],
         "xaxis": "x",
         "y": [
          2800000
         ],
         "yaxis": "y"
        },
        {
         "hovertemplate": "trackName=EEYUH!<br>date=%{x}<br>views=%{y}<extra></extra>",
         "legendgroup": "EEYUH!",
         "line": {
          "color": "#FF97FF",
          "dash": "solid"
         },
         "marker": {
          "symbol": "circle"
         },
         "mode": "lines+markers",
         "name": "EEYUH!",
         "showlegend": true,
         "type": "scattergl",
         "x": [
          "2024-05-21"
         ],
         "xaxis": "x",
         "y": [
          5800000
         ],
         "yaxis": "y"
        },
        {
         "hovertemplate": "trackName=Eat Her Up<br>date=%{x}<br>views=%{y}<extra></extra>",
         "legendgroup": "Eat Her Up",
         "line": {
          "color": "#FECB52",
          "dash": "solid"
         },
         "marker": {
          "symbol": "circle"
         },
         "mode": "lines+markers",
         "name": "Eat Her Up",
         "showlegend": true,
         "type": "scattergl",
         "x": [
          "2024-05-21"
         ],
         "xaxis": "x",
         "y": [
          1100000
         ],
         "yaxis": "y"
        },
        {
         "hovertemplate": "trackName=Epic Inspiration<br>date=%{x}<br>views=%{y}<extra></extra>",
         "legendgroup": "Epic Inspiration",
         "line": {
          "color": "#636efa",
          "dash": "solid"
         },
         "marker": {
          "symbol": "circle"
         },
         "mode": "lines+markers",
         "name": "Epic Inspiration",
         "showlegend": true,
         "type": "scattergl",
         "x": [
          "2024-05-21",
          "2024-05-22"
         ],
         "xaxis": "x",
         "y": [
          12300000,
          12300000
         ],
         "yaxis": "y"
        },
        {
         "hovertemplate": "trackName=Gamez<br>date=%{x}<br>views=%{y}<extra></extra>",
         "legendgroup": "Gamez",
         "line": {
          "color": "#EF553B",
          "dash": "solid"
         },
         "marker": {
          "symbol": "circle"
         },
         "mode": "lines+markers",
         "name": "Gamez",
         "showlegend": true,
         "type": "scattergl",
         "x": [
          "2024-05-21"
         ],
         "xaxis": "x",
         "y": [
          10000000
         ],
         "yaxis": "y"
        },
        {
         "hovertemplate": "trackName=Go To Work<br>date=%{x}<br>views=%{y}<extra></extra>",
         "legendgroup": "Go To Work",
         "line": {
          "color": "#00cc96",
          "dash": "solid"
         },
         "marker": {
          "symbol": "circle"
         },
         "mode": "lines+markers",
         "name": "Go To Work",
         "showlegend": true,
         "type": "scattergl",
         "x": [
          "2024-05-21"
         ],
         "xaxis": "x",
         "y": [
          6200000
         ],
         "yaxis": "y"
        },
        {
         "hovertemplate": "trackName=Gurgaon<br>date=%{x}<br>views=%{y}<extra></extra>",
         "legendgroup": "Gurgaon",
         "line": {
          "color": "#ab63fa",
          "dash": "solid"
         },
         "marker": {
          "symbol": "circle"
         },
         "mode": "lines+markers",
         "name": "Gurgaon",
         "showlegend": true,
         "type": "scattergl",
         "x": [
          "2024-05-21",
          "2024-06-05"
         ],
         "xaxis": "x",
         "y": [
          6300000,
          6700000
         ],
         "yaxis": "y"
        },
        {
         "hovertemplate": "trackName=Happy New Year<br>date=%{x}<br>views=%{y}<extra></extra>",
         "legendgroup": "Happy New Year",
         "line": {
          "color": "#FFA15A",
          "dash": "solid"
         },
         "marker": {
          "symbol": "circle"
         },
         "mode": "lines+markers",
         "name": "Happy New Year",
         "showlegend": true,
         "type": "scattergl",
         "x": [
          "2024-05-21"
         ],
         "xaxis": "x",
         "y": [
          2300000
         ],
         "yaxis": "y"
        },
        {
         "hovertemplate": "trackName=Harness Your Hopes (B-side)<br>date=%{x}<br>views=%{y}<extra></extra>",
         "legendgroup": "Harness Your Hopes (B-side)",
         "line": {
          "color": "#19d3f3",
          "dash": "solid"
         },
         "marker": {
          "symbol": "circle"
         },
         "mode": "lines+markers",
         "name": "Harness Your Hopes (B-side)",
         "showlegend": true,
         "type": "scattergl",
         "x": [
          "2024-05-21",
          "2024-06-21"
         ],
         "xaxis": "x",
         "y": [
          6800000,
          10400000
         ],
         "yaxis": "y"
        },
        {
         "hovertemplate": "trackName=Has It Hit Yet??<br>date=%{x}<br>views=%{y}<extra></extra>",
         "legendgroup": "Has It Hit Yet??",
         "line": {
          "color": "#FF6692",
          "dash": "solid"
         },
         "marker": {
          "symbol": "circle"
         },
         "mode": "lines+markers",
         "name": "Has It Hit Yet??",
         "showlegend": true,
         "type": "scattergl",
         "x": [
          "2024-05-21"
         ],
         "xaxis": "x",
         "y": [
          8700000
         ],
         "yaxis": "y"
        },
        {
         "hovertemplate": "trackName=Honey Pack<br>date=%{x}<br>views=%{y}<extra></extra>",
         "legendgroup": "Honey Pack",
         "line": {
          "color": "#B6E880",
          "dash": "solid"
         },
         "marker": {
          "symbol": "circle"
         },
         "mode": "lines+markers",
         "name": "Honey Pack",
         "showlegend": true,
         "type": "scattergl",
         "x": [
          "2024-05-21"
         ],
         "xaxis": "x",
         "y": [
          2700000
         ],
         "yaxis": "y"
        },
        {
         "hovertemplate": "trackName=I Was Only Temporary 2 U<br>date=%{x}<br>views=%{y}<extra></extra>",
         "legendgroup": "I Was Only Temporary 2 U",
         "line": {
          "color": "#FF97FF",
          "dash": "solid"
         },
         "marker": {
          "symbol": "circle"
         },
         "mode": "lines+markers",
         "name": "I Was Only Temporary 2 U",
         "showlegend": true,
         "type": "scattergl",
         "x": [
          "2024-05-21"
         ],
         "xaxis": "x",
         "y": [
          6400000
         ],
         "yaxis": "y"
        },
        {
         "hovertemplate": "trackName=Lil Boo Thang<br>date=%{x}<br>views=%{y}<extra></extra>",
         "legendgroup": "Lil Boo Thang",
         "line": {
          "color": "#FECB52",
          "dash": "solid"
         },
         "marker": {
          "symbol": "circle"
         },
         "mode": "lines+markers",
         "name": "Lil Boo Thang",
         "showlegend": true,
         "type": "scattergl",
         "x": [
          "2024-05-21",
          "2024-05-22"
         ],
         "xaxis": "x",
         "y": [
          2400000,
          3600000
         ],
         "yaxis": "y"
        },
        {
         "hovertemplate": "trackName=Little Bit<br>date=%{x}<br>views=%{y}<extra></extra>",
         "legendgroup": "Little Bit",
         "line": {
          "color": "#636efa",
          "dash": "solid"
         },
         "marker": {
          "symbol": "circle"
         },
         "mode": "lines+markers",
         "name": "Little Bit",
         "showlegend": true,
         "type": "scattergl",
         "x": [
          "2024-05-21"
         ],
         "xaxis": "x",
         "y": [
          4200000
         ],
         "yaxis": "y"
        },
        {
         "hovertemplate": "trackName=Money!<br>date=%{x}<br>views=%{y}<extra></extra>",
         "legendgroup": "Money!",
         "line": {
          "color": "#EF553B",
          "dash": "solid"
         },
         "marker": {
          "symbol": "circle"
         },
         "mode": "lines+markers",
         "name": "Money!",
         "showlegend": true,
         "type": "scattergl",
         "x": [
          "2024-05-21"
         ],
         "xaxis": "x",
         "y": [
          3600000
         ],
         "yaxis": "y"
        },
        {
         "hovertemplate": "trackName=My6<br>date=%{x}<br>views=%{y}<extra></extra>",
         "legendgroup": "My6",
         "line": {
          "color": "#00cc96",
          "dash": "solid"
         },
         "marker": {
          "symbol": "circle"
         },
         "mode": "lines+markers",
         "name": "My6",
         "showlegend": true,
         "type": "scattergl",
         "x": [
          "2024-05-21",
          "2024-06-12",
          "2024-06-20"
         ],
         "xaxis": "x",
         "y": [
          90900000,
          93300000,
          93900000
         ],
         "yaxis": "y"
        },
        {
         "hovertemplate": "trackName=No Extensions<br>date=%{x}<br>views=%{y}<extra></extra>",
         "legendgroup": "No Extensions",
         "line": {
          "color": "#ab63fa",
          "dash": "solid"
         },
         "marker": {
          "symbol": "circle"
         },
         "mode": "lines+markers",
         "name": "No Extensions",
         "showlegend": true,
         "type": "scattergl",
         "x": [
          "2024-05-21"
         ],
         "xaxis": "x",
         "y": [
          8600000
         ],
         "yaxis": "y"
        },
        {
         "hovertemplate": "trackName=Perfect<br>date=%{x}<br>views=%{y}<extra></extra>",
         "legendgroup": "Perfect",
         "line": {
          "color": "#FFA15A",
          "dash": "solid"
         },
         "marker": {
          "symbol": "circle"
         },
         "mode": "lines+markers",
         "name": "Perfect",
         "showlegend": true,
         "type": "scattergl",
         "x": [
          "2024-05-21",
          "2024-06-20"
         ],
         "xaxis": "x",
         "y": [
          33800000,
          64400000
         ],
         "yaxis": "y"
        },
        {
         "hovertemplate": "trackName=Playboy<br>date=%{x}<br>views=%{y}<extra></extra>",
         "legendgroup": "Playboy",
         "line": {
          "color": "#19d3f3",
          "dash": "solid"
         },
         "marker": {
          "symbol": "circle"
         },
         "mode": "lines+markers",
         "name": "Playboy",
         "showlegend": true,
         "type": "scattergl",
         "x": [
          "2024-05-21"
         ],
         "xaxis": "x",
         "y": [
          11500000
         ],
         "yaxis": "y"
        },
        {
         "hovertemplate": "trackName=Playground Love (feat. Gordon Tracks)<br>date=%{x}<br>views=%{y}<extra></extra>",
         "legendgroup": "Playground Love (feat. Gordon Tracks)",
         "line": {
          "color": "#FF6692",
          "dash": "solid"
         },
         "marker": {
          "symbol": "circle"
         },
         "mode": "lines+markers",
         "name": "Playground Love (feat. Gordon Tracks)",
         "showlegend": true,
         "type": "scattergl",
         "x": [
          "2024-05-21",
          "2024-05-23",
          "2024-05-25",
          "2024-05-26",
          "2024-05-28",
          "2024-05-30",
          "2024-05-31",
          "2024-06-01",
          "2024-06-03",
          "2024-06-04",
          "2024-06-05",
          "2024-06-06"
         ],
         "xaxis": "x",
         "y": [
          38900000,
          79000000,
          79600000,
          39900000,
          40100000,
          40300000,
          80800000,
          40600000,
          82200000,
          41300000,
          0,
          41500000
         ],
         "yaxis": "y"
        },
        {
         "hovertemplate": "trackName=Remember You<br>date=%{x}<br>views=%{y}<extra></extra>",
         "legendgroup": "Remember You",
         "line": {
          "color": "#B6E880",
          "dash": "solid"
         },
         "marker": {
          "symbol": "circle"
         },
         "mode": "lines+markers",
         "name": "Remember You",
         "showlegend": true,
         "type": "scattergl",
         "x": [
          "2024-05-21"
         ],
         "xaxis": "x",
         "y": [
          10800000
         ],
         "yaxis": "y"
        },
        {
         "hovertemplate": "trackName=Run the World (Girls)<br>date=%{x}<br>views=%{y}<extra></extra>",
         "legendgroup": "Run the World (Girls)",
         "line": {
          "color": "#FF97FF",
          "dash": "solid"
         },
         "marker": {
          "symbol": "circle"
         },
         "mode": "lines+markers",
         "name": "Run the World (Girls)",
         "showlegend": true,
         "type": "scattergl",
         "x": [
          "2024-05-21"
         ],
         "xaxis": "x",
         "y": [
          1500000
         ],
         "yaxis": "y"
        },
        {
         "hovertemplate": "trackName=Running Away<br>date=%{x}<br>views=%{y}<extra></extra>",
         "legendgroup": "Running Away",
         "line": {
          "color": "#FECB52",
          "dash": "solid"
         },
         "marker": {
          "symbol": "circle"
         },
         "mode": "lines+markers",
         "name": "Running Away",
         "showlegend": true,
         "type": "scattergl",
         "x": [
          "2024-05-21"
         ],
         "xaxis": "x",
         "y": [
          17100000
         ],
         "yaxis": "y"
        },
        {
         "hovertemplate": "trackName=San Juanito Parrandero<br>date=%{x}<br>views=%{y}<extra></extra>",
         "legendgroup": "San Juanito Parrandero",
         "line": {
          "color": "#636efa",
          "dash": "solid"
         },
         "marker": {
          "symbol": "circle"
         },
         "mode": "lines+markers",
         "name": "San Juanito Parrandero",
         "showlegend": true,
         "type": "scattergl",
         "x": [
          "2024-05-21"
         ],
         "xaxis": "x",
         "y": [
          8000000
         ],
         "yaxis": "y"
        },
        {
         "hovertemplate": "trackName=Seppuku (feat. Baldie Balboa)<br>date=%{x}<br>views=%{y}<extra></extra>",
         "legendgroup": "Seppuku (feat. Baldie Balboa)",
         "line": {
          "color": "#EF553B",
          "dash": "solid"
         },
         "marker": {
          "symbol": "circle"
         },
         "mode": "lines+markers",
         "name": "Seppuku (feat. Baldie Balboa)",
         "showlegend": true,
         "type": "scattergl",
         "x": [
          "2024-05-21"
         ],
         "xaxis": "x",
         "y": [
          1200000
         ],
         "yaxis": "y"
        },
        {
         "hovertemplate": "trackName=Sge Sa x Rtm Nia (Get in mode 2)<br>date=%{x}<br>views=%{y}<extra></extra>",
         "legendgroup": "Sge Sa x Rtm Nia (Get in mode 2)",
         "line": {
          "color": "#00cc96",
          "dash": "solid"
         },
         "marker": {
          "symbol": "circle"
         },
         "mode": "lines+markers",
         "name": "Sge Sa x Rtm Nia (Get in mode 2)",
         "showlegend": true,
         "type": "scattergl",
         "x": [
          "2024-05-21"
         ],
         "xaxis": "x",
         "y": [
          2100000
         ],
         "yaxis": "y"
        },
        {
         "hovertemplate": "trackName=Skyfall<br>date=%{x}<br>views=%{y}<extra></extra>",
         "legendgroup": "Skyfall",
         "line": {
          "color": "#ab63fa",
          "dash": "solid"
         },
         "marker": {
          "symbol": "circle"
         },
         "mode": "lines+markers",
         "name": "Skyfall",
         "showlegend": true,
         "type": "scattergl",
         "x": [
          "2024-05-21"
         ],
         "xaxis": "x",
         "y": [
          5500000
         ],
         "yaxis": "y"
        },
        {
         "hovertemplate": "trackName=Tokyo<br>date=%{x}<br>views=%{y}<extra></extra>",
         "legendgroup": "Tokyo",
         "line": {
          "color": "#FFA15A",
          "dash": "solid"
         },
         "marker": {
          "symbol": "circle"
         },
         "mode": "lines+markers",
         "name": "Tokyo",
         "showlegend": true,
         "type": "scattergl",
         "x": [
          "2024-05-21",
          "2024-06-05"
         ],
         "xaxis": "x",
         "y": [
          2300000,
          1500000
         ],
         "yaxis": "y"
        },
        {
         "hovertemplate": "trackName=Trap Queen<br>date=%{x}<br>views=%{y}<extra></extra>",
         "legendgroup": "Trap Queen",
         "line": {
          "color": "#19d3f3",
          "dash": "solid"
         },
         "marker": {
          "symbol": "circle"
         },
         "mode": "lines+markers",
         "name": "Trap Queen",
         "showlegend": true,
         "type": "scattergl",
         "x": [
          "2024-05-21"
         ],
         "xaxis": "x",
         "y": [
          2000000
         ],
         "yaxis": "y"
        },
        {
         "hovertemplate": "trackName=Tu Eres una Celosa Yo No Soy Celosa<br>date=%{x}<br>views=%{y}<extra></extra>",
         "legendgroup": "Tu Eres una Celosa Yo No Soy Celosa",
         "line": {
          "color": "#FF6692",
          "dash": "solid"
         },
         "marker": {
          "symbol": "circle"
         },
         "mode": "lines+markers",
         "name": "Tu Eres una Celosa Yo No Soy Celosa",
         "showlegend": true,
         "type": "scattergl",
         "x": [
          "2024-05-21"
         ],
         "xaxis": "x",
         "y": [
          6800000
         ],
         "yaxis": "y"
        },
        {
         "hovertemplate": "trackName=What You Know Bout Love<br>date=%{x}<br>views=%{y}<extra></extra>",
         "legendgroup": "What You Know Bout Love",
         "line": {
          "color": "#B6E880",
          "dash": "solid"
         },
         "marker": {
          "symbol": "circle"
         },
         "mode": "lines+markers",
         "name": "What You Know Bout Love",
         "showlegend": true,
         "type": "scattergl",
         "x": [
          "2024-05-21"
         ],
         "xaxis": "x",
         "y": [
          6300000
         ],
         "yaxis": "y"
        },
        {
         "hovertemplate": "trackName=kompa pasiÃ³n<br>date=%{x}<br>views=%{y}<extra></extra>",
         "legendgroup": "kompa pasiÃ³n",
         "line": {
          "color": "#FF97FF",
          "dash": "solid"
         },
         "marker": {
          "symbol": "circle"
         },
         "mode": "lines+markers",
         "name": "kompa pasiÃ³n",
         "showlegend": true,
         "type": "scattergl",
         "x": [
          "2024-05-21",
          "2024-05-28",
          "2024-05-31",
          "2024-06-19"
         ],
         "xaxis": "x",
         "y": [
          10700000,
          5500000,
          5800000,
          11600000
         ],
         "yaxis": "y"
        },
        {
         "hovertemplate": "trackName=Ð¡Ð¸Ð´ (feat. zaplutal)<br>date=%{x}<br>views=%{y}<extra></extra>",
         "legendgroup": "Ð¡Ð¸Ð´ (feat. zaplutal)",
         "line": {
          "color": "#FECB52",
          "dash": "solid"
         },
         "marker": {
          "symbol": "circle"
         },
         "mode": "lines+markers",
         "name": "Ð¡Ð¸Ð´ (feat. zaplutal)",
         "showlegend": true,
         "type": "scattergl",
         "x": [
          "2024-05-21"
         ],
         "xaxis": "x",
         "y": [
          3200000
         ],
         "yaxis": "y"
        },
        {
         "hovertemplate": "trackName=BOP (feat. GloRilla)<br>date=%{x}<br>views=%{y}<extra></extra>",
         "legendgroup": "BOP (feat. GloRilla)",
         "line": {
          "color": "#636efa",
          "dash": "solid"
         },
         "marker": {
          "symbol": "circle"
         },
         "mode": "lines+markers",
         "name": "BOP (feat. GloRilla)",
         "showlegend": true,
         "type": "scattergl",
         "x": [
          "2024-05-22",
          "2024-05-27"
         ],
         "xaxis": "x",
         "y": [
          14000000,
          24200000
         ],
         "yaxis": "y"
        },
        {
         "hovertemplate": "trackName=Feel the Groove<br>date=%{x}<br>views=%{y}<extra></extra>",
         "legendgroup": "Feel the Groove",
         "line": {
          "color": "#EF553B",
          "dash": "solid"
         },
         "marker": {
          "symbol": "circle"
         },
         "mode": "lines+markers",
         "name": "Feel the Groove",
         "showlegend": true,
         "type": "scattergl",
         "x": [
          "2024-05-22",
          "2024-06-05"
         ],
         "xaxis": "x",
         "y": [
          3900000,
          6200000
         ],
         "yaxis": "y"
        },
        {
         "hovertemplate": "trackName=Funk Estranho<br>date=%{x}<br>views=%{y}<extra></extra>",
         "legendgroup": "Funk Estranho",
         "line": {
          "color": "#00cc96",
          "dash": "solid"
         },
         "marker": {
          "symbol": "circle"
         },
         "mode": "lines+markers",
         "name": "Funk Estranho",
         "showlegend": true,
         "type": "scattergl",
         "x": [
          "2024-05-22"
         ],
         "xaxis": "x",
         "y": [
          2400000
         ],
         "yaxis": "y"
        },
        {
         "hovertemplate": "trackName=Funny Sounds (Interlude)<br>date=%{x}<br>views=%{y}<extra></extra>",
         "legendgroup": "Funny Sounds (Interlude)",
         "line": {
          "color": "#ab63fa",
          "dash": "solid"
         },
         "marker": {
          "symbol": "circle"
         },
         "mode": "lines+markers",
         "name": "Funny Sounds (Interlude)",
         "showlegend": true,
         "type": "scattergl",
         "x": [
          "2024-05-22"
         ],
         "xaxis": "x",
         "y": [
          1200000
         ],
         "yaxis": "y"
        },
        {
         "hovertemplate": "trackName=G.O.A.T<br>date=%{x}<br>views=%{y}<extra></extra>",
         "legendgroup": "G.O.A.T",
         "line": {
          "color": "#FFA15A",
          "dash": "solid"
         },
         "marker": {
          "symbol": "circle"
         },
         "mode": "lines+markers",
         "name": "G.O.A.T",
         "showlegend": true,
         "type": "scattergl",
         "x": [
          "2024-05-22",
          "2024-05-25",
          "2024-05-26",
          "2024-05-27",
          "2024-06-01",
          "2024-06-02",
          "2024-06-04"
         ],
         "xaxis": "x",
         "y": [
          4200000,
          4300000,
          8600000,
          8800000,
          13800000,
          9200000,
          4700000
         ],
         "yaxis": "y"
        },
        {
         "hovertemplate": "trackName=Glock N My Lap Twisted N Chopped<br>date=%{x}<br>views=%{y}<extra></extra>",
         "legendgroup": "Glock N My Lap Twisted N Chopped",
         "line": {
          "color": "#19d3f3",
          "dash": "solid"
         },
         "marker": {
          "symbol": "circle"
         },
         "mode": "lines+markers",
         "name": "Glock N My Lap Twisted N Chopped",
         "showlegend": true,
         "type": "scattergl",
         "x": [
          "2024-05-22"
         ],
         "xaxis": "x",
         "y": [
          3100000
         ],
         "yaxis": "y"
        },
        {
         "hovertemplate": "trackName=Inspiring Triumphant Trailer<br>date=%{x}<br>views=%{y}<extra></extra>",
         "legendgroup": "Inspiring Triumphant Trailer",
         "line": {
          "color": "#FF6692",
          "dash": "solid"
         },
         "marker": {
          "symbol": "circle"
         },
         "mode": "lines+markers",
         "name": "Inspiring Triumphant Trailer",
         "showlegend": true,
         "type": "scattergl",
         "x": [
          "2024-05-22",
          "2024-06-05",
          "2024-06-06",
          "2024-06-19"
         ],
         "xaxis": "x",
         "y": [
          7400000,
          4300000,
          4500000,
          3100000
         ],
         "yaxis": "y"
        },
        {
         "hovertemplate": "trackName=Instrumental Mc lullu me papa lala Slowed and Reverb<br>date=%{x}<br>views=%{y}<extra></extra>",
         "legendgroup": "Instrumental Mc lullu me papa lala Slowed and Reverb",
         "line": {
          "color": "#B6E880",
          "dash": "solid"
         },
         "marker": {
          "symbol": "circle"
         },
         "mode": "lines+markers",
         "name": "Instrumental Mc lullu me papa lala Slowed and Reverb",
         "showlegend": true,
         "type": "scattergl",
         "x": [
          "2024-05-22"
         ],
         "xaxis": "x",
         "y": [
          15300000
         ],
         "yaxis": "y"
        },
        {
         "hovertemplate": "trackName=LET THE WORLD BURN<br>date=%{x}<br>views=%{y}<extra></extra>",
         "legendgroup": "LET THE WORLD BURN",
         "line": {
          "color": "#FF97FF",
          "dash": "solid"
         },
         "marker": {
          "symbol": "circle"
         },
         "mode": "lines+markers",
         "name": "LET THE WORLD BURN",
         "showlegend": true,
         "type": "scattergl",
         "x": [
          "2024-05-22"
         ],
         "xaxis": "x",
         "y": [
          2400000
         ],
         "yaxis": "y"
        },
        {
         "hovertemplate": "trackName=My Planet Needs Me<br>date=%{x}<br>views=%{y}<extra></extra>",
         "legendgroup": "My Planet Needs Me",
         "line": {
          "color": "#FECB52",
          "dash": "solid"
         },
         "marker": {
          "symbol": "circle"
         },
         "mode": "lines+markers",
         "name": "My Planet Needs Me",
         "showlegend": true,
         "type": "scattergl",
         "x": [
          "2024-05-22"
         ],
         "xaxis": "x",
         "y": [
          15300000
         ],
         "yaxis": "y"
        },
        {
         "hovertemplate": "trackName=Ngeke Balunge<br>date=%{x}<br>views=%{y}<extra></extra>",
         "legendgroup": "Ngeke Balunge",
         "line": {
          "color": "#636efa",
          "dash": "solid"
         },
         "marker": {
          "symbol": "circle"
         },
         "mode": "lines+markers",
         "name": "Ngeke Balunge",
         "showlegend": true,
         "type": "scattergl",
         "x": [
          "2024-05-22",
          "2024-05-25",
          "2024-06-13",
          "2024-06-19"
         ],
         "xaxis": "x",
         "y": [
          8200000,
          8400000,
          18000000,
          9400000
         ],
         "yaxis": "y"
        },
        {
         "hovertemplate": "trackName=Nothing Alike (feat. Shxdow Ace)<br>date=%{x}<br>views=%{y}<extra></extra>",
         "legendgroup": "Nothing Alike (feat. Shxdow Ace)",
         "line": {
          "color": "#EF553B",
          "dash": "solid"
         },
         "marker": {
          "symbol": "circle"
         },
         "mode": "lines+markers",
         "name": "Nothing Alike (feat. Shxdow Ace)",
         "showlegend": true,
         "type": "scattergl",
         "x": [
          "2024-05-22",
          "2024-05-25",
          "2024-05-28",
          "2024-05-29",
          "2024-05-30",
          "2024-05-31",
          "2024-06-04",
          "2024-06-05",
          "2024-06-15",
          "2024-06-17",
          "2024-06-20",
          "2024-06-21",
          "2024-06-22",
          "2024-06-23",
          "2024-06-26"
         ],
         "xaxis": "x",
         "y": [
          34000000,
          7000000,
          7800000,
          68400000,
          60800000,
          99700000,
          7200000,
          0,
          107000000,
          96200000,
          98700000,
          99100000,
          113500000,
          138700000,
          26900000
         ],
         "yaxis": "y"
        },
        {
         "hovertemplate": "trackName=Play That Funky Music<br>date=%{x}<br>views=%{y}<extra></extra>",
         "legendgroup": "Play That Funky Music",
         "line": {
          "color": "#00cc96",
          "dash": "solid"
         },
         "marker": {
          "symbol": "circle"
         },
         "mode": "lines+markers",
         "name": "Play That Funky Music",
         "showlegend": true,
         "type": "scattergl",
         "x": [
          "2024-05-22",
          "2024-05-23",
          "2024-05-26"
         ],
         "xaxis": "x",
         "y": [
          77100000,
          51800000,
          26100000
         ],
         "yaxis": "y"
        },
        {
         "hovertemplate": "trackName=Rodeo<br>date=%{x}<br>views=%{y}<extra></extra>",
         "legendgroup": "Rodeo",
         "line": {
          "color": "#ab63fa",
          "dash": "solid"
         },
         "marker": {
          "symbol": "circle"
         },
         "mode": "lines+markers",
         "name": "Rodeo",
         "showlegend": true,
         "type": "scattergl",
         "x": [
          "2024-05-22",
          "2024-05-29"
         ],
         "xaxis": "x",
         "y": [
          10600000,
          7200000
         ],
         "yaxis": "y"
        },
        {
         "hovertemplate": "trackName=Solo<br>date=%{x}<br>views=%{y}<extra></extra>",
         "legendgroup": "Solo",
         "line": {
          "color": "#FFA15A",
          "dash": "solid"
         },
         "marker": {
          "symbol": "circle"
         },
         "mode": "lines+markers",
         "name": "Solo",
         "showlegend": true,
         "type": "scattergl",
         "x": [
          "2024-05-22",
          "2024-05-23",
          "2024-05-24",
          "2024-05-26",
          "2024-05-28",
          "2024-05-29",
          "2024-05-31"
         ],
         "xaxis": "x",
         "y": [
          5100000,
          5100000,
          5100000,
          3400000,
          1700000,
          1700000,
          5100000
         ],
         "yaxis": "y"
        },
        {
         "hovertemplate": "trackName=Talk My Shit<br>date=%{x}<br>views=%{y}<extra></extra>",
         "legendgroup": "Talk My Shit",
         "line": {
          "color": "#19d3f3",
          "dash": "solid"
         },
         "marker": {
          "symbol": "circle"
         },
         "mode": "lines+markers",
         "name": "Talk My Shit",
         "showlegend": true,
         "type": "scattergl",
         "x": [
          "2024-05-22",
          "2024-05-23",
          "2024-06-01",
          "2024-06-04"
         ],
         "xaxis": "x",
         "y": [
          26800000,
          17500000,
          18900000,
          19400000
         ],
         "yaxis": "y"
        },
        {
         "hovertemplate": "trackName=Teen Titans Gm<br>date=%{x}<br>views=%{y}<extra></extra>",
         "legendgroup": "Teen Titans Gm",
         "line": {
          "color": "#FF6692",
          "dash": "solid"
         },
         "marker": {
          "symbol": "circle"
         },
         "mode": "lines+markers",
         "name": "Teen Titans Gm",
         "showlegend": true,
         "type": "scattergl",
         "x": [
          "2024-05-22"
         ],
         "xaxis": "x",
         "y": [
          10200000
         ],
         "yaxis": "y"
        },
        {
         "hovertemplate": "trackName=Thrill of It (INFECTED VERSION)<br>date=%{x}<br>views=%{y}<extra></extra>",
         "legendgroup": "Thrill of It (INFECTED VERSION)",
         "line": {
          "color": "#B6E880",
          "dash": "solid"
         },
         "marker": {
          "symbol": "circle"
         },
         "mode": "lines+markers",
         "name": "Thrill of It (INFECTED VERSION)",
         "showlegend": true,
         "type": "scattergl",
         "x": [
          "2024-05-22",
          "2024-05-25"
         ],
         "xaxis": "x",
         "y": [
          34800000,
          1600000
         ],
         "yaxis": "y"
        },
        {
         "hovertemplate": "trackName=Too Happy<br>date=%{x}<br>views=%{y}<extra></extra>",
         "legendgroup": "Too Happy",
         "line": {
          "color": "#FF97FF",
          "dash": "solid"
         },
         "marker": {
          "symbol": "circle"
         },
         "mode": "lines+markers",
         "name": "Too Happy",
         "showlegend": true,
         "type": "scattergl",
         "x": [
          "2024-05-22"
         ],
         "xaxis": "x",
         "y": [
          1200000
         ],
         "yaxis": "y"
        },
        {
         "hovertemplate": "trackName=Unreleased<br>date=%{x}<br>views=%{y}<extra></extra>",
         "legendgroup": "Unreleased",
         "line": {
          "color": "#FECB52",
          "dash": "solid"
         },
         "marker": {
          "symbol": "circle"
         },
         "mode": "lines+markers",
         "name": "Unreleased",
         "showlegend": true,
         "type": "scattergl",
         "x": [
          "2024-05-22"
         ],
         "xaxis": "x",
         "y": [
          6600000
         ],
         "yaxis": "y"
        },
        {
         "hovertemplate": "trackName=Who Can It Be Now?<br>date=%{x}<br>views=%{y}<extra></extra>",
         "legendgroup": "Who Can It Be Now?",
         "line": {
          "color": "#636efa",
          "dash": "solid"
         },
         "marker": {
          "symbol": "circle"
         },
         "mode": "lines+markers",
         "name": "Who Can It Be Now?",
         "showlegend": true,
         "type": "scattergl",
         "x": [
          "2024-05-22",
          "2024-05-23",
          "2024-05-26",
          "2024-05-27",
          "2024-05-28"
         ],
         "xaxis": "x",
         "y": [
          3800000,
          5900000,
          7400000,
          13600000,
          6100000
         ],
         "yaxis": "y"
        },
        {
         "hovertemplate": "trackName=All Type of Drugs (feat. Bloody Jay, Ola Playa & Thug)<br>date=%{x}<br>views=%{y}<extra></extra>",
         "legendgroup": "All Type of Drugs (feat. Bloody Jay, Ola Playa & Thug)",
         "line": {
          "color": "#EF553B",
          "dash": "solid"
         },
         "marker": {
          "symbol": "circle"
         },
         "mode": "lines+markers",
         "name": "All Type of Drugs (feat. Bloody Jay, Ola Playa & Thug)",
         "showlegend": true,
         "type": "scattergl",
         "x": [
          "2024-05-23",
          "2024-05-31"
         ],
         "xaxis": "x",
         "y": [
          7200000,
          4100000
         ],
         "yaxis": "y"
        },
        {
         "hovertemplate": "trackName=Amafes<br>date=%{x}<br>views=%{y}<extra></extra>",
         "legendgroup": "Amafes",
         "line": {
          "color": "#00cc96",
          "dash": "solid"
         },
         "marker": {
          "symbol": "circle"
         },
         "mode": "lines+markers",
         "name": "Amafes",
         "showlegend": true,
         "type": "scattergl",
         "x": [
          "2024-05-23"
         ],
         "xaxis": "x",
         "y": [
          8100000
         ],
         "yaxis": "y"
        },
        {
         "hovertemplate": "trackName=Bane<br>date=%{x}<br>views=%{y}<extra></extra>",
         "legendgroup": "Bane",
         "line": {
          "color": "#ab63fa",
          "dash": "solid"
         },
         "marker": {
          "symbol": "circle"
         },
         "mode": "lines+markers",
         "name": "Bane",
         "showlegend": true,
         "type": "scattergl",
         "x": [
          "2024-05-23",
          "2024-05-24",
          "2024-05-25",
          "2024-05-29"
         ],
         "xaxis": "x",
         "y": [
          1600000,
          1600000,
          1600000,
          1700000
         ],
         "yaxis": "y"
        },
        {
         "hovertemplate": "trackName=Bow Bow Bow (F My Baby Mama)<br>date=%{x}<br>views=%{y}<extra></extra>",
         "legendgroup": "Bow Bow Bow (F My Baby Mama)",
         "line": {
          "color": "#FFA15A",
          "dash": "solid"
         },
         "marker": {
          "symbol": "circle"
         },
         "mode": "lines+markers",
         "name": "Bow Bow Bow (F My Baby Mama)",
         "showlegend": true,
         "type": "scattergl",
         "x": [
          "2024-05-23",
          "2024-05-26"
         ],
         "xaxis": "x",
         "y": [
          6300000,
          21000000
         ],
         "yaxis": "y"
        },
        {
         "hovertemplate": "trackName=Closer<br>date=%{x}<br>views=%{y}<extra></extra>",
         "legendgroup": "Closer",
         "line": {
          "color": "#19d3f3",
          "dash": "solid"
         },
         "marker": {
          "symbol": "circle"
         },
         "mode": "lines+markers",
         "name": "Closer",
         "showlegend": true,
         "type": "scattergl",
         "x": [
          "2024-05-23",
          "2024-05-25",
          "2024-05-26"
         ],
         "xaxis": "x",
         "y": [
          5200000,
          5400000,
          5600000
         ],
         "yaxis": "y"
        },
        {
         "hovertemplate": "trackName=D-R-U-N-K<br>date=%{x}<br>views=%{y}<extra></extra>",
         "legendgroup": "D-R-U-N-K",
         "line": {
          "color": "#FF6692",
          "dash": "solid"
         },
         "marker": {
          "symbol": "circle"
         },
         "mode": "lines+markers",
         "name": "D-R-U-N-K",
         "showlegend": true,
         "type": "scattergl",
         "x": [
          "2024-05-23",
          "2024-05-24",
          "2024-05-25",
          "2024-05-27",
          "2024-05-28"
         ],
         "xaxis": "x",
         "y": [
          27900000,
          27900000,
          28000000,
          28200000,
          28300000
         ],
         "yaxis": "y"
        },
        {
         "hovertemplate": "trackName=Dandelions<br>date=%{x}<br>views=%{y}<extra></extra>",
         "legendgroup": "Dandelions",
         "line": {
          "color": "#B6E880",
          "dash": "solid"
         },
         "marker": {
          "symbol": "circle"
         },
         "mode": "lines+markers",
         "name": "Dandelions",
         "showlegend": true,
         "type": "scattergl",
         "x": [
          "2024-05-23"
         ],
         "xaxis": "x",
         "y": [
          7800000
         ],
         "yaxis": "y"
        },
        {
         "hovertemplate": "trackName=Dreamin<br>date=%{x}<br>views=%{y}<extra></extra>",
         "legendgroup": "Dreamin",
         "line": {
          "color": "#FF97FF",
          "dash": "solid"
         },
         "marker": {
          "symbol": "circle"
         },
         "mode": "lines+markers",
         "name": "Dreamin",
         "showlegend": true,
         "type": "scattergl",
         "x": [
          "2024-05-23"
         ],
         "xaxis": "x",
         "y": [
          7700000
         ],
         "yaxis": "y"
        },
        {
         "hovertemplate": "trackName=Evergreen<br>date=%{x}<br>views=%{y}<extra></extra>",
         "legendgroup": "Evergreen",
         "line": {
          "color": "#FECB52",
          "dash": "solid"
         },
         "marker": {
          "symbol": "circle"
         },
         "mode": "lines+markers",
         "name": "Evergreen",
         "showlegend": true,
         "type": "scattergl",
         "x": [
          "2024-05-23",
          "2024-06-02",
          "2024-06-04",
          "2024-06-05",
          "2024-06-13",
          "2024-06-14",
          "2024-06-16",
          "2024-06-22",
          "2024-06-23"
         ],
         "xaxis": "x",
         "y": [
          20300000,
          41000000,
          20600000,
          20700000,
          13300000,
          87200000,
          88200000,
          36500000,
          38600000
         ],
         "yaxis": "y"
        },
        {
         "hovertemplate": "trackName=GEEKALEEK (feat. Cash Kidd)<br>date=%{x}<br>views=%{y}<extra></extra>",
         "legendgroup": "GEEKALEEK (feat. Cash Kidd)",
         "line": {
          "color": "#636efa",
          "dash": "solid"
         },
         "marker": {
          "symbol": "circle"
         },
         "mode": "lines+markers",
         "name": "GEEKALEEK (feat. Cash Kidd)",
         "showlegend": true,
         "type": "scattergl",
         "x": [
          "2024-05-23",
          "2024-05-24",
          "2024-05-25",
          "2024-05-26",
          "2024-05-27",
          "2024-05-28"
         ],
         "xaxis": "x",
         "y": [
          1400000,
          1400000,
          1500000,
          3000000,
          3000000,
          3000000
         ],
         "yaxis": "y"
        },
        {
         "hovertemplate": "trackName=Get Wid Lemonade<br>date=%{x}<br>views=%{y}<extra></extra>",
         "legendgroup": "Get Wid Lemonade",
         "line": {
          "color": "#EF553B",
          "dash": "solid"
         },
         "marker": {
          "symbol": "circle"
         },
         "mode": "lines+markers",
         "name": "Get Wid Lemonade",
         "showlegend": true,
         "type": "scattergl",
         "x": [
          "2024-05-23"
         ],
         "xaxis": "x",
         "y": [
          20900000
         ],
         "yaxis": "y"
        },
        {
         "hovertemplate": "trackName=Hi Hi<br>date=%{x}<br>views=%{y}<extra></extra>",
         "legendgroup": "Hi Hi",
         "line": {
          "color": "#00cc96",
          "dash": "solid"
         },
         "marker": {
          "symbol": "circle"
         },
         "mode": "lines+markers",
         "name": "Hi Hi",
         "showlegend": true,
         "type": "scattergl",
         "x": [
          "2024-05-23"
         ],
         "xaxis": "x",
         "y": [
          4400000
         ],
         "yaxis": "y"
        },
        {
         "hovertemplate": "trackName=Intervallo (Version 2)<br>date=%{x}<br>views=%{y}<extra></extra>",
         "legendgroup": "Intervallo (Version 2)",
         "line": {
          "color": "#ab63fa",
          "dash": "solid"
         },
         "marker": {
          "symbol": "circle"
         },
         "mode": "lines+markers",
         "name": "Intervallo (Version 2)",
         "showlegend": true,
         "type": "scattergl",
         "x": [
          "2024-05-23",
          "2024-05-24"
         ],
         "xaxis": "x",
         "y": [
          20000000,
          10000000
         ],
         "yaxis": "y"
        },
        {
         "hovertemplate": "trackName=JERK!<br>date=%{x}<br>views=%{y}<extra></extra>",
         "legendgroup": "JERK!",
         "line": {
          "color": "#FFA15A",
          "dash": "solid"
         },
         "marker": {
          "symbol": "circle"
         },
         "mode": "lines+markers",
         "name": "JERK!",
         "showlegend": true,
         "type": "scattergl",
         "x": [
          "2024-05-23",
          "2024-05-27",
          "2024-05-31"
         ],
         "xaxis": "x",
         "y": [
          2600000,
          5400000,
          2700000
         ],
         "yaxis": "y"
        },
        {
         "hovertemplate": "trackName=June<br>date=%{x}<br>views=%{y}<extra></extra>",
         "legendgroup": "June",
         "line": {
          "color": "#19d3f3",
          "dash": "solid"
         },
         "marker": {
          "symbol": "circle"
         },
         "mode": "lines+markers",
         "name": "June",
         "showlegend": true,
         "type": "scattergl",
         "x": [
          "2024-05-23"
         ],
         "xaxis": "x",
         "y": [
          3100000
         ],
         "yaxis": "y"
        },
        {
         "hovertemplate": "trackName=KickN Shii<br>date=%{x}<br>views=%{y}<extra></extra>",
         "legendgroup": "KickN Shii",
         "line": {
          "color": "#FF6692",
          "dash": "solid"
         },
         "marker": {
          "symbol": "circle"
         },
         "mode": "lines+markers",
         "name": "KickN Shii",
         "showlegend": true,
         "type": "scattergl",
         "x": [
          "2024-05-23"
         ],
         "xaxis": "x",
         "y": [
          20900000
         ],
         "yaxis": "y"
        },
        {
         "hovertemplate": "trackName=Kitchen Sink<br>date=%{x}<br>views=%{y}<extra></extra>",
         "legendgroup": "Kitchen Sink",
         "line": {
          "color": "#B6E880",
          "dash": "solid"
         },
         "marker": {
          "symbol": "circle"
         },
         "mode": "lines+markers",
         "name": "Kitchen Sink",
         "showlegend": true,
         "type": "scattergl",
         "x": [
          "2024-05-23",
          "2024-05-26",
          "2024-05-27",
          "2024-05-28",
          "2024-05-29"
         ],
         "xaxis": "x",
         "y": [
          5700000,
          1900000,
          1900000,
          2000000,
          4000000
         ],
         "yaxis": "y"
        },
        {
         "hovertemplate": "trackName=MAESTRO<br>date=%{x}<br>views=%{y}<extra></extra>",
         "legendgroup": "MAESTRO",
         "line": {
          "color": "#FF97FF",
          "dash": "solid"
         },
         "marker": {
          "symbol": "circle"
         },
         "mode": "lines+markers",
         "name": "MAESTRO",
         "showlegend": true,
         "type": "scattergl",
         "x": [
          "2024-05-23",
          "2024-05-31"
         ],
         "xaxis": "x",
         "y": [
          10800000,
          16500000
         ],
         "yaxis": "y"
        },
        {
         "hovertemplate": "trackName=Move<br>date=%{x}<br>views=%{y}<extra></extra>",
         "legendgroup": "Move",
         "line": {
          "color": "#FECB52",
          "dash": "solid"
         },
         "marker": {
          "symbol": "circle"
         },
         "mode": "lines+markers",
         "name": "Move",
         "showlegend": true,
         "type": "scattergl",
         "x": [
          "2024-05-23"
         ],
         "xaxis": "x",
         "y": [
          3500000
         ],
         "yaxis": "y"
        },
        {
         "hovertemplate": "trackName=No Role Modelz<br>date=%{x}<br>views=%{y}<extra></extra>",
         "legendgroup": "No Role Modelz",
         "line": {
          "color": "#636efa",
          "dash": "solid"
         },
         "marker": {
          "symbol": "circle"
         },
         "mode": "lines+markers",
         "name": "No Role Modelz",
         "showlegend": true,
         "type": "scattergl",
         "x": [
          "2024-05-23"
         ],
         "xaxis": "x",
         "y": [
          3100000
         ],
         "yaxis": "y"
        },
        {
         "hovertemplate": "trackName=No SÃ© QuÃ© PasÃ³<br>date=%{x}<br>views=%{y}<extra></extra>",
         "legendgroup": "No SÃ© QuÃ© PasÃ³",
         "line": {
          "color": "#EF553B",
          "dash": "solid"
         },
         "marker": {
          "symbol": "circle"
         },
         "mode": "lines+markers",
         "name": "No SÃ© QuÃ© PasÃ³",
         "showlegend": true,
         "type": "scattergl",
         "x": [
          "2024-05-23"
         ],
         "xaxis": "x",
         "y": [
          3000000
         ],
         "yaxis": "y"
        },
        {
         "hovertemplate": "trackName=Pop like this Pt. 2<br>date=%{x}<br>views=%{y}<extra></extra>",
         "legendgroup": "Pop like this Pt. 2",
         "line": {
          "color": "#00cc96",
          "dash": "solid"
         },
         "marker": {
          "symbol": "circle"
         },
         "mode": "lines+markers",
         "name": "Pop like this Pt. 2",
         "showlegend": true,
         "type": "scattergl",
         "x": [
          "2024-05-23",
          "2024-05-25",
          "2024-05-26",
          "2024-05-27",
          "2024-05-28",
          "2024-05-29",
          "2024-05-31",
          "2024-06-01",
          "2024-06-02",
          "2024-06-03"
         ],
         "xaxis": "x",
         "y": [
          6300000,
          4400000,
          13300000,
          4400000,
          4600000,
          2300000,
          6900000,
          2400000,
          7500000,
          7000000
         ],
         "yaxis": "y"
        },
        {
         "hovertemplate": "trackName=Pop like this, Pt. 2<br>date=%{x}<br>views=%{y}<extra></extra>",
         "legendgroup": "Pop like this, Pt. 2",
         "line": {
          "color": "#ab63fa",
          "dash": "solid"
         },
         "marker": {
          "symbol": "circle"
         },
         "mode": "lines+markers",
         "name": "Pop like this, Pt. 2",
         "showlegend": true,
         "type": "scattergl",
         "x": [
          "2024-05-23"
         ],
         "xaxis": "x",
         "y": [
          5200000
         ],
         "yaxis": "y"
        },
        {
         "hovertemplate": "trackName=Prince of Egypt<br>date=%{x}<br>views=%{y}<extra></extra>",
         "legendgroup": "Prince of Egypt",
         "line": {
          "color": "#FFA15A",
          "dash": "solid"
         },
         "marker": {
          "symbol": "circle"
         },
         "mode": "lines+markers",
         "name": "Prince of Egypt",
         "showlegend": true,
         "type": "scattergl",
         "x": [
          "2024-05-23",
          "2024-05-27",
          "2024-05-28",
          "2024-05-29",
          "2024-05-30",
          "2024-06-05"
         ],
         "xaxis": "x",
         "y": [
          6800000,
          14400000,
          7400000,
          7600000,
          7800000,
          3900000
         ],
         "yaxis": "y"
        },
        {
         "hovertemplate": "trackName=Riot<br>date=%{x}<br>views=%{y}<extra></extra>",
         "legendgroup": "Riot",
         "line": {
          "color": "#19d3f3",
          "dash": "solid"
         },
         "marker": {
          "symbol": "circle"
         },
         "mode": "lines+markers",
         "name": "Riot",
         "showlegend": true,
         "type": "scattergl",
         "x": [
          "2024-05-23",
          "2024-05-26"
         ],
         "xaxis": "x",
         "y": [
          1500000,
          8500000
         ],
         "yaxis": "y"
        },
        {
         "hovertemplate": "trackName=Scars<br>date=%{x}<br>views=%{y}<extra></extra>",
         "legendgroup": "Scars",
         "line": {
          "color": "#FF6692",
          "dash": "solid"
         },
         "marker": {
          "symbol": "circle"
         },
         "mode": "lines+markers",
         "name": "Scars",
         "showlegend": true,
         "type": "scattergl",
         "x": [
          "2024-05-23",
          "2024-05-29",
          "2024-06-02",
          "2024-06-03",
          "2024-06-05"
         ],
         "xaxis": "x",
         "y": [
          12700000,
          13300000,
          13500000,
          13500000,
          0
         ],
         "yaxis": "y"
        },
        {
         "hovertemplate": "trackName=Scott Street<br>date=%{x}<br>views=%{y}<extra></extra>",
         "legendgroup": "Scott Street",
         "line": {
          "color": "#B6E880",
          "dash": "solid"
         },
         "marker": {
          "symbol": "circle"
         },
         "mode": "lines+markers",
         "name": "Scott Street",
         "showlegend": true,
         "type": "scattergl",
         "x": [
          "2024-05-23",
          "2024-05-24",
          "2024-05-25",
          "2024-05-26",
          "2024-05-28",
          "2024-05-29",
          "2024-06-02",
          "2024-06-04",
          "2024-06-15",
          "2024-06-17"
         ],
         "xaxis": "x",
         "y": [
          15400000,
          3900000,
          26900000,
          28400000,
          35900000,
          36100000,
          23400000,
          11800000,
          2500000,
          15200000
         ],
         "yaxis": "y"
        },
        {
         "hovertemplate": "trackName=She Took<br>date=%{x}<br>views=%{y}<extra></extra>",
         "legendgroup": "She Took",
         "line": {
          "color": "#FF97FF",
          "dash": "solid"
         },
         "marker": {
          "symbol": "circle"
         },
         "mode": "lines+markers",
         "name": "She Took",
         "showlegend": true,
         "type": "scattergl",
         "x": [
          "2024-05-23"
         ],
         "xaxis": "x",
         "y": [
          3000000
         ],
         "yaxis": "y"
        },
        {
         "hovertemplate": "trackName=Suit & Tie featuring JAY Z<br>date=%{x}<br>views=%{y}<extra></extra>",
         "legendgroup": "Suit & Tie featuring JAY Z",
         "line": {
          "color": "#FECB52",
          "dash": "solid"
         },
         "marker": {
          "symbol": "circle"
         },
         "mode": "lines+markers",
         "name": "Suit & Tie featuring JAY Z",
         "showlegend": true,
         "type": "scattergl",
         "x": [
          "2024-05-23",
          "2024-05-31"
         ],
         "xaxis": "x",
         "y": [
          5700000,
          6200000
         ],
         "yaxis": "y"
        },
        {
         "hovertemplate": "trackName=The Chicken In Black<br>date=%{x}<br>views=%{y}<extra></extra>",
         "legendgroup": "The Chicken In Black",
         "line": {
          "color": "#636efa",
          "dash": "solid"
         },
         "marker": {
          "symbol": "circle"
         },
         "mode": "lines+markers",
         "name": "The Chicken In Black",
         "showlegend": true,
         "type": "scattergl",
         "x": [
          "2024-05-23"
         ],
         "xaxis": "x",
         "y": [
          14700000
         ],
         "yaxis": "y"
        },
        {
         "hovertemplate": "trackName=The Prowler<br>date=%{x}<br>views=%{y}<extra></extra>",
         "legendgroup": "The Prowler",
         "line": {
          "color": "#EF553B",
          "dash": "solid"
         },
         "marker": {
          "symbol": "circle"
         },
         "mode": "lines+markers",
         "name": "The Prowler",
         "showlegend": true,
         "type": "scattergl",
         "x": [
          "2024-05-23",
          "2024-05-27",
          "2024-05-28",
          "2024-05-29",
          "2024-05-31",
          "2024-06-01",
          "2024-06-02"
         ],
         "xaxis": "x",
         "y": [
          2600000,
          5600000,
          2800000,
          2900000,
          9000000,
          3000000,
          9300000
         ],
         "yaxis": "y"
        },
        {
         "hovertemplate": "trackName=Title Theme (The Legend Of Zelda: Ocarina Of Time Ost)<br>date=%{x}<br>views=%{y}<extra></extra>",
         "legendgroup": "Title Theme (The Legend Of Zelda: Ocarina Of Time Ost)",
         "line": {
          "color": "#00cc96",
          "dash": "solid"
         },
         "marker": {
          "symbol": "circle"
         },
         "mode": "lines+markers",
         "name": "Title Theme (The Legend Of Zelda: Ocarina Of Time Ost)",
         "showlegend": true,
         "type": "scattergl",
         "x": [
          "2024-05-23"
         ],
         "xaxis": "x",
         "y": [
          9600000
         ],
         "yaxis": "y"
        },
        {
         "hovertemplate": "trackName=Tuesday (feat. Novacringe)<br>date=%{x}<br>views=%{y}<extra></extra>",
         "legendgroup": "Tuesday (feat. Novacringe)",
         "line": {
          "color": "#ab63fa",
          "dash": "solid"
         },
         "marker": {
          "symbol": "circle"
         },
         "mode": "lines+markers",
         "name": "Tuesday (feat. Novacringe)",
         "showlegend": true,
         "type": "scattergl",
         "x": [
          "2024-05-23",
          "2024-06-02",
          "2024-06-04",
          "2024-06-05"
         ],
         "xaxis": "x",
         "y": [
          3400000,
          8800000,
          9100000,
          9300000
         ],
         "yaxis": "y"
        },
        {
         "hovertemplate": "trackName=Where I Was (I Was In a Good Place)<br>date=%{x}<br>views=%{y}<extra></extra>",
         "legendgroup": "Where I Was (I Was In a Good Place)",
         "line": {
          "color": "#FFA15A",
          "dash": "solid"
         },
         "marker": {
          "symbol": "circle"
         },
         "mode": "lines+markers",
         "name": "Where I Was (I Was In a Good Place)",
         "showlegend": true,
         "type": "scattergl",
         "x": [
          "2024-05-23",
          "2024-05-24",
          "2024-05-25",
          "2024-05-26",
          "2024-05-27",
          "2024-05-30"
         ],
         "xaxis": "x",
         "y": [
          10800000,
          32700000,
          22000000,
          11000000,
          22000000,
          33300000
         ],
         "yaxis": "y"
        },
        {
         "hovertemplate": "trackName=Yeah Glo!<br>date=%{x}<br>views=%{y}<extra></extra>",
         "legendgroup": "Yeah Glo!",
         "line": {
          "color": "#19d3f3",
          "dash": "solid"
         },
         "marker": {
          "symbol": "circle"
         },
         "mode": "lines+markers",
         "name": "Yeah Glo!",
         "showlegend": true,
         "type": "scattergl",
         "x": [
          "2024-05-23",
          "2024-05-27",
          "2024-05-29",
          "2024-05-31"
         ],
         "xaxis": "x",
         "y": [
          5400000,
          3800000,
          4000000,
          4100000
         ],
         "yaxis": "y"
        },
        {
         "hovertemplate": "trackName=Zapateado Antrax<br>date=%{x}<br>views=%{y}<extra></extra>",
         "legendgroup": "Zapateado Antrax",
         "line": {
          "color": "#FF6692",
          "dash": "solid"
         },
         "marker": {
          "symbol": "circle"
         },
         "mode": "lines+markers",
         "name": "Zapateado Antrax",
         "showlegend": true,
         "type": "scattergl",
         "x": [
          "2024-05-23",
          "2024-05-24",
          "2024-06-02",
          "2024-06-03",
          "2024-06-04",
          "2024-06-06",
          "2024-06-07",
          "2024-06-08",
          "2024-06-09",
          "2024-06-10",
          "2024-06-11",
          "2024-06-12",
          "2024-06-13",
          "2024-06-14",
          "2024-06-16",
          "2024-06-17",
          "2024-06-19",
          "2024-06-20",
          "2024-06-22",
          "2024-06-25",
          "2024-06-27"
         ],
         "xaxis": "x",
         "y": [
          16200000,
          16200000,
          16500000,
          16600000,
          16600000,
          50100000,
          33600000,
          50400000,
          16900000,
          34000000,
          51600000,
          35000000,
          35400000,
          35600000,
          35800000,
          17900000,
          36000000,
          18100000,
          18100000,
          18200000,
          36400000
         ],
         "yaxis": "y"
        },
        {
         "hovertemplate": "trackName=Del Mar Hasta la Cordillera<br>date=%{x}<br>views=%{y}<extra></extra>",
         "legendgroup": "Del Mar Hasta la Cordillera",
         "line": {
          "color": "#B6E880",
          "dash": "solid"
         },
         "marker": {
          "symbol": "circle"
         },
         "mode": "lines+markers",
         "name": "Del Mar Hasta la Cordillera",
         "showlegend": true,
         "type": "scattergl",
         "x": [
          "2024-05-24",
          "2024-05-27",
          "2024-05-29",
          "2024-05-30",
          "2024-06-01",
          "2024-06-04"
         ],
         "xaxis": "x",
         "y": [
          3800000,
          3900000,
          3900000,
          4000000,
          8000000,
          4100000
         ],
         "yaxis": "y"
        },
        {
         "hovertemplate": "trackName=Else - Paris<br>date=%{x}<br>views=%{y}<extra></extra>",
         "legendgroup": "Else - Paris",
         "line": {
          "color": "#FF97FF",
          "dash": "solid"
         },
         "marker": {
          "symbol": "circle"
         },
         "mode": "lines+markers",
         "name": "Else - Paris",
         "showlegend": true,
         "type": "scattergl",
         "x": [
          "2024-05-24",
          "2024-05-31",
          "2024-06-19",
          "2024-06-24"
         ],
         "xaxis": "x",
         "y": [
          5000000,
          10200000,
          5200000,
          5300000
         ],
         "yaxis": "y"
        },
        {
         "hovertemplate": "trackName=Get You Big Back<br>date=%{x}<br>views=%{y}<extra></extra>",
         "legendgroup": "Get You Big Back",
         "line": {
          "color": "#FECB52",
          "dash": "solid"
         },
         "marker": {
          "symbol": "circle"
         },
         "mode": "lines+markers",
         "name": "Get You Big Back",
         "showlegend": true,
         "type": "scattergl",
         "x": [
          "2024-05-24"
         ],
         "xaxis": "x",
         "y": [
          1400000
         ],
         "yaxis": "y"
        },
        {
         "hovertemplate": "trackName=Je Te Laisserai Des Mots<br>date=%{x}<br>views=%{y}<extra></extra>",
         "legendgroup": "Je Te Laisserai Des Mots",
         "line": {
          "color": "#636efa",
          "dash": "solid"
         },
         "marker": {
          "symbol": "circle"
         },
         "mode": "lines+markers",
         "name": "Je Te Laisserai Des Mots",
         "showlegend": true,
         "type": "scattergl",
         "x": [
          "2024-05-24"
         ],
         "xaxis": "x",
         "y": [
          6200000
         ],
         "yaxis": "y"
        },
        {
         "hovertemplate": "trackName=My Bitch<br>date=%{x}<br>views=%{y}<extra></extra>",
         "legendgroup": "My Bitch",
         "line": {
          "color": "#EF553B",
          "dash": "solid"
         },
         "marker": {
          "symbol": "circle"
         },
         "mode": "lines+markers",
         "name": "My Bitch",
         "showlegend": true,
         "type": "scattergl",
         "x": [
          "2024-05-24",
          "2024-05-26",
          "2024-05-30",
          "2024-06-05",
          "2024-06-06",
          "2024-06-08",
          "2024-06-09",
          "2024-06-10"
         ],
         "xaxis": "x",
         "y": [
          22200000,
          11100000,
          11200000,
          22400000,
          22400000,
          33900000,
          11300000,
          22600000
         ],
         "yaxis": "y"
        },
        {
         "hovertemplate": "trackName=Nightcrawler (feat. Swae Lee & Chief Keef)<br>date=%{x}<br>views=%{y}<extra></extra>",
         "legendgroup": "Nightcrawler (feat. Swae Lee & Chief Keef)",
         "line": {
          "color": "#00cc96",
          "dash": "solid"
         },
         "marker": {
          "symbol": "circle"
         },
         "mode": "lines+markers",
         "name": "Nightcrawler (feat. Swae Lee & Chief Keef)",
         "showlegend": true,
         "type": "scattergl",
         "x": [
          "2024-05-24",
          "2024-06-04",
          "2024-06-06",
          "2024-06-07",
          "2024-06-09",
          "2024-06-10",
          "2024-06-11",
          "2024-06-12",
          "2024-06-13",
          "2024-06-14",
          "2024-06-16",
          "2024-06-18",
          "2024-06-19",
          "2024-06-20",
          "2024-06-21"
         ],
         "xaxis": "x",
         "y": [
          23000000,
          17300000,
          78100000,
          35400000,
          43800000,
          51000000,
          36600000,
          62900000,
          25800000,
          126400000,
          37800000,
          37800000,
          54200000,
          19000000,
          19100000
         ],
         "yaxis": "y"
        },
        {
         "hovertemplate": "trackName=Opps On Deck<br>date=%{x}<br>views=%{y}<extra></extra>",
         "legendgroup": "Opps On Deck",
         "line": {
          "color": "#ab63fa",
          "dash": "solid"
         },
         "marker": {
          "symbol": "circle"
         },
         "mode": "lines+markers",
         "name": "Opps On Deck",
         "showlegend": true,
         "type": "scattergl",
         "x": [
          "2024-05-24"
         ],
         "xaxis": "x",
         "y": [
          2800000
         ],
         "yaxis": "y"
        },
        {
         "hovertemplate": "trackName=Resonance<br>date=%{x}<br>views=%{y}<extra></extra>",
         "legendgroup": "Resonance",
         "line": {
          "color": "#FFA15A",
          "dash": "solid"
         },
         "marker": {
          "symbol": "circle"
         },
         "mode": "lines+markers",
         "name": "Resonance",
         "showlegend": true,
         "type": "scattergl",
         "x": [
          "2024-05-24",
          "2024-06-03",
          "2024-06-04",
          "2024-06-08"
         ],
         "xaxis": "x",
         "y": [
          3000000,
          3000000,
          3000000,
          6000000
         ],
         "yaxis": "y"
        },
        {
         "hovertemplate": "trackName=Show Me How<br>date=%{x}<br>views=%{y}<extra></extra>",
         "legendgroup": "Show Me How",
         "line": {
          "color": "#19d3f3",
          "dash": "solid"
         },
         "marker": {
          "symbol": "circle"
         },
         "mode": "lines+markers",
         "name": "Show Me How",
         "showlegend": true,
         "type": "scattergl",
         "x": [
          "2024-05-24",
          "2024-05-25",
          "2024-05-27",
          "2024-05-28",
          "2024-05-29",
          "2024-05-30",
          "2024-06-01",
          "2024-06-02",
          "2024-06-03",
          "2024-06-04",
          "2024-06-05",
          "2024-06-06",
          "2024-06-07",
          "2024-06-08",
          "2024-06-09",
          "2024-06-10",
          "2024-06-11",
          "2024-06-12",
          "2024-06-13",
          "2024-06-14",
          "2024-06-17",
          "2024-06-19",
          "2024-06-20",
          "2024-06-22",
          "2024-06-24"
         ],
         "xaxis": "x",
         "y": [
          19400000,
          50100000,
          102000000,
          103200000,
          52000000,
          52300000,
          105800000,
          53300000,
          53700000,
          54100000,
          54400000,
          12200000,
          110200000,
          223900000,
          55800000,
          112200000,
          169200000,
          113200000,
          170700000,
          114400000,
          23700000,
          4100000,
          83700000,
          60200000,
          122400000
         ],
         "yaxis": "y"
        },
        {
         "hovertemplate": "trackName=Slipping Through My Fingers<br>date=%{x}<br>views=%{y}<extra></extra>",
         "legendgroup": "Slipping Through My Fingers",
         "line": {
          "color": "#FF6692",
          "dash": "solid"
         },
         "marker": {
          "symbol": "circle"
         },
         "mode": "lines+markers",
         "name": "Slipping Through My Fingers",
         "showlegend": true,
         "type": "scattergl",
         "x": [
          "2024-05-24"
         ],
         "xaxis": "x",
         "y": [
          5400000
         ],
         "yaxis": "y"
        },
        {
         "hovertemplate": "trackName=Sweet Yamz<br>date=%{x}<br>views=%{y}<extra></extra>",
         "legendgroup": "Sweet Yamz",
         "line": {
          "color": "#B6E880",
          "dash": "solid"
         },
         "marker": {
          "symbol": "circle"
         },
         "mode": "lines+markers",
         "name": "Sweet Yamz",
         "showlegend": true,
         "type": "scattergl",
         "x": [
          "2024-05-24"
         ],
         "xaxis": "x",
         "y": [
          1600000
         ],
         "yaxis": "y"
        },
        {
         "hovertemplate": "trackName=Yamz<br>date=%{x}<br>views=%{y}<extra></extra>",
         "legendgroup": "Yamz",
         "line": {
          "color": "#FF97FF",
          "dash": "solid"
         },
         "marker": {
          "symbol": "circle"
         },
         "mode": "lines+markers",
         "name": "Yamz",
         "showlegend": true,
         "type": "scattergl",
         "x": [
          "2024-05-24"
         ],
         "xaxis": "x",
         "y": [
          1600000
         ],
         "yaxis": "y"
        },
        {
         "hovertemplate": "trackName=ÐÑÐ¼ÐµÐ½ÑÐ¹<br>date=%{x}<br>views=%{y}<extra></extra>",
         "legendgroup": "ÐÑÐ¼ÐµÐ½ÑÐ¹",
         "line": {
          "color": "#FECB52",
          "dash": "solid"
         },
         "marker": {
          "symbol": "circle"
         },
         "mode": "lines+markers",
         "name": "ÐÑÐ¼ÐµÐ½ÑÐ¹",
         "showlegend": true,
         "type": "scattergl",
         "x": [
          "2024-05-24",
          "2024-05-25",
          "2024-05-26",
          "2024-06-07",
          "2024-06-08",
          "2024-06-14",
          "2024-06-17",
          "2024-06-18",
          "2024-06-19",
          "2024-06-21",
          "2024-06-25"
         ],
         "xaxis": "x",
         "y": [
          9300000,
          9300000,
          9300000,
          8600000,
          4300000,
          3400000,
          13200000,
          4400000,
          21200000,
          4500000,
          4500000
         ],
         "yaxis": "y"
        },
        {
         "hovertemplate": "trackName=Candy Shop (Jersey Club)<br>date=%{x}<br>views=%{y}<extra></extra>",
         "legendgroup": "Candy Shop (Jersey Club)",
         "line": {
          "color": "#636efa",
          "dash": "solid"
         },
         "marker": {
          "symbol": "circle"
         },
         "mode": "lines+markers",
         "name": "Candy Shop (Jersey Club)",
         "showlegend": true,
         "type": "scattergl",
         "x": [
          "2024-05-25",
          "2024-06-01"
         ],
         "xaxis": "x",
         "y": [
          2300000,
          2800000
         ],
         "yaxis": "y"
        },
        {
         "hovertemplate": "trackName=Destiny<br>date=%{x}<br>views=%{y}<extra></extra>",
         "legendgroup": "Destiny",
         "line": {
          "color": "#EF553B",
          "dash": "solid"
         },
         "marker": {
          "symbol": "circle"
         },
         "mode": "lines+markers",
         "name": "Destiny",
         "showlegend": true,
         "type": "scattergl",
         "x": [
          "2024-05-25",
          "2024-05-26",
          "2024-05-27",
          "2024-05-29",
          "2024-05-31",
          "2024-06-03",
          "2024-06-04",
          "2024-06-05",
          "2024-06-06",
          "2024-06-07",
          "2024-06-08",
          "2024-06-09",
          "2024-06-10",
          "2024-06-16",
          "2024-06-19"
         ],
         "xaxis": "x",
         "y": [
          2000000,
          2000000,
          2000000,
          1000000,
          1000000,
          2000000,
          1000000,
          1000000,
          3300000,
          2200000,
          3300000,
          1100000,
          2200000,
          1100000,
          1100000
         ],
         "yaxis": "y"
        },
        {
         "hovertemplate": "trackName=Face no Book<br>date=%{x}<br>views=%{y}<extra></extra>",
         "legendgroup": "Face no Book",
         "line": {
          "color": "#00cc96",
          "dash": "solid"
         },
         "marker": {
          "symbol": "circle"
         },
         "mode": "lines+markers",
         "name": "Face no Book",
         "showlegend": true,
         "type": "scattergl",
         "x": [
          "2024-05-25",
          "2024-05-30"
         ],
         "xaxis": "x",
         "y": [
          2600000,
          5600000
         ],
         "yaxis": "y"
        },
        {
         "hovertemplate": "trackName=Georgia On My Mind<br>date=%{x}<br>views=%{y}<extra></extra>",
         "legendgroup": "Georgia On My Mind",
         "line": {
          "color": "#ab63fa",
          "dash": "solid"
         },
         "marker": {
          "symbol": "circle"
         },
         "mode": "lines+markers",
         "name": "Georgia On My Mind",
         "showlegend": true,
         "type": "scattergl",
         "x": [
          "2024-05-25",
          "2024-05-31",
          "2024-06-01",
          "2024-06-04"
         ],
         "xaxis": "x",
         "y": [
          3600000,
          7600000,
          7800000,
          4000000
         ],
         "yaxis": "y"
        },
        {
         "hovertemplate": "trackName=Hangama<br>date=%{x}<br>views=%{y}<extra></extra>",
         "legendgroup": "Hangama",
         "line": {
          "color": "#FFA15A",
          "dash": "solid"
         },
         "marker": {
          "symbol": "circle"
         },
         "mode": "lines+markers",
         "name": "Hangama",
         "showlegend": true,
         "type": "scattergl",
         "x": [
          "2024-05-25",
          "2024-06-01",
          "2024-06-03",
          "2024-06-07",
          "2024-06-10",
          "2024-06-11",
          "2024-06-14",
          "2024-06-16",
          "2024-06-17",
          "2024-06-18",
          "2024-06-19",
          "2024-06-20",
          "2024-06-21",
          "2024-06-22",
          "2024-06-24",
          "2024-06-25",
          "2024-06-27"
         ],
         "xaxis": "x",
         "y": [
          38200000,
          84600000,
          43000000,
          88400000,
          90400000,
          136500000,
          93400000,
          94600000,
          47700000,
          48000000,
          96400000,
          48400000,
          48500000,
          48800000,
          98400000,
          49400000,
          49800000
         ],
         "yaxis": "y"
        },
        {
         "hovertemplate": "trackName=Hoist the Colours<br>date=%{x}<br>views=%{y}<extra></extra>",
         "legendgroup": "Hoist the Colours",
         "line": {
          "color": "#19d3f3",
          "dash": "solid"
         },
         "marker": {
          "symbol": "circle"
         },
         "mode": "lines+markers",
         "name": "Hoist the Colours",
         "showlegend": true,
         "type": "scattergl",
         "x": [
          "2024-05-25",
          "2024-06-03"
         ],
         "xaxis": "x",
         "y": [
          30600000,
          32700000
         ],
         "yaxis": "y"
        },
        {
         "hovertemplate": "trackName=I'm so lucky(Hardstyle)!<br>date=%{x}<br>views=%{y}<extra></extra>",
         "legendgroup": "I'm so lucky(Hardstyle)!",
         "line": {
          "color": "#FF6692",
          "dash": "solid"
         },
         "marker": {
          "symbol": "circle"
         },
         "mode": "lines+markers",
         "name": "I'm so lucky(Hardstyle)!",
         "showlegend": true,
         "type": "scattergl",
         "x": [
          "2024-05-25",
          "2024-05-26",
          "2024-05-27"
         ],
         "xaxis": "x",
         "y": [
          4400000,
          2300000,
          4600000
         ],
         "yaxis": "y"
        },
        {
         "hovertemplate": "trackName=If I Would Have Known<br>date=%{x}<br>views=%{y}<extra></extra>",
         "legendgroup": "If I Would Have Known",
         "line": {
          "color": "#B6E880",
          "dash": "solid"
         },
         "marker": {
          "symbol": "circle"
         },
         "mode": "lines+markers",
         "name": "If I Would Have Known",
         "showlegend": true,
         "type": "scattergl",
         "x": [
          "2024-05-25"
         ],
         "xaxis": "x",
         "y": [
          4600000
         ],
         "yaxis": "y"
        },
        {
         "hovertemplate": "trackName=Jacob and the Stone<br>date=%{x}<br>views=%{y}<extra></extra>",
         "legendgroup": "Jacob and the Stone",
         "line": {
          "color": "#FF97FF",
          "dash": "solid"
         },
         "marker": {
          "symbol": "circle"
         },
         "mode": "lines+markers",
         "name": "Jacob and the Stone",
         "showlegend": true,
         "type": "scattergl",
         "x": [
          "2024-05-25",
          "2024-06-01",
          "2024-06-07",
          "2024-06-09",
          "2024-06-10",
          "2024-06-17"
         ],
         "xaxis": "x",
         "y": [
          14500000,
          25400000,
          14700000,
          14800000,
          3400000,
          66600000
         ],
         "yaxis": "y"
        },
        {
         "hovertemplate": "trackName=Love Is Hurt<br>date=%{x}<br>views=%{y}<extra></extra>",
         "legendgroup": "Love Is Hurt",
         "line": {
          "color": "#FECB52",
          "dash": "solid"
         },
         "marker": {
          "symbol": "circle"
         },
         "mode": "lines+markers",
         "name": "Love Is Hurt",
         "showlegend": true,
         "type": "scattergl",
         "x": [
          "2024-05-25"
         ],
         "xaxis": "x",
         "y": [
          6800000
         ],
         "yaxis": "y"
        },
        {
         "hovertemplate": "trackName=Mami que chapon<br>date=%{x}<br>views=%{y}<extra></extra>",
         "legendgroup": "Mami que chapon",
         "line": {
          "color": "#636efa",
          "dash": "solid"
         },
         "marker": {
          "symbol": "circle"
         },
         "mode": "lines+markers",
         "name": "Mami que chapon",
         "showlegend": true,
         "type": "scattergl",
         "x": [
          "2024-05-25"
         ],
         "xaxis": "x",
         "y": [
          4400000
         ],
         "yaxis": "y"
        },
        {
         "hovertemplate": "trackName=Moonlight on the River<br>date=%{x}<br>views=%{y}<extra></extra>",
         "legendgroup": "Moonlight on the River",
         "line": {
          "color": "#EF553B",
          "dash": "solid"
         },
         "marker": {
          "symbol": "circle"
         },
         "mode": "lines+markers",
         "name": "Moonlight on the River",
         "showlegend": true,
         "type": "scattergl",
         "x": [
          "2024-05-25"
         ],
         "xaxis": "x",
         "y": [
          889000
         ],
         "yaxis": "y"
        },
        {
         "hovertemplate": "trackName=ONE LOVE FOR BOB<br>date=%{x}<br>views=%{y}<extra></extra>",
         "legendgroup": "ONE LOVE FOR BOB",
         "line": {
          "color": "#00cc96",
          "dash": "solid"
         },
         "marker": {
          "symbol": "circle"
         },
         "mode": "lines+markers",
         "name": "ONE LOVE FOR BOB",
         "showlegend": true,
         "type": "scattergl",
         "x": [
          "2024-05-25"
         ],
         "xaxis": "x",
         "y": [
          43800000
         ],
         "yaxis": "y"
        },
        {
         "hovertemplate": "trackName=OTT<br>date=%{x}<br>views=%{y}<extra></extra>",
         "legendgroup": "OTT",
         "line": {
          "color": "#ab63fa",
          "dash": "solid"
         },
         "marker": {
          "symbol": "circle"
         },
         "mode": "lines+markers",
         "name": "OTT",
         "showlegend": true,
         "type": "scattergl",
         "x": [
          "2024-05-25",
          "2024-05-26",
          "2024-05-27",
          "2024-05-29",
          "2024-05-31",
          "2024-06-03",
          "2024-06-04",
          "2024-06-05",
          "2024-06-06",
          "2024-06-07",
          "2024-06-08",
          "2024-06-09",
          "2024-06-10",
          "2024-06-16",
          "2024-06-19"
         ],
         "xaxis": "x",
         "y": [
          2000000,
          2000000,
          2000000,
          1000000,
          1000000,
          2000000,
          1000000,
          1000000,
          3300000,
          2200000,
          3300000,
          1100000,
          2200000,
          1100000,
          1100000
         ],
         "yaxis": "y"
        },
        {
         "hovertemplate": "trackName=School Rooftop (feat. WMD) [Bird Sounds]<br>date=%{x}<br>views=%{y}<extra></extra>",
         "legendgroup": "School Rooftop (feat. WMD) [Bird Sounds]",
         "line": {
          "color": "#FFA15A",
          "dash": "solid"
         },
         "marker": {
          "symbol": "circle"
         },
         "mode": "lines+markers",
         "name": "School Rooftop (feat. WMD) [Bird Sounds]",
         "showlegend": true,
         "type": "scattergl",
         "x": [
          "2024-05-25",
          "2024-05-26"
         ],
         "xaxis": "x",
         "y": [
          2600000,
          2600000
         ],
         "yaxis": "y"
        },
        {
         "hovertemplate": "trackName=Tornado Siren Sound Effect<br>date=%{x}<br>views=%{y}<extra></extra>",
         "legendgroup": "Tornado Siren Sound Effect",
         "line": {
          "color": "#19d3f3",
          "dash": "solid"
         },
         "marker": {
          "symbol": "circle"
         },
         "mode": "lines+markers",
         "name": "Tornado Siren Sound Effect",
         "showlegend": true,
         "type": "scattergl",
         "x": [
          "2024-05-25"
         ],
         "xaxis": "x",
         "y": [
          1000000
         ],
         "yaxis": "y"
        },
        {
         "hovertemplate": "trackName=Venezia<br>date=%{x}<br>views=%{y}<extra></extra>",
         "legendgroup": "Venezia",
         "line": {
          "color": "#FF6692",
          "dash": "solid"
         },
         "marker": {
          "symbol": "circle"
         },
         "mode": "lines+markers",
         "name": "Venezia",
         "showlegend": true,
         "type": "scattergl",
         "x": [
          "2024-05-25",
          "2024-06-01",
          "2024-06-03",
          "2024-06-07",
          "2024-06-10",
          "2024-06-11",
          "2024-06-14",
          "2024-06-16",
          "2024-06-17",
          "2024-06-18",
          "2024-06-19",
          "2024-06-20",
          "2024-06-21",
          "2024-06-22",
          "2024-06-24",
          "2024-06-25",
          "2024-06-27"
         ],
         "xaxis": "x",
         "y": [
          38200000,
          84600000,
          43000000,
          88400000,
          90400000,
          136500000,
          93400000,
          94600000,
          47700000,
          48000000,
          96400000,
          48400000,
          48500000,
          48800000,
          98400000,
          49400000,
          49800000
         ],
         "yaxis": "y"
        },
        {
         "hovertemplate": "trackName=Wild Thoughts (feat. Rihanna & Bryson Tiller)<br>date=%{x}<br>views=%{y}<extra></extra>",
         "legendgroup": "Wild Thoughts (feat. Rihanna & Bryson Tiller)",
         "line": {
          "color": "#B6E880",
          "dash": "solid"
         },
         "marker": {
          "symbol": "circle"
         },
         "mode": "lines+markers",
         "name": "Wild Thoughts (feat. Rihanna & Bryson Tiller)",
         "showlegend": true,
         "type": "scattergl",
         "x": [
          "2024-05-25"
         ],
         "xaxis": "x",
         "y": [
          1800000
         ],
         "yaxis": "y"
        },
        {
         "hovertemplate": "trackName=Yacht Club<br>date=%{x}<br>views=%{y}<extra></extra>",
         "legendgroup": "Yacht Club",
         "line": {
          "color": "#FF97FF",
          "dash": "solid"
         },
         "marker": {
          "symbol": "circle"
         },
         "mode": "lines+markers",
         "name": "Yacht Club",
         "showlegend": true,
         "type": "scattergl",
         "x": [
          "2024-05-25",
          "2024-05-27",
          "2024-05-28",
          "2024-05-29",
          "2024-05-30",
          "2024-06-01",
          "2024-06-02",
          "2024-06-03",
          "2024-06-04",
          "2024-06-05",
          "2024-06-06",
          "2024-06-07",
          "2024-06-08",
          "2024-06-09",
          "2024-06-10",
          "2024-06-11",
          "2024-06-12",
          "2024-06-13",
          "2024-06-14",
          "2024-06-20",
          "2024-06-22",
          "2024-06-24"
         ],
         "xaxis": "x",
         "y": [
          50100000,
          102000000,
          103200000,
          52000000,
          52300000,
          105800000,
          53300000,
          53700000,
          54100000,
          54400000,
          12200000,
          110200000,
          110800000,
          55800000,
          112200000,
          169200000,
          113200000,
          170700000,
          114400000,
          59500000,
          60200000,
          122400000
         ],
         "yaxis": "y"
        },
        {
         "hovertemplate": "trackName=æäº®ä¹ä¸ (Live)<br>date=%{x}<br>views=%{y}<extra></extra>",
         "legendgroup": "æäº®ä¹ä¸ (Live)",
         "line": {
          "color": "#FECB52",
          "dash": "solid"
         },
         "marker": {
          "symbol": "circle"
         },
         "mode": "lines+markers",
         "name": "æäº®ä¹ä¸ (Live)",
         "showlegend": true,
         "type": "scattergl",
         "x": [
          "2024-05-25",
          "2024-05-26"
         ],
         "xaxis": "x",
         "y": [
          2200000,
          1100000
         ],
         "yaxis": "y"
        },
        {
         "hovertemplate": "trackName=Art Deco<br>date=%{x}<br>views=%{y}<extra></extra>",
         "legendgroup": "Art Deco",
         "line": {
          "color": "#636efa",
          "dash": "solid"
         },
         "marker": {
          "symbol": "circle"
         },
         "mode": "lines+markers",
         "name": "Art Deco",
         "showlegend": true,
         "type": "scattergl",
         "x": [
          "2024-05-26",
          "2024-05-27"
         ],
         "xaxis": "x",
         "y": [
          1900000,
          1900000
         ],
         "yaxis": "y"
        },
        {
         "hovertemplate": "trackName=Belts<br>date=%{x}<br>views=%{y}<extra></extra>",
         "legendgroup": "Belts",
         "line": {
          "color": "#EF553B",
          "dash": "solid"
         },
         "marker": {
          "symbol": "circle"
         },
         "mode": "lines+markers",
         "name": "Belts",
         "showlegend": true,
         "type": "scattergl",
         "x": [
          "2024-05-26"
         ],
         "xaxis": "x",
         "y": [
          5800000
         ],
         "yaxis": "y"
        },
        {
         "hovertemplate": "trackName=Black Barbies<br>date=%{x}<br>views=%{y}<extra></extra>",
         "legendgroup": "Black Barbies",
         "line": {
          "color": "#00cc96",
          "dash": "solid"
         },
         "marker": {
          "symbol": "circle"
         },
         "mode": "lines+markers",
         "name": "Black Barbies",
         "showlegend": true,
         "type": "scattergl",
         "x": [
          "2024-05-26"
         ],
         "xaxis": "x",
         "y": [
          843800
         ],
         "yaxis": "y"
        },
        {
         "hovertemplate": "trackName=Drama Baby / Malibu<br>date=%{x}<br>views=%{y}<extra></extra>",
         "legendgroup": "Drama Baby / Malibu",
         "line": {
          "color": "#ab63fa",
          "dash": "solid"
         },
         "marker": {
          "symbol": "circle"
         },
         "mode": "lines+markers",
         "name": "Drama Baby / Malibu",
         "showlegend": true,
         "type": "scattergl",
         "x": [
          "2024-05-26"
         ],
         "xaxis": "x",
         "y": [
          1300000
         ],
         "yaxis": "y"
        },
        {
         "hovertemplate": "trackName=Dropped Out<br>date=%{x}<br>views=%{y}<extra></extra>",
         "legendgroup": "Dropped Out",
         "line": {
          "color": "#FFA15A",
          "dash": "solid"
         },
         "marker": {
          "symbol": "circle"
         },
         "mode": "lines+markers",
         "name": "Dropped Out",
         "showlegend": true,
         "type": "scattergl",
         "x": [
          "2024-05-26",
          "2024-06-05",
          "2024-06-06",
          "2024-06-07",
          "2024-06-09",
          "2024-06-16",
          "2024-06-18",
          "2024-06-25"
         ],
         "xaxis": "x",
         "y": [
          5900000,
          12000000,
          6000000,
          12200000,
          6100000,
          6200000,
          12600000,
          6300000
         ],
         "yaxis": "y"
        },
        {
         "hovertemplate": "trackName=Fresas Con Crema<br>date=%{x}<br>views=%{y}<extra></extra>",
         "legendgroup": "Fresas Con Crema",
         "line": {
          "color": "#19d3f3",
          "dash": "solid"
         },
         "marker": {
          "symbol": "circle"
         },
         "mode": "lines+markers",
         "name": "Fresas Con Crema",
         "showlegend": true,
         "type": "scattergl",
         "x": [
          "2024-05-26"
         ],
         "xaxis": "x",
         "y": [
          1900000
         ],
         "yaxis": "y"
        },
        {
         "hovertemplate": "trackName=Gulu Gulu Rap Song (Rap Song)<br>date=%{x}<br>views=%{y}<extra></extra>",
         "legendgroup": "Gulu Gulu Rap Song (Rap Song)",
         "line": {
          "color": "#FF6692",
          "dash": "solid"
         },
         "marker": {
          "symbol": "circle"
         },
         "mode": "lines+markers",
         "name": "Gulu Gulu Rap Song (Rap Song)",
         "showlegend": true,
         "type": "scattergl",
         "x": [
          "2024-05-26"
         ],
         "xaxis": "x",
         "y": [
          7900000
         ],
         "yaxis": "y"
        },
        {
         "hovertemplate": "trackName=Help Me<br>date=%{x}<br>views=%{y}<extra></extra>",
         "legendgroup": "Help Me",
         "line": {
          "color": "#B6E880",
          "dash": "solid"
         },
         "marker": {
          "symbol": "circle"
         },
         "mode": "lines+markers",
         "name": "Help Me",
         "showlegend": true,
         "type": "scattergl",
         "x": [
          "2024-05-26",
          "2024-06-07"
         ],
         "xaxis": "x",
         "y": [
          68000000,
          68900000
         ],
         "yaxis": "y"
        },
        {
         "hovertemplate": "trackName=Humiliated!<br>date=%{x}<br>views=%{y}<extra></extra>",
         "legendgroup": "Humiliated!",
         "line": {
          "color": "#FF97FF",
          "dash": "solid"
         },
         "marker": {
          "symbol": "circle"
         },
         "mode": "lines+markers",
         "name": "Humiliated!",
         "showlegend": true,
         "type": "scattergl",
         "x": [
          "2024-05-26"
         ],
         "xaxis": "x",
         "y": [
          16700000
         ],
         "yaxis": "y"
        },
        {
         "hovertemplate": "trackName=Lamda vs. T-Jey RR (feat. Shliiwa & Konni Konsn)<br>date=%{x}<br>views=%{y}<extra></extra>",
         "legendgroup": "Lamda vs. T-Jey RR (feat. Shliiwa & Konni Konsn)",
         "line": {
          "color": "#FECB52",
          "dash": "solid"
         },
         "marker": {
          "symbol": "circle"
         },
         "mode": "lines+markers",
         "name": "Lamda vs. T-Jey RR (feat. Shliiwa & Konni Konsn)",
         "showlegend": true,
         "type": "scattergl",
         "x": [
          "2024-05-26",
          "2024-06-19"
         ],
         "xaxis": "x",
         "y": [
          21100000,
          26400000
         ],
         "yaxis": "y"
        },
        {
         "hovertemplate": "trackName=Lockdown (2020 Song)<br>date=%{x}<br>views=%{y}<extra></extra>",
         "legendgroup": "Lockdown (2020 Song)",
         "line": {
          "color": "#636efa",
          "dash": "solid"
         },
         "marker": {
          "symbol": "circle"
         },
         "mode": "lines+markers",
         "name": "Lockdown (2020 Song)",
         "showlegend": true,
         "type": "scattergl",
         "x": [
          "2024-05-26",
          "2024-05-30",
          "2024-06-01",
          "2024-06-03",
          "2024-06-04",
          "2024-06-05",
          "2024-06-06",
          "2024-06-07",
          "2024-06-08",
          "2024-06-10",
          "2024-06-15",
          "2024-06-18",
          "2024-06-24",
          "2024-06-25"
         ],
         "xaxis": "x",
         "y": [
          4500000,
          4600000,
          4700000,
          4700000,
          4800000,
          5700000,
          4800000,
          9600000,
          4900000,
          4900000,
          33500000,
          5100000,
          26200000,
          21000000
         ],
         "yaxis": "y"
        },
        {
         "hovertemplate": "trackName=Made for Me (Jersey Club Song)<br>date=%{x}<br>views=%{y}<extra></extra>",
         "legendgroup": "Made for Me (Jersey Club Song)",
         "line": {
          "color": "#EF553B",
          "dash": "solid"
         },
         "marker": {
          "symbol": "circle"
         },
         "mode": "lines+markers",
         "name": "Made for Me (Jersey Club Song)",
         "showlegend": true,
         "type": "scattergl",
         "x": [
          "2024-05-26"
         ],
         "xaxis": "x",
         "y": [
          17800000
         ],
         "yaxis": "y"
        },
        {
         "hovertemplate": "trackName=Monkeys Spinning Monkeys<br>date=%{x}<br>views=%{y}<extra></extra>",
         "legendgroup": "Monkeys Spinning Monkeys",
         "line": {
          "color": "#00cc96",
          "dash": "solid"
         },
         "marker": {
          "symbol": "circle"
         },
         "mode": "lines+markers",
         "name": "Monkeys Spinning Monkeys",
         "showlegend": true,
         "type": "scattergl",
         "x": [
          "2024-05-26",
          "2024-06-06",
          "2024-06-07",
          "2024-06-08",
          "2024-06-16",
          "2024-06-17",
          "2024-06-20",
          "2024-06-22",
          "2024-06-23",
          "2024-06-24",
          "2024-06-25",
          "2024-06-26",
          "2024-06-27"
         ],
         "xaxis": "x",
         "y": [
          20900000,
          65900000,
          6700000,
          55200000,
          7000000,
          14600000,
          7200000,
          4700000,
          2400000,
          8300000,
          2400000,
          56000000,
          32300000
         ],
         "yaxis": "y"
        },
        {
         "hovertemplate": "trackName=My Bazzu<br>date=%{x}<br>views=%{y}<extra></extra>",
         "legendgroup": "My Bazzu",
         "line": {
          "color": "#ab63fa",
          "dash": "solid"
         },
         "marker": {
          "symbol": "circle"
         },
         "mode": "lines+markers",
         "name": "My Bazzu",
         "showlegend": true,
         "type": "scattergl",
         "x": [
          "2024-05-26"
         ],
         "xaxis": "x",
         "y": [
          1300000
         ],
         "yaxis": "y"
        },
        {
         "hovertemplate": "trackName=Nameless<br>date=%{x}<br>views=%{y}<extra></extra>",
         "legendgroup": "Nameless",
         "line": {
          "color": "#FFA15A",
          "dash": "solid"
         },
         "marker": {
          "symbol": "circle"
         },
         "mode": "lines+markers",
         "name": "Nameless",
         "showlegend": true,
         "type": "scattergl",
         "x": [
          "2024-05-26"
         ],
         "xaxis": "x",
         "y": [
          1700000
         ],
         "yaxis": "y"
        },
        {
         "hovertemplate": "trackName=Neon Guts (feat. Pharrell Williams)<br>date=%{x}<br>views=%{y}<extra></extra>",
         "legendgroup": "Neon Guts (feat. Pharrell Williams)",
         "line": {
          "color": "#19d3f3",
          "dash": "solid"
         },
         "marker": {
          "symbol": "circle"
         },
         "mode": "lines+markers",
         "name": "Neon Guts (feat. Pharrell Williams)",
         "showlegend": true,
         "type": "scattergl",
         "x": [
          "2024-05-26",
          "2024-06-02",
          "2024-06-03",
          "2024-06-04"
         ],
         "xaxis": "x",
         "y": [
          2000000,
          2100000,
          2100000,
          2100000
         ],
         "yaxis": "y"
        },
        {
         "hovertemplate": "trackName=QKThr<br>date=%{x}<br>views=%{y}<extra></extra>",
         "legendgroup": "QKThr",
         "line": {
          "color": "#FF6692",
          "dash": "solid"
         },
         "marker": {
          "symbol": "circle"
         },
         "mode": "lines+markers",
         "name": "QKThr",
         "showlegend": true,
         "type": "scattergl",
         "x": [
          "2024-05-26",
          "2024-06-20"
         ],
         "xaxis": "x",
         "y": [
          3600000,
          14800000
         ],
         "yaxis": "y"
        },
        {
         "hovertemplate": "trackName=Reckless Sad<br>date=%{x}<br>views=%{y}<extra></extra>",
         "legendgroup": "Reckless Sad",
         "line": {
          "color": "#B6E880",
          "dash": "solid"
         },
         "marker": {
          "symbol": "circle"
         },
         "mode": "lines+markers",
         "name": "Reckless Sad",
         "showlegend": true,
         "type": "scattergl",
         "x": [
          "2024-05-26",
          "2024-05-27",
          "2024-05-30",
          "2024-06-06",
          "2024-06-07",
          "2024-06-08",
          "2024-06-09",
          "2024-06-10",
          "2024-06-13",
          "2024-06-14",
          "2024-06-15",
          "2024-06-16",
          "2024-06-17",
          "2024-06-18",
          "2024-06-19",
          "2024-06-20",
          "2024-06-21",
          "2024-06-22"
         ],
         "xaxis": "x",
         "y": [
          21000000,
          42000000,
          21100000,
          42600000,
          42800000,
          64200000,
          21500000,
          43000000,
          65400000,
          43800000,
          21900000,
          43800000,
          21900000,
          65700000,
          44000000,
          22000000,
          22000000,
          44200000
         ],
         "yaxis": "y"
        },
        {
         "hovertemplate": "trackName=SC-9<br>date=%{x}<br>views=%{y}<extra></extra>",
         "legendgroup": "SC-9",
         "line": {
          "color": "#FF97FF",
          "dash": "solid"
         },
         "marker": {
          "symbol": "circle"
         },
         "mode": "lines+markers",
         "name": "SC-9",
         "showlegend": true,
         "type": "scattergl",
         "x": [
          "2024-05-26",
          "2024-05-30",
          "2024-06-02"
         ],
         "xaxis": "x",
         "y": [
          1800000,
          4000000,
          6600000
         ],
         "yaxis": "y"
        },
        {
         "hovertemplate": "trackName=Soy la MÃ¡s Mala de EspaÃ±a<br>date=%{x}<br>views=%{y}<extra></extra>",
         "legendgroup": "Soy la MÃ¡s Mala de EspaÃ±a",
         "line": {
          "color": "#FECB52",
          "dash": "solid"
         },
         "marker": {
          "symbol": "circle"
         },
         "mode": "lines+markers",
         "name": "Soy la MÃ¡s Mala de EspaÃ±a",
         "showlegend": true,
         "type": "scattergl",
         "x": [
          "2024-05-26"
         ],
         "xaxis": "x",
         "y": [
          4100000
         ],
         "yaxis": "y"
        },
        {
         "hovertemplate": "trackName=These Words<br>date=%{x}<br>views=%{y}<extra></extra>",
         "legendgroup": "These Words",
         "line": {
          "color": "#636efa",
          "dash": "solid"
         },
         "marker": {
          "symbol": "circle"
         },
         "mode": "lines+markers",
         "name": "These Words",
         "showlegend": true,
         "type": "scattergl",
         "x": [
          "2024-05-26"
         ],
         "xaxis": "x",
         "y": [
          5600000
         ],
         "yaxis": "y"
        },
        {
         "hovertemplate": "trackName=Trash Magic (Miss America)<br>date=%{x}<br>views=%{y}<extra></extra>",
         "legendgroup": "Trash Magic (Miss America)",
         "line": {
          "color": "#EF553B",
          "dash": "solid"
         },
         "marker": {
          "symbol": "circle"
         },
         "mode": "lines+markers",
         "name": "Trash Magic (Miss America)",
         "showlegend": true,
         "type": "scattergl",
         "x": [
          "2024-05-26"
         ],
         "xaxis": "x",
         "y": [
          1500000
         ],
         "yaxis": "y"
        },
        {
         "hovertemplate": "trackName=Where You Are<br>date=%{x}<br>views=%{y}<extra></extra>",
         "legendgroup": "Where You Are",
         "line": {
          "color": "#00cc96",
          "dash": "solid"
         },
         "marker": {
          "symbol": "circle"
         },
         "mode": "lines+markers",
         "name": "Where You Are",
         "showlegend": true,
         "type": "scattergl",
         "x": [
          "2024-05-26"
         ],
         "xaxis": "x",
         "y": [
          3600000
         ],
         "yaxis": "y"
        },
        {
         "hovertemplate": "trackName=i like the way you kiss me<br>date=%{x}<br>views=%{y}<extra></extra>",
         "legendgroup": "i like the way you kiss me",
         "line": {
          "color": "#ab63fa",
          "dash": "solid"
         },
         "marker": {
          "symbol": "circle"
         },
         "mode": "lines+markers",
         "name": "i like the way you kiss me",
         "showlegend": true,
         "type": "scattergl",
         "x": [
          "2024-05-26",
          "2024-06-14",
          "2024-06-16",
          "2024-06-20",
          "2024-06-24",
          "2024-06-25"
         ],
         "xaxis": "x",
         "y": [
          8400000,
          5200000,
          10400000,
          29900000,
          5400000,
          30100000
         ],
         "yaxis": "y"
        },
        {
         "hovertemplate": "trackName=1v1 (feat. Lil Yachty)<br>date=%{x}<br>views=%{y}<extra></extra>",
         "legendgroup": "1v1 (feat. Lil Yachty)",
         "line": {
          "color": "#FFA15A",
          "dash": "solid"
         },
         "marker": {
          "symbol": "circle"
         },
         "mode": "lines+markers",
         "name": "1v1 (feat. Lil Yachty)",
         "showlegend": true,
         "type": "scattergl",
         "x": [
          "2024-05-27"
         ],
         "xaxis": "x",
         "y": [
          8100000
         ],
         "yaxis": "y"
        },
        {
         "hovertemplate": "trackName=Back It Up<br>date=%{x}<br>views=%{y}<extra></extra>",
         "legendgroup": "Back It Up",
         "line": {
          "color": "#19d3f3",
          "dash": "solid"
         },
         "marker": {
          "symbol": "circle"
         },
         "mode": "lines+markers",
         "name": "Back It Up",
         "showlegend": true,
         "type": "scattergl",
         "x": [
          "2024-05-27",
          "2024-05-29"
         ],
         "xaxis": "x",
         "y": [
          7000000,
          3600000
         ],
         "yaxis": "y"
        },
        {
         "hovertemplate": "trackName=Backpack Clean<br>date=%{x}<br>views=%{y}<extra></extra>",
         "legendgroup": "Backpack Clean",
         "line": {
          "color": "#FF6692",
          "dash": "solid"
         },
         "marker": {
          "symbol": "circle"
         },
         "mode": "lines+markers",
         "name": "Backpack Clean",
         "showlegend": true,
         "type": "scattergl",
         "x": [
          "2024-05-27",
          "2024-05-28",
          "2024-06-04",
          "2024-06-16"
         ],
         "xaxis": "x",
         "y": [
          9900000,
          6100000,
          1800000,
          4200000
         ],
         "yaxis": "y"
        },
        {
         "hovertemplate": "trackName=Big Back<br>date=%{x}<br>views=%{y}<extra></extra>",
         "legendgroup": "Big Back",
         "line": {
          "color": "#B6E880",
          "dash": "solid"
         },
         "marker": {
          "symbol": "circle"
         },
         "mode": "lines+markers",
         "name": "Big Back",
         "showlegend": true,
         "type": "scattergl",
         "x": [
          "2024-05-27",
          "2024-05-28",
          "2024-06-04",
          "2024-06-16"
         ],
         "xaxis": "x",
         "y": [
          9900000,
          6100000,
          7000000,
          4200000
         ],
         "yaxis": "y"
        },
        {
         "hovertemplate": "trackName=Bring Me to Life<br>date=%{x}<br>views=%{y}<extra></extra>",
         "legendgroup": "Bring Me to Life",
         "line": {
          "color": "#FF97FF",
          "dash": "solid"
         },
         "marker": {
          "symbol": "circle"
         },
         "mode": "lines+markers",
         "name": "Bring Me to Life",
         "showlegend": true,
         "type": "scattergl",
         "x": [
          "2024-05-27"
         ],
         "xaxis": "x",
         "y": [
          36400000
         ],
         "yaxis": "y"
        },
        {
         "hovertemplate": "trackName=Cheri Cheri Lady<br>date=%{x}<br>views=%{y}<extra></extra>",
         "legendgroup": "Cheri Cheri Lady",
         "line": {
          "color": "#FECB52",
          "dash": "solid"
         },
         "marker": {
          "symbol": "circle"
         },
         "mode": "lines+markers",
         "name": "Cheri Cheri Lady",
         "showlegend": true,
         "type": "scattergl",
         "x": [
          "2024-05-27",
          "2024-06-10",
          "2024-06-11",
          "2024-06-12",
          "2024-06-13",
          "2024-06-14",
          "2024-06-18",
          "2024-06-20",
          "2024-06-24"
         ],
         "xaxis": "x",
         "y": [
          5200000,
          25200000,
          51200000,
          26000000,
          52400000,
          52600000,
          54300000,
          26800000,
          27000000
         ],
         "yaxis": "y"
        },
        {
         "hovertemplate": "trackName=Duvet<br>date=%{x}<br>views=%{y}<extra></extra>",
         "legendgroup": "Duvet",
         "line": {
          "color": "#636efa",
          "dash": "solid"
         },
         "marker": {
          "symbol": "circle"
         },
         "mode": "lines+markers",
         "name": "Duvet",
         "showlegend": true,
         "type": "scattergl",
         "x": [
          "2024-05-27",
          "2024-05-28",
          "2024-06-01",
          "2024-06-02",
          "2024-06-03",
          "2024-06-15"
         ],
         "xaxis": "x",
         "y": [
          87400000,
          44000000,
          89000000,
          44600000,
          44700000,
          2600000
         ],
         "yaxis": "y"
        },
        {
         "hovertemplate": "trackName=Hide Away<br>date=%{x}<br>views=%{y}<extra></extra>",
         "legendgroup": "Hide Away",
         "line": {
          "color": "#EF553B",
          "dash": "solid"
         },
         "marker": {
          "symbol": "circle"
         },
         "mode": "lines+markers",
         "name": "Hide Away",
         "showlegend": true,
         "type": "scattergl",
         "x": [
          "2024-05-27",
          "2024-05-28"
         ],
         "xaxis": "x",
         "y": [
          9000000,
          4500000
         ],
         "yaxis": "y"
        },
        {
         "hovertemplate": "trackName=Hope<br>date=%{x}<br>views=%{y}<extra></extra>",
         "legendgroup": "Hope",
         "line": {
          "color": "#00cc96",
          "dash": "solid"
         },
         "marker": {
          "symbol": "circle"
         },
         "mode": "lines+markers",
         "name": "Hope",
         "showlegend": true,
         "type": "scattergl",
         "x": [
          "2024-05-27"
         ],
         "xaxis": "x",
         "y": [
          2300000
         ],
         "yaxis": "y"
        },
        {
         "hovertemplate": "trackName=How It Ends<br>date=%{x}<br>views=%{y}<extra></extra>",
         "legendgroup": "How It Ends",
         "line": {
          "color": "#ab63fa",
          "dash": "solid"
         },
         "marker": {
          "symbol": "circle"
         },
         "mode": "lines+markers",
         "name": "How It Ends",
         "showlegend": true,
         "type": "scattergl",
         "x": [
          "2024-05-27",
          "2024-05-28",
          "2024-05-29",
          "2024-05-30",
          "2024-05-31",
          "2024-06-01",
          "2024-06-02",
          "2024-06-03",
          "2024-06-04"
         ],
         "xaxis": "x",
         "y": [
          210600000,
          105600000,
          106000000,
          212600000,
          319800000,
          346700000,
          322200000,
          107800000,
          25800000
         ],
         "yaxis": "y"
        },
        {
         "hovertemplate": "trackName=Indian D<br>date=%{x}<br>views=%{y}<extra></extra>",
         "legendgroup": "Indian D",
         "line": {
          "color": "#FFA15A",
          "dash": "solid"
         },
         "marker": {
          "symbol": "circle"
         },
         "mode": "lines+markers",
         "name": "Indian D",
         "showlegend": true,
         "type": "scattergl",
         "x": [
          "2024-05-27",
          "2024-05-29"
         ],
         "xaxis": "x",
         "y": [
          1300000,
          1300000
         ],
         "yaxis": "y"
        },
        {
         "hovertemplate": "trackName=Michelle<br>date=%{x}<br>views=%{y}<extra></extra>",
         "legendgroup": "Michelle",
         "line": {
          "color": "#19d3f3",
          "dash": "solid"
         },
         "marker": {
          "symbol": "circle"
         },
         "mode": "lines+markers",
         "name": "Michelle",
         "showlegend": true,
         "type": "scattergl",
         "x": [
          "2024-05-27"
         ],
         "xaxis": "x",
         "y": [
          18800000
         ],
         "yaxis": "y"
        },
        {
         "hovertemplate": "trackName=Mizu No Naka<br>date=%{x}<br>views=%{y}<extra></extra>",
         "legendgroup": "Mizu No Naka",
         "line": {
          "color": "#FF6692",
          "dash": "solid"
         },
         "marker": {
          "symbol": "circle"
         },
         "mode": "lines+markers",
         "name": "Mizu No Naka",
         "showlegend": true,
         "type": "scattergl",
         "x": [
          "2024-05-27",
          "2024-06-16",
          "2024-06-21"
         ],
         "xaxis": "x",
         "y": [
          36200000,
          66500000,
          66700000
         ],
         "yaxis": "y"
        },
        {
         "hovertemplate": "trackName=Only Time<br>date=%{x}<br>views=%{y}<extra></extra>",
         "legendgroup": "Only Time",
         "line": {
          "color": "#B6E880",
          "dash": "solid"
         },
         "marker": {
          "symbol": "circle"
         },
         "mode": "lines+markers",
         "name": "Only Time",
         "showlegend": true,
         "type": "scattergl",
         "x": [
          "2024-05-27",
          "2024-06-16",
          "2024-06-21"
         ],
         "xaxis": "x",
         "y": [
          36200000,
          66500000,
          66700000
         ],
         "yaxis": "y"
        },
        {
         "hovertemplate": "trackName=Party Girl<br>date=%{x}<br>views=%{y}<extra></extra>",
         "legendgroup": "Party Girl",
         "line": {
          "color": "#FF97FF",
          "dash": "solid"
         },
         "marker": {
          "symbol": "circle"
         },
         "mode": "lines+markers",
         "name": "Party Girl",
         "showlegend": true,
         "type": "scattergl",
         "x": [
          "2024-05-27",
          "2024-05-28"
         ],
         "xaxis": "x",
         "y": [
          2800000,
          2100000
         ],
         "yaxis": "y"
        },
        {
         "hovertemplate": "trackName=ROLE MODEL<br>date=%{x}<br>views=%{y}<extra></extra>",
         "legendgroup": "ROLE MODEL",
         "line": {
          "color": "#FECB52",
          "dash": "solid"
         },
         "marker": {
          "symbol": "circle"
         },
         "mode": "lines+markers",
         "name": "ROLE MODEL",
         "showlegend": true,
         "type": "scattergl",
         "x": [
          "2024-05-27",
          "2024-05-31"
         ],
         "xaxis": "x",
         "y": [
          4200000,
          4300000
         ],
         "yaxis": "y"
        },
        {
         "hovertemplate": "trackName=SMOKE IT OFF<br>date=%{x}<br>views=%{y}<extra></extra>",
         "legendgroup": "SMOKE IT OFF",
         "line": {
          "color": "#636efa",
          "dash": "solid"
         },
         "marker": {
          "symbol": "circle"
         },
         "mode": "lines+markers",
         "name": "SMOKE IT OFF",
         "showlegend": true,
         "type": "scattergl",
         "x": [
          "2024-05-27",
          "2024-05-28"
         ],
         "xaxis": "x",
         "y": [
          4300000,
          4400000
         ],
         "yaxis": "y"
        },
        {
         "hovertemplate": "trackName=Sawan Ke Pahila Somariya Ge<br>date=%{x}<br>views=%{y}<extra></extra>",
         "legendgroup": "Sawan Ke Pahila Somariya Ge",
         "line": {
          "color": "#EF553B",
          "dash": "solid"
         },
         "marker": {
          "symbol": "circle"
         },
         "mode": "lines+markers",
         "name": "Sawan Ke Pahila Somariya Ge",
         "showlegend": true,
         "type": "scattergl",
         "x": [
          "2024-05-27",
          "2024-05-29"
         ],
         "xaxis": "x",
         "y": [
          23600000,
          11900000
         ],
         "yaxis": "y"
        },
        {
         "hovertemplate": "trackName=Sensacional (feat. Strychniness)<br>date=%{x}<br>views=%{y}<extra></extra>",
         "legendgroup": "Sensacional (feat. Strychniness)",
         "line": {
          "color": "#00cc96",
          "dash": "solid"
         },
         "marker": {
          "symbol": "circle"
         },
         "mode": "lines+markers",
         "name": "Sensacional (feat. Strychniness)",
         "showlegend": true,
         "type": "scattergl",
         "x": [
          "2024-05-27",
          "2024-05-29",
          "2024-05-30",
          "2024-05-31"
         ],
         "xaxis": "x",
         "y": [
          6500000,
          6700000,
          13600000,
          20700000
         ],
         "yaxis": "y"
        },
        {
         "hovertemplate": "trackName=Sh!tty Pack (feat. Bfb Da Packman)<br>date=%{x}<br>views=%{y}<extra></extra>",
         "legendgroup": "Sh!tty Pack (feat. Bfb Da Packman)",
         "line": {
          "color": "#ab63fa",
          "dash": "solid"
         },
         "marker": {
          "symbol": "circle"
         },
         "mode": "lines+markers",
         "name": "Sh!tty Pack (feat. Bfb Da Packman)",
         "showlegend": true,
         "type": "scattergl",
         "x": [
          "2024-05-27",
          "2024-05-28",
          "2024-05-30",
          "2024-05-31",
          "2024-06-01"
         ],
         "xaxis": "x",
         "y": [
          2600000,
          1400000,
          1400000,
          2800000,
          1400000
         ],
         "yaxis": "y"
        },
        {
         "hovertemplate": "trackName=Suicidal<br>date=%{x}<br>views=%{y}<extra></extra>",
         "legendgroup": "Suicidal",
         "line": {
          "color": "#FFA15A",
          "dash": "solid"
         },
         "marker": {
          "symbol": "circle"
         },
         "mode": "lines+markers",
         "name": "Suicidal",
         "showlegend": true,
         "type": "scattergl",
         "x": [
          "2024-05-27",
          "2024-05-28",
          "2024-05-29",
          "2024-05-30",
          "2024-05-31",
          "2024-06-02"
         ],
         "xaxis": "x",
         "y": [
          1400000,
          1400000,
          1400000,
          3000000,
          3000000,
          3200000
         ],
         "yaxis": "y"
        },
        {
         "hovertemplate": "trackName=Sundress<br>date=%{x}<br>views=%{y}<extra></extra>",
         "legendgroup": "Sundress",
         "line": {
          "color": "#19d3f3",
          "dash": "solid"
         },
         "marker": {
          "symbol": "circle"
         },
         "mode": "lines+markers",
         "name": "Sundress",
         "showlegend": true,
         "type": "scattergl",
         "x": [
          "2024-05-27"
         ],
         "xaxis": "x",
         "y": [
          19500000
         ],
         "yaxis": "y"
        },
        {
         "hovertemplate": "trackName=Tadow<br>date=%{x}<br>views=%{y}<extra></extra>",
         "legendgroup": "Tadow",
         "line": {
          "color": "#FF6692",
          "dash": "solid"
         },
         "marker": {
          "symbol": "circle"
         },
         "mode": "lines+markers",
         "name": "Tadow",
         "showlegend": true,
         "type": "scattergl",
         "x": [
          "2024-05-27",
          "2024-05-28",
          "2024-05-30",
          "2024-05-31",
          "2024-06-01",
          "2024-06-02",
          "2024-06-03",
          "2024-06-04",
          "2024-06-05",
          "2024-06-06",
          "2024-06-07",
          "2024-06-08",
          "2024-06-09",
          "2024-06-10",
          "2024-06-11",
          "2024-06-12",
          "2024-06-13",
          "2024-06-15",
          "2024-06-16",
          "2024-06-17",
          "2024-06-18",
          "2024-06-19"
         ],
         "xaxis": "x",
         "y": [
          12000000,
          6200000,
          13600000,
          21800000,
          22200000,
          7500000,
          15400000,
          7800000,
          7900000,
          16000000,
          16200000,
          16400000,
          8300000,
          17000000,
          25800000,
          9200000,
          9400000,
          18400000,
          19400000,
          19500000,
          9800000,
          10000000
         ],
         "yaxis": "y"
        },
        {
         "hovertemplate": "trackName=The Mop<br>date=%{x}<br>views=%{y}<extra></extra>",
         "legendgroup": "The Mop",
         "line": {
          "color": "#B6E880",
          "dash": "solid"
         },
         "marker": {
          "symbol": "circle"
         },
         "mode": "lines+markers",
         "name": "The Mop",
         "showlegend": true,
         "type": "scattergl",
         "x": [
          "2024-05-27",
          "2024-05-29"
         ],
         "xaxis": "x",
         "y": [
          7600000,
          3900000
         ],
         "yaxis": "y"
        },
        {
         "hovertemplate": "trackName=Theme From \"The Pink Panther\"<br>date=%{x}<br>views=%{y}<extra></extra>",
         "legendgroup": "Theme From \"The Pink Panther\"",
         "line": {
          "color": "#FF97FF",
          "dash": "solid"
         },
         "marker": {
          "symbol": "circle"
         },
         "mode": "lines+markers",
         "name": "Theme From \"The Pink Panther\"",
         "showlegend": true,
         "type": "scattergl",
         "x": [
          "2024-05-27",
          "2024-05-31",
          "2024-06-02"
         ],
         "xaxis": "x",
         "y": [
          9600000,
          4800000,
          4800000
         ],
         "yaxis": "y"
        },
        {
         "hovertemplate": "trackName=Titanium (feat. Sia)<br>date=%{x}<br>views=%{y}<extra></extra>",
         "legendgroup": "Titanium (feat. Sia)",
         "line": {
          "color": "#FECB52",
          "dash": "solid"
         },
         "marker": {
          "symbol": "circle"
         },
         "mode": "lines+markers",
         "name": "Titanium (feat. Sia)",
         "showlegend": true,
         "type": "scattergl",
         "x": [
          "2024-05-27"
         ],
         "xaxis": "x",
         "y": [
          23600000
         ],
         "yaxis": "y"
        },
        {
         "hovertemplate": "trackName=WWE: The Time Is Now (John Cena)<br>date=%{x}<br>views=%{y}<extra></extra>",
         "legendgroup": "WWE: The Time Is Now (John Cena)",
         "line": {
          "color": "#636efa",
          "dash": "solid"
         },
         "marker": {
          "symbol": "circle"
         },
         "mode": "lines+markers",
         "name": "WWE: The Time Is Now (John Cena)",
         "showlegend": true,
         "type": "scattergl",
         "x": [
          "2024-05-27",
          "2024-06-01"
         ],
         "xaxis": "x",
         "y": [
          893300,
          1000000
         ],
         "yaxis": "y"
        },
        {
         "hovertemplate": "trackName=Whole Thing (feat. Freddie Gibbs)<br>date=%{x}<br>views=%{y}<extra></extra>",
         "legendgroup": "Whole Thing (feat. Freddie Gibbs)",
         "line": {
          "color": "#EF553B",
          "dash": "solid"
         },
         "marker": {
          "symbol": "circle"
         },
         "mode": "lines+markers",
         "name": "Whole Thing (feat. Freddie Gibbs)",
         "showlegend": true,
         "type": "scattergl",
         "x": [
          "2024-05-27",
          "2024-05-29",
          "2024-05-30",
          "2024-05-31"
         ],
         "xaxis": "x",
         "y": [
          6500000,
          6700000,
          13600000,
          20700000
         ],
         "yaxis": "y"
        },
        {
         "hovertemplate": "trackName=meet the grahams<br>date=%{x}<br>views=%{y}<extra></extra>",
         "legendgroup": "meet the grahams",
         "line": {
          "color": "#00cc96",
          "dash": "solid"
         },
         "marker": {
          "symbol": "circle"
         },
         "mode": "lines+markers",
         "name": "meet the grahams",
         "showlegend": true,
         "type": "scattergl",
         "x": [
          "2024-05-27",
          "2024-06-02",
          "2024-06-03"
         ],
         "xaxis": "x",
         "y": [
          8400000,
          4700000,
          4800000
         ],
         "yaxis": "y"
        },
        {
         "hovertemplate": "trackName=BACK TO BACK DDosama<br>date=%{x}<br>views=%{y}<extra></extra>",
         "legendgroup": "BACK TO BACK DDosama",
         "line": {
          "color": "#ab63fa",
          "dash": "solid"
         },
         "marker": {
          "symbol": "circle"
         },
         "mode": "lines+markers",
         "name": "BACK TO BACK DDosama",
         "showlegend": true,
         "type": "scattergl",
         "x": [
          "2024-05-28"
         ],
         "xaxis": "x",
         "y": [
          1700000
         ],
         "yaxis": "y"
        },
        {
         "hovertemplate": "trackName=Backtoback<br>date=%{x}<br>views=%{y}<extra></extra>",
         "legendgroup": "Backtoback",
         "line": {
          "color": "#FFA15A",
          "dash": "solid"
         },
         "marker": {
          "symbol": "circle"
         },
         "mode": "lines+markers",
         "name": "Backtoback",
         "showlegend": true,
         "type": "scattergl",
         "x": [
          "2024-05-28"
         ],
         "xaxis": "x",
         "y": [
          1700000
         ],
         "yaxis": "y"
        },
        {
         "hovertemplate": "trackName=Dark Red<br>date=%{x}<br>views=%{y}<extra></extra>",
         "legendgroup": "Dark Red",
         "line": {
          "color": "#19d3f3",
          "dash": "solid"
         },
         "marker": {
          "symbol": "circle"
         },
         "mode": "lines+markers",
         "name": "Dark Red",
         "showlegend": true,
         "type": "scattergl",
         "x": [
          "2024-05-28"
         ],
         "xaxis": "x",
         "y": [
          2200000
         ],
         "yaxis": "y"
        },
        {
         "hovertemplate": "trackName=Dj She Doesnt Mind<br>date=%{x}<br>views=%{y}<extra></extra>",
         "legendgroup": "Dj She Doesnt Mind",
         "line": {
          "color": "#FF6692",
          "dash": "solid"
         },
         "marker": {
          "symbol": "circle"
         },
         "mode": "lines+markers",
         "name": "Dj She Doesnt Mind",
         "showlegend": true,
         "type": "scattergl",
         "x": [
          "2024-05-28",
          "2024-05-29",
          "2024-05-30",
          "2024-06-01",
          "2024-06-02",
          "2024-06-03"
         ],
         "xaxis": "x",
         "y": [
          14200000,
          14300000,
          29000000,
          15000000,
          15300000,
          15500000
         ],
         "yaxis": "y"
        },
        {
         "hovertemplate": "trackName=EYES ON ME<br>date=%{x}<br>views=%{y}<extra></extra>",
         "legendgroup": "EYES ON ME",
         "line": {
          "color": "#B6E880",
          "dash": "solid"
         },
         "marker": {
          "symbol": "circle"
         },
         "mode": "lines+markers",
         "name": "EYES ON ME",
         "showlegend": true,
         "type": "scattergl",
         "x": [
          "2024-05-28",
          "2024-06-05"
         ],
         "xaxis": "x",
         "y": [
          3500000,
          3100000
         ],
         "yaxis": "y"
        },
        {
         "hovertemplate": "trackName=Jaye Se Pehle<br>date=%{x}<br>views=%{y}<extra></extra>",
         "legendgroup": "Jaye Se Pehle",
         "line": {
          "color": "#FF97FF",
          "dash": "solid"
         },
         "marker": {
          "symbol": "circle"
         },
         "mode": "lines+markers",
         "name": "Jaye Se Pehle",
         "showlegend": true,
         "type": "scattergl",
         "x": [
          "2024-05-28",
          "2024-06-02",
          "2024-06-08",
          "2024-06-09",
          "2024-06-17"
         ],
         "xaxis": "x",
         "y": [
          168100000,
          170600000,
          517200000,
          172900000,
          181900000
         ],
         "yaxis": "y"
        },
        {
         "hovertemplate": "trackName=Last Friday Night<br>date=%{x}<br>views=%{y}<extra></extra>",
         "legendgroup": "Last Friday Night",
         "line": {
          "color": "#FECB52",
          "dash": "solid"
         },
         "marker": {
          "symbol": "circle"
         },
         "mode": "lines+markers",
         "name": "Last Friday Night",
         "showlegend": true,
         "type": "scattergl",
         "x": [
          "2024-05-28",
          "2024-06-01",
          "2024-06-06",
          "2024-06-08",
          "2024-06-13",
          "2024-06-14",
          "2024-06-15",
          "2024-06-17",
          "2024-06-20",
          "2024-06-21",
          "2024-06-23",
          "2024-06-27"
         ],
         "xaxis": "x",
         "y": [
          22800000,
          14300000,
          32600000,
          49500000,
          55800000,
          37400000,
          18900000,
          19200000,
          19400000,
          19500000,
          39200000,
          40000000
         ],
         "yaxis": "y"
        },
        {
         "hovertemplate": "trackName=Last Friday Night (T.G.I.F.)<br>date=%{x}<br>views=%{y}<extra></extra>",
         "legendgroup": "Last Friday Night (T.G.I.F.)",
         "line": {
          "color": "#636efa",
          "dash": "solid"
         },
         "marker": {
          "symbol": "circle"
         },
         "mode": "lines+markers",
         "name": "Last Friday Night (T.G.I.F.)",
         "showlegend": true,
         "type": "scattergl",
         "x": [
          "2024-05-28",
          "2024-06-01",
          "2024-06-06",
          "2024-06-08",
          "2024-06-13",
          "2024-06-14",
          "2024-06-15",
          "2024-06-17",
          "2024-06-20",
          "2024-06-21",
          "2024-06-23",
          "2024-06-27"
         ],
         "xaxis": "x",
         "y": [
          22800000,
          14300000,
          32600000,
          49500000,
          55800000,
          37400000,
          18900000,
          19200000,
          19400000,
          19500000,
          39200000,
          40000000
         ],
         "yaxis": "y"
        },
        {
         "hovertemplate": "trackName=My Kind of Woman<br>date=%{x}<br>views=%{y}<extra></extra>",
         "legendgroup": "My Kind of Woman",
         "line": {
          "color": "#EF553B",
          "dash": "solid"
         },
         "marker": {
          "symbol": "circle"
         },
         "mode": "lines+markers",
         "name": "My Kind of Woman",
         "showlegend": true,
         "type": "scattergl",
         "x": [
          "2024-05-28",
          "2024-06-01"
         ],
         "xaxis": "x",
         "y": [
          2800000,
          3700000
         ],
         "yaxis": "y"
        },
        {
         "hovertemplate": "trackName=RIIVERDANCE<br>date=%{x}<br>views=%{y}<extra></extra>",
         "legendgroup": "RIIVERDANCE",
         "line": {
          "color": "#00cc96",
          "dash": "solid"
         },
         "marker": {
          "symbol": "circle"
         },
         "mode": "lines+markers",
         "name": "RIIVERDANCE",
         "showlegend": true,
         "type": "scattergl",
         "x": [
          "2024-05-28"
         ],
         "xaxis": "x",
         "y": [
          5000000
         ],
         "yaxis": "y"
        },
        {
         "hovertemplate": "trackName=Too Much<br>date=%{x}<br>views=%{y}<extra></extra>",
         "legendgroup": "Too Much",
         "line": {
          "color": "#ab63fa",
          "dash": "solid"
         },
         "marker": {
          "symbol": "circle"
         },
         "mode": "lines+markers",
         "name": "Too Much",
         "showlegend": true,
         "type": "scattergl",
         "x": [
          "2024-05-28",
          "2024-05-29",
          "2024-05-30",
          "2024-05-31",
          "2024-06-01"
         ],
         "xaxis": "x",
         "y": [
          4700000,
          4800000,
          4900000,
          14700000,
          5000000
         ],
         "yaxis": "y"
        },
        {
         "hovertemplate": "trackName=Versos Con Tu Nombre<br>date=%{x}<br>views=%{y}<extra></extra>",
         "legendgroup": "Versos Con Tu Nombre",
         "line": {
          "color": "#FFA15A",
          "dash": "solid"
         },
         "marker": {
          "symbol": "circle"
         },
         "mode": "lines+markers",
         "name": "Versos Con Tu Nombre",
         "showlegend": true,
         "type": "scattergl",
         "x": [
          "2024-05-28"
         ],
         "xaxis": "x",
         "y": [
          1700000
         ],
         "yaxis": "y"
        },
        {
         "hovertemplate": "trackName=Wide Open<br>date=%{x}<br>views=%{y}<extra></extra>",
         "legendgroup": "Wide Open",
         "line": {
          "color": "#19d3f3",
          "dash": "solid"
         },
         "marker": {
          "symbol": "circle"
         },
         "mode": "lines+markers",
         "name": "Wide Open",
         "showlegend": true,
         "type": "scattergl",
         "x": [
          "2024-05-28"
         ],
         "xaxis": "x",
         "y": [
          1700000
         ],
         "yaxis": "y"
        },
        {
         "hovertemplate": "trackName=7 Years (Originally Performed By Lukas Graham) [Karaoke Version]<br>date=%{x}<br>views=%{y}<extra></extra>",
         "legendgroup": "7 Years (Originally Performed By Lukas Graham) [Karaoke Version]",
         "line": {
          "color": "#FF6692",
          "dash": "solid"
         },
         "marker": {
          "symbol": "circle"
         },
         "mode": "lines+markers",
         "name": "7 Years (Originally Performed By Lukas Graham) [Karaoke Version]",
         "showlegend": true,
         "type": "scattergl",
         "x": [
          "2024-05-29"
         ],
         "xaxis": "x",
         "y": [
          3300000
         ],
         "yaxis": "y"
        },
        {
         "hovertemplate": "trackName=A Bar Song (Tipsy)<br>date=%{x}<br>views=%{y}<extra></extra>",
         "legendgroup": "A Bar Song (Tipsy)",
         "line": {
          "color": "#B6E880",
          "dash": "solid"
         },
         "marker": {
          "symbol": "circle"
         },
         "mode": "lines+markers",
         "name": "A Bar Song (Tipsy)",
         "showlegend": true,
         "type": "scattergl",
         "x": [
          "2024-05-29",
          "2024-06-04",
          "2024-06-05"
         ],
         "xaxis": "x",
         "y": [
          1600000,
          2700000,
          0
         ],
         "yaxis": "y"
        },
        {
         "hovertemplate": "trackName=Abg<br>date=%{x}<br>views=%{y}<extra></extra>",
         "legendgroup": "Abg",
         "line": {
          "color": "#FF97FF",
          "dash": "solid"
         },
         "marker": {
          "symbol": "circle"
         },
         "mode": "lines+markers",
         "name": "Abg",
         "showlegend": true,
         "type": "scattergl",
         "x": [
          "2024-05-29"
         ],
         "xaxis": "x",
         "y": [
          877800
         ],
         "yaxis": "y"
        },
        {
         "hovertemplate": "trackName=Chun Swae (feat. Swae Lee)<br>date=%{x}<br>views=%{y}<extra></extra>",
         "legendgroup": "Chun Swae (feat. Swae Lee)",
         "line": {
          "color": "#FECB52",
          "dash": "solid"
         },
         "marker": {
          "symbol": "circle"
         },
         "mode": "lines+markers",
         "name": "Chun Swae (feat. Swae Lee)",
         "showlegend": true,
         "type": "scattergl",
         "x": [
          "2024-05-29",
          "2024-06-02",
          "2024-06-03",
          "2024-06-06"
         ],
         "xaxis": "x",
         "y": [
          47400000,
          47900000,
          48000000,
          144300000
         ],
         "yaxis": "y"
        },
        {
         "hovertemplate": "trackName=Confidence<br>date=%{x}<br>views=%{y}<extra></extra>",
         "legendgroup": "Confidence",
         "line": {
          "color": "#636efa",
          "dash": "solid"
         },
         "marker": {
          "symbol": "circle"
         },
         "mode": "lines+markers",
         "name": "Confidence",
         "showlegend": true,
         "type": "scattergl",
         "x": [
          "2024-05-29"
         ],
         "xaxis": "x",
         "y": [
          11600000
         ],
         "yaxis": "y"
        },
        {
         "hovertemplate": "trackName=FUNK ESTRANHO<br>date=%{x}<br>views=%{y}<extra></extra>",
         "legendgroup": "FUNK ESTRANHO",
         "line": {
          "color": "#EF553B",
          "dash": "solid"
         },
         "marker": {
          "symbol": "circle"
         },
         "mode": "lines+markers",
         "name": "FUNK ESTRANHO",
         "showlegend": true,
         "type": "scattergl",
         "x": [
          "2024-05-29"
         ],
         "xaxis": "x",
         "y": [
          5700000
         ],
         "yaxis": "y"
        },
        {
         "hovertemplate": "trackName=Hellcats SRTs 2<br>date=%{x}<br>views=%{y}<extra></extra>",
         "legendgroup": "Hellcats SRTs 2",
         "line": {
          "color": "#00cc96",
          "dash": "solid"
         },
         "marker": {
          "symbol": "circle"
         },
         "mode": "lines+markers",
         "name": "Hellcats SRTs 2",
         "showlegend": true,
         "type": "scattergl",
         "x": [
          "2024-05-29",
          "2024-05-30",
          "2024-06-04"
         ],
         "xaxis": "x",
         "y": [
          1800000,
          1800000,
          1800000
         ],
         "yaxis": "y"
        },
        {
         "hovertemplate": "trackName=Il barone rosso<br>date=%{x}<br>views=%{y}<extra></extra>",
         "legendgroup": "Il barone rosso",
         "line": {
          "color": "#ab63fa",
          "dash": "solid"
         },
         "marker": {
          "symbol": "circle"
         },
         "mode": "lines+markers",
         "name": "Il barone rosso",
         "showlegend": true,
         "type": "scattergl",
         "x": [
          "2024-05-29"
         ],
         "xaxis": "x",
         "y": [
          2000000
         ],
         "yaxis": "y"
        },
        {
         "hovertemplate": "trackName=Rock N Roll<br>date=%{x}<br>views=%{y}<extra></extra>",
         "legendgroup": "Rock N Roll",
         "line": {
          "color": "#FFA15A",
          "dash": "solid"
         },
         "marker": {
          "symbol": "circle"
         },
         "mode": "lines+markers",
         "name": "Rock N Roll",
         "showlegend": true,
         "type": "scattergl",
         "x": [
          "2024-05-29"
         ],
         "xaxis": "x",
         "y": [
          4500000
         ],
         "yaxis": "y"
        },
        {
         "hovertemplate": "trackName=Straight a's<br>date=%{x}<br>views=%{y}<extra></extra>",
         "legendgroup": "Straight a's",
         "line": {
          "color": "#19d3f3",
          "dash": "solid"
         },
         "marker": {
          "symbol": "circle"
         },
         "mode": "lines+markers",
         "name": "Straight a's",
         "showlegend": true,
         "type": "scattergl",
         "x": [
          "2024-05-29",
          "2024-05-31"
         ],
         "xaxis": "x",
         "y": [
          5600000,
          2800000
         ],
         "yaxis": "y"
        },
        {
         "hovertemplate": "trackName=Whip My Hair<br>date=%{x}<br>views=%{y}<extra></extra>",
         "legendgroup": "Whip My Hair",
         "line": {
          "color": "#FF6692",
          "dash": "solid"
         },
         "marker": {
          "symbol": "circle"
         },
         "mode": "lines+markers",
         "name": "Whip My Hair",
         "showlegend": true,
         "type": "scattergl",
         "x": [
          "2024-05-29",
          "2024-06-01",
          "2024-06-02"
         ],
         "xaxis": "x",
         "y": [
          3500000,
          3700000,
          3800000
         ],
         "yaxis": "y"
        },
        {
         "hovertemplate": "trackName=World News (feat. thels)<br>date=%{x}<br>views=%{y}<extra></extra>",
         "legendgroup": "World News (feat. thels)",
         "line": {
          "color": "#B6E880",
          "dash": "solid"
         },
         "marker": {
          "symbol": "circle"
         },
         "mode": "lines+markers",
         "name": "World News (feat. thels)",
         "showlegend": true,
         "type": "scattergl",
         "x": [
          "2024-05-29",
          "2024-05-30",
          "2024-06-01",
          "2024-06-02",
          "2024-06-03",
          "2024-06-08",
          "2024-06-09",
          "2024-06-10"
         ],
         "xaxis": "x",
         "y": [
          23000000,
          11700000,
          24000000,
          12200000,
          12300000,
          25200000,
          12700000,
          12900000
         ],
         "yaxis": "y"
        },
        {
         "hovertemplate": "trackName=paises glo<br>date=%{x}<br>views=%{y}<extra></extra>",
         "legendgroup": "paises glo",
         "line": {
          "color": "#FF97FF",
          "dash": "solid"
         },
         "marker": {
          "symbol": "circle"
         },
         "mode": "lines+markers",
         "name": "paises glo",
         "showlegend": true,
         "type": "scattergl",
         "x": [
          "2024-05-29",
          "2024-05-30",
          "2024-05-31",
          "2024-06-15"
         ],
         "xaxis": "x",
         "y": [
          10400000,
          10500000,
          21000000,
          9200000
         ],
         "yaxis": "y"
        },
        {
         "hovertemplate": "trackName=Another Love<br>date=%{x}<br>views=%{y}<extra></extra>",
         "legendgroup": "Another Love",
         "line": {
          "color": "#FECB52",
          "dash": "solid"
         },
         "marker": {
          "symbol": "circle"
         },
         "mode": "lines+markers",
         "name": "Another Love",
         "showlegend": true,
         "type": "scattergl",
         "x": [
          "2024-05-30"
         ],
         "xaxis": "x",
         "y": [
          5200000
         ],
         "yaxis": "y"
        },
        {
         "hovertemplate": "trackName=DeOrbit_118<br>date=%{x}<br>views=%{y}<extra></extra>",
         "legendgroup": "DeOrbit_118",
         "line": {
          "color": "#636efa",
          "dash": "solid"
         },
         "marker": {
          "symbol": "circle"
         },
         "mode": "lines+markers",
         "name": "DeOrbit_118",
         "showlegend": true,
         "type": "scattergl",
         "x": [
          "2024-05-30",
          "2024-05-31",
          "2024-06-01",
          "2024-06-02",
          "2024-06-03"
         ],
         "xaxis": "x",
         "y": [
          6300000,
          13800000,
          7400000,
          23400000,
          16400000
         ],
         "yaxis": "y"
        },
        {
         "hovertemplate": "trackName=Dead Can Trance<br>date=%{x}<br>views=%{y}<extra></extra>",
         "legendgroup": "Dead Can Trance",
         "line": {
          "color": "#EF553B",
          "dash": "solid"
         },
         "marker": {
          "symbol": "circle"
         },
         "mode": "lines+markers",
         "name": "Dead Can Trance",
         "showlegend": true,
         "type": "scattergl",
         "x": [
          "2024-05-30",
          "2024-05-31",
          "2024-06-01",
          "2024-06-02",
          "2024-06-03"
         ],
         "xaxis": "x",
         "y": [
          6300000,
          13800000,
          7400000,
          23400000,
          16400000
         ],
         "yaxis": "y"
        },
        {
         "hovertemplate": "trackName=Fade into You<br>date=%{x}<br>views=%{y}<extra></extra>",
         "legendgroup": "Fade into You",
         "line": {
          "color": "#00cc96",
          "dash": "solid"
         },
         "marker": {
          "symbol": "circle"
         },
         "mode": "lines+markers",
         "name": "Fade into You",
         "showlegend": true,
         "type": "scattergl",
         "x": [
          "2024-05-30",
          "2024-06-03",
          "2024-06-04",
          "2024-06-10",
          "2024-06-17"
         ],
         "xaxis": "x",
         "y": [
          59500000,
          60600000,
          60700000,
          15200000,
          24900000
         ],
         "yaxis": "y"
        },
        {
         "hovertemplate": "trackName=Jojo Meo<br>date=%{x}<br>views=%{y}<extra></extra>",
         "legendgroup": "Jojo Meo",
         "line": {
          "color": "#ab63fa",
          "dash": "solid"
         },
         "marker": {
          "symbol": "circle"
         },
         "mode": "lines+markers",
         "name": "Jojo Meo",
         "showlegend": true,
         "type": "scattergl",
         "x": [
          "2024-05-30",
          "2024-05-31"
         ],
         "xaxis": "x",
         "y": [
          8400000,
          8600000
         ],
         "yaxis": "y"
        },
        {
         "hovertemplate": "trackName=NEWJEANS<br>date=%{x}<br>views=%{y}<extra></extra>",
         "legendgroup": "NEWJEANS",
         "line": {
          "color": "#FFA15A",
          "dash": "solid"
         },
         "marker": {
          "symbol": "circle"
         },
         "mode": "lines+markers",
         "name": "NEWJEANS",
         "showlegend": true,
         "type": "scattergl",
         "x": [
          "2024-05-30",
          "2024-05-31",
          "2024-06-01",
          "2024-06-02",
          "2024-06-03"
         ],
         "xaxis": "x",
         "y": [
          6300000,
          13800000,
          7400000,
          23400000,
          16400000
         ],
         "yaxis": "y"
        },
        {
         "hovertemplate": "trackName=So Then the Boat<br>date=%{x}<br>views=%{y}<extra></extra>",
         "legendgroup": "So Then the Boat",
         "line": {
          "color": "#19d3f3",
          "dash": "solid"
         },
         "marker": {
          "symbol": "circle"
         },
         "mode": "lines+markers",
         "name": "So Then the Boat",
         "showlegend": true,
         "type": "scattergl",
         "x": [
          "2024-05-30",
          "2024-05-31"
         ],
         "xaxis": "x",
         "y": [
          3500000,
          3700000
         ],
         "yaxis": "y"
        },
        {
         "hovertemplate": "trackName=Thuggish Ruggish Bone<br>date=%{x}<br>views=%{y}<extra></extra>",
         "legendgroup": "Thuggish Ruggish Bone",
         "line": {
          "color": "#FF6692",
          "dash": "solid"
         },
         "marker": {
          "symbol": "circle"
         },
         "mode": "lines+markers",
         "name": "Thuggish Ruggish Bone",
         "showlegend": true,
         "type": "scattergl",
         "x": [
          "2024-05-30"
         ],
         "xaxis": "x",
         "y": [
          3600000
         ],
         "yaxis": "y"
        },
        {
         "hovertemplate": "trackName=ose<br>date=%{x}<br>views=%{y}<extra></extra>",
         "legendgroup": "ose",
         "line": {
          "color": "#B6E880",
          "dash": "solid"
         },
         "marker": {
          "symbol": "circle"
         },
         "mode": "lines+markers",
         "name": "ose",
         "showlegend": true,
         "type": "scattergl",
         "x": [
          "2024-05-30"
         ],
         "xaxis": "x",
         "y": [
          20000000
         ],
         "yaxis": "y"
        },
        {
         "hovertemplate": "trackName=I Love It (feat. Charli XCX)<br>date=%{x}<br>views=%{y}<extra></extra>",
         "legendgroup": "I Love It (feat. Charli XCX)",
         "line": {
          "color": "#FF97FF",
          "dash": "solid"
         },
         "marker": {
          "symbol": "circle"
         },
         "mode": "lines+markers",
         "name": "I Love It (feat. Charli XCX)",
         "showlegend": true,
         "type": "scattergl",
         "x": [
          "2024-05-31"
         ],
         "xaxis": "x",
         "y": [
          8300000
         ],
         "yaxis": "y"
        },
        {
         "hovertemplate": "trackName=LOOK DON'T TOUCH<br>date=%{x}<br>views=%{y}<extra></extra>",
         "legendgroup": "LOOK DON'T TOUCH",
         "line": {
          "color": "#FECB52",
          "dash": "solid"
         },
         "marker": {
          "symbol": "circle"
         },
         "mode": "lines+markers",
         "name": "LOOK DON'T TOUCH",
         "showlegend": true,
         "type": "scattergl",
         "x": [
          "2024-05-31"
         ],
         "xaxis": "x",
         "y": [
          7200000
         ],
         "yaxis": "y"
        },
        {
         "hovertemplate": "trackName=Oh Gide Damn<br>date=%{x}<br>views=%{y}<extra></extra>",
         "legendgroup": "Oh Gide Damn",
         "line": {
          "color": "#636efa",
          "dash": "solid"
         },
         "marker": {
          "symbol": "circle"
         },
         "mode": "lines+markers",
         "name": "Oh Gide Damn",
         "showlegend": true,
         "type": "scattergl",
         "x": [
          "2024-05-31"
         ],
         "xaxis": "x",
         "y": [
          1500000
         ],
         "yaxis": "y"
        },
        {
         "hovertemplate": "trackName=She Will<br>date=%{x}<br>views=%{y}<extra></extra>",
         "legendgroup": "She Will",
         "line": {
          "color": "#EF553B",
          "dash": "solid"
         },
         "marker": {
          "symbol": "circle"
         },
         "mode": "lines+markers",
         "name": "She Will",
         "showlegend": true,
         "type": "scattergl",
         "x": [
          "2024-05-31"
         ],
         "xaxis": "x",
         "y": [
          2800000
         ],
         "yaxis": "y"
        },
        {
         "hovertemplate": "trackName=Thinking About Her<br>date=%{x}<br>views=%{y}<extra></extra>",
         "legendgroup": "Thinking About Her",
         "line": {
          "color": "#00cc96",
          "dash": "solid"
         },
         "marker": {
          "symbol": "circle"
         },
         "mode": "lines+markers",
         "name": "Thinking About Her",
         "showlegend": true,
         "type": "scattergl",
         "x": [
          "2024-05-31",
          "2024-06-02"
         ],
         "xaxis": "x",
         "y": [
          1300000,
          1300000
         ],
         "yaxis": "y"
        },
        {
         "hovertemplate": "trackName=AJMA3 W ATRA7 (feat. DONX2D)<br>date=%{x}<br>views=%{y}<extra></extra>",
         "legendgroup": "AJMA3 W ATRA7 (feat. DONX2D)",
         "line": {
          "color": "#ab63fa",
          "dash": "solid"
         },
         "marker": {
          "symbol": "circle"
         },
         "mode": "lines+markers",
         "name": "AJMA3 W ATRA7 (feat. DONX2D)",
         "showlegend": true,
         "type": "scattergl",
         "x": [
          "2024-06-01"
         ],
         "xaxis": "x",
         "y": [
          8200000
         ],
         "yaxis": "y"
        },
        {
         "hovertemplate": "trackName=Beat It Up<br>date=%{x}<br>views=%{y}<extra></extra>",
         "legendgroup": "Beat It Up",
         "line": {
          "color": "#FFA15A",
          "dash": "solid"
         },
         "marker": {
          "symbol": "circle"
         },
         "mode": "lines+markers",
         "name": "Beat It Up",
         "showlegend": true,
         "type": "scattergl",
         "x": [
          "2024-06-01",
          "2024-06-02"
         ],
         "xaxis": "x",
         "y": [
          2700000,
          8100000
         ],
         "yaxis": "y"
        },
        {
         "hovertemplate": "trackName=Conquer<br>date=%{x}<br>views=%{y}<extra></extra>",
         "legendgroup": "Conquer",
         "line": {
          "color": "#19d3f3",
          "dash": "solid"
         },
         "marker": {
          "symbol": "circle"
         },
         "mode": "lines+markers",
         "name": "Conquer",
         "showlegend": true,
         "type": "scattergl",
         "x": [
          "2024-06-01"
         ],
         "xaxis": "x",
         "y": [
          6500000
         ],
         "yaxis": "y"
        },
        {
         "hovertemplate": "trackName=FAMILY BUSINESS<br>date=%{x}<br>views=%{y}<extra></extra>",
         "legendgroup": "FAMILY BUSINESS",
         "line": {
          "color": "#FF6692",
          "dash": "solid"
         },
         "marker": {
          "symbol": "circle"
         },
         "mode": "lines+markers",
         "name": "FAMILY BUSINESS",
         "showlegend": true,
         "type": "scattergl",
         "x": [
          "2024-06-01"
         ],
         "xaxis": "x",
         "y": [
          2300000
         ],
         "yaxis": "y"
        },
        {
         "hovertemplate": "trackName=Get In With Me<br>date=%{x}<br>views=%{y}<extra></extra>",
         "legendgroup": "Get In With Me",
         "line": {
          "color": "#B6E880",
          "dash": "solid"
         },
         "marker": {
          "symbol": "circle"
         },
         "mode": "lines+markers",
         "name": "Get In With Me",
         "showlegend": true,
         "type": "scattergl",
         "x": [
          "2024-06-01",
          "2024-06-02"
         ],
         "xaxis": "x",
         "y": [
          5600000,
          5700000
         ],
         "yaxis": "y"
        },
        {
         "hovertemplate": "trackName=Roleplaying Game<br>date=%{x}<br>views=%{y}<extra></extra>",
         "legendgroup": "Roleplaying Game",
         "line": {
          "color": "#FF97FF",
          "dash": "solid"
         },
         "marker": {
          "symbol": "circle"
         },
         "mode": "lines+markers",
         "name": "Roleplaying Game",
         "showlegend": true,
         "type": "scattergl",
         "x": [
          "2024-06-01"
         ],
         "xaxis": "x",
         "y": [
          6600000
         ],
         "yaxis": "y"
        },
        {
         "hovertemplate": "trackName=SequÃªncia da Orquestra<br>date=%{x}<br>views=%{y}<extra></extra>",
         "legendgroup": "SequÃªncia da Orquestra",
         "line": {
          "color": "#FECB52",
          "dash": "solid"
         },
         "marker": {
          "symbol": "circle"
         },
         "mode": "lines+markers",
         "name": "SequÃªncia da Orquestra",
         "showlegend": true,
         "type": "scattergl",
         "x": [
          "2024-06-01"
         ],
         "xaxis": "x",
         "y": [
          6800000
         ],
         "yaxis": "y"
        },
        {
         "hovertemplate": "trackName=Unfinished Business<br>date=%{x}<br>views=%{y}<extra></extra>",
         "legendgroup": "Unfinished Business",
         "line": {
          "color": "#636efa",
          "dash": "solid"
         },
         "marker": {
          "symbol": "circle"
         },
         "mode": "lines+markers",
         "name": "Unfinished Business",
         "showlegend": true,
         "type": "scattergl",
         "x": [
          "2024-06-01"
         ],
         "xaxis": "x",
         "y": [
          1500000
         ],
         "yaxis": "y"
        },
        {
         "hovertemplate": "trackName=Victory<br>date=%{x}<br>views=%{y}<extra></extra>",
         "legendgroup": "Victory",
         "line": {
          "color": "#EF553B",
          "dash": "solid"
         },
         "marker": {
          "symbol": "circle"
         },
         "mode": "lines+markers",
         "name": "Victory",
         "showlegend": true,
         "type": "scattergl",
         "x": [
          "2024-06-01"
         ],
         "xaxis": "x",
         "y": [
          9900000
         ],
         "yaxis": "y"
        },
        {
         "hovertemplate": "trackName=Vordt of the Boreal Valley<br>date=%{x}<br>views=%{y}<extra></extra>",
         "legendgroup": "Vordt of the Boreal Valley",
         "line": {
          "color": "#00cc96",
          "dash": "solid"
         },
         "marker": {
          "symbol": "circle"
         },
         "mode": "lines+markers",
         "name": "Vordt of the Boreal Valley",
         "showlegend": true,
         "type": "scattergl",
         "x": [
          "2024-06-01"
         ],
         "xaxis": "x",
         "y": [
          12700000
         ],
         "yaxis": "y"
        },
        {
         "hovertemplate": "trackName=Welcome and Goodbye<br>date=%{x}<br>views=%{y}<extra></extra>",
         "legendgroup": "Welcome and Goodbye",
         "line": {
          "color": "#ab63fa",
          "dash": "solid"
         },
         "marker": {
          "symbol": "circle"
         },
         "mode": "lines+markers",
         "name": "Welcome and Goodbye",
         "showlegend": true,
         "type": "scattergl",
         "x": [
          "2024-06-01"
         ],
         "xaxis": "x",
         "y": [
          8600000
         ],
         "yaxis": "y"
        },
        {
         "hovertemplate": "trackName=Brokendate<br>date=%{x}<br>views=%{y}<extra></extra>",
         "legendgroup": "Brokendate",
         "line": {
          "color": "#FFA15A",
          "dash": "solid"
         },
         "marker": {
          "symbol": "circle"
         },
         "mode": "lines+markers",
         "name": "Brokendate",
         "showlegend": true,
         "type": "scattergl",
         "x": [
          "2024-06-02",
          "2024-06-03"
         ],
         "xaxis": "x",
         "y": [
          4100000,
          4200000
         ],
         "yaxis": "y"
        },
        {
         "hovertemplate": "trackName=Come and Get Your Love<br>date=%{x}<br>views=%{y}<extra></extra>",
         "legendgroup": "Come and Get Your Love",
         "line": {
          "color": "#19d3f3",
          "dash": "solid"
         },
         "marker": {
          "symbol": "circle"
         },
         "mode": "lines+markers",
         "name": "Come and Get Your Love",
         "showlegend": true,
         "type": "scattergl",
         "x": [
          "2024-06-02"
         ],
         "xaxis": "x",
         "y": [
          3900000
         ],
         "yaxis": "y"
        },
        {
         "hovertemplate": "trackName=Cry<br>date=%{x}<br>views=%{y}<extra></extra>",
         "legendgroup": "Cry",
         "line": {
          "color": "#FF6692",
          "dash": "solid"
         },
         "marker": {
          "symbol": "circle"
         },
         "mode": "lines+markers",
         "name": "Cry",
         "showlegend": true,
         "type": "scattergl",
         "x": [
          "2024-06-02",
          "2024-06-03",
          "2024-06-04"
         ],
         "xaxis": "x",
         "y": [
          17900000,
          36200000,
          18100000
         ],
         "yaxis": "y"
        },
        {
         "hovertemplate": "trackName=GraduradÃ¸<br>date=%{x}<br>views=%{y}<extra></extra>",
         "legendgroup": "GraduradÃ¸",
         "line": {
          "color": "#B6E880",
          "dash": "solid"
         },
         "marker": {
          "symbol": "circle"
         },
         "mode": "lines+markers",
         "name": "GraduradÃ¸",
         "showlegend": true,
         "type": "scattergl",
         "x": [
          "2024-06-02",
          "2024-06-03"
         ],
         "xaxis": "x",
         "y": [
          4100000,
          8200000
         ],
         "yaxis": "y"
        },
        {
         "hovertemplate": "trackName=I Bet on Losing Dogs<br>date=%{x}<br>views=%{y}<extra></extra>",
         "legendgroup": "I Bet on Losing Dogs",
         "line": {
          "color": "#FF97FF",
          "dash": "solid"
         },
         "marker": {
          "symbol": "circle"
         },
         "mode": "lines+markers",
         "name": "I Bet on Losing Dogs",
         "showlegend": true,
         "type": "scattergl",
         "x": [
          "2024-06-02"
         ],
         "xaxis": "x",
         "y": [
          24900000
         ],
         "yaxis": "y"
        },
        {
         "hovertemplate": "trackName=Me & U<br>date=%{x}<br>views=%{y}<extra></extra>",
         "legendgroup": "Me & U",
         "line": {
          "color": "#FECB52",
          "dash": "solid"
         },
         "marker": {
          "symbol": "circle"
         },
         "mode": "lines+markers",
         "name": "Me & U",
         "showlegend": true,
         "type": "scattergl",
         "x": [
          "2024-06-02",
          "2024-06-03",
          "2024-06-04",
          "2024-06-05"
         ],
         "xaxis": "x",
         "y": [
          53400000,
          17800000,
          17900000,
          17900000
         ],
         "yaxis": "y"
        },
        {
         "hovertemplate": "trackName=PIQUEZIN DOS CRIA<br>date=%{x}<br>views=%{y}<extra></extra>",
         "legendgroup": "PIQUEZIN DOS CRIA",
         "line": {
          "color": "#636efa",
          "dash": "solid"
         },
         "marker": {
          "symbol": "circle"
         },
         "mode": "lines+markers",
         "name": "PIQUEZIN DOS CRIA",
         "showlegend": true,
         "type": "scattergl",
         "x": [
          "2024-06-02",
          "2024-06-03"
         ],
         "xaxis": "x",
         "y": [
          11600000,
          23400000
         ],
         "yaxis": "y"
        },
        {
         "hovertemplate": "trackName=This Is What You Came For<br>date=%{x}<br>views=%{y}<extra></extra>",
         "legendgroup": "This Is What You Came For",
         "line": {
          "color": "#EF553B",
          "dash": "solid"
         },
         "marker": {
          "symbol": "circle"
         },
         "mode": "lines+markers",
         "name": "This Is What You Came For",
         "showlegend": true,
         "type": "scattergl",
         "x": [
          "2024-06-02"
         ],
         "xaxis": "x",
         "y": [
          8200000
         ],
         "yaxis": "y"
        },
        {
         "hovertemplate": "trackName=Trap Queen (Screwed and Chopped)<br>date=%{x}<br>views=%{y}<extra></extra>",
         "legendgroup": "Trap Queen (Screwed and Chopped)",
         "line": {
          "color": "#00cc96",
          "dash": "solid"
         },
         "marker": {
          "symbol": "circle"
         },
         "mode": "lines+markers",
         "name": "Trap Queen (Screwed and Chopped)",
         "showlegend": true,
         "type": "scattergl",
         "x": [
          "2024-06-02"
         ],
         "xaxis": "x",
         "y": [
          3100000
         ],
         "yaxis": "y"
        },
        {
         "hovertemplate": "trackName=Dreaming Of You<br>date=%{x}<br>views=%{y}<extra></extra>",
         "legendgroup": "Dreaming Of You",
         "line": {
          "color": "#ab63fa",
          "dash": "solid"
         },
         "marker": {
          "symbol": "circle"
         },
         "mode": "lines+markers",
         "name": "Dreaming Of You",
         "showlegend": true,
         "type": "scattergl",
         "x": [
          "2024-06-03"
         ],
         "xaxis": "x",
         "y": [
          3300000
         ],
         "yaxis": "y"
        },
        {
         "hovertemplate": "trackName=Espresso<br>date=%{x}<br>views=%{y}<extra></extra>",
         "legendgroup": "Espresso",
         "line": {
          "color": "#FFA15A",
          "dash": "solid"
         },
         "marker": {
          "symbol": "circle"
         },
         "mode": "lines+markers",
         "name": "Espresso",
         "showlegend": true,
         "type": "scattergl",
         "x": [
          "2024-06-03"
         ],
         "xaxis": "x",
         "y": [
          638800
         ],
         "yaxis": "y"
        },
        {
         "hovertemplate": "trackName=Feather<br>date=%{x}<br>views=%{y}<extra></extra>",
         "legendgroup": "Feather",
         "line": {
          "color": "#19d3f3",
          "dash": "solid"
         },
         "marker": {
          "symbol": "circle"
         },
         "mode": "lines+markers",
         "name": "Feather",
         "showlegend": true,
         "type": "scattergl",
         "x": [
          "2024-06-03"
         ],
         "xaxis": "x",
         "y": [
          427200
         ],
         "yaxis": "y"
        },
        {
         "hovertemplate": "trackName=Fortnight (feat. Post Malone)<br>date=%{x}<br>views=%{y}<extra></extra>",
         "legendgroup": "Fortnight (feat. Post Malone)",
         "line": {
          "color": "#FF6692",
          "dash": "solid"
         },
         "marker": {
          "symbol": "circle"
         },
         "mode": "lines+markers",
         "name": "Fortnight (feat. Post Malone)",
         "showlegend": true,
         "type": "scattergl",
         "x": [
          "2024-06-03"
         ],
         "xaxis": "x",
         "y": [
          2300000
         ],
         "yaxis": "y"
        },
        {
         "hovertemplate": "trackName=Nonsense<br>date=%{x}<br>views=%{y}<extra></extra>",
         "legendgroup": "Nonsense",
         "line": {
          "color": "#B6E880",
          "dash": "solid"
         },
         "marker": {
          "symbol": "circle"
         },
         "mode": "lines+markers",
         "name": "Nonsense",
         "showlegend": true,
         "type": "scattergl",
         "x": [
          "2024-06-03"
         ],
         "xaxis": "x",
         "y": [
          5052100
         ],
         "yaxis": "y"
        },
        {
         "hovertemplate": "trackName=Too Sweet<br>date=%{x}<br>views=%{y}<extra></extra>",
         "legendgroup": "Too Sweet",
         "line": {
          "color": "#FF97FF",
          "dash": "solid"
         },
         "marker": {
          "symbol": "circle"
         },
         "mode": "lines+markers",
         "name": "Too Sweet",
         "showlegend": true,
         "type": "scattergl",
         "x": [
          "2024-06-03"
         ],
         "xaxis": "x",
         "y": [
          10200000
         ],
         "yaxis": "y"
        },
        {
         "hovertemplate": "trackName=What Is Love<br>date=%{x}<br>views=%{y}<extra></extra>",
         "legendgroup": "What Is Love",
         "line": {
          "color": "#FECB52",
          "dash": "solid"
         },
         "marker": {
          "symbol": "circle"
         },
         "mode": "lines+markers",
         "name": "What Is Love",
         "showlegend": true,
         "type": "scattergl",
         "x": [
          "2024-06-03"
         ],
         "xaxis": "x",
         "y": [
          8400000
         ],
         "yaxis": "y"
        },
        {
         "hovertemplate": "trackName=Come Back Eventually<br>date=%{x}<br>views=%{y}<extra></extra>",
         "legendgroup": "Come Back Eventually",
         "line": {
          "color": "#636efa",
          "dash": "solid"
         },
         "marker": {
          "symbol": "circle"
         },
         "mode": "lines+markers",
         "name": "Come Back Eventually",
         "showlegend": true,
         "type": "scattergl",
         "x": [
          "2024-06-04"
         ],
         "xaxis": "x",
         "y": [
          5500000
         ],
         "yaxis": "y"
        },
        {
         "hovertemplate": "trackName=Come Through<br>date=%{x}<br>views=%{y}<extra></extra>",
         "legendgroup": "Come Through",
         "line": {
          "color": "#EF553B",
          "dash": "solid"
         },
         "marker": {
          "symbol": "circle"
         },
         "mode": "lines+markers",
         "name": "Come Through",
         "showlegend": true,
         "type": "scattergl",
         "x": [
          "2024-06-04"
         ],
         "xaxis": "x",
         "y": [
          9700000
         ],
         "yaxis": "y"
        },
        {
         "hovertemplate": "trackName=Death Is No More<br>date=%{x}<br>views=%{y}<extra></extra>",
         "legendgroup": "Death Is No More",
         "line": {
          "color": "#00cc96",
          "dash": "solid"
         },
         "marker": {
          "symbol": "circle"
         },
         "mode": "lines+markers",
         "name": "Death Is No More",
         "showlegend": true,
         "type": "scattergl",
         "x": [
          "2024-06-04"
         ],
         "xaxis": "x",
         "y": [
          2100000
         ],
         "yaxis": "y"
        },
        {
         "hovertemplate": "trackName=El Patito Juan<br>date=%{x}<br>views=%{y}<extra></extra>",
         "legendgroup": "El Patito Juan",
         "line": {
          "color": "#ab63fa",
          "dash": "solid"
         },
         "marker": {
          "symbol": "circle"
         },
         "mode": "lines+markers",
         "name": "El Patito Juan",
         "showlegend": true,
         "type": "scattergl",
         "x": [
          "2024-06-04"
         ],
         "xaxis": "x",
         "y": [
          1300000
         ],
         "yaxis": "y"
        },
        {
         "hovertemplate": "trackName=Feel Like God<br>date=%{x}<br>views=%{y}<extra></extra>",
         "legendgroup": "Feel Like God",
         "line": {
          "color": "#FFA15A",
          "dash": "solid"
         },
         "marker": {
          "symbol": "circle"
         },
         "mode": "lines+markers",
         "name": "Feel Like God",
         "showlegend": true,
         "type": "scattergl",
         "x": [
          "2024-06-04",
          "2024-06-05"
         ],
         "xaxis": "x",
         "y": [
          2100000,
          2100000
         ],
         "yaxis": "y"
        },
        {
         "hovertemplate": "trackName=Gilded Lily<br>date=%{x}<br>views=%{y}<extra></extra>",
         "legendgroup": "Gilded Lily",
         "line": {
          "color": "#19d3f3",
          "dash": "solid"
         },
         "marker": {
          "symbol": "circle"
         },
         "mode": "lines+markers",
         "name": "Gilded Lily",
         "showlegend": true,
         "type": "scattergl",
         "x": [
          "2024-06-04"
         ],
         "xaxis": "x",
         "y": [
          9800000
         ],
         "yaxis": "y"
        },
        {
         "hovertemplate": "trackName=Madoromi<br>date=%{x}<br>views=%{y}<extra></extra>",
         "legendgroup": "Madoromi",
         "line": {
          "color": "#FF6692",
          "dash": "solid"
         },
         "marker": {
          "symbol": "circle"
         },
         "mode": "lines+markers",
         "name": "Madoromi",
         "showlegend": true,
         "type": "scattergl",
         "x": [
          "2024-06-04",
          "2024-06-08",
          "2024-06-09",
          "2024-06-10",
          "2024-06-11"
         ],
         "xaxis": "x",
         "y": [
          1100000,
          14000000,
          45300000,
          28200000,
          3300000
         ],
         "yaxis": "y"
        },
        {
         "hovertemplate": "trackName=Margaret (feat. Bleachers)<br>date=%{x}<br>views=%{y}<extra></extra>",
         "legendgroup": "Margaret (feat. Bleachers)",
         "line": {
          "color": "#B6E880",
          "dash": "solid"
         },
         "marker": {
          "symbol": "circle"
         },
         "mode": "lines+markers",
         "name": "Margaret (feat. Bleachers)",
         "showlegend": true,
         "type": "scattergl",
         "x": [
          "2024-06-04"
         ],
         "xaxis": "x",
         "y": [
          7200000
         ],
         "yaxis": "y"
        },
        {
         "hovertemplate": "trackName=Mr Pot Scraper<br>date=%{x}<br>views=%{y}<extra></extra>",
         "legendgroup": "Mr Pot Scraper",
         "line": {
          "color": "#FF97FF",
          "dash": "solid"
         },
         "marker": {
          "symbol": "circle"
         },
         "mode": "lines+markers",
         "name": "Mr Pot Scraper",
         "showlegend": true,
         "type": "scattergl",
         "x": [
          "2024-06-04"
         ],
         "xaxis": "x",
         "y": [
          5200000
         ],
         "yaxis": "y"
        },
        {
         "hovertemplate": "trackName=No More Panic<br>date=%{x}<br>views=%{y}<extra></extra>",
         "legendgroup": "No More Panic",
         "line": {
          "color": "#FECB52",
          "dash": "solid"
         },
         "marker": {
          "symbol": "circle"
         },
         "mode": "lines+markers",
         "name": "No More Panic",
         "showlegend": true,
         "type": "scattergl",
         "x": [
          "2024-06-04",
          "2024-06-07"
         ],
         "xaxis": "x",
         "y": [
          10700000,
          10800000
         ],
         "yaxis": "y"
        },
        {
         "hovertemplate": "trackName=Not Like Us<br>date=%{x}<br>views=%{y}<extra></extra>",
         "legendgroup": "Not Like Us",
         "line": {
          "color": "#636efa",
          "dash": "solid"
         },
         "marker": {
          "symbol": "circle"
         },
         "mode": "lines+markers",
         "name": "Not Like Us",
         "showlegend": true,
         "type": "scattergl",
         "x": [
          "2024-06-04",
          "2024-06-10",
          "2024-06-26"
         ],
         "xaxis": "x",
         "y": [
          35400000,
          4900000,
          23500000
         ],
         "yaxis": "y"
        },
        {
         "hovertemplate": "trackName=PRIDE.<br>date=%{x}<br>views=%{y}<extra></extra>",
         "legendgroup": "PRIDE.",
         "line": {
          "color": "#EF553B",
          "dash": "solid"
         },
         "marker": {
          "symbol": "circle"
         },
         "mode": "lines+markers",
         "name": "PRIDE.",
         "showlegend": true,
         "type": "scattergl",
         "x": [
          "2024-06-04",
          "2024-06-05",
          "2024-06-06"
         ],
         "xaxis": "x",
         "y": [
          1300000,
          0,
          2800000
         ],
         "yaxis": "y"
        },
        {
         "hovertemplate": "trackName=Prom Queen<br>date=%{x}<br>views=%{y}<extra></extra>",
         "legendgroup": "Prom Queen",
         "line": {
          "color": "#00cc96",
          "dash": "solid"
         },
         "marker": {
          "symbol": "circle"
         },
         "mode": "lines+markers",
         "name": "Prom Queen",
         "showlegend": true,
         "type": "scattergl",
         "x": [
          "2024-06-04"
         ],
         "xaxis": "x",
         "y": [
          2900000
         ],
         "yaxis": "y"
        },
        {
         "hovertemplate": "trackName=SOS<br>date=%{x}<br>views=%{y}<extra></extra>",
         "legendgroup": "SOS",
         "line": {
          "color": "#ab63fa",
          "dash": "solid"
         },
         "marker": {
          "symbol": "circle"
         },
         "mode": "lines+markers",
         "name": "SOS",
         "showlegend": true,
         "type": "scattergl",
         "x": [
          "2024-06-04"
         ],
         "xaxis": "x",
         "y": [
          4400000
         ],
         "yaxis": "y"
        },
        {
         "hovertemplate": "trackName=Someone You Loved<br>date=%{x}<br>views=%{y}<extra></extra>",
         "legendgroup": "Someone You Loved",
         "line": {
          "color": "#FFA15A",
          "dash": "solid"
         },
         "marker": {
          "symbol": "circle"
         },
         "mode": "lines+markers",
         "name": "Someone You Loved",
         "showlegend": true,
         "type": "scattergl",
         "x": [
          "2024-06-04"
         ],
         "xaxis": "x",
         "y": [
          5000000
         ],
         "yaxis": "y"
        },
        {
         "hovertemplate": "trackName=watch<br>date=%{x}<br>views=%{y}<extra></extra>",
         "legendgroup": "watch",
         "line": {
          "color": "#19d3f3",
          "dash": "solid"
         },
         "marker": {
          "symbol": "circle"
         },
         "mode": "lines+markers",
         "name": "watch",
         "showlegend": true,
         "type": "scattergl",
         "x": [
          "2024-06-04"
         ],
         "xaxis": "x",
         "y": [
          9300000
         ],
         "yaxis": "y"
        },
        {
         "hovertemplate": "trackName=Back On 74<br>date=%{x}<br>views=%{y}<extra></extra>",
         "legendgroup": "Back On 74",
         "line": {
          "color": "#FF6692",
          "dash": "solid"
         },
         "marker": {
          "symbol": "circle"
         },
         "mode": "lines+markers",
         "name": "Back On 74",
         "showlegend": true,
         "type": "scattergl",
         "x": [
          "2024-06-05"
         ],
         "xaxis": "x",
         "y": [
          1200000
         ],
         "yaxis": "y"
        },
        {
         "hovertemplate": "trackName=Become the Warm Jets<br>date=%{x}<br>views=%{y}<extra></extra>",
         "legendgroup": "Become the Warm Jets",
         "line": {
          "color": "#B6E880",
          "dash": "solid"
         },
         "marker": {
          "symbol": "circle"
         },
         "mode": "lines+markers",
         "name": "Become the Warm Jets",
         "showlegend": true,
         "type": "scattergl",
         "x": [
          "2024-06-05"
         ],
         "xaxis": "x",
         "y": [
          6800000
         ],
         "yaxis": "y"
        },
        {
         "hovertemplate": "trackName=Gata Only<br>date=%{x}<br>views=%{y}<extra></extra>",
         "legendgroup": "Gata Only",
         "line": {
          "color": "#FF97FF",
          "dash": "solid"
         },
         "marker": {
          "symbol": "circle"
         },
         "mode": "lines+markers",
         "name": "Gata Only",
         "showlegend": true,
         "type": "scattergl",
         "x": [
          "2024-06-05",
          "2024-06-06",
          "2024-06-07",
          "2024-06-08",
          "2024-06-16",
          "2024-06-18"
         ],
         "xaxis": "x",
         "y": [
          38600000,
          38800000,
          77800000,
          39000000,
          41300000,
          41600000
         ],
         "yaxis": "y"
        },
        {
         "hovertemplate": "trackName=High Fashion (feat. Mustard)<br>date=%{x}<br>views=%{y}<extra></extra>",
         "legendgroup": "High Fashion (feat. Mustard)",
         "line": {
          "color": "#FECB52",
          "dash": "solid"
         },
         "marker": {
          "symbol": "circle"
         },
         "mode": "lines+markers",
         "name": "High Fashion (feat. Mustard)",
         "showlegend": true,
         "type": "scattergl",
         "x": [
          "2024-06-05"
         ],
         "xaxis": "x",
         "y": [
          1500000
         ],
         "yaxis": "y"
        },
        {
         "hovertemplate": "trackName=I Don't Mind<br>date=%{x}<br>views=%{y}<extra></extra>",
         "legendgroup": "I Don't Mind",
         "line": {
          "color": "#636efa",
          "dash": "solid"
         },
         "marker": {
          "symbol": "circle"
         },
         "mode": "lines+markers",
         "name": "I Don't Mind",
         "showlegend": true,
         "type": "scattergl",
         "x": [
          "2024-06-05"
         ],
         "xaxis": "x",
         "y": [
          680400
         ],
         "yaxis": "y"
        },
        {
         "hovertemplate": "trackName=Let Me Down Slowly (æé³ç­æ­)<br>date=%{x}<br>views=%{y}<extra></extra>",
         "legendgroup": "Let Me Down Slowly (æé³ç­æ­)",
         "line": {
          "color": "#EF553B",
          "dash": "solid"
         },
         "marker": {
          "symbol": "circle"
         },
         "mode": "lines+markers",
         "name": "Let Me Down Slowly (æé³ç­æ­)",
         "showlegend": true,
         "type": "scattergl",
         "x": [
          "2024-06-05"
         ],
         "xaxis": "x",
         "y": [
          2500000
         ],
         "yaxis": "y"
        },
        {
         "hovertemplate": "trackName=Los pollos hermanos<br>date=%{x}<br>views=%{y}<extra></extra>",
         "legendgroup": "Los pollos hermanos",
         "line": {
          "color": "#00cc96",
          "dash": "solid"
         },
         "marker": {
          "symbol": "circle"
         },
         "mode": "lines+markers",
         "name": "Los pollos hermanos",
         "showlegend": true,
         "type": "scattergl",
         "x": [
          "2024-06-05"
         ],
         "xaxis": "x",
         "y": [
          1800000
         ],
         "yaxis": "y"
        },
        {
         "hovertemplate": "trackName=Play Party<br>date=%{x}<br>views=%{y}<extra></extra>",
         "legendgroup": "Play Party",
         "line": {
          "color": "#ab63fa",
          "dash": "solid"
         },
         "marker": {
          "symbol": "circle"
         },
         "mode": "lines+markers",
         "name": "Play Party",
         "showlegend": true,
         "type": "scattergl",
         "x": [
          "2024-06-05"
         ],
         "xaxis": "x",
         "y": [
          2300000
         ],
         "yaxis": "y"
        },
        {
         "hovertemplate": "trackName=Poker Face<br>date=%{x}<br>views=%{y}<extra></extra>",
         "legendgroup": "Poker Face",
         "line": {
          "color": "#FFA15A",
          "dash": "solid"
         },
         "marker": {
          "symbol": "circle"
         },
         "mode": "lines+markers",
         "name": "Poker Face",
         "showlegend": true,
         "type": "scattergl",
         "x": [
          "2024-06-05"
         ],
         "xaxis": "x",
         "y": [
          24600000
         ],
         "yaxis": "y"
        },
        {
         "hovertemplate": "trackName=Ridin' Dirty<br>date=%{x}<br>views=%{y}<extra></extra>",
         "legendgroup": "Ridin' Dirty",
         "line": {
          "color": "#19d3f3",
          "dash": "solid"
         },
         "marker": {
          "symbol": "circle"
         },
         "mode": "lines+markers",
         "name": "Ridin' Dirty",
         "showlegend": true,
         "type": "scattergl",
         "x": [
          "2024-06-05"
         ],
         "xaxis": "x",
         "y": [
          1300000
         ],
         "yaxis": "y"
        },
        {
         "hovertemplate": "trackName=Until I Found You (Em Beihold Version)<br>date=%{x}<br>views=%{y}<extra></extra>",
         "legendgroup": "Until I Found You (Em Beihold Version)",
         "line": {
          "color": "#FF6692",
          "dash": "solid"
         },
         "marker": {
          "symbol": "circle"
         },
         "mode": "lines+markers",
         "name": "Until I Found You (Em Beihold Version)",
         "showlegend": true,
         "type": "scattergl",
         "x": [
          "2024-06-05"
         ],
         "xaxis": "x",
         "y": [
          14600000
         ],
         "yaxis": "y"
        },
        {
         "hovertemplate": "trackName=Wind Up Missinâ You<br>date=%{x}<br>views=%{y}<extra></extra>",
         "legendgroup": "Wind Up Missinâ You",
         "line": {
          "color": "#B6E880",
          "dash": "solid"
         },
         "marker": {
          "symbol": "circle"
         },
         "mode": "lines+markers",
         "name": "Wind Up Missinâ You",
         "showlegend": true,
         "type": "scattergl",
         "x": [
          "2024-06-05"
         ],
         "xaxis": "x",
         "y": [
          13700000
         ],
         "yaxis": "y"
        },
        {
         "hovertemplate": "trackName=â»H+3+Ð¯Ðâ»7luCJIo0T6...<br>date=%{x}<br>views=%{y}<extra></extra>",
         "legendgroup": "â»H+3+Ð¯Ðâ»7luCJIo0T6...",
         "line": {
          "color": "#FF97FF",
          "dash": "solid"
         },
         "marker": {
          "symbol": "circle"
         },
         "mode": "lines+markers",
         "name": "â»H+3+Ð¯Ðâ»7luCJIo0T6...",
         "showlegend": true,
         "type": "scattergl",
         "x": [
          "2024-06-05"
         ],
         "xaxis": "x",
         "y": [
          1100000
         ],
         "yaxis": "y"
        },
        {
         "hovertemplate": "trackName=9am In Calabasas<br>date=%{x}<br>views=%{y}<extra></extra>",
         "legendgroup": "9am In Calabasas",
         "line": {
          "color": "#FECB52",
          "dash": "solid"
         },
         "marker": {
          "symbol": "circle"
         },
         "mode": "lines+markers",
         "name": "9am In Calabasas",
         "showlegend": true,
         "type": "scattergl",
         "x": [
          "2024-06-06"
         ],
         "xaxis": "x",
         "y": [
          3300000
         ],
         "yaxis": "y"
        },
        {
         "hovertemplate": "trackName=A Kid Named Charlie<br>date=%{x}<br>views=%{y}<extra></extra>",
         "legendgroup": "A Kid Named Charlie",
         "line": {
          "color": "#636efa",
          "dash": "solid"
         },
         "marker": {
          "symbol": "circle"
         },
         "mode": "lines+markers",
         "name": "A Kid Named Charlie",
         "showlegend": true,
         "type": "scattergl",
         "x": [
          "2024-06-06"
         ],
         "xaxis": "x",
         "y": [
          992600
         ],
         "yaxis": "y"
        },
        {
         "hovertemplate": "trackName=Barbie World (with Aqua) [From Barbie The Album]<br>date=%{x}<br>views=%{y}<extra></extra>",
         "legendgroup": "Barbie World (with Aqua) [From Barbie The Album]",
         "line": {
          "color": "#EF553B",
          "dash": "solid"
         },
         "marker": {
          "symbol": "circle"
         },
         "mode": "lines+markers",
         "name": "Barbie World (with Aqua) [From Barbie The Album]",
         "showlegend": true,
         "type": "scattergl",
         "x": [
          "2024-06-06",
          "2024-06-07",
          "2024-06-16",
          "2024-06-18"
         ],
         "xaxis": "x",
         "y": [
          17700000,
          35600000,
          18600000,
          18800000
         ],
         "yaxis": "y"
        },
        {
         "hovertemplate": "trackName=Cupid - Twin Ver.<br>date=%{x}<br>views=%{y}<extra></extra>",
         "legendgroup": "Cupid - Twin Ver.",
         "line": {
          "color": "#00cc96",
          "dash": "solid"
         },
         "marker": {
          "symbol": "circle"
         },
         "mode": "lines+markers",
         "name": "Cupid - Twin Ver.",
         "showlegend": true,
         "type": "scattergl",
         "x": [
          "2024-06-06",
          "2024-06-10",
          "2024-06-19",
          "2024-06-20",
          "2024-06-24"
         ],
         "xaxis": "x",
         "y": [
          12800000,
          13200000,
          13800000,
          13900000,
          19000000
         ],
         "yaxis": "y"
        },
        {
         "hovertemplate": "trackName=Dear Future Husband<br>date=%{x}<br>views=%{y}<extra></extra>",
         "legendgroup": "Dear Future Husband",
         "line": {
          "color": "#ab63fa",
          "dash": "solid"
         },
         "marker": {
          "symbol": "circle"
         },
         "mode": "lines+markers",
         "name": "Dear Future Husband",
         "showlegend": true,
         "type": "scattergl",
         "x": [
          "2024-06-06"
         ],
         "xaxis": "x",
         "y": [
          16100000
         ],
         "yaxis": "y"
        },
        {
         "hovertemplate": "trackName=Golden Hour<br>date=%{x}<br>views=%{y}<extra></extra>",
         "legendgroup": "Golden Hour",
         "line": {
          "color": "#FFA15A",
          "dash": "solid"
         },
         "marker": {
          "symbol": "circle"
         },
         "mode": "lines+markers",
         "name": "Golden Hour",
         "showlegend": true,
         "type": "scattergl",
         "x": [
          "2024-06-06",
          "2024-06-11"
         ],
         "xaxis": "x",
         "y": [
          41000000,
          88800000
         ],
         "yaxis": "y"
        },
        {
         "hovertemplate": "trackName=Horrified<br>date=%{x}<br>views=%{y}<extra></extra>",
         "legendgroup": "Horrified",
         "line": {
          "color": "#19d3f3",
          "dash": "solid"
         },
         "marker": {
          "symbol": "circle"
         },
         "mode": "lines+markers",
         "name": "Horrified",
         "showlegend": true,
         "type": "scattergl",
         "x": [
          "2024-06-06",
          "2024-06-07"
         ],
         "xaxis": "x",
         "y": [
          8200000,
          16600000
         ],
         "yaxis": "y"
        },
        {
         "hovertemplate": "trackName=How to Save a Life<br>date=%{x}<br>views=%{y}<extra></extra>",
         "legendgroup": "How to Save a Life",
         "line": {
          "color": "#FF6692",
          "dash": "solid"
         },
         "marker": {
          "symbol": "circle"
         },
         "mode": "lines+markers",
         "name": "How to Save a Life",
         "showlegend": true,
         "type": "scattergl",
         "x": [
          "2024-06-06",
          "2024-06-08"
         ],
         "xaxis": "x",
         "y": [
          161300000,
          161600000
         ],
         "yaxis": "y"
        },
        {
         "hovertemplate": "trackName=Jump In, The Atmosphere Is Fine<br>date=%{x}<br>views=%{y}<extra></extra>",
         "legendgroup": "Jump In, The Atmosphere Is Fine",
         "line": {
          "color": "#B6E880",
          "dash": "solid"
         },
         "marker": {
          "symbol": "circle"
         },
         "mode": "lines+markers",
         "name": "Jump In, The Atmosphere Is Fine",
         "showlegend": true,
         "type": "scattergl",
         "x": [
          "2024-06-06",
          "2024-06-08",
          "2024-06-10"
         ],
         "xaxis": "x",
         "y": [
          3000000,
          3100000,
          3300000
         ],
         "yaxis": "y"
        },
        {
         "hovertemplate": "trackName=Kaboom<br>date=%{x}<br>views=%{y}<extra></extra>",
         "legendgroup": "Kaboom",
         "line": {
          "color": "#FF97FF",
          "dash": "solid"
         },
         "marker": {
          "symbol": "circle"
         },
         "mode": "lines+markers",
         "name": "Kaboom",
         "showlegend": true,
         "type": "scattergl",
         "x": [
          "2024-06-06"
         ],
         "xaxis": "x",
         "y": [
          23100000
         ],
         "yaxis": "y"
        },
        {
         "hovertemplate": "trackName=Me Gustas Tu<br>date=%{x}<br>views=%{y}<extra></extra>",
         "legendgroup": "Me Gustas Tu",
         "line": {
          "color": "#FECB52",
          "dash": "solid"
         },
         "marker": {
          "symbol": "circle"
         },
         "mode": "lines+markers",
         "name": "Me Gustas Tu",
         "showlegend": true,
         "type": "scattergl",
         "x": [
          "2024-06-06"
         ],
         "xaxis": "x",
         "y": [
          13200000
         ],
         "yaxis": "y"
        },
        {
         "hovertemplate": "trackName=Pacify Her<br>date=%{x}<br>views=%{y}<extra></extra>",
         "legendgroup": "Pacify Her",
         "line": {
          "color": "#636efa",
          "dash": "solid"
         },
         "marker": {
          "symbol": "circle"
         },
         "mode": "lines+markers",
         "name": "Pacify Her",
         "showlegend": true,
         "type": "scattergl",
         "x": [
          "2024-06-06",
          "2024-06-13",
          "2024-06-19",
          "2024-06-20",
          "2024-06-21",
          "2024-06-24"
         ],
         "xaxis": "x",
         "y": [
          8700000,
          18800000,
          10500000,
          10500000,
          10600000,
          10800000
         ],
         "yaxis": "y"
        },
        {
         "hovertemplate": "trackName=Poison Tree<br>date=%{x}<br>views=%{y}<extra></extra>",
         "legendgroup": "Poison Tree",
         "line": {
          "color": "#EF553B",
          "dash": "solid"
         },
         "marker": {
          "symbol": "circle"
         },
         "mode": "lines+markers",
         "name": "Poison Tree",
         "showlegend": true,
         "type": "scattergl",
         "x": [
          "2024-06-06",
          "2024-06-08",
          "2024-06-09",
          "2024-06-18"
         ],
         "xaxis": "x",
         "y": [
          3300000,
          3400000,
          3400000,
          3600000
         ],
         "yaxis": "y"
        },
        {
         "hovertemplate": "trackName=Ridin' the Sunflower Bus<br>date=%{x}<br>views=%{y}<extra></extra>",
         "legendgroup": "Ridin' the Sunflower Bus",
         "line": {
          "color": "#00cc96",
          "dash": "solid"
         },
         "marker": {
          "symbol": "circle"
         },
         "mode": "lines+markers",
         "name": "Ridin' the Sunflower Bus",
         "showlegend": true,
         "type": "scattergl",
         "x": [
          "2024-06-06",
          "2024-06-07"
         ],
         "xaxis": "x",
         "y": [
          4800000,
          9600000
         ],
         "yaxis": "y"
        },
        {
         "hovertemplate": "trackName=Snowfall<br>date=%{x}<br>views=%{y}<extra></extra>",
         "legendgroup": "Snowfall",
         "line": {
          "color": "#ab63fa",
          "dash": "solid"
         },
         "marker": {
          "symbol": "circle"
         },
         "mode": "lines+markers",
         "name": "Snowfall",
         "showlegend": true,
         "type": "scattergl",
         "x": [
          "2024-06-06",
          "2024-06-09"
         ],
         "xaxis": "x",
         "y": [
          4500000,
          4700000
         ],
         "yaxis": "y"
        },
        {
         "hovertemplate": "trackName=That's Just My Baby Dog<br>date=%{x}<br>views=%{y}<extra></extra>",
         "legendgroup": "That's Just My Baby Dog",
         "line": {
          "color": "#FFA15A",
          "dash": "solid"
         },
         "marker": {
          "symbol": "circle"
         },
         "mode": "lines+markers",
         "name": "That's Just My Baby Dog",
         "showlegend": true,
         "type": "scattergl",
         "x": [
          "2024-06-06",
          "2024-06-10"
         ],
         "xaxis": "x",
         "y": [
          22200000,
          15000000
         ],
         "yaxis": "y"
        },
        {
         "hovertemplate": "trackName=Wet Hands<br>date=%{x}<br>views=%{y}<extra></extra>",
         "legendgroup": "Wet Hands",
         "line": {
          "color": "#19d3f3",
          "dash": "solid"
         },
         "marker": {
          "symbol": "circle"
         },
         "mode": "lines+markers",
         "name": "Wet Hands",
         "showlegend": true,
         "type": "scattergl",
         "x": [
          "2024-06-06",
          "2024-06-07",
          "2024-06-09",
          "2024-06-10"
         ],
         "xaxis": "x",
         "y": [
          37100000,
          74200000,
          37100000,
          37100000
         ],
         "yaxis": "y"
        },
        {
         "hovertemplate": "trackName=All In<br>date=%{x}<br>views=%{y}<extra></extra>",
         "legendgroup": "All In",
         "line": {
          "color": "#FF6692",
          "dash": "solid"
         },
         "marker": {
          "symbol": "circle"
         },
         "mode": "lines+markers",
         "name": "All In",
         "showlegend": true,
         "type": "scattergl",
         "x": [
          "2024-06-07",
          "2024-06-08",
          "2024-06-09"
         ],
         "xaxis": "x",
         "y": [
          32600000,
          49200000,
          16600000
         ],
         "yaxis": "y"
        },
        {
         "hovertemplate": "trackName=Cannabis & Anime<br>date=%{x}<br>views=%{y}<extra></extra>",
         "legendgroup": "Cannabis & Anime",
         "line": {
          "color": "#B6E880",
          "dash": "solid"
         },
         "marker": {
          "symbol": "circle"
         },
         "mode": "lines+markers",
         "name": "Cannabis & Anime",
         "showlegend": true,
         "type": "scattergl",
         "x": [
          "2024-06-07"
         ],
         "xaxis": "x",
         "y": [
          5200000
         ],
         "yaxis": "y"
        },
        {
         "hovertemplate": "trackName=Chemical Reaction<br>date=%{x}<br>views=%{y}<extra></extra>",
         "legendgroup": "Chemical Reaction",
         "line": {
          "color": "#FF97FF",
          "dash": "solid"
         },
         "marker": {
          "symbol": "circle"
         },
         "mode": "lines+markers",
         "name": "Chemical Reaction",
         "showlegend": true,
         "type": "scattergl",
         "x": [
          "2024-06-07"
         ],
         "xaxis": "x",
         "y": [
          33000000
         ],
         "yaxis": "y"
        },
        {
         "hovertemplate": "trackName=Holidae In (feat. Ludacris & Snoop Dogg)<br>date=%{x}<br>views=%{y}<extra></extra>",
         "legendgroup": "Holidae In (feat. Ludacris & Snoop Dogg)",
         "line": {
          "color": "#FECB52",
          "dash": "solid"
         },
         "marker": {
          "symbol": "circle"
         },
         "mode": "lines+markers",
         "name": "Holidae In (feat. Ludacris & Snoop Dogg)",
         "showlegend": true,
         "type": "scattergl",
         "x": [
          "2024-06-07",
          "2024-06-09",
          "2024-06-11"
         ],
         "xaxis": "x",
         "y": [
          47000000,
          23600000,
          23700000
         ],
         "yaxis": "y"
        },
        {
         "hovertemplate": "trackName=Morsmordre<br>date=%{x}<br>views=%{y}<extra></extra>",
         "legendgroup": "Morsmordre",
         "line": {
          "color": "#636efa",
          "dash": "solid"
         },
         "marker": {
          "symbol": "circle"
         },
         "mode": "lines+markers",
         "name": "Morsmordre",
         "showlegend": true,
         "type": "scattergl",
         "x": [
          "2024-06-07",
          "2024-06-09",
          "2024-06-13",
          "2024-06-16",
          "2024-06-17",
          "2024-06-21",
          "2024-06-25"
         ],
         "xaxis": "x",
         "y": [
          26800000,
          50900000,
          45200000,
          59500000,
          16600000,
          46200000,
          26900000
         ],
         "yaxis": "y"
        },
        {
         "hovertemplate": "trackName=Sea Shanty Medley<br>date=%{x}<br>views=%{y}<extra></extra>",
         "legendgroup": "Sea Shanty Medley",
         "line": {
          "color": "#EF553B",
          "dash": "solid"
         },
         "marker": {
          "symbol": "circle"
         },
         "mode": "lines+markers",
         "name": "Sea Shanty Medley",
         "showlegend": true,
         "type": "scattergl",
         "x": [
          "2024-06-07"
         ],
         "xaxis": "x",
         "y": [
          1900000
         ],
         "yaxis": "y"
        },
        {
         "hovertemplate": "trackName=Solitude (Felsmann + Tiley Reinterpretation)<br>date=%{x}<br>views=%{y}<extra></extra>",
         "legendgroup": "Solitude (Felsmann + Tiley Reinterpretation)",
         "line": {
          "color": "#00cc96",
          "dash": "solid"
         },
         "marker": {
          "symbol": "circle"
         },
         "mode": "lines+markers",
         "name": "Solitude (Felsmann + Tiley Reinterpretation)",
         "showlegend": true,
         "type": "scattergl",
         "x": [
          "2024-06-07"
         ],
         "xaxis": "x",
         "y": [
          5000000
         ],
         "yaxis": "y"
        },
        {
         "hovertemplate": "trackName=The Boy Who Harnessed the Wind<br>date=%{x}<br>views=%{y}<extra></extra>",
         "legendgroup": "The Boy Who Harnessed the Wind",
         "line": {
          "color": "#ab63fa",
          "dash": "solid"
         },
         "marker": {
          "symbol": "circle"
         },
         "mode": "lines+markers",
         "name": "The Boy Who Harnessed the Wind",
         "showlegend": true,
         "type": "scattergl",
         "x": [
          "2024-06-07",
          "2024-06-17",
          "2024-06-22"
         ],
         "xaxis": "x",
         "y": [
          15100000,
          99900000,
          104000000
         ],
         "yaxis": "y"
        },
        {
         "hovertemplate": "trackName=The Illusion of Choosing<br>date=%{x}<br>views=%{y}<extra></extra>",
         "legendgroup": "The Illusion of Choosing",
         "line": {
          "color": "#FFA15A",
          "dash": "solid"
         },
         "marker": {
          "symbol": "circle"
         },
         "mode": "lines+markers",
         "name": "The Illusion of Choosing",
         "showlegend": true,
         "type": "scattergl",
         "x": [
          "2024-06-07",
          "2024-06-09"
         ],
         "xaxis": "x",
         "y": [
          4800000,
          4900000
         ],
         "yaxis": "y"
        },
        {
         "hovertemplate": "trackName=The Last Goodbye...<br>date=%{x}<br>views=%{y}<extra></extra>",
         "legendgroup": "The Last Goodbye...",
         "line": {
          "color": "#19d3f3",
          "dash": "solid"
         },
         "marker": {
          "symbol": "circle"
         },
         "mode": "lines+markers",
         "name": "The Last Goodbye...",
         "showlegend": true,
         "type": "scattergl",
         "x": [
          "2024-06-07",
          "2024-06-09",
          "2024-06-12",
          "2024-06-21",
          "2024-06-25"
         ],
         "xaxis": "x",
         "y": [
          49600000,
          25100000,
          25800000,
          26800000,
          27100000
         ],
         "yaxis": "y"
        },
        {
         "hovertemplate": "trackName=i was only temporary<br>date=%{x}<br>views=%{y}<extra></extra>",
         "legendgroup": "i was only temporary",
         "line": {
          "color": "#FF6692",
          "dash": "solid"
         },
         "marker": {
          "symbol": "circle"
         },
         "mode": "lines+markers",
         "name": "i was only temporary",
         "showlegend": true,
         "type": "scattergl",
         "x": [
          "2024-06-07",
          "2024-06-09",
          "2024-06-12",
          "2024-06-15",
          "2024-06-21",
          "2024-06-25"
         ],
         "xaxis": "x",
         "y": [
          49600000,
          25100000,
          25800000,
          7600000,
          26800000,
          27100000
         ],
         "yaxis": "y"
        },
        {
         "hovertemplate": "trackName=Moonlite Love<br>date=%{x}<br>views=%{y}<extra></extra>",
         "legendgroup": "Moonlite Love",
         "line": {
          "color": "#B6E880",
          "dash": "solid"
         },
         "marker": {
          "symbol": "circle"
         },
         "mode": "lines+markers",
         "name": "Moonlite Love",
         "showlegend": true,
         "type": "scattergl",
         "x": [
          "2024-06-08",
          "2024-06-19"
         ],
         "xaxis": "x",
         "y": [
          12300000,
          13200000
         ],
         "yaxis": "y"
        },
        {
         "hovertemplate": "trackName=Stay Ready (What a Life) [feat. Kendrick Lamar]<br>date=%{x}<br>views=%{y}<extra></extra>",
         "legendgroup": "Stay Ready (What a Life) [feat. Kendrick Lamar]",
         "line": {
          "color": "#FF97FF",
          "dash": "solid"
         },
         "marker": {
          "symbol": "circle"
         },
         "mode": "lines+markers",
         "name": "Stay Ready (What a Life) [feat. Kendrick Lamar]",
         "showlegend": true,
         "type": "scattergl",
         "x": [
          "2024-06-08",
          "2024-06-09",
          "2024-06-12",
          "2024-06-17"
         ],
         "xaxis": "x",
         "y": [
          11800000,
          11900000,
          29400000,
          15000000
         ],
         "yaxis": "y"
        },
        {
         "hovertemplate": "trackName=Tshwala Bam (feat. S.N.E, EeQue)<br>date=%{x}<br>views=%{y}<extra></extra>",
         "legendgroup": "Tshwala Bam (feat. S.N.E, EeQue)",
         "line": {
          "color": "#FECB52",
          "dash": "solid"
         },
         "marker": {
          "symbol": "circle"
         },
         "mode": "lines+markers",
         "name": "Tshwala Bam (feat. S.N.E, EeQue)",
         "showlegend": true,
         "type": "scattergl",
         "x": [
          "2024-06-08"
         ],
         "xaxis": "x",
         "y": [
          1700000
         ],
         "yaxis": "y"
        },
        {
         "hovertemplate": "trackName=El Baile del BÃ­per<br>date=%{x}<br>views=%{y}<extra></extra>",
         "legendgroup": "El Baile del BÃ­per",
         "line": {
          "color": "#636efa",
          "dash": "solid"
         },
         "marker": {
          "symbol": "circle"
         },
         "mode": "lines+markers",
         "name": "El Baile del BÃ­per",
         "showlegend": true,
         "type": "scattergl",
         "x": [
          "2024-06-09",
          "2024-06-10",
          "2024-06-12",
          "2024-06-14",
          "2024-06-16",
          "2024-06-20"
         ],
         "xaxis": "x",
         "y": [
          26800000,
          26800000,
          27000000,
          54200000,
          54400000,
          27300000
         ],
         "yaxis": "y"
        },
        {
         "hovertemplate": "trackName=Flowing Stream, Calm Waters<br>date=%{x}<br>views=%{y}<extra></extra>",
         "legendgroup": "Flowing Stream, Calm Waters",
         "line": {
          "color": "#EF553B",
          "dash": "solid"
         },
         "marker": {
          "symbol": "circle"
         },
         "mode": "lines+markers",
         "name": "Flowing Stream, Calm Waters",
         "showlegend": true,
         "type": "scattergl",
         "x": [
          "2024-06-09",
          "2024-06-10",
          "2024-06-13",
          "2024-06-14",
          "2024-06-18",
          "2024-06-20",
          "2024-06-22",
          "2024-06-23",
          "2024-06-25",
          "2024-06-27"
         ],
         "xaxis": "x",
         "y": [
          16300000,
          16400000,
          50400000,
          33800000,
          34400000,
          17700000,
          18000000,
          18200000,
          18400000,
          37600000
         ],
         "yaxis": "y"
        },
        {
         "hovertemplate": "trackName=I'm Kissing You (Originally Performed By Des'ree) [Karaoke Version]<br>date=%{x}<br>views=%{y}<extra></extra>",
         "legendgroup": "I'm Kissing You (Originally Performed By Des'ree) [Karaoke Version]",
         "line": {
          "color": "#00cc96",
          "dash": "solid"
         },
         "marker": {
          "symbol": "circle"
         },
         "mode": "lines+markers",
         "name": "I'm Kissing You (Originally Performed By Des'ree) [Karaoke Version]",
         "showlegend": true,
         "type": "scattergl",
         "x": [
          "2024-06-09"
         ],
         "xaxis": "x",
         "y": [
          2900000
         ],
         "yaxis": "y"
        },
        {
         "hovertemplate": "trackName=Like That<br>date=%{x}<br>views=%{y}<extra></extra>",
         "legendgroup": "Like That",
         "line": {
          "color": "#ab63fa",
          "dash": "solid"
         },
         "marker": {
          "symbol": "circle"
         },
         "mode": "lines+markers",
         "name": "Like That",
         "showlegend": true,
         "type": "scattergl",
         "x": [
          "2024-06-09"
         ],
         "xaxis": "x",
         "y": [
          9900000
         ],
         "yaxis": "y"
        },
        {
         "hovertemplate": "trackName=Mukhymantri Ke Kursi Ho<br>date=%{x}<br>views=%{y}<extra></extra>",
         "legendgroup": "Mukhymantri Ke Kursi Ho",
         "line": {
          "color": "#FFA15A",
          "dash": "solid"
         },
         "marker": {
          "symbol": "circle"
         },
         "mode": "lines+markers",
         "name": "Mukhymantri Ke Kursi Ho",
         "showlegend": true,
         "type": "scattergl",
         "x": [
          "2024-06-09",
          "2024-06-10",
          "2024-06-12",
          "2024-06-13",
          "2024-06-14",
          "2024-06-20"
         ],
         "xaxis": "x",
         "y": [
          6200000,
          6200000,
          6300000,
          6300000,
          6300000,
          6400000
         ],
         "yaxis": "y"
        },
        {
         "hovertemplate": "trackName=Pieces<br>date=%{x}<br>views=%{y}<extra></extra>",
         "legendgroup": "Pieces",
         "line": {
          "color": "#19d3f3",
          "dash": "solid"
         },
         "marker": {
          "symbol": "circle"
         },
         "mode": "lines+markers",
         "name": "Pieces",
         "showlegend": true,
         "type": "scattergl",
         "x": [
          "2024-06-09",
          "2024-06-11"
         ],
         "xaxis": "x",
         "y": [
          12000000,
          24000000
         ],
         "yaxis": "y"
        },
        {
         "hovertemplate": "trackName=Rondo \"Alla Turca\"<br>date=%{x}<br>views=%{y}<extra></extra>",
         "legendgroup": "Rondo \"Alla Turca\"",
         "line": {
          "color": "#FF6692",
          "dash": "solid"
         },
         "marker": {
          "symbol": "circle"
         },
         "mode": "lines+markers",
         "name": "Rondo \"Alla Turca\"",
         "showlegend": true,
         "type": "scattergl",
         "x": [
          "2024-06-09"
         ],
         "xaxis": "x",
         "y": [
          14200000
         ],
         "yaxis": "y"
        },
        {
         "hovertemplate": "trackName=Save Me<br>date=%{x}<br>views=%{y}<extra></extra>",
         "legendgroup": "Save Me",
         "line": {
          "color": "#B6E880",
          "dash": "solid"
         },
         "marker": {
          "symbol": "circle"
         },
         "mode": "lines+markers",
         "name": "Save Me",
         "showlegend": true,
         "type": "scattergl",
         "x": [
          "2024-06-09"
         ],
         "xaxis": "x",
         "y": [
          12300000
         ],
         "yaxis": "y"
        },
        {
         "hovertemplate": "trackName=Sweet<br>date=%{x}<br>views=%{y}<extra></extra>",
         "legendgroup": "Sweet",
         "line": {
          "color": "#FF97FF",
          "dash": "solid"
         },
         "marker": {
          "symbol": "circle"
         },
         "mode": "lines+markers",
         "name": "Sweet",
         "showlegend": true,
         "type": "scattergl",
         "x": [
          "2024-06-09",
          "2024-06-10",
          "2024-06-12",
          "2024-06-13",
          "2024-06-14",
          "2024-06-20"
         ],
         "xaxis": "x",
         "y": [
          6200000,
          6200000,
          6300000,
          6300000,
          6300000,
          6400000
         ],
         "yaxis": "y"
        },
        {
         "hovertemplate": "trackName=You Are My Sunshine<br>date=%{x}<br>views=%{y}<extra></extra>",
         "legendgroup": "You Are My Sunshine",
         "line": {
          "color": "#FECB52",
          "dash": "solid"
         },
         "marker": {
          "symbol": "circle"
         },
         "mode": "lines+markers",
         "name": "You Are My Sunshine",
         "showlegend": true,
         "type": "scattergl",
         "x": [
          "2024-06-09",
          "2024-06-13",
          "2024-06-18",
          "2024-06-21",
          "2024-06-22"
         ],
         "xaxis": "x",
         "y": [
          16500000,
          33200000,
          50100000,
          16800000,
          33600000
         ],
         "yaxis": "y"
        },
        {
         "hovertemplate": "trackName=Aguacero<br>date=%{x}<br>views=%{y}<extra></extra>",
         "legendgroup": "Aguacero",
         "line": {
          "color": "#636efa",
          "dash": "solid"
         },
         "marker": {
          "symbol": "circle"
         },
         "mode": "lines+markers",
         "name": "Aguacero",
         "showlegend": true,
         "type": "scattergl",
         "x": [
          "2024-06-10"
         ],
         "xaxis": "x",
         "y": [
          4200000
         ],
         "yaxis": "y"
        },
        {
         "hovertemplate": "trackName=BAND4BAND<br>date=%{x}<br>views=%{y}<extra></extra>",
         "legendgroup": "BAND4BAND",
         "line": {
          "color": "#EF553B",
          "dash": "solid"
         },
         "marker": {
          "symbol": "circle"
         },
         "mode": "lines+markers",
         "name": "BAND4BAND",
         "showlegend": true,
         "type": "scattergl",
         "x": [
          "2024-06-10"
         ],
         "xaxis": "x",
         "y": [
          8200000
         ],
         "yaxis": "y"
        },
        {
         "hovertemplate": "trackName=Borderline<br>date=%{x}<br>views=%{y}<extra></extra>",
         "legendgroup": "Borderline",
         "line": {
          "color": "#00cc96",
          "dash": "solid"
         },
         "marker": {
          "symbol": "circle"
         },
         "mode": "lines+markers",
         "name": "Borderline",
         "showlegend": true,
         "type": "scattergl",
         "x": [
          "2024-06-10"
         ],
         "xaxis": "x",
         "y": [
          2700000
         ],
         "yaxis": "y"
        },
        {
         "hovertemplate": "trackName=Cupid's Chokehold (Featuring Patrick Stump)<br>date=%{x}<br>views=%{y}<extra></extra>",
         "legendgroup": "Cupid's Chokehold (Featuring Patrick Stump)",
         "line": {
          "color": "#ab63fa",
          "dash": "solid"
         },
         "marker": {
          "symbol": "circle"
         },
         "mode": "lines+markers",
         "name": "Cupid's Chokehold (Featuring Patrick Stump)",
         "showlegend": true,
         "type": "scattergl",
         "x": [
          "2024-06-10"
         ],
         "xaxis": "x",
         "y": [
          5900000
         ],
         "yaxis": "y"
        },
        {
         "hovertemplate": "trackName=Dark Horse (feat. Juicy J)<br>date=%{x}<br>views=%{y}<extra></extra>",
         "legendgroup": "Dark Horse (feat. Juicy J)",
         "line": {
          "color": "#FFA15A",
          "dash": "solid"
         },
         "marker": {
          "symbol": "circle"
         },
         "mode": "lines+markers",
         "name": "Dark Horse (feat. Juicy J)",
         "showlegend": true,
         "type": "scattergl",
         "x": [
          "2024-06-10"
         ],
         "xaxis": "x",
         "y": [
          12300000
         ],
         "yaxis": "y"
        },
        {
         "hovertemplate": "trackName=EgoÃ­sta (feat. Pitbull)<br>date=%{x}<br>views=%{y}<extra></extra>",
         "legendgroup": "EgoÃ­sta (feat. Pitbull)",
         "line": {
          "color": "#19d3f3",
          "dash": "solid"
         },
         "marker": {
          "symbol": "circle"
         },
         "mode": "lines+markers",
         "name": "EgoÃ­sta (feat. Pitbull)",
         "showlegend": true,
         "type": "scattergl",
         "x": [
          "2024-06-10"
         ],
         "xaxis": "x",
         "y": [
          4000000
         ],
         "yaxis": "y"
        },
        {
         "hovertemplate": "trackName=El Paso Del Cierre<br>date=%{x}<br>views=%{y}<extra></extra>",
         "legendgroup": "El Paso Del Cierre",
         "line": {
          "color": "#FF6692",
          "dash": "solid"
         },
         "marker": {
          "symbol": "circle"
         },
         "mode": "lines+markers",
         "name": "El Paso Del Cierre",
         "showlegend": true,
         "type": "scattergl",
         "x": [
          "2024-06-10"
         ],
         "xaxis": "x",
         "y": [
          6500000
         ],
         "yaxis": "y"
        },
        {
         "hovertemplate": "trackName=Eu Sou O Diabo, O Unico Ser Superior Existente<br>date=%{x}<br>views=%{y}<extra></extra>",
         "legendgroup": "Eu Sou O Diabo, O Unico Ser Superior Existente",
         "line": {
          "color": "#B6E880",
          "dash": "solid"
         },
         "marker": {
          "symbol": "circle"
         },
         "mode": "lines+markers",
         "name": "Eu Sou O Diabo, O Unico Ser Superior Existente",
         "showlegend": true,
         "type": "scattergl",
         "x": [
          "2024-06-10"
         ],
         "xaxis": "x",
         "y": [
          1800000
         ],
         "yaxis": "y"
        },
        {
         "hovertemplate": "trackName=Feliz Navidad 8<br>date=%{x}<br>views=%{y}<extra></extra>",
         "legendgroup": "Feliz Navidad 8",
         "line": {
          "color": "#FF97FF",
          "dash": "solid"
         },
         "marker": {
          "symbol": "circle"
         },
         "mode": "lines+markers",
         "name": "Feliz Navidad 8",
         "showlegend": true,
         "type": "scattergl",
         "x": [
          "2024-06-10",
          "2024-06-17"
         ],
         "xaxis": "x",
         "y": [
          31900000,
          28300000
         ],
         "yaxis": "y"
        },
        {
         "hovertemplate": "trackName=Hard<br>date=%{x}<br>views=%{y}<extra></extra>",
         "legendgroup": "Hard",
         "line": {
          "color": "#FECB52",
          "dash": "solid"
         },
         "marker": {
          "symbol": "circle"
         },
         "mode": "lines+markers",
         "name": "Hard",
         "showlegend": true,
         "type": "scattergl",
         "x": [
          "2024-06-10"
         ],
         "xaxis": "x",
         "y": [
          4000000
         ],
         "yaxis": "y"
        },
        {
         "hovertemplate": "trackName=Havana (feat. Young Thug)<br>date=%{x}<br>views=%{y}<extra></extra>",
         "legendgroup": "Havana (feat. Young Thug)",
         "line": {
          "color": "#636efa",
          "dash": "solid"
         },
         "marker": {
          "symbol": "circle"
         },
         "mode": "lines+markers",
         "name": "Havana (feat. Young Thug)",
         "showlegend": true,
         "type": "scattergl",
         "x": [
          "2024-06-10"
         ],
         "xaxis": "x",
         "y": [
          6600000
         ],
         "yaxis": "y"
        },
        {
         "hovertemplate": "trackName=Ice Ice Baby (Re-Recorded Version)<br>date=%{x}<br>views=%{y}<extra></extra>",
         "legendgroup": "Ice Ice Baby (Re-Recorded Version)",
         "line": {
          "color": "#EF553B",
          "dash": "solid"
         },
         "marker": {
          "symbol": "circle"
         },
         "mode": "lines+markers",
         "name": "Ice Ice Baby (Re-Recorded Version)",
         "showlegend": true,
         "type": "scattergl",
         "x": [
          "2024-06-10"
         ],
         "xaxis": "x",
         "y": [
          10000000
         ],
         "yaxis": "y"
        },
        {
         "hovertemplate": "trackName=MONEY EDITION<br>date=%{x}<br>views=%{y}<extra></extra>",
         "legendgroup": "MONEY EDITION",
         "line": {
          "color": "#00cc96",
          "dash": "solid"
         },
         "marker": {
          "symbol": "circle"
         },
         "mode": "lines+markers",
         "name": "MONEY EDITION",
         "showlegend": true,
         "type": "scattergl",
         "x": [
          "2024-06-10"
         ],
         "xaxis": "x",
         "y": [
          5500000
         ],
         "yaxis": "y"
        },
        {
         "hovertemplate": "trackName=Meet the Frownies<br>date=%{x}<br>views=%{y}<extra></extra>",
         "legendgroup": "Meet the Frownies",
         "line": {
          "color": "#ab63fa",
          "dash": "solid"
         },
         "marker": {
          "symbol": "circle"
         },
         "mode": "lines+markers",
         "name": "Meet the Frownies",
         "showlegend": true,
         "type": "scattergl",
         "x": [
          "2024-06-10"
         ],
         "xaxis": "x",
         "y": [
          3800000
         ],
         "yaxis": "y"
        },
        {
         "hovertemplate": "trackName=Montagem - Conga Conga<br>date=%{x}<br>views=%{y}<extra></extra>",
         "legendgroup": "Montagem - Conga Conga",
         "line": {
          "color": "#FFA15A",
          "dash": "solid"
         },
         "marker": {
          "symbol": "circle"
         },
         "mode": "lines+markers",
         "name": "Montagem - Conga Conga",
         "showlegend": true,
         "type": "scattergl",
         "x": [
          "2024-06-10"
         ],
         "xaxis": "x",
         "y": [
          24000000
         ],
         "yaxis": "y"
        },
        {
         "hovertemplate": "trackName=Por Primera Vez<br>date=%{x}<br>views=%{y}<extra></extra>",
         "legendgroup": "Por Primera Vez",
         "line": {
          "color": "#19d3f3",
          "dash": "solid"
         },
         "marker": {
          "symbol": "circle"
         },
         "mode": "lines+markers",
         "name": "Por Primera Vez",
         "showlegend": true,
         "type": "scattergl",
         "x": [
          "2024-06-10"
         ],
         "xaxis": "x",
         "y": [
          4600000
         ],
         "yaxis": "y"
        },
        {
         "hovertemplate": "trackName=Quevedo: Bzrp Music Sessions, Vol. 52<br>date=%{x}<br>views=%{y}<extra></extra>",
         "legendgroup": "Quevedo: Bzrp Music Sessions, Vol. 52",
         "line": {
          "color": "#FF6692",
          "dash": "solid"
         },
         "marker": {
          "symbol": "circle"
         },
         "mode": "lines+markers",
         "name": "Quevedo: Bzrp Music Sessions, Vol. 52",
         "showlegend": true,
         "type": "scattergl",
         "x": [
          "2024-06-10"
         ],
         "xaxis": "x",
         "y": [
          10400000
         ],
         "yaxis": "y"
        },
        {
         "hovertemplate": "trackName=Risada e Roinc Maravilha<br>date=%{x}<br>views=%{y}<extra></extra>",
         "legendgroup": "Risada e Roinc Maravilha",
         "line": {
          "color": "#B6E880",
          "dash": "solid"
         },
         "marker": {
          "symbol": "circle"
         },
         "mode": "lines+markers",
         "name": "Risada e Roinc Maravilha",
         "showlegend": true,
         "type": "scattergl",
         "x": [
          "2024-06-10"
         ],
         "xaxis": "x",
         "y": [
          2400000
         ],
         "yaxis": "y"
        },
        {
         "hovertemplate": "trackName=Sixty Second Commercial #1<br>date=%{x}<br>views=%{y}<extra></extra>",
         "legendgroup": "Sixty Second Commercial #1",
         "line": {
          "color": "#FF97FF",
          "dash": "solid"
         },
         "marker": {
          "symbol": "circle"
         },
         "mode": "lines+markers",
         "name": "Sixty Second Commercial #1",
         "showlegend": true,
         "type": "scattergl",
         "x": [
          "2024-06-10"
         ],
         "xaxis": "x",
         "y": [
          2200000
         ],
         "yaxis": "y"
        },
        {
         "hovertemplate": "trackName=Take On Me<br>date=%{x}<br>views=%{y}<extra></extra>",
         "legendgroup": "Take On Me",
         "line": {
          "color": "#FECB52",
          "dash": "solid"
         },
         "marker": {
          "symbol": "circle"
         },
         "mode": "lines+markers",
         "name": "Take On Me",
         "showlegend": true,
         "type": "scattergl",
         "x": [
          "2024-06-10"
         ],
         "xaxis": "x",
         "y": [
          1900000
         ],
         "yaxis": "y"
        },
        {
         "hovertemplate": "trackName=TrakatÃ¡<br>date=%{x}<br>views=%{y}<extra></extra>",
         "legendgroup": "TrakatÃ¡",
         "line": {
          "color": "#636efa",
          "dash": "solid"
         },
         "marker": {
          "symbol": "circle"
         },
         "mode": "lines+markers",
         "name": "TrakatÃ¡",
         "showlegend": true,
         "type": "scattergl",
         "x": [
          "2024-06-10"
         ],
         "xaxis": "x",
         "y": [
          5500000
         ],
         "yaxis": "y"
        },
        {
         "hovertemplate": "trackName=Untitled<br>date=%{x}<br>views=%{y}<extra></extra>",
         "legendgroup": "Untitled",
         "line": {
          "color": "#EF553B",
          "dash": "solid"
         },
         "marker": {
          "symbol": "circle"
         },
         "mode": "lines+markers",
         "name": "Untitled",
         "showlegend": true,
         "type": "scattergl",
         "x": [
          "2024-06-10"
         ],
         "xaxis": "x",
         "y": [
          5000000
         ],
         "yaxis": "y"
        },
        {
         "hovertemplate": "trackName=You Spin Me Round (Like a Record)<br>date=%{x}<br>views=%{y}<extra></extra>",
         "legendgroup": "You Spin Me Round (Like a Record)",
         "line": {
          "color": "#00cc96",
          "dash": "solid"
         },
         "marker": {
          "symbol": "circle"
         },
         "mode": "lines+markers",
         "name": "You Spin Me Round (Like a Record)",
         "showlegend": true,
         "type": "scattergl",
         "x": [
          "2024-06-10"
         ],
         "xaxis": "x",
         "y": [
          3800000
         ],
         "yaxis": "y"
        },
        {
         "hovertemplate": "trackName=Praise Jah In the Moonlight<br>date=%{x}<br>views=%{y}<extra></extra>",
         "legendgroup": "Praise Jah In the Moonlight",
         "line": {
          "color": "#ab63fa",
          "dash": "solid"
         },
         "marker": {
          "symbol": "circle"
         },
         "mode": "lines+markers",
         "name": "Praise Jah In the Moonlight",
         "showlegend": true,
         "type": "scattergl",
         "x": [
          "2024-06-11",
          "2024-06-16",
          "2024-06-17",
          "2024-06-20"
         ],
         "xaxis": "x",
         "y": [
          39600000,
          5800000,
          53900000,
          5900000
         ],
         "yaxis": "y"
        },
        {
         "hovertemplate": "trackName=Rocky (Main Theme)<br>date=%{x}<br>views=%{y}<extra></extra>",
         "legendgroup": "Rocky (Main Theme)",
         "line": {
          "color": "#FFA15A",
          "dash": "solid"
         },
         "marker": {
          "symbol": "circle"
         },
         "mode": "lines+markers",
         "name": "Rocky (Main Theme)",
         "showlegend": true,
         "type": "scattergl",
         "x": [
          "2024-06-11",
          "2024-06-27"
         ],
         "xaxis": "x",
         "y": [
          9800000,
          17400000
         ],
         "yaxis": "y"
        },
        {
         "hovertemplate": "trackName=Sunroof<br>date=%{x}<br>views=%{y}<extra></extra>",
         "legendgroup": "Sunroof",
         "line": {
          "color": "#19d3f3",
          "dash": "solid"
         },
         "marker": {
          "symbol": "circle"
         },
         "mode": "lines+markers",
         "name": "Sunroof",
         "showlegend": true,
         "type": "scattergl",
         "x": [
          "2024-06-11",
          "2024-06-12"
         ],
         "xaxis": "x",
         "y": [
          85200000,
          104600000
         ],
         "yaxis": "y"
        },
        {
         "hovertemplate": "trackName=Dreams<br>date=%{x}<br>views=%{y}<extra></extra>",
         "legendgroup": "Dreams",
         "line": {
          "color": "#FF6692",
          "dash": "solid"
         },
         "marker": {
          "symbol": "circle"
         },
         "mode": "lines+markers",
         "name": "Dreams",
         "showlegend": true,
         "type": "scattergl",
         "x": [
          "2024-06-12"
         ],
         "xaxis": "x",
         "y": [
          66000000
         ],
         "yaxis": "y"
        },
        {
         "hovertemplate": "trackName=Edit Phonk<br>date=%{x}<br>views=%{y}<extra></extra>",
         "legendgroup": "Edit Phonk",
         "line": {
          "color": "#B6E880",
          "dash": "solid"
         },
         "marker": {
          "symbol": "circle"
         },
         "mode": "lines+markers",
         "name": "Edit Phonk",
         "showlegend": true,
         "type": "scattergl",
         "x": [
          "2024-06-12",
          "2024-06-14",
          "2024-06-16",
          "2024-06-19",
          "2024-06-20"
         ],
         "xaxis": "x",
         "y": [
          20900000,
          42600000,
          21800000,
          44400000,
          22300000
         ],
         "yaxis": "y"
        },
        {
         "hovertemplate": "trackName=GTA San Andreas Theme<br>date=%{x}<br>views=%{y}<extra></extra>",
         "legendgroup": "GTA San Andreas Theme",
         "line": {
          "color": "#FF97FF",
          "dash": "solid"
         },
         "marker": {
          "symbol": "circle"
         },
         "mode": "lines+markers",
         "name": "GTA San Andreas Theme",
         "showlegend": true,
         "type": "scattergl",
         "x": [
          "2024-06-12",
          "2024-06-17",
          "2024-06-20",
          "2024-06-25"
         ],
         "xaxis": "x",
         "y": [
          34300000,
          38400000,
          79400000,
          42500000
         ],
         "yaxis": "y"
        },
        {
         "hovertemplate": "trackName=In the Name of Love<br>date=%{x}<br>views=%{y}<extra></extra>",
         "legendgroup": "In the Name of Love",
         "line": {
          "color": "#FECB52",
          "dash": "solid"
         },
         "marker": {
          "symbol": "circle"
         },
         "mode": "lines+markers",
         "name": "In the Name of Love",
         "showlegend": true,
         "type": "scattergl",
         "x": [
          "2024-06-12"
         ],
         "xaxis": "x",
         "y": [
          1400000
         ],
         "yaxis": "y"
        },
        {
         "hovertemplate": "trackName=Perro Salchicha<br>date=%{x}<br>views=%{y}<extra></extra>",
         "legendgroup": "Perro Salchicha",
         "line": {
          "color": "#636efa",
          "dash": "solid"
         },
         "marker": {
          "symbol": "circle"
         },
         "mode": "lines+markers",
         "name": "Perro Salchicha",
         "showlegend": true,
         "type": "scattergl",
         "x": [
          "2024-06-12"
         ],
         "xaxis": "x",
         "y": [
          21900000
         ],
         "yaxis": "y"
        },
        {
         "hovertemplate": "trackName=Quran Urdu Translation, Pt. 01<br>date=%{x}<br>views=%{y}<extra></extra>",
         "legendgroup": "Quran Urdu Translation, Pt. 01",
         "line": {
          "color": "#EF553B",
          "dash": "solid"
         },
         "marker": {
          "symbol": "circle"
         },
         "mode": "lines+markers",
         "name": "Quran Urdu Translation, Pt. 01",
         "showlegend": true,
         "type": "scattergl",
         "x": [
          "2024-06-12"
         ],
         "xaxis": "x",
         "y": [
          54100000
         ],
         "yaxis": "y"
        },
        {
         "hovertemplate": "trackName=Sabor A Mi<br>date=%{x}<br>views=%{y}<extra></extra>",
         "legendgroup": "Sabor A Mi",
         "line": {
          "color": "#00cc96",
          "dash": "solid"
         },
         "marker": {
          "symbol": "circle"
         },
         "mode": "lines+markers",
         "name": "Sabor A Mi",
         "showlegend": true,
         "type": "scattergl",
         "x": [
          "2024-06-12"
         ],
         "xaxis": "x",
         "y": [
          14200000
         ],
         "yaxis": "y"
        },
        {
         "hovertemplate": "trackName=Hit the Quan (Original Version)<br>date=%{x}<br>views=%{y}<extra></extra>",
         "legendgroup": "Hit the Quan (Original Version)",
         "line": {
          "color": "#ab63fa",
          "dash": "solid"
         },
         "marker": {
          "symbol": "circle"
         },
         "mode": "lines+markers",
         "name": "Hit the Quan (Original Version)",
         "showlegend": true,
         "type": "scattergl",
         "x": [
          "2024-06-13",
          "2024-06-14"
         ],
         "xaxis": "x",
         "y": [
          19200000,
          19200000
         ],
         "yaxis": "y"
        },
        {
         "hovertemplate": "trackName=Smack That<br>date=%{x}<br>views=%{y}<extra></extra>",
         "legendgroup": "Smack That",
         "line": {
          "color": "#FFA15A",
          "dash": "solid"
         },
         "marker": {
          "symbol": "circle"
         },
         "mode": "lines+markers",
         "name": "Smack That",
         "showlegend": true,
         "type": "scattergl",
         "x": [
          "2024-06-13",
          "2024-06-17",
          "2024-06-25",
          "2024-06-27"
         ],
         "xaxis": "x",
         "y": [
          25200000,
          8500000,
          9200000,
          18800000
         ],
         "yaxis": "y"
        },
        {
         "hovertemplate": "trackName=Cry of the day<br>date=%{x}<br>views=%{y}<extra></extra>",
         "legendgroup": "Cry of the day",
         "line": {
          "color": "#19d3f3",
          "dash": "solid"
         },
         "marker": {
          "symbol": "circle"
         },
         "mode": "lines+markers",
         "name": "Cry of the day",
         "showlegend": true,
         "type": "scattergl",
         "x": [
          "2024-06-14",
          "2024-06-19",
          "2024-06-25"
         ],
         "xaxis": "x",
         "y": [
          13400000,
          13600000,
          13900000
         ],
         "yaxis": "y"
        },
        {
         "hovertemplate": "trackName=Experience<br>date=%{x}<br>views=%{y}<extra></extra>",
         "legendgroup": "Experience",
         "line": {
          "color": "#FF6692",
          "dash": "solid"
         },
         "marker": {
          "symbol": "circle"
         },
         "mode": "lines+markers",
         "name": "Experience",
         "showlegend": true,
         "type": "scattergl",
         "x": [
          "2024-06-14"
         ],
         "xaxis": "x",
         "y": [
          19700000
         ],
         "yaxis": "y"
        },
        {
         "hovertemplate": "trackName=Funny and Unusual Scene<br>date=%{x}<br>views=%{y}<extra></extra>",
         "legendgroup": "Funny and Unusual Scene",
         "line": {
          "color": "#B6E880",
          "dash": "solid"
         },
         "marker": {
          "symbol": "circle"
         },
         "mode": "lines+markers",
         "name": "Funny and Unusual Scene",
         "showlegend": true,
         "type": "scattergl",
         "x": [
          "2024-06-14"
         ],
         "xaxis": "x",
         "y": [
          1400000
         ],
         "yaxis": "y"
        },
        {
         "hovertemplate": "trackName=I Ain't Worried (From \"Top Gun Maverick\") [Originally Performed by OneRepublic]<br>date=%{x}<br>views=%{y}<extra></extra>",
         "legendgroup": "I Ain't Worried (From \"Top Gun Maverick\") [Originally Performed by OneRepublic]",
         "line": {
          "color": "#FF97FF",
          "dash": "solid"
         },
         "marker": {
          "symbol": "circle"
         },
         "mode": "lines+markers",
         "name": "I Ain't Worried (From \"Top Gun Maverick\") [Originally Performed by OneRepublic]",
         "showlegend": true,
         "type": "scattergl",
         "x": [
          "2024-06-14"
         ],
         "xaxis": "x",
         "y": [
          9100000
         ],
         "yaxis": "y"
        },
        {
         "hovertemplate": "trackName=Intro<br>date=%{x}<br>views=%{y}<extra></extra>",
         "legendgroup": "Intro",
         "line": {
          "color": "#FECB52",
          "dash": "solid"
         },
         "marker": {
          "symbol": "circle"
         },
         "mode": "lines+markers",
         "name": "Intro",
         "showlegend": true,
         "type": "scattergl",
         "x": [
          "2024-06-14",
          "2024-06-20",
          "2024-06-24",
          "2024-06-27"
         ],
         "xaxis": "x",
         "y": [
          10200000,
          10200000,
          10300000,
          10300000
         ],
         "yaxis": "y"
        },
        {
         "hovertemplate": "trackName=Let Go (feat. Veronika Redd)<br>date=%{x}<br>views=%{y}<extra></extra>",
         "legendgroup": "Let Go (feat. Veronika Redd)",
         "line": {
          "color": "#636efa",
          "dash": "solid"
         },
         "marker": {
          "symbol": "circle"
         },
         "mode": "lines+markers",
         "name": "Let Go (feat. Veronika Redd)",
         "showlegend": true,
         "type": "scattergl",
         "x": [
          "2024-06-14"
         ],
         "xaxis": "x",
         "y": [
          35800000
         ],
         "yaxis": "y"
        },
        {
         "hovertemplate": "trackName=Prelude to Human Degradation<br>date=%{x}<br>views=%{y}<extra></extra>",
         "legendgroup": "Prelude to Human Degradation",
         "line": {
          "color": "#EF553B",
          "dash": "solid"
         },
         "marker": {
          "symbol": "circle"
         },
         "mode": "lines+markers",
         "name": "Prelude to Human Degradation",
         "showlegend": true,
         "type": "scattergl",
         "x": [
          "2024-06-14",
          "2024-06-15",
          "2024-06-19"
         ],
         "xaxis": "x",
         "y": [
          31400000,
          31600000,
          8800000
         ],
         "yaxis": "y"
        },
        {
         "hovertemplate": "trackName=Spacetime Dilation<br>date=%{x}<br>views=%{y}<extra></extra>",
         "legendgroup": "Spacetime Dilation",
         "line": {
          "color": "#00cc96",
          "dash": "solid"
         },
         "marker": {
          "symbol": "circle"
         },
         "mode": "lines+markers",
         "name": "Spacetime Dilation",
         "showlegend": true,
         "type": "scattergl",
         "x": [
          "2024-06-14"
         ],
         "xaxis": "x",
         "y": [
          3600000
         ],
         "yaxis": "y"
        },
        {
         "hovertemplate": "trackName=Tgouli Rani Ragda<br>date=%{x}<br>views=%{y}<extra></extra>",
         "legendgroup": "Tgouli Rani Ragda",
         "line": {
          "color": "#ab63fa",
          "dash": "solid"
         },
         "marker": {
          "symbol": "circle"
         },
         "mode": "lines+markers",
         "name": "Tgouli Rani Ragda",
         "showlegend": true,
         "type": "scattergl",
         "x": [
          "2024-06-14",
          "2024-06-15",
          "2024-06-17",
          "2024-06-18",
          "2024-06-25"
         ],
         "xaxis": "x",
         "y": [
          19200000,
          9600000,
          9700000,
          29100000,
          9900000
         ],
         "yaxis": "y"
        },
        {
         "hovertemplate": "trackName=Yeah! (feat. Lil Jon & Ludacris)<br>date=%{x}<br>views=%{y}<extra></extra>",
         "legendgroup": "Yeah! (feat. Lil Jon & Ludacris)",
         "line": {
          "color": "#FFA15A",
          "dash": "solid"
         },
         "marker": {
          "symbol": "circle"
         },
         "mode": "lines+markers",
         "name": "Yeah! (feat. Lil Jon & Ludacris)",
         "showlegend": true,
         "type": "scattergl",
         "x": [
          "2024-06-14"
         ],
         "xaxis": "x",
         "y": [
          3900000
         ],
         "yaxis": "y"
        },
        {
         "hovertemplate": "trackName=Your Final Message<br>date=%{x}<br>views=%{y}<extra></extra>",
         "legendgroup": "Your Final Message",
         "line": {
          "color": "#19d3f3",
          "dash": "solid"
         },
         "marker": {
          "symbol": "circle"
         },
         "mode": "lines+markers",
         "name": "Your Final Message",
         "showlegend": true,
         "type": "scattergl",
         "x": [
          "2024-06-14",
          "2024-06-16",
          "2024-06-18",
          "2024-06-21",
          "2024-06-22",
          "2024-06-23",
          "2024-06-25",
          "2024-06-27"
         ],
         "xaxis": "x",
         "y": [
          29900000,
          61200000,
          101000000,
          101400000,
          101600000,
          101600000,
          101600000,
          101800000
         ],
         "yaxis": "y"
        },
        {
         "hovertemplate": "trackName=ã´ã½ã´ã½<br>date=%{x}<br>views=%{y}<extra></extra>",
         "legendgroup": "ã´ã½ã´ã½",
         "line": {
          "color": "#FF6692",
          "dash": "solid"
         },
         "marker": {
          "symbol": "circle"
         },
         "mode": "lines+markers",
         "name": "ã´ã½ã´ã½",
         "showlegend": true,
         "type": "scattergl",
         "x": [
          "2024-06-14",
          "2024-06-25",
          "2024-06-27"
         ],
         "xaxis": "x",
         "y": [
          7200000,
          3800000,
          7800000
         ],
         "yaxis": "y"
        },
        {
         "hovertemplate": "trackName=A Chillar a Otra Parte<br>date=%{x}<br>views=%{y}<extra></extra>",
         "legendgroup": "A Chillar a Otra Parte",
         "line": {
          "color": "#B6E880",
          "dash": "solid"
         },
         "marker": {
          "symbol": "circle"
         },
         "mode": "lines+markers",
         "name": "A Chillar a Otra Parte",
         "showlegend": true,
         "type": "scattergl",
         "x": [
          "2024-06-15"
         ],
         "xaxis": "x",
         "y": [
          22000000
         ],
         "yaxis": "y"
        },
        {
         "hovertemplate": "trackName=A1 - It's just a burning memory<br>date=%{x}<br>views=%{y}<extra></extra>",
         "legendgroup": "A1 - It's just a burning memory",
         "line": {
          "color": "#FF97FF",
          "dash": "solid"
         },
         "marker": {
          "symbol": "circle"
         },
         "mode": "lines+markers",
         "name": "A1 - It's just a burning memory",
         "showlegend": true,
         "type": "scattergl",
         "x": [
          "2024-06-15"
         ],
         "xaxis": "x",
         "y": [
          9400000
         ],
         "yaxis": "y"
        },
        {
         "hovertemplate": "trackName=Adventures of Dama<br>date=%{x}<br>views=%{y}<extra></extra>",
         "legendgroup": "Adventures of Dama",
         "line": {
          "color": "#FECB52",
          "dash": "solid"
         },
         "marker": {
          "symbol": "circle"
         },
         "mode": "lines+markers",
         "name": "Adventures of Dama",
         "showlegend": true,
         "type": "scattergl",
         "x": [
          "2024-06-15",
          "2024-06-17"
         ],
         "xaxis": "x",
         "y": [
          21600000,
          22300000
         ],
         "yaxis": "y"
        },
        {
         "hovertemplate": "trackName=Agarb<br>date=%{x}<br>views=%{y}<extra></extra>",
         "legendgroup": "Agarb",
         "line": {
          "color": "#636efa",
          "dash": "solid"
         },
         "marker": {
          "symbol": "circle"
         },
         "mode": "lines+markers",
         "name": "Agarb",
         "showlegend": true,
         "type": "scattergl",
         "x": [
          "2024-06-15",
          "2024-06-17",
          "2024-06-20",
          "2024-06-21",
          "2024-06-22",
          "2024-06-23"
         ],
         "xaxis": "x",
         "y": [
          81900000,
          88800000,
          91700000,
          92300000,
          92800000,
          93300000
         ],
         "yaxis": "y"
        },
        {
         "hovertemplate": "trackName=Bonita<br>date=%{x}<br>views=%{y}<extra></extra>",
         "legendgroup": "Bonita",
         "line": {
          "color": "#EF553B",
          "dash": "solid"
         },
         "marker": {
          "symbol": "circle"
         },
         "mode": "lines+markers",
         "name": "Bonita",
         "showlegend": true,
         "type": "scattergl",
         "x": [
          "2024-06-15"
         ],
         "xaxis": "x",
         "y": [
          17400000
         ],
         "yaxis": "y"
        },
        {
         "hovertemplate": "trackName=DJ Hentakan Jangan Lupa Bahagia<br>date=%{x}<br>views=%{y}<extra></extra>",
         "legendgroup": "DJ Hentakan Jangan Lupa Bahagia",
         "line": {
          "color": "#00cc96",
          "dash": "solid"
         },
         "marker": {
          "symbol": "circle"
         },
         "mode": "lines+markers",
         "name": "DJ Hentakan Jangan Lupa Bahagia",
         "showlegend": true,
         "type": "scattergl",
         "x": [
          "2024-06-15",
          "2024-06-17",
          "2024-06-20",
          "2024-06-21",
          "2024-06-22",
          "2024-06-23"
         ],
         "xaxis": "x",
         "y": [
          37700000,
          44400000,
          46600000,
          47000000,
          47200000,
          47400000
         ],
         "yaxis": "y"
        },
        {
         "hovertemplate": "trackName=Doin' Time<br>date=%{x}<br>views=%{y}<extra></extra>",
         "legendgroup": "Doin' Time",
         "line": {
          "color": "#ab63fa",
          "dash": "solid"
         },
         "marker": {
          "symbol": "circle"
         },
         "mode": "lines+markers",
         "name": "Doin' Time",
         "showlegend": true,
         "type": "scattergl",
         "x": [
          "2024-06-15"
         ],
         "xaxis": "x",
         "y": [
          1500000
         ],
         "yaxis": "y"
        },
        {
         "hovertemplate": "trackName=En Realidad<br>date=%{x}<br>views=%{y}<extra></extra>",
         "legendgroup": "En Realidad",
         "line": {
          "color": "#FFA15A",
          "dash": "solid"
         },
         "marker": {
          "symbol": "circle"
         },
         "mode": "lines+markers",
         "name": "En Realidad",
         "showlegend": true,
         "type": "scattergl",
         "x": [
          "2024-06-15",
          "2024-06-17",
          "2024-06-23",
          "2024-06-26"
         ],
         "xaxis": "x",
         "y": [
          55400000,
          60200000,
          105700000,
          41000000
         ],
         "yaxis": "y"
        },
        {
         "hovertemplate": "trackName=Fayahh (Ayo Girl & Love Me Back Beat)<br>date=%{x}<br>views=%{y}<extra></extra>",
         "legendgroup": "Fayahh (Ayo Girl & Love Me Back Beat)",
         "line": {
          "color": "#19d3f3",
          "dash": "solid"
         },
         "marker": {
          "symbol": "circle"
         },
         "mode": "lines+markers",
         "name": "Fayahh (Ayo Girl & Love Me Back Beat)",
         "showlegend": true,
         "type": "scattergl",
         "x": [
          "2024-06-15",
          "2024-06-17",
          "2024-06-23",
          "2024-06-25"
         ],
         "xaxis": "x",
         "y": [
          44000000,
          36200000,
          55400000,
          15800000
         ],
         "yaxis": "y"
        },
        {
         "hovertemplate": "trackName=Half On A Sack<br>date=%{x}<br>views=%{y}<extra></extra>",
         "legendgroup": "Half On A Sack",
         "line": {
          "color": "#FF6692",
          "dash": "solid"
         },
         "marker": {
          "symbol": "circle"
         },
         "mode": "lines+markers",
         "name": "Half On A Sack",
         "showlegend": true,
         "type": "scattergl",
         "x": [
          "2024-06-15"
         ],
         "xaxis": "x",
         "y": [
          9500000
         ],
         "yaxis": "y"
        },
        {
         "hovertemplate": "trackName=I Love You<br>date=%{x}<br>views=%{y}<extra></extra>",
         "legendgroup": "I Love You",
         "line": {
          "color": "#B6E880",
          "dash": "solid"
         },
         "marker": {
          "symbol": "circle"
         },
         "mode": "lines+markers",
         "name": "I Love You",
         "showlegend": true,
         "type": "scattergl",
         "x": [
          "2024-06-15"
         ],
         "xaxis": "x",
         "y": [
          31700000
         ],
         "yaxis": "y"
        },
        {
         "hovertemplate": "trackName=Inside<br>date=%{x}<br>views=%{y}<extra></extra>",
         "legendgroup": "Inside",
         "line": {
          "color": "#FF97FF",
          "dash": "solid"
         },
         "marker": {
          "symbol": "circle"
         },
         "mode": "lines+markers",
         "name": "Inside",
         "showlegend": true,
         "type": "scattergl",
         "x": [
          "2024-06-15",
          "2024-06-17"
         ],
         "xaxis": "x",
         "y": [
          72500000,
          77900000
         ],
         "yaxis": "y"
        },
        {
         "hovertemplate": "trackName=Jardin d'hiver<br>date=%{x}<br>views=%{y}<extra></extra>",
         "legendgroup": "Jardin d'hiver",
         "line": {
          "color": "#FECB52",
          "dash": "solid"
         },
         "marker": {
          "symbol": "circle"
         },
         "mode": "lines+markers",
         "name": "Jardin d'hiver",
         "showlegend": true,
         "type": "scattergl",
         "x": [
          "2024-06-15",
          "2024-06-17"
         ],
         "xaxis": "x",
         "y": [
          43900000,
          45400000
         ],
         "yaxis": "y"
        },
        {
         "hovertemplate": "trackName=John, el EsquizofrÃ©nico<br>date=%{x}<br>views=%{y}<extra></extra>",
         "legendgroup": "John, el EsquizofrÃ©nico",
         "line": {
          "color": "#636efa",
          "dash": "solid"
         },
         "marker": {
          "symbol": "circle"
         },
         "mode": "lines+markers",
         "name": "John, el EsquizofrÃ©nico",
         "showlegend": true,
         "type": "scattergl",
         "x": [
          "2024-06-15"
         ],
         "xaxis": "x",
         "y": [
          698500
         ],
         "yaxis": "y"
        },
        {
         "hovertemplate": "trackName=LUNCH<br>date=%{x}<br>views=%{y}<extra></extra>",
         "legendgroup": "LUNCH",
         "line": {
          "color": "#EF553B",
          "dash": "solid"
         },
         "marker": {
          "symbol": "circle"
         },
         "mode": "lines+markers",
         "name": "LUNCH",
         "showlegend": true,
         "type": "scattergl",
         "x": [
          "2024-06-15"
         ],
         "xaxis": "x",
         "y": [
          24700
         ],
         "yaxis": "y"
        },
        {
         "hovertemplate": "trackName=La Parts De Anges<br>date=%{x}<br>views=%{y}<extra></extra>",
         "legendgroup": "La Parts De Anges",
         "line": {
          "color": "#00cc96",
          "dash": "solid"
         },
         "marker": {
          "symbol": "circle"
         },
         "mode": "lines+markers",
         "name": "La Parts De Anges",
         "showlegend": true,
         "type": "scattergl",
         "x": [
          "2024-06-15",
          "2024-06-17"
         ],
         "xaxis": "x",
         "y": [
          72500000,
          77900000
         ],
         "yaxis": "y"
        },
        {
         "hovertemplate": "trackName=Le Hace Falta Un Beso<br>date=%{x}<br>views=%{y}<extra></extra>",
         "legendgroup": "Le Hace Falta Un Beso",
         "line": {
          "color": "#ab63fa",
          "dash": "solid"
         },
         "marker": {
          "symbol": "circle"
         },
         "mode": "lines+markers",
         "name": "Le Hace Falta Un Beso",
         "showlegend": true,
         "type": "scattergl",
         "x": [
          "2024-06-15",
          "2024-06-17"
         ],
         "xaxis": "x",
         "y": [
          19100000,
          19700000
         ],
         "yaxis": "y"
        },
        {
         "hovertemplate": "trackName=Let You Break My Heart Again<br>date=%{x}<br>views=%{y}<extra></extra>",
         "legendgroup": "Let You Break My Heart Again",
         "line": {
          "color": "#FFA15A",
          "dash": "solid"
         },
         "marker": {
          "symbol": "circle"
         },
         "mode": "lines+markers",
         "name": "Let You Break My Heart Again",
         "showlegend": true,
         "type": "scattergl",
         "x": [
          "2024-06-15"
         ],
         "xaxis": "x",
         "y": [
          26300000
         ],
         "yaxis": "y"
        },
        {
         "hovertemplate": "trackName=Life Will Be<br>date=%{x}<br>views=%{y}<extra></extra>",
         "legendgroup": "Life Will Be",
         "line": {
          "color": "#19d3f3",
          "dash": "solid"
         },
         "marker": {
          "symbol": "circle"
         },
         "mode": "lines+markers",
         "name": "Life Will Be",
         "showlegend": true,
         "type": "scattergl",
         "x": [
          "2024-06-15"
         ],
         "xaxis": "x",
         "y": [
          7300000
         ],
         "yaxis": "y"
        },
        {
         "hovertemplate": "trackName=Lights Down Low (feat. Waka Flocka Flame)<br>date=%{x}<br>views=%{y}<extra></extra>",
         "legendgroup": "Lights Down Low (feat. Waka Flocka Flame)",
         "line": {
          "color": "#FF6692",
          "dash": "solid"
         },
         "marker": {
          "symbol": "circle"
         },
         "mode": "lines+markers",
         "name": "Lights Down Low (feat. Waka Flocka Flame)",
         "showlegend": true,
         "type": "scattergl",
         "x": [
          "2024-06-15"
         ],
         "xaxis": "x",
         "y": [
          7392
         ],
         "yaxis": "y"
        },
        {
         "hovertemplate": "trackName=Lord's Prayer<br>date=%{x}<br>views=%{y}<extra></extra>",
         "legendgroup": "Lord's Prayer",
         "line": {
          "color": "#B6E880",
          "dash": "solid"
         },
         "marker": {
          "symbol": "circle"
         },
         "mode": "lines+markers",
         "name": "Lord's Prayer",
         "showlegend": true,
         "type": "scattergl",
         "x": [
          "2024-06-15",
          "2024-06-17",
          "2024-06-20",
          "2024-06-21",
          "2024-06-22",
          "2024-06-23",
          "2024-06-26"
         ],
         "xaxis": "x",
         "y": [
          54300000,
          66800000,
          74600000,
          76200000,
          77300000,
          78000000,
          79300000
         ],
         "yaxis": "y"
        },
        {
         "hovertemplate": "trackName=Love Story (Version Orchestrale)<br>date=%{x}<br>views=%{y}<extra></extra>",
         "legendgroup": "Love Story (Version Orchestrale)",
         "line": {
          "color": "#FF97FF",
          "dash": "solid"
         },
         "marker": {
          "symbol": "circle"
         },
         "mode": "lines+markers",
         "name": "Love Story (Version Orchestrale)",
         "showlegend": true,
         "type": "scattergl",
         "x": [
          "2024-06-15",
          "2024-06-17"
         ],
         "xaxis": "x",
         "y": [
          104500000,
          106500000
         ],
         "yaxis": "y"
        },
        {
         "hovertemplate": "trackName=Madness Hour<br>date=%{x}<br>views=%{y}<extra></extra>",
         "legendgroup": "Madness Hour",
         "line": {
          "color": "#FECB52",
          "dash": "solid"
         },
         "marker": {
          "symbol": "circle"
         },
         "mode": "lines+markers",
         "name": "Madness Hour",
         "showlegend": true,
         "type": "scattergl",
         "x": [
          "2024-06-15",
          "2024-06-17",
          "2024-06-20",
          "2024-06-21",
          "2024-06-22",
          "2024-06-23"
         ],
         "xaxis": "x",
         "y": [
          18300000,
          22100000,
          25100000,
          26500000,
          28800000,
          30400000
         ],
         "yaxis": "y"
        },
        {
         "hovertemplate": "trackName=Mareando<br>date=%{x}<br>views=%{y}<extra></extra>",
         "legendgroup": "Mareando",
         "line": {
          "color": "#636efa",
          "dash": "solid"
         },
         "marker": {
          "symbol": "circle"
         },
         "mode": "lines+markers",
         "name": "Mareando",
         "showlegend": true,
         "type": "scattergl",
         "x": [
          "2024-06-15",
          "2024-06-17"
         ],
         "xaxis": "x",
         "y": [
          106600000,
          107000000
         ],
         "yaxis": "y"
        },
        {
         "hovertemplate": "trackName=Molly<br>date=%{x}<br>views=%{y}<extra></extra>",
         "legendgroup": "Molly",
         "line": {
          "color": "#EF553B",
          "dash": "solid"
         },
         "marker": {
          "symbol": "circle"
         },
         "mode": "lines+markers",
         "name": "Molly",
         "showlegend": true,
         "type": "scattergl",
         "x": [
          "2024-06-15"
         ],
         "xaxis": "x",
         "y": [
          260000
         ],
         "yaxis": "y"
        },
        {
         "hovertemplate": "trackName=Normal<br>date=%{x}<br>views=%{y}<extra></extra>",
         "legendgroup": "Normal",
         "line": {
          "color": "#00cc96",
          "dash": "solid"
         },
         "marker": {
          "symbol": "circle"
         },
         "mode": "lines+markers",
         "name": "Normal",
         "showlegend": true,
         "type": "scattergl",
         "x": [
          "2024-06-15"
         ],
         "xaxis": "x",
         "y": [
          16800000
         ],
         "yaxis": "y"
        },
        {
         "hovertemplate": "trackName=Nothin' on Me<br>date=%{x}<br>views=%{y}<extra></extra>",
         "legendgroup": "Nothin' on Me",
         "line": {
          "color": "#ab63fa",
          "dash": "solid"
         },
         "marker": {
          "symbol": "circle"
         },
         "mode": "lines+markers",
         "name": "Nothin' on Me",
         "showlegend": true,
         "type": "scattergl",
         "x": [
          "2024-06-15",
          "2024-06-17"
         ],
         "xaxis": "x",
         "y": [
          33800000,
          34500000
         ],
         "yaxis": "y"
        },
        {
         "hovertemplate": "trackName=POR EL CONTRARIO (with Leonardo Aguilar & Ãngela Aguilar)<br>date=%{x}<br>views=%{y}<extra></extra>",
         "legendgroup": "POR EL CONTRARIO (with Leonardo Aguilar & Ãngela Aguilar)",
         "line": {
          "color": "#FFA15A",
          "dash": "solid"
         },
         "marker": {
          "symbol": "circle"
         },
         "mode": "lines+markers",
         "name": "POR EL CONTRARIO (with Leonardo Aguilar & Ãngela Aguilar)",
         "showlegend": true,
         "type": "scattergl",
         "x": [
          "2024-06-15"
         ],
         "xaxis": "x",
         "y": [
          35400000
         ],
         "yaxis": "y"
        },
        {
         "hovertemplate": "trackName=Phonk of Braia (feat. MC Pogba)<br>date=%{x}<br>views=%{y}<extra></extra>",
         "legendgroup": "Phonk of Braia (feat. MC Pogba)",
         "line": {
          "color": "#19d3f3",
          "dash": "solid"
         },
         "marker": {
          "symbol": "circle"
         },
         "mode": "lines+markers",
         "name": "Phonk of Braia (feat. MC Pogba)",
         "showlegend": true,
         "type": "scattergl",
         "x": [
          "2024-06-15"
         ],
         "xaxis": "x",
         "y": [
          5700000
         ],
         "yaxis": "y"
        },
        {
         "hovertemplate": "trackName=Play Date<br>date=%{x}<br>views=%{y}<extra></extra>",
         "legendgroup": "Play Date",
         "line": {
          "color": "#FF6692",
          "dash": "solid"
         },
         "marker": {
          "symbol": "circle"
         },
         "mode": "lines+markers",
         "name": "Play Date",
         "showlegend": true,
         "type": "scattergl",
         "x": [
          "2024-06-15",
          "2024-06-17"
         ],
         "xaxis": "x",
         "y": [
          54000000,
          54900000
         ],
         "yaxis": "y"
        },
        {
         "hovertemplate": "trackName=Promoted<br>date=%{x}<br>views=%{y}<extra></extra>",
         "legendgroup": "Promoted",
         "line": {
          "color": "#B6E880",
          "dash": "solid"
         },
         "marker": {
          "symbol": "circle"
         },
         "mode": "lines+markers",
         "name": "Promoted",
         "showlegend": true,
         "type": "scattergl",
         "x": [
          "2024-06-15"
         ],
         "xaxis": "x",
         "y": [
          1200000
         ],
         "yaxis": "y"
        },
        {
         "hovertemplate": "trackName=Six<br>date=%{x}<br>views=%{y}<extra></extra>",
         "legendgroup": "Six",
         "line": {
          "color": "#FF97FF",
          "dash": "solid"
         },
         "marker": {
          "symbol": "circle"
         },
         "mode": "lines+markers",
         "name": "Six",
         "showlegend": true,
         "type": "scattergl",
         "x": [
          "2024-06-15",
          "2024-06-17",
          "2024-06-20",
          "2024-06-21",
          "2024-06-22"
         ],
         "xaxis": "x",
         "y": [
          50600000,
          53500000,
          55300000,
          55800000,
          56600000
         ],
         "yaxis": "y"
        },
        {
         "hovertemplate": "trackName=Sorry for Being Rude<br>date=%{x}<br>views=%{y}<extra></extra>",
         "legendgroup": "Sorry for Being Rude",
         "line": {
          "color": "#FECB52",
          "dash": "solid"
         },
         "marker": {
          "symbol": "circle"
         },
         "mode": "lines+markers",
         "name": "Sorry for Being Rude",
         "showlegend": true,
         "type": "scattergl",
         "x": [
          "2024-06-15"
         ],
         "xaxis": "x",
         "y": [
          11300000
         ],
         "yaxis": "y"
        },
        {
         "hovertemplate": "trackName=Space Song<br>date=%{x}<br>views=%{y}<extra></extra>",
         "legendgroup": "Space Song",
         "line": {
          "color": "#636efa",
          "dash": "solid"
         },
         "marker": {
          "symbol": "circle"
         },
         "mode": "lines+markers",
         "name": "Space Song",
         "showlegend": true,
         "type": "scattergl",
         "x": [
          "2024-06-15",
          "2024-06-17"
         ],
         "xaxis": "x",
         "y": [
          29100000,
          29800000
         ],
         "yaxis": "y"
        },
        {
         "hovertemplate": "trackName=Stargazing<br>date=%{x}<br>views=%{y}<extra></extra>",
         "legendgroup": "Stargazing",
         "line": {
          "color": "#EF553B",
          "dash": "solid"
         },
         "marker": {
          "symbol": "circle"
         },
         "mode": "lines+markers",
         "name": "Stargazing",
         "showlegend": true,
         "type": "scattergl",
         "x": [
          "2024-06-15",
          "2024-06-17",
          "2024-06-20",
          "2024-06-21",
          "2024-06-22",
          "2024-06-23"
         ],
         "xaxis": "x",
         "y": [
          37700000,
          44400000,
          46600000,
          47000000,
          47200000,
          47400000
         ],
         "yaxis": "y"
        },
        {
         "hovertemplate": "trackName=SupÑdo<br>date=%{x}<br>views=%{y}<extra></extra>",
         "legendgroup": "SupÑdo",
         "line": {
          "color": "#00cc96",
          "dash": "solid"
         },
         "marker": {
          "symbol": "circle"
         },
         "mode": "lines+markers",
         "name": "SupÑdo",
         "showlegend": true,
         "type": "scattergl",
         "x": [
          "2024-06-15"
         ],
         "xaxis": "x",
         "y": [
          2500000
         ],
         "yaxis": "y"
        },
        {
         "hovertemplate": "trackName=Take Care<br>date=%{x}<br>views=%{y}<extra></extra>",
         "legendgroup": "Take Care",
         "line": {
          "color": "#ab63fa",
          "dash": "solid"
         },
         "marker": {
          "symbol": "circle"
         },
         "mode": "lines+markers",
         "name": "Take Care",
         "showlegend": true,
         "type": "scattergl",
         "x": [
          "2024-06-15"
         ],
         "xaxis": "x",
         "y": [
          2800000
         ],
         "yaxis": "y"
        },
        {
         "hovertemplate": "trackName=Thanos Hardstyle (Thanos X Death Is No More)<br>date=%{x}<br>views=%{y}<extra></extra>",
         "legendgroup": "Thanos Hardstyle (Thanos X Death Is No More)",
         "line": {
          "color": "#FFA15A",
          "dash": "solid"
         },
         "marker": {
          "symbol": "circle"
         },
         "mode": "lines+markers",
         "name": "Thanos Hardstyle (Thanos X Death Is No More)",
         "showlegend": true,
         "type": "scattergl",
         "x": [
          "2024-06-15"
         ],
         "xaxis": "x",
         "y": [
          6200000
         ],
         "yaxis": "y"
        },
        {
         "hovertemplate": "trackName=The Rick Friend (feat. Lil Cuddlefish & Tremere Stokes)<br>date=%{x}<br>views=%{y}<extra></extra>",
         "legendgroup": "The Rick Friend (feat. Lil Cuddlefish & Tremere Stokes)",
         "line": {
          "color": "#19d3f3",
          "dash": "solid"
         },
         "marker": {
          "symbol": "circle"
         },
         "mode": "lines+markers",
         "name": "The Rick Friend (feat. Lil Cuddlefish & Tremere Stokes)",
         "showlegend": true,
         "type": "scattergl",
         "x": [
          "2024-06-15"
         ],
         "xaxis": "x",
         "y": [
          749900
         ],
         "yaxis": "y"
        },
        {
         "hovertemplate": "trackName=Trapped In the Closet 13-22<br>date=%{x}<br>views=%{y}<extra></extra>",
         "legendgroup": "Trapped In the Closet 13-22",
         "line": {
          "color": "#FF6692",
          "dash": "solid"
         },
         "marker": {
          "symbol": "circle"
         },
         "mode": "lines+markers",
         "name": "Trapped In the Closet 13-22",
         "showlegend": true,
         "type": "scattergl",
         "x": [
          "2024-06-15"
         ],
         "xaxis": "x",
         "y": [
          1700000
         ],
         "yaxis": "y"
        },
        {
         "hovertemplate": "trackName=TÃº de QuÃ© Vas<br>date=%{x}<br>views=%{y}<extra></extra>",
         "legendgroup": "TÃº de QuÃ© Vas",
         "line": {
          "color": "#B6E880",
          "dash": "solid"
         },
         "marker": {
          "symbol": "circle"
         },
         "mode": "lines+markers",
         "name": "TÃº de QuÃ© Vas",
         "showlegend": true,
         "type": "scattergl",
         "x": [
          "2024-06-15"
         ],
         "xaxis": "x",
         "y": [
          21700000
         ],
         "yaxis": "y"
        },
        {
         "hovertemplate": "trackName=Waka Waka (This Time for Africa) [feat. Freshlyground]<br>date=%{x}<br>views=%{y}<extra></extra>",
         "legendgroup": "Waka Waka (This Time for Africa) [feat. Freshlyground]",
         "line": {
          "color": "#FF97FF",
          "dash": "solid"
         },
         "marker": {
          "symbol": "circle"
         },
         "mode": "lines+markers",
         "name": "Waka Waka (This Time for Africa) [feat. Freshlyground]",
         "showlegend": true,
         "type": "scattergl",
         "x": [
          "2024-06-15",
          "2024-06-17",
          "2024-06-20",
          "2024-06-21",
          "2024-06-22",
          "2024-06-23"
         ],
         "xaxis": "x",
         "y": [
          65800000,
          89600000,
          97900000,
          98700000,
          100000000,
          101700000
         ],
         "yaxis": "y"
        },
        {
         "hovertemplate": "trackName=Wash.<br>date=%{x}<br>views=%{y}<extra></extra>",
         "legendgroup": "Wash.",
         "line": {
          "color": "#FECB52",
          "dash": "solid"
         },
         "marker": {
          "symbol": "circle"
         },
         "mode": "lines+markers",
         "name": "Wash.",
         "showlegend": true,
         "type": "scattergl",
         "x": [
          "2024-06-15",
          "2024-06-17"
         ],
         "xaxis": "x",
         "y": [
          35200000,
          35500000
         ],
         "yaxis": "y"
        },
        {
         "hovertemplate": "trackName=golden hour (Piano Instrumental)<br>date=%{x}<br>views=%{y}<extra></extra>",
         "legendgroup": "golden hour (Piano Instrumental)",
         "line": {
          "color": "#636efa",
          "dash": "solid"
         },
         "marker": {
          "symbol": "circle"
         },
         "mode": "lines+markers",
         "name": "golden hour (Piano Instrumental)",
         "showlegend": true,
         "type": "scattergl",
         "x": [
          "2024-06-15"
         ],
         "xaxis": "x",
         "y": [
          56200000
         ],
         "yaxis": "y"
        },
        {
         "hovertemplate": "trackName=Ø³ÙØ±Ø© Ø§ÙØ¹ÙÙØ¨ÙØª<br>date=%{x}<br>views=%{y}<extra></extra>",
         "legendgroup": "Ø³ÙØ±Ø© Ø§ÙØ¹ÙÙØ¨ÙØª",
         "line": {
          "color": "#EF553B",
          "dash": "solid"
         },
         "marker": {
          "symbol": "circle"
         },
         "mode": "lines+markers",
         "name": "Ø³ÙØ±Ø© Ø§ÙØ¹ÙÙØ¨ÙØª",
         "showlegend": true,
         "type": "scattergl",
         "x": [
          "2024-06-15"
         ],
         "xaxis": "x",
         "y": [
          272700
         ],
         "yaxis": "y"
        },
        {
         "hovertemplate": "trackName=April<br>date=%{x}<br>views=%{y}<extra></extra>",
         "legendgroup": "April",
         "line": {
          "color": "#00cc96",
          "dash": "solid"
         },
         "marker": {
          "symbol": "circle"
         },
         "mode": "lines+markers",
         "name": "April",
         "showlegend": true,
         "type": "scattergl",
         "x": [
          "2024-06-16",
          "2024-06-18",
          "2024-06-20"
         ],
         "xaxis": "x",
         "y": [
          20000000,
          40200000,
          20200000
         ],
         "yaxis": "y"
        },
        {
         "hovertemplate": "trackName=Beatbox<br>date=%{x}<br>views=%{y}<extra></extra>",
         "legendgroup": "Beatbox",
         "line": {
          "color": "#ab63fa",
          "dash": "solid"
         },
         "marker": {
          "symbol": "circle"
         },
         "mode": "lines+markers",
         "name": "Beatbox",
         "showlegend": true,
         "type": "scattergl",
         "x": [
          "2024-06-16",
          "2024-06-19",
          "2024-06-25"
         ],
         "xaxis": "x",
         "y": [
          19800000,
          8000000,
          10000000
         ],
         "yaxis": "y"
        },
        {
         "hovertemplate": "trackName=Carpe Diem<br>date=%{x}<br>views=%{y}<extra></extra>",
         "legendgroup": "Carpe Diem",
         "line": {
          "color": "#FFA15A",
          "dash": "solid"
         },
         "marker": {
          "symbol": "circle"
         },
         "mode": "lines+markers",
         "name": "Carpe Diem",
         "showlegend": true,
         "type": "scattergl",
         "x": [
          "2024-06-16"
         ],
         "xaxis": "x",
         "y": [
          7200000
         ],
         "yaxis": "y"
        },
        {
         "hovertemplate": "trackName=Hymn To The Sea<br>date=%{x}<br>views=%{y}<extra></extra>",
         "legendgroup": "Hymn To The Sea",
         "line": {
          "color": "#19d3f3",
          "dash": "solid"
         },
         "marker": {
          "symbol": "circle"
         },
         "mode": "lines+markers",
         "name": "Hymn To The Sea",
         "showlegend": true,
         "type": "scattergl",
         "x": [
          "2024-06-16",
          "2024-06-25"
         ],
         "xaxis": "x",
         "y": [
          134000000,
          73900000
         ],
         "yaxis": "y"
        },
        {
         "hovertemplate": "trackName=Laughing (feat. Kalanera)<br>date=%{x}<br>views=%{y}<extra></extra>",
         "legendgroup": "Laughing (feat. Kalanera)",
         "line": {
          "color": "#FF6692",
          "dash": "solid"
         },
         "marker": {
          "symbol": "circle"
         },
         "mode": "lines+markers",
         "name": "Laughing (feat. Kalanera)",
         "showlegend": true,
         "type": "scattergl",
         "x": [
          "2024-06-16",
          "2024-06-19"
         ],
         "xaxis": "x",
         "y": [
          13200000,
          13200000
         ],
         "yaxis": "y"
        },
        {
         "hovertemplate": "trackName=Not the One (Original Version)<br>date=%{x}<br>views=%{y}<extra></extra>",
         "legendgroup": "Not the One (Original Version)",
         "line": {
          "color": "#B6E880",
          "dash": "solid"
         },
         "marker": {
          "symbol": "circle"
         },
         "mode": "lines+markers",
         "name": "Not the One (Original Version)",
         "showlegend": true,
         "type": "scattergl",
         "x": [
          "2024-06-16"
         ],
         "xaxis": "x",
         "y": [
          1700000
         ],
         "yaxis": "y"
        },
        {
         "hovertemplate": "trackName=Stereo Love<br>date=%{x}<br>views=%{y}<extra></extra>",
         "legendgroup": "Stereo Love",
         "line": {
          "color": "#FF97FF",
          "dash": "solid"
         },
         "marker": {
          "symbol": "circle"
         },
         "mode": "lines+markers",
         "name": "Stereo Love",
         "showlegend": true,
         "type": "scattergl",
         "x": [
          "2024-06-16"
         ],
         "xaxis": "x",
         "y": [
          2100000
         ],
         "yaxis": "y"
        },
        {
         "hovertemplate": "trackName=Attention Obsession<br>date=%{x}<br>views=%{y}<extra></extra>",
         "legendgroup": "Attention Obsession",
         "line": {
          "color": "#FECB52",
          "dash": "solid"
         },
         "marker": {
          "symbol": "circle"
         },
         "mode": "lines+markers",
         "name": "Attention Obsession",
         "showlegend": true,
         "type": "scattergl",
         "x": [
          "2024-06-17"
         ],
         "xaxis": "x",
         "y": [
          67500000
         ],
         "yaxis": "y"
        },
        {
         "hovertemplate": "trackName=Automotivo Empurra<br>date=%{x}<br>views=%{y}<extra></extra>",
         "legendgroup": "Automotivo Empurra",
         "line": {
          "color": "#636efa",
          "dash": "solid"
         },
         "marker": {
          "symbol": "circle"
         },
         "mode": "lines+markers",
         "name": "Automotivo Empurra",
         "showlegend": true,
         "type": "scattergl",
         "x": [
          "2024-06-17"
         ],
         "xaxis": "x",
         "y": [
          24100000
         ],
         "yaxis": "y"
        },
        {
         "hovertemplate": "trackName=Black Star<br>date=%{x}<br>views=%{y}<extra></extra>",
         "legendgroup": "Black Star",
         "line": {
          "color": "#EF553B",
          "dash": "solid"
         },
         "marker": {
          "symbol": "circle"
         },
         "mode": "lines+markers",
         "name": "Black Star",
         "showlegend": true,
         "type": "scattergl",
         "x": [
          "2024-06-17"
         ],
         "xaxis": "x",
         "y": [
          18800000
         ],
         "yaxis": "y"
        },
        {
         "hovertemplate": "trackName=Catch My Breath<br>date=%{x}<br>views=%{y}<extra></extra>",
         "legendgroup": "Catch My Breath",
         "line": {
          "color": "#00cc96",
          "dash": "solid"
         },
         "marker": {
          "symbol": "circle"
         },
         "mode": "lines+markers",
         "name": "Catch My Breath",
         "showlegend": true,
         "type": "scattergl",
         "x": [
          "2024-06-17"
         ],
         "xaxis": "x",
         "y": [
          11700000
         ],
         "yaxis": "y"
        },
        {
         "hovertemplate": "trackName=Como la Flor<br>date=%{x}<br>views=%{y}<extra></extra>",
         "legendgroup": "Como la Flor",
         "line": {
          "color": "#ab63fa",
          "dash": "solid"
         },
         "marker": {
          "symbol": "circle"
         },
         "mode": "lines+markers",
         "name": "Como la Flor",
         "showlegend": true,
         "type": "scattergl",
         "x": [
          "2024-06-17",
          "2024-06-21",
          "2024-06-22",
          "2024-06-23",
          "2024-06-25",
          "2024-06-26"
         ],
         "xaxis": "x",
         "y": [
          38200000,
          48800000,
          50700000,
          52800000,
          57300000,
          61200000
         ],
         "yaxis": "y"
        },
        {
         "hovertemplate": "trackName=Danza Kuduro (feat. Don Omar)<br>date=%{x}<br>views=%{y}<extra></extra>",
         "legendgroup": "Danza Kuduro (feat. Don Omar)",
         "line": {
          "color": "#FFA15A",
          "dash": "solid"
         },
         "marker": {
          "symbol": "circle"
         },
         "mode": "lines+markers",
         "name": "Danza Kuduro (feat. Don Omar)",
         "showlegend": true,
         "type": "scattergl",
         "x": [
          "2024-06-17"
         ],
         "xaxis": "x",
         "y": [
          14400000
         ],
         "yaxis": "y"
        },
        {
         "hovertemplate": "trackName=Don't You Give Up<br>date=%{x}<br>views=%{y}<extra></extra>",
         "legendgroup": "Don't You Give Up",
         "line": {
          "color": "#19d3f3",
          "dash": "solid"
         },
         "marker": {
          "symbol": "circle"
         },
         "mode": "lines+markers",
         "name": "Don't You Give Up",
         "showlegend": true,
         "type": "scattergl",
         "x": [
          "2024-06-17"
         ],
         "xaxis": "x",
         "y": [
          15500000
         ],
         "yaxis": "y"
        },
        {
         "hovertemplate": "trackName=Earned It (Fifty Shades of Grey)<br>date=%{x}<br>views=%{y}<extra></extra>",
         "legendgroup": "Earned It (Fifty Shades of Grey)",
         "line": {
          "color": "#FF6692",
          "dash": "solid"
         },
         "marker": {
          "symbol": "circle"
         },
         "mode": "lines+markers",
         "name": "Earned It (Fifty Shades of Grey)",
         "showlegend": true,
         "type": "scattergl",
         "x": [
          "2024-06-17"
         ],
         "xaxis": "x",
         "y": [
          15700000
         ],
         "yaxis": "y"
        },
        {
         "hovertemplate": "trackName=Extraordinary Musical Beats<br>date=%{x}<br>views=%{y}<extra></extra>",
         "legendgroup": "Extraordinary Musical Beats",
         "line": {
          "color": "#B6E880",
          "dash": "solid"
         },
         "marker": {
          "symbol": "circle"
         },
         "mode": "lines+markers",
         "name": "Extraordinary Musical Beats",
         "showlegend": true,
         "type": "scattergl",
         "x": [
          "2024-06-17",
          "2024-06-20",
          "2024-06-21",
          "2024-06-22",
          "2024-06-23",
          "2024-06-25",
          "2024-06-26",
          "2024-06-27"
         ],
         "xaxis": "x",
         "y": [
          173400000,
          202400000,
          205100000,
          207900000,
          208400000,
          209000000,
          627300000,
          209200000
         ],
         "yaxis": "y"
        },
        {
         "hovertemplate": "trackName=Focus<br>date=%{x}<br>views=%{y}<extra></extra>",
         "legendgroup": "Focus",
         "line": {
          "color": "#FF97FF",
          "dash": "solid"
         },
         "marker": {
          "symbol": "circle"
         },
         "mode": "lines+markers",
         "name": "Focus",
         "showlegend": true,
         "type": "scattergl",
         "x": [
          "2024-06-17"
         ],
         "xaxis": "x",
         "y": [
          9000000
         ],
         "yaxis": "y"
        },
        {
         "hovertemplate": "trackName=Happiness<br>date=%{x}<br>views=%{y}<extra></extra>",
         "legendgroup": "Happiness",
         "line": {
          "color": "#FECB52",
          "dash": "solid"
         },
         "marker": {
          "symbol": "circle"
         },
         "mode": "lines+markers",
         "name": "Happiness",
         "showlegend": true,
         "type": "scattergl",
         "x": [
          "2024-06-17"
         ],
         "xaxis": "x",
         "y": [
          11200000
         ],
         "yaxis": "y"
        },
        {
         "hovertemplate": "trackName=Happy<br>date=%{x}<br>views=%{y}<extra></extra>",
         "legendgroup": "Happy",
         "line": {
          "color": "#636efa",
          "dash": "solid"
         },
         "marker": {
          "symbol": "circle"
         },
         "mode": "lines+markers",
         "name": "Happy",
         "showlegend": true,
         "type": "scattergl",
         "x": [
          "2024-06-17"
         ],
         "xaxis": "x",
         "y": [
          10300000
         ],
         "yaxis": "y"
        },
        {
         "hovertemplate": "trackName=Hoth Laliya<br>date=%{x}<br>views=%{y}<extra></extra>",
         "legendgroup": "Hoth Laliya",
         "line": {
          "color": "#EF553B",
          "dash": "solid"
         },
         "marker": {
          "symbol": "circle"
         },
         "mode": "lines+markers",
         "name": "Hoth Laliya",
         "showlegend": true,
         "type": "scattergl",
         "x": [
          "2024-06-17",
          "2024-06-21",
          "2024-06-22"
         ],
         "xaxis": "x",
         "y": [
          38000000,
          45800000,
          47600000
         ],
         "yaxis": "y"
        },
        {
         "hovertemplate": "trackName=Just Can't Get Enough<br>date=%{x}<br>views=%{y}<extra></extra>",
         "legendgroup": "Just Can't Get Enough",
         "line": {
          "color": "#00cc96",
          "dash": "solid"
         },
         "marker": {
          "symbol": "circle"
         },
         "mode": "lines+markers",
         "name": "Just Can't Get Enough",
         "showlegend": true,
         "type": "scattergl",
         "x": [
          "2024-06-17",
          "2024-06-20",
          "2024-06-21",
          "2024-06-22",
          "2024-06-23"
         ],
         "xaxis": "x",
         "y": [
          37700000,
          40200000,
          40400000,
          40500000,
          41000000
         ],
         "yaxis": "y"
        },
        {
         "hovertemplate": "trackName=Mere Nabi DIyan Zikra<br>date=%{x}<br>views=%{y}<extra></extra>",
         "legendgroup": "Mere Nabi DIyan Zikra",
         "line": {
          "color": "#ab63fa",
          "dash": "solid"
         },
         "marker": {
          "symbol": "circle"
         },
         "mode": "lines+markers",
         "name": "Mere Nabi DIyan Zikra",
         "showlegend": true,
         "type": "scattergl",
         "x": [
          "2024-06-17",
          "2024-06-22",
          "2024-06-23"
         ],
         "xaxis": "x",
         "y": [
          15100000,
          19800000,
          20400000
         ],
         "yaxis": "y"
        },
        {
         "hovertemplate": "trackName=Meri Zaat Zarrah-e-benishaan<br>date=%{x}<br>views=%{y}<extra></extra>",
         "legendgroup": "Meri Zaat Zarrah-e-benishaan",
         "line": {
          "color": "#FFA15A",
          "dash": "solid"
         },
         "marker": {
          "symbol": "circle"
         },
         "mode": "lines+markers",
         "name": "Meri Zaat Zarrah-e-benishaan",
         "showlegend": true,
         "type": "scattergl",
         "x": [
          "2024-06-17"
         ],
         "xaxis": "x",
         "y": [
          15500000
         ],
         "yaxis": "y"
        },
        {
         "hovertemplate": "trackName=My Neck, My Back (Lick It)<br>date=%{x}<br>views=%{y}<extra></extra>",
         "legendgroup": "My Neck, My Back (Lick It)",
         "line": {
          "color": "#19d3f3",
          "dash": "solid"
         },
         "marker": {
          "symbol": "circle"
         },
         "mode": "lines+markers",
         "name": "My Neck, My Back (Lick It)",
         "showlegend": true,
         "type": "scattergl",
         "x": [
          "2024-06-17",
          "2024-06-22",
          "2024-06-23",
          "2024-06-25",
          "2024-06-26",
          "2024-06-27"
         ],
         "xaxis": "x",
         "y": [
          13500000,
          33500000,
          42100000,
          51200000,
          221900000,
          86100000
         ],
         "yaxis": "y"
        },
        {
         "hovertemplate": "trackName=Nasty<br>date=%{x}<br>views=%{y}<extra></extra>",
         "legendgroup": "Nasty",
         "line": {
          "color": "#FF6692",
          "dash": "solid"
         },
         "marker": {
          "symbol": "circle"
         },
         "mode": "lines+markers",
         "name": "Nasty",
         "showlegend": true,
         "type": "scattergl",
         "x": [
          "2024-06-17"
         ],
         "xaxis": "x",
         "y": [
          24600000
         ],
         "yaxis": "y"
        },
        {
         "hovertemplate": "trackName=Nothin' But a Good Time<br>date=%{x}<br>views=%{y}<extra></extra>",
         "legendgroup": "Nothin' But a Good Time",
         "line": {
          "color": "#B6E880",
          "dash": "solid"
         },
         "marker": {
          "symbol": "circle"
         },
         "mode": "lines+markers",
         "name": "Nothin' But a Good Time",
         "showlegend": true,
         "type": "scattergl",
         "x": [
          "2024-06-17",
          "2024-06-21",
          "2024-06-22"
         ],
         "xaxis": "x",
         "y": [
          37700000,
          38500000,
          38700000
         ],
         "yaxis": "y"
        },
        {
         "hovertemplate": "trackName=Para Ti PapÃ¡<br>date=%{x}<br>views=%{y}<extra></extra>",
         "legendgroup": "Para Ti PapÃ¡",
         "line": {
          "color": "#FF97FF",
          "dash": "solid"
         },
         "marker": {
          "symbol": "circle"
         },
         "mode": "lines+markers",
         "name": "Para Ti PapÃ¡",
         "showlegend": true,
         "type": "scattergl",
         "x": [
          "2024-06-17"
         ],
         "xaxis": "x",
         "y": [
          22700000
         ],
         "yaxis": "y"
        },
        {
         "hovertemplate": "trackName=Piscina<br>date=%{x}<br>views=%{y}<extra></extra>",
         "legendgroup": "Piscina",
         "line": {
          "color": "#FECB52",
          "dash": "solid"
         },
         "marker": {
          "symbol": "circle"
         },
         "mode": "lines+markers",
         "name": "Piscina",
         "showlegend": true,
         "type": "scattergl",
         "x": [
          "2024-06-17"
         ],
         "xaxis": "x",
         "y": [
          62300000
         ],
         "yaxis": "y"
        },
        {
         "hovertemplate": "trackName=Preda o primo<br>date=%{x}<br>views=%{y}<extra></extra>",
         "legendgroup": "Preda o primo",
         "line": {
          "color": "#636efa",
          "dash": "solid"
         },
         "marker": {
          "symbol": "circle"
         },
         "mode": "lines+markers",
         "name": "Preda o primo",
         "showlegend": true,
         "type": "scattergl",
         "x": [
          "2024-06-17"
         ],
         "xaxis": "x",
         "y": [
          18000000
         ],
         "yaxis": "y"
        },
        {
         "hovertemplate": "trackName=Sabrosura<br>date=%{x}<br>views=%{y}<extra></extra>",
         "legendgroup": "Sabrosura",
         "line": {
          "color": "#EF553B",
          "dash": "solid"
         },
         "marker": {
          "symbol": "circle"
         },
         "mode": "lines+markers",
         "name": "Sabrosura",
         "showlegend": true,
         "type": "scattergl",
         "x": [
          "2024-06-17"
         ],
         "xaxis": "x",
         "y": [
          54500000
         ],
         "yaxis": "y"
        },
        {
         "hovertemplate": "trackName=Sevirem Tekce<br>date=%{x}<br>views=%{y}<extra></extra>",
         "legendgroup": "Sevirem Tekce",
         "line": {
          "color": "#00cc96",
          "dash": "solid"
         },
         "marker": {
          "symbol": "circle"
         },
         "mode": "lines+markers",
         "name": "Sevirem Tekce",
         "showlegend": true,
         "type": "scattergl",
         "x": [
          "2024-06-17",
          "2024-06-21",
          "2024-06-22",
          "2024-06-23"
         ],
         "xaxis": "x",
         "y": [
          49900000,
          55200000,
          55900000,
          56500000
         ],
         "yaxis": "y"
        },
        {
         "hovertemplate": "trackName=Snooze<br>date=%{x}<br>views=%{y}<extra></extra>",
         "legendgroup": "Snooze",
         "line": {
          "color": "#ab63fa",
          "dash": "solid"
         },
         "marker": {
          "symbol": "circle"
         },
         "mode": "lines+markers",
         "name": "Snooze",
         "showlegend": true,
         "type": "scattergl",
         "x": [
          "2024-06-17"
         ],
         "xaxis": "x",
         "y": [
          10300000
         ],
         "yaxis": "y"
        },
        {
         "hovertemplate": "trackName=Soy Como Quise Ser<br>date=%{x}<br>views=%{y}<extra></extra>",
         "legendgroup": "Soy Como Quise Ser",
         "line": {
          "color": "#FFA15A",
          "dash": "solid"
         },
         "marker": {
          "symbol": "circle"
         },
         "mode": "lines+markers",
         "name": "Soy Como Quise Ser",
         "showlegend": true,
         "type": "scattergl",
         "x": [
          "2024-06-17",
          "2024-06-20",
          "2024-06-21",
          "2024-06-22",
          "2024-06-23"
         ],
         "xaxis": "x",
         "y": [
          20100000,
          21400000,
          21600000,
          21800000,
          21900000
         ],
         "yaxis": "y"
        },
        {
         "hovertemplate": "trackName=Suspense, Horror, Piano and Music Box<br>date=%{x}<br>views=%{y}<extra></extra>",
         "legendgroup": "Suspense, Horror, Piano and Music Box",
         "line": {
          "color": "#19d3f3",
          "dash": "solid"
         },
         "marker": {
          "symbol": "circle"
         },
         "mode": "lines+markers",
         "name": "Suspense, Horror, Piano and Music Box",
         "showlegend": true,
         "type": "scattergl",
         "x": [
          "2024-06-17"
         ],
         "xaxis": "x",
         "y": [
          13200000
         ],
         "yaxis": "y"
        },
        {
         "hovertemplate": "trackName=Traigo El Mando<br>date=%{x}<br>views=%{y}<extra></extra>",
         "legendgroup": "Traigo El Mando",
         "line": {
          "color": "#FF6692",
          "dash": "solid"
         },
         "marker": {
          "symbol": "circle"
         },
         "mode": "lines+markers",
         "name": "Traigo El Mando",
         "showlegend": true,
         "type": "scattergl",
         "x": [
          "2024-06-17"
         ],
         "xaxis": "x",
         "y": [
          9000000
         ],
         "yaxis": "y"
        },
        {
         "hovertemplate": "trackName=Tumak Xudo<br>date=%{x}<br>views=%{y}<extra></extra>",
         "legendgroup": "Tumak Xudo",
         "line": {
          "color": "#B6E880",
          "dash": "solid"
         },
         "marker": {
          "symbol": "circle"
         },
         "mode": "lines+markers",
         "name": "Tumak Xudo",
         "showlegend": true,
         "type": "scattergl",
         "x": [
          "2024-06-17",
          "2024-06-21"
         ],
         "xaxis": "x",
         "y": [
          15600000,
          17000000
         ],
         "yaxis": "y"
        },
        {
         "hovertemplate": "trackName=Un Poco Loco (From \"Coco\"/Soundtrack Version)<br>date=%{x}<br>views=%{y}<extra></extra>",
         "legendgroup": "Un Poco Loco (From \"Coco\"/Soundtrack Version)",
         "line": {
          "color": "#FF97FF",
          "dash": "solid"
         },
         "marker": {
          "symbol": "circle"
         },
         "mode": "lines+markers",
         "name": "Un Poco Loco (From \"Coco\"/Soundtrack Version)",
         "showlegend": true,
         "type": "scattergl",
         "x": [
          "2024-06-17"
         ],
         "xaxis": "x",
         "y": [
          13500000
         ],
         "yaxis": "y"
        },
        {
         "hovertemplate": "trackName=Unstoppable<br>date=%{x}<br>views=%{y}<extra></extra>",
         "legendgroup": "Unstoppable",
         "line": {
          "color": "#FECB52",
          "dash": "solid"
         },
         "marker": {
          "symbol": "circle"
         },
         "mode": "lines+markers",
         "name": "Unstoppable",
         "showlegend": true,
         "type": "scattergl",
         "x": [
          "2024-06-17"
         ],
         "xaxis": "x",
         "y": [
          20500000
         ],
         "yaxis": "y"
        },
        {
         "hovertemplate": "trackName=WII GO Hard (feat. Bbell)<br>date=%{x}<br>views=%{y}<extra></extra>",
         "legendgroup": "WII GO Hard (feat. Bbell)",
         "line": {
          "color": "#636efa",
          "dash": "solid"
         },
         "marker": {
          "symbol": "circle"
         },
         "mode": "lines+markers",
         "name": "WII GO Hard (feat. Bbell)",
         "showlegend": true,
         "type": "scattergl",
         "x": [
          "2024-06-17"
         ],
         "xaxis": "x",
         "y": [
          11400000
         ],
         "yaxis": "y"
        },
        {
         "hovertemplate": "trackName=Waiting for You<br>date=%{x}<br>views=%{y}<extra></extra>",
         "legendgroup": "Waiting for You",
         "line": {
          "color": "#EF553B",
          "dash": "solid"
         },
         "marker": {
          "symbol": "circle"
         },
         "mode": "lines+markers",
         "name": "Waiting for You",
         "showlegend": true,
         "type": "scattergl",
         "x": [
          "2024-06-17",
          "2024-06-20",
          "2024-06-21",
          "2024-06-22",
          "2024-06-23",
          "2024-06-26"
         ],
         "xaxis": "x",
         "y": [
          97700000,
          205200000,
          104600000,
          106100000,
          107800000,
          111700000
         ],
         "yaxis": "y"
        },
        {
         "hovertemplate": "trackName=act ii: date @ 8<br>date=%{x}<br>views=%{y}<extra></extra>",
         "legendgroup": "act ii: date @ 8",
         "line": {
          "color": "#00cc96",
          "dash": "solid"
         },
         "marker": {
          "symbol": "circle"
         },
         "mode": "lines+markers",
         "name": "act ii: date @ 8",
         "showlegend": true,
         "type": "scattergl",
         "x": [
          "2024-06-17"
         ],
         "xaxis": "x",
         "y": [
          21400000
         ],
         "yaxis": "y"
        },
        {
         "hovertemplate": "trackName=Â¿A DÃ³nde Vamos A Parar?<br>date=%{x}<br>views=%{y}<extra></extra>",
         "legendgroup": "Â¿A DÃ³nde Vamos A Parar?",
         "line": {
          "color": "#ab63fa",
          "dash": "solid"
         },
         "marker": {
          "symbol": "circle"
         },
         "mode": "lines+markers",
         "name": "Â¿A DÃ³nde Vamos A Parar?",
         "showlegend": true,
         "type": "scattergl",
         "x": [
          "2024-06-17"
         ],
         "xaxis": "x",
         "y": [
          13700000
         ],
         "yaxis": "y"
        },
        {
         "hovertemplate": "trackName=Che La Luna (feat. Gia Maione & Sam Butera & The Witnesses)<br>date=%{x}<br>views=%{y}<extra></extra>",
         "legendgroup": "Che La Luna (feat. Gia Maione & Sam Butera & The Witnesses)",
         "line": {
          "color": "#FFA15A",
          "dash": "solid"
         },
         "marker": {
          "symbol": "circle"
         },
         "mode": "lines+markers",
         "name": "Che La Luna (feat. Gia Maione & Sam Butera & The Witnesses)",
         "showlegend": true,
         "type": "scattergl",
         "x": [
          "2024-06-18"
         ],
         "xaxis": "x",
         "y": [
          27900000
         ],
         "yaxis": "y"
        },
        {
         "hovertemplate": "trackName=John 3:16<br>date=%{x}<br>views=%{y}<extra></extra>",
         "legendgroup": "John 3:16",
         "line": {
          "color": "#19d3f3",
          "dash": "solid"
         },
         "marker": {
          "symbol": "circle"
         },
         "mode": "lines+markers",
         "name": "John 3:16",
         "showlegend": true,
         "type": "scattergl",
         "x": [
          "2024-06-18"
         ],
         "xaxis": "x",
         "y": [
          42600000
         ],
         "yaxis": "y"
        },
        {
         "hovertemplate": "trackName=Lil Bit<br>date=%{x}<br>views=%{y}<extra></extra>",
         "legendgroup": "Lil Bit",
         "line": {
          "color": "#FF6692",
          "dash": "solid"
         },
         "marker": {
          "symbol": "circle"
         },
         "mode": "lines+markers",
         "name": "Lil Bit",
         "showlegend": true,
         "type": "scattergl",
         "x": [
          "2024-06-18",
          "2024-06-21",
          "2024-06-22",
          "2024-06-23",
          "2024-06-24"
         ],
         "xaxis": "x",
         "y": [
          10800000,
          3700000,
          7400000,
          3700000,
          3700000
         ],
         "yaxis": "y"
        },
        {
         "hovertemplate": "trackName=RITMADINHA DANÃANTE<br>date=%{x}<br>views=%{y}<extra></extra>",
         "legendgroup": "RITMADINHA DANÃANTE",
         "line": {
          "color": "#B6E880",
          "dash": "solid"
         },
         "marker": {
          "symbol": "circle"
         },
         "mode": "lines+markers",
         "name": "RITMADINHA DANÃANTE",
         "showlegend": true,
         "type": "scattergl",
         "x": [
          "2024-06-18"
         ],
         "xaxis": "x",
         "y": [
          104100000
         ],
         "yaxis": "y"
        },
        {
         "hovertemplate": "trackName=Yeh Jism<br>date=%{x}<br>views=%{y}<extra></extra>",
         "legendgroup": "Yeh Jism",
         "line": {
          "color": "#FF97FF",
          "dash": "solid"
         },
         "marker": {
          "symbol": "circle"
         },
         "mode": "lines+markers",
         "name": "Yeh Jism",
         "showlegend": true,
         "type": "scattergl",
         "x": [
          "2024-06-18",
          "2024-06-19"
         ],
         "xaxis": "x",
         "y": [
          40200000,
          20100000
         ],
         "yaxis": "y"
        },
        {
         "hovertemplate": "trackName=Careless Whisper<br>date=%{x}<br>views=%{y}<extra></extra>",
         "legendgroup": "Careless Whisper",
         "line": {
          "color": "#FECB52",
          "dash": "solid"
         },
         "marker": {
          "symbol": "circle"
         },
         "mode": "lines+markers",
         "name": "Careless Whisper",
         "showlegend": true,
         "type": "scattergl",
         "x": [
          "2024-06-19"
         ],
         "xaxis": "x",
         "y": [
          3000000
         ],
         "yaxis": "y"
        },
        {
         "hovertemplate": "trackName=Gaichite<br>date=%{x}<br>views=%{y}<extra></extra>",
         "legendgroup": "Gaichite",
         "line": {
          "color": "#636efa",
          "dash": "solid"
         },
         "marker": {
          "symbol": "circle"
         },
         "mode": "lines+markers",
         "name": "Gaichite",
         "showlegend": true,
         "type": "scattergl",
         "x": [
          "2024-06-19"
         ],
         "xaxis": "x",
         "y": [
          4600000
         ],
         "yaxis": "y"
        },
        {
         "hovertemplate": "trackName=Transgender (Pearl White Vip)<br>date=%{x}<br>views=%{y}<extra></extra>",
         "legendgroup": "Transgender (Pearl White Vip)",
         "line": {
          "color": "#EF553B",
          "dash": "solid"
         },
         "marker": {
          "symbol": "circle"
         },
         "mode": "lines+markers",
         "name": "Transgender (Pearl White Vip)",
         "showlegend": true,
         "type": "scattergl",
         "x": [
          "2024-06-19"
         ],
         "xaxis": "x",
         "y": [
          4000000
         ],
         "yaxis": "y"
        },
        {
         "hovertemplate": "trackName=Yo Voy (feat. Daddy Yankee)<br>date=%{x}<br>views=%{y}<extra></extra>",
         "legendgroup": "Yo Voy (feat. Daddy Yankee)",
         "line": {
          "color": "#00cc96",
          "dash": "solid"
         },
         "marker": {
          "symbol": "circle"
         },
         "mode": "lines+markers",
         "name": "Yo Voy (feat. Daddy Yankee)",
         "showlegend": true,
         "type": "scattergl",
         "x": [
          "2024-06-19"
         ],
         "xaxis": "x",
         "y": [
          5600000
         ],
         "yaxis": "y"
        },
        {
         "hovertemplate": "trackName=13 Angels Standing Guard 'Round The Side Of Your Bed<br>date=%{x}<br>views=%{y}<extra></extra>",
         "legendgroup": "13 Angels Standing Guard 'Round The Side Of Your Bed",
         "line": {
          "color": "#ab63fa",
          "dash": "solid"
         },
         "marker": {
          "symbol": "circle"
         },
         "mode": "lines+markers",
         "name": "13 Angels Standing Guard 'Round The Side Of Your Bed",
         "showlegend": true,
         "type": "scattergl",
         "x": [
          "2024-06-20",
          "2024-06-25"
         ],
         "xaxis": "x",
         "y": [
          83500000,
          85200000
         ],
         "yaxis": "y"
        },
        {
         "hovertemplate": "trackName=Alone<br>date=%{x}<br>views=%{y}<extra></extra>",
         "legendgroup": "Alone",
         "line": {
          "color": "#FFA15A",
          "dash": "solid"
         },
         "marker": {
          "symbol": "circle"
         },
         "mode": "lines+markers",
         "name": "Alone",
         "showlegend": true,
         "type": "scattergl",
         "x": [
          "2024-06-20"
         ],
         "xaxis": "x",
         "y": [
          127400000
         ],
         "yaxis": "y"
        },
        {
         "hovertemplate": "trackName=Baile do Coqueiro 5. 0<br>date=%{x}<br>views=%{y}<extra></extra>",
         "legendgroup": "Baile do Coqueiro 5. 0",
         "line": {
          "color": "#19d3f3",
          "dash": "solid"
         },
         "marker": {
          "symbol": "circle"
         },
         "mode": "lines+markers",
         "name": "Baile do Coqueiro 5. 0",
         "showlegend": true,
         "type": "scattergl",
         "x": [
          "2024-06-20",
          "2024-06-25"
         ],
         "xaxis": "x",
         "y": [
          14500000,
          14600000
         ],
         "yaxis": "y"
        },
        {
         "hovertemplate": "trackName=Bubble Pop Electric (feat. Johnny Vulture)<br>date=%{x}<br>views=%{y}<extra></extra>",
         "legendgroup": "Bubble Pop Electric (feat. Johnny Vulture)",
         "line": {
          "color": "#FF6692",
          "dash": "solid"
         },
         "marker": {
          "symbol": "circle"
         },
         "mode": "lines+markers",
         "name": "Bubble Pop Electric (feat. Johnny Vulture)",
         "showlegend": true,
         "type": "scattergl",
         "x": [
          "2024-06-20",
          "2024-06-21",
          "2024-06-22"
         ],
         "xaxis": "x",
         "y": [
          7700000,
          15400000,
          7800000
         ],
         "yaxis": "y"
        },
        {
         "hovertemplate": "trackName=Despacito<br>date=%{x}<br>views=%{y}<extra></extra>",
         "legendgroup": "Despacito",
         "line": {
          "color": "#B6E880",
          "dash": "solid"
         },
         "marker": {
          "symbol": "circle"
         },
         "mode": "lines+markers",
         "name": "Despacito",
         "showlegend": true,
         "type": "scattergl",
         "x": [
          "2024-06-20"
         ],
         "xaxis": "x",
         "y": [
          27600000
         ],
         "yaxis": "y"
        },
        {
         "hovertemplate": "trackName=Dolce nonna<br>date=%{x}<br>views=%{y}<extra></extra>",
         "legendgroup": "Dolce nonna",
         "line": {
          "color": "#FF97FF",
          "dash": "solid"
         },
         "marker": {
          "symbol": "circle"
         },
         "mode": "lines+markers",
         "name": "Dolce nonna",
         "showlegend": true,
         "type": "scattergl",
         "x": [
          "2024-06-20",
          "2024-06-25"
         ],
         "xaxis": "x",
         "y": [
          58000000,
          58000000
         ],
         "yaxis": "y"
        },
        {
         "hovertemplate": "trackName=Don<br>date=%{x}<br>views=%{y}<extra></extra>",
         "legendgroup": "Don",
         "line": {
          "color": "#FECB52",
          "dash": "solid"
         },
         "marker": {
          "symbol": "circle"
         },
         "mode": "lines+markers",
         "name": "Don",
         "showlegend": true,
         "type": "scattergl",
         "x": [
          "2024-06-20"
         ],
         "xaxis": "x",
         "y": [
          100400000
         ],
         "yaxis": "y"
        },
        {
         "hovertemplate": "trackName=Lilly (Acoustic Cover)<br>date=%{x}<br>views=%{y}<extra></extra>",
         "legendgroup": "Lilly (Acoustic Cover)",
         "line": {
          "color": "#636efa",
          "dash": "solid"
         },
         "marker": {
          "symbol": "circle"
         },
         "mode": "lines+markers",
         "name": "Lilly (Acoustic Cover)",
         "showlegend": true,
         "type": "scattergl",
         "x": [
          "2024-06-20"
         ],
         "xaxis": "x",
         "y": [
          78000000
         ],
         "yaxis": "y"
        },
        {
         "hovertemplate": "trackName=Open the Door (That's Not My Neighbor Song) (feat. DayumDahlia)<br>date=%{x}<br>views=%{y}<extra></extra>",
         "legendgroup": "Open the Door (That's Not My Neighbor Song) (feat. DayumDahlia)",
         "line": {
          "color": "#EF553B",
          "dash": "solid"
         },
         "marker": {
          "symbol": "circle"
         },
         "mode": "lines+markers",
         "name": "Open the Door (That's Not My Neighbor Song) (feat. DayumDahlia)",
         "showlegend": true,
         "type": "scattergl",
         "x": [
          "2024-06-20"
         ],
         "xaxis": "x",
         "y": [
          42600000
         ],
         "yaxis": "y"
        },
        {
         "hovertemplate": "trackName=This Is How We Do It<br>date=%{x}<br>views=%{y}<extra></extra>",
         "legendgroup": "This Is How We Do It",
         "line": {
          "color": "#00cc96",
          "dash": "solid"
         },
         "marker": {
          "symbol": "circle"
         },
         "mode": "lines+markers",
         "name": "This Is How We Do It",
         "showlegend": true,
         "type": "scattergl",
         "x": [
          "2024-06-20"
         ],
         "xaxis": "x",
         "y": [
          48000000
         ],
         "yaxis": "y"
        },
        {
         "hovertemplate": "trackName=Up!<br>date=%{x}<br>views=%{y}<extra></extra>",
         "legendgroup": "Up!",
         "line": {
          "color": "#ab63fa",
          "dash": "solid"
         },
         "marker": {
          "symbol": "circle"
         },
         "mode": "lines+markers",
         "name": "Up!",
         "showlegend": true,
         "type": "scattergl",
         "x": [
          "2024-06-20",
          "2024-06-25"
         ],
         "xaxis": "x",
         "y": [
          19000000,
          10000000
         ],
         "yaxis": "y"
        },
        {
         "hovertemplate": "trackName=Veggie Dance<br>date=%{x}<br>views=%{y}<extra></extra>",
         "legendgroup": "Veggie Dance",
         "line": {
          "color": "#FFA15A",
          "dash": "solid"
         },
         "marker": {
          "symbol": "circle"
         },
         "mode": "lines+markers",
         "name": "Veggie Dance",
         "showlegend": true,
         "type": "scattergl",
         "x": [
          "2024-06-20",
          "2024-06-25"
         ],
         "xaxis": "x",
         "y": [
          52600000,
          34800000
         ],
         "yaxis": "y"
        },
        {
         "hovertemplate": "trackName=Vibe (If I Back It Up)<br>date=%{x}<br>views=%{y}<extra></extra>",
         "legendgroup": "Vibe (If I Back It Up)",
         "line": {
          "color": "#19d3f3",
          "dash": "solid"
         },
         "marker": {
          "symbol": "circle"
         },
         "mode": "lines+markers",
         "name": "Vibe (If I Back It Up)",
         "showlegend": true,
         "type": "scattergl",
         "x": [
          "2024-06-20",
          "2024-06-25"
         ],
         "xaxis": "x",
         "y": [
          18900000,
          19000000
         ],
         "yaxis": "y"
        },
        {
         "hovertemplate": "trackName=Big Energy<br>date=%{x}<br>views=%{y}<extra></extra>",
         "legendgroup": "Big Energy",
         "line": {
          "color": "#FF6692",
          "dash": "solid"
         },
         "marker": {
          "symbol": "circle"
         },
         "mode": "lines+markers",
         "name": "Big Energy",
         "showlegend": true,
         "type": "scattergl",
         "x": [
          "2024-06-21",
          "2024-06-22",
          "2024-06-23"
         ],
         "xaxis": "x",
         "y": [
          25000000,
          26100000,
          26900000
         ],
         "yaxis": "y"
        },
        {
         "hovertemplate": "trackName=Chinatown Pluggnb<br>date=%{x}<br>views=%{y}<extra></extra>",
         "legendgroup": "Chinatown Pluggnb",
         "line": {
          "color": "#B6E880",
          "dash": "solid"
         },
         "marker": {
          "symbol": "circle"
         },
         "mode": "lines+markers",
         "name": "Chinatown Pluggnb",
         "showlegend": true,
         "type": "scattergl",
         "x": [
          "2024-06-21",
          "2024-06-22",
          "2024-06-23",
          "2024-06-25",
          "2024-06-26"
         ],
         "xaxis": "x",
         "y": [
          54800000,
          55100000,
          55300000,
          55600000,
          55700000
         ],
         "yaxis": "y"
        },
        {
         "hovertemplate": "trackName=Don't Worry Be Happy<br>date=%{x}<br>views=%{y}<extra></extra>",
         "legendgroup": "Don't Worry Be Happy",
         "line": {
          "color": "#FF97FF",
          "dash": "solid"
         },
         "marker": {
          "symbol": "circle"
         },
         "mode": "lines+markers",
         "name": "Don't Worry Be Happy",
         "showlegend": true,
         "type": "scattergl",
         "x": [
          "2024-06-21",
          "2024-06-22"
         ],
         "xaxis": "x",
         "y": [
          19000000,
          19300000
         ],
         "yaxis": "y"
        },
        {
         "hovertemplate": "trackName=Fight<br>date=%{x}<br>views=%{y}<extra></extra>",
         "legendgroup": "Fight",
         "line": {
          "color": "#FECB52",
          "dash": "solid"
         },
         "marker": {
          "symbol": "circle"
         },
         "mode": "lines+markers",
         "name": "Fight",
         "showlegend": true,
         "type": "scattergl",
         "x": [
          "2024-06-21",
          "2024-06-22",
          "2024-06-23",
          "2024-06-24",
          "2024-06-25",
          "2024-06-27"
         ],
         "xaxis": "x",
         "y": [
          2100000,
          4200000,
          4400000,
          4400000,
          4400000,
          4400000
         ],
         "yaxis": "y"
        },
        {
         "hovertemplate": "trackName=Gone For The Summer (feat. A Boogie wit da Hoodie)<br>date=%{x}<br>views=%{y}<extra></extra>",
         "legendgroup": "Gone For The Summer (feat. A Boogie wit da Hoodie)",
         "line": {
          "color": "#636efa",
          "dash": "solid"
         },
         "marker": {
          "symbol": "circle"
         },
         "mode": "lines+markers",
         "name": "Gone For The Summer (feat. A Boogie wit da Hoodie)",
         "showlegend": true,
         "type": "scattergl",
         "x": [
          "2024-06-21",
          "2024-06-22",
          "2024-06-23"
         ],
         "xaxis": "x",
         "y": [
          38400000,
          38600000,
          39000000
         ],
         "yaxis": "y"
        },
        {
         "hovertemplate": "trackName=Hamd-o-Naat (Without Music)<br>date=%{x}<br>views=%{y}<extra></extra>",
         "legendgroup": "Hamd-o-Naat (Without Music)",
         "line": {
          "color": "#EF553B",
          "dash": "solid"
         },
         "marker": {
          "symbol": "circle"
         },
         "mode": "lines+markers",
         "name": "Hamd-o-Naat (Without Music)",
         "showlegend": true,
         "type": "scattergl",
         "x": [
          "2024-06-21",
          "2024-06-22"
         ],
         "xaxis": "x",
         "y": [
          50300000,
          50700000
         ],
         "yaxis": "y"
        },
        {
         "hovertemplate": "trackName=HelicÃ³ptero<br>date=%{x}<br>views=%{y}<extra></extra>",
         "legendgroup": "HelicÃ³ptero",
         "line": {
          "color": "#00cc96",
          "dash": "solid"
         },
         "marker": {
          "symbol": "circle"
         },
         "mode": "lines+markers",
         "name": "HelicÃ³ptero",
         "showlegend": true,
         "type": "scattergl",
         "x": [
          "2024-06-21"
         ],
         "xaxis": "x",
         "y": [
          2200000
         ],
         "yaxis": "y"
        },
        {
         "hovertemplate": "trackName=Inspiring Rhythms<br>date=%{x}<br>views=%{y}<extra></extra>",
         "legendgroup": "Inspiring Rhythms",
         "line": {
          "color": "#ab63fa",
          "dash": "solid"
         },
         "marker": {
          "symbol": "circle"
         },
         "mode": "lines+markers",
         "name": "Inspiring Rhythms",
         "showlegend": true,
         "type": "scattergl",
         "x": [
          "2024-06-21",
          "2024-06-22",
          "2024-06-23",
          "2024-06-26",
          "2024-06-27"
         ],
         "xaxis": "x",
         "y": [
          26500000,
          29600000,
          33000000,
          83400000,
          45000000
         ],
         "yaxis": "y"
        },
        {
         "hovertemplate": "trackName=Lose Control<br>date=%{x}<br>views=%{y}<extra></extra>",
         "legendgroup": "Lose Control",
         "line": {
          "color": "#FFA15A",
          "dash": "solid"
         },
         "marker": {
          "symbol": "circle"
         },
         "mode": "lines+markers",
         "name": "Lose Control",
         "showlegend": true,
         "type": "scattergl",
         "x": [
          "2024-06-21",
          "2024-06-22",
          "2024-06-23"
         ],
         "xaxis": "x",
         "y": [
          25000000,
          26700000,
          28100000
         ],
         "yaxis": "y"
        },
        {
         "hovertemplate": "trackName=Please Please Please<br>date=%{x}<br>views=%{y}<extra></extra>",
         "legendgroup": "Please Please Please",
         "line": {
          "color": "#19d3f3",
          "dash": "solid"
         },
         "marker": {
          "symbol": "circle"
         },
         "mode": "lines+markers",
         "name": "Please Please Please",
         "showlegend": true,
         "type": "scattergl",
         "x": [
          "2024-06-21",
          "2024-06-22",
          "2024-06-23"
         ],
         "xaxis": "x",
         "y": [
          42900000,
          43100000,
          43400000
         ],
         "yaxis": "y"
        },
        {
         "hovertemplate": "trackName=Say My Name<br>date=%{x}<br>views=%{y}<extra></extra>",
         "legendgroup": "Say My Name",
         "line": {
          "color": "#FF6692",
          "dash": "solid"
         },
         "marker": {
          "symbol": "circle"
         },
         "mode": "lines+markers",
         "name": "Say My Name",
         "showlegend": true,
         "type": "scattergl",
         "x": [
          "2024-06-21",
          "2024-06-22",
          "2024-06-23",
          "2024-06-26"
         ],
         "xaxis": "x",
         "y": [
          53500000,
          54800000,
          56500000,
          63000000
         ],
         "yaxis": "y"
        },
        {
         "hovertemplate": "trackName=She Talks To Angels<br>date=%{x}<br>views=%{y}<extra></extra>",
         "legendgroup": "She Talks To Angels",
         "line": {
          "color": "#B6E880",
          "dash": "solid"
         },
         "marker": {
          "symbol": "circle"
         },
         "mode": "lines+markers",
         "name": "She Talks To Angels",
         "showlegend": true,
         "type": "scattergl",
         "x": [
          "2024-06-21",
          "2024-06-24"
         ],
         "xaxis": "x",
         "y": [
          5600000,
          5600000
         ],
         "yaxis": "y"
        },
        {
         "hovertemplate": "trackName=Shut Up and Drive<br>date=%{x}<br>views=%{y}<extra></extra>",
         "legendgroup": "Shut Up and Drive",
         "line": {
          "color": "#FF97FF",
          "dash": "solid"
         },
         "marker": {
          "symbol": "circle"
         },
         "mode": "lines+markers",
         "name": "Shut Up and Drive",
         "showlegend": true,
         "type": "scattergl",
         "x": [
          "2024-06-21",
          "2024-06-22",
          "2024-06-23",
          "2024-06-26",
          "2024-06-27"
         ],
         "xaxis": "x",
         "y": [
          60900000,
          62800000,
          63800000,
          130600000,
          65900000
         ],
         "yaxis": "y"
        },
        {
         "hovertemplate": "trackName=å¤¢é§é´<br>date=%{x}<br>views=%{y}<extra></extra>",
         "legendgroup": "å¤¢é§é´",
         "line": {
          "color": "#FECB52",
          "dash": "solid"
         },
         "marker": {
          "symbol": "circle"
         },
         "mode": "lines+markers",
         "name": "å¤¢é§é´",
         "showlegend": true,
         "type": "scattergl",
         "x": [
          "2024-06-21",
          "2024-06-22",
          "2024-06-23"
         ],
         "xaxis": "x",
         "y": [
          18600000,
          19100000,
          19300000
         ],
         "yaxis": "y"
        }
       ],
       "layout": {
        "height": 800,
        "legend": {
         "title": {
          "text": "trackName"
         },
         "tracegroupgap": 0
        },
        "template": {
         "data": {
          "bar": [
           {
            "error_x": {
             "color": "#2a3f5f"
            },
            "error_y": {
             "color": "#2a3f5f"
            },
            "marker": {
             "line": {
              "color": "#E5ECF6",
              "width": 0.5
             },
             "pattern": {
              "fillmode": "overlay",
              "size": 10,
              "solidity": 0.2
             }
            },
            "type": "bar"
           }
          ],
          "barpolar": [
           {
            "marker": {
             "line": {
              "color": "#E5ECF6",
              "width": 0.5
             },
             "pattern": {
              "fillmode": "overlay",
              "size": 10,
              "solidity": 0.2
             }
            },
            "type": "barpolar"
           }
          ],
          "carpet": [
           {
            "aaxis": {
             "endlinecolor": "#2a3f5f",
             "gridcolor": "white",
             "linecolor": "white",
             "minorgridcolor": "white",
             "startlinecolor": "#2a3f5f"
            },
            "baxis": {
             "endlinecolor": "#2a3f5f",
             "gridcolor": "white",
             "linecolor": "white",
             "minorgridcolor": "white",
             "startlinecolor": "#2a3f5f"
            },
            "type": "carpet"
           }
          ],
          "choropleth": [
           {
            "colorbar": {
             "outlinewidth": 0,
             "ticks": ""
            },
            "type": "choropleth"
           }
          ],
          "contour": [
           {
            "colorbar": {
             "outlinewidth": 0,
             "ticks": ""
            },
            "colorscale": [
             [
              0,
              "#0d0887"
             ],
             [
              0.1111111111111111,
              "#46039f"
             ],
             [
              0.2222222222222222,
              "#7201a8"
             ],
             [
              0.3333333333333333,
              "#9c179e"
             ],
             [
              0.4444444444444444,
              "#bd3786"
             ],
             [
              0.5555555555555556,
              "#d8576b"
             ],
             [
              0.6666666666666666,
              "#ed7953"
             ],
             [
              0.7777777777777778,
              "#fb9f3a"
             ],
             [
              0.8888888888888888,
              "#fdca26"
             ],
             [
              1,
              "#f0f921"
             ]
            ],
            "type": "contour"
           }
          ],
          "contourcarpet": [
           {
            "colorbar": {
             "outlinewidth": 0,
             "ticks": ""
            },
            "type": "contourcarpet"
           }
          ],
          "heatmap": [
           {
            "colorbar": {
             "outlinewidth": 0,
             "ticks": ""
            },
            "colorscale": [
             [
              0,
              "#0d0887"
             ],
             [
              0.1111111111111111,
              "#46039f"
             ],
             [
              0.2222222222222222,
              "#7201a8"
             ],
             [
              0.3333333333333333,
              "#9c179e"
             ],
             [
              0.4444444444444444,
              "#bd3786"
             ],
             [
              0.5555555555555556,
              "#d8576b"
             ],
             [
              0.6666666666666666,
              "#ed7953"
             ],
             [
              0.7777777777777778,
              "#fb9f3a"
             ],
             [
              0.8888888888888888,
              "#fdca26"
             ],
             [
              1,
              "#f0f921"
             ]
            ],
            "type": "heatmap"
           }
          ],
          "heatmapgl": [
           {
            "colorbar": {
             "outlinewidth": 0,
             "ticks": ""
            },
            "colorscale": [
             [
              0,
              "#0d0887"
             ],
             [
              0.1111111111111111,
              "#46039f"
             ],
             [
              0.2222222222222222,
              "#7201a8"
             ],
             [
              0.3333333333333333,
              "#9c179e"
             ],
             [
              0.4444444444444444,
              "#bd3786"
             ],
             [
              0.5555555555555556,
              "#d8576b"
             ],
             [
              0.6666666666666666,
              "#ed7953"
             ],
             [
              0.7777777777777778,
              "#fb9f3a"
             ],
             [
              0.8888888888888888,
              "#fdca26"
             ],
             [
              1,
              "#f0f921"
             ]
            ],
            "type": "heatmapgl"
           }
          ],
          "histogram": [
           {
            "marker": {
             "pattern": {
              "fillmode": "overlay",
              "size": 10,
              "solidity": 0.2
             }
            },
            "type": "histogram"
           }
          ],
          "histogram2d": [
           {
            "colorbar": {
             "outlinewidth": 0,
             "ticks": ""
            },
            "colorscale": [
             [
              0,
              "#0d0887"
             ],
             [
              0.1111111111111111,
              "#46039f"
             ],
             [
              0.2222222222222222,
              "#7201a8"
             ],
             [
              0.3333333333333333,
              "#9c179e"
             ],
             [
              0.4444444444444444,
              "#bd3786"
             ],
             [
              0.5555555555555556,
              "#d8576b"
             ],
             [
              0.6666666666666666,
              "#ed7953"
             ],
             [
              0.7777777777777778,
              "#fb9f3a"
             ],
             [
              0.8888888888888888,
              "#fdca26"
             ],
             [
              1,
              "#f0f921"
             ]
            ],
            "type": "histogram2d"
           }
          ],
          "histogram2dcontour": [
           {
            "colorbar": {
             "outlinewidth": 0,
             "ticks": ""
            },
            "colorscale": [
             [
              0,
              "#0d0887"
             ],
             [
              0.1111111111111111,
              "#46039f"
             ],
             [
              0.2222222222222222,
              "#7201a8"
             ],
             [
              0.3333333333333333,
              "#9c179e"
             ],
             [
              0.4444444444444444,
              "#bd3786"
             ],
             [
              0.5555555555555556,
              "#d8576b"
             ],
             [
              0.6666666666666666,
              "#ed7953"
             ],
             [
              0.7777777777777778,
              "#fb9f3a"
             ],
             [
              0.8888888888888888,
              "#fdca26"
             ],
             [
              1,
              "#f0f921"
             ]
            ],
            "type": "histogram2dcontour"
           }
          ],
          "mesh3d": [
           {
            "colorbar": {
             "outlinewidth": 0,
             "ticks": ""
            },
            "type": "mesh3d"
           }
          ],
          "parcoords": [
           {
            "line": {
             "colorbar": {
              "outlinewidth": 0,
              "ticks": ""
             }
            },
            "type": "parcoords"
           }
          ],
          "pie": [
           {
            "automargin": true,
            "type": "pie"
           }
          ],
          "scatter": [
           {
            "fillpattern": {
             "fillmode": "overlay",
             "size": 10,
             "solidity": 0.2
            },
            "type": "scatter"
           }
          ],
          "scatter3d": [
           {
            "line": {
             "colorbar": {
              "outlinewidth": 0,
              "ticks": ""
             }
            },
            "marker": {
             "colorbar": {
              "outlinewidth": 0,
              "ticks": ""
             }
            },
            "type": "scatter3d"
           }
          ],
          "scattercarpet": [
           {
            "marker": {
             "colorbar": {
              "outlinewidth": 0,
              "ticks": ""
             }
            },
            "type": "scattercarpet"
           }
          ],
          "scattergeo": [
           {
            "marker": {
             "colorbar": {
              "outlinewidth": 0,
              "ticks": ""
             }
            },
            "type": "scattergeo"
           }
          ],
          "scattergl": [
           {
            "marker": {
             "colorbar": {
              "outlinewidth": 0,
              "ticks": ""
             }
            },
            "type": "scattergl"
           }
          ],
          "scattermapbox": [
           {
            "marker": {
             "colorbar": {
              "outlinewidth": 0,
              "ticks": ""
             }
            },
            "type": "scattermapbox"
           }
          ],
          "scatterpolar": [
           {
            "marker": {
             "colorbar": {
              "outlinewidth": 0,
              "ticks": ""
             }
            },
            "type": "scatterpolar"
           }
          ],
          "scatterpolargl": [
           {
            "marker": {
             "colorbar": {
              "outlinewidth": 0,
              "ticks": ""
             }
            },
            "type": "scatterpolargl"
           }
          ],
          "scatterternary": [
           {
            "marker": {
             "colorbar": {
              "outlinewidth": 0,
              "ticks": ""
             }
            },
            "type": "scatterternary"
           }
          ],
          "surface": [
           {
            "colorbar": {
             "outlinewidth": 0,
             "ticks": ""
            },
            "colorscale": [
             [
              0,
              "#0d0887"
             ],
             [
              0.1111111111111111,
              "#46039f"
             ],
             [
              0.2222222222222222,
              "#7201a8"
             ],
             [
              0.3333333333333333,
              "#9c179e"
             ],
             [
              0.4444444444444444,
              "#bd3786"
             ],
             [
              0.5555555555555556,
              "#d8576b"
             ],
             [
              0.6666666666666666,
              "#ed7953"
             ],
             [
              0.7777777777777778,
              "#fb9f3a"
             ],
             [
              0.8888888888888888,
              "#fdca26"
             ],
             [
              1,
              "#f0f921"
             ]
            ],
            "type": "surface"
           }
          ],
          "table": [
           {
            "cells": {
             "fill": {
              "color": "#EBF0F8"
             },
             "line": {
              "color": "white"
             }
            },
            "header": {
             "fill": {
              "color": "#C8D4E3"
             },
             "line": {
              "color": "white"
             }
            },
            "type": "table"
           }
          ]
         },
         "layout": {
          "annotationdefaults": {
           "arrowcolor": "#2a3f5f",
           "arrowhead": 0,
           "arrowwidth": 1
          },
          "autotypenumbers": "strict",
          "coloraxis": {
           "colorbar": {
            "outlinewidth": 0,
            "ticks": ""
           }
          },
          "colorscale": {
           "diverging": [
            [
             0,
             "#8e0152"
            ],
            [
             0.1,
             "#c51b7d"
            ],
            [
             0.2,
             "#de77ae"
            ],
            [
             0.3,
             "#f1b6da"
            ],
            [
             0.4,
             "#fde0ef"
            ],
            [
             0.5,
             "#f7f7f7"
            ],
            [
             0.6,
             "#e6f5d0"
            ],
            [
             0.7,
             "#b8e186"
            ],
            [
             0.8,
             "#7fbc41"
            ],
            [
             0.9,
             "#4d9221"
            ],
            [
             1,
             "#276419"
            ]
           ],
           "sequential": [
            [
             0,
             "#0d0887"
            ],
            [
             0.1111111111111111,
             "#46039f"
            ],
            [
             0.2222222222222222,
             "#7201a8"
            ],
            [
             0.3333333333333333,
             "#9c179e"
            ],
            [
             0.4444444444444444,
             "#bd3786"
            ],
            [
             0.5555555555555556,
             "#d8576b"
            ],
            [
             0.6666666666666666,
             "#ed7953"
            ],
            [
             0.7777777777777778,
             "#fb9f3a"
            ],
            [
             0.8888888888888888,
             "#fdca26"
            ],
            [
             1,
             "#f0f921"
            ]
           ],
           "sequentialminus": [
            [
             0,
             "#0d0887"
            ],
            [
             0.1111111111111111,
             "#46039f"
            ],
            [
             0.2222222222222222,
             "#7201a8"
            ],
            [
             0.3333333333333333,
             "#9c179e"
            ],
            [
             0.4444444444444444,
             "#bd3786"
            ],
            [
             0.5555555555555556,
             "#d8576b"
            ],
            [
             0.6666666666666666,
             "#ed7953"
            ],
            [
             0.7777777777777778,
             "#fb9f3a"
            ],
            [
             0.8888888888888888,
             "#fdca26"
            ],
            [
             1,
             "#f0f921"
            ]
           ]
          },
          "colorway": [
           "#636efa",
           "#EF553B",
           "#00cc96",
           "#ab63fa",
           "#FFA15A",
           "#19d3f3",
           "#FF6692",
           "#B6E880",
           "#FF97FF",
           "#FECB52"
          ],
          "font": {
           "color": "#2a3f5f"
          },
          "geo": {
           "bgcolor": "white",
           "lakecolor": "white",
           "landcolor": "#E5ECF6",
           "showlakes": true,
           "showland": true,
           "subunitcolor": "white"
          },
          "hoverlabel": {
           "align": "left"
          },
          "hovermode": "closest",
          "mapbox": {
           "style": "light"
          },
          "paper_bgcolor": "white",
          "plot_bgcolor": "#E5ECF6",
          "polar": {
           "angularaxis": {
            "gridcolor": "white",
            "linecolor": "white",
            "ticks": ""
           },
           "bgcolor": "#E5ECF6",
           "radialaxis": {
            "gridcolor": "white",
            "linecolor": "white",
            "ticks": ""
           }
          },
          "scene": {
           "xaxis": {
            "backgroundcolor": "#E5ECF6",
            "gridcolor": "white",
            "gridwidth": 2,
            "linecolor": "white",
            "showbackground": true,
            "ticks": "",
            "zerolinecolor": "white"
           },
           "yaxis": {
            "backgroundcolor": "#E5ECF6",
            "gridcolor": "white",
            "gridwidth": 2,
            "linecolor": "white",
            "showbackground": true,
            "ticks": "",
            "zerolinecolor": "white"
           },
           "zaxis": {
            "backgroundcolor": "#E5ECF6",
            "gridcolor": "white",
            "gridwidth": 2,
            "linecolor": "white",
            "showbackground": true,
            "ticks": "",
            "zerolinecolor": "white"
           }
          },
          "shapedefaults": {
           "line": {
            "color": "#2a3f5f"
           }
          },
          "ternary": {
           "aaxis": {
            "gridcolor": "white",
            "linecolor": "white",
            "ticks": ""
           },
           "baxis": {
            "gridcolor": "white",
            "linecolor": "white",
            "ticks": ""
           },
           "bgcolor": "#E5ECF6",
           "caxis": {
            "gridcolor": "white",
            "linecolor": "white",
            "ticks": ""
           }
          },
          "title": {
           "x": 0.05
          },
          "xaxis": {
           "automargin": true,
           "gridcolor": "white",
           "linecolor": "white",
           "ticks": "",
           "title": {
            "standoff": 15
           },
           "zerolinecolor": "white",
           "zerolinewidth": 2
          },
          "yaxis": {
           "automargin": true,
           "gridcolor": "white",
           "linecolor": "white",
           "ticks": "",
           "title": {
            "standoff": 15
           },
           "zerolinecolor": "white",
           "zerolinewidth": 2
          }
         }
        },
        "title": {
         "text": "Suma de views por canción en TikTok"
        },
        "xaxis": {
         "anchor": "y",
         "domain": [
          0,
          1
         ],
         "title": {
          "text": "date"
         }
        },
        "yaxis": {
         "anchor": "x",
         "domain": [
          0,
          1
         ],
         "title": {
          "text": "views"
         }
        }
       }
      }
     },
     "metadata": {},
     "output_type": "display_data"
    }
   ],
   "source": [
    "grouped_by_date_song = spotifyshazam_df.groupby(['date', 'trackName']).agg({'views': 'sum'})\n",
    "grouped_by_date_song.reset_index(inplace=True)\n",
    "\n",
    "fig = px.line(grouped_by_date_song, x='date', y='views', color='trackName', markers=True, title='Suma de views por canción en TikTok')\n",
    "\n",
    "fig.update_layout(height=800)\n",
    "\n",
    "fig.show()"
   ]
  },
  {
   "cell_type": "code",
   "execution_count": 27,
   "id": "399907cf",
   "metadata": {},
   "outputs": [
    {
     "data": {
      "application/vnd.plotly.v1+json": {
       "config": {
        "plotlyServerURL": "https://plot.ly"
       },
       "data": [
        {
         "hovertemplate": "trackName=End of Beginning<br>date=%{x}<br>views=%{y}<extra></extra>",
         "legendgroup": "End of Beginning",
         "line": {
          "color": "#636efa",
          "dash": "solid"
         },
         "marker": {
          "symbol": "circle"
         },
         "mode": "lines+markers",
         "name": "End of Beginning",
         "orientation": "v",
         "showlegend": true,
         "type": "scatter",
         "x": [
          "2024-05-16",
          "2024-06-10",
          "2024-06-12",
          "2024-06-20"
         ],
         "xaxis": "x",
         "y": [
          39300000,
          5100000,
          46300000,
          46500000
         ],
         "yaxis": "y"
        },
        {
         "hovertemplate": "trackName=FE!N (feat. Playboi Carti)<br>date=%{x}<br>views=%{y}<extra></extra>",
         "legendgroup": "FE!N (feat. Playboi Carti)",
         "line": {
          "color": "#EF553B",
          "dash": "solid"
         },
         "marker": {
          "symbol": "circle"
         },
         "mode": "lines+markers",
         "name": "FE!N (feat. Playboi Carti)",
         "orientation": "v",
         "showlegend": true,
         "type": "scatter",
         "x": [
          "2024-05-16",
          "2024-05-17",
          "2024-05-18",
          "2024-05-21",
          "2024-05-25",
          "2024-05-26"
         ],
         "xaxis": "x",
         "y": [
          365000000,
          7600000,
          8100000,
          191000000,
          5500000,
          11000000
         ],
         "yaxis": "y"
        },
        {
         "hovertemplate": "trackName=MILLION DOLLAR BABY<br>date=%{x}<br>views=%{y}<extra></extra>",
         "legendgroup": "MILLION DOLLAR BABY",
         "line": {
          "color": "#00cc96",
          "dash": "solid"
         },
         "marker": {
          "symbol": "circle"
         },
         "mode": "lines+markers",
         "name": "MILLION DOLLAR BABY",
         "orientation": "v",
         "showlegend": true,
         "type": "scatter",
         "x": [
          "2024-05-16",
          "2024-05-22",
          "2024-05-25",
          "2024-05-28",
          "2024-05-29",
          "2024-05-30",
          "2024-05-31",
          "2024-06-02",
          "2024-06-03",
          "2024-06-04",
          "2024-06-05",
          "2024-06-15",
          "2024-06-17",
          "2024-06-20",
          "2024-06-21",
          "2024-06-22",
          "2024-06-23",
          "2024-06-26"
         ],
         "xaxis": "x",
         "y": [
          6700000,
          40000000,
          7000000,
          7800000,
          78500000,
          60800000,
          132100000,
          11600000,
          45600000,
          30200000,
          0,
          107000000,
          96200000,
          98700000,
          99100000,
          113500000,
          138700000,
          26900000
         ],
         "yaxis": "y"
        },
        {
         "hovertemplate": "trackName=My Love Mine All Mine<br>date=%{x}<br>views=%{y}<extra></extra>",
         "legendgroup": "My Love Mine All Mine",
         "line": {
          "color": "#ab63fa",
          "dash": "solid"
         },
         "marker": {
          "symbol": "circle"
         },
         "mode": "lines+markers",
         "name": "My Love Mine All Mine",
         "orientation": "v",
         "showlegend": true,
         "type": "scatter",
         "x": [
          "2024-05-16",
          "2024-05-17",
          "2024-05-18"
         ],
         "xaxis": "x",
         "y": [
          72700000,
          145400000,
          145600000
         ],
         "yaxis": "y"
        },
        {
         "hovertemplate": "trackName=See You Again (feat. Kali Uchis)<br>date=%{x}<br>views=%{y}<extra></extra>",
         "legendgroup": "See You Again (feat. Kali Uchis)",
         "line": {
          "color": "#FFA15A",
          "dash": "solid"
         },
         "marker": {
          "symbol": "circle"
         },
         "mode": "lines+markers",
         "name": "See You Again (feat. Kali Uchis)",
         "orientation": "v",
         "showlegend": true,
         "type": "scatter",
         "x": [
          "2024-05-16",
          "2024-05-17",
          "2024-06-03",
          "2024-06-04"
         ],
         "xaxis": "x",
         "y": [
          18900000,
          19000000,
          20200000,
          20400000
         ],
         "yaxis": "y"
        },
        {
         "hovertemplate": "trackName=Tell Ur Girlfriend<br>date=%{x}<br>views=%{y}<extra></extra>",
         "legendgroup": "Tell Ur Girlfriend",
         "line": {
          "color": "#19d3f3",
          "dash": "solid"
         },
         "marker": {
          "symbol": "circle"
         },
         "mode": "lines+markers",
         "name": "Tell Ur Girlfriend",
         "orientation": "v",
         "showlegend": true,
         "type": "scatter",
         "x": [
          "2024-05-16",
          "2024-05-17"
         ],
         "xaxis": "x",
         "y": [
          17800000,
          1500000
         ],
         "yaxis": "y"
        },
        {
         "hovertemplate": "trackName=Type Shit<br>date=%{x}<br>views=%{y}<extra></extra>",
         "legendgroup": "Type Shit",
         "line": {
          "color": "#FF6692",
          "dash": "solid"
         },
         "marker": {
          "symbol": "circle"
         },
         "mode": "lines+markers",
         "name": "Type Shit",
         "orientation": "v",
         "showlegend": true,
         "type": "scatter",
         "x": [
          "2024-05-16"
         ],
         "xaxis": "x",
         "y": [
          10800000
         ],
         "yaxis": "y"
        },
        {
         "hovertemplate": "trackName=Beautiful Things<br>date=%{x}<br>views=%{y}<extra></extra>",
         "legendgroup": "Beautiful Things",
         "line": {
          "color": "#B6E880",
          "dash": "solid"
         },
         "marker": {
          "symbol": "circle"
         },
         "mode": "lines+markers",
         "name": "Beautiful Things",
         "orientation": "v",
         "showlegend": true,
         "type": "scatter",
         "x": [
          "2024-05-18"
         ],
         "xaxis": "x",
         "y": [
          5200000
         ],
         "yaxis": "y"
        },
        {
         "hovertemplate": "trackName=euphoria<br>date=%{x}<br>views=%{y}<extra></extra>",
         "legendgroup": "euphoria",
         "line": {
          "color": "#FF97FF",
          "dash": "solid"
         },
         "marker": {
          "symbol": "circle"
         },
         "mode": "lines+markers",
         "name": "euphoria",
         "orientation": "v",
         "showlegend": true,
         "type": "scatter",
         "x": [
          "2024-05-18"
         ],
         "xaxis": "x",
         "y": [
          2900000
         ],
         "yaxis": "y"
        },
        {
         "hovertemplate": "trackName=i like the way you kiss me<br>date=%{x}<br>views=%{y}<extra></extra>",
         "legendgroup": "i like the way you kiss me",
         "line": {
          "color": "#FECB52",
          "dash": "solid"
         },
         "marker": {
          "symbol": "circle"
         },
         "mode": "lines+markers",
         "name": "i like the way you kiss me",
         "orientation": "v",
         "showlegend": true,
         "type": "scatter",
         "x": [
          "2024-05-26",
          "2024-06-14",
          "2024-06-16",
          "2024-06-20",
          "2024-06-24",
          "2024-06-25"
         ],
         "xaxis": "x",
         "y": [
          8400000,
          5200000,
          10400000,
          29900000,
          5400000,
          30100000
         ],
         "yaxis": "y"
        },
        {
         "hovertemplate": "trackName=A Bar Song (Tipsy)<br>date=%{x}<br>views=%{y}<extra></extra>",
         "legendgroup": "A Bar Song (Tipsy)",
         "line": {
          "color": "#636efa",
          "dash": "solid"
         },
         "marker": {
          "symbol": "circle"
         },
         "mode": "lines+markers",
         "name": "A Bar Song (Tipsy)",
         "orientation": "v",
         "showlegend": true,
         "type": "scatter",
         "x": [
          "2024-05-29",
          "2024-06-04",
          "2024-06-05"
         ],
         "xaxis": "x",
         "y": [
          1600000,
          2700000,
          0
         ],
         "yaxis": "y"
        },
        {
         "hovertemplate": "trackName=Espresso<br>date=%{x}<br>views=%{y}<extra></extra>",
         "legendgroup": "Espresso",
         "line": {
          "color": "#EF553B",
          "dash": "solid"
         },
         "marker": {
          "symbol": "circle"
         },
         "mode": "lines+markers",
         "name": "Espresso",
         "orientation": "v",
         "showlegend": true,
         "type": "scatter",
         "x": [
          "2024-06-03"
         ],
         "xaxis": "x",
         "y": [
          638800
         ],
         "yaxis": "y"
        },
        {
         "hovertemplate": "trackName=Fortnight (feat. Post Malone)<br>date=%{x}<br>views=%{y}<extra></extra>",
         "legendgroup": "Fortnight (feat. Post Malone)",
         "line": {
          "color": "#00cc96",
          "dash": "solid"
         },
         "marker": {
          "symbol": "circle"
         },
         "mode": "lines+markers",
         "name": "Fortnight (feat. Post Malone)",
         "orientation": "v",
         "showlegend": true,
         "type": "scatter",
         "x": [
          "2024-06-03"
         ],
         "xaxis": "x",
         "y": [
          2300000
         ],
         "yaxis": "y"
        },
        {
         "hovertemplate": "trackName=Too Sweet<br>date=%{x}<br>views=%{y}<extra></extra>",
         "legendgroup": "Too Sweet",
         "line": {
          "color": "#ab63fa",
          "dash": "solid"
         },
         "marker": {
          "symbol": "circle"
         },
         "mode": "lines+markers",
         "name": "Too Sweet",
         "orientation": "v",
         "showlegend": true,
         "type": "scatter",
         "x": [
          "2024-06-03"
         ],
         "xaxis": "x",
         "y": [
          10200000
         ],
         "yaxis": "y"
        },
        {
         "hovertemplate": "trackName=Not Like Us<br>date=%{x}<br>views=%{y}<extra></extra>",
         "legendgroup": "Not Like Us",
         "line": {
          "color": "#FFA15A",
          "dash": "solid"
         },
         "marker": {
          "symbol": "circle"
         },
         "mode": "lines+markers",
         "name": "Not Like Us",
         "orientation": "v",
         "showlegend": true,
         "type": "scatter",
         "x": [
          "2024-06-04",
          "2024-06-10",
          "2024-06-26"
         ],
         "xaxis": "x",
         "y": [
          35400000,
          4900000,
          23500000
         ],
         "yaxis": "y"
        },
        {
         "hovertemplate": "trackName=Gata Only<br>date=%{x}<br>views=%{y}<extra></extra>",
         "legendgroup": "Gata Only",
         "line": {
          "color": "#19d3f3",
          "dash": "solid"
         },
         "marker": {
          "symbol": "circle"
         },
         "mode": "lines+markers",
         "name": "Gata Only",
         "orientation": "v",
         "showlegend": true,
         "type": "scatter",
         "x": [
          "2024-06-05",
          "2024-06-06",
          "2024-06-07",
          "2024-06-08",
          "2024-06-16",
          "2024-06-18"
         ],
         "xaxis": "x",
         "y": [
          38600000,
          38800000,
          77800000,
          39000000,
          41300000,
          41600000
         ],
         "yaxis": "y"
        },
        {
         "hovertemplate": "trackName=Like That<br>date=%{x}<br>views=%{y}<extra></extra>",
         "legendgroup": "Like That",
         "line": {
          "color": "#FF6692",
          "dash": "solid"
         },
         "marker": {
          "symbol": "circle"
         },
         "mode": "lines+markers",
         "name": "Like That",
         "orientation": "v",
         "showlegend": true,
         "type": "scatter",
         "x": [
          "2024-06-09"
         ],
         "xaxis": "x",
         "y": [
          9900000
         ],
         "yaxis": "y"
        },
        {
         "hovertemplate": "trackName=LUNCH<br>date=%{x}<br>views=%{y}<extra></extra>",
         "legendgroup": "LUNCH",
         "line": {
          "color": "#B6E880",
          "dash": "solid"
         },
         "marker": {
          "symbol": "circle"
         },
         "mode": "lines+markers",
         "name": "LUNCH",
         "orientation": "v",
         "showlegend": true,
         "type": "scatter",
         "x": [
          "2024-06-15"
         ],
         "xaxis": "x",
         "y": [
          24700
         ],
         "yaxis": "y"
        },
        {
         "hovertemplate": "trackName=Stargazing<br>date=%{x}<br>views=%{y}<extra></extra>",
         "legendgroup": "Stargazing",
         "line": {
          "color": "#FF97FF",
          "dash": "solid"
         },
         "marker": {
          "symbol": "circle"
         },
         "mode": "lines+markers",
         "name": "Stargazing",
         "orientation": "v",
         "showlegend": true,
         "type": "scatter",
         "x": [
          "2024-06-15",
          "2024-06-17",
          "2024-06-20",
          "2024-06-21",
          "2024-06-22",
          "2024-06-23"
         ],
         "xaxis": "x",
         "y": [
          37700000,
          44400000,
          46600000,
          47000000,
          47200000,
          47400000
         ],
         "yaxis": "y"
        },
        {
         "hovertemplate": "trackName=Lose Control<br>date=%{x}<br>views=%{y}<extra></extra>",
         "legendgroup": "Lose Control",
         "line": {
          "color": "#FECB52",
          "dash": "solid"
         },
         "marker": {
          "symbol": "circle"
         },
         "mode": "lines+markers",
         "name": "Lose Control",
         "orientation": "v",
         "showlegend": true,
         "type": "scatter",
         "x": [
          "2024-06-21",
          "2024-06-22",
          "2024-06-23"
         ],
         "xaxis": "x",
         "y": [
          25000000,
          26700000,
          28100000
         ],
         "yaxis": "y"
        },
        {
         "hovertemplate": "trackName=Please Please Please<br>date=%{x}<br>views=%{y}<extra></extra>",
         "legendgroup": "Please Please Please",
         "line": {
          "color": "#636efa",
          "dash": "solid"
         },
         "marker": {
          "symbol": "circle"
         },
         "mode": "lines+markers",
         "name": "Please Please Please",
         "orientation": "v",
         "showlegend": true,
         "type": "scatter",
         "x": [
          "2024-06-21",
          "2024-06-22",
          "2024-06-23"
         ],
         "xaxis": "x",
         "y": [
          42900000,
          43100000,
          43400000
         ],
         "yaxis": "y"
        }
       ],
       "layout": {
        "height": 800,
        "legend": {
         "title": {
          "text": "trackName"
         },
         "tracegroupgap": 0
        },
        "template": {
         "data": {
          "bar": [
           {
            "error_x": {
             "color": "#2a3f5f"
            },
            "error_y": {
             "color": "#2a3f5f"
            },
            "marker": {
             "line": {
              "color": "#E5ECF6",
              "width": 0.5
             },
             "pattern": {
              "fillmode": "overlay",
              "size": 10,
              "solidity": 0.2
             }
            },
            "type": "bar"
           }
          ],
          "barpolar": [
           {
            "marker": {
             "line": {
              "color": "#E5ECF6",
              "width": 0.5
             },
             "pattern": {
              "fillmode": "overlay",
              "size": 10,
              "solidity": 0.2
             }
            },
            "type": "barpolar"
           }
          ],
          "carpet": [
           {
            "aaxis": {
             "endlinecolor": "#2a3f5f",
             "gridcolor": "white",
             "linecolor": "white",
             "minorgridcolor": "white",
             "startlinecolor": "#2a3f5f"
            },
            "baxis": {
             "endlinecolor": "#2a3f5f",
             "gridcolor": "white",
             "linecolor": "white",
             "minorgridcolor": "white",
             "startlinecolor": "#2a3f5f"
            },
            "type": "carpet"
           }
          ],
          "choropleth": [
           {
            "colorbar": {
             "outlinewidth": 0,
             "ticks": ""
            },
            "type": "choropleth"
           }
          ],
          "contour": [
           {
            "colorbar": {
             "outlinewidth": 0,
             "ticks": ""
            },
            "colorscale": [
             [
              0,
              "#0d0887"
             ],
             [
              0.1111111111111111,
              "#46039f"
             ],
             [
              0.2222222222222222,
              "#7201a8"
             ],
             [
              0.3333333333333333,
              "#9c179e"
             ],
             [
              0.4444444444444444,
              "#bd3786"
             ],
             [
              0.5555555555555556,
              "#d8576b"
             ],
             [
              0.6666666666666666,
              "#ed7953"
             ],
             [
              0.7777777777777778,
              "#fb9f3a"
             ],
             [
              0.8888888888888888,
              "#fdca26"
             ],
             [
              1,
              "#f0f921"
             ]
            ],
            "type": "contour"
           }
          ],
          "contourcarpet": [
           {
            "colorbar": {
             "outlinewidth": 0,
             "ticks": ""
            },
            "type": "contourcarpet"
           }
          ],
          "heatmap": [
           {
            "colorbar": {
             "outlinewidth": 0,
             "ticks": ""
            },
            "colorscale": [
             [
              0,
              "#0d0887"
             ],
             [
              0.1111111111111111,
              "#46039f"
             ],
             [
              0.2222222222222222,
              "#7201a8"
             ],
             [
              0.3333333333333333,
              "#9c179e"
             ],
             [
              0.4444444444444444,
              "#bd3786"
             ],
             [
              0.5555555555555556,
              "#d8576b"
             ],
             [
              0.6666666666666666,
              "#ed7953"
             ],
             [
              0.7777777777777778,
              "#fb9f3a"
             ],
             [
              0.8888888888888888,
              "#fdca26"
             ],
             [
              1,
              "#f0f921"
             ]
            ],
            "type": "heatmap"
           }
          ],
          "heatmapgl": [
           {
            "colorbar": {
             "outlinewidth": 0,
             "ticks": ""
            },
            "colorscale": [
             [
              0,
              "#0d0887"
             ],
             [
              0.1111111111111111,
              "#46039f"
             ],
             [
              0.2222222222222222,
              "#7201a8"
             ],
             [
              0.3333333333333333,
              "#9c179e"
             ],
             [
              0.4444444444444444,
              "#bd3786"
             ],
             [
              0.5555555555555556,
              "#d8576b"
             ],
             [
              0.6666666666666666,
              "#ed7953"
             ],
             [
              0.7777777777777778,
              "#fb9f3a"
             ],
             [
              0.8888888888888888,
              "#fdca26"
             ],
             [
              1,
              "#f0f921"
             ]
            ],
            "type": "heatmapgl"
           }
          ],
          "histogram": [
           {
            "marker": {
             "pattern": {
              "fillmode": "overlay",
              "size": 10,
              "solidity": 0.2
             }
            },
            "type": "histogram"
           }
          ],
          "histogram2d": [
           {
            "colorbar": {
             "outlinewidth": 0,
             "ticks": ""
            },
            "colorscale": [
             [
              0,
              "#0d0887"
             ],
             [
              0.1111111111111111,
              "#46039f"
             ],
             [
              0.2222222222222222,
              "#7201a8"
             ],
             [
              0.3333333333333333,
              "#9c179e"
             ],
             [
              0.4444444444444444,
              "#bd3786"
             ],
             [
              0.5555555555555556,
              "#d8576b"
             ],
             [
              0.6666666666666666,
              "#ed7953"
             ],
             [
              0.7777777777777778,
              "#fb9f3a"
             ],
             [
              0.8888888888888888,
              "#fdca26"
             ],
             [
              1,
              "#f0f921"
             ]
            ],
            "type": "histogram2d"
           }
          ],
          "histogram2dcontour": [
           {
            "colorbar": {
             "outlinewidth": 0,
             "ticks": ""
            },
            "colorscale": [
             [
              0,
              "#0d0887"
             ],
             [
              0.1111111111111111,
              "#46039f"
             ],
             [
              0.2222222222222222,
              "#7201a8"
             ],
             [
              0.3333333333333333,
              "#9c179e"
             ],
             [
              0.4444444444444444,
              "#bd3786"
             ],
             [
              0.5555555555555556,
              "#d8576b"
             ],
             [
              0.6666666666666666,
              "#ed7953"
             ],
             [
              0.7777777777777778,
              "#fb9f3a"
             ],
             [
              0.8888888888888888,
              "#fdca26"
             ],
             [
              1,
              "#f0f921"
             ]
            ],
            "type": "histogram2dcontour"
           }
          ],
          "mesh3d": [
           {
            "colorbar": {
             "outlinewidth": 0,
             "ticks": ""
            },
            "type": "mesh3d"
           }
          ],
          "parcoords": [
           {
            "line": {
             "colorbar": {
              "outlinewidth": 0,
              "ticks": ""
             }
            },
            "type": "parcoords"
           }
          ],
          "pie": [
           {
            "automargin": true,
            "type": "pie"
           }
          ],
          "scatter": [
           {
            "fillpattern": {
             "fillmode": "overlay",
             "size": 10,
             "solidity": 0.2
            },
            "type": "scatter"
           }
          ],
          "scatter3d": [
           {
            "line": {
             "colorbar": {
              "outlinewidth": 0,
              "ticks": ""
             }
            },
            "marker": {
             "colorbar": {
              "outlinewidth": 0,
              "ticks": ""
             }
            },
            "type": "scatter3d"
           }
          ],
          "scattercarpet": [
           {
            "marker": {
             "colorbar": {
              "outlinewidth": 0,
              "ticks": ""
             }
            },
            "type": "scattercarpet"
           }
          ],
          "scattergeo": [
           {
            "marker": {
             "colorbar": {
              "outlinewidth": 0,
              "ticks": ""
             }
            },
            "type": "scattergeo"
           }
          ],
          "scattergl": [
           {
            "marker": {
             "colorbar": {
              "outlinewidth": 0,
              "ticks": ""
             }
            },
            "type": "scattergl"
           }
          ],
          "scattermapbox": [
           {
            "marker": {
             "colorbar": {
              "outlinewidth": 0,
              "ticks": ""
             }
            },
            "type": "scattermapbox"
           }
          ],
          "scatterpolar": [
           {
            "marker": {
             "colorbar": {
              "outlinewidth": 0,
              "ticks": ""
             }
            },
            "type": "scatterpolar"
           }
          ],
          "scatterpolargl": [
           {
            "marker": {
             "colorbar": {
              "outlinewidth": 0,
              "ticks": ""
             }
            },
            "type": "scatterpolargl"
           }
          ],
          "scatterternary": [
           {
            "marker": {
             "colorbar": {
              "outlinewidth": 0,
              "ticks": ""
             }
            },
            "type": "scatterternary"
           }
          ],
          "surface": [
           {
            "colorbar": {
             "outlinewidth": 0,
             "ticks": ""
            },
            "colorscale": [
             [
              0,
              "#0d0887"
             ],
             [
              0.1111111111111111,
              "#46039f"
             ],
             [
              0.2222222222222222,
              "#7201a8"
             ],
             [
              0.3333333333333333,
              "#9c179e"
             ],
             [
              0.4444444444444444,
              "#bd3786"
             ],
             [
              0.5555555555555556,
              "#d8576b"
             ],
             [
              0.6666666666666666,
              "#ed7953"
             ],
             [
              0.7777777777777778,
              "#fb9f3a"
             ],
             [
              0.8888888888888888,
              "#fdca26"
             ],
             [
              1,
              "#f0f921"
             ]
            ],
            "type": "surface"
           }
          ],
          "table": [
           {
            "cells": {
             "fill": {
              "color": "#EBF0F8"
             },
             "line": {
              "color": "white"
             }
            },
            "header": {
             "fill": {
              "color": "#C8D4E3"
             },
             "line": {
              "color": "white"
             }
            },
            "type": "table"
           }
          ]
         },
         "layout": {
          "annotationdefaults": {
           "arrowcolor": "#2a3f5f",
           "arrowhead": 0,
           "arrowwidth": 1
          },
          "autotypenumbers": "strict",
          "coloraxis": {
           "colorbar": {
            "outlinewidth": 0,
            "ticks": ""
           }
          },
          "colorscale": {
           "diverging": [
            [
             0,
             "#8e0152"
            ],
            [
             0.1,
             "#c51b7d"
            ],
            [
             0.2,
             "#de77ae"
            ],
            [
             0.3,
             "#f1b6da"
            ],
            [
             0.4,
             "#fde0ef"
            ],
            [
             0.5,
             "#f7f7f7"
            ],
            [
             0.6,
             "#e6f5d0"
            ],
            [
             0.7,
             "#b8e186"
            ],
            [
             0.8,
             "#7fbc41"
            ],
            [
             0.9,
             "#4d9221"
            ],
            [
             1,
             "#276419"
            ]
           ],
           "sequential": [
            [
             0,
             "#0d0887"
            ],
            [
             0.1111111111111111,
             "#46039f"
            ],
            [
             0.2222222222222222,
             "#7201a8"
            ],
            [
             0.3333333333333333,
             "#9c179e"
            ],
            [
             0.4444444444444444,
             "#bd3786"
            ],
            [
             0.5555555555555556,
             "#d8576b"
            ],
            [
             0.6666666666666666,
             "#ed7953"
            ],
            [
             0.7777777777777778,
             "#fb9f3a"
            ],
            [
             0.8888888888888888,
             "#fdca26"
            ],
            [
             1,
             "#f0f921"
            ]
           ],
           "sequentialminus": [
            [
             0,
             "#0d0887"
            ],
            [
             0.1111111111111111,
             "#46039f"
            ],
            [
             0.2222222222222222,
             "#7201a8"
            ],
            [
             0.3333333333333333,
             "#9c179e"
            ],
            [
             0.4444444444444444,
             "#bd3786"
            ],
            [
             0.5555555555555556,
             "#d8576b"
            ],
            [
             0.6666666666666666,
             "#ed7953"
            ],
            [
             0.7777777777777778,
             "#fb9f3a"
            ],
            [
             0.8888888888888888,
             "#fdca26"
            ],
            [
             1,
             "#f0f921"
            ]
           ]
          },
          "colorway": [
           "#636efa",
           "#EF553B",
           "#00cc96",
           "#ab63fa",
           "#FFA15A",
           "#19d3f3",
           "#FF6692",
           "#B6E880",
           "#FF97FF",
           "#FECB52"
          ],
          "font": {
           "color": "#2a3f5f"
          },
          "geo": {
           "bgcolor": "white",
           "lakecolor": "white",
           "landcolor": "#E5ECF6",
           "showlakes": true,
           "showland": true,
           "subunitcolor": "white"
          },
          "hoverlabel": {
           "align": "left"
          },
          "hovermode": "closest",
          "mapbox": {
           "style": "light"
          },
          "paper_bgcolor": "white",
          "plot_bgcolor": "#E5ECF6",
          "polar": {
           "angularaxis": {
            "gridcolor": "white",
            "linecolor": "white",
            "ticks": ""
           },
           "bgcolor": "#E5ECF6",
           "radialaxis": {
            "gridcolor": "white",
            "linecolor": "white",
            "ticks": ""
           }
          },
          "scene": {
           "xaxis": {
            "backgroundcolor": "#E5ECF6",
            "gridcolor": "white",
            "gridwidth": 2,
            "linecolor": "white",
            "showbackground": true,
            "ticks": "",
            "zerolinecolor": "white"
           },
           "yaxis": {
            "backgroundcolor": "#E5ECF6",
            "gridcolor": "white",
            "gridwidth": 2,
            "linecolor": "white",
            "showbackground": true,
            "ticks": "",
            "zerolinecolor": "white"
           },
           "zaxis": {
            "backgroundcolor": "#E5ECF6",
            "gridcolor": "white",
            "gridwidth": 2,
            "linecolor": "white",
            "showbackground": true,
            "ticks": "",
            "zerolinecolor": "white"
           }
          },
          "shapedefaults": {
           "line": {
            "color": "#2a3f5f"
           }
          },
          "ternary": {
           "aaxis": {
            "gridcolor": "white",
            "linecolor": "white",
            "ticks": ""
           },
           "baxis": {
            "gridcolor": "white",
            "linecolor": "white",
            "ticks": ""
           },
           "bgcolor": "#E5ECF6",
           "caxis": {
            "gridcolor": "white",
            "linecolor": "white",
            "ticks": ""
           }
          },
          "title": {
           "x": 0.05
          },
          "xaxis": {
           "automargin": true,
           "gridcolor": "white",
           "linecolor": "white",
           "ticks": "",
           "title": {
            "standoff": 15
           },
           "zerolinecolor": "white",
           "zerolinewidth": 2
          },
          "yaxis": {
           "automargin": true,
           "gridcolor": "white",
           "linecolor": "white",
           "ticks": "",
           "title": {
            "standoff": 15
           },
           "zerolinecolor": "white",
           "zerolinewidth": 2
          }
         }
        },
        "title": {
         "text": "Suma de views por canción en TikTok"
        },
        "xaxis": {
         "anchor": "y",
         "domain": [
          0,
          1
         ],
         "title": {
          "text": "date"
         }
        },
        "yaxis": {
         "anchor": "x",
         "domain": [
          0,
          1
         ],
         "title": {
          "text": "views"
         }
        }
       }
      }
     },
     "metadata": {},
     "output_type": "display_data"
    }
   ],
   "source": [
    "spotifytiktok_df = pd.merge(spotifyshazam_df, spotify_df, on=['trackName','date'], how='inner')\n",
    "spotifytiktok_df.head(10)\n",
    "\n",
    "grouped_by_date_song = spotifytiktok_df.groupby(['date', 'trackName']).agg({'views': 'sum'})\n",
    "grouped_by_date_song.reset_index(inplace=True)\n",
    "\n",
    "fig = px.line(grouped_by_date_song, x='date', y='views', color='trackName', markers=True, title='Suma de views por canción en TikTok')\n",
    "\n",
    "fig.update_layout(height=800)\n",
    "\n",
    "fig.show()"
   ]
  },
  {
   "cell_type": "code",
   "execution_count": 28,
   "id": "520b81c0",
   "metadata": {},
   "outputs": [
    {
     "data": {
      "application/vnd.plotly.v1+json": {
       "config": {
        "plotlyServerURL": "https://plot.ly"
       },
       "data": [
        {
         "mode": "lines+markers",
         "name": "Visitas de A Bar Song (Tipsy)",
         "type": "scatter",
         "x": [
          "2024-05-29T00:00:00",
          "2024-06-04T00:00:00",
          "2024-06-05T00:00:00"
         ],
         "xaxis": "x",
         "y": [
          1600000,
          2700000,
          0
         ],
         "yaxis": "y"
        },
        {
         "name": "Posición de A Bar Song (Tipsy)",
         "opacity": 0.5,
         "type": "bar",
         "x": [
          "2024-05-16T00:00:00",
          "2024-05-17T00:00:00",
          "2024-05-18T00:00:00",
          "2024-05-19T00:00:00",
          "2024-05-20T00:00:00",
          "2024-05-21T00:00:00",
          "2024-05-22T00:00:00",
          "2024-05-23T00:00:00",
          "2024-05-24T00:00:00",
          "2024-05-25T00:00:00",
          "2024-05-26T00:00:00",
          "2024-05-27T00:00:00",
          "2024-05-28T00:00:00",
          "2024-05-29T00:00:00",
          "2024-05-30T00:00:00",
          "2024-05-31T00:00:00",
          "2024-06-01T00:00:00",
          "2024-06-02T00:00:00",
          "2024-06-03T00:00:00",
          "2024-06-04T00:00:00",
          "2024-06-05T00:00:00",
          "2024-06-06T00:00:00",
          "2024-06-07T00:00:00",
          "2024-06-08T00:00:00",
          "2024-06-09T00:00:00",
          "2024-06-10T00:00:00",
          "2024-06-11T00:00:00",
          "2024-06-12T00:00:00",
          "2024-06-13T00:00:00",
          "2024-06-14T00:00:00",
          "2024-06-15T00:00:00",
          "2024-06-16T00:00:00",
          "2024-06-17T00:00:00",
          "2024-06-18T00:00:00",
          "2024-06-19T00:00:00",
          "2024-06-20T00:00:00",
          "2024-06-21T00:00:00",
          "2024-06-22T00:00:00",
          "2024-06-23T00:00:00",
          "2024-06-24T00:00:00",
          "2024-06-25T00:00:00",
          "2024-06-26T00:00:00",
          "2024-06-27T00:00:00"
         ],
         "xaxis": "x",
         "y": [
          8,
          8,
          6,
          12,
          9,
          10,
          11,
          11,
          10,
          11,
          9,
          9,
          10,
          11,
          11,
          11,
          12,
          9,
          10,
          14,
          14,
          14,
          12,
          11,
          10,
          9,
          9,
          9,
          9,
          11,
          11,
          10,
          9,
          8,
          9,
          8,
          8,
          9,
          8,
          7,
          7,
          11,
          10
         ],
         "yaxis": "y2"
        },
        {
         "mode": "lines+markers",
         "name": "Visitas de Beautiful Things",
         "type": "scatter",
         "x": [
          "2024-05-18T00:00:00"
         ],
         "xaxis": "x2",
         "y": [
          5200000
         ],
         "yaxis": "y3"
        },
        {
         "name": "Posición de Beautiful Things",
         "opacity": 0.5,
         "type": "bar",
         "x": [
          "2024-05-16T00:00:00",
          "2024-05-17T00:00:00",
          "2024-05-18T00:00:00",
          "2024-05-19T00:00:00",
          "2024-05-20T00:00:00",
          "2024-05-21T00:00:00",
          "2024-05-22T00:00:00",
          "2024-05-23T00:00:00",
          "2024-05-24T00:00:00",
          "2024-05-25T00:00:00",
          "2024-05-26T00:00:00",
          "2024-05-27T00:00:00",
          "2024-05-28T00:00:00",
          "2024-05-29T00:00:00",
          "2024-05-30T00:00:00",
          "2024-05-31T00:00:00",
          "2024-06-01T00:00:00",
          "2024-06-02T00:00:00",
          "2024-06-03T00:00:00",
          "2024-06-04T00:00:00",
          "2024-06-05T00:00:00",
          "2024-06-06T00:00:00",
          "2024-06-07T00:00:00",
          "2024-06-08T00:00:00",
          "2024-06-09T00:00:00",
          "2024-06-10T00:00:00",
          "2024-06-11T00:00:00",
          "2024-06-12T00:00:00",
          "2024-06-13T00:00:00",
          "2024-06-14T00:00:00",
          "2024-06-15T00:00:00",
          "2024-06-16T00:00:00",
          "2024-06-17T00:00:00",
          "2024-06-18T00:00:00",
          "2024-06-19T00:00:00",
          "2024-06-20T00:00:00",
          "2024-06-21T00:00:00",
          "2024-06-22T00:00:00",
          "2024-06-23T00:00:00",
          "2024-06-24T00:00:00",
          "2024-06-25T00:00:00",
          "2024-06-26T00:00:00",
          "2024-06-27T00:00:00"
         ],
         "xaxis": "x2",
         "y": [
          10,
          10,
          9,
          14,
          12,
          12,
          12,
          12,
          12,
          10,
          11,
          10,
          11,
          10,
          12,
          12,
          9,
          12,
          11,
          10,
          12,
          11,
          11,
          12,
          13,
          11,
          11,
          11,
          10,
          9,
          9,
          9,
          7,
          7,
          8,
          7,
          7,
          8,
          10,
          8,
          8,
          9,
          7
         ],
         "yaxis": "y4"
        },
        {
         "mode": "lines+markers",
         "name": "Visitas de End of Beginning",
         "type": "scatter",
         "x": [
          "2024-05-16T00:00:00",
          "2024-06-10T00:00:00",
          "2024-06-12T00:00:00",
          "2024-06-20T00:00:00"
         ],
         "xaxis": "x3",
         "y": [
          39300000,
          5100000,
          46300000,
          46500000
         ],
         "yaxis": "y5"
        },
        {
         "name": "Posición de End of Beginning",
         "opacity": 0.5,
         "type": "bar",
         "x": [
          "2024-05-16T00:00:00",
          "2024-05-17T00:00:00",
          "2024-05-18T00:00:00",
          "2024-05-19T00:00:00",
          "2024-05-20T00:00:00",
          "2024-05-21T00:00:00",
          "2024-05-22T00:00:00",
          "2024-05-23T00:00:00",
          "2024-05-24T00:00:00",
          "2024-05-25T00:00:00",
          "2024-05-26T00:00:00",
          "2024-05-27T00:00:00",
          "2024-05-28T00:00:00",
          "2024-05-29T00:00:00",
          "2024-05-30T00:00:00",
          "2024-05-31T00:00:00",
          "2024-06-01T00:00:00",
          "2024-06-02T00:00:00",
          "2024-06-03T00:00:00",
          "2024-06-04T00:00:00",
          "2024-06-05T00:00:00",
          "2024-06-06T00:00:00",
          "2024-06-07T00:00:00",
          "2024-06-08T00:00:00",
          "2024-06-09T00:00:00",
          "2024-06-10T00:00:00",
          "2024-06-11T00:00:00",
          "2024-06-12T00:00:00",
          "2024-06-13T00:00:00",
          "2024-06-14T00:00:00",
          "2024-06-15T00:00:00",
          "2024-06-16T00:00:00",
          "2024-06-17T00:00:00",
          "2024-06-18T00:00:00",
          "2024-06-19T00:00:00",
          "2024-06-20T00:00:00",
          "2024-06-21T00:00:00",
          "2024-06-22T00:00:00",
          "2024-06-23T00:00:00",
          "2024-06-24T00:00:00",
          "2024-06-25T00:00:00",
          "2024-06-26T00:00:00",
          "2024-06-27T00:00:00"
         ],
         "xaxis": "x3",
         "y": [
          12,
          12,
          12,
          22,
          20,
          16,
          17,
          15,
          16,
          15,
          15,
          15,
          15,
          15,
          15,
          15,
          16,
          17,
          17,
          16,
          16,
          17,
          15,
          15,
          19,
          16,
          16,
          16,
          17,
          17,
          18,
          21,
          22,
          18,
          19,
          19,
          18,
          19,
          19,
          19,
          16,
          16,
          17
         ],
         "yaxis": "y6"
        },
        {
         "mode": "lines+markers",
         "name": "Visitas de Espresso",
         "type": "scatter",
         "x": [
          "2024-06-03T00:00:00"
         ],
         "xaxis": "x4",
         "y": [
          638800
         ],
         "yaxis": "y7"
        },
        {
         "name": "Posición de Espresso",
         "opacity": 0.5,
         "type": "bar",
         "x": [
          "2024-05-16T00:00:00",
          "2024-05-17T00:00:00",
          "2024-05-18T00:00:00",
          "2024-05-19T00:00:00",
          "2024-05-20T00:00:00",
          "2024-05-21T00:00:00",
          "2024-05-22T00:00:00",
          "2024-05-23T00:00:00",
          "2024-05-24T00:00:00",
          "2024-05-25T00:00:00",
          "2024-05-26T00:00:00",
          "2024-05-27T00:00:00",
          "2024-05-28T00:00:00",
          "2024-05-29T00:00:00",
          "2024-05-30T00:00:00",
          "2024-05-31T00:00:00",
          "2024-06-01T00:00:00",
          "2024-06-02T00:00:00",
          "2024-06-03T00:00:00",
          "2024-06-04T00:00:00",
          "2024-06-05T00:00:00",
          "2024-06-06T00:00:00",
          "2024-06-07T00:00:00",
          "2024-06-08T00:00:00",
          "2024-06-09T00:00:00",
          "2024-06-10T00:00:00",
          "2024-06-11T00:00:00",
          "2024-06-12T00:00:00",
          "2024-06-13T00:00:00",
          "2024-06-14T00:00:00",
          "2024-06-15T00:00:00",
          "2024-06-16T00:00:00",
          "2024-06-17T00:00:00",
          "2024-06-18T00:00:00",
          "2024-06-19T00:00:00",
          "2024-06-20T00:00:00",
          "2024-06-21T00:00:00",
          "2024-06-22T00:00:00",
          "2024-06-23T00:00:00",
          "2024-06-24T00:00:00",
          "2024-06-25T00:00:00",
          "2024-06-26T00:00:00",
          "2024-06-27T00:00:00"
         ],
         "xaxis": "x4",
         "y": [
          3,
          3,
          3,
          4,
          3,
          2,
          2,
          2,
          3,
          3,
          2,
          2,
          2,
          1,
          1,
          1,
          1,
          1,
          1,
          1,
          1,
          1,
          1,
          1,
          1,
          1,
          1,
          1,
          2,
          2,
          2,
          2,
          2,
          2,
          2,
          2,
          2,
          2,
          2,
          2,
          2,
          2,
          2
         ],
         "yaxis": "y8"
        },
        {
         "mode": "lines+markers",
         "name": "Visitas de FE!N (feat. Playboi Carti)",
         "type": "scatter",
         "x": [
          "2024-05-16T00:00:00",
          "2024-05-17T00:00:00",
          "2024-05-18T00:00:00",
          "2024-05-21T00:00:00",
          "2024-05-25T00:00:00",
          "2024-05-26T00:00:00"
         ],
         "xaxis": "x5",
         "y": [
          365000000,
          7600000,
          8100000,
          191000000,
          5500000,
          11000000
         ],
         "yaxis": "y9"
        },
        {
         "name": "Posición de FE!N (feat. Playboi Carti)",
         "opacity": 0.5,
         "type": "bar",
         "x": [
          "2024-05-16T00:00:00",
          "2024-05-17T00:00:00",
          "2024-05-18T00:00:00",
          "2024-05-19T00:00:00",
          "2024-05-20T00:00:00",
          "2024-05-21T00:00:00",
          "2024-05-22T00:00:00",
          "2024-05-23T00:00:00",
          "2024-05-24T00:00:00",
          "2024-05-25T00:00:00",
          "2024-05-26T00:00:00",
          "2024-05-27T00:00:00",
          "2024-05-28T00:00:00",
          "2024-05-29T00:00:00",
          "2024-05-30T00:00:00",
          "2024-05-31T00:00:00",
          "2024-06-01T00:00:00",
          "2024-06-02T00:00:00",
          "2024-06-03T00:00:00",
          "2024-06-04T00:00:00",
          "2024-06-05T00:00:00",
          "2024-06-06T00:00:00",
          "2024-06-07T00:00:00",
          "2024-06-08T00:00:00",
          "2024-06-09T00:00:00",
          "2024-06-12T00:00:00",
          "2024-06-13T00:00:00",
          "2024-06-14T00:00:00",
          "2024-06-17T00:00:00",
          "2024-06-18T00:00:00",
          "2024-06-19T00:00:00",
          "2024-06-20T00:00:00",
          "2024-06-21T00:00:00",
          "2024-06-22T00:00:00",
          "2024-06-24T00:00:00"
         ],
         "xaxis": "x5",
         "y": [
          29,
          29,
          27,
          39,
          37,
          41,
          39,
          38,
          40,
          39,
          37,
          39,
          38,
          39,
          34,
          32,
          35,
          36,
          47,
          48,
          44,
          44,
          43,
          43,
          49,
          49,
          49,
          47,
          48,
          49,
          46,
          48,
          48,
          46,
          50
         ],
         "yaxis": "y10"
        },
        {
         "mode": "lines+markers",
         "name": "Visitas de Fortnight (feat. Post Malone)",
         "type": "scatter",
         "x": [
          "2024-06-03T00:00:00"
         ],
         "xaxis": "x6",
         "y": [
          2300000
         ],
         "yaxis": "y11"
        },
        {
         "name": "Posición de Fortnight (feat. Post Malone)",
         "opacity": 0.5,
         "type": "bar",
         "x": [
          "2024-05-16T00:00:00",
          "2024-05-17T00:00:00",
          "2024-05-18T00:00:00",
          "2024-05-19T00:00:00",
          "2024-05-20T00:00:00",
          "2024-05-21T00:00:00",
          "2024-05-22T00:00:00",
          "2024-05-23T00:00:00",
          "2024-05-24T00:00:00",
          "2024-05-25T00:00:00",
          "2024-05-26T00:00:00",
          "2024-05-27T00:00:00",
          "2024-05-28T00:00:00",
          "2024-05-29T00:00:00",
          "2024-05-30T00:00:00",
          "2024-05-31T00:00:00",
          "2024-06-01T00:00:00",
          "2024-06-02T00:00:00",
          "2024-06-03T00:00:00",
          "2024-06-04T00:00:00",
          "2024-06-05T00:00:00",
          "2024-06-06T00:00:00",
          "2024-06-07T00:00:00",
          "2024-06-08T00:00:00",
          "2024-06-09T00:00:00",
          "2024-06-10T00:00:00",
          "2024-06-11T00:00:00",
          "2024-06-12T00:00:00",
          "2024-06-13T00:00:00",
          "2024-06-14T00:00:00",
          "2024-06-15T00:00:00",
          "2024-06-16T00:00:00",
          "2024-06-17T00:00:00",
          "2024-06-18T00:00:00",
          "2024-06-19T00:00:00",
          "2024-06-20T00:00:00",
          "2024-06-21T00:00:00",
          "2024-06-22T00:00:00",
          "2024-06-23T00:00:00",
          "2024-06-24T00:00:00",
          "2024-06-25T00:00:00",
          "2024-06-26T00:00:00",
          "2024-06-27T00:00:00"
         ],
         "xaxis": "x6",
         "y": [
          7,
          7,
          10,
          17,
          13,
          13,
          13,
          13,
          13,
          13,
          13,
          13,
          13,
          13,
          13,
          14,
          14,
          15,
          16,
          17,
          17,
          16,
          17,
          16,
          18,
          17,
          17,
          17,
          16,
          16,
          20,
          20,
          20,
          19,
          20,
          21,
          20,
          20,
          20,
          18,
          19,
          19,
          19
         ],
         "yaxis": "y12"
        },
        {
         "mode": "lines+markers",
         "name": "Visitas de Gata Only",
         "type": "scatter",
         "x": [
          "2024-06-05T00:00:00",
          "2024-06-06T00:00:00",
          "2024-06-07T00:00:00",
          "2024-06-08T00:00:00",
          "2024-06-16T00:00:00",
          "2024-06-18T00:00:00"
         ],
         "xaxis": "x7",
         "y": [
          38600000,
          38800000,
          77800000,
          39000000,
          41300000,
          41600000
         ],
         "yaxis": "y13"
        },
        {
         "name": "Posición de Gata Only",
         "opacity": 0.5,
         "type": "bar",
         "x": [
          "2024-05-16T00:00:00",
          "2024-05-17T00:00:00",
          "2024-05-18T00:00:00",
          "2024-05-19T00:00:00",
          "2024-05-20T00:00:00",
          "2024-05-21T00:00:00",
          "2024-05-22T00:00:00",
          "2024-05-23T00:00:00",
          "2024-05-24T00:00:00",
          "2024-05-25T00:00:00",
          "2024-05-26T00:00:00",
          "2024-05-27T00:00:00",
          "2024-05-28T00:00:00",
          "2024-05-29T00:00:00",
          "2024-05-30T00:00:00",
          "2024-05-31T00:00:00",
          "2024-06-01T00:00:00",
          "2024-06-02T00:00:00",
          "2024-06-03T00:00:00",
          "2024-06-04T00:00:00",
          "2024-06-05T00:00:00",
          "2024-06-06T00:00:00",
          "2024-06-07T00:00:00",
          "2024-06-08T00:00:00",
          "2024-06-09T00:00:00",
          "2024-06-10T00:00:00",
          "2024-06-11T00:00:00",
          "2024-06-12T00:00:00",
          "2024-06-13T00:00:00",
          "2024-06-14T00:00:00",
          "2024-06-15T00:00:00",
          "2024-06-16T00:00:00",
          "2024-06-17T00:00:00",
          "2024-06-18T00:00:00",
          "2024-06-19T00:00:00",
          "2024-06-20T00:00:00",
          "2024-06-21T00:00:00",
          "2024-06-22T00:00:00",
          "2024-06-23T00:00:00",
          "2024-06-24T00:00:00",
          "2024-06-25T00:00:00",
          "2024-06-26T00:00:00",
          "2024-06-27T00:00:00"
         ],
         "xaxis": "x7",
         "y": [
          6,
          6,
          7,
          10,
          7,
          7,
          7,
          7,
          8,
          8,
          8,
          5,
          6,
          6,
          6,
          6,
          6,
          7,
          5,
          6,
          6,
          6,
          6,
          5,
          5,
          4,
          5,
          6,
          6,
          5,
          5,
          4,
          5,
          5,
          5,
          5,
          5,
          5,
          6,
          5,
          5,
          6,
          6
         ],
         "yaxis": "y14"
        },
        {
         "mode": "lines+markers",
         "name": "Visitas de LUNCH",
         "type": "scatter",
         "x": [
          "2024-06-15T00:00:00"
         ],
         "xaxis": "x8",
         "y": [
          24700
         ],
         "yaxis": "y15"
        },
        {
         "name": "Posición de LUNCH",
         "opacity": 0.5,
         "type": "bar",
         "x": [
          "2024-05-19T00:00:00",
          "2024-05-20T00:00:00",
          "2024-05-21T00:00:00",
          "2024-05-22T00:00:00",
          "2024-05-23T00:00:00",
          "2024-05-24T00:00:00",
          "2024-05-25T00:00:00",
          "2024-05-26T00:00:00",
          "2024-05-27T00:00:00",
          "2024-05-28T00:00:00",
          "2024-05-29T00:00:00",
          "2024-05-30T00:00:00",
          "2024-05-31T00:00:00",
          "2024-06-01T00:00:00",
          "2024-06-02T00:00:00",
          "2024-06-03T00:00:00",
          "2024-06-04T00:00:00",
          "2024-06-05T00:00:00",
          "2024-06-06T00:00:00",
          "2024-06-07T00:00:00",
          "2024-06-08T00:00:00",
          "2024-06-09T00:00:00",
          "2024-06-10T00:00:00",
          "2024-06-11T00:00:00",
          "2024-06-12T00:00:00",
          "2024-06-13T00:00:00",
          "2024-06-14T00:00:00",
          "2024-06-15T00:00:00",
          "2024-06-16T00:00:00",
          "2024-06-17T00:00:00",
          "2024-06-18T00:00:00",
          "2024-06-19T00:00:00",
          "2024-06-20T00:00:00",
          "2024-06-21T00:00:00",
          "2024-06-22T00:00:00",
          "2024-06-23T00:00:00",
          "2024-06-24T00:00:00",
          "2024-06-25T00:00:00",
          "2024-06-26T00:00:00",
          "2024-06-27T00:00:00"
         ],
         "xaxis": "x8",
         "y": [
          2,
          4,
          4,
          4,
          4,
          1,
          1,
          1,
          1,
          1,
          2,
          3,
          3,
          3,
          5,
          6,
          5,
          5,
          5,
          5,
          4,
          4,
          5,
          7,
          7,
          7,
          6,
          7,
          8,
          11,
          11,
          10,
          11,
          12,
          12,
          14,
          15,
          15,
          14,
          15
         ],
         "yaxis": "y16"
        },
        {
         "mode": "lines+markers",
         "name": "Visitas de Like That",
         "type": "scatter",
         "x": [
          "2024-06-09T00:00:00"
         ],
         "xaxis": "x9",
         "y": [
          9900000
         ],
         "yaxis": "y17"
        },
        {
         "name": "Posición de Like That",
         "opacity": 0.5,
         "type": "bar",
         "x": [
          "2024-05-16T00:00:00",
          "2024-05-17T00:00:00",
          "2024-05-18T00:00:00",
          "2024-05-19T00:00:00",
          "2024-05-20T00:00:00",
          "2024-05-21T00:00:00",
          "2024-05-22T00:00:00",
          "2024-05-23T00:00:00",
          "2024-05-24T00:00:00",
          "2024-05-25T00:00:00",
          "2024-05-26T00:00:00",
          "2024-05-27T00:00:00",
          "2024-05-28T00:00:00",
          "2024-05-29T00:00:00",
          "2024-05-30T00:00:00",
          "2024-05-31T00:00:00",
          "2024-06-01T00:00:00",
          "2024-06-02T00:00:00",
          "2024-06-03T00:00:00",
          "2024-06-04T00:00:00",
          "2024-06-05T00:00:00",
          "2024-06-06T00:00:00",
          "2024-06-07T00:00:00",
          "2024-06-08T00:00:00",
          "2024-06-09T00:00:00",
          "2024-06-10T00:00:00",
          "2024-06-11T00:00:00",
          "2024-06-12T00:00:00",
          "2024-06-13T00:00:00",
          "2024-06-14T00:00:00",
          "2024-06-15T00:00:00",
          "2024-06-22T00:00:00",
          "2024-06-23T00:00:00",
          "2024-06-24T00:00:00",
          "2024-06-25T00:00:00",
          "2024-06-26T00:00:00",
          "2024-06-27T00:00:00"
         ],
         "xaxis": "x9",
         "y": [
          16,
          16,
          15,
          26,
          26,
          27,
          26,
          25,
          25,
          25,
          24,
          22,
          23,
          25,
          24,
          24,
          27,
          29,
          33,
          34,
          33,
          33,
          35,
          35,
          37,
          37,
          43,
          41,
          39,
          42,
          46,
          42,
          38,
          36,
          39,
          38,
          40
         ],
         "yaxis": "y18"
        },
        {
         "mode": "lines+markers",
         "name": "Visitas de Lose Control",
         "type": "scatter",
         "x": [
          "2024-06-21T00:00:00",
          "2024-06-22T00:00:00",
          "2024-06-23T00:00:00"
         ],
         "xaxis": "x10",
         "y": [
          25000000,
          26700000,
          28100000
         ],
         "yaxis": "y19"
        },
        {
         "name": "Posición de Lose Control",
         "opacity": 0.5,
         "type": "bar",
         "x": [
          "2024-05-16T00:00:00",
          "2024-05-17T00:00:00",
          "2024-05-18T00:00:00",
          "2024-05-19T00:00:00",
          "2024-05-20T00:00:00",
          "2024-05-21T00:00:00",
          "2024-05-22T00:00:00",
          "2024-05-23T00:00:00",
          "2024-05-24T00:00:00",
          "2024-05-25T00:00:00",
          "2024-05-26T00:00:00",
          "2024-05-27T00:00:00",
          "2024-05-28T00:00:00",
          "2024-05-29T00:00:00",
          "2024-05-30T00:00:00",
          "2024-05-31T00:00:00",
          "2024-06-01T00:00:00",
          "2024-06-02T00:00:00",
          "2024-06-03T00:00:00",
          "2024-06-04T00:00:00",
          "2024-06-05T00:00:00",
          "2024-06-06T00:00:00",
          "2024-06-07T00:00:00",
          "2024-06-08T00:00:00",
          "2024-06-09T00:00:00",
          "2024-06-10T00:00:00",
          "2024-06-11T00:00:00",
          "2024-06-12T00:00:00",
          "2024-06-13T00:00:00",
          "2024-06-14T00:00:00",
          "2024-06-15T00:00:00",
          "2024-06-16T00:00:00",
          "2024-06-17T00:00:00",
          "2024-06-18T00:00:00",
          "2024-06-19T00:00:00",
          "2024-06-20T00:00:00",
          "2024-06-21T00:00:00",
          "2024-06-22T00:00:00",
          "2024-06-23T00:00:00",
          "2024-06-24T00:00:00",
          "2024-06-25T00:00:00",
          "2024-06-26T00:00:00",
          "2024-06-27T00:00:00"
         ],
         "xaxis": "x10",
         "y": [
          15,
          15,
          14,
          23,
          21,
          21,
          21,
          21,
          20,
          17,
          16,
          16,
          16,
          16,
          17,
          17,
          17,
          18,
          18,
          18,
          19,
          19,
          19,
          19,
          20,
          19,
          19,
          20,
          20,
          20,
          19,
          18,
          15,
          16,
          17,
          16,
          19,
          17,
          16,
          16,
          17,
          20,
          18
         ],
         "yaxis": "y20"
        },
        {
         "mode": "lines+markers",
         "name": "Visitas de MILLION DOLLAR BABY",
         "type": "scatter",
         "x": [
          "2024-05-16T00:00:00",
          "2024-05-22T00:00:00",
          "2024-05-25T00:00:00",
          "2024-05-28T00:00:00",
          "2024-05-29T00:00:00",
          "2024-05-30T00:00:00",
          "2024-05-31T00:00:00",
          "2024-06-02T00:00:00",
          "2024-06-03T00:00:00",
          "2024-06-04T00:00:00",
          "2024-06-05T00:00:00",
          "2024-06-15T00:00:00",
          "2024-06-17T00:00:00",
          "2024-06-20T00:00:00",
          "2024-06-21T00:00:00",
          "2024-06-22T00:00:00",
          "2024-06-23T00:00:00",
          "2024-06-26T00:00:00"
         ],
         "xaxis": "x11",
         "y": [
          6700000,
          40000000,
          7000000,
          7800000,
          78500000,
          60800000,
          132100000,
          11600000,
          45600000,
          30200000,
          0,
          107000000,
          96200000,
          98700000,
          99100000,
          113500000,
          138700000,
          26900000
         ],
         "yaxis": "y21"
        },
        {
         "name": "Posición de MILLION DOLLAR BABY",
         "opacity": 0.5,
         "type": "bar",
         "x": [
          "2024-05-16T00:00:00",
          "2024-05-17T00:00:00",
          "2024-05-18T00:00:00",
          "2024-05-19T00:00:00",
          "2024-05-20T00:00:00",
          "2024-05-21T00:00:00",
          "2024-05-22T00:00:00",
          "2024-05-23T00:00:00",
          "2024-05-24T00:00:00",
          "2024-05-25T00:00:00",
          "2024-05-26T00:00:00",
          "2024-05-27T00:00:00",
          "2024-05-28T00:00:00",
          "2024-05-29T00:00:00",
          "2024-05-30T00:00:00",
          "2024-05-31T00:00:00",
          "2024-06-01T00:00:00",
          "2024-06-02T00:00:00",
          "2024-06-03T00:00:00",
          "2024-06-04T00:00:00",
          "2024-06-05T00:00:00",
          "2024-06-06T00:00:00",
          "2024-06-07T00:00:00",
          "2024-06-08T00:00:00",
          "2024-06-09T00:00:00",
          "2024-06-10T00:00:00",
          "2024-06-11T00:00:00",
          "2024-06-12T00:00:00",
          "2024-06-13T00:00:00",
          "2024-06-14T00:00:00",
          "2024-06-15T00:00:00",
          "2024-06-16T00:00:00",
          "2024-06-17T00:00:00",
          "2024-06-18T00:00:00",
          "2024-06-19T00:00:00",
          "2024-06-20T00:00:00",
          "2024-06-21T00:00:00",
          "2024-06-22T00:00:00",
          "2024-06-23T00:00:00",
          "2024-06-24T00:00:00",
          "2024-06-25T00:00:00",
          "2024-06-26T00:00:00",
          "2024-06-27T00:00:00"
         ],
         "xaxis": "x11",
         "y": [
          1,
          1,
          1,
          1,
          1,
          1,
          1,
          1,
          2,
          2,
          3,
          3,
          3,
          3,
          2,
          2,
          2,
          2,
          2,
          2,
          3,
          4,
          4,
          7,
          7,
          8,
          6,
          4,
          4,
          8,
          6,
          5,
          4,
          4,
          4,
          4,
          4,
          4,
          4,
          6,
          6,
          5,
          5
         ],
         "yaxis": "y22"
        },
        {
         "mode": "lines+markers",
         "name": "Visitas de My Love Mine All Mine",
         "type": "scatter",
         "x": [
          "2024-05-16T00:00:00",
          "2024-05-17T00:00:00",
          "2024-05-18T00:00:00"
         ],
         "xaxis": "x12",
         "y": [
          72700000,
          145400000,
          145600000
         ],
         "yaxis": "y23"
        },
        {
         "name": "Posición de My Love Mine All Mine",
         "opacity": 0.5,
         "type": "bar",
         "x": [
          "2024-05-16T00:00:00",
          "2024-05-17T00:00:00",
          "2024-05-18T00:00:00",
          "2024-05-21T00:00:00",
          "2024-05-22T00:00:00",
          "2024-05-23T00:00:00",
          "2024-05-24T00:00:00",
          "2024-05-25T00:00:00",
          "2024-05-28T00:00:00",
          "2024-05-29T00:00:00",
          "2024-05-30T00:00:00",
          "2024-05-31T00:00:00",
          "2024-06-01T00:00:00",
          "2024-06-04T00:00:00",
          "2024-06-05T00:00:00",
          "2024-06-06T00:00:00",
          "2024-06-07T00:00:00"
         ],
         "xaxis": "x12",
         "y": [
          43,
          43,
          41,
          46,
          46,
          45,
          45,
          46,
          47,
          46,
          47,
          48,
          47,
          49,
          47,
          48,
          47
         ],
         "yaxis": "y24"
        },
        {
         "mode": "lines+markers",
         "name": "Visitas de Not Like Us",
         "type": "scatter",
         "x": [
          "2024-06-04T00:00:00",
          "2024-06-10T00:00:00",
          "2024-06-26T00:00:00"
         ],
         "xaxis": "x13",
         "y": [
          35400000,
          4900000,
          23500000
         ],
         "yaxis": "y25"
        },
        {
         "name": "Posición de Not Like Us",
         "opacity": 0.5,
         "type": "bar",
         "x": [
          "2024-05-16T00:00:00",
          "2024-05-17T00:00:00",
          "2024-05-18T00:00:00",
          "2024-05-19T00:00:00",
          "2024-05-20T00:00:00",
          "2024-05-21T00:00:00",
          "2024-05-22T00:00:00",
          "2024-05-23T00:00:00",
          "2024-05-24T00:00:00",
          "2024-05-25T00:00:00",
          "2024-05-26T00:00:00",
          "2024-05-27T00:00:00",
          "2024-05-28T00:00:00",
          "2024-05-29T00:00:00",
          "2024-05-30T00:00:00",
          "2024-05-31T00:00:00",
          "2024-06-01T00:00:00",
          "2024-06-02T00:00:00",
          "2024-06-03T00:00:00",
          "2024-06-04T00:00:00",
          "2024-06-05T00:00:00",
          "2024-06-06T00:00:00",
          "2024-06-07T00:00:00",
          "2024-06-08T00:00:00",
          "2024-06-09T00:00:00",
          "2024-06-10T00:00:00",
          "2024-06-11T00:00:00",
          "2024-06-12T00:00:00",
          "2024-06-13T00:00:00",
          "2024-06-14T00:00:00",
          "2024-06-15T00:00:00",
          "2024-06-16T00:00:00",
          "2024-06-17T00:00:00",
          "2024-06-18T00:00:00",
          "2024-06-19T00:00:00",
          "2024-06-20T00:00:00",
          "2024-06-21T00:00:00",
          "2024-06-22T00:00:00",
          "2024-06-23T00:00:00",
          "2024-06-24T00:00:00",
          "2024-06-25T00:00:00",
          "2024-06-26T00:00:00",
          "2024-06-27T00:00:00"
         ],
         "xaxis": "x13",
         "y": [
          2,
          2,
          2,
          5,
          2,
          3,
          3,
          3,
          4,
          4,
          4,
          4,
          4,
          4,
          4,
          4,
          4,
          6,
          7,
          7,
          8,
          8,
          9,
          9,
          11,
          13,
          13,
          13,
          12,
          10,
          12,
          13,
          14,
          12,
          14,
          14,
          13,
          7,
          5,
          4,
          4,
          4,
          4
         ],
         "yaxis": "y26"
        },
        {
         "mode": "lines+markers",
         "name": "Visitas de Please Please Please",
         "type": "scatter",
         "x": [
          "2024-06-21T00:00:00",
          "2024-06-22T00:00:00",
          "2024-06-23T00:00:00"
         ],
         "xaxis": "x14",
         "y": [
          42900000,
          43100000,
          43400000
         ],
         "yaxis": "y27"
        },
        {
         "name": "Posición de Please Please Please",
         "opacity": 0.5,
         "type": "bar",
         "x": [
          "2024-06-09T00:00:00",
          "2024-06-10T00:00:00",
          "2024-06-11T00:00:00",
          "2024-06-12T00:00:00",
          "2024-06-13T00:00:00",
          "2024-06-14T00:00:00",
          "2024-06-15T00:00:00",
          "2024-06-16T00:00:00",
          "2024-06-17T00:00:00",
          "2024-06-18T00:00:00",
          "2024-06-19T00:00:00",
          "2024-06-20T00:00:00",
          "2024-06-21T00:00:00",
          "2024-06-22T00:00:00",
          "2024-06-23T00:00:00",
          "2024-06-24T00:00:00",
          "2024-06-25T00:00:00",
          "2024-06-26T00:00:00",
          "2024-06-27T00:00:00"
         ],
         "xaxis": "x14",
         "y": [
          9,
          6,
          3,
          2,
          1,
          1,
          1,
          1,
          1,
          1,
          1,
          1,
          1,
          1,
          1,
          1,
          1,
          1,
          1
         ],
         "yaxis": "y28"
        },
        {
         "mode": "lines+markers",
         "name": "Visitas de See You Again (feat. Kali Uchis)",
         "type": "scatter",
         "x": [
          "2024-05-16T00:00:00",
          "2024-05-17T00:00:00",
          "2024-06-03T00:00:00",
          "2024-06-04T00:00:00"
         ],
         "xaxis": "x15",
         "y": [
          18900000,
          19000000,
          20200000,
          20400000
         ],
         "yaxis": "y29"
        },
        {
         "name": "Posición de See You Again (feat. Kali Uchis)",
         "opacity": 0.5,
         "type": "bar",
         "x": [
          "2024-05-16T00:00:00",
          "2024-05-17T00:00:00",
          "2024-05-18T00:00:00",
          "2024-05-28T00:00:00",
          "2024-05-29T00:00:00",
          "2024-05-30T00:00:00",
          "2024-05-31T00:00:00",
          "2024-06-01T00:00:00",
          "2024-06-03T00:00:00",
          "2024-06-04T00:00:00",
          "2024-06-05T00:00:00",
          "2024-06-06T00:00:00",
          "2024-06-07T00:00:00",
          "2024-06-08T00:00:00"
         ],
         "xaxis": "x15",
         "y": [
          50,
          50,
          50,
          50,
          50,
          48,
          46,
          45,
          50,
          45,
          46,
          47,
          48,
          50
         ],
         "yaxis": "y30"
        },
        {
         "mode": "lines+markers",
         "name": "Visitas de Stargazing",
         "type": "scatter",
         "x": [
          "2024-06-15T00:00:00",
          "2024-06-17T00:00:00",
          "2024-06-20T00:00:00",
          "2024-06-21T00:00:00",
          "2024-06-22T00:00:00",
          "2024-06-23T00:00:00"
         ],
         "xaxis": "x16",
         "y": [
          37700000,
          44400000,
          46600000,
          47000000,
          47200000,
          47400000
         ],
         "yaxis": "y31"
        },
        {
         "name": "Posición de Stargazing",
         "opacity": 0.5,
         "type": "bar",
         "x": [
          "2024-05-16T00:00:00",
          "2024-05-17T00:00:00",
          "2024-05-18T00:00:00",
          "2024-05-19T00:00:00",
          "2024-05-20T00:00:00",
          "2024-05-21T00:00:00",
          "2024-05-22T00:00:00",
          "2024-05-23T00:00:00",
          "2024-05-24T00:00:00",
          "2024-05-25T00:00:00",
          "2024-05-26T00:00:00",
          "2024-05-27T00:00:00",
          "2024-05-28T00:00:00",
          "2024-05-29T00:00:00",
          "2024-05-30T00:00:00",
          "2024-05-31T00:00:00",
          "2024-06-01T00:00:00",
          "2024-06-02T00:00:00",
          "2024-06-03T00:00:00",
          "2024-06-04T00:00:00",
          "2024-06-05T00:00:00",
          "2024-06-06T00:00:00",
          "2024-06-07T00:00:00",
          "2024-06-08T00:00:00",
          "2024-06-09T00:00:00",
          "2024-06-10T00:00:00",
          "2024-06-11T00:00:00",
          "2024-06-12T00:00:00",
          "2024-06-13T00:00:00",
          "2024-06-14T00:00:00",
          "2024-06-15T00:00:00",
          "2024-06-16T00:00:00",
          "2024-06-17T00:00:00",
          "2024-06-18T00:00:00",
          "2024-06-19T00:00:00",
          "2024-06-20T00:00:00",
          "2024-06-21T00:00:00",
          "2024-06-22T00:00:00",
          "2024-06-23T00:00:00",
          "2024-06-24T00:00:00",
          "2024-06-25T00:00:00",
          "2024-06-26T00:00:00",
          "2024-06-27T00:00:00"
         ],
         "xaxis": "x16",
         "y": [
          41,
          41,
          38,
          40,
          47,
          48,
          44,
          41,
          29,
          28,
          27,
          27,
          26,
          22,
          20,
          18,
          18,
          19,
          19,
          19,
          18,
          18,
          18,
          18,
          17,
          18,
          20,
          18,
          18,
          18,
          17,
          17,
          19,
          22,
          16,
          17,
          21,
          21,
          17,
          20,
          20,
          21,
          21
         ],
         "yaxis": "y32"
        },
        {
         "mode": "lines+markers",
         "name": "Visitas de Tell Ur Girlfriend",
         "type": "scatter",
         "x": [
          "2024-05-16T00:00:00",
          "2024-05-17T00:00:00"
         ],
         "xaxis": "x17",
         "y": [
          17800000,
          1500000
         ],
         "yaxis": "y33"
        },
        {
         "name": "Posición de Tell Ur Girlfriend",
         "opacity": 0.5,
         "type": "bar",
         "x": [
          "2024-05-16T00:00:00",
          "2024-05-17T00:00:00",
          "2024-05-18T00:00:00"
         ],
         "xaxis": "x17",
         "y": [
          42,
          42,
          43
         ],
         "yaxis": "y34"
        },
        {
         "mode": "lines+markers",
         "name": "Visitas de Too Sweet",
         "type": "scatter",
         "x": [
          "2024-06-03T00:00:00"
         ],
         "xaxis": "x18",
         "y": [
          10200000
         ],
         "yaxis": "y35"
        },
        {
         "name": "Posición de Too Sweet",
         "opacity": 0.5,
         "type": "bar",
         "x": [
          "2024-05-16T00:00:00",
          "2024-05-17T00:00:00",
          "2024-05-18T00:00:00",
          "2024-05-19T00:00:00",
          "2024-05-20T00:00:00",
          "2024-05-21T00:00:00",
          "2024-05-22T00:00:00",
          "2024-05-23T00:00:00",
          "2024-05-24T00:00:00",
          "2024-05-25T00:00:00",
          "2024-05-26T00:00:00",
          "2024-05-27T00:00:00",
          "2024-05-28T00:00:00",
          "2024-05-29T00:00:00",
          "2024-05-30T00:00:00",
          "2024-05-31T00:00:00",
          "2024-06-01T00:00:00",
          "2024-06-02T00:00:00",
          "2024-06-03T00:00:00",
          "2024-06-04T00:00:00",
          "2024-06-05T00:00:00",
          "2024-06-06T00:00:00",
          "2024-06-07T00:00:00",
          "2024-06-08T00:00:00",
          "2024-06-09T00:00:00",
          "2024-06-10T00:00:00",
          "2024-06-11T00:00:00",
          "2024-06-12T00:00:00",
          "2024-06-13T00:00:00",
          "2024-06-14T00:00:00",
          "2024-06-15T00:00:00",
          "2024-06-16T00:00:00",
          "2024-06-17T00:00:00",
          "2024-06-18T00:00:00",
          "2024-06-19T00:00:00",
          "2024-06-20T00:00:00",
          "2024-06-21T00:00:00",
          "2024-06-22T00:00:00",
          "2024-06-23T00:00:00",
          "2024-06-24T00:00:00",
          "2024-06-25T00:00:00",
          "2024-06-26T00:00:00",
          "2024-06-27T00:00:00"
         ],
         "xaxis": "x18",
         "y": [
          9,
          9,
          8,
          13,
          11,
          11,
          10,
          9,
          9,
          9,
          10,
          11,
          9,
          9,
          8,
          8,
          8,
          10,
          9,
          9,
          9,
          9,
          8,
          8,
          8,
          10,
          8,
          8,
          8,
          7,
          8,
          7,
          6,
          6,
          6,
          6,
          6,
          6,
          7,
          10,
          10,
          8,
          8
         ],
         "yaxis": "y36"
        },
        {
         "mode": "lines+markers",
         "name": "Visitas de Type Shit",
         "type": "scatter",
         "x": [
          "2024-05-16T00:00:00"
         ],
         "xaxis": "x19",
         "y": [
          10800000
         ],
         "yaxis": "y37"
        },
        {
         "name": "Posición de Type Shit",
         "opacity": 0.5,
         "type": "bar",
         "x": [
          "2024-05-16T00:00:00",
          "2024-05-17T00:00:00",
          "2024-05-18T00:00:00"
         ],
         "xaxis": "x19",
         "y": [
          47,
          47,
          48
         ],
         "yaxis": "y38"
        },
        {
         "mode": "lines+markers",
         "name": "Visitas de euphoria",
         "type": "scatter",
         "x": [
          "2024-05-18T00:00:00"
         ],
         "xaxis": "x20",
         "y": [
          2900000
         ],
         "yaxis": "y39"
        },
        {
         "name": "Posición de euphoria",
         "opacity": 0.5,
         "type": "bar",
         "x": [
          "2024-05-16T00:00:00",
          "2024-05-17T00:00:00",
          "2024-05-18T00:00:00",
          "2024-05-19T00:00:00",
          "2024-05-20T00:00:00",
          "2024-05-21T00:00:00",
          "2024-05-22T00:00:00",
          "2024-05-23T00:00:00",
          "2024-05-24T00:00:00",
          "2024-05-25T00:00:00",
          "2024-05-26T00:00:00",
          "2024-05-27T00:00:00",
          "2024-05-28T00:00:00",
          "2024-05-29T00:00:00",
          "2024-05-30T00:00:00",
          "2024-05-31T00:00:00",
          "2024-06-01T00:00:00"
         ],
         "xaxis": "x20",
         "y": [
          14,
          14,
          16,
          27,
          29,
          30,
          30,
          28,
          30,
          31,
          35,
          42,
          46,
          47,
          49,
          50,
          50
         ],
         "yaxis": "y40"
        },
        {
         "mode": "lines+markers",
         "name": "Visitas de i like the way you kiss me",
         "type": "scatter",
         "x": [
          "2024-05-26T00:00:00",
          "2024-06-14T00:00:00",
          "2024-06-16T00:00:00",
          "2024-06-20T00:00:00",
          "2024-06-24T00:00:00",
          "2024-06-25T00:00:00"
         ],
         "xaxis": "x21",
         "y": [
          8400000,
          5200000,
          10400000,
          29900000,
          5400000,
          30100000
         ],
         "yaxis": "y41"
        },
        {
         "name": "Posición de i like the way you kiss me",
         "opacity": 0.5,
         "type": "bar",
         "x": [
          "2024-05-16T00:00:00",
          "2024-05-17T00:00:00",
          "2024-05-18T00:00:00",
          "2024-05-19T00:00:00",
          "2024-05-20T00:00:00",
          "2024-05-21T00:00:00",
          "2024-05-22T00:00:00",
          "2024-05-23T00:00:00",
          "2024-05-24T00:00:00",
          "2024-05-25T00:00:00",
          "2024-05-26T00:00:00",
          "2024-05-27T00:00:00",
          "2024-05-28T00:00:00",
          "2024-05-29T00:00:00",
          "2024-05-30T00:00:00",
          "2024-05-31T00:00:00",
          "2024-06-01T00:00:00",
          "2024-06-02T00:00:00",
          "2024-06-03T00:00:00",
          "2024-06-04T00:00:00",
          "2024-06-05T00:00:00",
          "2024-06-06T00:00:00",
          "2024-06-07T00:00:00",
          "2024-06-08T00:00:00",
          "2024-06-09T00:00:00",
          "2024-06-10T00:00:00",
          "2024-06-11T00:00:00",
          "2024-06-12T00:00:00",
          "2024-06-13T00:00:00",
          "2024-06-14T00:00:00",
          "2024-06-15T00:00:00",
          "2024-06-16T00:00:00",
          "2024-06-17T00:00:00",
          "2024-06-18T00:00:00",
          "2024-06-19T00:00:00",
          "2024-06-20T00:00:00",
          "2024-06-21T00:00:00",
          "2024-06-22T00:00:00",
          "2024-06-23T00:00:00",
          "2024-06-24T00:00:00",
          "2024-06-25T00:00:00",
          "2024-06-26T00:00:00",
          "2024-06-27T00:00:00"
         ],
         "xaxis": "x21",
         "y": [
          5,
          5,
          5,
          9,
          8,
          9,
          9,
          10,
          11,
          12,
          12,
          12,
          12,
          12,
          10,
          9,
          11,
          11,
          12,
          11,
          10,
          10,
          10,
          10,
          12,
          12,
          12,
          12,
          13,
          14,
          14,
          12,
          12,
          14,
          13,
          13,
          14,
          13,
          13,
          13,
          13,
          13,
          13
         ],
         "yaxis": "y42"
        }
       ],
       "layout": {
        "annotations": [
         {
          "font": {
           "size": 16
          },
          "showarrow": false,
          "text": "A Bar Song (Tipsy)",
          "x": 0.47,
          "xanchor": "center",
          "xref": "paper",
          "y": 1,
          "yanchor": "bottom",
          "yref": "paper"
         },
         {
          "font": {
           "size": 16
          },
          "showarrow": false,
          "text": "Beautiful Things",
          "x": 0.47,
          "xanchor": "center",
          "xref": "paper",
          "y": 0.9514285714285715,
          "yanchor": "bottom",
          "yref": "paper"
         },
         {
          "font": {
           "size": 16
          },
          "showarrow": false,
          "text": "End of Beginning",
          "x": 0.47,
          "xanchor": "center",
          "xref": "paper",
          "y": 0.9028571428571429,
          "yanchor": "bottom",
          "yref": "paper"
         },
         {
          "font": {
           "size": 16
          },
          "showarrow": false,
          "text": "Espresso",
          "x": 0.47,
          "xanchor": "center",
          "xref": "paper",
          "y": 0.8542857142857144,
          "yanchor": "bottom",
          "yref": "paper"
         },
         {
          "font": {
           "size": 16
          },
          "showarrow": false,
          "text": "FE!N (feat. Playboi Carti)",
          "x": 0.47,
          "xanchor": "center",
          "xref": "paper",
          "y": 0.8057142857142858,
          "yanchor": "bottom",
          "yref": "paper"
         },
         {
          "font": {
           "size": 16
          },
          "showarrow": false,
          "text": "Fortnight (feat. Post Malone)",
          "x": 0.47,
          "xanchor": "center",
          "xref": "paper",
          "y": 0.7571428571428572,
          "yanchor": "bottom",
          "yref": "paper"
         },
         {
          "font": {
           "size": 16
          },
          "showarrow": false,
          "text": "Gata Only",
          "x": 0.47,
          "xanchor": "center",
          "xref": "paper",
          "y": 0.7085714285714287,
          "yanchor": "bottom",
          "yref": "paper"
         },
         {
          "font": {
           "size": 16
          },
          "showarrow": false,
          "text": "LUNCH",
          "x": 0.47,
          "xanchor": "center",
          "xref": "paper",
          "y": 0.66,
          "yanchor": "bottom",
          "yref": "paper"
         },
         {
          "font": {
           "size": 16
          },
          "showarrow": false,
          "text": "Like That",
          "x": 0.47,
          "xanchor": "center",
          "xref": "paper",
          "y": 0.6114285714285715,
          "yanchor": "bottom",
          "yref": "paper"
         },
         {
          "font": {
           "size": 16
          },
          "showarrow": false,
          "text": "Lose Control",
          "x": 0.47,
          "xanchor": "center",
          "xref": "paper",
          "y": 0.562857142857143,
          "yanchor": "bottom",
          "yref": "paper"
         },
         {
          "font": {
           "size": 16
          },
          "showarrow": false,
          "text": "MILLION DOLLAR BABY",
          "x": 0.47,
          "xanchor": "center",
          "xref": "paper",
          "y": 0.5142857142857143,
          "yanchor": "bottom",
          "yref": "paper"
         },
         {
          "font": {
           "size": 16
          },
          "showarrow": false,
          "text": "My Love Mine All Mine",
          "x": 0.47,
          "xanchor": "center",
          "xref": "paper",
          "y": 0.46571428571428575,
          "yanchor": "bottom",
          "yref": "paper"
         },
         {
          "font": {
           "size": 16
          },
          "showarrow": false,
          "text": "Not Like Us",
          "x": 0.47,
          "xanchor": "center",
          "xref": "paper",
          "y": 0.41714285714285715,
          "yanchor": "bottom",
          "yref": "paper"
         },
         {
          "font": {
           "size": 16
          },
          "showarrow": false,
          "text": "Please Please Please",
          "x": 0.47,
          "xanchor": "center",
          "xref": "paper",
          "y": 0.3685714285714286,
          "yanchor": "bottom",
          "yref": "paper"
         },
         {
          "font": {
           "size": 16
          },
          "showarrow": false,
          "text": "See You Again (feat. Kali Uchis)",
          "x": 0.47,
          "xanchor": "center",
          "xref": "paper",
          "y": 0.32,
          "yanchor": "bottom",
          "yref": "paper"
         },
         {
          "font": {
           "size": 16
          },
          "showarrow": false,
          "text": "Stargazing",
          "x": 0.47,
          "xanchor": "center",
          "xref": "paper",
          "y": 0.2714285714285714,
          "yanchor": "bottom",
          "yref": "paper"
         },
         {
          "font": {
           "size": 16
          },
          "showarrow": false,
          "text": "Tell Ur Girlfriend",
          "x": 0.47,
          "xanchor": "center",
          "xref": "paper",
          "y": 0.22285714285714286,
          "yanchor": "bottom",
          "yref": "paper"
         },
         {
          "font": {
           "size": 16
          },
          "showarrow": false,
          "text": "Too Sweet",
          "x": 0.47,
          "xanchor": "center",
          "xref": "paper",
          "y": 0.1742857142857143,
          "yanchor": "bottom",
          "yref": "paper"
         },
         {
          "font": {
           "size": 16
          },
          "showarrow": false,
          "text": "Type Shit",
          "x": 0.47,
          "xanchor": "center",
          "xref": "paper",
          "y": 0.12571428571428572,
          "yanchor": "bottom",
          "yref": "paper"
         },
         {
          "font": {
           "size": 16
          },
          "showarrow": false,
          "text": "euphoria",
          "x": 0.47,
          "xanchor": "center",
          "xref": "paper",
          "y": 0.07714285714285714,
          "yanchor": "bottom",
          "yref": "paper"
         },
         {
          "font": {
           "size": 16
          },
          "showarrow": false,
          "text": "i like the way you kiss me",
          "x": 0.47,
          "xanchor": "center",
          "xref": "paper",
          "y": 0.02857142857142857,
          "yanchor": "bottom",
          "yref": "paper"
         }
        ],
        "height": 6300,
        "template": {
         "data": {
          "bar": [
           {
            "error_x": {
             "color": "#2a3f5f"
            },
            "error_y": {
             "color": "#2a3f5f"
            },
            "marker": {
             "line": {
              "color": "#E5ECF6",
              "width": 0.5
             },
             "pattern": {
              "fillmode": "overlay",
              "size": 10,
              "solidity": 0.2
             }
            },
            "type": "bar"
           }
          ],
          "barpolar": [
           {
            "marker": {
             "line": {
              "color": "#E5ECF6",
              "width": 0.5
             },
             "pattern": {
              "fillmode": "overlay",
              "size": 10,
              "solidity": 0.2
             }
            },
            "type": "barpolar"
           }
          ],
          "carpet": [
           {
            "aaxis": {
             "endlinecolor": "#2a3f5f",
             "gridcolor": "white",
             "linecolor": "white",
             "minorgridcolor": "white",
             "startlinecolor": "#2a3f5f"
            },
            "baxis": {
             "endlinecolor": "#2a3f5f",
             "gridcolor": "white",
             "linecolor": "white",
             "minorgridcolor": "white",
             "startlinecolor": "#2a3f5f"
            },
            "type": "carpet"
           }
          ],
          "choropleth": [
           {
            "colorbar": {
             "outlinewidth": 0,
             "ticks": ""
            },
            "type": "choropleth"
           }
          ],
          "contour": [
           {
            "colorbar": {
             "outlinewidth": 0,
             "ticks": ""
            },
            "colorscale": [
             [
              0,
              "#0d0887"
             ],
             [
              0.1111111111111111,
              "#46039f"
             ],
             [
              0.2222222222222222,
              "#7201a8"
             ],
             [
              0.3333333333333333,
              "#9c179e"
             ],
             [
              0.4444444444444444,
              "#bd3786"
             ],
             [
              0.5555555555555556,
              "#d8576b"
             ],
             [
              0.6666666666666666,
              "#ed7953"
             ],
             [
              0.7777777777777778,
              "#fb9f3a"
             ],
             [
              0.8888888888888888,
              "#fdca26"
             ],
             [
              1,
              "#f0f921"
             ]
            ],
            "type": "contour"
           }
          ],
          "contourcarpet": [
           {
            "colorbar": {
             "outlinewidth": 0,
             "ticks": ""
            },
            "type": "contourcarpet"
           }
          ],
          "heatmap": [
           {
            "colorbar": {
             "outlinewidth": 0,
             "ticks": ""
            },
            "colorscale": [
             [
              0,
              "#0d0887"
             ],
             [
              0.1111111111111111,
              "#46039f"
             ],
             [
              0.2222222222222222,
              "#7201a8"
             ],
             [
              0.3333333333333333,
              "#9c179e"
             ],
             [
              0.4444444444444444,
              "#bd3786"
             ],
             [
              0.5555555555555556,
              "#d8576b"
             ],
             [
              0.6666666666666666,
              "#ed7953"
             ],
             [
              0.7777777777777778,
              "#fb9f3a"
             ],
             [
              0.8888888888888888,
              "#fdca26"
             ],
             [
              1,
              "#f0f921"
             ]
            ],
            "type": "heatmap"
           }
          ],
          "heatmapgl": [
           {
            "colorbar": {
             "outlinewidth": 0,
             "ticks": ""
            },
            "colorscale": [
             [
              0,
              "#0d0887"
             ],
             [
              0.1111111111111111,
              "#46039f"
             ],
             [
              0.2222222222222222,
              "#7201a8"
             ],
             [
              0.3333333333333333,
              "#9c179e"
             ],
             [
              0.4444444444444444,
              "#bd3786"
             ],
             [
              0.5555555555555556,
              "#d8576b"
             ],
             [
              0.6666666666666666,
              "#ed7953"
             ],
             [
              0.7777777777777778,
              "#fb9f3a"
             ],
             [
              0.8888888888888888,
              "#fdca26"
             ],
             [
              1,
              "#f0f921"
             ]
            ],
            "type": "heatmapgl"
           }
          ],
          "histogram": [
           {
            "marker": {
             "pattern": {
              "fillmode": "overlay",
              "size": 10,
              "solidity": 0.2
             }
            },
            "type": "histogram"
           }
          ],
          "histogram2d": [
           {
            "colorbar": {
             "outlinewidth": 0,
             "ticks": ""
            },
            "colorscale": [
             [
              0,
              "#0d0887"
             ],
             [
              0.1111111111111111,
              "#46039f"
             ],
             [
              0.2222222222222222,
              "#7201a8"
             ],
             [
              0.3333333333333333,
              "#9c179e"
             ],
             [
              0.4444444444444444,
              "#bd3786"
             ],
             [
              0.5555555555555556,
              "#d8576b"
             ],
             [
              0.6666666666666666,
              "#ed7953"
             ],
             [
              0.7777777777777778,
              "#fb9f3a"
             ],
             [
              0.8888888888888888,
              "#fdca26"
             ],
             [
              1,
              "#f0f921"
             ]
            ],
            "type": "histogram2d"
           }
          ],
          "histogram2dcontour": [
           {
            "colorbar": {
             "outlinewidth": 0,
             "ticks": ""
            },
            "colorscale": [
             [
              0,
              "#0d0887"
             ],
             [
              0.1111111111111111,
              "#46039f"
             ],
             [
              0.2222222222222222,
              "#7201a8"
             ],
             [
              0.3333333333333333,
              "#9c179e"
             ],
             [
              0.4444444444444444,
              "#bd3786"
             ],
             [
              0.5555555555555556,
              "#d8576b"
             ],
             [
              0.6666666666666666,
              "#ed7953"
             ],
             [
              0.7777777777777778,
              "#fb9f3a"
             ],
             [
              0.8888888888888888,
              "#fdca26"
             ],
             [
              1,
              "#f0f921"
             ]
            ],
            "type": "histogram2dcontour"
           }
          ],
          "mesh3d": [
           {
            "colorbar": {
             "outlinewidth": 0,
             "ticks": ""
            },
            "type": "mesh3d"
           }
          ],
          "parcoords": [
           {
            "line": {
             "colorbar": {
              "outlinewidth": 0,
              "ticks": ""
             }
            },
            "type": "parcoords"
           }
          ],
          "pie": [
           {
            "automargin": true,
            "type": "pie"
           }
          ],
          "scatter": [
           {
            "fillpattern": {
             "fillmode": "overlay",
             "size": 10,
             "solidity": 0.2
            },
            "type": "scatter"
           }
          ],
          "scatter3d": [
           {
            "line": {
             "colorbar": {
              "outlinewidth": 0,
              "ticks": ""
             }
            },
            "marker": {
             "colorbar": {
              "outlinewidth": 0,
              "ticks": ""
             }
            },
            "type": "scatter3d"
           }
          ],
          "scattercarpet": [
           {
            "marker": {
             "colorbar": {
              "outlinewidth": 0,
              "ticks": ""
             }
            },
            "type": "scattercarpet"
           }
          ],
          "scattergeo": [
           {
            "marker": {
             "colorbar": {
              "outlinewidth": 0,
              "ticks": ""
             }
            },
            "type": "scattergeo"
           }
          ],
          "scattergl": [
           {
            "marker": {
             "colorbar": {
              "outlinewidth": 0,
              "ticks": ""
             }
            },
            "type": "scattergl"
           }
          ],
          "scattermapbox": [
           {
            "marker": {
             "colorbar": {
              "outlinewidth": 0,
              "ticks": ""
             }
            },
            "type": "scattermapbox"
           }
          ],
          "scatterpolar": [
           {
            "marker": {
             "colorbar": {
              "outlinewidth": 0,
              "ticks": ""
             }
            },
            "type": "scatterpolar"
           }
          ],
          "scatterpolargl": [
           {
            "marker": {
             "colorbar": {
              "outlinewidth": 0,
              "ticks": ""
             }
            },
            "type": "scatterpolargl"
           }
          ],
          "scatterternary": [
           {
            "marker": {
             "colorbar": {
              "outlinewidth": 0,
              "ticks": ""
             }
            },
            "type": "scatterternary"
           }
          ],
          "surface": [
           {
            "colorbar": {
             "outlinewidth": 0,
             "ticks": ""
            },
            "colorscale": [
             [
              0,
              "#0d0887"
             ],
             [
              0.1111111111111111,
              "#46039f"
             ],
             [
              0.2222222222222222,
              "#7201a8"
             ],
             [
              0.3333333333333333,
              "#9c179e"
             ],
             [
              0.4444444444444444,
              "#bd3786"
             ],
             [
              0.5555555555555556,
              "#d8576b"
             ],
             [
              0.6666666666666666,
              "#ed7953"
             ],
             [
              0.7777777777777778,
              "#fb9f3a"
             ],
             [
              0.8888888888888888,
              "#fdca26"
             ],
             [
              1,
              "#f0f921"
             ]
            ],
            "type": "surface"
           }
          ],
          "table": [
           {
            "cells": {
             "fill": {
              "color": "#EBF0F8"
             },
             "line": {
              "color": "white"
             }
            },
            "header": {
             "fill": {
              "color": "#C8D4E3"
             },
             "line": {
              "color": "white"
             }
            },
            "type": "table"
           }
          ]
         },
         "layout": {
          "annotationdefaults": {
           "arrowcolor": "#2a3f5f",
           "arrowhead": 0,
           "arrowwidth": 1
          },
          "autotypenumbers": "strict",
          "coloraxis": {
           "colorbar": {
            "outlinewidth": 0,
            "ticks": ""
           }
          },
          "colorscale": {
           "diverging": [
            [
             0,
             "#8e0152"
            ],
            [
             0.1,
             "#c51b7d"
            ],
            [
             0.2,
             "#de77ae"
            ],
            [
             0.3,
             "#f1b6da"
            ],
            [
             0.4,
             "#fde0ef"
            ],
            [
             0.5,
             "#f7f7f7"
            ],
            [
             0.6,
             "#e6f5d0"
            ],
            [
             0.7,
             "#b8e186"
            ],
            [
             0.8,
             "#7fbc41"
            ],
            [
             0.9,
             "#4d9221"
            ],
            [
             1,
             "#276419"
            ]
           ],
           "sequential": [
            [
             0,
             "#0d0887"
            ],
            [
             0.1111111111111111,
             "#46039f"
            ],
            [
             0.2222222222222222,
             "#7201a8"
            ],
            [
             0.3333333333333333,
             "#9c179e"
            ],
            [
             0.4444444444444444,
             "#bd3786"
            ],
            [
             0.5555555555555556,
             "#d8576b"
            ],
            [
             0.6666666666666666,
             "#ed7953"
            ],
            [
             0.7777777777777778,
             "#fb9f3a"
            ],
            [
             0.8888888888888888,
             "#fdca26"
            ],
            [
             1,
             "#f0f921"
            ]
           ],
           "sequentialminus": [
            [
             0,
             "#0d0887"
            ],
            [
             0.1111111111111111,
             "#46039f"
            ],
            [
             0.2222222222222222,
             "#7201a8"
            ],
            [
             0.3333333333333333,
             "#9c179e"
            ],
            [
             0.4444444444444444,
             "#bd3786"
            ],
            [
             0.5555555555555556,
             "#d8576b"
            ],
            [
             0.6666666666666666,
             "#ed7953"
            ],
            [
             0.7777777777777778,
             "#fb9f3a"
            ],
            [
             0.8888888888888888,
             "#fdca26"
            ],
            [
             1,
             "#f0f921"
            ]
           ]
          },
          "colorway": [
           "#636efa",
           "#EF553B",
           "#00cc96",
           "#ab63fa",
           "#FFA15A",
           "#19d3f3",
           "#FF6692",
           "#B6E880",
           "#FF97FF",
           "#FECB52"
          ],
          "font": {
           "color": "#2a3f5f"
          },
          "geo": {
           "bgcolor": "white",
           "lakecolor": "white",
           "landcolor": "#E5ECF6",
           "showlakes": true,
           "showland": true,
           "subunitcolor": "white"
          },
          "hoverlabel": {
           "align": "left"
          },
          "hovermode": "closest",
          "mapbox": {
           "style": "light"
          },
          "paper_bgcolor": "white",
          "plot_bgcolor": "#E5ECF6",
          "polar": {
           "angularaxis": {
            "gridcolor": "white",
            "linecolor": "white",
            "ticks": ""
           },
           "bgcolor": "#E5ECF6",
           "radialaxis": {
            "gridcolor": "white",
            "linecolor": "white",
            "ticks": ""
           }
          },
          "scene": {
           "xaxis": {
            "backgroundcolor": "#E5ECF6",
            "gridcolor": "white",
            "gridwidth": 2,
            "linecolor": "white",
            "showbackground": true,
            "ticks": "",
            "zerolinecolor": "white"
           },
           "yaxis": {
            "backgroundcolor": "#E5ECF6",
            "gridcolor": "white",
            "gridwidth": 2,
            "linecolor": "white",
            "showbackground": true,
            "ticks": "",
            "zerolinecolor": "white"
           },
           "zaxis": {
            "backgroundcolor": "#E5ECF6",
            "gridcolor": "white",
            "gridwidth": 2,
            "linecolor": "white",
            "showbackground": true,
            "ticks": "",
            "zerolinecolor": "white"
           }
          },
          "shapedefaults": {
           "line": {
            "color": "#2a3f5f"
           }
          },
          "ternary": {
           "aaxis": {
            "gridcolor": "white",
            "linecolor": "white",
            "ticks": ""
           },
           "baxis": {
            "gridcolor": "white",
            "linecolor": "white",
            "ticks": ""
           },
           "bgcolor": "#E5ECF6",
           "caxis": {
            "gridcolor": "white",
            "linecolor": "white",
            "ticks": ""
           }
          },
          "title": {
           "x": 0.05
          },
          "xaxis": {
           "automargin": true,
           "gridcolor": "white",
           "linecolor": "white",
           "ticks": "",
           "title": {
            "standoff": 15
           },
           "zerolinecolor": "white",
           "zerolinewidth": 2
          },
          "yaxis": {
           "automargin": true,
           "gridcolor": "white",
           "linecolor": "white",
           "ticks": "",
           "title": {
            "standoff": 15
           },
           "zerolinecolor": "white",
           "zerolinewidth": 2
          }
         }
        },
        "title": {
         "text": "Suma de Visitas y Posición en el Top 50 por Día para Cada Canción"
        },
        "xaxis": {
         "anchor": "y",
         "domain": [
          0,
          0.94
         ],
         "matches": "x21",
         "showticklabels": false
        },
        "xaxis10": {
         "anchor": "y19",
         "domain": [
          0,
          0.94
         ],
         "matches": "x21",
         "showticklabels": false
        },
        "xaxis11": {
         "anchor": "y21",
         "domain": [
          0,
          0.94
         ],
         "matches": "x21",
         "showticklabels": false
        },
        "xaxis12": {
         "anchor": "y23",
         "domain": [
          0,
          0.94
         ],
         "matches": "x21",
         "showticklabels": false
        },
        "xaxis13": {
         "anchor": "y25",
         "domain": [
          0,
          0.94
         ],
         "matches": "x21",
         "showticklabels": false
        },
        "xaxis14": {
         "anchor": "y27",
         "domain": [
          0,
          0.94
         ],
         "matches": "x21",
         "showticklabels": false
        },
        "xaxis15": {
         "anchor": "y29",
         "domain": [
          0,
          0.94
         ],
         "matches": "x21",
         "showticklabels": false
        },
        "xaxis16": {
         "anchor": "y31",
         "domain": [
          0,
          0.94
         ],
         "matches": "x21",
         "showticklabels": false
        },
        "xaxis17": {
         "anchor": "y33",
         "domain": [
          0,
          0.94
         ],
         "matches": "x21",
         "showticklabels": false
        },
        "xaxis18": {
         "anchor": "y35",
         "domain": [
          0,
          0.94
         ],
         "matches": "x21",
         "showticklabels": false
        },
        "xaxis19": {
         "anchor": "y37",
         "domain": [
          0,
          0.94
         ],
         "matches": "x21",
         "showticklabels": false
        },
        "xaxis2": {
         "anchor": "y3",
         "domain": [
          0,
          0.94
         ],
         "matches": "x21",
         "showticklabels": false
        },
        "xaxis20": {
         "anchor": "y39",
         "domain": [
          0,
          0.94
         ],
         "matches": "x21",
         "showticklabels": false
        },
        "xaxis21": {
         "anchor": "y41",
         "domain": [
          0,
          0.94
         ]
        },
        "xaxis3": {
         "anchor": "y5",
         "domain": [
          0,
          0.94
         ],
         "matches": "x21",
         "showticklabels": false
        },
        "xaxis4": {
         "anchor": "y7",
         "domain": [
          0,
          0.94
         ],
         "matches": "x21",
         "showticklabels": false
        },
        "xaxis5": {
         "anchor": "y9",
         "domain": [
          0,
          0.94
         ],
         "matches": "x21",
         "showticklabels": false
        },
        "xaxis6": {
         "anchor": "y11",
         "domain": [
          0,
          0.94
         ],
         "matches": "x21",
         "showticklabels": false
        },
        "xaxis7": {
         "anchor": "y13",
         "domain": [
          0,
          0.94
         ],
         "matches": "x21",
         "showticklabels": false
        },
        "xaxis8": {
         "anchor": "y15",
         "domain": [
          0,
          0.94
         ],
         "matches": "x21",
         "showticklabels": false
        },
        "xaxis9": {
         "anchor": "y17",
         "domain": [
          0,
          0.94
         ],
         "matches": "x21",
         "showticklabels": false
        },
        "yaxis": {
         "anchor": "x",
         "domain": [
          0.9714285714285715,
          1
         ],
         "title": {
          "text": "Suma de Visitas"
         }
        },
        "yaxis10": {
         "anchor": "x5",
         "overlaying": "y9",
         "range": [
          50,
          1
         ],
         "side": "right",
         "title": {
          "text": "Posición en el Top 50"
         }
        },
        "yaxis11": {
         "anchor": "x6",
         "domain": [
          0.7285714285714286,
          0.7571428571428572
         ],
         "title": {
          "text": "Suma de Visitas"
         }
        },
        "yaxis12": {
         "anchor": "x6",
         "overlaying": "y11",
         "range": [
          50,
          1
         ],
         "side": "right",
         "title": {
          "text": "Posición en el Top 50"
         }
        },
        "yaxis13": {
         "anchor": "x7",
         "domain": [
          0.6800000000000002,
          0.7085714285714287
         ],
         "title": {
          "text": "Suma de Visitas"
         }
        },
        "yaxis14": {
         "anchor": "x7",
         "overlaying": "y13",
         "range": [
          50,
          1
         ],
         "side": "right",
         "title": {
          "text": "Posición en el Top 50"
         }
        },
        "yaxis15": {
         "anchor": "x8",
         "domain": [
          0.6314285714285715,
          0.66
         ],
         "title": {
          "text": "Suma de Visitas"
         }
        },
        "yaxis16": {
         "anchor": "x8",
         "overlaying": "y15",
         "range": [
          50,
          1
         ],
         "side": "right",
         "title": {
          "text": "Posición en el Top 50"
         }
        },
        "yaxis17": {
         "anchor": "x9",
         "domain": [
          0.582857142857143,
          0.6114285714285715
         ],
         "title": {
          "text": "Suma de Visitas"
         }
        },
        "yaxis18": {
         "anchor": "x9",
         "overlaying": "y17",
         "range": [
          50,
          1
         ],
         "side": "right",
         "title": {
          "text": "Posición en el Top 50"
         }
        },
        "yaxis19": {
         "anchor": "x10",
         "domain": [
          0.5342857142857144,
          0.562857142857143
         ],
         "title": {
          "text": "Suma de Visitas"
         }
        },
        "yaxis2": {
         "anchor": "x",
         "overlaying": "y",
         "range": [
          50,
          1
         ],
         "side": "right",
         "title": {
          "text": "Posición en el Top 50"
         }
        },
        "yaxis20": {
         "anchor": "x10",
         "overlaying": "y19",
         "range": [
          50,
          1
         ],
         "side": "right",
         "title": {
          "text": "Posición en el Top 50"
         }
        },
        "yaxis21": {
         "anchor": "x11",
         "domain": [
          0.48571428571428577,
          0.5142857142857143
         ],
         "title": {
          "text": "Suma de Visitas"
         }
        },
        "yaxis22": {
         "anchor": "x11",
         "overlaying": "y21",
         "range": [
          50,
          1
         ],
         "side": "right",
         "title": {
          "text": "Posición en el Top 50"
         }
        },
        "yaxis23": {
         "anchor": "x12",
         "domain": [
          0.43714285714285717,
          0.46571428571428575
         ],
         "title": {
          "text": "Suma de Visitas"
         }
        },
        "yaxis24": {
         "anchor": "x12",
         "overlaying": "y23",
         "range": [
          50,
          1
         ],
         "side": "right",
         "title": {
          "text": "Posición en el Top 50"
         }
        },
        "yaxis25": {
         "anchor": "x13",
         "domain": [
          0.38857142857142857,
          0.41714285714285715
         ],
         "title": {
          "text": "Suma de Visitas"
         }
        },
        "yaxis26": {
         "anchor": "x13",
         "overlaying": "y25",
         "range": [
          50,
          1
         ],
         "side": "right",
         "title": {
          "text": "Posición en el Top 50"
         }
        },
        "yaxis27": {
         "anchor": "x14",
         "domain": [
          0.34,
          0.3685714285714286
         ],
         "title": {
          "text": "Suma de Visitas"
         }
        },
        "yaxis28": {
         "anchor": "x14",
         "overlaying": "y27",
         "range": [
          50,
          1
         ],
         "side": "right",
         "title": {
          "text": "Posición en el Top 50"
         }
        },
        "yaxis29": {
         "anchor": "x15",
         "domain": [
          0.2914285714285714,
          0.32
         ],
         "title": {
          "text": "Suma de Visitas"
         }
        },
        "yaxis3": {
         "anchor": "x2",
         "domain": [
          0.9228571428571429,
          0.9514285714285715
         ],
         "title": {
          "text": "Suma de Visitas"
         }
        },
        "yaxis30": {
         "anchor": "x15",
         "overlaying": "y29",
         "range": [
          50,
          1
         ],
         "side": "right",
         "title": {
          "text": "Posición en el Top 50"
         }
        },
        "yaxis31": {
         "anchor": "x16",
         "domain": [
          0.24285714285714285,
          0.2714285714285714
         ],
         "title": {
          "text": "Suma de Visitas"
         }
        },
        "yaxis32": {
         "anchor": "x16",
         "overlaying": "y31",
         "range": [
          50,
          1
         ],
         "side": "right",
         "title": {
          "text": "Posición en el Top 50"
         }
        },
        "yaxis33": {
         "anchor": "x17",
         "domain": [
          0.19428571428571428,
          0.22285714285714286
         ],
         "title": {
          "text": "Suma de Visitas"
         }
        },
        "yaxis34": {
         "anchor": "x17",
         "overlaying": "y33",
         "range": [
          50,
          1
         ],
         "side": "right",
         "title": {
          "text": "Posición en el Top 50"
         }
        },
        "yaxis35": {
         "anchor": "x18",
         "domain": [
          0.1457142857142857,
          0.1742857142857143
         ],
         "title": {
          "text": "Suma de Visitas"
         }
        },
        "yaxis36": {
         "anchor": "x18",
         "overlaying": "y35",
         "range": [
          50,
          1
         ],
         "side": "right",
         "title": {
          "text": "Posición en el Top 50"
         }
        },
        "yaxis37": {
         "anchor": "x19",
         "domain": [
          0.09714285714285714,
          0.12571428571428572
         ],
         "title": {
          "text": "Suma de Visitas"
         }
        },
        "yaxis38": {
         "anchor": "x19",
         "overlaying": "y37",
         "range": [
          50,
          1
         ],
         "side": "right",
         "title": {
          "text": "Posición en el Top 50"
         }
        },
        "yaxis39": {
         "anchor": "x20",
         "domain": [
          0.04857142857142857,
          0.07714285714285714
         ],
         "title": {
          "text": "Suma de Visitas"
         }
        },
        "yaxis4": {
         "anchor": "x2",
         "overlaying": "y3",
         "range": [
          50,
          1
         ],
         "side": "right",
         "title": {
          "text": "Posición en el Top 50"
         }
        },
        "yaxis40": {
         "anchor": "x20",
         "overlaying": "y39",
         "range": [
          50,
          1
         ],
         "side": "right",
         "title": {
          "text": "Posición en el Top 50"
         }
        },
        "yaxis41": {
         "anchor": "x21",
         "domain": [
          0,
          0.02857142857142857
         ],
         "title": {
          "text": "Suma de Visitas"
         }
        },
        "yaxis42": {
         "anchor": "x21",
         "overlaying": "y41",
         "range": [
          50,
          1
         ],
         "side": "right",
         "title": {
          "text": "Posición en el Top 50"
         }
        },
        "yaxis5": {
         "anchor": "x3",
         "domain": [
          0.8742857142857143,
          0.9028571428571429
         ],
         "title": {
          "text": "Suma de Visitas"
         }
        },
        "yaxis6": {
         "anchor": "x3",
         "overlaying": "y5",
         "range": [
          50,
          1
         ],
         "side": "right",
         "title": {
          "text": "Posición en el Top 50"
         }
        },
        "yaxis7": {
         "anchor": "x4",
         "domain": [
          0.8257142857142858,
          0.8542857142857144
         ],
         "title": {
          "text": "Suma de Visitas"
         }
        },
        "yaxis8": {
         "anchor": "x4",
         "overlaying": "y7",
         "range": [
          50,
          1
         ],
         "side": "right",
         "title": {
          "text": "Posición en el Top 50"
         }
        },
        "yaxis9": {
         "anchor": "x5",
         "domain": [
          0.7771428571428572,
          0.8057142857142858
         ],
         "title": {
          "text": "Suma de Visitas"
         }
        }
       }
      }
     },
     "metadata": {},
     "output_type": "display_data"
    }
   ],
   "source": [
    "import pandas as pd\n",
    "import plotly.graph_objects as go\n",
    "from plotly.subplots import make_subplots\n",
    "\n",
    "spotifytiktok_df['date'] = pd.to_datetime(spotifytiktok_df['date'])\n",
    "spotify_df['date'] = pd.to_datetime(spotify_df['date'])\n",
    "\n",
    "spotifytiktok_grouped = spotifytiktok_df.groupby(['trackName', 'date'])['views'].sum().reset_index()\n",
    "\n",
    "track_names = spotifytiktok_grouped['trackName'].unique()\n",
    "\n",
    "fig = make_subplots(rows=len(track_names), cols=1, shared_xaxes=True, vertical_spacing=0.02,\n",
    "                    subplot_titles=track_names, specs=[[{\"secondary_y\": True}] for _ in track_names])\n",
    "\n",
    "for i, track in enumerate(track_names):\n",
    "    track_data_spotifytiktok = spotifytiktok_grouped[spotifytiktok_grouped['trackName'] == track]\n",
    "    track_data_spotify = spotify_df[spotify_df['trackName'] == track]\n",
    "    \n",
    "    fig.add_trace(\n",
    "        go.Scatter(x=track_data_spotifytiktok['date'], y=track_data_spotifytiktok['views'], mode='lines+markers', name=f'Visitas de {track}'),\n",
    "        row=i+1, col=1, secondary_y=False\n",
    "    )\n",
    "    \n",
    "    fig.add_trace(\n",
    "        go.Bar(x=track_data_spotify['date'], y=track_data_spotify['position'], name=f'Posición de {track}', opacity=0.5),\n",
    "        row=i+1, col=1, secondary_y=True\n",
    "    )\n",
    "\n",
    "fig.update_layout(\n",
    "    title_text=\"Suma de Visitas y Posición en el Top 50 por Día para Cada Canción\",\n",
    "    height=300 * len(track_names),\n",
    ")\n",
    "\n",
    "fig.update_yaxes(title_text=\"Suma de Visitas\", secondary_y=False)\n",
    "fig.update_yaxes(title_text=\"Posición en el Top 50\", secondary_y=True, range=[50,1])\n",
    "\n",
    "fig.show()\n"
   ]
  },
  {
   "cell_type": "code",
   "execution_count": 32,
   "id": "7359491a",
   "metadata": {},
   "outputs": [
    {
     "name": "stdout",
     "output_type": "stream",
     "text": [
      "         date                   trackName      views  posición\n",
      "1  2024-05-16  FE!N (feat. Playboi Carti)  365000000         1\n",
      "15 2024-05-21  FE!N (feat. Playboi Carti)  191000000         2\n",
      "13 2024-05-18       My Love Mine All Mine  145600000         3\n",
      "8  2024-05-17       My Love Mine All Mine  145400000         4\n",
      "68 2024-06-23         MILLION DOLLAR BABY  138700000         5\n",
      "..        ...                         ...        ...       ...\n",
      "10 2024-05-17          Tell Ur Girlfriend    1500000        71\n",
      "27 2024-06-03                    Espresso     638800        72\n",
      "47 2024-06-15                       LUNCH      24700        73\n",
      "38 2024-06-05         MILLION DOLLAR BABY          0        74\n",
      "36 2024-06-05          A Bar Song (Tipsy)          0        75\n",
      "\n",
      "[75 rows x 4 columns]\n"
     ]
    }
   ],
   "source": [
    "\n",
    "# Agrupación y suma de vistas por canción y día\n",
    "sum_views_by_song = spotifytiktok_df.groupby(['date', 'trackName'])['views'].sum().reset_index()\n",
    "\n",
    "# Ordenamiento por vistas (de mayor a menor)\n",
    "sum_views_by_song.sort_values(by='views', ascending=False, inplace=True)\n",
    "\n",
    "# Asignación de posiciones\n",
    "sum_views_by_song['posición'] = range(1, len(sum_views_by_song) + 1)\n",
    "\n",
    "# El resultado estará en sum_views_by_song\n",
    "print(sum_views_by_song)"
   ]
  }
 ],
 "metadata": {
  "kernelspec": {
   "display_name": "Python 3 (ipykernel)",
   "language": "python",
   "name": "python3"
  },
  "language_info": {
   "codemirror_mode": {
    "name": "ipython",
    "version": 3
   },
   "file_extension": ".py",
   "mimetype": "text/x-python",
   "name": "python",
   "nbconvert_exporter": "python",
   "pygments_lexer": "ipython3",
   "version": "3.10.8"
  }
 },
 "nbformat": 4,
 "nbformat_minor": 5
}
