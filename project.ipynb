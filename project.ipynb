{
 "cells": [
  {
   "cell_type": "markdown",
   "id": "76ffdfd6-4a31-4377-824d-605a67456295",
   "metadata": {},
   "source": [
    "# Proyecto de Minería"
   ]
  },
  {
   "cell_type": "code",
   "execution_count": 10,
   "id": "0626ae6e-17eb-436c-a7a1-be279a32a625",
   "metadata": {},
   "outputs": [],
   "source": [
    "import pandas as pd\n",
    "import matplotlib.pyplot as plt\n"
   ]
  },
  {
   "cell_type": "code",
   "execution_count": 11,
   "id": "dbb747d8",
   "metadata": {},
   "outputs": [],
   "source": [
    "shazam_df = pd.read_csv(\"data/ShazamData.csv\", encoding = \"ISO-8859-1\")\n",
    "spotify_df = pd.read_csv(\"data/spotifyData.csv\", encoding = \"ISO-8859-1\")\n",
    "tiktok_df = pd.read_csv(\"data/tiktokData.csv\", encoding = \"ISO-8859-1\")\n",
    "\n",
    "#shazam_df.head(10)"
   ]
  },
  {
   "cell_type": "code",
   "execution_count": 12,
   "id": "d132c3e4",
   "metadata": {},
   "outputs": [
    {
     "name": "stdout",
     "output_type": "stream",
     "text": [
      "musicId      7323282980226140960\n",
      "trackName                 EEYUH!\n",
      "artists             H.R. & Irokz\n",
      "Name: 424, dtype: object\n"
     ]
    }
   ],
   "source": [
    "pattern = r'\\s*(\\(|\\[).*?(Slowed|Reverb|sped up|Speed|Radio Edit|Radio Remix|remastered|SLOWED|SUPER SLOWED|Sped Up|slowed|reverb).*?(\\)|\\])\\s*'\n",
    "shazam_df['trackName'] = shazam_df['trackName'].str.replace(pattern, '', regex=True)\n",
    "shazam_df\n",
    "print(shazam_df.iloc[424])"
   ]
  },
  {
   "cell_type": "markdown",
   "id": "61e6347a-9c07-4642-9c2a-c43baa67764e",
   "metadata": {},
   "source": [
    "### Agrupar canciones por día en spotifyData.csv"
   ]
  },
  {
   "cell_type": "code",
   "execution_count": 13,
   "id": "8d387d17-2c66-423e-aa46-c3805974faf1",
   "metadata": {},
   "outputs": [],
   "source": [
    "spotify_df[\"date\"] = spotify_df[\"date\"].str[:10]\n",
    "grouped_by_day = spotify_df.groupby(\"date\")\n",
    "daily_data_df = pd.DataFrame()\n",
    "\n",
    "#for   name, group in grouped_by_day:\n",
    "  #prin    f\"Day: {name}\")\n",
    "  #print(    oup.drop(\"date\", axis=1))\n",
    "  #print(\"\\    )"
   ]
  },
  {
   "cell_type": "code",
   "execution_count": 14,
   "metadata": {},
   "outputs": [
    {
     "data": {
      "application/vnd.plotly.v1+json": {
       "config": {
        "plotlyServerURL": "https://plot.ly"
       },
       "data": [
        {
         "hovertemplate": "trackName=MILLION DOLLAR BABY<br>date=%{x}<br>position=%{y}<extra></extra>",
         "legendgroup": "MILLION DOLLAR BABY",
         "line": {
          "color": "#636efa",
          "dash": "solid"
         },
         "marker": {
          "symbol": "circle"
         },
         "mode": "lines",
         "name": "MILLION DOLLAR BABY",
         "orientation": "v",
         "showlegend": true,
         "type": "scatter",
         "x": [
          "2024-05-16",
          "2024-05-17",
          "2024-05-18",
          "2024-05-19",
          "2024-05-20",
          "2024-05-21",
          "2024-05-22",
          "2024-05-23",
          "2024-05-24",
          "2024-05-25",
          "2024-05-26",
          "2024-05-27",
          "2024-05-28",
          "2024-05-29",
          "2024-05-30",
          "2024-05-31",
          "2024-06-01",
          "2024-06-02",
          "2024-06-03",
          "2024-06-04",
          "2024-06-05",
          "2024-06-06",
          "2024-06-07",
          "2024-06-08",
          "2024-06-09",
          "2024-06-10",
          "2024-06-11"
         ],
         "xaxis": "x",
         "y": [
          1,
          1,
          1,
          1,
          1,
          1,
          1,
          1,
          2,
          2,
          3,
          3,
          3,
          3,
          2,
          2,
          2,
          2,
          2,
          2,
          3,
          4,
          4,
          7,
          7,
          8,
          6
         ],
         "yaxis": "y"
        },
        {
         "hovertemplate": "trackName=Not Like Us<br>date=%{x}<br>position=%{y}<extra></extra>",
         "legendgroup": "Not Like Us",
         "line": {
          "color": "#EF553B",
          "dash": "solid"
         },
         "marker": {
          "symbol": "circle"
         },
         "mode": "lines",
         "name": "Not Like Us",
         "orientation": "v",
         "showlegend": true,
         "type": "scatter",
         "x": [
          "2024-05-16",
          "2024-05-17",
          "2024-05-18",
          "2024-05-19",
          "2024-05-20",
          "2024-05-21",
          "2024-05-22",
          "2024-05-23",
          "2024-05-24",
          "2024-05-25",
          "2024-05-26",
          "2024-05-27",
          "2024-05-28",
          "2024-05-29",
          "2024-05-30",
          "2024-05-31",
          "2024-06-01",
          "2024-06-02",
          "2024-06-03",
          "2024-06-04",
          "2024-06-05",
          "2024-06-06",
          "2024-06-07",
          "2024-06-08",
          "2024-06-09",
          "2024-06-10",
          "2024-06-11"
         ],
         "xaxis": "x",
         "y": [
          2,
          2,
          2,
          5,
          2,
          3,
          3,
          3,
          4,
          4,
          4,
          4,
          4,
          4,
          4,
          4,
          4,
          6,
          7,
          7,
          8,
          8,
          9,
          9,
          11,
          13,
          13
         ],
         "yaxis": "y"
        },
        {
         "hovertemplate": "trackName=Espresso<br>date=%{x}<br>position=%{y}<extra></extra>",
         "legendgroup": "Espresso",
         "line": {
          "color": "#00cc96",
          "dash": "solid"
         },
         "marker": {
          "symbol": "circle"
         },
         "mode": "lines",
         "name": "Espresso",
         "orientation": "v",
         "showlegend": true,
         "type": "scatter",
         "x": [
          "2024-05-16",
          "2024-05-17",
          "2024-05-18",
          "2024-05-19",
          "2024-05-20",
          "2024-05-21",
          "2024-05-22",
          "2024-05-23",
          "2024-05-24",
          "2024-05-25",
          "2024-05-26",
          "2024-05-27",
          "2024-05-28",
          "2024-05-29",
          "2024-05-30",
          "2024-05-31",
          "2024-06-01",
          "2024-06-02",
          "2024-06-03",
          "2024-06-04",
          "2024-06-05",
          "2024-06-06",
          "2024-06-07",
          "2024-06-08",
          "2024-06-09",
          "2024-06-10",
          "2024-06-11"
         ],
         "xaxis": "x",
         "y": [
          3,
          3,
          3,
          4,
          3,
          2,
          2,
          2,
          3,
          3,
          2,
          2,
          2,
          1,
          1,
          1,
          1,
          1,
          1,
          1,
          1,
          1,
          1,
          1,
          1,
          1,
          1
         ],
         "yaxis": "y"
        },
        {
         "hovertemplate": "trackName=I Had Some Help (Feat. Morgan Wallen)<br>date=%{x}<br>position=%{y}<extra></extra>",
         "legendgroup": "I Had Some Help (Feat. Morgan Wallen)",
         "line": {
          "color": "#ab63fa",
          "dash": "solid"
         },
         "marker": {
          "symbol": "circle"
         },
         "mode": "lines",
         "name": "I Had Some Help (Feat. Morgan Wallen)",
         "orientation": "v",
         "showlegend": true,
         "type": "scatter",
         "x": [
          "2024-05-16",
          "2024-05-17",
          "2024-05-18",
          "2024-05-19",
          "2024-05-20",
          "2024-05-21",
          "2024-05-22",
          "2024-05-23",
          "2024-05-24",
          "2024-05-25",
          "2024-05-26",
          "2024-05-27",
          "2024-05-28",
          "2024-05-29",
          "2024-05-30",
          "2024-05-31",
          "2024-06-01",
          "2024-06-02",
          "2024-06-03",
          "2024-06-04",
          "2024-06-05",
          "2024-06-06",
          "2024-06-07",
          "2024-06-08",
          "2024-06-09",
          "2024-06-10",
          "2024-06-11"
         ],
         "xaxis": "x",
         "y": [
          4,
          4,
          4,
          6,
          5,
          5,
          6,
          6,
          7,
          7,
          7,
          6,
          7,
          8,
          7,
          7,
          7,
          8,
          8,
          8,
          7,
          7,
          7,
          6,
          6,
          7,
          10
         ],
         "yaxis": "y"
        },
        {
         "hovertemplate": "trackName=i like the way you kiss me<br>date=%{x}<br>position=%{y}<extra></extra>",
         "legendgroup": "i like the way you kiss me",
         "line": {
          "color": "#FFA15A",
          "dash": "solid"
         },
         "marker": {
          "symbol": "circle"
         },
         "mode": "lines",
         "name": "i like the way you kiss me",
         "orientation": "v",
         "showlegend": true,
         "type": "scatter",
         "x": [
          "2024-05-16",
          "2024-05-17",
          "2024-05-18",
          "2024-05-19",
          "2024-05-20",
          "2024-05-21",
          "2024-05-22",
          "2024-05-23",
          "2024-05-24",
          "2024-05-25",
          "2024-05-26",
          "2024-05-27",
          "2024-05-28",
          "2024-05-29",
          "2024-05-30",
          "2024-05-31",
          "2024-06-01",
          "2024-06-02",
          "2024-06-03",
          "2024-06-04",
          "2024-06-05",
          "2024-06-06",
          "2024-06-07",
          "2024-06-08",
          "2024-06-09",
          "2024-06-10",
          "2024-06-11"
         ],
         "xaxis": "x",
         "y": [
          5,
          5,
          5,
          9,
          8,
          9,
          9,
          10,
          11,
          12,
          12,
          12,
          12,
          12,
          10,
          9,
          11,
          11,
          12,
          11,
          10,
          10,
          10,
          10,
          12,
          12,
          12
         ],
         "yaxis": "y"
        },
        {
         "hovertemplate": "trackName=Gata Only<br>date=%{x}<br>position=%{y}<extra></extra>",
         "legendgroup": "Gata Only",
         "line": {
          "color": "#19d3f3",
          "dash": "solid"
         },
         "marker": {
          "symbol": "circle"
         },
         "mode": "lines",
         "name": "Gata Only",
         "orientation": "v",
         "showlegend": true,
         "type": "scatter",
         "x": [
          "2024-05-16",
          "2024-05-17",
          "2024-05-18",
          "2024-05-19",
          "2024-05-20",
          "2024-05-21",
          "2024-05-22",
          "2024-05-23",
          "2024-05-24",
          "2024-05-25",
          "2024-05-26",
          "2024-05-27",
          "2024-05-28",
          "2024-05-29",
          "2024-05-30",
          "2024-05-31",
          "2024-06-01",
          "2024-06-02",
          "2024-06-03",
          "2024-06-04",
          "2024-06-05",
          "2024-06-06",
          "2024-06-07",
          "2024-06-08",
          "2024-06-09",
          "2024-06-10",
          "2024-06-11"
         ],
         "xaxis": "x",
         "y": [
          6,
          6,
          7,
          10,
          7,
          7,
          7,
          7,
          8,
          8,
          8,
          5,
          6,
          6,
          6,
          6,
          6,
          7,
          5,
          6,
          6,
          6,
          6,
          5,
          5,
          4,
          5
         ],
         "yaxis": "y"
        },
        {
         "hovertemplate": "trackName=LUNCH<br>date=%{x}<br>position=%{y}<extra></extra>",
         "legendgroup": "LUNCH",
         "line": {
          "color": "#FF6692",
          "dash": "solid"
         },
         "marker": {
          "symbol": "circle"
         },
         "mode": "lines",
         "name": "LUNCH",
         "orientation": "v",
         "showlegend": true,
         "type": "scatter",
         "x": [
          "2024-05-19",
          "2024-05-20",
          "2024-05-21",
          "2024-05-22",
          "2024-05-23",
          "2024-05-24",
          "2024-05-25",
          "2024-05-26",
          "2024-05-27",
          "2024-05-28",
          "2024-05-29",
          "2024-05-30",
          "2024-05-31",
          "2024-06-01",
          "2024-06-02",
          "2024-06-03",
          "2024-06-04",
          "2024-06-05",
          "2024-06-06",
          "2024-06-07",
          "2024-06-08",
          "2024-06-09",
          "2024-06-10",
          "2024-06-11"
         ],
         "xaxis": "x",
         "y": [
          2,
          4,
          4,
          4,
          4,
          1,
          1,
          1,
          1,
          1,
          2,
          3,
          3,
          3,
          5,
          6,
          5,
          5,
          5,
          5,
          4,
          4,
          5,
          7
         ],
         "yaxis": "y"
        },
        {
         "hovertemplate": "trackName=CHIHIRO<br>date=%{x}<br>position=%{y}<extra></extra>",
         "legendgroup": "CHIHIRO",
         "line": {
          "color": "#B6E880",
          "dash": "solid"
         },
         "marker": {
          "symbol": "circle"
         },
         "mode": "lines",
         "name": "CHIHIRO",
         "orientation": "v",
         "showlegend": true,
         "type": "scatter",
         "x": [
          "2024-05-19",
          "2024-05-20",
          "2024-05-21",
          "2024-05-22",
          "2024-05-23",
          "2024-05-24",
          "2024-05-25",
          "2024-05-26",
          "2024-05-27",
          "2024-05-28",
          "2024-05-29",
          "2024-05-30",
          "2024-05-31",
          "2024-06-01",
          "2024-06-02",
          "2024-06-03",
          "2024-06-04",
          "2024-06-05",
          "2024-06-06",
          "2024-06-07",
          "2024-06-08",
          "2024-06-09",
          "2024-06-10",
          "2024-06-11"
         ],
         "xaxis": "x",
         "y": [
          3,
          6,
          6,
          5,
          5,
          5,
          5,
          6,
          7,
          8,
          7,
          9,
          10,
          10,
          13,
          13,
          13,
          13,
          13,
          13,
          13,
          15,
          14,
          14
         ],
         "yaxis": "y"
        },
        {
         "hovertemplate": "trackName=BIRDS OF A FEATHER<br>date=%{x}<br>position=%{y}<extra></extra>",
         "legendgroup": "BIRDS OF A FEATHER",
         "line": {
          "color": "#FF97FF",
          "dash": "solid"
         },
         "marker": {
          "symbol": "circle"
         },
         "mode": "lines",
         "name": "BIRDS OF A FEATHER",
         "orientation": "v",
         "showlegend": true,
         "type": "scatter",
         "x": [
          "2024-05-19",
          "2024-05-20",
          "2024-05-21",
          "2024-05-22",
          "2024-05-23",
          "2024-05-24",
          "2024-05-25",
          "2024-05-26",
          "2024-05-27",
          "2024-05-28",
          "2024-05-29",
          "2024-05-30",
          "2024-05-31",
          "2024-06-01",
          "2024-06-02",
          "2024-06-03",
          "2024-06-04",
          "2024-06-05",
          "2024-06-06",
          "2024-06-07",
          "2024-06-08",
          "2024-06-09",
          "2024-06-10",
          "2024-06-11"
         ],
         "xaxis": "x",
         "y": [
          8,
          10,
          8,
          8,
          8,
          6,
          6,
          5,
          8,
          5,
          5,
          5,
          5,
          5,
          4,
          4,
          4,
          4,
          3,
          3,
          2,
          2,
          2,
          2
         ],
         "yaxis": "y"
        },
        {
         "hovertemplate": "trackName=Houdini<br>date=%{x}<br>position=%{y}<extra></extra>",
         "legendgroup": "Houdini",
         "line": {
          "color": "#FECB52",
          "dash": "solid"
         },
         "marker": {
          "symbol": "circle"
         },
         "mode": "lines",
         "name": "Houdini",
         "orientation": "v",
         "showlegend": true,
         "type": "scatter",
         "x": [
          "2024-06-02",
          "2024-06-03",
          "2024-06-04",
          "2024-06-05",
          "2024-06-06",
          "2024-06-07",
          "2024-06-08",
          "2024-06-09",
          "2024-06-10",
          "2024-06-11"
         ],
         "xaxis": "x",
         "y": [
          3,
          3,
          3,
          2,
          2,
          2,
          3,
          3,
          3,
          4
         ],
         "yaxis": "y"
        },
        {
         "hovertemplate": "trackName=Please Please Please<br>date=%{x}<br>position=%{y}<extra></extra>",
         "legendgroup": "Please Please Please",
         "line": {
          "color": "#636efa",
          "dash": "solid"
         },
         "marker": {
          "symbol": "circle"
         },
         "mode": "lines",
         "name": "Please Please Please",
         "orientation": "v",
         "showlegend": true,
         "type": "scatter",
         "x": [
          "2024-06-09",
          "2024-06-10",
          "2024-06-11"
         ],
         "xaxis": "x",
         "y": [
          9,
          6,
          3
         ],
         "yaxis": "y"
        }
       ],
       "layout": {
        "legend": {
         "title": {
          "text": "trackName"
         },
         "tracegroupgap": 0
        },
        "template": {
         "data": {
          "bar": [
           {
            "error_x": {
             "color": "#2a3f5f"
            },
            "error_y": {
             "color": "#2a3f5f"
            },
            "marker": {
             "line": {
              "color": "#E5ECF6",
              "width": 0.5
             },
             "pattern": {
              "fillmode": "overlay",
              "size": 10,
              "solidity": 0.2
             }
            },
            "type": "bar"
           }
          ],
          "barpolar": [
           {
            "marker": {
             "line": {
              "color": "#E5ECF6",
              "width": 0.5
             },
             "pattern": {
              "fillmode": "overlay",
              "size": 10,
              "solidity": 0.2
             }
            },
            "type": "barpolar"
           }
          ],
          "carpet": [
           {
            "aaxis": {
             "endlinecolor": "#2a3f5f",
             "gridcolor": "white",
             "linecolor": "white",
             "minorgridcolor": "white",
             "startlinecolor": "#2a3f5f"
            },
            "baxis": {
             "endlinecolor": "#2a3f5f",
             "gridcolor": "white",
             "linecolor": "white",
             "minorgridcolor": "white",
             "startlinecolor": "#2a3f5f"
            },
            "type": "carpet"
           }
          ],
          "choropleth": [
           {
            "colorbar": {
             "outlinewidth": 0,
             "ticks": ""
            },
            "type": "choropleth"
           }
          ],
          "contour": [
           {
            "colorbar": {
             "outlinewidth": 0,
             "ticks": ""
            },
            "colorscale": [
             [
              0,
              "#0d0887"
             ],
             [
              0.1111111111111111,
              "#46039f"
             ],
             [
              0.2222222222222222,
              "#7201a8"
             ],
             [
              0.3333333333333333,
              "#9c179e"
             ],
             [
              0.4444444444444444,
              "#bd3786"
             ],
             [
              0.5555555555555556,
              "#d8576b"
             ],
             [
              0.6666666666666666,
              "#ed7953"
             ],
             [
              0.7777777777777778,
              "#fb9f3a"
             ],
             [
              0.8888888888888888,
              "#fdca26"
             ],
             [
              1,
              "#f0f921"
             ]
            ],
            "type": "contour"
           }
          ],
          "contourcarpet": [
           {
            "colorbar": {
             "outlinewidth": 0,
             "ticks": ""
            },
            "type": "contourcarpet"
           }
          ],
          "heatmap": [
           {
            "colorbar": {
             "outlinewidth": 0,
             "ticks": ""
            },
            "colorscale": [
             [
              0,
              "#0d0887"
             ],
             [
              0.1111111111111111,
              "#46039f"
             ],
             [
              0.2222222222222222,
              "#7201a8"
             ],
             [
              0.3333333333333333,
              "#9c179e"
             ],
             [
              0.4444444444444444,
              "#bd3786"
             ],
             [
              0.5555555555555556,
              "#d8576b"
             ],
             [
              0.6666666666666666,
              "#ed7953"
             ],
             [
              0.7777777777777778,
              "#fb9f3a"
             ],
             [
              0.8888888888888888,
              "#fdca26"
             ],
             [
              1,
              "#f0f921"
             ]
            ],
            "type": "heatmap"
           }
          ],
          "heatmapgl": [
           {
            "colorbar": {
             "outlinewidth": 0,
             "ticks": ""
            },
            "colorscale": [
             [
              0,
              "#0d0887"
             ],
             [
              0.1111111111111111,
              "#46039f"
             ],
             [
              0.2222222222222222,
              "#7201a8"
             ],
             [
              0.3333333333333333,
              "#9c179e"
             ],
             [
              0.4444444444444444,
              "#bd3786"
             ],
             [
              0.5555555555555556,
              "#d8576b"
             ],
             [
              0.6666666666666666,
              "#ed7953"
             ],
             [
              0.7777777777777778,
              "#fb9f3a"
             ],
             [
              0.8888888888888888,
              "#fdca26"
             ],
             [
              1,
              "#f0f921"
             ]
            ],
            "type": "heatmapgl"
           }
          ],
          "histogram": [
           {
            "marker": {
             "pattern": {
              "fillmode": "overlay",
              "size": 10,
              "solidity": 0.2
             }
            },
            "type": "histogram"
           }
          ],
          "histogram2d": [
           {
            "colorbar": {
             "outlinewidth": 0,
             "ticks": ""
            },
            "colorscale": [
             [
              0,
              "#0d0887"
             ],
             [
              0.1111111111111111,
              "#46039f"
             ],
             [
              0.2222222222222222,
              "#7201a8"
             ],
             [
              0.3333333333333333,
              "#9c179e"
             ],
             [
              0.4444444444444444,
              "#bd3786"
             ],
             [
              0.5555555555555556,
              "#d8576b"
             ],
             [
              0.6666666666666666,
              "#ed7953"
             ],
             [
              0.7777777777777778,
              "#fb9f3a"
             ],
             [
              0.8888888888888888,
              "#fdca26"
             ],
             [
              1,
              "#f0f921"
             ]
            ],
            "type": "histogram2d"
           }
          ],
          "histogram2dcontour": [
           {
            "colorbar": {
             "outlinewidth": 0,
             "ticks": ""
            },
            "colorscale": [
             [
              0,
              "#0d0887"
             ],
             [
              0.1111111111111111,
              "#46039f"
             ],
             [
              0.2222222222222222,
              "#7201a8"
             ],
             [
              0.3333333333333333,
              "#9c179e"
             ],
             [
              0.4444444444444444,
              "#bd3786"
             ],
             [
              0.5555555555555556,
              "#d8576b"
             ],
             [
              0.6666666666666666,
              "#ed7953"
             ],
             [
              0.7777777777777778,
              "#fb9f3a"
             ],
             [
              0.8888888888888888,
              "#fdca26"
             ],
             [
              1,
              "#f0f921"
             ]
            ],
            "type": "histogram2dcontour"
           }
          ],
          "mesh3d": [
           {
            "colorbar": {
             "outlinewidth": 0,
             "ticks": ""
            },
            "type": "mesh3d"
           }
          ],
          "parcoords": [
           {
            "line": {
             "colorbar": {
              "outlinewidth": 0,
              "ticks": ""
             }
            },
            "type": "parcoords"
           }
          ],
          "pie": [
           {
            "automargin": true,
            "type": "pie"
           }
          ],
          "scatter": [
           {
            "fillpattern": {
             "fillmode": "overlay",
             "size": 10,
             "solidity": 0.2
            },
            "type": "scatter"
           }
          ],
          "scatter3d": [
           {
            "line": {
             "colorbar": {
              "outlinewidth": 0,
              "ticks": ""
             }
            },
            "marker": {
             "colorbar": {
              "outlinewidth": 0,
              "ticks": ""
             }
            },
            "type": "scatter3d"
           }
          ],
          "scattercarpet": [
           {
            "marker": {
             "colorbar": {
              "outlinewidth": 0,
              "ticks": ""
             }
            },
            "type": "scattercarpet"
           }
          ],
          "scattergeo": [
           {
            "marker": {
             "colorbar": {
              "outlinewidth": 0,
              "ticks": ""
             }
            },
            "type": "scattergeo"
           }
          ],
          "scattergl": [
           {
            "marker": {
             "colorbar": {
              "outlinewidth": 0,
              "ticks": ""
             }
            },
            "type": "scattergl"
           }
          ],
          "scattermapbox": [
           {
            "marker": {
             "colorbar": {
              "outlinewidth": 0,
              "ticks": ""
             }
            },
            "type": "scattermapbox"
           }
          ],
          "scatterpolar": [
           {
            "marker": {
             "colorbar": {
              "outlinewidth": 0,
              "ticks": ""
             }
            },
            "type": "scatterpolar"
           }
          ],
          "scatterpolargl": [
           {
            "marker": {
             "colorbar": {
              "outlinewidth": 0,
              "ticks": ""
             }
            },
            "type": "scatterpolargl"
           }
          ],
          "scatterternary": [
           {
            "marker": {
             "colorbar": {
              "outlinewidth": 0,
              "ticks": ""
             }
            },
            "type": "scatterternary"
           }
          ],
          "surface": [
           {
            "colorbar": {
             "outlinewidth": 0,
             "ticks": ""
            },
            "colorscale": [
             [
              0,
              "#0d0887"
             ],
             [
              0.1111111111111111,
              "#46039f"
             ],
             [
              0.2222222222222222,
              "#7201a8"
             ],
             [
              0.3333333333333333,
              "#9c179e"
             ],
             [
              0.4444444444444444,
              "#bd3786"
             ],
             [
              0.5555555555555556,
              "#d8576b"
             ],
             [
              0.6666666666666666,
              "#ed7953"
             ],
             [
              0.7777777777777778,
              "#fb9f3a"
             ],
             [
              0.8888888888888888,
              "#fdca26"
             ],
             [
              1,
              "#f0f921"
             ]
            ],
            "type": "surface"
           }
          ],
          "table": [
           {
            "cells": {
             "fill": {
              "color": "#EBF0F8"
             },
             "line": {
              "color": "white"
             }
            },
            "header": {
             "fill": {
              "color": "#C8D4E3"
             },
             "line": {
              "color": "white"
             }
            },
            "type": "table"
           }
          ]
         },
         "layout": {
          "annotationdefaults": {
           "arrowcolor": "#2a3f5f",
           "arrowhead": 0,
           "arrowwidth": 1
          },
          "autotypenumbers": "strict",
          "coloraxis": {
           "colorbar": {
            "outlinewidth": 0,
            "ticks": ""
           }
          },
          "colorscale": {
           "diverging": [
            [
             0,
             "#8e0152"
            ],
            [
             0.1,
             "#c51b7d"
            ],
            [
             0.2,
             "#de77ae"
            ],
            [
             0.3,
             "#f1b6da"
            ],
            [
             0.4,
             "#fde0ef"
            ],
            [
             0.5,
             "#f7f7f7"
            ],
            [
             0.6,
             "#e6f5d0"
            ],
            [
             0.7,
             "#b8e186"
            ],
            [
             0.8,
             "#7fbc41"
            ],
            [
             0.9,
             "#4d9221"
            ],
            [
             1,
             "#276419"
            ]
           ],
           "sequential": [
            [
             0,
             "#0d0887"
            ],
            [
             0.1111111111111111,
             "#46039f"
            ],
            [
             0.2222222222222222,
             "#7201a8"
            ],
            [
             0.3333333333333333,
             "#9c179e"
            ],
            [
             0.4444444444444444,
             "#bd3786"
            ],
            [
             0.5555555555555556,
             "#d8576b"
            ],
            [
             0.6666666666666666,
             "#ed7953"
            ],
            [
             0.7777777777777778,
             "#fb9f3a"
            ],
            [
             0.8888888888888888,
             "#fdca26"
            ],
            [
             1,
             "#f0f921"
            ]
           ],
           "sequentialminus": [
            [
             0,
             "#0d0887"
            ],
            [
             0.1111111111111111,
             "#46039f"
            ],
            [
             0.2222222222222222,
             "#7201a8"
            ],
            [
             0.3333333333333333,
             "#9c179e"
            ],
            [
             0.4444444444444444,
             "#bd3786"
            ],
            [
             0.5555555555555556,
             "#d8576b"
            ],
            [
             0.6666666666666666,
             "#ed7953"
            ],
            [
             0.7777777777777778,
             "#fb9f3a"
            ],
            [
             0.8888888888888888,
             "#fdca26"
            ],
            [
             1,
             "#f0f921"
            ]
           ]
          },
          "colorway": [
           "#636efa",
           "#EF553B",
           "#00cc96",
           "#ab63fa",
           "#FFA15A",
           "#19d3f3",
           "#FF6692",
           "#B6E880",
           "#FF97FF",
           "#FECB52"
          ],
          "font": {
           "color": "#2a3f5f"
          },
          "geo": {
           "bgcolor": "white",
           "lakecolor": "white",
           "landcolor": "#E5ECF6",
           "showlakes": true,
           "showland": true,
           "subunitcolor": "white"
          },
          "hoverlabel": {
           "align": "left"
          },
          "hovermode": "closest",
          "mapbox": {
           "style": "light"
          },
          "paper_bgcolor": "white",
          "plot_bgcolor": "#E5ECF6",
          "polar": {
           "angularaxis": {
            "gridcolor": "white",
            "linecolor": "white",
            "ticks": ""
           },
           "bgcolor": "#E5ECF6",
           "radialaxis": {
            "gridcolor": "white",
            "linecolor": "white",
            "ticks": ""
           }
          },
          "scene": {
           "xaxis": {
            "backgroundcolor": "#E5ECF6",
            "gridcolor": "white",
            "gridwidth": 2,
            "linecolor": "white",
            "showbackground": true,
            "ticks": "",
            "zerolinecolor": "white"
           },
           "yaxis": {
            "backgroundcolor": "#E5ECF6",
            "gridcolor": "white",
            "gridwidth": 2,
            "linecolor": "white",
            "showbackground": true,
            "ticks": "",
            "zerolinecolor": "white"
           },
           "zaxis": {
            "backgroundcolor": "#E5ECF6",
            "gridcolor": "white",
            "gridwidth": 2,
            "linecolor": "white",
            "showbackground": true,
            "ticks": "",
            "zerolinecolor": "white"
           }
          },
          "shapedefaults": {
           "line": {
            "color": "#2a3f5f"
           }
          },
          "ternary": {
           "aaxis": {
            "gridcolor": "white",
            "linecolor": "white",
            "ticks": ""
           },
           "baxis": {
            "gridcolor": "white",
            "linecolor": "white",
            "ticks": ""
           },
           "bgcolor": "#E5ECF6",
           "caxis": {
            "gridcolor": "white",
            "linecolor": "white",
            "ticks": ""
           }
          },
          "title": {
           "x": 0.05
          },
          "xaxis": {
           "automargin": true,
           "gridcolor": "white",
           "linecolor": "white",
           "ticks": "",
           "title": {
            "standoff": 15
           },
           "zerolinecolor": "white",
           "zerolinewidth": 2
          },
          "yaxis": {
           "automargin": true,
           "gridcolor": "white",
           "linecolor": "white",
           "ticks": "",
           "title": {
            "standoff": 15
           },
           "zerolinecolor": "white",
           "zerolinewidth": 2
          }
         }
        },
        "title": {
         "text": "Evolución temporal de la posición en la lista"
        },
        "xaxis": {
         "anchor": "y",
         "domain": [
          0,
          1
         ],
         "title": {
          "text": "date"
         }
        },
        "yaxis": {
         "anchor": "x",
         "autorange": "reversed",
         "domain": [
          0,
          1
         ],
         "title": {
          "text": "position"
         }
        }
       }
      }
     },
     "metadata": {},
     "output_type": "display_data"
    },
    {
     "data": {
      "application/vnd.plotly.v1+json": {
       "config": {
        "plotlyServerURL": "https://plot.ly"
       },
       "data": [
        {
         "hovertemplate": "trackName=MILLION DOLLAR BABY<br>date=%{x}<br>position=%{y}<extra></extra>",
         "legendgroup": "MILLION DOLLAR BABY",
         "line": {
          "color": "#636efa",
          "dash": "solid"
         },
         "marker": {
          "symbol": "circle"
         },
         "mode": "lines",
         "name": "MILLION DOLLAR BABY",
         "showlegend": true,
         "type": "scattergl",
         "x": [
          "2024-05-16",
          "2024-05-17",
          "2024-05-18",
          "2024-05-19",
          "2024-05-20",
          "2024-05-21",
          "2024-05-22",
          "2024-05-23",
          "2024-05-24",
          "2024-05-25",
          "2024-05-26",
          "2024-05-27",
          "2024-05-28",
          "2024-05-29",
          "2024-05-30",
          "2024-05-31",
          "2024-06-01",
          "2024-06-02",
          "2024-06-03",
          "2024-06-04",
          "2024-06-05",
          "2024-06-06",
          "2024-06-07",
          "2024-06-08",
          "2024-06-09",
          "2024-06-10",
          "2024-06-11"
         ],
         "xaxis": "x",
         "y": [
          1,
          1,
          1,
          1,
          1,
          1,
          1,
          1,
          2,
          2,
          3,
          3,
          3,
          3,
          2,
          2,
          2,
          2,
          2,
          2,
          3,
          4,
          4,
          7,
          7,
          8,
          6
         ],
         "yaxis": "y"
        },
        {
         "hovertemplate": "trackName=Not Like Us<br>date=%{x}<br>position=%{y}<extra></extra>",
         "legendgroup": "Not Like Us",
         "line": {
          "color": "#EF553B",
          "dash": "solid"
         },
         "marker": {
          "symbol": "circle"
         },
         "mode": "lines",
         "name": "Not Like Us",
         "showlegend": true,
         "type": "scattergl",
         "x": [
          "2024-05-16",
          "2024-05-17",
          "2024-05-18",
          "2024-05-19",
          "2024-05-20",
          "2024-05-21",
          "2024-05-22",
          "2024-05-23",
          "2024-05-24",
          "2024-05-25",
          "2024-05-26",
          "2024-05-27",
          "2024-05-28",
          "2024-05-29",
          "2024-05-30",
          "2024-05-31",
          "2024-06-01",
          "2024-06-02",
          "2024-06-03",
          "2024-06-04",
          "2024-06-05",
          "2024-06-06",
          "2024-06-07",
          "2024-06-08",
          "2024-06-09",
          "2024-06-10",
          "2024-06-11"
         ],
         "xaxis": "x",
         "y": [
          2,
          2,
          2,
          5,
          2,
          3,
          3,
          3,
          4,
          4,
          4,
          4,
          4,
          4,
          4,
          4,
          4,
          6,
          7,
          7,
          8,
          8,
          9,
          9,
          11,
          13,
          13
         ],
         "yaxis": "y"
        },
        {
         "hovertemplate": "trackName=Espresso<br>date=%{x}<br>position=%{y}<extra></extra>",
         "legendgroup": "Espresso",
         "line": {
          "color": "#00cc96",
          "dash": "solid"
         },
         "marker": {
          "symbol": "circle"
         },
         "mode": "lines",
         "name": "Espresso",
         "showlegend": true,
         "type": "scattergl",
         "x": [
          "2024-05-16",
          "2024-05-17",
          "2024-05-18",
          "2024-05-19",
          "2024-05-20",
          "2024-05-21",
          "2024-05-22",
          "2024-05-23",
          "2024-05-24",
          "2024-05-25",
          "2024-05-26",
          "2024-05-27",
          "2024-05-28",
          "2024-05-29",
          "2024-05-30",
          "2024-05-31",
          "2024-06-01",
          "2024-06-02",
          "2024-06-03",
          "2024-06-04",
          "2024-06-05",
          "2024-06-06",
          "2024-06-07",
          "2024-06-08",
          "2024-06-09",
          "2024-06-10",
          "2024-06-11"
         ],
         "xaxis": "x",
         "y": [
          3,
          3,
          3,
          4,
          3,
          2,
          2,
          2,
          3,
          3,
          2,
          2,
          2,
          1,
          1,
          1,
          1,
          1,
          1,
          1,
          1,
          1,
          1,
          1,
          1,
          1,
          1
         ],
         "yaxis": "y"
        },
        {
         "hovertemplate": "trackName=I Had Some Help (Feat. Morgan Wallen)<br>date=%{x}<br>position=%{y}<extra></extra>",
         "legendgroup": "I Had Some Help (Feat. Morgan Wallen)",
         "line": {
          "color": "#ab63fa",
          "dash": "solid"
         },
         "marker": {
          "symbol": "circle"
         },
         "mode": "lines",
         "name": "I Had Some Help (Feat. Morgan Wallen)",
         "showlegend": true,
         "type": "scattergl",
         "x": [
          "2024-05-16",
          "2024-05-17",
          "2024-05-18",
          "2024-05-19",
          "2024-05-20",
          "2024-05-21",
          "2024-05-22",
          "2024-05-23",
          "2024-05-24",
          "2024-05-25",
          "2024-05-26",
          "2024-05-27",
          "2024-05-28",
          "2024-05-29",
          "2024-05-30",
          "2024-05-31",
          "2024-06-01",
          "2024-06-02",
          "2024-06-03",
          "2024-06-04",
          "2024-06-05",
          "2024-06-06",
          "2024-06-07",
          "2024-06-08",
          "2024-06-09",
          "2024-06-10",
          "2024-06-11"
         ],
         "xaxis": "x",
         "y": [
          4,
          4,
          4,
          6,
          5,
          5,
          6,
          6,
          7,
          7,
          7,
          6,
          7,
          8,
          7,
          7,
          7,
          8,
          8,
          8,
          7,
          7,
          7,
          6,
          6,
          7,
          10
         ],
         "yaxis": "y"
        },
        {
         "hovertemplate": "trackName=i like the way you kiss me<br>date=%{x}<br>position=%{y}<extra></extra>",
         "legendgroup": "i like the way you kiss me",
         "line": {
          "color": "#FFA15A",
          "dash": "solid"
         },
         "marker": {
          "symbol": "circle"
         },
         "mode": "lines",
         "name": "i like the way you kiss me",
         "showlegend": true,
         "type": "scattergl",
         "x": [
          "2024-05-16",
          "2024-05-17",
          "2024-05-18",
          "2024-05-19",
          "2024-05-20",
          "2024-05-21",
          "2024-05-22",
          "2024-05-23",
          "2024-05-24",
          "2024-05-25",
          "2024-05-26",
          "2024-05-27",
          "2024-05-28",
          "2024-05-29",
          "2024-05-30",
          "2024-05-31",
          "2024-06-01",
          "2024-06-02",
          "2024-06-03",
          "2024-06-04",
          "2024-06-05",
          "2024-06-06",
          "2024-06-07",
          "2024-06-08",
          "2024-06-09",
          "2024-06-10",
          "2024-06-11"
         ],
         "xaxis": "x",
         "y": [
          5,
          5,
          5,
          9,
          8,
          9,
          9,
          10,
          11,
          12,
          12,
          12,
          12,
          12,
          10,
          9,
          11,
          11,
          12,
          11,
          10,
          10,
          10,
          10,
          12,
          12,
          12
         ],
         "yaxis": "y"
        },
        {
         "hovertemplate": "trackName=Gata Only<br>date=%{x}<br>position=%{y}<extra></extra>",
         "legendgroup": "Gata Only",
         "line": {
          "color": "#19d3f3",
          "dash": "solid"
         },
         "marker": {
          "symbol": "circle"
         },
         "mode": "lines",
         "name": "Gata Only",
         "showlegend": true,
         "type": "scattergl",
         "x": [
          "2024-05-16",
          "2024-05-17",
          "2024-05-18",
          "2024-05-19",
          "2024-05-20",
          "2024-05-21",
          "2024-05-22",
          "2024-05-23",
          "2024-05-24",
          "2024-05-25",
          "2024-05-26",
          "2024-05-27",
          "2024-05-28",
          "2024-05-29",
          "2024-05-30",
          "2024-05-31",
          "2024-06-01",
          "2024-06-02",
          "2024-06-03",
          "2024-06-04",
          "2024-06-05",
          "2024-06-06",
          "2024-06-07",
          "2024-06-08",
          "2024-06-09",
          "2024-06-10",
          "2024-06-11"
         ],
         "xaxis": "x",
         "y": [
          6,
          6,
          7,
          10,
          7,
          7,
          7,
          7,
          8,
          8,
          8,
          5,
          6,
          6,
          6,
          6,
          6,
          7,
          5,
          6,
          6,
          6,
          6,
          5,
          5,
          4,
          5
         ],
         "yaxis": "y"
        },
        {
         "hovertemplate": "trackName=Fortnight (feat. Post Malone)<br>date=%{x}<br>position=%{y}<extra></extra>",
         "legendgroup": "Fortnight (feat. Post Malone)",
         "line": {
          "color": "#FF6692",
          "dash": "solid"
         },
         "marker": {
          "symbol": "circle"
         },
         "mode": "lines",
         "name": "Fortnight (feat. Post Malone)",
         "showlegend": true,
         "type": "scattergl",
         "x": [
          "2024-05-16",
          "2024-05-17",
          "2024-05-18",
          "2024-05-19",
          "2024-05-20",
          "2024-05-21",
          "2024-05-22",
          "2024-05-23",
          "2024-05-24",
          "2024-05-25",
          "2024-05-26",
          "2024-05-27",
          "2024-05-28",
          "2024-05-29",
          "2024-05-30",
          "2024-05-31",
          "2024-06-01",
          "2024-06-02",
          "2024-06-03",
          "2024-06-04",
          "2024-06-05",
          "2024-06-06",
          "2024-06-07",
          "2024-06-08",
          "2024-06-09",
          "2024-06-10",
          "2024-06-11"
         ],
         "xaxis": "x",
         "y": [
          7,
          7,
          10,
          17,
          13,
          13,
          13,
          13,
          13,
          13,
          13,
          13,
          13,
          13,
          13,
          14,
          14,
          15,
          16,
          17,
          17,
          16,
          17,
          16,
          18,
          17,
          17
         ],
         "yaxis": "y"
        },
        {
         "hovertemplate": "trackName=A Bar Song (Tipsy)<br>date=%{x}<br>position=%{y}<extra></extra>",
         "legendgroup": "A Bar Song (Tipsy)",
         "line": {
          "color": "#B6E880",
          "dash": "solid"
         },
         "marker": {
          "symbol": "circle"
         },
         "mode": "lines",
         "name": "A Bar Song (Tipsy)",
         "showlegend": true,
         "type": "scattergl",
         "x": [
          "2024-05-16",
          "2024-05-17",
          "2024-05-18",
          "2024-05-19",
          "2024-05-20",
          "2024-05-21",
          "2024-05-22",
          "2024-05-23",
          "2024-05-24",
          "2024-05-25",
          "2024-05-26",
          "2024-05-27",
          "2024-05-28",
          "2024-05-29",
          "2024-05-30",
          "2024-05-31",
          "2024-06-01",
          "2024-06-02",
          "2024-06-03",
          "2024-06-04",
          "2024-06-05",
          "2024-06-06",
          "2024-06-07",
          "2024-06-08",
          "2024-06-09",
          "2024-06-10",
          "2024-06-11"
         ],
         "xaxis": "x",
         "y": [
          8,
          8,
          6,
          12,
          9,
          10,
          11,
          11,
          10,
          11,
          9,
          9,
          10,
          11,
          11,
          11,
          12,
          9,
          10,
          14,
          14,
          14,
          12,
          11,
          10,
          9,
          9
         ],
         "yaxis": "y"
        },
        {
         "hovertemplate": "trackName=Too Sweet<br>date=%{x}<br>position=%{y}<extra></extra>",
         "legendgroup": "Too Sweet",
         "line": {
          "color": "#FF97FF",
          "dash": "solid"
         },
         "marker": {
          "symbol": "circle"
         },
         "mode": "lines",
         "name": "Too Sweet",
         "showlegend": true,
         "type": "scattergl",
         "x": [
          "2024-05-16",
          "2024-05-17",
          "2024-05-18",
          "2024-05-19",
          "2024-05-20",
          "2024-05-21",
          "2024-05-22",
          "2024-05-23",
          "2024-05-24",
          "2024-05-25",
          "2024-05-26",
          "2024-05-27",
          "2024-05-28",
          "2024-05-29",
          "2024-05-30",
          "2024-05-31",
          "2024-06-01",
          "2024-06-02",
          "2024-06-03",
          "2024-06-04",
          "2024-06-05",
          "2024-06-06",
          "2024-06-07",
          "2024-06-08",
          "2024-06-09",
          "2024-06-10",
          "2024-06-11"
         ],
         "xaxis": "x",
         "y": [
          9,
          9,
          8,
          13,
          11,
          11,
          10,
          9,
          9,
          9,
          10,
          11,
          9,
          9,
          8,
          8,
          8,
          10,
          9,
          9,
          9,
          9,
          8,
          8,
          8,
          10,
          8
         ],
         "yaxis": "y"
        },
        {
         "hovertemplate": "trackName=Beautiful Things<br>date=%{x}<br>position=%{y}<extra></extra>",
         "legendgroup": "Beautiful Things",
         "line": {
          "color": "#FECB52",
          "dash": "solid"
         },
         "marker": {
          "symbol": "circle"
         },
         "mode": "lines",
         "name": "Beautiful Things",
         "showlegend": true,
         "type": "scattergl",
         "x": [
          "2024-05-16",
          "2024-05-17",
          "2024-05-18",
          "2024-05-19",
          "2024-05-20",
          "2024-05-21",
          "2024-05-22",
          "2024-05-23",
          "2024-05-24",
          "2024-05-25",
          "2024-05-26",
          "2024-05-27",
          "2024-05-28",
          "2024-05-29",
          "2024-05-30",
          "2024-05-31",
          "2024-06-01",
          "2024-06-02",
          "2024-06-03",
          "2024-06-04",
          "2024-06-05",
          "2024-06-06",
          "2024-06-07",
          "2024-06-08",
          "2024-06-09",
          "2024-06-10",
          "2024-06-11"
         ],
         "xaxis": "x",
         "y": [
          10,
          10,
          9,
          14,
          12,
          12,
          12,
          12,
          12,
          10,
          11,
          10,
          11,
          10,
          12,
          12,
          9,
          12,
          11,
          10,
          12,
          11,
          11,
          12,
          13,
          11,
          11
         ],
         "yaxis": "y"
        },
        {
         "hovertemplate": "trackName=we can't be friends (wait for your love)<br>date=%{x}<br>position=%{y}<extra></extra>",
         "legendgroup": "we can't be friends (wait for your love)",
         "line": {
          "color": "#636efa",
          "dash": "solid"
         },
         "marker": {
          "symbol": "circle"
         },
         "mode": "lines",
         "name": "we can't be friends (wait for your love)",
         "showlegend": true,
         "type": "scattergl",
         "x": [
          "2024-05-16",
          "2024-05-17",
          "2024-05-18",
          "2024-05-19",
          "2024-05-20",
          "2024-05-21",
          "2024-05-22",
          "2024-05-23",
          "2024-05-24",
          "2024-05-25",
          "2024-05-26",
          "2024-05-27",
          "2024-05-28",
          "2024-05-29",
          "2024-05-30",
          "2024-05-31",
          "2024-06-01",
          "2024-06-02",
          "2024-06-03",
          "2024-06-04",
          "2024-06-05",
          "2024-06-06",
          "2024-06-07",
          "2024-06-08",
          "2024-06-09",
          "2024-06-10",
          "2024-06-11"
         ],
         "xaxis": "x",
         "y": [
          11,
          11,
          11,
          20,
          16,
          14,
          14,
          14,
          14,
          14,
          14,
          14,
          14,
          14,
          14,
          13,
          13,
          16,
          15,
          15,
          15,
          15,
          16,
          17,
          21,
          20,
          18
         ],
         "yaxis": "y"
        },
        {
         "hovertemplate": "trackName=End of Beginning<br>date=%{x}<br>position=%{y}<extra></extra>",
         "legendgroup": "End of Beginning",
         "line": {
          "color": "#EF553B",
          "dash": "solid"
         },
         "marker": {
          "symbol": "circle"
         },
         "mode": "lines",
         "name": "End of Beginning",
         "showlegend": true,
         "type": "scattergl",
         "x": [
          "2024-05-16",
          "2024-05-17",
          "2024-05-18",
          "2024-05-19",
          "2024-05-20",
          "2024-05-21",
          "2024-05-22",
          "2024-05-23",
          "2024-05-24",
          "2024-05-25",
          "2024-05-26",
          "2024-05-27",
          "2024-05-28",
          "2024-05-29",
          "2024-05-30",
          "2024-05-31",
          "2024-06-01",
          "2024-06-02",
          "2024-06-03",
          "2024-06-04",
          "2024-06-05",
          "2024-06-06",
          "2024-06-07",
          "2024-06-08",
          "2024-06-09",
          "2024-06-10",
          "2024-06-11"
         ],
         "xaxis": "x",
         "y": [
          12,
          12,
          12,
          22,
          20,
          16,
          17,
          15,
          16,
          15,
          15,
          15,
          15,
          15,
          15,
          15,
          16,
          17,
          17,
          16,
          16,
          17,
          15,
          15,
          19,
          16,
          16
         ],
         "yaxis": "y"
        },
        {
         "hovertemplate": "trackName=I Can Do It With a Broken Heart<br>date=%{x}<br>position=%{y}<extra></extra>",
         "legendgroup": "I Can Do It With a Broken Heart",
         "line": {
          "color": "#00cc96",
          "dash": "solid"
         },
         "marker": {
          "symbol": "circle"
         },
         "mode": "lines",
         "name": "I Can Do It With a Broken Heart",
         "showlegend": true,
         "type": "scattergl",
         "x": [
          "2024-05-16",
          "2024-05-17",
          "2024-05-18",
          "2024-05-19",
          "2024-05-20",
          "2024-05-21",
          "2024-05-22",
          "2024-05-23",
          "2024-05-24",
          "2024-05-25",
          "2024-05-26",
          "2024-05-27",
          "2024-05-28",
          "2024-05-29",
          "2024-05-30",
          "2024-05-31",
          "2024-06-01",
          "2024-06-02",
          "2024-06-03",
          "2024-06-04",
          "2024-06-05",
          "2024-06-06",
          "2024-06-07",
          "2024-06-08",
          "2024-06-09",
          "2024-06-10",
          "2024-06-11"
         ],
         "xaxis": "x",
         "y": [
          13,
          13,
          13,
          25,
          25,
          23,
          23,
          23,
          24,
          24,
          23,
          20,
          21,
          24,
          23,
          26,
          24,
          25,
          27,
          28,
          31,
          32,
          32,
          32,
          35,
          34,
          37
         ],
         "yaxis": "y"
        },
        {
         "hovertemplate": "trackName=euphoria<br>date=%{x}<br>position=%{y}<extra></extra>",
         "legendgroup": "euphoria",
         "line": {
          "color": "#ab63fa",
          "dash": "solid"
         },
         "marker": {
          "symbol": "circle"
         },
         "mode": "lines",
         "name": "euphoria",
         "showlegend": true,
         "type": "scattergl",
         "x": [
          "2024-05-16",
          "2024-05-17",
          "2024-05-18",
          "2024-05-19",
          "2024-05-20",
          "2024-05-21",
          "2024-05-22",
          "2024-05-23",
          "2024-05-24",
          "2024-05-25",
          "2024-05-26",
          "2024-05-27",
          "2024-05-28",
          "2024-05-29",
          "2024-05-30",
          "2024-05-31",
          "2024-06-01"
         ],
         "xaxis": "x",
         "y": [
          14,
          14,
          16,
          27,
          29,
          30,
          30,
          28,
          30,
          31,
          35,
          42,
          46,
          47,
          49,
          50,
          50
         ],
         "yaxis": "y"
        },
        {
         "hovertemplate": "trackName=Lose Control<br>date=%{x}<br>position=%{y}<extra></extra>",
         "legendgroup": "Lose Control",
         "line": {
          "color": "#FFA15A",
          "dash": "solid"
         },
         "marker": {
          "symbol": "circle"
         },
         "mode": "lines",
         "name": "Lose Control",
         "showlegend": true,
         "type": "scattergl",
         "x": [
          "2024-05-16",
          "2024-05-17",
          "2024-05-18",
          "2024-05-19",
          "2024-05-20",
          "2024-05-21",
          "2024-05-22",
          "2024-05-23",
          "2024-05-24",
          "2024-05-25",
          "2024-05-26",
          "2024-05-27",
          "2024-05-28",
          "2024-05-29",
          "2024-05-30",
          "2024-05-31",
          "2024-06-01",
          "2024-06-02",
          "2024-06-03",
          "2024-06-04",
          "2024-06-05",
          "2024-06-06",
          "2024-06-07",
          "2024-06-08",
          "2024-06-09",
          "2024-06-10",
          "2024-06-11"
         ],
         "xaxis": "x",
         "y": [
          15,
          15,
          14,
          23,
          21,
          21,
          21,
          21,
          20,
          17,
          16,
          16,
          16,
          16,
          17,
          17,
          17,
          18,
          18,
          18,
          19,
          19,
          19,
          19,
          20,
          19,
          19
         ],
         "yaxis": "y"
        },
        {
         "hovertemplate": "trackName=Like That<br>date=%{x}<br>position=%{y}<extra></extra>",
         "legendgroup": "Like That",
         "line": {
          "color": "#19d3f3",
          "dash": "solid"
         },
         "marker": {
          "symbol": "circle"
         },
         "mode": "lines",
         "name": "Like That",
         "showlegend": true,
         "type": "scattergl",
         "x": [
          "2024-05-16",
          "2024-05-17",
          "2024-05-18",
          "2024-05-19",
          "2024-05-20",
          "2024-05-21",
          "2024-05-22",
          "2024-05-23",
          "2024-05-24",
          "2024-05-25",
          "2024-05-26",
          "2024-05-27",
          "2024-05-28",
          "2024-05-29",
          "2024-05-30",
          "2024-05-31",
          "2024-06-01",
          "2024-06-02",
          "2024-06-03",
          "2024-06-04",
          "2024-06-05",
          "2024-06-06",
          "2024-06-07",
          "2024-06-08",
          "2024-06-09",
          "2024-06-10",
          "2024-06-11"
         ],
         "xaxis": "x",
         "y": [
          16,
          16,
          15,
          26,
          26,
          27,
          26,
          25,
          25,
          25,
          24,
          22,
          23,
          25,
          24,
          24,
          27,
          29,
          33,
          34,
          33,
          33,
          35,
          35,
          37,
          37,
          43
         ],
         "yaxis": "y"
        },
        {
         "hovertemplate": "trackName=Santa<br>date=%{x}<br>position=%{y}<extra></extra>",
         "legendgroup": "Santa",
         "line": {
          "color": "#FF6692",
          "dash": "solid"
         },
         "marker": {
          "symbol": "circle"
         },
         "mode": "lines",
         "name": "Santa",
         "showlegend": true,
         "type": "scattergl",
         "x": [
          "2024-05-16",
          "2024-05-17",
          "2024-05-18",
          "2024-05-19",
          "2024-05-20",
          "2024-05-21",
          "2024-05-22",
          "2024-05-23",
          "2024-05-24",
          "2024-05-25",
          "2024-05-26",
          "2024-05-27",
          "2024-05-28",
          "2024-05-29",
          "2024-05-30",
          "2024-05-31",
          "2024-06-01",
          "2024-06-02",
          "2024-06-03",
          "2024-06-04",
          "2024-06-05",
          "2024-06-06",
          "2024-06-07",
          "2024-06-08",
          "2024-06-09",
          "2024-06-10",
          "2024-06-11"
         ],
         "xaxis": "x",
         "y": [
          17,
          17,
          17,
          24,
          22,
          22,
          22,
          22,
          15,
          19,
          31,
          28,
          42,
          45,
          39,
          21,
          21,
          22,
          20,
          24,
          25,
          26,
          24,
          21,
          23,
          22,
          24
         ],
         "yaxis": "y"
        },
        {
         "hovertemplate": "trackName=Belong Together<br>date=%{x}<br>position=%{y}<extra></extra>",
         "legendgroup": "Belong Together",
         "line": {
          "color": "#B6E880",
          "dash": "solid"
         },
         "marker": {
          "symbol": "circle"
         },
         "mode": "lines",
         "name": "Belong Together",
         "showlegend": true,
         "type": "scattergl",
         "x": [
          "2024-05-16",
          "2024-05-17",
          "2024-05-18",
          "2024-05-19",
          "2024-05-20",
          "2024-05-21",
          "2024-05-22",
          "2024-05-23",
          "2024-05-24",
          "2024-05-25",
          "2024-05-26",
          "2024-05-27",
          "2024-05-28",
          "2024-05-29",
          "2024-05-30",
          "2024-05-31",
          "2024-06-01",
          "2024-06-02",
          "2024-06-03",
          "2024-06-04",
          "2024-06-05",
          "2024-06-06",
          "2024-06-07",
          "2024-06-08",
          "2024-06-09",
          "2024-06-10",
          "2024-06-11"
         ],
         "xaxis": "x",
         "y": [
          18,
          18,
          18,
          28,
          35,
          36,
          32,
          32,
          31,
          30,
          32,
          30,
          35,
          28,
          25,
          25,
          31,
          28,
          31,
          32,
          30,
          28,
          28,
          28,
          31,
          31,
          33
         ],
         "yaxis": "y"
        },
        {
         "hovertemplate": "trackName=One Of The Girls (with JENNIE, Lily Rose Depp)<br>date=%{x}<br>position=%{y}<extra></extra>",
         "legendgroup": "One Of The Girls (with JENNIE, Lily Rose Depp)",
         "line": {
          "color": "#FF97FF",
          "dash": "solid"
         },
         "marker": {
          "symbol": "circle"
         },
         "mode": "lines",
         "name": "One Of The Girls (with JENNIE, Lily Rose Depp)",
         "showlegend": true,
         "type": "scattergl",
         "x": [
          "2024-05-16",
          "2024-05-17",
          "2024-05-18",
          "2024-05-19",
          "2024-05-20",
          "2024-05-21",
          "2024-05-22",
          "2024-05-23",
          "2024-05-24",
          "2024-05-25",
          "2024-05-26",
          "2024-05-27",
          "2024-05-28",
          "2024-05-29",
          "2024-05-30",
          "2024-05-31",
          "2024-06-01",
          "2024-06-02",
          "2024-06-03",
          "2024-06-04",
          "2024-06-05",
          "2024-06-06",
          "2024-06-07",
          "2024-06-08",
          "2024-06-09",
          "2024-06-10",
          "2024-06-11"
         ],
         "xaxis": "x",
         "y": [
          19,
          19,
          19,
          29,
          27,
          25,
          25,
          24,
          23,
          22,
          20,
          17,
          17,
          18,
          19,
          19,
          19,
          21,
          21,
          20,
          20,
          20,
          20,
          22,
          27,
          27,
          22
         ],
         "yaxis": "y"
        },
        {
         "hovertemplate": "trackName=Saturn<br>date=%{x}<br>position=%{y}<extra></extra>",
         "legendgroup": "Saturn",
         "line": {
          "color": "#FECB52",
          "dash": "solid"
         },
         "marker": {
          "symbol": "circle"
         },
         "mode": "lines",
         "name": "Saturn",
         "showlegend": true,
         "type": "scattergl",
         "x": [
          "2024-05-16",
          "2024-05-17",
          "2024-05-18",
          "2024-05-19",
          "2024-05-20",
          "2024-05-21",
          "2024-05-22",
          "2024-05-23",
          "2024-05-24",
          "2024-05-25",
          "2024-05-26",
          "2024-05-27",
          "2024-05-28",
          "2024-05-29",
          "2024-05-30",
          "2024-05-31",
          "2024-06-01",
          "2024-06-02",
          "2024-06-03",
          "2024-06-04",
          "2024-06-05",
          "2024-06-06",
          "2024-06-07",
          "2024-06-08",
          "2024-06-09",
          "2024-06-10",
          "2024-06-11"
         ],
         "xaxis": "x",
         "y": [
          20,
          20,
          20,
          32,
          31,
          29,
          28,
          26,
          26,
          27,
          36,
          29,
          29,
          29,
          29,
          31,
          36,
          39,
          37,
          36,
          39,
          40,
          40,
          41,
          46,
          45,
          41
         ],
         "yaxis": "y"
        },
        {
         "hovertemplate": "trackName=Down Bad<br>date=%{x}<br>position=%{y}<extra></extra>",
         "legendgroup": "Down Bad",
         "line": {
          "color": "#636efa",
          "dash": "solid"
         },
         "marker": {
          "symbol": "circle"
         },
         "mode": "lines",
         "name": "Down Bad",
         "showlegend": true,
         "type": "scattergl",
         "x": [
          "2024-05-16",
          "2024-05-17",
          "2024-05-18",
          "2024-05-19",
          "2024-05-20",
          "2024-05-21",
          "2024-05-22",
          "2024-05-23",
          "2024-05-24",
          "2024-05-25",
          "2024-05-26"
         ],
         "xaxis": "x",
         "y": [
          21,
          21,
          22,
          36,
          40,
          40,
          37,
          37,
          41,
          44,
          50
         ],
         "yaxis": "y"
        },
        {
         "hovertemplate": "trackName=Cruel Summer<br>date=%{x}<br>position=%{y}<extra></extra>",
         "legendgroup": "Cruel Summer",
         "line": {
          "color": "#EF553B",
          "dash": "solid"
         },
         "marker": {
          "symbol": "circle"
         },
         "mode": "lines",
         "name": "Cruel Summer",
         "showlegend": true,
         "type": "scattergl",
         "x": [
          "2024-05-16",
          "2024-05-17",
          "2024-05-18",
          "2024-05-19",
          "2024-05-20",
          "2024-05-21",
          "2024-05-22",
          "2024-05-23",
          "2024-05-24",
          "2024-05-25",
          "2024-05-26",
          "2024-05-27",
          "2024-05-28",
          "2024-05-29",
          "2024-05-30",
          "2024-05-31",
          "2024-06-01",
          "2024-06-02",
          "2024-06-03",
          "2024-06-04",
          "2024-06-05",
          "2024-06-06",
          "2024-06-07",
          "2024-06-08",
          "2024-06-09",
          "2024-06-10",
          "2024-06-11"
         ],
         "xaxis": "x",
         "y": [
          22,
          22,
          21,
          30,
          28,
          26,
          29,
          29,
          27,
          26,
          25,
          21,
          20,
          21,
          22,
          22,
          22,
          24,
          22,
          23,
          24,
          24,
          23,
          24,
          26,
          23,
          26
         ],
         "yaxis": "y"
        },
        {
         "hovertemplate": "trackName=Europapa<br>date=%{x}<br>position=%{y}<extra></extra>",
         "legendgroup": "Europapa",
         "line": {
          "color": "#00cc96",
          "dash": "solid"
         },
         "marker": {
          "symbol": "circle"
         },
         "mode": "lines",
         "name": "Europapa",
         "showlegend": true,
         "type": "scattergl",
         "x": [
          "2024-05-16",
          "2024-05-17",
          "2024-05-18",
          "2024-05-19",
          "2024-05-20",
          "2024-05-21"
         ],
         "xaxis": "x",
         "y": [
          23,
          23,
          29,
          41,
          42,
          50
         ],
         "yaxis": "y"
        },
        {
         "hovertemplate": "trackName=As It Was<br>date=%{x}<br>position=%{y}<extra></extra>",
         "legendgroup": "As It Was",
         "line": {
          "color": "#ab63fa",
          "dash": "solid"
         },
         "marker": {
          "symbol": "circle"
         },
         "mode": "lines",
         "name": "As It Was",
         "showlegend": true,
         "type": "scattergl",
         "x": [
          "2024-05-16",
          "2024-05-17",
          "2024-05-18",
          "2024-05-19",
          "2024-05-20",
          "2024-05-21",
          "2024-05-22",
          "2024-05-23",
          "2024-05-24",
          "2024-05-25",
          "2024-05-26",
          "2024-05-27",
          "2024-05-28",
          "2024-05-29",
          "2024-05-30",
          "2024-05-31",
          "2024-06-01",
          "2024-06-02",
          "2024-06-03",
          "2024-06-04",
          "2024-06-05",
          "2024-06-06",
          "2024-06-07",
          "2024-06-08",
          "2024-06-09",
          "2024-06-10",
          "2024-06-11"
         ],
         "xaxis": "x",
         "y": [
          24,
          24,
          24,
          33,
          32,
          32,
          31,
          31,
          34,
          34,
          33,
          24,
          22,
          23,
          26,
          29,
          23,
          27,
          28,
          27,
          26,
          25,
          27,
          27,
          30,
          30,
          29
         ],
         "yaxis": "y"
        },
        {
         "hovertemplate": "trackName=Madonna<br>date=%{x}<br>position=%{y}<extra></extra>",
         "legendgroup": "Madonna",
         "line": {
          "color": "#FFA15A",
          "dash": "solid"
         },
         "marker": {
          "symbol": "circle"
         },
         "mode": "lines",
         "name": "Madonna",
         "showlegend": true,
         "type": "scattergl",
         "x": [
          "2024-05-16",
          "2024-05-17",
          "2024-05-18",
          "2024-05-19",
          "2024-05-20",
          "2024-05-21",
          "2024-05-22",
          "2024-05-23",
          "2024-05-24",
          "2024-05-25",
          "2024-05-26",
          "2024-05-27",
          "2024-05-28",
          "2024-05-29",
          "2024-05-30",
          "2024-05-31",
          "2024-06-01",
          "2024-06-02",
          "2024-06-03",
          "2024-06-04"
         ],
         "xaxis": "x",
         "y": [
          25,
          25,
          23,
          31,
          30,
          31,
          34,
          34,
          38,
          40,
          40,
          25,
          25,
          44,
          42,
          40,
          32,
          30,
          39,
          41
         ],
         "yaxis": "y"
        },
        {
         "hovertemplate": "trackName=Austin<br>date=%{x}<br>position=%{y}<extra></extra>",
         "legendgroup": "Austin",
         "line": {
          "color": "#19d3f3",
          "dash": "solid"
         },
         "marker": {
          "symbol": "circle"
         },
         "mode": "lines",
         "name": "Austin",
         "showlegend": true,
         "type": "scattergl",
         "x": [
          "2024-05-16",
          "2024-05-17",
          "2024-05-18",
          "2024-05-19",
          "2024-05-20",
          "2024-05-21",
          "2024-05-22",
          "2024-05-23",
          "2024-05-24",
          "2024-05-25",
          "2024-05-26",
          "2024-05-27",
          "2024-05-28",
          "2024-05-29",
          "2024-05-30",
          "2024-05-31"
         ],
         "xaxis": "x",
         "y": [
          26,
          26,
          25,
          34,
          34,
          34,
          33,
          33,
          33,
          32,
          29,
          23,
          28,
          27,
          27,
          28
         ],
         "yaxis": "y"
        },
        {
         "hovertemplate": "trackName=greedy<br>date=%{x}<br>position=%{y}<extra></extra>",
         "legendgroup": "greedy",
         "line": {
          "color": "#FF6692",
          "dash": "solid"
         },
         "marker": {
          "symbol": "circle"
         },
         "mode": "lines",
         "name": "greedy",
         "showlegend": true,
         "type": "scattergl",
         "x": [
          "2024-05-16",
          "2024-05-17",
          "2024-05-18",
          "2024-05-19",
          "2024-05-20",
          "2024-05-21",
          "2024-05-22",
          "2024-05-23",
          "2024-05-24",
          "2024-05-25",
          "2024-05-26",
          "2024-05-27",
          "2024-05-28",
          "2024-05-29",
          "2024-05-30",
          "2024-05-31",
          "2024-06-01",
          "2024-06-02",
          "2024-06-03",
          "2024-06-04",
          "2024-06-05",
          "2024-06-06",
          "2024-06-07",
          "2024-06-08",
          "2024-06-10",
          "2024-06-11"
         ],
         "xaxis": "x",
         "y": [
          27,
          27,
          26,
          37,
          38,
          37,
          36,
          35,
          36,
          36,
          43,
          41,
          43,
          37,
          43,
          41,
          39,
          42,
          43,
          43,
          43,
          43,
          42,
          42,
          49,
          50
         ],
         "yaxis": "y"
        },
        {
         "hovertemplate": "trackName=Slow It Down<br>date=%{x}<br>position=%{y}<extra></extra>",
         "legendgroup": "Slow It Down",
         "line": {
          "color": "#B6E880",
          "dash": "solid"
         },
         "marker": {
          "symbol": "circle"
         },
         "mode": "lines",
         "name": "Slow It Down",
         "showlegend": true,
         "type": "scattergl",
         "x": [
          "2024-05-16",
          "2024-05-17",
          "2024-05-18",
          "2024-05-19",
          "2024-05-20",
          "2024-05-21",
          "2024-05-22",
          "2024-05-23",
          "2024-05-24",
          "2024-05-25",
          "2024-05-26",
          "2024-05-27",
          "2024-05-28",
          "2024-05-29",
          "2024-05-30",
          "2024-05-31",
          "2024-06-01",
          "2024-06-02",
          "2024-06-03",
          "2024-06-04",
          "2024-06-05",
          "2024-06-06",
          "2024-06-07",
          "2024-06-08",
          "2024-06-09",
          "2024-06-10",
          "2024-06-11"
         ],
         "xaxis": "x",
         "y": [
          28,
          28,
          30,
          42,
          46,
          47,
          45,
          43,
          37,
          37,
          39,
          40,
          44,
          36,
          31,
          30,
          30,
          35,
          34,
          38,
          35,
          34,
          34,
          34,
          33,
          32,
          35
         ],
         "yaxis": "y"
        },
        {
         "hovertemplate": "trackName=FE!N (feat. Playboi Carti)<br>date=%{x}<br>position=%{y}<extra></extra>",
         "legendgroup": "FE!N (feat. Playboi Carti)",
         "line": {
          "color": "#FF97FF",
          "dash": "solid"
         },
         "marker": {
          "symbol": "circle"
         },
         "mode": "lines",
         "name": "FE!N (feat. Playboi Carti)",
         "showlegend": true,
         "type": "scattergl",
         "x": [
          "2024-05-16",
          "2024-05-17",
          "2024-05-18",
          "2024-05-19",
          "2024-05-20",
          "2024-05-21",
          "2024-05-22",
          "2024-05-23",
          "2024-05-24",
          "2024-05-25",
          "2024-05-26",
          "2024-05-27",
          "2024-05-28",
          "2024-05-29",
          "2024-05-30",
          "2024-05-31",
          "2024-06-01",
          "2024-06-02",
          "2024-06-03",
          "2024-06-04",
          "2024-06-05",
          "2024-06-06",
          "2024-06-07",
          "2024-06-08",
          "2024-06-09"
         ],
         "xaxis": "x",
         "y": [
          29,
          29,
          27,
          39,
          37,
          41,
          39,
          38,
          40,
          39,
          37,
          39,
          38,
          39,
          34,
          32,
          35,
          36,
          47,
          48,
          44,
          44,
          43,
          43,
          49
         ],
         "yaxis": "y"
        },
        {
         "hovertemplate": "trackName=Magnetic<br>date=%{x}<br>position=%{y}<extra></extra>",
         "legendgroup": "Magnetic",
         "line": {
          "color": "#FECB52",
          "dash": "solid"
         },
         "marker": {
          "symbol": "circle"
         },
         "mode": "lines",
         "name": "Magnetic",
         "showlegend": true,
         "type": "scattergl",
         "x": [
          "2024-05-16",
          "2024-05-17",
          "2024-05-18",
          "2024-05-19",
          "2024-05-20",
          "2024-05-21",
          "2024-05-22",
          "2024-05-23",
          "2024-05-24",
          "2024-05-25",
          "2024-05-27",
          "2024-05-28",
          "2024-05-29",
          "2024-05-30",
          "2024-05-31",
          "2024-06-01",
          "2024-06-02",
          "2024-06-03",
          "2024-06-04",
          "2024-06-05",
          "2024-06-06",
          "2024-06-07",
          "2024-06-08",
          "2024-06-10",
          "2024-06-11"
         ],
         "xaxis": "x",
         "y": [
          30,
          30,
          31,
          46,
          41,
          35,
          40,
          42,
          44,
          47,
          44,
          39,
          42,
          46,
          44,
          42,
          43,
          40,
          37,
          41,
          42,
          44,
          46,
          50,
          46
         ],
         "yaxis": "y"
        },
        {
         "hovertemplate": "trackName=Whoâs Afraid of Little Old Me?<br>date=%{x}<br>position=%{y}<extra></extra>",
         "legendgroup": "Whoâs Afraid of Little Old Me?",
         "line": {
          "color": "#636efa",
          "dash": "solid"
         },
         "marker": {
          "symbol": "circle"
         },
         "mode": "lines",
         "name": "Whoâs Afraid of Little Old Me?",
         "showlegend": true,
         "type": "scattergl",
         "x": [
          "2024-05-16",
          "2024-05-17",
          "2024-05-18",
          "2024-05-19",
          "2024-05-20",
          "2024-05-23"
         ],
         "xaxis": "x",
         "y": [
          31,
          31,
          36,
          48,
          50,
          50
         ],
         "yaxis": "y"
        },
        {
         "hovertemplate": "trackName=LUNA<br>date=%{x}<br>position=%{y}<extra></extra>",
         "legendgroup": "LUNA",
         "line": {
          "color": "#EF553B",
          "dash": "solid"
         },
         "marker": {
          "symbol": "circle"
         },
         "mode": "lines",
         "name": "LUNA",
         "showlegend": true,
         "type": "scattergl",
         "x": [
          "2024-05-16",
          "2024-05-17",
          "2024-05-18",
          "2024-05-19",
          "2024-05-20",
          "2024-05-21",
          "2024-05-22",
          "2024-05-23",
          "2024-05-24",
          "2024-05-25",
          "2024-05-26",
          "2024-05-27",
          "2024-05-28",
          "2024-05-29",
          "2024-05-30",
          "2024-05-31",
          "2024-06-01",
          "2024-06-02",
          "2024-06-03",
          "2024-06-04",
          "2024-06-05",
          "2024-06-06",
          "2024-06-07",
          "2024-06-08",
          "2024-06-09",
          "2024-06-10",
          "2024-06-11"
         ],
         "xaxis": "x",
         "y": [
          32,
          32,
          28,
          35,
          33,
          38,
          41,
          39,
          35,
          33,
          34,
          32,
          32,
          35,
          35,
          35,
          34,
          31,
          26,
          31,
          34,
          31,
          29,
          29,
          29,
          29,
          31
         ],
         "yaxis": "y"
        },
        {
         "hovertemplate": "trackName=Good Luck, Babe!<br>date=%{x}<br>position=%{y}<extra></extra>",
         "legendgroup": "Good Luck, Babe!",
         "line": {
          "color": "#00cc96",
          "dash": "solid"
         },
         "marker": {
          "symbol": "circle"
         },
         "mode": "lines",
         "name": "Good Luck, Babe!",
         "showlegend": true,
         "type": "scattergl",
         "x": [
          "2024-05-16",
          "2024-05-17",
          "2024-05-18",
          "2024-05-19",
          "2024-05-20",
          "2024-05-21",
          "2024-05-22",
          "2024-05-23",
          "2024-05-24",
          "2024-05-25",
          "2024-05-26",
          "2024-05-27",
          "2024-05-28",
          "2024-05-29",
          "2024-05-30",
          "2024-05-31",
          "2024-06-01",
          "2024-06-02",
          "2024-06-03",
          "2024-06-04",
          "2024-06-05",
          "2024-06-06",
          "2024-06-07",
          "2024-06-08",
          "2024-06-09",
          "2024-06-10",
          "2024-06-11"
         ],
         "xaxis": "x",
         "y": [
          33,
          33,
          34,
          45,
          45,
          42,
          35,
          36,
          39,
          38,
          41,
          43,
          41,
          40,
          32,
          33,
          29,
          33,
          30,
          26,
          21,
          21,
          21,
          20,
          24,
          26,
          25
         ],
         "yaxis": "y"
        },
        {
         "hovertemplate": "trackName=Sweater Weather<br>date=%{x}<br>position=%{y}<extra></extra>",
         "legendgroup": "Sweater Weather",
         "line": {
          "color": "#ab63fa",
          "dash": "solid"
         },
         "marker": {
          "symbol": "circle"
         },
         "mode": "lines",
         "name": "Sweater Weather",
         "showlegend": true,
         "type": "scattergl",
         "x": [
          "2024-05-16",
          "2024-05-17",
          "2024-05-18",
          "2024-05-19",
          "2024-05-20",
          "2024-05-21",
          "2024-05-22",
          "2024-05-23",
          "2024-05-24",
          "2024-05-25",
          "2024-05-26",
          "2024-05-27",
          "2024-05-28",
          "2024-05-29",
          "2024-05-30",
          "2024-05-31",
          "2024-06-01",
          "2024-06-02",
          "2024-06-03",
          "2024-06-04",
          "2024-06-05",
          "2024-06-06",
          "2024-06-07",
          "2024-06-08",
          "2024-06-09",
          "2024-06-10",
          "2024-06-11"
         ],
         "xaxis": "x",
         "y": [
          34,
          34,
          37,
          44,
          48,
          45,
          43,
          46,
          48,
          43,
          45,
          46,
          31,
          33,
          38,
          38,
          33,
          34,
          32,
          30,
          32,
          35,
          36,
          36,
          40,
          38,
          36
         ],
         "yaxis": "y"
        },
        {
         "hovertemplate": "trackName=I Wanna Be Yours<br>date=%{x}<br>position=%{y}<extra></extra>",
         "legendgroup": "I Wanna Be Yours",
         "line": {
          "color": "#FFA15A",
          "dash": "solid"
         },
         "marker": {
          "symbol": "circle"
         },
         "mode": "lines",
         "name": "I Wanna Be Yours",
         "showlegend": true,
         "type": "scattergl",
         "x": [
          "2024-05-16",
          "2024-05-17",
          "2024-05-18",
          "2024-05-19",
          "2024-05-20",
          "2024-05-21",
          "2024-05-22",
          "2024-05-23",
          "2024-05-24",
          "2024-05-25",
          "2024-05-26",
          "2024-05-27",
          "2024-05-28",
          "2024-05-29",
          "2024-05-30",
          "2024-05-31",
          "2024-06-01",
          "2024-06-02",
          "2024-06-03",
          "2024-06-04",
          "2024-06-05",
          "2024-06-06",
          "2024-06-07",
          "2024-06-08",
          "2024-06-09",
          "2024-06-10",
          "2024-06-11"
         ],
         "xaxis": "x",
         "y": [
          35,
          35,
          33,
          47,
          44,
          33,
          38,
          40,
          43,
          42,
          47,
          47,
          36,
          32,
          33,
          37,
          40,
          41,
          38,
          35,
          37,
          38,
          37,
          38,
          44,
          46,
          38
         ],
         "yaxis": "y"
        },
        {
         "hovertemplate": "trackName=Guilty as Sin?<br>date=%{x}<br>position=%{y}<extra></extra>",
         "legendgroup": "Guilty as Sin?",
         "line": {
          "color": "#19d3f3",
          "dash": "solid"
         },
         "marker": {
          "symbol": "circle"
         },
         "mode": "lines",
         "name": "Guilty as Sin?",
         "showlegend": true,
         "type": "scattergl",
         "x": [
          "2024-05-16",
          "2024-05-17",
          "2024-05-18",
          "2024-05-22",
          "2024-05-23",
          "2024-05-25"
         ],
         "xaxis": "x",
         "y": [
          36,
          36,
          39,
          48,
          47,
          50
         ],
         "yaxis": "y"
        },
        {
         "hovertemplate": "trackName=Pedro<br>date=%{x}<br>position=%{y}<extra></extra>",
         "legendgroup": "Pedro",
         "line": {
          "color": "#FF6692",
          "dash": "solid"
         },
         "marker": {
          "symbol": "circle"
         },
         "mode": "lines",
         "name": "Pedro",
         "showlegend": true,
         "type": "scattergl",
         "x": [
          "2024-05-16",
          "2024-05-17",
          "2024-05-18",
          "2024-05-19",
          "2024-05-20",
          "2024-05-21",
          "2024-05-22",
          "2024-05-25",
          "2024-05-26",
          "2024-05-27",
          "2024-05-28",
          "2024-06-02",
          "2024-06-03",
          "2024-06-08",
          "2024-06-09",
          "2024-06-10"
         ],
         "xaxis": "x",
         "y": [
          37,
          37,
          32,
          38,
          36,
          44,
          50,
          49,
          49,
          35,
          49,
          44,
          42,
          48,
          47,
          39
         ],
         "yaxis": "y"
        },
        {
         "hovertemplate": "trackName=Stick Season<br>date=%{x}<br>position=%{y}<extra></extra>",
         "legendgroup": "Stick Season",
         "line": {
          "color": "#B6E880",
          "dash": "solid"
         },
         "marker": {
          "symbol": "circle"
         },
         "mode": "lines",
         "name": "Stick Season",
         "showlegend": true,
         "type": "scattergl",
         "x": [
          "2024-05-16",
          "2024-05-17",
          "2024-05-18",
          "2024-05-19",
          "2024-05-20",
          "2024-05-21",
          "2024-05-22",
          "2024-05-23",
          "2024-05-24",
          "2024-05-25",
          "2024-05-26",
          "2024-05-27",
          "2024-05-28",
          "2024-05-29",
          "2024-05-30",
          "2024-05-31",
          "2024-06-01",
          "2024-06-02",
          "2024-06-03",
          "2024-06-04",
          "2024-06-05",
          "2024-06-06",
          "2024-06-07",
          "2024-06-08",
          "2024-06-09",
          "2024-06-10",
          "2024-06-11"
         ],
         "xaxis": "x",
         "y": [
          38,
          38,
          35,
          43,
          43,
          43,
          42,
          44,
          42,
          41,
          42,
          34,
          40,
          43,
          36,
          34,
          38,
          37,
          36,
          39,
          42,
          41,
          39,
          37,
          43,
          41,
          47
         ],
         "yaxis": "y"
        },
        {
         "hovertemplate": "trackName=The Code<br>date=%{x}<br>position=%{y}<extra></extra>",
         "legendgroup": "The Code",
         "line": {
          "color": "#FF97FF",
          "dash": "solid"
         },
         "marker": {
          "symbol": "circle"
         },
         "mode": "lines",
         "name": "The Code",
         "showlegend": true,
         "type": "scattergl",
         "x": [
          "2024-05-16",
          "2024-05-17",
          "2024-05-18"
         ],
         "xaxis": "x",
         "y": [
          39,
          39,
          44
         ],
         "yaxis": "y"
        },
        {
         "hovertemplate": "trackName=So Long, London<br>date=%{x}<br>position=%{y}<extra></extra>",
         "legendgroup": "So Long, London",
         "line": {
          "color": "#FECB52",
          "dash": "solid"
         },
         "marker": {
          "symbol": "circle"
         },
         "mode": "lines",
         "name": "So Long, London",
         "showlegend": true,
         "type": "scattergl",
         "x": [
          "2024-05-16",
          "2024-05-17",
          "2024-05-18"
         ],
         "xaxis": "x",
         "y": [
          40,
          40,
          42
         ],
         "yaxis": "y"
        },
        {
         "hovertemplate": "trackName=Stargazing<br>date=%{x}<br>position=%{y}<extra></extra>",
         "legendgroup": "Stargazing",
         "line": {
          "color": "#636efa",
          "dash": "solid"
         },
         "marker": {
          "symbol": "circle"
         },
         "mode": "lines",
         "name": "Stargazing",
         "showlegend": true,
         "type": "scattergl",
         "x": [
          "2024-05-16",
          "2024-05-17",
          "2024-05-18",
          "2024-05-19",
          "2024-05-20",
          "2024-05-21",
          "2024-05-22",
          "2024-05-23",
          "2024-05-24",
          "2024-05-25",
          "2024-05-26",
          "2024-05-27",
          "2024-05-28",
          "2024-05-29",
          "2024-05-30",
          "2024-05-31",
          "2024-06-01",
          "2024-06-02",
          "2024-06-03",
          "2024-06-04",
          "2024-06-05",
          "2024-06-06",
          "2024-06-07",
          "2024-06-08",
          "2024-06-09",
          "2024-06-10",
          "2024-06-11"
         ],
         "xaxis": "x",
         "y": [
          41,
          41,
          38,
          40,
          47,
          48,
          44,
          41,
          29,
          28,
          27,
          27,
          26,
          22,
          20,
          18,
          18,
          19,
          19,
          19,
          18,
          18,
          18,
          18,
          17,
          18,
          20
         ],
         "yaxis": "y"
        },
        {
         "hovertemplate": "trackName=Tell Ur Girlfriend<br>date=%{x}<br>position=%{y}<extra></extra>",
         "legendgroup": "Tell Ur Girlfriend",
         "line": {
          "color": "#EF553B",
          "dash": "solid"
         },
         "marker": {
          "symbol": "circle"
         },
         "mode": "lines",
         "name": "Tell Ur Girlfriend",
         "showlegend": true,
         "type": "scattergl",
         "x": [
          "2024-05-16",
          "2024-05-17",
          "2024-05-18"
         ],
         "xaxis": "x",
         "y": [
          42,
          42,
          43
         ],
         "yaxis": "y"
        },
        {
         "hovertemplate": "trackName=My Love Mine All Mine<br>date=%{x}<br>position=%{y}<extra></extra>",
         "legendgroup": "My Love Mine All Mine",
         "line": {
          "color": "#00cc96",
          "dash": "solid"
         },
         "marker": {
          "symbol": "circle"
         },
         "mode": "lines",
         "name": "My Love Mine All Mine",
         "showlegend": true,
         "type": "scattergl",
         "x": [
          "2024-05-16",
          "2024-05-17",
          "2024-05-18",
          "2024-05-21",
          "2024-05-22",
          "2024-05-23",
          "2024-05-24",
          "2024-05-25",
          "2024-05-28",
          "2024-05-29",
          "2024-05-30",
          "2024-05-31",
          "2024-06-01",
          "2024-06-04",
          "2024-06-05",
          "2024-06-06",
          "2024-06-07"
         ],
         "xaxis": "x",
         "y": [
          43,
          43,
          41,
          46,
          46,
          45,
          45,
          46,
          47,
          46,
          47,
          48,
          47,
          49,
          47,
          48,
          47
         ],
         "yaxis": "y"
        },
        {
         "hovertemplate": "trackName=ADIVINO<br>date=%{x}<br>position=%{y}<extra></extra>",
         "legendgroup": "ADIVINO",
         "line": {
          "color": "#ab63fa",
          "dash": "solid"
         },
         "marker": {
          "symbol": "circle"
         },
         "mode": "lines",
         "name": "ADIVINO",
         "showlegend": true,
         "type": "scattergl",
         "x": [
          "2024-05-16",
          "2024-05-17",
          "2024-05-18",
          "2024-05-19"
         ],
         "xaxis": "x",
         "y": [
          44,
          44,
          40,
          49
         ],
         "yaxis": "y"
        },
        {
         "hovertemplate": "trackName=The Night We Met<br>date=%{x}<br>position=%{y}<extra></extra>",
         "legendgroup": "The Night We Met",
         "line": {
          "color": "#FFA15A",
          "dash": "solid"
         },
         "marker": {
          "symbol": "circle"
         },
         "mode": "lines",
         "name": "The Night We Met",
         "showlegend": true,
         "type": "scattergl",
         "x": [
          "2024-05-16",
          "2024-05-17",
          "2024-05-18",
          "2024-05-21",
          "2024-05-22",
          "2024-05-23",
          "2024-05-24",
          "2024-05-25",
          "2024-05-26",
          "2024-05-27",
          "2024-05-28",
          "2024-05-29",
          "2024-05-30",
          "2024-05-31",
          "2024-06-01",
          "2024-06-02",
          "2024-06-03",
          "2024-06-04",
          "2024-06-05",
          "2024-06-06",
          "2024-06-07",
          "2024-06-08",
          "2024-06-09",
          "2024-06-11"
         ],
         "xaxis": "x",
         "y": [
          45,
          45,
          45,
          49,
          49,
          48,
          50,
          45,
          48,
          49,
          45,
          38,
          37,
          36,
          41,
          45,
          46,
          40,
          38,
          37,
          38,
          39,
          50,
          45
         ],
         "yaxis": "y"
        },
        {
         "hovertemplate": "trackName=But Daddy I Love Him<br>date=%{x}<br>position=%{y}<extra></extra>",
         "legendgroup": "But Daddy I Love Him",
         "line": {
          "color": "#19d3f3",
          "dash": "solid"
         },
         "marker": {
          "symbol": "circle"
         },
         "mode": "lines",
         "name": "But Daddy I Love Him",
         "showlegend": true,
         "type": "scattergl",
         "x": [
          "2024-05-16",
          "2024-05-17",
          "2024-05-18"
         ],
         "xaxis": "x",
         "y": [
          46,
          46,
          47
         ],
         "yaxis": "y"
        },
        {
         "hovertemplate": "trackName=Type Shit<br>date=%{x}<br>position=%{y}<extra></extra>",
         "legendgroup": "Type Shit",
         "line": {
          "color": "#FF6692",
          "dash": "solid"
         },
         "marker": {
          "symbol": "circle"
         },
         "mode": "lines",
         "name": "Type Shit",
         "showlegend": true,
         "type": "scattergl",
         "x": [
          "2024-05-16",
          "2024-05-17",
          "2024-05-18"
         ],
         "xaxis": "x",
         "y": [
          47,
          47,
          48
         ],
         "yaxis": "y"
        },
        {
         "hovertemplate": "trackName=My Boy Only Breaks His Favorite Toys<br>date=%{x}<br>position=%{y}<extra></extra>",
         "legendgroup": "My Boy Only Breaks His Favorite Toys",
         "line": {
          "color": "#B6E880",
          "dash": "solid"
         },
         "marker": {
          "symbol": "circle"
         },
         "mode": "lines",
         "name": "My Boy Only Breaks His Favorite Toys",
         "showlegend": true,
         "type": "scattergl",
         "x": [
          "2024-05-16",
          "2024-05-17",
          "2024-05-18"
         ],
         "xaxis": "x",
         "y": [
          48,
          48,
          49
         ],
         "yaxis": "y"
        },
        {
         "hovertemplate": "trackName=Si No Quieres No<br>date=%{x}<br>position=%{y}<extra></extra>",
         "legendgroup": "Si No Quieres No",
         "line": {
          "color": "#FF97FF",
          "dash": "solid"
         },
         "marker": {
          "symbol": "circle"
         },
         "mode": "lines",
         "name": "Si No Quieres No",
         "showlegend": true,
         "type": "scattergl",
         "x": [
          "2024-05-16",
          "2024-05-17",
          "2024-05-18",
          "2024-05-19",
          "2024-05-20",
          "2024-05-21",
          "2024-05-22",
          "2024-05-23",
          "2024-05-24",
          "2024-05-25",
          "2024-05-27",
          "2024-05-28",
          "2024-05-29",
          "2024-05-30",
          "2024-05-31",
          "2024-06-01",
          "2024-06-02",
          "2024-06-03",
          "2024-06-04",
          "2024-06-05",
          "2024-06-06",
          "2024-06-07",
          "2024-06-08",
          "2024-06-09",
          "2024-06-10",
          "2024-06-11"
         ],
         "xaxis": "x",
         "y": [
          49,
          49,
          46,
          50,
          39,
          39,
          47,
          49,
          47,
          48,
          37,
          33,
          49,
          45,
          42,
          43,
          38,
          24,
          21,
          28,
          29,
          31,
          30,
          32,
          25,
          23
         ],
         "yaxis": "y"
        },
        {
         "hovertemplate": "trackName=See You Again (feat. Kali Uchis)<br>date=%{x}<br>position=%{y}<extra></extra>",
         "legendgroup": "See You Again (feat. Kali Uchis)",
         "line": {
          "color": "#FECB52",
          "dash": "solid"
         },
         "marker": {
          "symbol": "circle"
         },
         "mode": "lines",
         "name": "See You Again (feat. Kali Uchis)",
         "showlegend": true,
         "type": "scattergl",
         "x": [
          "2024-05-16",
          "2024-05-17",
          "2024-05-18",
          "2024-05-28",
          "2024-05-29",
          "2024-05-30",
          "2024-05-31",
          "2024-06-01",
          "2024-06-03",
          "2024-06-04",
          "2024-06-05",
          "2024-06-06",
          "2024-06-07",
          "2024-06-08"
         ],
         "xaxis": "x",
         "y": [
          50,
          50,
          50,
          50,
          50,
          48,
          46,
          45,
          50,
          45,
          46,
          47,
          48,
          50
         ],
         "yaxis": "y"
        },
        {
         "hovertemplate": "trackName=LUNCH<br>date=%{x}<br>position=%{y}<extra></extra>",
         "legendgroup": "LUNCH",
         "line": {
          "color": "#636efa",
          "dash": "solid"
         },
         "marker": {
          "symbol": "circle"
         },
         "mode": "lines",
         "name": "LUNCH",
         "showlegend": true,
         "type": "scattergl",
         "x": [
          "2024-05-19",
          "2024-05-20",
          "2024-05-21",
          "2024-05-22",
          "2024-05-23",
          "2024-05-24",
          "2024-05-25",
          "2024-05-26",
          "2024-05-27",
          "2024-05-28",
          "2024-05-29",
          "2024-05-30",
          "2024-05-31",
          "2024-06-01",
          "2024-06-02",
          "2024-06-03",
          "2024-06-04",
          "2024-06-05",
          "2024-06-06",
          "2024-06-07",
          "2024-06-08",
          "2024-06-09",
          "2024-06-10",
          "2024-06-11"
         ],
         "xaxis": "x",
         "y": [
          2,
          4,
          4,
          4,
          4,
          1,
          1,
          1,
          1,
          1,
          2,
          3,
          3,
          3,
          5,
          6,
          5,
          5,
          5,
          5,
          4,
          4,
          5,
          7
         ],
         "yaxis": "y"
        },
        {
         "hovertemplate": "trackName=CHIHIRO<br>date=%{x}<br>position=%{y}<extra></extra>",
         "legendgroup": "CHIHIRO",
         "line": {
          "color": "#EF553B",
          "dash": "solid"
         },
         "marker": {
          "symbol": "circle"
         },
         "mode": "lines",
         "name": "CHIHIRO",
         "showlegend": true,
         "type": "scattergl",
         "x": [
          "2024-05-19",
          "2024-05-20",
          "2024-05-21",
          "2024-05-22",
          "2024-05-23",
          "2024-05-24",
          "2024-05-25",
          "2024-05-26",
          "2024-05-27",
          "2024-05-28",
          "2024-05-29",
          "2024-05-30",
          "2024-05-31",
          "2024-06-01",
          "2024-06-02",
          "2024-06-03",
          "2024-06-04",
          "2024-06-05",
          "2024-06-06",
          "2024-06-07",
          "2024-06-08",
          "2024-06-09",
          "2024-06-10",
          "2024-06-11"
         ],
         "xaxis": "x",
         "y": [
          3,
          6,
          6,
          5,
          5,
          5,
          5,
          6,
          7,
          8,
          7,
          9,
          10,
          10,
          13,
          13,
          13,
          13,
          13,
          13,
          13,
          15,
          14,
          14
         ],
         "yaxis": "y"
        },
        {
         "hovertemplate": "trackName=SKINNY<br>date=%{x}<br>position=%{y}<extra></extra>",
         "legendgroup": "SKINNY",
         "line": {
          "color": "#00cc96",
          "dash": "solid"
         },
         "marker": {
          "symbol": "circle"
         },
         "mode": "lines",
         "name": "SKINNY",
         "showlegend": true,
         "type": "scattergl",
         "x": [
          "2024-05-19",
          "2024-05-20",
          "2024-05-21",
          "2024-05-22",
          "2024-05-23",
          "2024-05-24",
          "2024-05-25",
          "2024-05-26",
          "2024-05-27",
          "2024-05-28",
          "2024-05-29",
          "2024-05-30",
          "2024-05-31",
          "2024-06-01"
         ],
         "xaxis": "x",
         "y": [
          7,
          14,
          17,
          18,
          18,
          19,
          21,
          22,
          31,
          34,
          30,
          41,
          45,
          49
         ],
         "yaxis": "y"
        },
        {
         "hovertemplate": "trackName=BIRDS OF A FEATHER<br>date=%{x}<br>position=%{y}<extra></extra>",
         "legendgroup": "BIRDS OF A FEATHER",
         "line": {
          "color": "#ab63fa",
          "dash": "solid"
         },
         "marker": {
          "symbol": "circle"
         },
         "mode": "lines",
         "name": "BIRDS OF A FEATHER",
         "showlegend": true,
         "type": "scattergl",
         "x": [
          "2024-05-19",
          "2024-05-20",
          "2024-05-21",
          "2024-05-22",
          "2024-05-23",
          "2024-05-24",
          "2024-05-25",
          "2024-05-26",
          "2024-05-27",
          "2024-05-28",
          "2024-05-29",
          "2024-05-30",
          "2024-05-31",
          "2024-06-01",
          "2024-06-02",
          "2024-06-03",
          "2024-06-04",
          "2024-06-05",
          "2024-06-06",
          "2024-06-07",
          "2024-06-08",
          "2024-06-09",
          "2024-06-10",
          "2024-06-11"
         ],
         "xaxis": "x",
         "y": [
          8,
          10,
          8,
          8,
          8,
          6,
          6,
          5,
          8,
          5,
          5,
          5,
          5,
          5,
          4,
          4,
          4,
          4,
          3,
          3,
          2,
          2,
          2,
          2
         ],
         "yaxis": "y"
        },
        {
         "hovertemplate": "trackName=WILDFLOWER<br>date=%{x}<br>position=%{y}<extra></extra>",
         "legendgroup": "WILDFLOWER",
         "line": {
          "color": "#FFA15A",
          "dash": "solid"
         },
         "marker": {
          "symbol": "circle"
         },
         "mode": "lines",
         "name": "WILDFLOWER",
         "showlegend": true,
         "type": "scattergl",
         "x": [
          "2024-05-19",
          "2024-05-20",
          "2024-05-21",
          "2024-05-22",
          "2024-05-23",
          "2024-05-24",
          "2024-05-25",
          "2024-05-26",
          "2024-05-27",
          "2024-05-28",
          "2024-05-29",
          "2024-05-30",
          "2024-05-31",
          "2024-06-01",
          "2024-06-02",
          "2024-06-03",
          "2024-06-04",
          "2024-06-05",
          "2024-06-06",
          "2024-06-07",
          "2024-06-08",
          "2024-06-09",
          "2024-06-10",
          "2024-06-11"
         ],
         "xaxis": "x",
         "y": [
          11,
          15,
          15,
          15,
          17,
          17,
          16,
          17,
          18,
          18,
          17,
          18,
          20,
          20,
          23,
          29,
          25,
          22,
          23,
          22,
          23,
          28,
          33,
          30
         ],
         "yaxis": "y"
        },
        {
         "hovertemplate": "trackName=LâAMOUR DE MA VIE<br>date=%{x}<br>position=%{y}<extra></extra>",
         "legendgroup": "LâAMOUR DE MA VIE",
         "line": {
          "color": "#19d3f3",
          "dash": "solid"
         },
         "marker": {
          "symbol": "circle"
         },
         "mode": "lines",
         "name": "LâAMOUR DE MA VIE",
         "showlegend": true,
         "type": "scattergl",
         "x": [
          "2024-05-19",
          "2024-05-20",
          "2024-05-21",
          "2024-05-22",
          "2024-05-23",
          "2024-05-24",
          "2024-05-25",
          "2024-05-26",
          "2024-05-27",
          "2024-05-28",
          "2024-05-29",
          "2024-05-30",
          "2024-05-31",
          "2024-06-01",
          "2024-06-02",
          "2024-06-03",
          "2024-06-04",
          "2024-06-05",
          "2024-06-06",
          "2024-06-07",
          "2024-06-08",
          "2024-06-09",
          "2024-06-10",
          "2024-06-11"
         ],
         "xaxis": "x",
         "y": [
          15,
          18,
          19,
          19,
          19,
          21,
          20,
          21,
          26,
          27,
          26,
          30,
          39,
          37,
          40,
          49,
          42,
          36,
          36,
          33,
          33,
          38,
          44,
          42
         ],
         "yaxis": "y"
        },
        {
         "hovertemplate": "trackName=THE GREATEST<br>date=%{x}<br>position=%{y}<extra></extra>",
         "legendgroup": "THE GREATEST",
         "line": {
          "color": "#FF6692",
          "dash": "solid"
         },
         "marker": {
          "symbol": "circle"
         },
         "mode": "lines",
         "name": "THE GREATEST",
         "showlegend": true,
         "type": "scattergl",
         "x": [
          "2024-05-19",
          "2024-05-20",
          "2024-05-21",
          "2024-05-22",
          "2024-05-23",
          "2024-05-24",
          "2024-05-25",
          "2024-05-26",
          "2024-05-27",
          "2024-05-28",
          "2024-05-29",
          "2024-05-30",
          "2024-05-31",
          "2024-06-01",
          "2024-06-02"
         ],
         "xaxis": "x",
         "y": [
          16,
          19,
          20,
          20,
          20,
          22,
          23,
          26,
          33,
          37,
          31,
          40,
          43,
          44,
          50
         ],
         "yaxis": "y"
        },
        {
         "hovertemplate": "trackName=BLUE<br>date=%{x}<br>position=%{y}<extra></extra>",
         "legendgroup": "BLUE",
         "line": {
          "color": "#B6E880",
          "dash": "solid"
         },
         "marker": {
          "symbol": "circle"
         },
         "mode": "lines",
         "name": "BLUE",
         "showlegend": true,
         "type": "scattergl",
         "x": [
          "2024-05-19",
          "2024-05-20",
          "2024-05-21",
          "2024-05-22",
          "2024-05-23",
          "2024-05-24",
          "2024-05-25",
          "2024-05-26",
          "2024-05-27",
          "2024-05-28",
          "2024-05-29",
          "2024-05-30",
          "2024-05-31",
          "2024-06-01",
          "2024-06-02",
          "2024-06-03",
          "2024-06-04",
          "2024-06-05",
          "2024-06-06",
          "2024-06-07",
          "2024-06-08",
          "2024-06-09",
          "2024-06-10",
          "2024-06-11"
         ],
         "xaxis": "x",
         "y": [
          18,
          17,
          18,
          16,
          16,
          18,
          18,
          19,
          19,
          19,
          20,
          21,
          23,
          25,
          32,
          35,
          33,
          29,
          30,
          30,
          31,
          36,
          43,
          39
         ],
         "yaxis": "y"
        },
        {
         "hovertemplate": "trackName=THE DINER<br>date=%{x}<br>position=%{y}<extra></extra>",
         "legendgroup": "THE DINER",
         "line": {
          "color": "#FF97FF",
          "dash": "solid"
         },
         "marker": {
          "symbol": "circle"
         },
         "mode": "lines",
         "name": "THE DINER",
         "showlegend": true,
         "type": "scattergl",
         "x": [
          "2024-05-19",
          "2024-05-20",
          "2024-05-21",
          "2024-05-22",
          "2024-05-23",
          "2024-05-24",
          "2024-05-25",
          "2024-05-26",
          "2024-05-27",
          "2024-05-28",
          "2024-05-29",
          "2024-05-30"
         ],
         "xaxis": "x",
         "y": [
          19,
          23,
          24,
          24,
          27,
          28,
          29,
          38,
          48,
          48,
          48,
          50
         ],
         "yaxis": "y"
        },
        {
         "hovertemplate": "trackName=BITTERSUITE<br>date=%{x}<br>position=%{y}<extra></extra>",
         "legendgroup": "BITTERSUITE",
         "line": {
          "color": "#FECB52",
          "dash": "solid"
         },
         "marker": {
          "symbol": "circle"
         },
         "mode": "lines",
         "name": "BITTERSUITE",
         "showlegend": true,
         "type": "scattergl",
         "x": [
          "2024-05-19",
          "2024-05-20",
          "2024-05-21",
          "2024-05-22",
          "2024-05-23",
          "2024-05-24",
          "2024-05-25",
          "2024-05-26"
         ],
         "xaxis": "x",
         "y": [
          21,
          24,
          28,
          27,
          30,
          32,
          35,
          44
         ],
         "yaxis": "y"
        },
        {
         "hovertemplate": "trackName=TEXAS HOLD 'EM<br>date=%{x}<br>position=%{y}<extra></extra>",
         "legendgroup": "TEXAS HOLD 'EM",
         "line": {
          "color": "#636efa",
          "dash": "solid"
         },
         "marker": {
          "symbol": "circle"
         },
         "mode": "lines",
         "name": "TEXAS HOLD 'EM",
         "showlegend": true,
         "type": "scattergl",
         "x": [
          "2024-05-20",
          "2024-05-27"
         ],
         "xaxis": "x",
         "y": [
          49,
          50
         ],
         "yaxis": "y"
        },
        {
         "hovertemplate": "trackName=love hotel<br>date=%{x}<br>position=%{y}<extra></extra>",
         "legendgroup": "love hotel",
         "line": {
          "color": "#EF553B",
          "dash": "solid"
         },
         "marker": {
          "symbol": "circle"
         },
         "mode": "lines",
         "name": "love hotel",
         "showlegend": true,
         "type": "scattergl",
         "x": [
          "2024-05-24",
          "2024-06-06"
         ],
         "xaxis": "x",
         "y": [
          46,
          49
         ],
         "yaxis": "y"
        },
        {
         "hovertemplate": "trackName=Supernova<br>date=%{x}<br>position=%{y}<extra></extra>",
         "legendgroup": "Supernova",
         "line": {
          "color": "#00cc96",
          "dash": "solid"
         },
         "marker": {
          "symbol": "circle"
         },
         "mode": "lines",
         "name": "Supernova",
         "showlegend": true,
         "type": "scattergl",
         "x": [
          "2024-05-24",
          "2024-05-29",
          "2024-05-30",
          "2024-05-31",
          "2024-06-01",
          "2024-06-02",
          "2024-06-05"
         ],
         "xaxis": "x",
         "y": [
          49,
          41,
          44,
          47,
          46,
          48,
          45
         ],
         "yaxis": "y"
        },
        {
         "hovertemplate": "trackName=Pink Skies<br>date=%{x}<br>position=%{y}<extra></extra>",
         "legendgroup": "Pink Skies",
         "line": {
          "color": "#ab63fa",
          "dash": "solid"
         },
         "marker": {
          "symbol": "circle"
         },
         "mode": "lines",
         "name": "Pink Skies",
         "showlegend": true,
         "type": "scattergl",
         "x": [
          "2024-05-26",
          "2024-05-27",
          "2024-05-28",
          "2024-05-29",
          "2024-05-30",
          "2024-05-31",
          "2024-06-01",
          "2024-06-02",
          "2024-06-03",
          "2024-06-04",
          "2024-06-05",
          "2024-06-06",
          "2024-06-07",
          "2024-06-08",
          "2024-06-09",
          "2024-06-10",
          "2024-06-11"
         ],
         "xaxis": "x",
         "y": [
          18,
          38,
          30,
          34,
          28,
          27,
          26,
          20,
          23,
          22,
          23,
          22,
          26,
          26,
          22,
          28,
          27
         ],
         "yaxis": "y"
        },
        {
         "hovertemplate": "trackName=LOST!<br>date=%{x}<br>position=%{y}<extra></extra>",
         "legendgroup": "LOST!",
         "line": {
          "color": "#FFA15A",
          "dash": "solid"
         },
         "marker": {
          "symbol": "circle"
         },
         "mode": "lines",
         "name": "LOST!",
         "showlegend": true,
         "type": "scattergl",
         "x": [
          "2024-05-26"
         ],
         "xaxis": "x",
         "y": [
          28
         ],
         "yaxis": "y"
        },
        {
         "hovertemplate": "trackName=BAND4BAND (feat. Lil Baby)<br>date=%{x}<br>position=%{y}<extra></extra>",
         "legendgroup": "BAND4BAND (feat. Lil Baby)",
         "line": {
          "color": "#19d3f3",
          "dash": "solid"
         },
         "marker": {
          "symbol": "circle"
         },
         "mode": "lines",
         "name": "BAND4BAND (feat. Lil Baby)",
         "showlegend": true,
         "type": "scattergl",
         "x": [
          "2024-05-26",
          "2024-05-27",
          "2024-05-28",
          "2024-05-29",
          "2024-05-30",
          "2024-05-31",
          "2024-06-01",
          "2024-06-02",
          "2024-06-03",
          "2024-06-04",
          "2024-06-05",
          "2024-06-06",
          "2024-06-07",
          "2024-06-08",
          "2024-06-09",
          "2024-06-10",
          "2024-06-11"
         ],
         "xaxis": "x",
         "y": [
          30,
          36,
          24,
          19,
          16,
          16,
          15,
          14,
          14,
          12,
          11,
          12,
          14,
          14,
          16,
          15,
          15
         ],
         "yaxis": "y"
        },
        {
         "hovertemplate": "trackName=MTG QUEM NÃO QUER SOU EU<br>date=%{x}<br>position=%{y}<extra></extra>",
         "legendgroup": "MTG QUEM NÃO QUER SOU EU",
         "line": {
          "color": "#FF6692",
          "dash": "solid"
         },
         "marker": {
          "symbol": "circle"
         },
         "mode": "lines",
         "name": "MTG QUEM NÃO QUER SOU EU",
         "showlegend": true,
         "type": "scattergl",
         "x": [
          "2024-05-26",
          "2024-05-27",
          "2024-05-31",
          "2024-06-01",
          "2024-06-02",
          "2024-06-03"
         ],
         "xaxis": "x",
         "y": [
          46,
          45,
          49,
          48,
          47,
          41
         ],
         "yaxis": "y"
        },
        {
         "hovertemplate": "trackName=Austin (Boots Stop Workin')<br>date=%{x}<br>position=%{y}<extra></extra>",
         "legendgroup": "Austin (Boots Stop Workin')",
         "line": {
          "color": "#B6E880",
          "dash": "solid"
         },
         "marker": {
          "symbol": "circle"
         },
         "mode": "lines",
         "name": "Austin (Boots Stop Workin')",
         "showlegend": true,
         "type": "scattergl",
         "x": [
          "2024-06-01",
          "2024-06-02",
          "2024-06-03",
          "2024-06-04",
          "2024-06-05",
          "2024-06-06",
          "2024-06-07",
          "2024-06-08",
          "2024-06-09",
          "2024-06-10",
          "2024-06-11"
         ],
         "xaxis": "x",
         "y": [
          28,
          26,
          25,
          29,
          27,
          27,
          25,
          25,
          25,
          24,
          28
         ],
         "yaxis": "y"
        },
        {
         "hovertemplate": "trackName=Houdini<br>date=%{x}<br>position=%{y}<extra></extra>",
         "legendgroup": "Houdini",
         "line": {
          "color": "#FF97FF",
          "dash": "solid"
         },
         "marker": {
          "symbol": "circle"
         },
         "mode": "lines",
         "name": "Houdini",
         "showlegend": true,
         "type": "scattergl",
         "x": [
          "2024-06-02",
          "2024-06-03",
          "2024-06-04",
          "2024-06-05",
          "2024-06-06",
          "2024-06-07",
          "2024-06-08",
          "2024-06-09",
          "2024-06-10",
          "2024-06-11"
         ],
         "xaxis": "x",
         "y": [
          3,
          3,
          3,
          2,
          2,
          2,
          3,
          3,
          3,
          4
         ],
         "yaxis": "y"
        },
        {
         "hovertemplate": "trackName=SI NO ES CONTIGO<br>date=%{x}<br>position=%{y}<extra></extra>",
         "legendgroup": "SI NO ES CONTIGO",
         "line": {
          "color": "#FECB52",
          "dash": "solid"
         },
         "marker": {
          "symbol": "circle"
         },
         "mode": "lines",
         "name": "SI NO ES CONTIGO",
         "showlegend": true,
         "type": "scattergl",
         "x": [
          "2024-06-02",
          "2024-06-03",
          "2024-06-04",
          "2024-06-05",
          "2024-06-06",
          "2024-06-07",
          "2024-06-08",
          "2024-06-09",
          "2024-06-10",
          "2024-06-11"
         ],
         "xaxis": "x",
         "y": [
          46,
          44,
          50,
          40,
          39,
          41,
          40,
          39,
          36,
          40
         ],
         "yaxis": "y"
        },
        {
         "hovertemplate": "trackName=one of wun<br>date=%{x}<br>position=%{y}<extra></extra>",
         "legendgroup": "one of wun",
         "line": {
          "color": "#636efa",
          "dash": "solid"
         },
         "marker": {
          "symbol": "circle"
         },
         "mode": "lines",
         "name": "one of wun",
         "showlegend": true,
         "type": "scattergl",
         "x": [
          "2024-06-02"
         ],
         "xaxis": "x",
         "y": [
          49
         ],
         "yaxis": "y"
        },
        {
         "hovertemplate": "trackName=Locked out of Heaven<br>date=%{x}<br>position=%{y}<extra></extra>",
         "legendgroup": "Locked out of Heaven",
         "line": {
          "color": "#EF553B",
          "dash": "solid"
         },
         "marker": {
          "symbol": "circle"
         },
         "mode": "lines",
         "name": "Locked out of Heaven",
         "showlegend": true,
         "type": "scattergl",
         "x": [
          "2024-06-03",
          "2024-06-04",
          "2024-06-05",
          "2024-06-06",
          "2024-06-07"
         ],
         "xaxis": "x",
         "y": [
          45,
          46,
          48,
          50,
          50
         ],
         "yaxis": "y"
        },
        {
         "hovertemplate": "trackName=Flowers<br>date=%{x}<br>position=%{y}<extra></extra>",
         "legendgroup": "Flowers",
         "line": {
          "color": "#00cc96",
          "dash": "solid"
         },
         "marker": {
          "symbol": "circle"
         },
         "mode": "lines",
         "name": "Flowers",
         "showlegend": true,
         "type": "scattergl",
         "x": [
          "2024-06-03"
         ],
         "xaxis": "x",
         "y": [
          48
         ],
         "yaxis": "y"
        },
        {
         "hovertemplate": "trackName=Yellow<br>date=%{x}<br>position=%{y}<extra></extra>",
         "legendgroup": "Yellow",
         "line": {
          "color": "#ab63fa",
          "dash": "solid"
         },
         "marker": {
          "symbol": "circle"
         },
         "mode": "lines",
         "name": "Yellow",
         "showlegend": true,
         "type": "scattergl",
         "x": [
          "2024-06-04",
          "2024-06-05"
         ],
         "xaxis": "x",
         "y": [
          44,
          50
         ],
         "yaxis": "y"
        },
        {
         "hovertemplate": "trackName=Riptide<br>date=%{x}<br>position=%{y}<extra></extra>",
         "legendgroup": "Riptide",
         "line": {
          "color": "#FFA15A",
          "dash": "solid"
         },
         "marker": {
          "symbol": "circle"
         },
         "mode": "lines",
         "name": "Riptide",
         "showlegend": true,
         "type": "scattergl",
         "x": [
          "2024-06-04",
          "2024-06-07",
          "2024-06-08",
          "2024-06-10",
          "2024-06-11"
         ],
         "xaxis": "x",
         "y": [
          47,
          45,
          44,
          47,
          48
         ],
         "yaxis": "y"
        },
        {
         "hovertemplate": "trackName=Kill Bill<br>date=%{x}<br>position=%{y}<extra></extra>",
         "legendgroup": "Kill Bill",
         "line": {
          "color": "#19d3f3",
          "dash": "solid"
         },
         "marker": {
          "symbol": "circle"
         },
         "mode": "lines",
         "name": "Kill Bill",
         "showlegend": true,
         "type": "scattergl",
         "x": [
          "2024-06-05",
          "2024-06-06"
         ],
         "xaxis": "x",
         "y": [
          49,
          46
         ],
         "yaxis": "y"
        },
        {
         "hovertemplate": "trackName=Digitando<br>date=%{x}<br>position=%{y}<extra></extra>",
         "legendgroup": "Digitando",
         "line": {
          "color": "#FF6692",
          "dash": "solid"
         },
         "marker": {
          "symbol": "circle"
         },
         "mode": "lines",
         "name": "Digitando",
         "showlegend": true,
         "type": "scattergl",
         "x": [
          "2024-06-06"
         ],
         "xaxis": "x",
         "y": [
          45
         ],
         "yaxis": "y"
        },
        {
         "hovertemplate": "trackName=Without Me<br>date=%{x}<br>position=%{y}<extra></extra>",
         "legendgroup": "Without Me",
         "line": {
          "color": "#B6E880",
          "dash": "solid"
         },
         "marker": {
          "symbol": "circle"
         },
         "mode": "lines",
         "name": "Without Me",
         "showlegend": true,
         "type": "scattergl",
         "x": [
          "2024-06-07",
          "2024-06-08"
         ],
         "xaxis": "x",
         "y": [
          46,
          47
         ],
         "yaxis": "y"
        },
        {
         "hovertemplate": "trackName=I Don't Wanna Wait<br>date=%{x}<br>position=%{y}<extra></extra>",
         "legendgroup": "I Don't Wanna Wait",
         "line": {
          "color": "#FF97FF",
          "dash": "solid"
         },
         "marker": {
          "symbol": "circle"
         },
         "mode": "lines",
         "name": "I Don't Wanna Wait",
         "showlegend": true,
         "type": "scattergl",
         "x": [
          "2024-06-07",
          "2024-06-08",
          "2024-06-09",
          "2024-06-10"
         ],
         "xaxis": "x",
         "y": [
          49,
          49,
          48,
          48
         ],
         "yaxis": "y"
        },
        {
         "hovertemplate": "trackName=Volver Al Futuro<br>date=%{x}<br>position=%{y}<extra></extra>",
         "legendgroup": "Volver Al Futuro",
         "line": {
          "color": "#FECB52",
          "dash": "solid"
         },
         "marker": {
          "symbol": "circle"
         },
         "mode": "lines",
         "name": "Volver Al Futuro",
         "showlegend": true,
         "type": "scattergl",
         "x": [
          "2024-06-08",
          "2024-06-10",
          "2024-06-11"
         ],
         "xaxis": "x",
         "y": [
          45,
          42,
          49
         ],
         "yaxis": "y"
        },
        {
         "hovertemplate": "trackName=Please Please Please<br>date=%{x}<br>position=%{y}<extra></extra>",
         "legendgroup": "Please Please Please",
         "line": {
          "color": "#636efa",
          "dash": "solid"
         },
         "marker": {
          "symbol": "circle"
         },
         "mode": "lines",
         "name": "Please Please Please",
         "showlegend": true,
         "type": "scattergl",
         "x": [
          "2024-06-09",
          "2024-06-10",
          "2024-06-11"
         ],
         "xaxis": "x",
         "y": [
          9,
          6,
          3
         ],
         "yaxis": "y"
        },
        {
         "hovertemplate": "trackName=Never Let Go<br>date=%{x}<br>position=%{y}<extra></extra>",
         "legendgroup": "Never Let Go",
         "line": {
          "color": "#EF553B",
          "dash": "solid"
         },
         "marker": {
          "symbol": "circle"
         },
         "mode": "lines",
         "name": "Never Let Go",
         "showlegend": true,
         "type": "scattergl",
         "x": [
          "2024-06-09",
          "2024-06-10",
          "2024-06-11"
         ],
         "xaxis": "x",
         "y": [
          14,
          21,
          21
         ],
         "yaxis": "y"
        },
        {
         "hovertemplate": "trackName=Seven (feat. Latto) (Explicit Ver.)<br>date=%{x}<br>position=%{y}<extra></extra>",
         "legendgroup": "Seven (feat. Latto) (Explicit Ver.)",
         "line": {
          "color": "#00cc96",
          "dash": "solid"
         },
         "marker": {
          "symbol": "circle"
         },
         "mode": "lines",
         "name": "Seven (feat. Latto) (Explicit Ver.)",
         "showlegend": true,
         "type": "scattergl",
         "x": [
          "2024-06-09",
          "2024-06-10",
          "2024-06-11"
         ],
         "xaxis": "x",
         "y": [
          34,
          40,
          34
         ],
         "yaxis": "y"
        },
        {
         "hovertemplate": "trackName=Close To You<br>date=%{x}<br>position=%{y}<extra></extra>",
         "legendgroup": "Close To You",
         "line": {
          "color": "#ab63fa",
          "dash": "solid"
         },
         "marker": {
          "symbol": "circle"
         },
         "mode": "lines",
         "name": "Close To You",
         "showlegend": true,
         "type": "scattergl",
         "x": [
          "2024-06-09"
         ],
         "xaxis": "x",
         "y": [
          41
         ],
         "yaxis": "y"
        },
        {
         "hovertemplate": "trackName=Standing Next to You<br>date=%{x}<br>position=%{y}<extra></extra>",
         "legendgroup": "Standing Next to You",
         "line": {
          "color": "#FFA15A",
          "dash": "solid"
         },
         "marker": {
          "symbol": "circle"
         },
         "mode": "lines",
         "name": "Standing Next to You",
         "showlegend": true,
         "type": "scattergl",
         "x": [
          "2024-06-09"
         ],
         "xaxis": "x",
         "y": [
          42
         ],
         "yaxis": "y"
        },
        {
         "hovertemplate": "trackName=REAL GANGSTA LOVE<br>date=%{x}<br>position=%{y}<extra></extra>",
         "legendgroup": "REAL GANGSTA LOVE",
         "line": {
          "color": "#19d3f3",
          "dash": "solid"
         },
         "marker": {
          "symbol": "circle"
         },
         "mode": "lines",
         "name": "REAL GANGSTA LOVE",
         "showlegend": true,
         "type": "scattergl",
         "x": [
          "2024-06-09",
          "2024-06-10",
          "2024-06-11"
         ],
         "xaxis": "x",
         "y": [
          45,
          35,
          32
         ],
         "yaxis": "y"
        },
        {
         "hovertemplate": "trackName=Like Crazy<br>date=%{x}<br>position=%{y}<extra></extra>",
         "legendgroup": "Like Crazy",
         "line": {
          "color": "#FF6692",
          "dash": "solid"
         },
         "marker": {
          "symbol": "circle"
         },
         "mode": "lines",
         "name": "Like Crazy",
         "showlegend": true,
         "type": "scattergl",
         "x": [
          "2024-06-11"
         ],
         "xaxis": "x",
         "y": [
          44
         ],
         "yaxis": "y"
        }
       ],
       "layout": {
        "height": 800,
        "legend": {
         "title": {
          "text": "trackName"
         },
         "tracegroupgap": 0
        },
        "template": {
         "data": {
          "bar": [
           {
            "error_x": {
             "color": "#2a3f5f"
            },
            "error_y": {
             "color": "#2a3f5f"
            },
            "marker": {
             "line": {
              "color": "#E5ECF6",
              "width": 0.5
             },
             "pattern": {
              "fillmode": "overlay",
              "size": 10,
              "solidity": 0.2
             }
            },
            "type": "bar"
           }
          ],
          "barpolar": [
           {
            "marker": {
             "line": {
              "color": "#E5ECF6",
              "width": 0.5
             },
             "pattern": {
              "fillmode": "overlay",
              "size": 10,
              "solidity": 0.2
             }
            },
            "type": "barpolar"
           }
          ],
          "carpet": [
           {
            "aaxis": {
             "endlinecolor": "#2a3f5f",
             "gridcolor": "white",
             "linecolor": "white",
             "minorgridcolor": "white",
             "startlinecolor": "#2a3f5f"
            },
            "baxis": {
             "endlinecolor": "#2a3f5f",
             "gridcolor": "white",
             "linecolor": "white",
             "minorgridcolor": "white",
             "startlinecolor": "#2a3f5f"
            },
            "type": "carpet"
           }
          ],
          "choropleth": [
           {
            "colorbar": {
             "outlinewidth": 0,
             "ticks": ""
            },
            "type": "choropleth"
           }
          ],
          "contour": [
           {
            "colorbar": {
             "outlinewidth": 0,
             "ticks": ""
            },
            "colorscale": [
             [
              0,
              "#0d0887"
             ],
             [
              0.1111111111111111,
              "#46039f"
             ],
             [
              0.2222222222222222,
              "#7201a8"
             ],
             [
              0.3333333333333333,
              "#9c179e"
             ],
             [
              0.4444444444444444,
              "#bd3786"
             ],
             [
              0.5555555555555556,
              "#d8576b"
             ],
             [
              0.6666666666666666,
              "#ed7953"
             ],
             [
              0.7777777777777778,
              "#fb9f3a"
             ],
             [
              0.8888888888888888,
              "#fdca26"
             ],
             [
              1,
              "#f0f921"
             ]
            ],
            "type": "contour"
           }
          ],
          "contourcarpet": [
           {
            "colorbar": {
             "outlinewidth": 0,
             "ticks": ""
            },
            "type": "contourcarpet"
           }
          ],
          "heatmap": [
           {
            "colorbar": {
             "outlinewidth": 0,
             "ticks": ""
            },
            "colorscale": [
             [
              0,
              "#0d0887"
             ],
             [
              0.1111111111111111,
              "#46039f"
             ],
             [
              0.2222222222222222,
              "#7201a8"
             ],
             [
              0.3333333333333333,
              "#9c179e"
             ],
             [
              0.4444444444444444,
              "#bd3786"
             ],
             [
              0.5555555555555556,
              "#d8576b"
             ],
             [
              0.6666666666666666,
              "#ed7953"
             ],
             [
              0.7777777777777778,
              "#fb9f3a"
             ],
             [
              0.8888888888888888,
              "#fdca26"
             ],
             [
              1,
              "#f0f921"
             ]
            ],
            "type": "heatmap"
           }
          ],
          "heatmapgl": [
           {
            "colorbar": {
             "outlinewidth": 0,
             "ticks": ""
            },
            "colorscale": [
             [
              0,
              "#0d0887"
             ],
             [
              0.1111111111111111,
              "#46039f"
             ],
             [
              0.2222222222222222,
              "#7201a8"
             ],
             [
              0.3333333333333333,
              "#9c179e"
             ],
             [
              0.4444444444444444,
              "#bd3786"
             ],
             [
              0.5555555555555556,
              "#d8576b"
             ],
             [
              0.6666666666666666,
              "#ed7953"
             ],
             [
              0.7777777777777778,
              "#fb9f3a"
             ],
             [
              0.8888888888888888,
              "#fdca26"
             ],
             [
              1,
              "#f0f921"
             ]
            ],
            "type": "heatmapgl"
           }
          ],
          "histogram": [
           {
            "marker": {
             "pattern": {
              "fillmode": "overlay",
              "size": 10,
              "solidity": 0.2
             }
            },
            "type": "histogram"
           }
          ],
          "histogram2d": [
           {
            "colorbar": {
             "outlinewidth": 0,
             "ticks": ""
            },
            "colorscale": [
             [
              0,
              "#0d0887"
             ],
             [
              0.1111111111111111,
              "#46039f"
             ],
             [
              0.2222222222222222,
              "#7201a8"
             ],
             [
              0.3333333333333333,
              "#9c179e"
             ],
             [
              0.4444444444444444,
              "#bd3786"
             ],
             [
              0.5555555555555556,
              "#d8576b"
             ],
             [
              0.6666666666666666,
              "#ed7953"
             ],
             [
              0.7777777777777778,
              "#fb9f3a"
             ],
             [
              0.8888888888888888,
              "#fdca26"
             ],
             [
              1,
              "#f0f921"
             ]
            ],
            "type": "histogram2d"
           }
          ],
          "histogram2dcontour": [
           {
            "colorbar": {
             "outlinewidth": 0,
             "ticks": ""
            },
            "colorscale": [
             [
              0,
              "#0d0887"
             ],
             [
              0.1111111111111111,
              "#46039f"
             ],
             [
              0.2222222222222222,
              "#7201a8"
             ],
             [
              0.3333333333333333,
              "#9c179e"
             ],
             [
              0.4444444444444444,
              "#bd3786"
             ],
             [
              0.5555555555555556,
              "#d8576b"
             ],
             [
              0.6666666666666666,
              "#ed7953"
             ],
             [
              0.7777777777777778,
              "#fb9f3a"
             ],
             [
              0.8888888888888888,
              "#fdca26"
             ],
             [
              1,
              "#f0f921"
             ]
            ],
            "type": "histogram2dcontour"
           }
          ],
          "mesh3d": [
           {
            "colorbar": {
             "outlinewidth": 0,
             "ticks": ""
            },
            "type": "mesh3d"
           }
          ],
          "parcoords": [
           {
            "line": {
             "colorbar": {
              "outlinewidth": 0,
              "ticks": ""
             }
            },
            "type": "parcoords"
           }
          ],
          "pie": [
           {
            "automargin": true,
            "type": "pie"
           }
          ],
          "scatter": [
           {
            "fillpattern": {
             "fillmode": "overlay",
             "size": 10,
             "solidity": 0.2
            },
            "type": "scatter"
           }
          ],
          "scatter3d": [
           {
            "line": {
             "colorbar": {
              "outlinewidth": 0,
              "ticks": ""
             }
            },
            "marker": {
             "colorbar": {
              "outlinewidth": 0,
              "ticks": ""
             }
            },
            "type": "scatter3d"
           }
          ],
          "scattercarpet": [
           {
            "marker": {
             "colorbar": {
              "outlinewidth": 0,
              "ticks": ""
             }
            },
            "type": "scattercarpet"
           }
          ],
          "scattergeo": [
           {
            "marker": {
             "colorbar": {
              "outlinewidth": 0,
              "ticks": ""
             }
            },
            "type": "scattergeo"
           }
          ],
          "scattergl": [
           {
            "marker": {
             "colorbar": {
              "outlinewidth": 0,
              "ticks": ""
             }
            },
            "type": "scattergl"
           }
          ],
          "scattermapbox": [
           {
            "marker": {
             "colorbar": {
              "outlinewidth": 0,
              "ticks": ""
             }
            },
            "type": "scattermapbox"
           }
          ],
          "scatterpolar": [
           {
            "marker": {
             "colorbar": {
              "outlinewidth": 0,
              "ticks": ""
             }
            },
            "type": "scatterpolar"
           }
          ],
          "scatterpolargl": [
           {
            "marker": {
             "colorbar": {
              "outlinewidth": 0,
              "ticks": ""
             }
            },
            "type": "scatterpolargl"
           }
          ],
          "scatterternary": [
           {
            "marker": {
             "colorbar": {
              "outlinewidth": 0,
              "ticks": ""
             }
            },
            "type": "scatterternary"
           }
          ],
          "surface": [
           {
            "colorbar": {
             "outlinewidth": 0,
             "ticks": ""
            },
            "colorscale": [
             [
              0,
              "#0d0887"
             ],
             [
              0.1111111111111111,
              "#46039f"
             ],
             [
              0.2222222222222222,
              "#7201a8"
             ],
             [
              0.3333333333333333,
              "#9c179e"
             ],
             [
              0.4444444444444444,
              "#bd3786"
             ],
             [
              0.5555555555555556,
              "#d8576b"
             ],
             [
              0.6666666666666666,
              "#ed7953"
             ],
             [
              0.7777777777777778,
              "#fb9f3a"
             ],
             [
              0.8888888888888888,
              "#fdca26"
             ],
             [
              1,
              "#f0f921"
             ]
            ],
            "type": "surface"
           }
          ],
          "table": [
           {
            "cells": {
             "fill": {
              "color": "#EBF0F8"
             },
             "line": {
              "color": "white"
             }
            },
            "header": {
             "fill": {
              "color": "#C8D4E3"
             },
             "line": {
              "color": "white"
             }
            },
            "type": "table"
           }
          ]
         },
         "layout": {
          "annotationdefaults": {
           "arrowcolor": "#2a3f5f",
           "arrowhead": 0,
           "arrowwidth": 1
          },
          "autotypenumbers": "strict",
          "coloraxis": {
           "colorbar": {
            "outlinewidth": 0,
            "ticks": ""
           }
          },
          "colorscale": {
           "diverging": [
            [
             0,
             "#8e0152"
            ],
            [
             0.1,
             "#c51b7d"
            ],
            [
             0.2,
             "#de77ae"
            ],
            [
             0.3,
             "#f1b6da"
            ],
            [
             0.4,
             "#fde0ef"
            ],
            [
             0.5,
             "#f7f7f7"
            ],
            [
             0.6,
             "#e6f5d0"
            ],
            [
             0.7,
             "#b8e186"
            ],
            [
             0.8,
             "#7fbc41"
            ],
            [
             0.9,
             "#4d9221"
            ],
            [
             1,
             "#276419"
            ]
           ],
           "sequential": [
            [
             0,
             "#0d0887"
            ],
            [
             0.1111111111111111,
             "#46039f"
            ],
            [
             0.2222222222222222,
             "#7201a8"
            ],
            [
             0.3333333333333333,
             "#9c179e"
            ],
            [
             0.4444444444444444,
             "#bd3786"
            ],
            [
             0.5555555555555556,
             "#d8576b"
            ],
            [
             0.6666666666666666,
             "#ed7953"
            ],
            [
             0.7777777777777778,
             "#fb9f3a"
            ],
            [
             0.8888888888888888,
             "#fdca26"
            ],
            [
             1,
             "#f0f921"
            ]
           ],
           "sequentialminus": [
            [
             0,
             "#0d0887"
            ],
            [
             0.1111111111111111,
             "#46039f"
            ],
            [
             0.2222222222222222,
             "#7201a8"
            ],
            [
             0.3333333333333333,
             "#9c179e"
            ],
            [
             0.4444444444444444,
             "#bd3786"
            ],
            [
             0.5555555555555556,
             "#d8576b"
            ],
            [
             0.6666666666666666,
             "#ed7953"
            ],
            [
             0.7777777777777778,
             "#fb9f3a"
            ],
            [
             0.8888888888888888,
             "#fdca26"
            ],
            [
             1,
             "#f0f921"
            ]
           ]
          },
          "colorway": [
           "#636efa",
           "#EF553B",
           "#00cc96",
           "#ab63fa",
           "#FFA15A",
           "#19d3f3",
           "#FF6692",
           "#B6E880",
           "#FF97FF",
           "#FECB52"
          ],
          "font": {
           "color": "#2a3f5f"
          },
          "geo": {
           "bgcolor": "white",
           "lakecolor": "white",
           "landcolor": "#E5ECF6",
           "showlakes": true,
           "showland": true,
           "subunitcolor": "white"
          },
          "hoverlabel": {
           "align": "left"
          },
          "hovermode": "closest",
          "mapbox": {
           "style": "light"
          },
          "paper_bgcolor": "white",
          "plot_bgcolor": "#E5ECF6",
          "polar": {
           "angularaxis": {
            "gridcolor": "white",
            "linecolor": "white",
            "ticks": ""
           },
           "bgcolor": "#E5ECF6",
           "radialaxis": {
            "gridcolor": "white",
            "linecolor": "white",
            "ticks": ""
           }
          },
          "scene": {
           "xaxis": {
            "backgroundcolor": "#E5ECF6",
            "gridcolor": "white",
            "gridwidth": 2,
            "linecolor": "white",
            "showbackground": true,
            "ticks": "",
            "zerolinecolor": "white"
           },
           "yaxis": {
            "backgroundcolor": "#E5ECF6",
            "gridcolor": "white",
            "gridwidth": 2,
            "linecolor": "white",
            "showbackground": true,
            "ticks": "",
            "zerolinecolor": "white"
           },
           "zaxis": {
            "backgroundcolor": "#E5ECF6",
            "gridcolor": "white",
            "gridwidth": 2,
            "linecolor": "white",
            "showbackground": true,
            "ticks": "",
            "zerolinecolor": "white"
           }
          },
          "shapedefaults": {
           "line": {
            "color": "#2a3f5f"
           }
          },
          "ternary": {
           "aaxis": {
            "gridcolor": "white",
            "linecolor": "white",
            "ticks": ""
           },
           "baxis": {
            "gridcolor": "white",
            "linecolor": "white",
            "ticks": ""
           },
           "bgcolor": "#E5ECF6",
           "caxis": {
            "gridcolor": "white",
            "linecolor": "white",
            "ticks": ""
           }
          },
          "title": {
           "x": 0.05
          },
          "xaxis": {
           "automargin": true,
           "gridcolor": "white",
           "linecolor": "white",
           "ticks": "",
           "title": {
            "standoff": 15
           },
           "zerolinecolor": "white",
           "zerolinewidth": 2
          },
          "yaxis": {
           "automargin": true,
           "gridcolor": "white",
           "linecolor": "white",
           "ticks": "",
           "title": {
            "standoff": 15
           },
           "zerolinecolor": "white",
           "zerolinewidth": 2
          }
         }
        },
        "title": {
         "text": "Evolución temporal de la posición en la lista"
        },
        "xaxis": {
         "anchor": "y",
         "domain": [
          0,
          1
         ],
         "title": {
          "text": "date"
         }
        },
        "yaxis": {
         "anchor": "x",
         "autorange": "reversed",
         "domain": [
          0,
          1
         ],
         "title": {
          "text": "position"
         }
        }
       }
      }
     },
     "metadata": {},
     "output_type": "display_data"
    }
   ],
   "source": [
    "import plotly.express as px\n",
    "\n",
    "# Ordena el dataframe por 'date' y 'position'\n",
    "spotify_df.sort_values(['date', 'position'], inplace=True)\n",
    "\n",
    "# Selecciona los 5 tracks más populares de cada día\n",
    "df_populares = spotify_df.groupby('date').head(5)\n",
    "\n",
    "# Obtiene los nombres de los tracks más populares\n",
    "tracks_populares = df_populares['trackName'].unique()\n",
    "\n",
    "# Filtra el dataframe original para incluir solo los tracks más populares\n",
    "df_filtrado = spotify_df[spotify_df['trackName'].isin(tracks_populares)]\n",
    "\n",
    "# Crea el gráfico de líneas\n",
    "fig = px.line(df_filtrado, x='date', y='position', color='trackName', title='Evolución temporal de la posición en la lista')\n",
    "\n",
    "# Invierte el eje y para que la posición 1 aparezca en la parte superior\n",
    "fig.update_yaxes(autorange=\"reversed\")\n",
    "\n",
    "fig.show()\n",
    "\n",
    "fig = px.line(spotify_df, x='date', y='position', color='trackName', title='Evolución temporal de la posición en la lista')\n",
    "\n",
    "# Invierte el eje y para que la posición 1 aparezca en la parte superior\n",
    "fig.update_yaxes(autorange=\"reversed\")\n",
    "\n",
    "fig.update_layout(height=800)\n",
    "\n",
    "fig.show()"
   ]
  },
  {
   "cell_type": "code",
   "execution_count": 15,
   "id": "f41e11ae-5cbe-4077-9e00-08029dcdcf61",
   "metadata": {},
   "outputs": [
    {
     "data": {
      "text/html": [
       "<div>\n",
       "<style scoped>\n",
       "    .dataframe tbody tr th:only-of-type {\n",
       "        vertical-align: middle;\n",
       "    }\n",
       "\n",
       "    .dataframe tbody tr th {\n",
       "        vertical-align: top;\n",
       "    }\n",
       "\n",
       "    .dataframe thead th {\n",
       "        text-align: right;\n",
       "    }\n",
       "</style>\n",
       "<table border=\"1\" class=\"dataframe\">\n",
       "  <thead>\n",
       "    <tr style=\"text-align: right;\">\n",
       "      <th></th>\n",
       "      <th>position</th>\n",
       "      <th>title</th>\n",
       "      <th>id</th>\n",
       "      <th>user</th>\n",
       "      <th>views</th>\n",
       "      <th>likes</th>\n",
       "      <th>comments</th>\n",
       "      <th>original_music</th>\n",
       "      <th>musicTitle</th>\n",
       "      <th>musicId</th>\n",
       "      <th>date</th>\n",
       "      <th>trackName</th>\n",
       "      <th>artists</th>\n",
       "    </tr>\n",
       "  </thead>\n",
       "  <tbody>\n",
       "    <tr>\n",
       "      <th>0</th>\n",
       "      <td>1</td>\n",
       "      <td>Get it Sexxxyyyyyy. Get your fav shade of tins...</td>\n",
       "      <td>7351210572395941166</td>\n",
       "      <td>.melimuah</td>\n",
       "      <td>6100000</td>\n",
       "      <td>968400</td>\n",
       "      <td>2374</td>\n",
       "      <td>False</td>\n",
       "      <td>Get It Sexyy</td>\n",
       "      <td>7342660098194148138</td>\n",
       "      <td>2024-05-16</td>\n",
       "      <td>My10</td>\n",
       "      <td>Cobra93</td>\n",
       "    </tr>\n",
       "    <tr>\n",
       "      <th>1</th>\n",
       "      <td>2</td>\n",
       "      <td>zawg and shlawg lookin spiffyð£ï¸ð£ï¸ð...</td>\n",
       "      <td>7343990419706973482</td>\n",
       "      <td>reillyd543</td>\n",
       "      <td>182500000</td>\n",
       "      <td>25800000</td>\n",
       "      <td>149300</td>\n",
       "      <td>True</td>\n",
       "      <td>som original</td>\n",
       "      <td>7325658348771085062</td>\n",
       "      <td>2024-05-16</td>\n",
       "      <td>FE!N (feat. Playboi Carti)</td>\n",
       "      <td>Travis Scott</td>\n",
       "    </tr>\n",
       "    <tr>\n",
       "      <th>2</th>\n",
       "      <td>3</td>\n",
       "      <td>#funny #fyp #funnyclips</td>\n",
       "      <td>7352907090454711594</td>\n",
       "      <td>noname12345_999</td>\n",
       "      <td>10500000</td>\n",
       "      <td>1300000</td>\n",
       "      <td>1914</td>\n",
       "      <td>True</td>\n",
       "      <td>original sound</td>\n",
       "      <td>7352907151054031658</td>\n",
       "      <td>2024-05-16</td>\n",
       "      <td>My12</td>\n",
       "      <td>Cobra93</td>\n",
       "    </tr>\n",
       "    <tr>\n",
       "      <th>3</th>\n",
       "      <td>4</td>\n",
       "      <td>NaN</td>\n",
       "      <td>7348596729219910958</td>\n",
       "      <td>sophieraiin</td>\n",
       "      <td>7400000</td>\n",
       "      <td>777000</td>\n",
       "      <td>1393</td>\n",
       "      <td>True</td>\n",
       "      <td>fairy by 9lives</td>\n",
       "      <td>7202284315567229738</td>\n",
       "      <td>2024-05-16</td>\n",
       "      <td>Fairy</td>\n",
       "      <td>9lives</td>\n",
       "    </tr>\n",
       "    <tr>\n",
       "      <th>4</th>\n",
       "      <td>6</td>\n",
       "      <td>hes so cuteð­ #jungwon #enhypen</td>\n",
       "      <td>7349505694560734507</td>\n",
       "      <td>sunsville</td>\n",
       "      <td>2200000</td>\n",
       "      <td>599200</td>\n",
       "      <td>1383</td>\n",
       "      <td>True</td>\n",
       "      <td>POKÃDANCE</td>\n",
       "      <td>7340149884072577794</td>\n",
       "      <td>2024-05-16</td>\n",
       "      <td>POKÃDANCE</td>\n",
       "      <td>Nanahira &amp; Yuki Honda</td>\n",
       "    </tr>\n",
       "    <tr>\n",
       "      <th>5</th>\n",
       "      <td>7</td>\n",
       "      <td>Drunk @Joshua Block on the LIRR Train. @michae...</td>\n",
       "      <td>7353133172940426538</td>\n",
       "      <td>elleasiaxxx</td>\n",
       "      <td>25300000</td>\n",
       "      <td>2000000</td>\n",
       "      <td>12600</td>\n",
       "      <td>True</td>\n",
       "      <td>original sound</td>\n",
       "      <td>7090314630605589290</td>\n",
       "      <td>2024-05-16</td>\n",
       "      <td>My7</td>\n",
       "      <td>Cobra93</td>\n",
       "    </tr>\n",
       "    <tr>\n",
       "      <th>6</th>\n",
       "      <td>11</td>\n",
       "      <td>Hahaha</td>\n",
       "      <td>7345917177108647199</td>\n",
       "      <td>selfcare.with.kayla</td>\n",
       "      <td>1800000</td>\n",
       "      <td>87500</td>\n",
       "      <td>1364</td>\n",
       "      <td>True</td>\n",
       "      <td>original sound</td>\n",
       "      <td>7218652419135179526</td>\n",
       "      <td>2024-05-16</td>\n",
       "      <td>Hold My Hand</td>\n",
       "      <td>Jess Glynne</td>\n",
       "    </tr>\n",
       "    <tr>\n",
       "      <th>7</th>\n",
       "      <td>13</td>\n",
       "      <td>We in this FOREVER ð¤ #capcut #marriage #min...</td>\n",
       "      <td>7359022869583564078</td>\n",
       "      <td>tiffanyabbott3</td>\n",
       "      <td>8900000</td>\n",
       "      <td>897000</td>\n",
       "      <td>5423</td>\n",
       "      <td>True</td>\n",
       "      <td>original sound</td>\n",
       "      <td>7359022910894623534</td>\n",
       "      <td>2024-05-16</td>\n",
       "      <td>Under The Influence</td>\n",
       "      <td>Chris Brown</td>\n",
       "    </tr>\n",
       "    <tr>\n",
       "      <th>8</th>\n",
       "      <td>14</td>\n",
       "      <td>#foryoupage ðmy teacher @ the end</td>\n",
       "      <td>7341080338803821866</td>\n",
       "      <td>tbhcacagirl</td>\n",
       "      <td>20000000</td>\n",
       "      <td>3100000</td>\n",
       "      <td>14900</td>\n",
       "      <td>True</td>\n",
       "      <td>tokold on all plats</td>\n",
       "      <td>7316997965082741547</td>\n",
       "      <td>2024-05-16</td>\n",
       "      <td>How To Press a Pill</td>\n",
       "      <td>Punchmade Dev</td>\n",
       "    </tr>\n",
       "    <tr>\n",
       "      <th>9</th>\n",
       "      <td>15</td>\n",
       "      <td>Still too baggy . ð | ð¥ IG: @ZYNPHHR | #...</td>\n",
       "      <td>7337514578223435050</td>\n",
       "      <td>zynphhr</td>\n",
       "      <td>42100000</td>\n",
       "      <td>5500000</td>\n",
       "      <td>57500</td>\n",
       "      <td>True</td>\n",
       "      <td>What are you doing man</td>\n",
       "      <td>7306948811430398753</td>\n",
       "      <td>2024-05-16</td>\n",
       "      <td>What Are You Doing Man</td>\n",
       "      <td>Omar Mosseri</td>\n",
       "    </tr>\n",
       "  </tbody>\n",
       "</table>\n",
       "</div>"
      ],
      "text/plain": [
       "   position                                              title  \\\n",
       "0         1  Get it Sexxxyyyyyy. Get your fav shade of tins...   \n",
       "1         2  zawg and shlawg lookin spiffyð£ï¸ð£ï¸ð...   \n",
       "2         3                           #funny #fyp #funnyclips    \n",
       "3         4                                                NaN   \n",
       "4         6                 hes so cuteð­ #jungwon #enhypen    \n",
       "5         7  Drunk @Joshua Block on the LIRR Train. @michae...   \n",
       "6        11                                            Hahaha    \n",
       "7        13  We in this FOREVER ð¤ #capcut #marriage #min...   \n",
       "8        14               #foryoupage ðmy teacher @ the end   \n",
       "9        15  Still too baggy . ð | ð¥ IG: @ZYNPHHR | #...   \n",
       "\n",
       "                    id                 user      views     likes  comments  \\\n",
       "0  7351210572395941166            .melimuah    6100000    968400      2374   \n",
       "1  7343990419706973482           reillyd543  182500000  25800000    149300   \n",
       "2  7352907090454711594      noname12345_999   10500000   1300000      1914   \n",
       "3  7348596729219910958          sophieraiin    7400000    777000      1393   \n",
       "4  7349505694560734507            sunsville    2200000    599200      1383   \n",
       "5  7353133172940426538          elleasiaxxx   25300000   2000000     12600   \n",
       "6  7345917177108647199  selfcare.with.kayla    1800000     87500      1364   \n",
       "7  7359022869583564078       tiffanyabbott3    8900000    897000      5423   \n",
       "8  7341080338803821866          tbhcacagirl   20000000   3100000     14900   \n",
       "9  7337514578223435050              zynphhr   42100000   5500000     57500   \n",
       "\n",
       "   original_music              musicTitle              musicId        date  \\\n",
       "0           False            Get It Sexyy  7342660098194148138  2024-05-16   \n",
       "1            True            som original  7325658348771085062  2024-05-16   \n",
       "2            True          original sound  7352907151054031658  2024-05-16   \n",
       "3            True         fairy by 9lives  7202284315567229738  2024-05-16   \n",
       "4            True              POKÃDANCE  7340149884072577794  2024-05-16   \n",
       "5            True          original sound  7090314630605589290  2024-05-16   \n",
       "6            True          original sound  7218652419135179526  2024-05-16   \n",
       "7            True          original sound  7359022910894623534  2024-05-16   \n",
       "8            True     tokold on all plats  7316997965082741547  2024-05-16   \n",
       "9            True  What are you doing man  7306948811430398753  2024-05-16   \n",
       "\n",
       "                    trackName                artists  \n",
       "0                        My10                Cobra93  \n",
       "1  FE!N (feat. Playboi Carti)           Travis Scott  \n",
       "2                        My12                Cobra93  \n",
       "3                       Fairy                 9lives  \n",
       "4                  POKÃDANCE  Nanahira & Yuki Honda  \n",
       "5                         My7                Cobra93  \n",
       "6                Hold My Hand            Jess Glynne  \n",
       "7         Under The Influence            Chris Brown  \n",
       "8         How To Press a Pill          Punchmade Dev  \n",
       "9      What Are You Doing Man           Omar Mosseri  "
      ]
     },
     "execution_count": 15,
     "metadata": {},
     "output_type": "execute_result"
    }
   ],
   "source": [
    "shazam_df_fixed = shazam_df.drop_duplicates()\n",
    "tiktok_df_fixed = tiktok_df.drop_duplicates()\n",
    "\n",
    "spotifyshazam_df = pd.merge(tiktok_df_fixed, shazam_df_fixed, on='musicId', how='inner')\n",
    "\n",
    "spotifyshazam_df.head(10)"
   ]
  },
  {
   "cell_type": "code",
   "execution_count": 16,
   "id": "fd189adb",
   "metadata": {},
   "outputs": [
    {
     "data": {
      "application/vnd.plotly.v1+json": {
       "config": {
        "plotlyServerURL": "https://plot.ly"
       },
       "data": [
        {
         "hovertemplate": "trackName=20 Min<br>date=%{x}<br>views=%{y}<extra></extra>",
         "legendgroup": "20 Min",
         "line": {
          "color": "#636efa",
          "dash": "solid"
         },
         "marker": {
          "symbol": "circle"
         },
         "mode": "lines+markers",
         "name": "20 Min",
         "showlegend": true,
         "type": "scattergl",
         "x": [
          "2024-05-16"
         ],
         "xaxis": "x",
         "y": [
          4300000
         ],
         "yaxis": "y"
        },
        {
         "hovertemplate": "trackName=A Bird's Last Look<br>date=%{x}<br>views=%{y}<extra></extra>",
         "legendgroup": "A Bird's Last Look",
         "line": {
          "color": "#EF553B",
          "dash": "solid"
         },
         "marker": {
          "symbol": "circle"
         },
         "mode": "lines+markers",
         "name": "A Bird's Last Look",
         "showlegend": true,
         "type": "scattergl",
         "x": [
          "2024-05-16",
          "2024-05-17",
          "2024-05-18",
          "2024-05-19",
          "2024-05-20"
         ],
         "xaxis": "x",
         "y": [
          72000000,
          144200000,
          144400000,
          144800000,
          217800000
         ],
         "yaxis": "y"
        },
        {
         "hovertemplate": "trackName=BOOGIEMAN CULT<br>date=%{x}<br>views=%{y}<extra></extra>",
         "legendgroup": "BOOGIEMAN CULT",
         "line": {
          "color": "#00cc96",
          "dash": "solid"
         },
         "marker": {
          "symbol": "circle"
         },
         "mode": "lines+markers",
         "name": "BOOGIEMAN CULT",
         "showlegend": true,
         "type": "scattergl",
         "x": [
          "2024-05-16"
         ],
         "xaxis": "x",
         "y": [
          14100000
         ],
         "yaxis": "y"
        },
        {
         "hovertemplate": "trackName=Bonfire<br>date=%{x}<br>views=%{y}<extra></extra>",
         "legendgroup": "Bonfire",
         "line": {
          "color": "#ab63fa",
          "dash": "solid"
         },
         "marker": {
          "symbol": "circle"
         },
         "mode": "lines+markers",
         "name": "Bonfire",
         "showlegend": true,
         "type": "scattergl",
         "x": [
          "2024-05-16",
          "2024-05-17",
          "2024-06-03",
          "2024-06-04"
         ],
         "xaxis": "x",
         "y": [
          18900000,
          19000000,
          20200000,
          20400000
         ],
         "yaxis": "y"
        },
        {
         "hovertemplate": "trackName=CARNIVAL (feat. Playboi Carti)<br>date=%{x}<br>views=%{y}<extra></extra>",
         "legendgroup": "CARNIVAL (feat. Playboi Carti)",
         "line": {
          "color": "#FFA15A",
          "dash": "solid"
         },
         "marker": {
          "symbol": "circle"
         },
         "mode": "lines+markers",
         "name": "CARNIVAL (feat. Playboi Carti)",
         "showlegend": true,
         "type": "scattergl",
         "x": [
          "2024-05-16",
          "2024-05-17",
          "2024-05-21"
         ],
         "xaxis": "x",
         "y": [
          1100000,
          1200000,
          5100000
         ],
         "yaxis": "y"
        },
        {
         "hovertemplate": "trackName=CPU Love<br>date=%{x}<br>views=%{y}<extra></extra>",
         "legendgroup": "CPU Love",
         "line": {
          "color": "#19d3f3",
          "dash": "solid"
         },
         "marker": {
          "symbol": "circle"
         },
         "mode": "lines+markers",
         "name": "CPU Love",
         "showlegend": true,
         "type": "scattergl",
         "x": [
          "2024-05-16"
         ],
         "xaxis": "x",
         "y": [
          36500000
         ],
         "yaxis": "y"
        },
        {
         "hovertemplate": "trackName=Donât Take Step<br>date=%{x}<br>views=%{y}<extra></extra>",
         "legendgroup": "Donât Take Step",
         "line": {
          "color": "#FF6692",
          "dash": "solid"
         },
         "marker": {
          "symbol": "circle"
         },
         "mode": "lines+markers",
         "name": "Donât Take Step",
         "showlegend": true,
         "type": "scattergl",
         "x": [
          "2024-05-16"
         ],
         "xaxis": "x",
         "y": [
          14200000
         ],
         "yaxis": "y"
        },
        {
         "hovertemplate": "trackName=DÆ°á»i QuÃª Vui HÆ¡n<br>date=%{x}<br>views=%{y}<extra></extra>",
         "legendgroup": "DÆ°á»i QuÃª Vui HÆ¡n",
         "line": {
          "color": "#B6E880",
          "dash": "solid"
         },
         "marker": {
          "symbol": "circle"
         },
         "mode": "lines+markers",
         "name": "DÆ°á»i QuÃª Vui HÆ¡n",
         "showlegend": true,
         "type": "scattergl",
         "x": [
          "2024-05-16",
          "2024-05-21"
         ],
         "xaxis": "x",
         "y": [
          22100000,
          22200000
         ],
         "yaxis": "y"
        },
        {
         "hovertemplate": "trackName=End of Beginning<br>date=%{x}<br>views=%{y}<extra></extra>",
         "legendgroup": "End of Beginning",
         "line": {
          "color": "#FF97FF",
          "dash": "solid"
         },
         "marker": {
          "symbol": "circle"
         },
         "mode": "lines+markers",
         "name": "End of Beginning",
         "showlegend": true,
         "type": "scattergl",
         "x": [
          "2024-05-16",
          "2024-06-10"
         ],
         "xaxis": "x",
         "y": [
          39300000,
          5100000
         ],
         "yaxis": "y"
        },
        {
         "hovertemplate": "trackName=FE!N (feat. Playboi Carti)<br>date=%{x}<br>views=%{y}<extra></extra>",
         "legendgroup": "FE!N (feat. Playboi Carti)",
         "line": {
          "color": "#FECB52",
          "dash": "solid"
         },
         "marker": {
          "symbol": "circle"
         },
         "mode": "lines+markers",
         "name": "FE!N (feat. Playboi Carti)",
         "showlegend": true,
         "type": "scattergl",
         "x": [
          "2024-05-16",
          "2024-05-17",
          "2024-05-18",
          "2024-05-21",
          "2024-05-25",
          "2024-05-26"
         ],
         "xaxis": "x",
         "y": [
          365000000,
          7600000,
          8100000,
          191000000,
          5500000,
          11000000
         ],
         "yaxis": "y"
        },
        {
         "hovertemplate": "trackName=Face Value<br>date=%{x}<br>views=%{y}<extra></extra>",
         "legendgroup": "Face Value",
         "line": {
          "color": "#636efa",
          "dash": "solid"
         },
         "marker": {
          "symbol": "circle"
         },
         "mode": "lines+markers",
         "name": "Face Value",
         "showlegend": true,
         "type": "scattergl",
         "x": [
          "2024-05-16"
         ],
         "xaxis": "x",
         "y": [
          18300000
         ],
         "yaxis": "y"
        },
        {
         "hovertemplate": "trackName=Fairy<br>date=%{x}<br>views=%{y}<extra></extra>",
         "legendgroup": "Fairy",
         "line": {
          "color": "#EF553B",
          "dash": "solid"
         },
         "marker": {
          "symbol": "circle"
         },
         "mode": "lines+markers",
         "name": "Fairy",
         "showlegend": true,
         "type": "scattergl",
         "x": [
          "2024-05-16",
          "2024-05-17",
          "2024-05-18",
          "2024-05-19",
          "2024-05-20",
          "2024-05-21",
          "2024-05-23"
         ],
         "xaxis": "x",
         "y": [
          22200000,
          14800000,
          14800000,
          14800000,
          22200000,
          14800000,
          7500000
         ],
         "yaxis": "y"
        },
        {
         "hovertemplate": "trackName=Faster n Harder<br>date=%{x}<br>views=%{y}<extra></extra>",
         "legendgroup": "Faster n Harder",
         "line": {
          "color": "#00cc96",
          "dash": "solid"
         },
         "marker": {
          "symbol": "circle"
         },
         "mode": "lines+markers",
         "name": "Faster n Harder",
         "showlegend": true,
         "type": "scattergl",
         "x": [
          "2024-05-16"
         ],
         "xaxis": "x",
         "y": [
          1700000
         ],
         "yaxis": "y"
        },
        {
         "hovertemplate": "trackName=Good Googly Moogly<br>date=%{x}<br>views=%{y}<extra></extra>",
         "legendgroup": "Good Googly Moogly",
         "line": {
          "color": "#ab63fa",
          "dash": "solid"
         },
         "marker": {
          "symbol": "circle"
         },
         "mode": "lines+markers",
         "name": "Good Googly Moogly",
         "showlegend": true,
         "type": "scattergl",
         "x": [
          "2024-05-16",
          "2024-05-17",
          "2024-05-21"
         ],
         "xaxis": "x",
         "y": [
          13500000,
          13600000,
          15000000
         ],
         "yaxis": "y"
        },
        {
         "hovertemplate": "trackName=Goose Creek/ MDB<br>date=%{x}<br>views=%{y}<extra></extra>",
         "legendgroup": "Goose Creek/ MDB",
         "line": {
          "color": "#FFA15A",
          "dash": "solid"
         },
         "marker": {
          "symbol": "circle"
         },
         "mode": "lines+markers",
         "name": "Goose Creek/ MDB",
         "showlegend": true,
         "type": "scattergl",
         "x": [
          "2024-05-16",
          "2024-05-22",
          "2024-05-29",
          "2024-05-31",
          "2024-06-02",
          "2024-06-03",
          "2024-06-04"
         ],
         "xaxis": "x",
         "y": [
          6700000,
          6000000,
          10100000,
          32400000,
          11600000,
          45600000,
          23000000
         ],
         "yaxis": "y"
        },
        {
         "hovertemplate": "trackName=Grow a Pear<br>date=%{x}<br>views=%{y}<extra></extra>",
         "legendgroup": "Grow a Pear",
         "line": {
          "color": "#19d3f3",
          "dash": "solid"
         },
         "marker": {
          "symbol": "circle"
         },
         "mode": "lines+markers",
         "name": "Grow a Pear",
         "showlegend": true,
         "type": "scattergl",
         "x": [
          "2024-05-16",
          "2024-05-17",
          "2024-05-18",
          "2024-05-19",
          "2024-05-23"
         ],
         "xaxis": "x",
         "y": [
          4000000,
          24200000,
          12100000,
          4100000,
          4100000
         ],
         "yaxis": "y"
        },
        {
         "hovertemplate": "trackName=Hold My Hand<br>date=%{x}<br>views=%{y}<extra></extra>",
         "legendgroup": "Hold My Hand",
         "line": {
          "color": "#FF6692",
          "dash": "solid"
         },
         "marker": {
          "symbol": "circle"
         },
         "mode": "lines+markers",
         "name": "Hold My Hand",
         "showlegend": true,
         "type": "scattergl",
         "x": [
          "2024-05-16",
          "2024-05-17",
          "2024-05-18"
         ],
         "xaxis": "x",
         "y": [
          5400000,
          1800000,
          1800000
         ],
         "yaxis": "y"
        },
        {
         "hovertemplate": "trackName=Horse Panic<br>date=%{x}<br>views=%{y}<extra></extra>",
         "legendgroup": "Horse Panic",
         "line": {
          "color": "#B6E880",
          "dash": "solid"
         },
         "marker": {
          "symbol": "circle"
         },
         "mode": "lines+markers",
         "name": "Horse Panic",
         "showlegend": true,
         "type": "scattergl",
         "x": [
          "2024-05-16",
          "2024-05-18",
          "2024-05-21"
         ],
         "xaxis": "x",
         "y": [
          7500000,
          7600000,
          8000000
         ],
         "yaxis": "y"
        },
        {
         "hovertemplate": "trackName=How To Press a Pill<br>date=%{x}<br>views=%{y}<extra></extra>",
         "legendgroup": "How To Press a Pill",
         "line": {
          "color": "#FF97FF",
          "dash": "solid"
         },
         "marker": {
          "symbol": "circle"
         },
         "mode": "lines+markers",
         "name": "How To Press a Pill",
         "showlegend": true,
         "type": "scattergl",
         "x": [
          "2024-05-16",
          "2024-05-17",
          "2024-05-19",
          "2024-05-21"
         ],
         "xaxis": "x",
         "y": [
          60000000,
          40000000,
          40000000,
          40200000
         ],
         "yaxis": "y"
        },
        {
         "hovertemplate": "trackName=I Luv Your Girl<br>date=%{x}<br>views=%{y}<extra></extra>",
         "legendgroup": "I Luv Your Girl",
         "line": {
          "color": "#FECB52",
          "dash": "solid"
         },
         "marker": {
          "symbol": "circle"
         },
         "mode": "lines+markers",
         "name": "I Luv Your Girl",
         "showlegend": true,
         "type": "scattergl",
         "x": [
          "2024-05-16",
          "2024-05-17",
          "2024-05-18",
          "2024-05-19",
          "2024-05-21",
          "2024-05-23"
         ],
         "xaxis": "x",
         "y": [
          19200000,
          19200000,
          9600000,
          19400000,
          19400000,
          9800000
         ],
         "yaxis": "y"
        },
        {
         "hovertemplate": "trackName=I Will Survive (Phil Kelsey Classic 12\" Mix)<br>date=%{x}<br>views=%{y}<extra></extra>",
         "legendgroup": "I Will Survive (Phil Kelsey Classic 12\" Mix)",
         "line": {
          "color": "#636efa",
          "dash": "solid"
         },
         "marker": {
          "symbol": "circle"
         },
         "mode": "lines+markers",
         "name": "I Will Survive (Phil Kelsey Classic 12\" Mix)",
         "showlegend": true,
         "type": "scattergl",
         "x": [
          "2024-05-16",
          "2024-05-21",
          "2024-05-23",
          "2024-05-25",
          "2024-05-26",
          "2024-05-27",
          "2024-05-28"
         ],
         "xaxis": "x",
         "y": [
          9900000,
          10300000,
          22000000,
          11300000,
          23000000,
          23200000,
          23600000
         ],
         "yaxis": "y"
        },
        {
         "hovertemplate": "trackName=I Will Survive (Remix)<br>date=%{x}<br>views=%{y}<extra></extra>",
         "legendgroup": "I Will Survive (Remix)",
         "line": {
          "color": "#EF553B",
          "dash": "solid"
         },
         "marker": {
          "symbol": "circle"
         },
         "mode": "lines+markers",
         "name": "I Will Survive (Remix)",
         "showlegend": true,
         "type": "scattergl",
         "x": [
          "2024-05-16",
          "2024-05-21",
          "2024-05-23",
          "2024-05-25",
          "2024-05-26",
          "2024-05-27",
          "2024-05-28"
         ],
         "xaxis": "x",
         "y": [
          9900000,
          10300000,
          22000000,
          11300000,
          23000000,
          23200000,
          23600000
         ],
         "yaxis": "y"
        },
        {
         "hovertemplate": "trackName=If Only<br>date=%{x}<br>views=%{y}<extra></extra>",
         "legendgroup": "If Only",
         "line": {
          "color": "#00cc96",
          "dash": "solid"
         },
         "marker": {
          "symbol": "circle"
         },
         "mode": "lines+markers",
         "name": "If Only",
         "showlegend": true,
         "type": "scattergl",
         "x": [
          "2024-05-16",
          "2024-05-18",
          "2024-05-19"
         ],
         "xaxis": "x",
         "y": [
          56200000,
          56200000,
          28100000
         ],
         "yaxis": "y"
        },
        {
         "hovertemplate": "trackName=If We Being RÃ«al<br>date=%{x}<br>views=%{y}<extra></extra>",
         "legendgroup": "If We Being RÃ«al",
         "line": {
          "color": "#ab63fa",
          "dash": "solid"
         },
         "marker": {
          "symbol": "circle"
         },
         "mode": "lines+markers",
         "name": "If We Being RÃ«al",
         "showlegend": true,
         "type": "scattergl",
         "x": [
          "2024-05-16",
          "2024-05-17",
          "2024-05-18",
          "2024-05-19",
          "2024-05-20",
          "2024-05-21",
          "2024-05-27",
          "2024-05-29",
          "2024-05-31",
          "2024-06-01",
          "2024-06-02",
          "2024-06-05",
          "2024-06-07",
          "2024-06-09",
          "2024-06-10"
         ],
         "xaxis": "x",
         "y": [
          31000000,
          14100000,
          14200000,
          7300000,
          91000000,
          28600000,
          3600000,
          1900000,
          2000000,
          4900000,
          7100000,
          9600000,
          19200000,
          5400000,
          19400000
         ],
         "yaxis": "y"
        },
        {
         "hovertemplate": "trackName=Inflation<br>date=%{x}<br>views=%{y}<extra></extra>",
         "legendgroup": "Inflation",
         "line": {
          "color": "#FFA15A",
          "dash": "solid"
         },
         "marker": {
          "symbol": "circle"
         },
         "mode": "lines+markers",
         "name": "Inflation",
         "showlegend": true,
         "type": "scattergl",
         "x": [
          "2024-05-16",
          "2024-05-17",
          "2024-05-18",
          "2024-05-19",
          "2024-05-21",
          "2024-05-23"
         ],
         "xaxis": "x",
         "y": [
          19200000,
          19200000,
          9600000,
          19400000,
          19400000,
          9800000
         ],
         "yaxis": "y"
        },
        {
         "hovertemplate": "trackName=It's That Time<br>date=%{x}<br>views=%{y}<extra></extra>",
         "legendgroup": "It's That Time",
         "line": {
          "color": "#19d3f3",
          "dash": "solid"
         },
         "marker": {
          "symbol": "circle"
         },
         "mode": "lines+markers",
         "name": "It's That Time",
         "showlegend": true,
         "type": "scattergl",
         "x": [
          "2024-05-16",
          "2024-05-20",
          "2024-05-28",
          "2024-06-02"
         ],
         "xaxis": "x",
         "y": [
          17000000,
          53500000,
          1400000,
          3200000
         ],
         "yaxis": "y"
        },
        {
         "hovertemplate": "trackName=Jump<br>date=%{x}<br>views=%{y}<extra></extra>",
         "legendgroup": "Jump",
         "line": {
          "color": "#FF6692",
          "dash": "solid"
         },
         "marker": {
          "symbol": "circle"
         },
         "mode": "lines+markers",
         "name": "Jump",
         "showlegend": true,
         "type": "scattergl",
         "x": [
          "2024-05-16",
          "2024-05-17",
          "2024-05-18",
          "2024-05-20"
         ],
         "xaxis": "x",
         "y": [
          6300000,
          6400000,
          10000000,
          6600000
         ],
         "yaxis": "y"
        },
        {
         "hovertemplate": "trackName=Kamen Rider<br>date=%{x}<br>views=%{y}<extra></extra>",
         "legendgroup": "Kamen Rider",
         "line": {
          "color": "#B6E880",
          "dash": "solid"
         },
         "marker": {
          "symbol": "circle"
         },
         "mode": "lines+markers",
         "name": "Kamen Rider",
         "showlegend": true,
         "type": "scattergl",
         "x": [
          "2024-05-16",
          "2024-05-17",
          "2024-05-31",
          "2024-06-01",
          "2024-06-02"
         ],
         "xaxis": "x",
         "y": [
          11000000,
          11100000,
          13000000,
          26800000,
          14800000
         ],
         "yaxis": "y"
        },
        {
         "hovertemplate": "trackName=Kobe Year (feat. RBG Harden)<br>date=%{x}<br>views=%{y}<extra></extra>",
         "legendgroup": "Kobe Year (feat. RBG Harden)",
         "line": {
          "color": "#FF97FF",
          "dash": "solid"
         },
         "marker": {
          "symbol": "circle"
         },
         "mode": "lines+markers",
         "name": "Kobe Year (feat. RBG Harden)",
         "showlegend": true,
         "type": "scattergl",
         "x": [
          "2024-05-16"
         ],
         "xaxis": "x",
         "y": [
          7000000
         ],
         "yaxis": "y"
        },
        {
         "hovertemplate": "trackName=LET ME SEE YA MOVE!<br>date=%{x}<br>views=%{y}<extra></extra>",
         "legendgroup": "LET ME SEE YA MOVE!",
         "line": {
          "color": "#FECB52",
          "dash": "solid"
         },
         "marker": {
          "symbol": "circle"
         },
         "mode": "lines+markers",
         "name": "LET ME SEE YA MOVE!",
         "showlegend": true,
         "type": "scattergl",
         "x": [
          "2024-05-16",
          "2024-05-23"
         ],
         "xaxis": "x",
         "y": [
          6200000,
          6300000
         ],
         "yaxis": "y"
        },
        {
         "hovertemplate": "trackName=Life Is Difficult (Turkish)<br>date=%{x}<br>views=%{y}<extra></extra>",
         "legendgroup": "Life Is Difficult (Turkish)",
         "line": {
          "color": "#636efa",
          "dash": "solid"
         },
         "marker": {
          "symbol": "circle"
         },
         "mode": "lines+markers",
         "name": "Life Is Difficult (Turkish)",
         "showlegend": true,
         "type": "scattergl",
         "x": [
          "2024-05-16",
          "2024-05-17",
          "2024-05-18"
         ],
         "xaxis": "x",
         "y": [
          72700000,
          145400000,
          145600000
         ],
         "yaxis": "y"
        },
        {
         "hovertemplate": "trackName=MALA (feat. Anuel AA)<br>date=%{x}<br>views=%{y}<extra></extra>",
         "legendgroup": "MALA (feat. Anuel AA)",
         "line": {
          "color": "#EF553B",
          "dash": "solid"
         },
         "marker": {
          "symbol": "circle"
         },
         "mode": "lines+markers",
         "name": "MALA (feat. Anuel AA)",
         "showlegend": true,
         "type": "scattergl",
         "x": [
          "2024-05-16",
          "2024-05-18",
          "2024-05-30"
         ],
         "xaxis": "x",
         "y": [
          129000000,
          29800,
          8200000
         ],
         "yaxis": "y"
        },
        {
         "hovertemplate": "trackName=MILLION DOLLAR BABY<br>date=%{x}<br>views=%{y}<extra></extra>",
         "legendgroup": "MILLION DOLLAR BABY",
         "line": {
          "color": "#00cc96",
          "dash": "solid"
         },
         "marker": {
          "symbol": "circle"
         },
         "mode": "lines+markers",
         "name": "MILLION DOLLAR BABY",
         "showlegend": true,
         "type": "scattergl",
         "x": [
          "2024-05-16",
          "2024-05-22",
          "2024-05-25",
          "2024-05-28",
          "2024-05-29",
          "2024-05-30",
          "2024-05-31",
          "2024-06-02",
          "2024-06-03",
          "2024-06-04",
          "2024-06-05"
         ],
         "xaxis": "x",
         "y": [
          6700000,
          40000000,
          7000000,
          7800000,
          78500000,
          60800000,
          132100000,
          11600000,
          45600000,
          30200000,
          0
         ],
         "yaxis": "y"
        },
        {
         "hovertemplate": "trackName=Make Up!<br>date=%{x}<br>views=%{y}<extra></extra>",
         "legendgroup": "Make Up!",
         "line": {
          "color": "#ab63fa",
          "dash": "solid"
         },
         "marker": {
          "symbol": "circle"
         },
         "mode": "lines+markers",
         "name": "Make Up!",
         "showlegend": true,
         "type": "scattergl",
         "x": [
          "2024-05-16",
          "2024-05-17",
          "2024-05-18",
          "2024-05-19",
          "2024-05-20",
          "2024-05-21",
          "2024-05-23",
          "2024-05-24",
          "2024-05-25",
          "2024-05-26",
          "2024-05-28"
         ],
         "xaxis": "x",
         "y": [
          6000000,
          14700000,
          20700000,
          15000000,
          6000000,
          6000000,
          9300000,
          3100000,
          16000000,
          6800000,
          20000000
         ],
         "yaxis": "y"
        },
        {
         "hovertemplate": "trackName=Mi Casa Su Casa<br>date=%{x}<br>views=%{y}<extra></extra>",
         "legendgroup": "Mi Casa Su Casa",
         "line": {
          "color": "#FFA15A",
          "dash": "solid"
         },
         "marker": {
          "symbol": "circle"
         },
         "mode": "lines+markers",
         "name": "Mi Casa Su Casa",
         "showlegend": true,
         "type": "scattergl",
         "x": [
          "2024-05-16"
         ],
         "xaxis": "x",
         "y": [
          3400000
         ],
         "yaxis": "y"
        },
        {
         "hovertemplate": "trackName=Missy Elliott Wtf<br>date=%{x}<br>views=%{y}<extra></extra>",
         "legendgroup": "Missy Elliott Wtf",
         "line": {
          "color": "#19d3f3",
          "dash": "solid"
         },
         "marker": {
          "symbol": "circle"
         },
         "mode": "lines+markers",
         "name": "Missy Elliott Wtf",
         "showlegend": true,
         "type": "scattergl",
         "x": [
          "2024-05-16",
          "2024-05-17",
          "2024-05-20"
         ],
         "xaxis": "x",
         "y": [
          5300000,
          5300000,
          5400000
         ],
         "yaxis": "y"
        },
        {
         "hovertemplate": "trackName=Money! (Money Money, Green Green)<br>date=%{x}<br>views=%{y}<extra></extra>",
         "legendgroup": "Money! (Money Money, Green Green)",
         "line": {
          "color": "#FF6692",
          "dash": "solid"
         },
         "marker": {
          "symbol": "circle"
         },
         "mode": "lines+markers",
         "name": "Money! (Money Money, Green Green)",
         "showlegend": true,
         "type": "scattergl",
         "x": [
          "2024-05-16",
          "2024-05-23"
         ],
         "xaxis": "x",
         "y": [
          5300000,
          12300000
         ],
         "yaxis": "y"
        },
        {
         "hovertemplate": "trackName=Moon River<br>date=%{x}<br>views=%{y}<extra></extra>",
         "legendgroup": "Moon River",
         "line": {
          "color": "#B6E880",
          "dash": "solid"
         },
         "marker": {
          "symbol": "circle"
         },
         "mode": "lines+markers",
         "name": "Moon River",
         "showlegend": true,
         "type": "scattergl",
         "x": [
          "2024-05-16",
          "2024-05-17",
          "2024-05-23",
          "2024-05-24",
          "2024-05-25",
          "2024-05-29",
          "2024-05-30",
          "2024-05-31",
          "2024-06-01",
          "2024-06-02",
          "2024-06-03"
         ],
         "xaxis": "x",
         "y": [
          5800000,
          5900000,
          19200000,
          6400000,
          13000000,
          13300000,
          20100000,
          20100000,
          13400000,
          20400000,
          13600000
         ],
         "yaxis": "y"
        },
        {
         "hovertemplate": "trackName=Mr Take That Risk<br>date=%{x}<br>views=%{y}<extra></extra>",
         "legendgroup": "Mr Take That Risk",
         "line": {
          "color": "#FF97FF",
          "dash": "solid"
         },
         "marker": {
          "symbol": "circle"
         },
         "mode": "lines+markers",
         "name": "Mr Take That Risk",
         "showlegend": true,
         "type": "scattergl",
         "x": [
          "2024-05-16"
         ],
         "xaxis": "x",
         "y": [
          5800000
         ],
         "yaxis": "y"
        },
        {
         "hovertemplate": "trackName=Mundian To Bach Ke<br>date=%{x}<br>views=%{y}<extra></extra>",
         "legendgroup": "Mundian To Bach Ke",
         "line": {
          "color": "#FECB52",
          "dash": "solid"
         },
         "marker": {
          "symbol": "circle"
         },
         "mode": "lines+markers",
         "name": "Mundian To Bach Ke",
         "showlegend": true,
         "type": "scattergl",
         "x": [
          "2024-05-16"
         ],
         "xaxis": "x",
         "y": [
          27000000
         ],
         "yaxis": "y"
        },
        {
         "hovertemplate": "trackName=My Love Mine All Mine<br>date=%{x}<br>views=%{y}<extra></extra>",
         "legendgroup": "My Love Mine All Mine",
         "line": {
          "color": "#636efa",
          "dash": "solid"
         },
         "marker": {
          "symbol": "circle"
         },
         "mode": "lines+markers",
         "name": "My Love Mine All Mine",
         "showlegend": true,
         "type": "scattergl",
         "x": [
          "2024-05-16",
          "2024-05-17",
          "2024-05-18"
         ],
         "xaxis": "x",
         "y": [
          72700000,
          145400000,
          145600000
         ],
         "yaxis": "y"
        },
        {
         "hovertemplate": "trackName=My10<br>date=%{x}<br>views=%{y}<extra></extra>",
         "legendgroup": "My10",
         "line": {
          "color": "#EF553B",
          "dash": "solid"
         },
         "marker": {
          "symbol": "circle"
         },
         "mode": "lines+markers",
         "name": "My10",
         "showlegend": true,
         "type": "scattergl",
         "x": [
          "2024-05-16",
          "2024-05-23"
         ],
         "xaxis": "x",
         "y": [
          18300000,
          6300000
         ],
         "yaxis": "y"
        },
        {
         "hovertemplate": "trackName=My12<br>date=%{x}<br>views=%{y}<extra></extra>",
         "legendgroup": "My12",
         "line": {
          "color": "#00cc96",
          "dash": "solid"
         },
         "marker": {
          "symbol": "circle"
         },
         "mode": "lines+markers",
         "name": "My12",
         "showlegend": true,
         "type": "scattergl",
         "x": [
          "2024-05-16",
          "2024-05-17",
          "2024-05-18",
          "2024-05-19",
          "2024-05-20",
          "2024-05-21"
         ],
         "xaxis": "x",
         "y": [
          40100000,
          59400000,
          49000000,
          59600000,
          57600000,
          38400000
         ],
         "yaxis": "y"
        },
        {
         "hovertemplate": "trackName=My7<br>date=%{x}<br>views=%{y}<extra></extra>",
         "legendgroup": "My7",
         "line": {
          "color": "#ab63fa",
          "dash": "solid"
         },
         "marker": {
          "symbol": "circle"
         },
         "mode": "lines+markers",
         "name": "My7",
         "showlegend": true,
         "type": "scattergl",
         "x": [
          "2024-05-16",
          "2024-05-18",
          "2024-05-19",
          "2024-06-05"
         ],
         "xaxis": "x",
         "y": [
          50600000,
          25300000,
          71500000,
          0
         ],
         "yaxis": "y"
        },
        {
         "hovertemplate": "trackName=New Year, Same Tron<br>date=%{x}<br>views=%{y}<extra></extra>",
         "legendgroup": "New Year, Same Tron",
         "line": {
          "color": "#FFA15A",
          "dash": "solid"
         },
         "marker": {
          "symbol": "circle"
         },
         "mode": "lines+markers",
         "name": "New Year, Same Tron",
         "showlegend": true,
         "type": "scattergl",
         "x": [
          "2024-05-16",
          "2024-05-17",
          "2024-05-18",
          "2024-05-19",
          "2024-05-20",
          "2024-05-21"
         ],
         "xaxis": "x",
         "y": [
          3400000,
          6800000,
          6800000,
          6800000,
          7000000,
          7000000
         ],
         "yaxis": "y"
        },
        {
         "hovertemplate": "trackName=Nice & Slow (feat. Lil Dred)<br>date=%{x}<br>views=%{y}<extra></extra>",
         "legendgroup": "Nice & Slow (feat. Lil Dred)",
         "line": {
          "color": "#19d3f3",
          "dash": "solid"
         },
         "marker": {
          "symbol": "circle"
         },
         "mode": "lines+markers",
         "name": "Nice & Slow (feat. Lil Dred)",
         "showlegend": true,
         "type": "scattergl",
         "x": [
          "2024-05-16",
          "2024-05-17",
          "2024-05-19",
          "2024-05-20",
          "2024-05-21"
         ],
         "xaxis": "x",
         "y": [
          16600000,
          16600000,
          16700000,
          16700000,
          33400000
         ],
         "yaxis": "y"
        },
        {
         "hovertemplate": "trackName=Nintendo DS Soul Injection<br>date=%{x}<br>views=%{y}<extra></extra>",
         "legendgroup": "Nintendo DS Soul Injection",
         "line": {
          "color": "#FF6692",
          "dash": "solid"
         },
         "marker": {
          "symbol": "circle"
         },
         "mode": "lines+markers",
         "name": "Nintendo DS Soul Injection",
         "showlegend": true,
         "type": "scattergl",
         "x": [
          "2024-05-16"
         ],
         "xaxis": "x",
         "y": [
          16000000
         ],
         "yaxis": "y"
        },
        {
         "hovertemplate": "trackName=Nintendo Wii (mii Channel) Song<br>date=%{x}<br>views=%{y}<extra></extra>",
         "legendgroup": "Nintendo Wii (mii Channel) Song",
         "line": {
          "color": "#B6E880",
          "dash": "solid"
         },
         "marker": {
          "symbol": "circle"
         },
         "mode": "lines+markers",
         "name": "Nintendo Wii (mii Channel) Song",
         "showlegend": true,
         "type": "scattergl",
         "x": [
          "2024-05-16",
          "2024-05-27"
         ],
         "xaxis": "x",
         "y": [
          4800000,
          5300000
         ],
         "yaxis": "y"
        },
        {
         "hovertemplate": "trackName=Nocturne<br>date=%{x}<br>views=%{y}<extra></extra>",
         "legendgroup": "Nocturne",
         "line": {
          "color": "#FF97FF",
          "dash": "solid"
         },
         "marker": {
          "symbol": "circle"
         },
         "mode": "lines+markers",
         "name": "Nocturne",
         "showlegend": true,
         "type": "scattergl",
         "x": [
          "2024-05-16"
         ],
         "xaxis": "x",
         "y": [
          2300000
         ],
         "yaxis": "y"
        },
        {
         "hovertemplate": "trackName=Nowhere To Go (feat. SDOT GO)<br>date=%{x}<br>views=%{y}<extra></extra>",
         "legendgroup": "Nowhere To Go (feat. SDOT GO)",
         "line": {
          "color": "#FECB52",
          "dash": "solid"
         },
         "marker": {
          "symbol": "circle"
         },
         "mode": "lines+markers",
         "name": "Nowhere To Go (feat. SDOT GO)",
         "showlegend": true,
         "type": "scattergl",
         "x": [
          "2024-05-16",
          "2024-05-17",
          "2024-05-19",
          "2024-05-20",
          "2024-05-21"
         ],
         "xaxis": "x",
         "y": [
          4200000,
          4400000,
          4400000,
          6600000,
          4600000
         ],
         "yaxis": "y"
        },
        {
         "hovertemplate": "trackName=Obsessed<br>date=%{x}<br>views=%{y}<extra></extra>",
         "legendgroup": "Obsessed",
         "line": {
          "color": "#636efa",
          "dash": "solid"
         },
         "marker": {
          "symbol": "circle"
         },
         "mode": "lines+markers",
         "name": "Obsessed",
         "showlegend": true,
         "type": "scattergl",
         "x": [
          "2024-05-16",
          "2024-05-21"
         ],
         "xaxis": "x",
         "y": [
          2600000,
          2600000
         ],
         "yaxis": "y"
        },
        {
         "hovertemplate": "trackName=POKÃDANCE<br>date=%{x}<br>views=%{y}<extra></extra>",
         "legendgroup": "POKÃDANCE",
         "line": {
          "color": "#EF553B",
          "dash": "solid"
         },
         "marker": {
          "symbol": "circle"
         },
         "mode": "lines+markers",
         "name": "POKÃDANCE",
         "showlegend": true,
         "type": "scattergl",
         "x": [
          "2024-05-16",
          "2024-05-19",
          "2024-05-21"
         ],
         "xaxis": "x",
         "y": [
          4700000,
          2200000,
          3200000
         ],
         "yaxis": "y"
        },
        {
         "hovertemplate": "trackName=Praise (feat. Brandon Lake, Chris Brown & Chandler Moore)<br>date=%{x}<br>views=%{y}<extra></extra>",
         "legendgroup": "Praise (feat. Brandon Lake, Chris Brown & Chandler Moore)",
         "line": {
          "color": "#00cc96",
          "dash": "solid"
         },
         "marker": {
          "symbol": "circle"
         },
         "mode": "lines+markers",
         "name": "Praise (feat. Brandon Lake, Chris Brown & Chandler Moore)",
         "showlegend": true,
         "type": "scattergl",
         "x": [
          "2024-05-16"
         ],
         "xaxis": "x",
         "y": [
          26500000
         ],
         "yaxis": "y"
        },
        {
         "hovertemplate": "trackName=Princess Diana<br>date=%{x}<br>views=%{y}<extra></extra>",
         "legendgroup": "Princess Diana",
         "line": {
          "color": "#ab63fa",
          "dash": "solid"
         },
         "marker": {
          "symbol": "circle"
         },
         "mode": "lines+markers",
         "name": "Princess Diana",
         "showlegend": true,
         "type": "scattergl",
         "x": [
          "2024-05-16",
          "2024-05-17",
          "2024-05-23"
         ],
         "xaxis": "x",
         "y": [
          11100000,
          7400000,
          3900000
         ],
         "yaxis": "y"
        },
        {
         "hovertemplate": "trackName=Psycho<br>date=%{x}<br>views=%{y}<extra></extra>",
         "legendgroup": "Psycho",
         "line": {
          "color": "#FFA15A",
          "dash": "solid"
         },
         "marker": {
          "symbol": "circle"
         },
         "mode": "lines+markers",
         "name": "Psycho",
         "showlegend": true,
         "type": "scattergl",
         "x": [
          "2024-05-16"
         ],
         "xaxis": "x",
         "y": [
          25000000
         ],
         "yaxis": "y"
        },
        {
         "hovertemplate": "trackName=RAHHHH<br>date=%{x}<br>views=%{y}<extra></extra>",
         "legendgroup": "RAHHHH",
         "line": {
          "color": "#19d3f3",
          "dash": "solid"
         },
         "marker": {
          "symbol": "circle"
         },
         "mode": "lines+markers",
         "name": "RAHHHH",
         "showlegend": true,
         "type": "scattergl",
         "x": [
          "2024-05-16",
          "2024-05-17",
          "2024-05-18",
          "2024-05-19",
          "2024-05-20",
          "2024-05-21",
          "2024-05-23"
         ],
         "xaxis": "x",
         "y": [
          202300000,
          150800000,
          148500000,
          109200000,
          189400000,
          190000000,
          40400000
         ],
         "yaxis": "y"
        },
        {
         "hovertemplate": "trackName=Requiem<br>date=%{x}<br>views=%{y}<extra></extra>",
         "legendgroup": "Requiem",
         "line": {
          "color": "#FF6692",
          "dash": "solid"
         },
         "marker": {
          "symbol": "circle"
         },
         "mode": "lines+markers",
         "name": "Requiem",
         "showlegend": true,
         "type": "scattergl",
         "x": [
          "2024-05-16"
         ],
         "xaxis": "x",
         "y": [
          30100000
         ],
         "yaxis": "y"
        },
        {
         "hovertemplate": "trackName=Sacrifice<br>date=%{x}<br>views=%{y}<extra></extra>",
         "legendgroup": "Sacrifice",
         "line": {
          "color": "#B6E880",
          "dash": "solid"
         },
         "marker": {
          "symbol": "circle"
         },
         "mode": "lines+markers",
         "name": "Sacrifice",
         "showlegend": true,
         "type": "scattergl",
         "x": [
          "2024-05-16"
         ],
         "xaxis": "x",
         "y": [
          30100000
         ],
         "yaxis": "y"
        },
        {
         "hovertemplate": "trackName=San Sanana<br>date=%{x}<br>views=%{y}<extra></extra>",
         "legendgroup": "San Sanana",
         "line": {
          "color": "#FF97FF",
          "dash": "solid"
         },
         "marker": {
          "symbol": "circle"
         },
         "mode": "lines+markers",
         "name": "San Sanana",
         "showlegend": true,
         "type": "scattergl",
         "x": [
          "2024-05-16",
          "2024-05-19",
          "2024-05-21",
          "2024-05-25",
          "2024-05-26",
          "2024-05-30",
          "2024-06-02",
          "2024-06-03"
         ],
         "xaxis": "x",
         "y": [
          16400000,
          16800000,
          17000000,
          17400000,
          17400000,
          17700000,
          54000000,
          18000000
         ],
         "yaxis": "y"
        },
        {
         "hovertemplate": "trackName=Satisfaction (bassboosted)<br>date=%{x}<br>views=%{y}<extra></extra>",
         "legendgroup": "Satisfaction (bassboosted)",
         "line": {
          "color": "#FECB52",
          "dash": "solid"
         },
         "marker": {
          "symbol": "circle"
         },
         "mode": "lines+markers",
         "name": "Satisfaction (bassboosted)",
         "showlegend": true,
         "type": "scattergl",
         "x": [
          "2024-05-16",
          "2024-05-21"
         ],
         "xaxis": "x",
         "y": [
          2500000,
          3200000
         ],
         "yaxis": "y"
        },
        {
         "hovertemplate": "trackName=Save Your Tears<br>date=%{x}<br>views=%{y}<extra></extra>",
         "legendgroup": "Save Your Tears",
         "line": {
          "color": "#636efa",
          "dash": "solid"
         },
         "marker": {
          "symbol": "circle"
         },
         "mode": "lines+markers",
         "name": "Save Your Tears",
         "showlegend": true,
         "type": "scattergl",
         "x": [
          "2024-05-16",
          "2024-05-22",
          "2024-05-24",
          "2024-05-25",
          "2024-05-28",
          "2024-05-29",
          "2024-05-30",
          "2024-06-01",
          "2024-06-03",
          "2024-06-04"
         ],
         "xaxis": "x",
         "y": [
          2600000,
          6400000,
          3400000,
          3600000,
          4000000,
          4100000,
          8400000,
          4400000,
          9200000,
          4700000
         ],
         "yaxis": "y"
        },
        {
         "hovertemplate": "trackName=See You Again (feat. Kali Uchis)<br>date=%{x}<br>views=%{y}<extra></extra>",
         "legendgroup": "See You Again (feat. Kali Uchis)",
         "line": {
          "color": "#EF553B",
          "dash": "solid"
         },
         "marker": {
          "symbol": "circle"
         },
         "mode": "lines+markers",
         "name": "See You Again (feat. Kali Uchis)",
         "showlegend": true,
         "type": "scattergl",
         "x": [
          "2024-05-16",
          "2024-05-17",
          "2024-06-03",
          "2024-06-04"
         ],
         "xaxis": "x",
         "y": [
          18900000,
          19000000,
          20200000,
          20400000
         ],
         "yaxis": "y"
        },
        {
         "hovertemplate": "trackName=Shhh<br>date=%{x}<br>views=%{y}<extra></extra>",
         "legendgroup": "Shhh",
         "line": {
          "color": "#00cc96",
          "dash": "solid"
         },
         "marker": {
          "symbol": "circle"
         },
         "mode": "lines+markers",
         "name": "Shhh",
         "showlegend": true,
         "type": "scattergl",
         "x": [
          "2024-05-16",
          "2024-05-17",
          "2024-05-18",
          "2024-05-19",
          "2024-05-21"
         ],
         "xaxis": "x",
         "y": [
          4600000,
          4600000,
          8000000,
          4800000,
          8900000
         ],
         "yaxis": "y"
        },
        {
         "hovertemplate": "trackName=Shots (feat. Lil Jon)<br>date=%{x}<br>views=%{y}<extra></extra>",
         "legendgroup": "Shots (feat. Lil Jon)",
         "line": {
          "color": "#ab63fa",
          "dash": "solid"
         },
         "marker": {
          "symbol": "circle"
         },
         "mode": "lines+markers",
         "name": "Shots (feat. Lil Jon)",
         "showlegend": true,
         "type": "scattergl",
         "x": [
          "2024-05-16"
         ],
         "xaxis": "x",
         "y": [
          48400000
         ],
         "yaxis": "y"
        },
        {
         "hovertemplate": "trackName=Snow Bunny Heaven<br>date=%{x}<br>views=%{y}<extra></extra>",
         "legendgroup": "Snow Bunny Heaven",
         "line": {
          "color": "#FFA15A",
          "dash": "solid"
         },
         "marker": {
          "symbol": "circle"
         },
         "mode": "lines+markers",
         "name": "Snow Bunny Heaven",
         "showlegend": true,
         "type": "scattergl",
         "x": [
          "2024-05-16",
          "2024-05-28"
         ],
         "xaxis": "x",
         "y": [
          4300000,
          4600000
         ],
         "yaxis": "y"
        },
        {
         "hovertemplate": "trackName=So Anxious<br>date=%{x}<br>views=%{y}<extra></extra>",
         "legendgroup": "So Anxious",
         "line": {
          "color": "#19d3f3",
          "dash": "solid"
         },
         "marker": {
          "symbol": "circle"
         },
         "mode": "lines+markers",
         "name": "So Anxious",
         "showlegend": true,
         "type": "scattergl",
         "x": [
          "2024-05-16",
          "2024-05-17",
          "2024-05-18",
          "2024-05-20",
          "2024-05-21"
         ],
         "xaxis": "x",
         "y": [
          7900000,
          15800000,
          15800000,
          23700000,
          15800000
         ],
         "yaxis": "y"
        },
        {
         "hovertemplate": "trackName=Soaked<br>date=%{x}<br>views=%{y}<extra></extra>",
         "legendgroup": "Soaked",
         "line": {
          "color": "#FF6692",
          "dash": "solid"
         },
         "marker": {
          "symbol": "circle"
         },
         "mode": "lines+markers",
         "name": "Soaked",
         "showlegend": true,
         "type": "scattergl",
         "x": [
          "2024-05-16",
          "2024-05-17"
         ],
         "xaxis": "x",
         "y": [
          17300000,
          17300000
         ],
         "yaxis": "y"
        },
        {
         "hovertemplate": "trackName=Someday I'll Get It<br>date=%{x}<br>views=%{y}<extra></extra>",
         "legendgroup": "Someday I'll Get It",
         "line": {
          "color": "#B6E880",
          "dash": "solid"
         },
         "marker": {
          "symbol": "circle"
         },
         "mode": "lines+markers",
         "name": "Someday I'll Get It",
         "showlegend": true,
         "type": "scattergl",
         "x": [
          "2024-05-16",
          "2024-05-21"
         ],
         "xaxis": "x",
         "y": [
          27900000,
          120700000
         ],
         "yaxis": "y"
        },
        {
         "hovertemplate": "trackName=Tell Ur Girlfriend<br>date=%{x}<br>views=%{y}<extra></extra>",
         "legendgroup": "Tell Ur Girlfriend",
         "line": {
          "color": "#FF97FF",
          "dash": "solid"
         },
         "marker": {
          "symbol": "circle"
         },
         "mode": "lines+markers",
         "name": "Tell Ur Girlfriend",
         "showlegend": true,
         "type": "scattergl",
         "x": [
          "2024-05-16",
          "2024-05-17",
          "2024-05-19",
          "2024-05-22",
          "2024-05-24",
          "2024-05-25",
          "2024-05-26",
          "2024-05-27",
          "2024-05-28",
          "2024-05-29",
          "2024-05-30",
          "2024-06-01"
         ],
         "xaxis": "x",
         "y": [
          17800000,
          1500000,
          16700000,
          6500000,
          4800000,
          3200000,
          3200000,
          3200000,
          4500000,
          6200000,
          1300000,
          2300000
         ],
         "yaxis": "y"
        },
        {
         "hovertemplate": "trackName=The Lamp Is Low<br>date=%{x}<br>views=%{y}<extra></extra>",
         "legendgroup": "The Lamp Is Low",
         "line": {
          "color": "#FECB52",
          "dash": "solid"
         },
         "marker": {
          "symbol": "circle"
         },
         "mode": "lines+markers",
         "name": "The Lamp Is Low",
         "showlegend": true,
         "type": "scattergl",
         "x": [
          "2024-05-16",
          "2024-05-17",
          "2024-05-18",
          "2024-05-19",
          "2024-05-20",
          "2024-05-21",
          "2024-05-23",
          "2024-05-24",
          "2024-05-25",
          "2024-05-26",
          "2024-05-27",
          "2024-05-28",
          "2024-05-29",
          "2024-05-30",
          "2024-05-31",
          "2024-06-01",
          "2024-06-02",
          "2024-06-03",
          "2024-06-04",
          "2024-06-05",
          "2024-06-10"
         ],
         "xaxis": "x",
         "y": [
          5600000,
          14000000,
          5600000,
          11200000,
          5600000,
          14100000,
          16800000,
          16800000,
          11200000,
          3800000,
          11200000,
          11200000,
          11200000,
          16800000,
          16900000,
          18700000,
          5600000,
          5600000,
          9400000,
          5600000,
          3500000
         ],
         "yaxis": "y"
        },
        {
         "hovertemplate": "trackName=They Shut Down<br>date=%{x}<br>views=%{y}<extra></extra>",
         "legendgroup": "They Shut Down",
         "line": {
          "color": "#636efa",
          "dash": "solid"
         },
         "marker": {
          "symbol": "circle"
         },
         "mode": "lines+markers",
         "name": "They Shut Down",
         "showlegend": true,
         "type": "scattergl",
         "x": [
          "2024-05-16",
          "2024-05-17",
          "2024-05-18"
         ],
         "xaxis": "x",
         "y": [
          10600000,
          10700000,
          21400000
         ],
         "yaxis": "y"
        },
        {
         "hovertemplate": "trackName=Tujhe Dekha Toh<br>date=%{x}<br>views=%{y}<extra></extra>",
         "legendgroup": "Tujhe Dekha Toh",
         "line": {
          "color": "#EF553B",
          "dash": "solid"
         },
         "marker": {
          "symbol": "circle"
         },
         "mode": "lines+markers",
         "name": "Tujhe Dekha Toh",
         "showlegend": true,
         "type": "scattergl",
         "x": [
          "2024-05-16"
         ],
         "xaxis": "x",
         "y": [
          13600000
         ],
         "yaxis": "y"
        },
        {
         "hovertemplate": "trackName=Tumblr Girls (feat. Christoph Andersson)<br>date=%{x}<br>views=%{y}<extra></extra>",
         "legendgroup": "Tumblr Girls (feat. Christoph Andersson)",
         "line": {
          "color": "#00cc96",
          "dash": "solid"
         },
         "marker": {
          "symbol": "circle"
         },
         "mode": "lines+markers",
         "name": "Tumblr Girls (feat. Christoph Andersson)",
         "showlegend": true,
         "type": "scattergl",
         "x": [
          "2024-05-16",
          "2024-05-21",
          "2024-05-31",
          "2024-06-01"
         ],
         "xaxis": "x",
         "y": [
          36800000,
          74400000,
          2600000,
          1400000
         ],
         "yaxis": "y"
        },
        {
         "hovertemplate": "trackName=Type Shit<br>date=%{x}<br>views=%{y}<extra></extra>",
         "legendgroup": "Type Shit",
         "line": {
          "color": "#ab63fa",
          "dash": "solid"
         },
         "marker": {
          "symbol": "circle"
         },
         "mode": "lines+markers",
         "name": "Type Shit",
         "showlegend": true,
         "type": "scattergl",
         "x": [
          "2024-05-16",
          "2024-05-19",
          "2024-05-21",
          "2024-06-03",
          "2024-06-06",
          "2024-06-07",
          "2024-06-08",
          "2024-06-09",
          "2024-06-10",
          "2024-06-11"
         ],
         "xaxis": "x",
         "y": [
          10800000,
          10900000,
          6400000,
          26000000,
          78300000,
          52200000,
          78300000,
          26100000,
          52200000,
          78600000
         ],
         "yaxis": "y"
        },
        {
         "hovertemplate": "trackName=Under The Influence<br>date=%{x}<br>views=%{y}<extra></extra>",
         "legendgroup": "Under The Influence",
         "line": {
          "color": "#FFA15A",
          "dash": "solid"
         },
         "marker": {
          "symbol": "circle"
         },
         "mode": "lines+markers",
         "name": "Under The Influence",
         "showlegend": true,
         "type": "scattergl",
         "x": [
          "2024-05-16",
          "2024-05-19",
          "2024-05-25"
         ],
         "xaxis": "x",
         "y": [
          26700000,
          9000000,
          9000000
         ],
         "yaxis": "y"
        },
        {
         "hovertemplate": "trackName=WET DREAMS<br>date=%{x}<br>views=%{y}<extra></extra>",
         "legendgroup": "WET DREAMS",
         "line": {
          "color": "#19d3f3",
          "dash": "solid"
         },
         "marker": {
          "symbol": "circle"
         },
         "mode": "lines+markers",
         "name": "WET DREAMS",
         "showlegend": true,
         "type": "scattergl",
         "x": [
          "2024-05-16"
         ],
         "xaxis": "x",
         "y": [
          3000000
         ],
         "yaxis": "y"
        },
        {
         "hovertemplate": "trackName=Wait Me<br>date=%{x}<br>views=%{y}<extra></extra>",
         "legendgroup": "Wait Me",
         "line": {
          "color": "#FF6692",
          "dash": "solid"
         },
         "marker": {
          "symbol": "circle"
         },
         "mode": "lines+markers",
         "name": "Wait Me",
         "showlegend": true,
         "type": "scattergl",
         "x": [
          "2024-05-16",
          "2024-05-17",
          "2024-05-18",
          "2024-05-19",
          "2024-05-21"
         ],
         "xaxis": "x",
         "y": [
          16600000,
          16600000,
          16700000,
          16700000,
          16800000
         ],
         "yaxis": "y"
        },
        {
         "hovertemplate": "trackName=Wanna Be<br>date=%{x}<br>views=%{y}<extra></extra>",
         "legendgroup": "Wanna Be",
         "line": {
          "color": "#B6E880",
          "dash": "solid"
         },
         "marker": {
          "symbol": "circle"
         },
         "mode": "lines+markers",
         "name": "Wanna Be",
         "showlegend": true,
         "type": "scattergl",
         "x": [
          "2024-05-16",
          "2024-05-21"
         ],
         "xaxis": "x",
         "y": [
          15300000,
          32800000
         ],
         "yaxis": "y"
        },
        {
         "hovertemplate": "trackName=We Could Be Together<br>date=%{x}<br>views=%{y}<extra></extra>",
         "legendgroup": "We Could Be Together",
         "line": {
          "color": "#FF97FF",
          "dash": "solid"
         },
         "marker": {
          "symbol": "circle"
         },
         "mode": "lines+markers",
         "name": "We Could Be Together",
         "showlegend": true,
         "type": "scattergl",
         "x": [
          "2024-05-16",
          "2024-05-17"
         ],
         "xaxis": "x",
         "y": [
          3800000,
          1900000
         ],
         "yaxis": "y"
        },
        {
         "hovertemplate": "trackName=What Are You Doing Man<br>date=%{x}<br>views=%{y}<extra></extra>",
         "legendgroup": "What Are You Doing Man",
         "line": {
          "color": "#FECB52",
          "dash": "solid"
         },
         "marker": {
          "symbol": "circle"
         },
         "mode": "lines+markers",
         "name": "What Are You Doing Man",
         "showlegend": true,
         "type": "scattergl",
         "x": [
          "2024-05-16",
          "2024-05-18",
          "2024-05-19",
          "2024-05-20",
          "2024-05-22",
          "2024-05-23",
          "2024-05-24",
          "2024-05-25",
          "2024-05-26",
          "2024-05-27"
         ],
         "xaxis": "x",
         "y": [
          84200000,
          2200000,
          12300000,
          85200000,
          10800000,
          25500000,
          8400000,
          8500000,
          8500000,
          17200000
         ],
         "yaxis": "y"
        },
        {
         "hovertemplate": "trackName=Without Me<br>date=%{x}<br>views=%{y}<extra></extra>",
         "legendgroup": "Without Me",
         "line": {
          "color": "#636efa",
          "dash": "solid"
         },
         "marker": {
          "symbol": "circle"
         },
         "mode": "lines+markers",
         "name": "Without Me",
         "showlegend": true,
         "type": "scattergl",
         "x": [
          "2024-05-16",
          "2024-06-10"
         ],
         "xaxis": "x",
         "y": [
          7400000,
          6800000
         ],
         "yaxis": "y"
        },
        {
         "hovertemplate": "trackName=Yes Sir<br>date=%{x}<br>views=%{y}<extra></extra>",
         "legendgroup": "Yes Sir",
         "line": {
          "color": "#EF553B",
          "dash": "solid"
         },
         "marker": {
          "symbol": "circle"
         },
         "mode": "lines+markers",
         "name": "Yes Sir",
         "showlegend": true,
         "type": "scattergl",
         "x": [
          "2024-05-16"
         ],
         "xaxis": "x",
         "y": [
          3300000
         ],
         "yaxis": "y"
        },
        {
         "hovertemplate": "trackName=22 (Remix)<br>date=%{x}<br>views=%{y}<extra></extra>",
         "legendgroup": "22 (Remix)",
         "line": {
          "color": "#00cc96",
          "dash": "solid"
         },
         "marker": {
          "symbol": "circle"
         },
         "mode": "lines+markers",
         "name": "22 (Remix)",
         "showlegend": true,
         "type": "scattergl",
         "x": [
          "2024-05-17",
          "2024-05-20"
         ],
         "xaxis": "x",
         "y": [
          3200000,
          1700000
         ],
         "yaxis": "y"
        },
        {
         "hovertemplate": "trackName=34+35<br>date=%{x}<br>views=%{y}<extra></extra>",
         "legendgroup": "34+35",
         "line": {
          "color": "#ab63fa",
          "dash": "solid"
         },
         "marker": {
          "symbol": "circle"
         },
         "mode": "lines+markers",
         "name": "34+35",
         "showlegend": true,
         "type": "scattergl",
         "x": [
          "2024-05-17",
          "2024-05-21"
         ],
         "xaxis": "x",
         "y": [
          10600000,
          5400000
         ],
         "yaxis": "y"
        },
        {
         "hovertemplate": "trackName=Airplane Mode (Rochester Club)<br>date=%{x}<br>views=%{y}<extra></extra>",
         "legendgroup": "Airplane Mode (Rochester Club)",
         "line": {
          "color": "#FFA15A",
          "dash": "solid"
         },
         "marker": {
          "symbol": "circle"
         },
         "mode": "lines+markers",
         "name": "Airplane Mode (Rochester Club)",
         "showlegend": true,
         "type": "scattergl",
         "x": [
          "2024-05-17",
          "2024-05-20"
         ],
         "xaxis": "x",
         "y": [
          8400000,
          12600000
         ],
         "yaxis": "y"
        },
        {
         "hovertemplate": "trackName=Concerto in D Major, RV 93: I. Allegro giusto<br>date=%{x}<br>views=%{y}<extra></extra>",
         "legendgroup": "Concerto in D Major, RV 93: I. Allegro giusto",
         "line": {
          "color": "#19d3f3",
          "dash": "solid"
         },
         "marker": {
          "symbol": "circle"
         },
         "mode": "lines+markers",
         "name": "Concerto in D Major, RV 93: I. Allegro giusto",
         "showlegend": true,
         "type": "scattergl",
         "x": [
          "2024-05-17"
         ],
         "xaxis": "x",
         "y": [
          11800000
         ],
         "yaxis": "y"
        },
        {
         "hovertemplate": "trackName=Crazy Girls<br>date=%{x}<br>views=%{y}<extra></extra>",
         "legendgroup": "Crazy Girls",
         "line": {
          "color": "#FF6692",
          "dash": "solid"
         },
         "marker": {
          "symbol": "circle"
         },
         "mode": "lines+markers",
         "name": "Crazy Girls",
         "showlegend": true,
         "type": "scattergl",
         "x": [
          "2024-05-17",
          "2024-05-20",
          "2024-05-21"
         ],
         "xaxis": "x",
         "y": [
          8100000,
          16600000,
          8400000
         ],
         "yaxis": "y"
        },
        {
         "hovertemplate": "trackName=Creepn Round<br>date=%{x}<br>views=%{y}<extra></extra>",
         "legendgroup": "Creepn Round",
         "line": {
          "color": "#B6E880",
          "dash": "solid"
         },
         "marker": {
          "symbol": "circle"
         },
         "mode": "lines+markers",
         "name": "Creepn Round",
         "showlegend": true,
         "type": "scattergl",
         "x": [
          "2024-05-17",
          "2024-05-20"
         ],
         "xaxis": "x",
         "y": [
          5100000,
          10400000
         ],
         "yaxis": "y"
        },
        {
         "hovertemplate": "trackName=Did Your Hair<br>date=%{x}<br>views=%{y}<extra></extra>",
         "legendgroup": "Did Your Hair",
         "line": {
          "color": "#FF97FF",
          "dash": "solid"
         },
         "marker": {
          "symbol": "circle"
         },
         "mode": "lines+markers",
         "name": "Did Your Hair",
         "showlegend": true,
         "type": "scattergl",
         "x": [
          "2024-05-17",
          "2024-05-19",
          "2024-05-21",
          "2024-05-23"
         ],
         "xaxis": "x",
         "y": [
          3100000,
          6400000,
          3300000,
          3600000
         ],
         "yaxis": "y"
        },
        {
         "hovertemplate": "trackName=Dudvet<br>date=%{x}<br>views=%{y}<extra></extra>",
         "legendgroup": "Dudvet",
         "line": {
          "color": "#FECB52",
          "dash": "solid"
         },
         "marker": {
          "symbol": "circle"
         },
         "mode": "lines+markers",
         "name": "Dudvet",
         "showlegend": true,
         "type": "scattergl",
         "x": [
          "2024-05-17"
         ],
         "xaxis": "x",
         "y": [
          2500000
         ],
         "yaxis": "y"
        },
        {
         "hovertemplate": "trackName=Get It Sexyy<br>date=%{x}<br>views=%{y}<extra></extra>",
         "legendgroup": "Get It Sexyy",
         "line": {
          "color": "#636efa",
          "dash": "solid"
         },
         "marker": {
          "symbol": "circle"
         },
         "mode": "lines+markers",
         "name": "Get It Sexyy",
         "showlegend": true,
         "type": "scattergl",
         "x": [
          "2024-05-17",
          "2024-05-26",
          "2024-05-29",
          "2024-05-30",
          "2024-06-02",
          "2024-06-03",
          "2024-06-07",
          "2024-06-08",
          "2024-06-09",
          "2024-06-10"
         ],
         "xaxis": "x",
         "y": [
          19500000,
          1300000,
          5400000,
          2400000,
          1300000,
          9000000,
          8800000,
          13200000,
          4500000,
          4500000
         ],
         "yaxis": "y"
        },
        {
         "hovertemplate": "trackName=Goodnight Sweet Possums<br>date=%{x}<br>views=%{y}<extra></extra>",
         "legendgroup": "Goodnight Sweet Possums",
         "line": {
          "color": "#EF553B",
          "dash": "solid"
         },
         "marker": {
          "symbol": "circle"
         },
         "mode": "lines+markers",
         "name": "Goodnight Sweet Possums",
         "showlegend": true,
         "type": "scattergl",
         "x": [
          "2024-05-17",
          "2024-05-20",
          "2024-05-21"
         ],
         "xaxis": "x",
         "y": [
          38600000,
          78200000,
          39200000
         ],
         "yaxis": "y"
        },
        {
         "hovertemplate": "trackName=Gwiyomi Song<br>date=%{x}<br>views=%{y}<extra></extra>",
         "legendgroup": "Gwiyomi Song",
         "line": {
          "color": "#00cc96",
          "dash": "solid"
         },
         "marker": {
          "symbol": "circle"
         },
         "mode": "lines+markers",
         "name": "Gwiyomi Song",
         "showlegend": true,
         "type": "scattergl",
         "x": [
          "2024-05-17",
          "2024-05-19",
          "2024-05-21",
          "2024-05-22",
          "2024-05-23",
          "2024-05-24",
          "2024-05-25"
         ],
         "xaxis": "x",
         "y": [
          5000000,
          2600000,
          2700000,
          2700000,
          2700000,
          2700000,
          2800000
         ],
         "yaxis": "y"
        },
        {
         "hovertemplate": "trackName=I Hate the New Kanye<br>date=%{x}<br>views=%{y}<extra></extra>",
         "legendgroup": "I Hate the New Kanye",
         "line": {
          "color": "#ab63fa",
          "dash": "solid"
         },
         "marker": {
          "symbol": "circle"
         },
         "mode": "lines+markers",
         "name": "I Hate the New Kanye",
         "showlegend": true,
         "type": "scattergl",
         "x": [
          "2024-05-17",
          "2024-05-20",
          "2024-05-21"
         ],
         "xaxis": "x",
         "y": [
          8200000,
          8300000,
          8400000
         ],
         "yaxis": "y"
        },
        {
         "hovertemplate": "trackName=Juega<br>date=%{x}<br>views=%{y}<extra></extra>",
         "legendgroup": "Juega",
         "line": {
          "color": "#FFA15A",
          "dash": "solid"
         },
         "marker": {
          "symbol": "circle"
         },
         "mode": "lines+markers",
         "name": "Juega",
         "showlegend": true,
         "type": "scattergl",
         "x": [
          "2024-05-17"
         ],
         "xaxis": "x",
         "y": [
          53900000
         ],
         "yaxis": "y"
        },
        {
         "hovertemplate": "trackName=Like That!<br>date=%{x}<br>views=%{y}<extra></extra>",
         "legendgroup": "Like That!",
         "line": {
          "color": "#19d3f3",
          "dash": "solid"
         },
         "marker": {
          "symbol": "circle"
         },
         "mode": "lines+markers",
         "name": "Like That!",
         "showlegend": true,
         "type": "scattergl",
         "x": [
          "2024-05-17",
          "2024-05-18",
          "2024-05-19",
          "2024-05-20",
          "2024-05-21",
          "2024-05-23",
          "2024-05-27",
          "2024-05-28",
          "2024-05-29",
          "2024-05-31"
         ],
         "xaxis": "x",
         "y": [
          1100000,
          2200000,
          6700000,
          11400000,
          2200000,
          10000000,
          8700000,
          10400000,
          1600000,
          9200000
         ],
         "yaxis": "y"
        },
        {
         "hovertemplate": "trackName=Lip Gloss<br>date=%{x}<br>views=%{y}<extra></extra>",
         "legendgroup": "Lip Gloss",
         "line": {
          "color": "#FF6692",
          "dash": "solid"
         },
         "marker": {
          "symbol": "circle"
         },
         "mode": "lines+markers",
         "name": "Lip Gloss",
         "showlegend": true,
         "type": "scattergl",
         "x": [
          "2024-05-17",
          "2024-05-19",
          "2024-05-21"
         ],
         "xaxis": "x",
         "y": [
          10900000,
          10900000,
          10900000
         ],
         "yaxis": "y"
        },
        {
         "hovertemplate": "trackName=Los santos vibe<br>date=%{x}<br>views=%{y}<extra></extra>",
         "legendgroup": "Los santos vibe",
         "line": {
          "color": "#B6E880",
          "dash": "solid"
         },
         "marker": {
          "symbol": "circle"
         },
         "mode": "lines+markers",
         "name": "Los santos vibe",
         "showlegend": true,
         "type": "scattergl",
         "x": [
          "2024-05-17",
          "2024-05-19",
          "2024-05-20"
         ],
         "xaxis": "x",
         "y": [
          9000000,
          1400000,
          18200000
         ],
         "yaxis": "y"
        },
        {
         "hovertemplate": "trackName=Love Letter<br>date=%{x}<br>views=%{y}<extra></extra>",
         "legendgroup": "Love Letter",
         "line": {
          "color": "#FF97FF",
          "dash": "solid"
         },
         "marker": {
          "symbol": "circle"
         },
         "mode": "lines+markers",
         "name": "Love Letter",
         "showlegend": true,
         "type": "scattergl",
         "x": [
          "2024-05-17",
          "2024-05-29"
         ],
         "xaxis": "x",
         "y": [
          43900000,
          19600000
         ],
         "yaxis": "y"
        },
        {
         "hovertemplate": "trackName=Married Life<br>date=%{x}<br>views=%{y}<extra></extra>",
         "legendgroup": "Married Life",
         "line": {
          "color": "#FECB52",
          "dash": "solid"
         },
         "marker": {
          "symbol": "circle"
         },
         "mode": "lines+markers",
         "name": "Married Life",
         "showlegend": true,
         "type": "scattergl",
         "x": [
          "2024-05-17",
          "2024-05-19",
          "2024-05-23",
          "2024-06-07"
         ],
         "xaxis": "x",
         "y": [
          3200000,
          3200000,
          3200000,
          2600000
         ],
         "yaxis": "y"
        },
        {
         "hovertemplate": "trackName=No Reason<br>date=%{x}<br>views=%{y}<extra></extra>",
         "legendgroup": "No Reason",
         "line": {
          "color": "#636efa",
          "dash": "solid"
         },
         "marker": {
          "symbol": "circle"
         },
         "mode": "lines+markers",
         "name": "No Reason",
         "showlegend": true,
         "type": "scattergl",
         "x": [
          "2024-05-17",
          "2024-05-20"
         ],
         "xaxis": "x",
         "y": [
          3200000,
          1700000
         ],
         "yaxis": "y"
        },
        {
         "hovertemplate": "trackName=One Call<br>date=%{x}<br>views=%{y}<extra></extra>",
         "legendgroup": "One Call",
         "line": {
          "color": "#EF553B",
          "dash": "solid"
         },
         "marker": {
          "symbol": "circle"
         },
         "mode": "lines+markers",
         "name": "One Call",
         "showlegend": true,
         "type": "scattergl",
         "x": [
          "2024-05-17",
          "2024-05-19"
         ],
         "xaxis": "x",
         "y": [
          59400000,
          59600000
         ],
         "yaxis": "y"
        },
        {
         "hovertemplate": "trackName=Pursuit Of Happiness (Nightmare) [feat. MGMT & Ratatat]<br>date=%{x}<br>views=%{y}<extra></extra>",
         "legendgroup": "Pursuit Of Happiness (Nightmare) [feat. MGMT & Ratatat]",
         "line": {
          "color": "#00cc96",
          "dash": "solid"
         },
         "marker": {
          "symbol": "circle"
         },
         "mode": "lines+markers",
         "name": "Pursuit Of Happiness (Nightmare) [feat. MGMT & Ratatat]",
         "showlegend": true,
         "type": "scattergl",
         "x": [
          "2024-05-17"
         ],
         "xaxis": "x",
         "y": [
          6900000
         ],
         "yaxis": "y"
        },
        {
         "hovertemplate": "trackName=Teenage Dirtbag<br>date=%{x}<br>views=%{y}<extra></extra>",
         "legendgroup": "Teenage Dirtbag",
         "line": {
          "color": "#ab63fa",
          "dash": "solid"
         },
         "marker": {
          "symbol": "circle"
         },
         "mode": "lines+markers",
         "name": "Teenage Dirtbag",
         "showlegend": true,
         "type": "scattergl",
         "x": [
          "2024-05-17"
         ],
         "xaxis": "x",
         "y": [
          27200000
         ],
         "yaxis": "y"
        },
        {
         "hovertemplate": "trackName=Watch Out<br>date=%{x}<br>views=%{y}<extra></extra>",
         "legendgroup": "Watch Out",
         "line": {
          "color": "#FFA15A",
          "dash": "solid"
         },
         "marker": {
          "symbol": "circle"
         },
         "mode": "lines+markers",
         "name": "Watch Out",
         "showlegend": true,
         "type": "scattergl",
         "x": [
          "2024-05-17",
          "2024-05-19",
          "2024-05-20",
          "2024-05-21"
         ],
         "xaxis": "x",
         "y": [
          10800000,
          10800000,
          5400000,
          10800000
         ],
         "yaxis": "y"
        },
        {
         "hovertemplate": "trackName=Whitley<br>date=%{x}<br>views=%{y}<extra></extra>",
         "legendgroup": "Whitley",
         "line": {
          "color": "#19d3f3",
          "dash": "solid"
         },
         "marker": {
          "symbol": "circle"
         },
         "mode": "lines+markers",
         "name": "Whitley",
         "showlegend": true,
         "type": "scattergl",
         "x": [
          "2024-05-17"
         ],
         "xaxis": "x",
         "y": [
          7500000
         ],
         "yaxis": "y"
        },
        {
         "hovertemplate": "trackName=Wipe Me Down (feat. Webbie, FOXX & Boosie Badazz) [Remix]<br>date=%{x}<br>views=%{y}<extra></extra>",
         "legendgroup": "Wipe Me Down (feat. Webbie, FOXX & Boosie Badazz) [Remix]",
         "line": {
          "color": "#FF6692",
          "dash": "solid"
         },
         "marker": {
          "symbol": "circle"
         },
         "mode": "lines+markers",
         "name": "Wipe Me Down (feat. Webbie, FOXX & Boosie Badazz) [Remix]",
         "showlegend": true,
         "type": "scattergl",
         "x": [
          "2024-05-17",
          "2024-05-19",
          "2024-05-21"
         ],
         "xaxis": "x",
         "y": [
          1900000,
          1900000,
          3800000
         ],
         "yaxis": "y"
        },
        {
         "hovertemplate": "trackName=Yeah !<br>date=%{x}<br>views=%{y}<extra></extra>",
         "legendgroup": "Yeah !",
         "line": {
          "color": "#B6E880",
          "dash": "solid"
         },
         "marker": {
          "symbol": "circle"
         },
         "mode": "lines+markers",
         "name": "Yeah !",
         "showlegend": true,
         "type": "scattergl",
         "x": [
          "2024-05-17"
         ],
         "xaxis": "x",
         "y": [
          17600000
         ],
         "yaxis": "y"
        },
        {
         "hovertemplate": "trackName=Yummy<br>date=%{x}<br>views=%{y}<extra></extra>",
         "legendgroup": "Yummy",
         "line": {
          "color": "#FF97FF",
          "dash": "solid"
         },
         "marker": {
          "symbol": "circle"
         },
         "mode": "lines+markers",
         "name": "Yummy",
         "showlegend": true,
         "type": "scattergl",
         "x": [
          "2024-05-17",
          "2024-05-21"
         ],
         "xaxis": "x",
         "y": [
          19400000,
          39000000
         ],
         "yaxis": "y"
        },
        {
         "hovertemplate": "trackName=bussin' (Brock's Method) [Stick Em 2k20 Remix]<br>date=%{x}<br>views=%{y}<extra></extra>",
         "legendgroup": "bussin' (Brock's Method) [Stick Em 2k20 Remix]",
         "line": {
          "color": "#FECB52",
          "dash": "solid"
         },
         "marker": {
          "symbol": "circle"
         },
         "mode": "lines+markers",
         "name": "bussin' (Brock's Method) [Stick Em 2k20 Remix]",
         "showlegend": true,
         "type": "scattergl",
         "x": [
          "2024-05-17"
         ],
         "xaxis": "x",
         "y": [
          7900000
         ],
         "yaxis": "y"
        },
        {
         "hovertemplate": "trackName=AMERICAN HORROR SHOW<br>date=%{x}<br>views=%{y}<extra></extra>",
         "legendgroup": "AMERICAN HORROR SHOW",
         "line": {
          "color": "#636efa",
          "dash": "solid"
         },
         "marker": {
          "symbol": "circle"
         },
         "mode": "lines+markers",
         "name": "AMERICAN HORROR SHOW",
         "showlegend": true,
         "type": "scattergl",
         "x": [
          "2024-05-18"
         ],
         "xaxis": "x",
         "y": [
          19800000
         ],
         "yaxis": "y"
        },
        {
         "hovertemplate": "trackName=Abre O Canal<br>date=%{x}<br>views=%{y}<extra></extra>",
         "legendgroup": "Abre O Canal",
         "line": {
          "color": "#EF553B",
          "dash": "solid"
         },
         "marker": {
          "symbol": "circle"
         },
         "mode": "lines+markers",
         "name": "Abre O Canal",
         "showlegend": true,
         "type": "scattergl",
         "x": [
          "2024-05-18"
         ],
         "xaxis": "x",
         "y": [
          43000
         ],
         "yaxis": "y"
        },
        {
         "hovertemplate": "trackName=Ami Tomar Sathe<br>date=%{x}<br>views=%{y}<extra></extra>",
         "legendgroup": "Ami Tomar Sathe",
         "line": {
          "color": "#00cc96",
          "dash": "solid"
         },
         "marker": {
          "symbol": "circle"
         },
         "mode": "lines+markers",
         "name": "Ami Tomar Sathe",
         "showlegend": true,
         "type": "scattergl",
         "x": [
          "2024-05-18"
         ],
         "xaxis": "x",
         "y": [
          9200000
         ],
         "yaxis": "y"
        },
        {
         "hovertemplate": "trackName=Aruarian Dance<br>date=%{x}<br>views=%{y}<extra></extra>",
         "legendgroup": "Aruarian Dance",
         "line": {
          "color": "#ab63fa",
          "dash": "solid"
         },
         "marker": {
          "symbol": "circle"
         },
         "mode": "lines+markers",
         "name": "Aruarian Dance",
         "showlegend": true,
         "type": "scattergl",
         "x": [
          "2024-05-18",
          "2024-05-21",
          "2024-06-02",
          "2024-06-03",
          "2024-06-04",
          "2024-06-05"
         ],
         "xaxis": "x",
         "y": [
          6900000,
          9200000,
          14100000,
          16600000,
          4700000,
          0
         ],
         "yaxis": "y"
        },
        {
         "hovertemplate": "trackName=Beautiful Things<br>date=%{x}<br>views=%{y}<extra></extra>",
         "legendgroup": "Beautiful Things",
         "line": {
          "color": "#FFA15A",
          "dash": "solid"
         },
         "marker": {
          "symbol": "circle"
         },
         "mode": "lines+markers",
         "name": "Beautiful Things",
         "showlegend": true,
         "type": "scattergl",
         "x": [
          "2024-05-18"
         ],
         "xaxis": "x",
         "y": [
          5200000
         ],
         "yaxis": "y"
        },
        {
         "hovertemplate": "trackName=Brazil<br>date=%{x}<br>views=%{y}<extra></extra>",
         "legendgroup": "Brazil",
         "line": {
          "color": "#19d3f3",
          "dash": "solid"
         },
         "marker": {
          "symbol": "circle"
         },
         "mode": "lines+markers",
         "name": "Brazil",
         "showlegend": true,
         "type": "scattergl",
         "x": [
          "2024-05-18"
         ],
         "xaxis": "x",
         "y": [
          4
         ],
         "yaxis": "y"
        },
        {
         "hovertemplate": "trackName=Bro It's Just a Corecore Video.<br>date=%{x}<br>views=%{y}<extra></extra>",
         "legendgroup": "Bro It's Just a Corecore Video.",
         "line": {
          "color": "#FF6692",
          "dash": "solid"
         },
         "marker": {
          "symbol": "circle"
         },
         "mode": "lines+markers",
         "name": "Bro It's Just a Corecore Video.",
         "showlegend": true,
         "type": "scattergl",
         "x": [
          "2024-05-18"
         ],
         "xaxis": "x",
         "y": [
          363
         ],
         "yaxis": "y"
        },
        {
         "hovertemplate": "trackName=Catallena<br>date=%{x}<br>views=%{y}<extra></extra>",
         "legendgroup": "Catallena",
         "line": {
          "color": "#B6E880",
          "dash": "solid"
         },
         "marker": {
          "symbol": "circle"
         },
         "mode": "lines+markers",
         "name": "Catallena",
         "showlegend": true,
         "type": "scattergl",
         "x": [
          "2024-05-18"
         ],
         "xaxis": "x",
         "y": [
          3000000
         ],
         "yaxis": "y"
        },
        {
         "hovertemplate": "trackName=Enough (Miami)<br>date=%{x}<br>views=%{y}<extra></extra>",
         "legendgroup": "Enough (Miami)",
         "line": {
          "color": "#FF97FF",
          "dash": "solid"
         },
         "marker": {
          "symbol": "circle"
         },
         "mode": "lines+markers",
         "name": "Enough (Miami)",
         "showlegend": true,
         "type": "scattergl",
         "x": [
          "2024-05-18",
          "2024-05-26",
          "2024-06-03"
         ],
         "xaxis": "x",
         "y": [
          4300000,
          4600000,
          9800000
         ],
         "yaxis": "y"
        },
        {
         "hovertemplate": "trackName=Funked Up<br>date=%{x}<br>views=%{y}<extra></extra>",
         "legendgroup": "Funked Up",
         "line": {
          "color": "#FECB52",
          "dash": "solid"
         },
         "marker": {
          "symbol": "circle"
         },
         "mode": "lines+markers",
         "name": "Funked Up",
         "showlegend": true,
         "type": "scattergl",
         "x": [
          "2024-05-18",
          "2024-06-10"
         ],
         "xaxis": "x",
         "y": [
          1800000,
          4600000
         ],
         "yaxis": "y"
        },
        {
         "hovertemplate": "trackName=Funny<br>date=%{x}<br>views=%{y}<extra></extra>",
         "legendgroup": "Funny",
         "line": {
          "color": "#636efa",
          "dash": "solid"
         },
         "marker": {
          "symbol": "circle"
         },
         "mode": "lines+markers",
         "name": "Funny",
         "showlegend": true,
         "type": "scattergl",
         "x": [
          "2024-05-18",
          "2024-05-19",
          "2024-05-20",
          "2024-06-05"
         ],
         "xaxis": "x",
         "y": [
          26100000,
          26100000,
          26100000,
          1600000
         ],
         "yaxis": "y"
        },
        {
         "hovertemplate": "trackName=Hell N Back<br>date=%{x}<br>views=%{y}<extra></extra>",
         "legendgroup": "Hell N Back",
         "line": {
          "color": "#EF553B",
          "dash": "solid"
         },
         "marker": {
          "symbol": "circle"
         },
         "mode": "lines+markers",
         "name": "Hell N Back",
         "showlegend": true,
         "type": "scattergl",
         "x": [
          "2024-05-18"
         ],
         "xaxis": "x",
         "y": [
          6
         ],
         "yaxis": "y"
        },
        {
         "hovertemplate": "trackName=Isukile (feat. Mbali The Real, Billi B & Zaba)<br>date=%{x}<br>views=%{y}<extra></extra>",
         "legendgroup": "Isukile (feat. Mbali The Real, Billi B & Zaba)",
         "line": {
          "color": "#00cc96",
          "dash": "solid"
         },
         "marker": {
          "symbol": "circle"
         },
         "mode": "lines+markers",
         "name": "Isukile (feat. Mbali The Real, Billi B & Zaba)",
         "showlegend": true,
         "type": "scattergl",
         "x": [
          "2024-05-18"
         ],
         "xaxis": "x",
         "y": [
          5200000
         ],
         "yaxis": "y"
        },
        {
         "hovertemplate": "trackName=Move Ya Body (feat. Jabba)<br>date=%{x}<br>views=%{y}<extra></extra>",
         "legendgroup": "Move Ya Body (feat. Jabba)",
         "line": {
          "color": "#ab63fa",
          "dash": "solid"
         },
         "marker": {
          "symbol": "circle"
         },
         "mode": "lines+markers",
         "name": "Move Ya Body (feat. Jabba)",
         "showlegend": true,
         "type": "scattergl",
         "x": [
          "2024-05-18",
          "2024-05-19"
         ],
         "xaxis": "x",
         "y": [
          2400000,
          2400000
         ],
         "yaxis": "y"
        },
        {
         "hovertemplate": "trackName=Na Na<br>date=%{x}<br>views=%{y}<extra></extra>",
         "legendgroup": "Na Na",
         "line": {
          "color": "#FFA15A",
          "dash": "solid"
         },
         "marker": {
          "symbol": "circle"
         },
         "mode": "lines+markers",
         "name": "Na Na",
         "showlegend": true,
         "type": "scattergl",
         "x": [
          "2024-05-18",
          "2024-05-19",
          "2024-05-20",
          "2024-05-22",
          "2024-05-23",
          "2024-05-26",
          "2024-06-06",
          "2024-06-09",
          "2024-06-10"
         ],
         "xaxis": "x",
         "y": [
          37400000,
          37400000,
          18700000,
          18800000,
          37800000,
          38200000,
          59700000,
          20100000,
          20200000
         ],
         "yaxis": "y"
        },
        {
         "hovertemplate": "trackName=Rice and Peas Riddim<br>date=%{x}<br>views=%{y}<extra></extra>",
         "legendgroup": "Rice and Peas Riddim",
         "line": {
          "color": "#19d3f3",
          "dash": "solid"
         },
         "marker": {
          "symbol": "circle"
         },
         "mode": "lines+markers",
         "name": "Rice and Peas Riddim",
         "showlegend": true,
         "type": "scattergl",
         "x": [
          "2024-05-18"
         ],
         "xaxis": "x",
         "y": [
          13800000
         ],
         "yaxis": "y"
        },
        {
         "hovertemplate": "trackName=Sus Improvisation<br>date=%{x}<br>views=%{y}<extra></extra>",
         "legendgroup": "Sus Improvisation",
         "line": {
          "color": "#FF6692",
          "dash": "solid"
         },
         "marker": {
          "symbol": "circle"
         },
         "mode": "lines+markers",
         "name": "Sus Improvisation",
         "showlegend": true,
         "type": "scattergl",
         "x": [
          "2024-05-18"
         ],
         "xaxis": "x",
         "y": [
          16200000
         ],
         "yaxis": "y"
        },
        {
         "hovertemplate": "trackName=Window Shopping<br>date=%{x}<br>views=%{y}<extra></extra>",
         "legendgroup": "Window Shopping",
         "line": {
          "color": "#B6E880",
          "dash": "solid"
         },
         "marker": {
          "symbol": "circle"
         },
         "mode": "lines+markers",
         "name": "Window Shopping",
         "showlegend": true,
         "type": "scattergl",
         "x": [
          "2024-05-18"
         ],
         "xaxis": "x",
         "y": [
          1100000
         ],
         "yaxis": "y"
        },
        {
         "hovertemplate": "trackName=Work (feat. Drake)<br>date=%{x}<br>views=%{y}<extra></extra>",
         "legendgroup": "Work (feat. Drake)",
         "line": {
          "color": "#FF97FF",
          "dash": "solid"
         },
         "marker": {
          "symbol": "circle"
         },
         "mode": "lines+markers",
         "name": "Work (feat. Drake)",
         "showlegend": true,
         "type": "scattergl",
         "x": [
          "2024-05-18",
          "2024-05-19",
          "2024-05-20",
          "2024-05-21",
          "2024-06-03",
          "2024-06-04",
          "2024-06-07",
          "2024-06-08",
          "2024-06-10"
         ],
         "xaxis": "x",
         "y": [
          4600000,
          9200000,
          9200000,
          4600000,
          20200000,
          10100000,
          60800000,
          30600000,
          10300000
         ],
         "yaxis": "y"
        },
        {
         "hovertemplate": "trackName=Your 19<br>date=%{x}<br>views=%{y}<extra></extra>",
         "legendgroup": "Your 19",
         "line": {
          "color": "#FECB52",
          "dash": "solid"
         },
         "marker": {
          "symbol": "circle"
         },
         "mode": "lines+markers",
         "name": "Your 19",
         "showlegend": true,
         "type": "scattergl",
         "x": [
          "2024-05-18"
         ],
         "xaxis": "x",
         "y": [
          5200000
         ],
         "yaxis": "y"
        },
        {
         "hovertemplate": "trackName=euphoria<br>date=%{x}<br>views=%{y}<extra></extra>",
         "legendgroup": "euphoria",
         "line": {
          "color": "#636efa",
          "dash": "solid"
         },
         "marker": {
          "symbol": "circle"
         },
         "mode": "lines+markers",
         "name": "euphoria",
         "showlegend": true,
         "type": "scattergl",
         "x": [
          "2024-05-18",
          "2024-06-04"
         ],
         "xaxis": "x",
         "y": [
          2900000,
          10700000
         ],
         "yaxis": "y"
        },
        {
         "hovertemplate": "trackName=Blind<br>date=%{x}<br>views=%{y}<extra></extra>",
         "legendgroup": "Blind",
         "line": {
          "color": "#EF553B",
          "dash": "solid"
         },
         "marker": {
          "symbol": "circle"
         },
         "mode": "lines+markers",
         "name": "Blind",
         "showlegend": true,
         "type": "scattergl",
         "x": [
          "2024-05-19"
         ],
         "xaxis": "x",
         "y": [
          4700000
         ],
         "yaxis": "y"
        },
        {
         "hovertemplate": "trackName=CLEARED - Remix<br>date=%{x}<br>views=%{y}<extra></extra>",
         "legendgroup": "CLEARED - Remix",
         "line": {
          "color": "#00cc96",
          "dash": "solid"
         },
         "marker": {
          "symbol": "circle"
         },
         "mode": "lines+markers",
         "name": "CLEARED - Remix",
         "showlegend": true,
         "type": "scattergl",
         "x": [
          "2024-05-19",
          "2024-05-21",
          "2024-05-22"
         ],
         "xaxis": "x",
         "y": [
          39600000,
          4500000,
          13800000
         ],
         "yaxis": "y"
        },
        {
         "hovertemplate": "trackName=Drama Baby<br>date=%{x}<br>views=%{y}<extra></extra>",
         "legendgroup": "Drama Baby",
         "line": {
          "color": "#ab63fa",
          "dash": "solid"
         },
         "marker": {
          "symbol": "circle"
         },
         "mode": "lines+markers",
         "name": "Drama Baby",
         "showlegend": true,
         "type": "scattergl",
         "x": [
          "2024-05-19"
         ],
         "xaxis": "x",
         "y": [
          2000000
         ],
         "yaxis": "y"
        },
        {
         "hovertemplate": "trackName=Hey Daddy (Daddy's Home) [feat. Plies]<br>date=%{x}<br>views=%{y}<extra></extra>",
         "legendgroup": "Hey Daddy (Daddy's Home) [feat. Plies]",
         "line": {
          "color": "#FFA15A",
          "dash": "solid"
         },
         "marker": {
          "symbol": "circle"
         },
         "mode": "lines+markers",
         "name": "Hey Daddy (Daddy's Home) [feat. Plies]",
         "showlegend": true,
         "type": "scattergl",
         "x": [
          "2024-05-19"
         ],
         "xaxis": "x",
         "y": [
          8000000
         ],
         "yaxis": "y"
        },
        {
         "hovertemplate": "trackName=I Like It<br>date=%{x}<br>views=%{y}<extra></extra>",
         "legendgroup": "I Like It",
         "line": {
          "color": "#19d3f3",
          "dash": "solid"
         },
         "marker": {
          "symbol": "circle"
         },
         "mode": "lines+markers",
         "name": "I Like It",
         "showlegend": true,
         "type": "scattergl",
         "x": [
          "2024-05-19"
         ],
         "xaxis": "x",
         "y": [
          15400000
         ],
         "yaxis": "y"
        },
        {
         "hovertemplate": "trackName=Lamborghini<br>date=%{x}<br>views=%{y}<extra></extra>",
         "legendgroup": "Lamborghini",
         "line": {
          "color": "#FF6692",
          "dash": "solid"
         },
         "marker": {
          "symbol": "circle"
         },
         "mode": "lines+markers",
         "name": "Lamborghini",
         "showlegend": true,
         "type": "scattergl",
         "x": [
          "2024-05-19"
         ],
         "xaxis": "x",
         "y": [
          10200000
         ],
         "yaxis": "y"
        },
        {
         "hovertemplate": "trackName=Life in My House<br>date=%{x}<br>views=%{y}<extra></extra>",
         "legendgroup": "Life in My House",
         "line": {
          "color": "#B6E880",
          "dash": "solid"
         },
         "marker": {
          "symbol": "circle"
         },
         "mode": "lines+markers",
         "name": "Life in My House",
         "showlegend": true,
         "type": "scattergl",
         "x": [
          "2024-05-19"
         ],
         "xaxis": "x",
         "y": [
          45700000
         ],
         "yaxis": "y"
        },
        {
         "hovertemplate": "trackName=Meme It Up<br>date=%{x}<br>views=%{y}<extra></extra>",
         "legendgroup": "Meme It Up",
         "line": {
          "color": "#FF97FF",
          "dash": "solid"
         },
         "marker": {
          "symbol": "circle"
         },
         "mode": "lines+markers",
         "name": "Meme It Up",
         "showlegend": true,
         "type": "scattergl",
         "x": [
          "2024-05-19"
         ],
         "xaxis": "x",
         "y": [
          3200000
         ],
         "yaxis": "y"
        },
        {
         "hovertemplate": "trackName=Meticulous<br>date=%{x}<br>views=%{y}<extra></extra>",
         "legendgroup": "Meticulous",
         "line": {
          "color": "#FECB52",
          "dash": "solid"
         },
         "marker": {
          "symbol": "circle"
         },
         "mode": "lines+markers",
         "name": "Meticulous",
         "showlegend": true,
         "type": "scattergl",
         "x": [
          "2024-05-19"
         ],
         "xaxis": "x",
         "y": [
          15500000
         ],
         "yaxis": "y"
        },
        {
         "hovertemplate": "trackName=Pbj (MIXX)<br>date=%{x}<br>views=%{y}<extra></extra>",
         "legendgroup": "Pbj (MIXX)",
         "line": {
          "color": "#636efa",
          "dash": "solid"
         },
         "marker": {
          "symbol": "circle"
         },
         "mode": "lines+markers",
         "name": "Pbj (MIXX)",
         "showlegend": true,
         "type": "scattergl",
         "x": [
          "2024-05-19",
          "2024-05-21"
         ],
         "xaxis": "x",
         "y": [
          4800000,
          2000000
         ],
         "yaxis": "y"
        },
        {
         "hovertemplate": "trackName=She Know What She Wanted<br>date=%{x}<br>views=%{y}<extra></extra>",
         "legendgroup": "She Know What She Wanted",
         "line": {
          "color": "#EF553B",
          "dash": "solid"
         },
         "marker": {
          "symbol": "circle"
         },
         "mode": "lines+markers",
         "name": "She Know What She Wanted",
         "showlegend": true,
         "type": "scattergl",
         "x": [
          "2024-05-19",
          "2024-05-21",
          "2024-05-28",
          "2024-05-30"
         ],
         "xaxis": "x",
         "y": [
          5000000,
          5200000,
          3600000,
          3600000
         ],
         "yaxis": "y"
        },
        {
         "hovertemplate": "trackName=She Twerkin<br>date=%{x}<br>views=%{y}<extra></extra>",
         "legendgroup": "She Twerkin",
         "line": {
          "color": "#00cc96",
          "dash": "solid"
         },
         "marker": {
          "symbol": "circle"
         },
         "mode": "lines+markers",
         "name": "She Twerkin",
         "showlegend": true,
         "type": "scattergl",
         "x": [
          "2024-05-19"
         ],
         "xaxis": "x",
         "y": [
          15300000
         ],
         "yaxis": "y"
        },
        {
         "hovertemplate": "trackName=Tequila<br>date=%{x}<br>views=%{y}<extra></extra>",
         "legendgroup": "Tequila",
         "line": {
          "color": "#ab63fa",
          "dash": "solid"
         },
         "marker": {
          "symbol": "circle"
         },
         "mode": "lines+markers",
         "name": "Tequila",
         "showlegend": true,
         "type": "scattergl",
         "x": [
          "2024-05-19"
         ],
         "xaxis": "x",
         "y": [
          9800000
         ],
         "yaxis": "y"
        },
        {
         "hovertemplate": "trackName=White Girl<br>date=%{x}<br>views=%{y}<extra></extra>",
         "legendgroup": "White Girl",
         "line": {
          "color": "#FFA15A",
          "dash": "solid"
         },
         "marker": {
          "symbol": "circle"
         },
         "mode": "lines+markers",
         "name": "White Girl",
         "showlegend": true,
         "type": "scattergl",
         "x": [
          "2024-05-19"
         ],
         "xaxis": "x",
         "y": [
          12500000
         ],
         "yaxis": "y"
        },
        {
         "hovertemplate": "trackName=ç­ç±105Â°Cçä½ <br>date=%{x}<br>views=%{y}<extra></extra>",
         "legendgroup": "ç­ç±105Â°Cçä½ ",
         "line": {
          "color": "#19d3f3",
          "dash": "solid"
         },
         "marker": {
          "symbol": "circle"
         },
         "mode": "lines+markers",
         "name": "ç­ç±105Â°Cçä½ ",
         "showlegend": true,
         "type": "scattergl",
         "x": [
          "2024-05-19"
         ],
         "xaxis": "x",
         "y": [
          7900000
         ],
         "yaxis": "y"
        },
        {
         "hovertemplate": "trackName=Bodak Yellow<br>date=%{x}<br>views=%{y}<extra></extra>",
         "legendgroup": "Bodak Yellow",
         "line": {
          "color": "#FF6692",
          "dash": "solid"
         },
         "marker": {
          "symbol": "circle"
         },
         "mode": "lines+markers",
         "name": "Bodak Yellow",
         "showlegend": true,
         "type": "scattergl",
         "x": [
          "2024-05-20"
         ],
         "xaxis": "x",
         "y": [
          40800000
         ],
         "yaxis": "y"
        },
        {
         "hovertemplate": "trackName=Down with the Sickness<br>date=%{x}<br>views=%{y}<extra></extra>",
         "legendgroup": "Down with the Sickness",
         "line": {
          "color": "#B6E880",
          "dash": "solid"
         },
         "marker": {
          "symbol": "circle"
         },
         "mode": "lines+markers",
         "name": "Down with the Sickness",
         "showlegend": true,
         "type": "scattergl",
         "x": [
          "2024-05-20",
          "2024-05-21"
         ],
         "xaxis": "x",
         "y": [
          3600000,
          7200000
         ],
         "yaxis": "y"
        },
        {
         "hovertemplate": "trackName=Finesse<br>date=%{x}<br>views=%{y}<extra></extra>",
         "legendgroup": "Finesse",
         "line": {
          "color": "#FF97FF",
          "dash": "solid"
         },
         "marker": {
          "symbol": "circle"
         },
         "mode": "lines+markers",
         "name": "Finesse",
         "showlegend": true,
         "type": "scattergl",
         "x": [
          "2024-05-20"
         ],
         "xaxis": "x",
         "y": [
          8000000
         ],
         "yaxis": "y"
        },
        {
         "hovertemplate": "trackName=Omg Shes Bald<br>date=%{x}<br>views=%{y}<extra></extra>",
         "legendgroup": "Omg Shes Bald",
         "line": {
          "color": "#FECB52",
          "dash": "solid"
         },
         "marker": {
          "symbol": "circle"
         },
         "mode": "lines+markers",
         "name": "Omg Shes Bald",
         "showlegend": true,
         "type": "scattergl",
         "x": [
          "2024-05-20"
         ],
         "xaxis": "x",
         "y": [
          20100000
         ],
         "yaxis": "y"
        },
        {
         "hovertemplate": "trackName=Stan (feat. Dido)<br>date=%{x}<br>views=%{y}<extra></extra>",
         "legendgroup": "Stan (feat. Dido)",
         "line": {
          "color": "#636efa",
          "dash": "solid"
         },
         "marker": {
          "symbol": "circle"
         },
         "mode": "lines+markers",
         "name": "Stan (feat. Dido)",
         "showlegend": true,
         "type": "scattergl",
         "x": [
          "2024-05-20",
          "2024-05-27",
          "2024-05-30",
          "2024-06-03",
          "2024-06-05",
          "2024-06-06",
          "2024-06-08",
          "2024-06-10"
         ],
         "xaxis": "x",
         "y": [
          19500000,
          21100000,
          22000000,
          1200000,
          1300000,
          1300000,
          1300000,
          1400000
         ],
         "yaxis": "y"
        },
        {
         "hovertemplate": "trackName=The Lost Soul Down<br>date=%{x}<br>views=%{y}<extra></extra>",
         "legendgroup": "The Lost Soul Down",
         "line": {
          "color": "#EF553B",
          "dash": "solid"
         },
         "marker": {
          "symbol": "circle"
         },
         "mode": "lines+markers",
         "name": "The Lost Soul Down",
         "showlegend": true,
         "type": "scattergl",
         "x": [
          "2024-05-20"
         ],
         "xaxis": "x",
         "y": [
          5100000
         ],
         "yaxis": "y"
        },
        {
         "hovertemplate": "trackName=We Don't Talk About Bruno (From \"Encanto\"/Soundtrack Version)<br>date=%{x}<br>views=%{y}<extra></extra>",
         "legendgroup": "We Don't Talk About Bruno (From \"Encanto\"/Soundtrack Version)",
         "line": {
          "color": "#00cc96",
          "dash": "solid"
         },
         "marker": {
          "symbol": "circle"
         },
         "mode": "lines+markers",
         "name": "We Don't Talk About Bruno (From \"Encanto\"/Soundtrack Version)",
         "showlegend": true,
         "type": "scattergl",
         "x": [
          "2024-05-20"
         ],
         "xaxis": "x",
         "y": [
          18100000
         ],
         "yaxis": "y"
        },
        {
         "hovertemplate": "trackName=We Don't Talk About Yeah!<br>date=%{x}<br>views=%{y}<extra></extra>",
         "legendgroup": "We Don't Talk About Yeah!",
         "line": {
          "color": "#ab63fa",
          "dash": "solid"
         },
         "marker": {
          "symbol": "circle"
         },
         "mode": "lines+markers",
         "name": "We Don't Talk About Yeah!",
         "showlegend": true,
         "type": "scattergl",
         "x": [
          "2024-05-20"
         ],
         "xaxis": "x",
         "y": [
          18100000
         ],
         "yaxis": "y"
        },
        {
         "hovertemplate": "trackName=#Sweetladychallenge<br>date=%{x}<br>views=%{y}<extra></extra>",
         "legendgroup": "#Sweetladychallenge",
         "line": {
          "color": "#FFA15A",
          "dash": "solid"
         },
         "marker": {
          "symbol": "circle"
         },
         "mode": "lines+markers",
         "name": "#Sweetladychallenge",
         "showlegend": true,
         "type": "scattergl",
         "x": [
          "2024-05-21"
         ],
         "xaxis": "x",
         "y": [
          5700000
         ],
         "yaxis": "y"
        },
        {
         "hovertemplate": "trackName=Baddie Friend (Two Bad Bitches) [feat. House of Evo]<br>date=%{x}<br>views=%{y}<extra></extra>",
         "legendgroup": "Baddie Friend (Two Bad Bitches) [feat. House of Evo]",
         "line": {
          "color": "#19d3f3",
          "dash": "solid"
         },
         "marker": {
          "symbol": "circle"
         },
         "mode": "lines+markers",
         "name": "Baddie Friend (Two Bad Bitches) [feat. House of Evo]",
         "showlegend": true,
         "type": "scattergl",
         "x": [
          "2024-05-21"
         ],
         "xaxis": "x",
         "y": [
          2900000
         ],
         "yaxis": "y"
        },
        {
         "hovertemplate": "trackName=Bando Freestyle<br>date=%{x}<br>views=%{y}<extra></extra>",
         "legendgroup": "Bando Freestyle",
         "line": {
          "color": "#FF6692",
          "dash": "solid"
         },
         "marker": {
          "symbol": "circle"
         },
         "mode": "lines+markers",
         "name": "Bando Freestyle",
         "showlegend": true,
         "type": "scattergl",
         "x": [
          "2024-05-21",
          "2024-05-22",
          "2024-05-23",
          "2024-05-24",
          "2024-05-28",
          "2024-05-29",
          "2024-05-30",
          "2024-06-03",
          "2024-06-05"
         ],
         "xaxis": "x",
         "y": [
          63100000,
          126600000,
          63500000,
          190800000,
          128600000,
          129000000,
          64700000,
          131600000,
          66400000
         ],
         "yaxis": "y"
        },
        {
         "hovertemplate": "trackName=Bow Bow Bow (F My Baby Dad)<br>date=%{x}<br>views=%{y}<extra></extra>",
         "legendgroup": "Bow Bow Bow (F My Baby Dad)",
         "line": {
          "color": "#B6E880",
          "dash": "solid"
         },
         "marker": {
          "symbol": "circle"
         },
         "mode": "lines+markers",
         "name": "Bow Bow Bow (F My Baby Dad)",
         "showlegend": true,
         "type": "scattergl",
         "x": [
          "2024-05-21",
          "2024-05-22",
          "2024-05-27",
          "2024-05-28",
          "2024-05-30"
         ],
         "xaxis": "x",
         "y": [
          3800000,
          4000000,
          19300000,
          9300000,
          6900000
         ],
         "yaxis": "y"
        },
        {
         "hovertemplate": "trackName=Caseoh<br>date=%{x}<br>views=%{y}<extra></extra>",
         "legendgroup": "Caseoh",
         "line": {
          "color": "#FF97FF",
          "dash": "solid"
         },
         "marker": {
          "symbol": "circle"
         },
         "mode": "lines+markers",
         "name": "Caseoh",
         "showlegend": true,
         "type": "scattergl",
         "x": [
          "2024-05-21"
         ],
         "xaxis": "x",
         "y": [
          2800000
         ],
         "yaxis": "y"
        },
        {
         "hovertemplate": "trackName=EEYUH!<br>date=%{x}<br>views=%{y}<extra></extra>",
         "legendgroup": "EEYUH!",
         "line": {
          "color": "#FECB52",
          "dash": "solid"
         },
         "marker": {
          "symbol": "circle"
         },
         "mode": "lines+markers",
         "name": "EEYUH!",
         "showlegend": true,
         "type": "scattergl",
         "x": [
          "2024-05-21"
         ],
         "xaxis": "x",
         "y": [
          5800000
         ],
         "yaxis": "y"
        },
        {
         "hovertemplate": "trackName=Eat Her Up<br>date=%{x}<br>views=%{y}<extra></extra>",
         "legendgroup": "Eat Her Up",
         "line": {
          "color": "#636efa",
          "dash": "solid"
         },
         "marker": {
          "symbol": "circle"
         },
         "mode": "lines+markers",
         "name": "Eat Her Up",
         "showlegend": true,
         "type": "scattergl",
         "x": [
          "2024-05-21"
         ],
         "xaxis": "x",
         "y": [
          1100000
         ],
         "yaxis": "y"
        },
        {
         "hovertemplate": "trackName=Epic Inspiration<br>date=%{x}<br>views=%{y}<extra></extra>",
         "legendgroup": "Epic Inspiration",
         "line": {
          "color": "#EF553B",
          "dash": "solid"
         },
         "marker": {
          "symbol": "circle"
         },
         "mode": "lines+markers",
         "name": "Epic Inspiration",
         "showlegend": true,
         "type": "scattergl",
         "x": [
          "2024-05-21",
          "2024-05-22"
         ],
         "xaxis": "x",
         "y": [
          12300000,
          12300000
         ],
         "yaxis": "y"
        },
        {
         "hovertemplate": "trackName=Gamez<br>date=%{x}<br>views=%{y}<extra></extra>",
         "legendgroup": "Gamez",
         "line": {
          "color": "#00cc96",
          "dash": "solid"
         },
         "marker": {
          "symbol": "circle"
         },
         "mode": "lines+markers",
         "name": "Gamez",
         "showlegend": true,
         "type": "scattergl",
         "x": [
          "2024-05-21"
         ],
         "xaxis": "x",
         "y": [
          10000000
         ],
         "yaxis": "y"
        },
        {
         "hovertemplate": "trackName=Go To Work<br>date=%{x}<br>views=%{y}<extra></extra>",
         "legendgroup": "Go To Work",
         "line": {
          "color": "#ab63fa",
          "dash": "solid"
         },
         "marker": {
          "symbol": "circle"
         },
         "mode": "lines+markers",
         "name": "Go To Work",
         "showlegend": true,
         "type": "scattergl",
         "x": [
          "2024-05-21"
         ],
         "xaxis": "x",
         "y": [
          6200000
         ],
         "yaxis": "y"
        },
        {
         "hovertemplate": "trackName=Gurgaon<br>date=%{x}<br>views=%{y}<extra></extra>",
         "legendgroup": "Gurgaon",
         "line": {
          "color": "#FFA15A",
          "dash": "solid"
         },
         "marker": {
          "symbol": "circle"
         },
         "mode": "lines+markers",
         "name": "Gurgaon",
         "showlegend": true,
         "type": "scattergl",
         "x": [
          "2024-05-21",
          "2024-06-05"
         ],
         "xaxis": "x",
         "y": [
          6300000,
          6700000
         ],
         "yaxis": "y"
        },
        {
         "hovertemplate": "trackName=Happy New Year<br>date=%{x}<br>views=%{y}<extra></extra>",
         "legendgroup": "Happy New Year",
         "line": {
          "color": "#19d3f3",
          "dash": "solid"
         },
         "marker": {
          "symbol": "circle"
         },
         "mode": "lines+markers",
         "name": "Happy New Year",
         "showlegend": true,
         "type": "scattergl",
         "x": [
          "2024-05-21"
         ],
         "xaxis": "x",
         "y": [
          2300000
         ],
         "yaxis": "y"
        },
        {
         "hovertemplate": "trackName=Harness Your Hopes (B-side)<br>date=%{x}<br>views=%{y}<extra></extra>",
         "legendgroup": "Harness Your Hopes (B-side)",
         "line": {
          "color": "#FF6692",
          "dash": "solid"
         },
         "marker": {
          "symbol": "circle"
         },
         "mode": "lines+markers",
         "name": "Harness Your Hopes (B-side)",
         "showlegend": true,
         "type": "scattergl",
         "x": [
          "2024-05-21"
         ],
         "xaxis": "x",
         "y": [
          6800000
         ],
         "yaxis": "y"
        },
        {
         "hovertemplate": "trackName=Has It Hit Yet??<br>date=%{x}<br>views=%{y}<extra></extra>",
         "legendgroup": "Has It Hit Yet??",
         "line": {
          "color": "#B6E880",
          "dash": "solid"
         },
         "marker": {
          "symbol": "circle"
         },
         "mode": "lines+markers",
         "name": "Has It Hit Yet??",
         "showlegend": true,
         "type": "scattergl",
         "x": [
          "2024-05-21"
         ],
         "xaxis": "x",
         "y": [
          8700000
         ],
         "yaxis": "y"
        },
        {
         "hovertemplate": "trackName=Honey Pack<br>date=%{x}<br>views=%{y}<extra></extra>",
         "legendgroup": "Honey Pack",
         "line": {
          "color": "#FF97FF",
          "dash": "solid"
         },
         "marker": {
          "symbol": "circle"
         },
         "mode": "lines+markers",
         "name": "Honey Pack",
         "showlegend": true,
         "type": "scattergl",
         "x": [
          "2024-05-21"
         ],
         "xaxis": "x",
         "y": [
          2700000
         ],
         "yaxis": "y"
        },
        {
         "hovertemplate": "trackName=I Was Only Temporary 2 U<br>date=%{x}<br>views=%{y}<extra></extra>",
         "legendgroup": "I Was Only Temporary 2 U",
         "line": {
          "color": "#FECB52",
          "dash": "solid"
         },
         "marker": {
          "symbol": "circle"
         },
         "mode": "lines+markers",
         "name": "I Was Only Temporary 2 U",
         "showlegend": true,
         "type": "scattergl",
         "x": [
          "2024-05-21"
         ],
         "xaxis": "x",
         "y": [
          6400000
         ],
         "yaxis": "y"
        },
        {
         "hovertemplate": "trackName=Lil Boo Thang<br>date=%{x}<br>views=%{y}<extra></extra>",
         "legendgroup": "Lil Boo Thang",
         "line": {
          "color": "#636efa",
          "dash": "solid"
         },
         "marker": {
          "symbol": "circle"
         },
         "mode": "lines+markers",
         "name": "Lil Boo Thang",
         "showlegend": true,
         "type": "scattergl",
         "x": [
          "2024-05-21",
          "2024-05-22"
         ],
         "xaxis": "x",
         "y": [
          2400000,
          3600000
         ],
         "yaxis": "y"
        },
        {
         "hovertemplate": "trackName=Little Bit<br>date=%{x}<br>views=%{y}<extra></extra>",
         "legendgroup": "Little Bit",
         "line": {
          "color": "#EF553B",
          "dash": "solid"
         },
         "marker": {
          "symbol": "circle"
         },
         "mode": "lines+markers",
         "name": "Little Bit",
         "showlegend": true,
         "type": "scattergl",
         "x": [
          "2024-05-21"
         ],
         "xaxis": "x",
         "y": [
          4200000
         ],
         "yaxis": "y"
        },
        {
         "hovertemplate": "trackName=Money!<br>date=%{x}<br>views=%{y}<extra></extra>",
         "legendgroup": "Money!",
         "line": {
          "color": "#00cc96",
          "dash": "solid"
         },
         "marker": {
          "symbol": "circle"
         },
         "mode": "lines+markers",
         "name": "Money!",
         "showlegend": true,
         "type": "scattergl",
         "x": [
          "2024-05-21"
         ],
         "xaxis": "x",
         "y": [
          3600000
         ],
         "yaxis": "y"
        },
        {
         "hovertemplate": "trackName=My6<br>date=%{x}<br>views=%{y}<extra></extra>",
         "legendgroup": "My6",
         "line": {
          "color": "#ab63fa",
          "dash": "solid"
         },
         "marker": {
          "symbol": "circle"
         },
         "mode": "lines+markers",
         "name": "My6",
         "showlegend": true,
         "type": "scattergl",
         "x": [
          "2024-05-21"
         ],
         "xaxis": "x",
         "y": [
          90900000
         ],
         "yaxis": "y"
        },
        {
         "hovertemplate": "trackName=No Extensions<br>date=%{x}<br>views=%{y}<extra></extra>",
         "legendgroup": "No Extensions",
         "line": {
          "color": "#FFA15A",
          "dash": "solid"
         },
         "marker": {
          "symbol": "circle"
         },
         "mode": "lines+markers",
         "name": "No Extensions",
         "showlegend": true,
         "type": "scattergl",
         "x": [
          "2024-05-21"
         ],
         "xaxis": "x",
         "y": [
          8600000
         ],
         "yaxis": "y"
        },
        {
         "hovertemplate": "trackName=Perfect<br>date=%{x}<br>views=%{y}<extra></extra>",
         "legendgroup": "Perfect",
         "line": {
          "color": "#19d3f3",
          "dash": "solid"
         },
         "marker": {
          "symbol": "circle"
         },
         "mode": "lines+markers",
         "name": "Perfect",
         "showlegend": true,
         "type": "scattergl",
         "x": [
          "2024-05-21"
         ],
         "xaxis": "x",
         "y": [
          33800000
         ],
         "yaxis": "y"
        },
        {
         "hovertemplate": "trackName=Playboy<br>date=%{x}<br>views=%{y}<extra></extra>",
         "legendgroup": "Playboy",
         "line": {
          "color": "#FF6692",
          "dash": "solid"
         },
         "marker": {
          "symbol": "circle"
         },
         "mode": "lines+markers",
         "name": "Playboy",
         "showlegend": true,
         "type": "scattergl",
         "x": [
          "2024-05-21"
         ],
         "xaxis": "x",
         "y": [
          11500000
         ],
         "yaxis": "y"
        },
        {
         "hovertemplate": "trackName=Playground Love (feat. Gordon Tracks)<br>date=%{x}<br>views=%{y}<extra></extra>",
         "legendgroup": "Playground Love (feat. Gordon Tracks)",
         "line": {
          "color": "#B6E880",
          "dash": "solid"
         },
         "marker": {
          "symbol": "circle"
         },
         "mode": "lines+markers",
         "name": "Playground Love (feat. Gordon Tracks)",
         "showlegend": true,
         "type": "scattergl",
         "x": [
          "2024-05-21",
          "2024-05-23",
          "2024-05-25",
          "2024-05-26",
          "2024-05-28",
          "2024-05-30",
          "2024-05-31",
          "2024-06-01",
          "2024-06-03",
          "2024-06-04",
          "2024-06-05",
          "2024-06-06"
         ],
         "xaxis": "x",
         "y": [
          38900000,
          79000000,
          79600000,
          39900000,
          40100000,
          40300000,
          80800000,
          40600000,
          82200000,
          41300000,
          0,
          41500000
         ],
         "yaxis": "y"
        },
        {
         "hovertemplate": "trackName=Remember You<br>date=%{x}<br>views=%{y}<extra></extra>",
         "legendgroup": "Remember You",
         "line": {
          "color": "#FF97FF",
          "dash": "solid"
         },
         "marker": {
          "symbol": "circle"
         },
         "mode": "lines+markers",
         "name": "Remember You",
         "showlegend": true,
         "type": "scattergl",
         "x": [
          "2024-05-21"
         ],
         "xaxis": "x",
         "y": [
          10800000
         ],
         "yaxis": "y"
        },
        {
         "hovertemplate": "trackName=Run the World (Girls)<br>date=%{x}<br>views=%{y}<extra></extra>",
         "legendgroup": "Run the World (Girls)",
         "line": {
          "color": "#FECB52",
          "dash": "solid"
         },
         "marker": {
          "symbol": "circle"
         },
         "mode": "lines+markers",
         "name": "Run the World (Girls)",
         "showlegend": true,
         "type": "scattergl",
         "x": [
          "2024-05-21"
         ],
         "xaxis": "x",
         "y": [
          1500000
         ],
         "yaxis": "y"
        },
        {
         "hovertemplate": "trackName=Running Away<br>date=%{x}<br>views=%{y}<extra></extra>",
         "legendgroup": "Running Away",
         "line": {
          "color": "#636efa",
          "dash": "solid"
         },
         "marker": {
          "symbol": "circle"
         },
         "mode": "lines+markers",
         "name": "Running Away",
         "showlegend": true,
         "type": "scattergl",
         "x": [
          "2024-05-21"
         ],
         "xaxis": "x",
         "y": [
          17100000
         ],
         "yaxis": "y"
        },
        {
         "hovertemplate": "trackName=San Juanito Parrandero<br>date=%{x}<br>views=%{y}<extra></extra>",
         "legendgroup": "San Juanito Parrandero",
         "line": {
          "color": "#EF553B",
          "dash": "solid"
         },
         "marker": {
          "symbol": "circle"
         },
         "mode": "lines+markers",
         "name": "San Juanito Parrandero",
         "showlegend": true,
         "type": "scattergl",
         "x": [
          "2024-05-21"
         ],
         "xaxis": "x",
         "y": [
          8000000
         ],
         "yaxis": "y"
        },
        {
         "hovertemplate": "trackName=Seppuku (feat. Baldie Balboa)<br>date=%{x}<br>views=%{y}<extra></extra>",
         "legendgroup": "Seppuku (feat. Baldie Balboa)",
         "line": {
          "color": "#00cc96",
          "dash": "solid"
         },
         "marker": {
          "symbol": "circle"
         },
         "mode": "lines+markers",
         "name": "Seppuku (feat. Baldie Balboa)",
         "showlegend": true,
         "type": "scattergl",
         "x": [
          "2024-05-21"
         ],
         "xaxis": "x",
         "y": [
          1200000
         ],
         "yaxis": "y"
        },
        {
         "hovertemplate": "trackName=Sge Sa x Rtm Nia (Get in mode 2)<br>date=%{x}<br>views=%{y}<extra></extra>",
         "legendgroup": "Sge Sa x Rtm Nia (Get in mode 2)",
         "line": {
          "color": "#ab63fa",
          "dash": "solid"
         },
         "marker": {
          "symbol": "circle"
         },
         "mode": "lines+markers",
         "name": "Sge Sa x Rtm Nia (Get in mode 2)",
         "showlegend": true,
         "type": "scattergl",
         "x": [
          "2024-05-21"
         ],
         "xaxis": "x",
         "y": [
          2100000
         ],
         "yaxis": "y"
        },
        {
         "hovertemplate": "trackName=Skyfall<br>date=%{x}<br>views=%{y}<extra></extra>",
         "legendgroup": "Skyfall",
         "line": {
          "color": "#FFA15A",
          "dash": "solid"
         },
         "marker": {
          "symbol": "circle"
         },
         "mode": "lines+markers",
         "name": "Skyfall",
         "showlegend": true,
         "type": "scattergl",
         "x": [
          "2024-05-21"
         ],
         "xaxis": "x",
         "y": [
          5500000
         ],
         "yaxis": "y"
        },
        {
         "hovertemplate": "trackName=Tokyo<br>date=%{x}<br>views=%{y}<extra></extra>",
         "legendgroup": "Tokyo",
         "line": {
          "color": "#19d3f3",
          "dash": "solid"
         },
         "marker": {
          "symbol": "circle"
         },
         "mode": "lines+markers",
         "name": "Tokyo",
         "showlegend": true,
         "type": "scattergl",
         "x": [
          "2024-05-21",
          "2024-06-05"
         ],
         "xaxis": "x",
         "y": [
          2300000,
          1500000
         ],
         "yaxis": "y"
        },
        {
         "hovertemplate": "trackName=Trap Queen<br>date=%{x}<br>views=%{y}<extra></extra>",
         "legendgroup": "Trap Queen",
         "line": {
          "color": "#FF6692",
          "dash": "solid"
         },
         "marker": {
          "symbol": "circle"
         },
         "mode": "lines+markers",
         "name": "Trap Queen",
         "showlegend": true,
         "type": "scattergl",
         "x": [
          "2024-05-21"
         ],
         "xaxis": "x",
         "y": [
          2000000
         ],
         "yaxis": "y"
        },
        {
         "hovertemplate": "trackName=Tu Eres una Celosa Yo No Soy Celosa<br>date=%{x}<br>views=%{y}<extra></extra>",
         "legendgroup": "Tu Eres una Celosa Yo No Soy Celosa",
         "line": {
          "color": "#B6E880",
          "dash": "solid"
         },
         "marker": {
          "symbol": "circle"
         },
         "mode": "lines+markers",
         "name": "Tu Eres una Celosa Yo No Soy Celosa",
         "showlegend": true,
         "type": "scattergl",
         "x": [
          "2024-05-21"
         ],
         "xaxis": "x",
         "y": [
          6800000
         ],
         "yaxis": "y"
        },
        {
         "hovertemplate": "trackName=What You Know Bout Love<br>date=%{x}<br>views=%{y}<extra></extra>",
         "legendgroup": "What You Know Bout Love",
         "line": {
          "color": "#FF97FF",
          "dash": "solid"
         },
         "marker": {
          "symbol": "circle"
         },
         "mode": "lines+markers",
         "name": "What You Know Bout Love",
         "showlegend": true,
         "type": "scattergl",
         "x": [
          "2024-05-21"
         ],
         "xaxis": "x",
         "y": [
          6300000
         ],
         "yaxis": "y"
        },
        {
         "hovertemplate": "trackName=kompa pasiÃ³n<br>date=%{x}<br>views=%{y}<extra></extra>",
         "legendgroup": "kompa pasiÃ³n",
         "line": {
          "color": "#FECB52",
          "dash": "solid"
         },
         "marker": {
          "symbol": "circle"
         },
         "mode": "lines+markers",
         "name": "kompa pasiÃ³n",
         "showlegend": true,
         "type": "scattergl",
         "x": [
          "2024-05-21",
          "2024-05-28",
          "2024-05-31"
         ],
         "xaxis": "x",
         "y": [
          10700000,
          5500000,
          5800000
         ],
         "yaxis": "y"
        },
        {
         "hovertemplate": "trackName=Ð¡Ð¸Ð´ (feat. zaplutal)<br>date=%{x}<br>views=%{y}<extra></extra>",
         "legendgroup": "Ð¡Ð¸Ð´ (feat. zaplutal)",
         "line": {
          "color": "#636efa",
          "dash": "solid"
         },
         "marker": {
          "symbol": "circle"
         },
         "mode": "lines+markers",
         "name": "Ð¡Ð¸Ð´ (feat. zaplutal)",
         "showlegend": true,
         "type": "scattergl",
         "x": [
          "2024-05-21"
         ],
         "xaxis": "x",
         "y": [
          3200000
         ],
         "yaxis": "y"
        },
        {
         "hovertemplate": "trackName=BOP (feat. GloRilla)<br>date=%{x}<br>views=%{y}<extra></extra>",
         "legendgroup": "BOP (feat. GloRilla)",
         "line": {
          "color": "#EF553B",
          "dash": "solid"
         },
         "marker": {
          "symbol": "circle"
         },
         "mode": "lines+markers",
         "name": "BOP (feat. GloRilla)",
         "showlegend": true,
         "type": "scattergl",
         "x": [
          "2024-05-22",
          "2024-05-27"
         ],
         "xaxis": "x",
         "y": [
          14000000,
          24200000
         ],
         "yaxis": "y"
        },
        {
         "hovertemplate": "trackName=Feel the Groove<br>date=%{x}<br>views=%{y}<extra></extra>",
         "legendgroup": "Feel the Groove",
         "line": {
          "color": "#00cc96",
          "dash": "solid"
         },
         "marker": {
          "symbol": "circle"
         },
         "mode": "lines+markers",
         "name": "Feel the Groove",
         "showlegend": true,
         "type": "scattergl",
         "x": [
          "2024-05-22",
          "2024-06-05"
         ],
         "xaxis": "x",
         "y": [
          3900000,
          6200000
         ],
         "yaxis": "y"
        },
        {
         "hovertemplate": "trackName=Funk Estranho<br>date=%{x}<br>views=%{y}<extra></extra>",
         "legendgroup": "Funk Estranho",
         "line": {
          "color": "#ab63fa",
          "dash": "solid"
         },
         "marker": {
          "symbol": "circle"
         },
         "mode": "lines+markers",
         "name": "Funk Estranho",
         "showlegend": true,
         "type": "scattergl",
         "x": [
          "2024-05-22"
         ],
         "xaxis": "x",
         "y": [
          2400000
         ],
         "yaxis": "y"
        },
        {
         "hovertemplate": "trackName=Funny Sounds (Interlude)<br>date=%{x}<br>views=%{y}<extra></extra>",
         "legendgroup": "Funny Sounds (Interlude)",
         "line": {
          "color": "#FFA15A",
          "dash": "solid"
         },
         "marker": {
          "symbol": "circle"
         },
         "mode": "lines+markers",
         "name": "Funny Sounds (Interlude)",
         "showlegend": true,
         "type": "scattergl",
         "x": [
          "2024-05-22"
         ],
         "xaxis": "x",
         "y": [
          1200000
         ],
         "yaxis": "y"
        },
        {
         "hovertemplate": "trackName=G.O.A.T<br>date=%{x}<br>views=%{y}<extra></extra>",
         "legendgroup": "G.O.A.T",
         "line": {
          "color": "#19d3f3",
          "dash": "solid"
         },
         "marker": {
          "symbol": "circle"
         },
         "mode": "lines+markers",
         "name": "G.O.A.T",
         "showlegend": true,
         "type": "scattergl",
         "x": [
          "2024-05-22",
          "2024-05-25",
          "2024-05-26",
          "2024-05-27",
          "2024-06-01",
          "2024-06-02",
          "2024-06-04"
         ],
         "xaxis": "x",
         "y": [
          4200000,
          4300000,
          8600000,
          8800000,
          13800000,
          9200000,
          4700000
         ],
         "yaxis": "y"
        },
        {
         "hovertemplate": "trackName=Glock N My Lap Twisted N Chopped<br>date=%{x}<br>views=%{y}<extra></extra>",
         "legendgroup": "Glock N My Lap Twisted N Chopped",
         "line": {
          "color": "#FF6692",
          "dash": "solid"
         },
         "marker": {
          "symbol": "circle"
         },
         "mode": "lines+markers",
         "name": "Glock N My Lap Twisted N Chopped",
         "showlegend": true,
         "type": "scattergl",
         "x": [
          "2024-05-22"
         ],
         "xaxis": "x",
         "y": [
          3100000
         ],
         "yaxis": "y"
        },
        {
         "hovertemplate": "trackName=Inspiring Triumphant Trailer<br>date=%{x}<br>views=%{y}<extra></extra>",
         "legendgroup": "Inspiring Triumphant Trailer",
         "line": {
          "color": "#B6E880",
          "dash": "solid"
         },
         "marker": {
          "symbol": "circle"
         },
         "mode": "lines+markers",
         "name": "Inspiring Triumphant Trailer",
         "showlegend": true,
         "type": "scattergl",
         "x": [
          "2024-05-22",
          "2024-06-05",
          "2024-06-06"
         ],
         "xaxis": "x",
         "y": [
          7400000,
          4300000,
          4500000
         ],
         "yaxis": "y"
        },
        {
         "hovertemplate": "trackName=Instrumental Mc lullu me papa lala Slowed and Reverb<br>date=%{x}<br>views=%{y}<extra></extra>",
         "legendgroup": "Instrumental Mc lullu me papa lala Slowed and Reverb",
         "line": {
          "color": "#FF97FF",
          "dash": "solid"
         },
         "marker": {
          "symbol": "circle"
         },
         "mode": "lines+markers",
         "name": "Instrumental Mc lullu me papa lala Slowed and Reverb",
         "showlegend": true,
         "type": "scattergl",
         "x": [
          "2024-05-22"
         ],
         "xaxis": "x",
         "y": [
          15300000
         ],
         "yaxis": "y"
        },
        {
         "hovertemplate": "trackName=LET THE WORLD BURN<br>date=%{x}<br>views=%{y}<extra></extra>",
         "legendgroup": "LET THE WORLD BURN",
         "line": {
          "color": "#FECB52",
          "dash": "solid"
         },
         "marker": {
          "symbol": "circle"
         },
         "mode": "lines+markers",
         "name": "LET THE WORLD BURN",
         "showlegend": true,
         "type": "scattergl",
         "x": [
          "2024-05-22"
         ],
         "xaxis": "x",
         "y": [
          2400000
         ],
         "yaxis": "y"
        },
        {
         "hovertemplate": "trackName=My Planet Needs Me<br>date=%{x}<br>views=%{y}<extra></extra>",
         "legendgroup": "My Planet Needs Me",
         "line": {
          "color": "#636efa",
          "dash": "solid"
         },
         "marker": {
          "symbol": "circle"
         },
         "mode": "lines+markers",
         "name": "My Planet Needs Me",
         "showlegend": true,
         "type": "scattergl",
         "x": [
          "2024-05-22"
         ],
         "xaxis": "x",
         "y": [
          15300000
         ],
         "yaxis": "y"
        },
        {
         "hovertemplate": "trackName=Ngeke Balunge<br>date=%{x}<br>views=%{y}<extra></extra>",
         "legendgroup": "Ngeke Balunge",
         "line": {
          "color": "#EF553B",
          "dash": "solid"
         },
         "marker": {
          "symbol": "circle"
         },
         "mode": "lines+markers",
         "name": "Ngeke Balunge",
         "showlegend": true,
         "type": "scattergl",
         "x": [
          "2024-05-22",
          "2024-05-25"
         ],
         "xaxis": "x",
         "y": [
          8200000,
          8400000
         ],
         "yaxis": "y"
        },
        {
         "hovertemplate": "trackName=Nothing Alike (feat. Shxdow Ace)<br>date=%{x}<br>views=%{y}<extra></extra>",
         "legendgroup": "Nothing Alike (feat. Shxdow Ace)",
         "line": {
          "color": "#00cc96",
          "dash": "solid"
         },
         "marker": {
          "symbol": "circle"
         },
         "mode": "lines+markers",
         "name": "Nothing Alike (feat. Shxdow Ace)",
         "showlegend": true,
         "type": "scattergl",
         "x": [
          "2024-05-22",
          "2024-05-25",
          "2024-05-28",
          "2024-05-29",
          "2024-05-30",
          "2024-05-31",
          "2024-06-04",
          "2024-06-05"
         ],
         "xaxis": "x",
         "y": [
          34000000,
          7000000,
          7800000,
          68400000,
          60800000,
          99700000,
          7200000,
          0
         ],
         "yaxis": "y"
        },
        {
         "hovertemplate": "trackName=Play That Funky Music<br>date=%{x}<br>views=%{y}<extra></extra>",
         "legendgroup": "Play That Funky Music",
         "line": {
          "color": "#ab63fa",
          "dash": "solid"
         },
         "marker": {
          "symbol": "circle"
         },
         "mode": "lines+markers",
         "name": "Play That Funky Music",
         "showlegend": true,
         "type": "scattergl",
         "x": [
          "2024-05-22",
          "2024-05-23",
          "2024-05-26"
         ],
         "xaxis": "x",
         "y": [
          77100000,
          51800000,
          26100000
         ],
         "yaxis": "y"
        },
        {
         "hovertemplate": "trackName=Rodeo (Remix)<br>date=%{x}<br>views=%{y}<extra></extra>",
         "legendgroup": "Rodeo (Remix)",
         "line": {
          "color": "#FFA15A",
          "dash": "solid"
         },
         "marker": {
          "symbol": "circle"
         },
         "mode": "lines+markers",
         "name": "Rodeo (Remix)",
         "showlegend": true,
         "type": "scattergl",
         "x": [
          "2024-05-22",
          "2024-05-29"
         ],
         "xaxis": "x",
         "y": [
          10600000,
          7200000
         ],
         "yaxis": "y"
        },
        {
         "hovertemplate": "trackName=Solo<br>date=%{x}<br>views=%{y}<extra></extra>",
         "legendgroup": "Solo",
         "line": {
          "color": "#19d3f3",
          "dash": "solid"
         },
         "marker": {
          "symbol": "circle"
         },
         "mode": "lines+markers",
         "name": "Solo",
         "showlegend": true,
         "type": "scattergl",
         "x": [
          "2024-05-22",
          "2024-05-23",
          "2024-05-24",
          "2024-05-26",
          "2024-05-28",
          "2024-05-29",
          "2024-05-31"
         ],
         "xaxis": "x",
         "y": [
          5100000,
          5100000,
          5100000,
          3400000,
          1700000,
          1700000,
          5100000
         ],
         "yaxis": "y"
        },
        {
         "hovertemplate": "trackName=Talk My Shit<br>date=%{x}<br>views=%{y}<extra></extra>",
         "legendgroup": "Talk My Shit",
         "line": {
          "color": "#FF6692",
          "dash": "solid"
         },
         "marker": {
          "symbol": "circle"
         },
         "mode": "lines+markers",
         "name": "Talk My Shit",
         "showlegend": true,
         "type": "scattergl",
         "x": [
          "2024-05-22",
          "2024-05-23",
          "2024-06-01",
          "2024-06-04"
         ],
         "xaxis": "x",
         "y": [
          26800000,
          17500000,
          18900000,
          19400000
         ],
         "yaxis": "y"
        },
        {
         "hovertemplate": "trackName=Teen Titans Gm<br>date=%{x}<br>views=%{y}<extra></extra>",
         "legendgroup": "Teen Titans Gm",
         "line": {
          "color": "#B6E880",
          "dash": "solid"
         },
         "marker": {
          "symbol": "circle"
         },
         "mode": "lines+markers",
         "name": "Teen Titans Gm",
         "showlegend": true,
         "type": "scattergl",
         "x": [
          "2024-05-22"
         ],
         "xaxis": "x",
         "y": [
          10200000
         ],
         "yaxis": "y"
        },
        {
         "hovertemplate": "trackName=Thrill of It (INFECTED VERSION)<br>date=%{x}<br>views=%{y}<extra></extra>",
         "legendgroup": "Thrill of It (INFECTED VERSION)",
         "line": {
          "color": "#FF97FF",
          "dash": "solid"
         },
         "marker": {
          "symbol": "circle"
         },
         "mode": "lines+markers",
         "name": "Thrill of It (INFECTED VERSION)",
         "showlegend": true,
         "type": "scattergl",
         "x": [
          "2024-05-22",
          "2024-05-25"
         ],
         "xaxis": "x",
         "y": [
          34800000,
          1600000
         ],
         "yaxis": "y"
        },
        {
         "hovertemplate": "trackName=Too Happy<br>date=%{x}<br>views=%{y}<extra></extra>",
         "legendgroup": "Too Happy",
         "line": {
          "color": "#FECB52",
          "dash": "solid"
         },
         "marker": {
          "symbol": "circle"
         },
         "mode": "lines+markers",
         "name": "Too Happy",
         "showlegend": true,
         "type": "scattergl",
         "x": [
          "2024-05-22"
         ],
         "xaxis": "x",
         "y": [
          1200000
         ],
         "yaxis": "y"
        },
        {
         "hovertemplate": "trackName=Unreleased<br>date=%{x}<br>views=%{y}<extra></extra>",
         "legendgroup": "Unreleased",
         "line": {
          "color": "#636efa",
          "dash": "solid"
         },
         "marker": {
          "symbol": "circle"
         },
         "mode": "lines+markers",
         "name": "Unreleased",
         "showlegend": true,
         "type": "scattergl",
         "x": [
          "2024-05-22"
         ],
         "xaxis": "x",
         "y": [
          6600000
         ],
         "yaxis": "y"
        },
        {
         "hovertemplate": "trackName=Who Can It Be Now?<br>date=%{x}<br>views=%{y}<extra></extra>",
         "legendgroup": "Who Can It Be Now?",
         "line": {
          "color": "#EF553B",
          "dash": "solid"
         },
         "marker": {
          "symbol": "circle"
         },
         "mode": "lines+markers",
         "name": "Who Can It Be Now?",
         "showlegend": true,
         "type": "scattergl",
         "x": [
          "2024-05-22",
          "2024-05-23",
          "2024-05-26",
          "2024-05-27",
          "2024-05-28"
         ],
         "xaxis": "x",
         "y": [
          3800000,
          5900000,
          7400000,
          13600000,
          6100000
         ],
         "yaxis": "y"
        },
        {
         "hovertemplate": "trackName=All Type of Drugs (feat. Bloody Jay, Ola Playa & Thug)<br>date=%{x}<br>views=%{y}<extra></extra>",
         "legendgroup": "All Type of Drugs (feat. Bloody Jay, Ola Playa & Thug)",
         "line": {
          "color": "#00cc96",
          "dash": "solid"
         },
         "marker": {
          "symbol": "circle"
         },
         "mode": "lines+markers",
         "name": "All Type of Drugs (feat. Bloody Jay, Ola Playa & Thug)",
         "showlegend": true,
         "type": "scattergl",
         "x": [
          "2024-05-23",
          "2024-05-31"
         ],
         "xaxis": "x",
         "y": [
          7200000,
          4100000
         ],
         "yaxis": "y"
        },
        {
         "hovertemplate": "trackName=Amafes<br>date=%{x}<br>views=%{y}<extra></extra>",
         "legendgroup": "Amafes",
         "line": {
          "color": "#ab63fa",
          "dash": "solid"
         },
         "marker": {
          "symbol": "circle"
         },
         "mode": "lines+markers",
         "name": "Amafes",
         "showlegend": true,
         "type": "scattergl",
         "x": [
          "2024-05-23"
         ],
         "xaxis": "x",
         "y": [
          8100000
         ],
         "yaxis": "y"
        },
        {
         "hovertemplate": "trackName=Bane<br>date=%{x}<br>views=%{y}<extra></extra>",
         "legendgroup": "Bane",
         "line": {
          "color": "#FFA15A",
          "dash": "solid"
         },
         "marker": {
          "symbol": "circle"
         },
         "mode": "lines+markers",
         "name": "Bane",
         "showlegend": true,
         "type": "scattergl",
         "x": [
          "2024-05-23",
          "2024-05-24",
          "2024-05-25",
          "2024-05-29"
         ],
         "xaxis": "x",
         "y": [
          1600000,
          1600000,
          1600000,
          1700000
         ],
         "yaxis": "y"
        },
        {
         "hovertemplate": "trackName=Bow Bow Bow (F My Baby Mama)<br>date=%{x}<br>views=%{y}<extra></extra>",
         "legendgroup": "Bow Bow Bow (F My Baby Mama)",
         "line": {
          "color": "#19d3f3",
          "dash": "solid"
         },
         "marker": {
          "symbol": "circle"
         },
         "mode": "lines+markers",
         "name": "Bow Bow Bow (F My Baby Mama)",
         "showlegend": true,
         "type": "scattergl",
         "x": [
          "2024-05-23",
          "2024-05-26"
         ],
         "xaxis": "x",
         "y": [
          6300000,
          21000000
         ],
         "yaxis": "y"
        },
        {
         "hovertemplate": "trackName=Closer<br>date=%{x}<br>views=%{y}<extra></extra>",
         "legendgroup": "Closer",
         "line": {
          "color": "#FF6692",
          "dash": "solid"
         },
         "marker": {
          "symbol": "circle"
         },
         "mode": "lines+markers",
         "name": "Closer",
         "showlegend": true,
         "type": "scattergl",
         "x": [
          "2024-05-23",
          "2024-05-25",
          "2024-05-26"
         ],
         "xaxis": "x",
         "y": [
          5200000,
          5400000,
          5600000
         ],
         "yaxis": "y"
        },
        {
         "hovertemplate": "trackName=D-R-U-N-K<br>date=%{x}<br>views=%{y}<extra></extra>",
         "legendgroup": "D-R-U-N-K",
         "line": {
          "color": "#B6E880",
          "dash": "solid"
         },
         "marker": {
          "symbol": "circle"
         },
         "mode": "lines+markers",
         "name": "D-R-U-N-K",
         "showlegend": true,
         "type": "scattergl",
         "x": [
          "2024-05-23",
          "2024-05-24",
          "2024-05-25",
          "2024-05-27",
          "2024-05-28"
         ],
         "xaxis": "x",
         "y": [
          27900000,
          27900000,
          28000000,
          28200000,
          28300000
         ],
         "yaxis": "y"
        },
        {
         "hovertemplate": "trackName=Dandelions<br>date=%{x}<br>views=%{y}<extra></extra>",
         "legendgroup": "Dandelions",
         "line": {
          "color": "#FF97FF",
          "dash": "solid"
         },
         "marker": {
          "symbol": "circle"
         },
         "mode": "lines+markers",
         "name": "Dandelions",
         "showlegend": true,
         "type": "scattergl",
         "x": [
          "2024-05-23"
         ],
         "xaxis": "x",
         "y": [
          7800000
         ],
         "yaxis": "y"
        },
        {
         "hovertemplate": "trackName=Dreamin<br>date=%{x}<br>views=%{y}<extra></extra>",
         "legendgroup": "Dreamin",
         "line": {
          "color": "#FECB52",
          "dash": "solid"
         },
         "marker": {
          "symbol": "circle"
         },
         "mode": "lines+markers",
         "name": "Dreamin",
         "showlegend": true,
         "type": "scattergl",
         "x": [
          "2024-05-23"
         ],
         "xaxis": "x",
         "y": [
          7700000
         ],
         "yaxis": "y"
        },
        {
         "hovertemplate": "trackName=Evergreen<br>date=%{x}<br>views=%{y}<extra></extra>",
         "legendgroup": "Evergreen",
         "line": {
          "color": "#636efa",
          "dash": "solid"
         },
         "marker": {
          "symbol": "circle"
         },
         "mode": "lines+markers",
         "name": "Evergreen",
         "showlegend": true,
         "type": "scattergl",
         "x": [
          "2024-05-23",
          "2024-06-02",
          "2024-06-04",
          "2024-06-05"
         ],
         "xaxis": "x",
         "y": [
          20300000,
          41000000,
          20600000,
          20700000
         ],
         "yaxis": "y"
        },
        {
         "hovertemplate": "trackName=GEEKALEEK (feat. Cash Kidd)<br>date=%{x}<br>views=%{y}<extra></extra>",
         "legendgroup": "GEEKALEEK (feat. Cash Kidd)",
         "line": {
          "color": "#EF553B",
          "dash": "solid"
         },
         "marker": {
          "symbol": "circle"
         },
         "mode": "lines+markers",
         "name": "GEEKALEEK (feat. Cash Kidd)",
         "showlegend": true,
         "type": "scattergl",
         "x": [
          "2024-05-23",
          "2024-05-24",
          "2024-05-25",
          "2024-05-26",
          "2024-05-27",
          "2024-05-28"
         ],
         "xaxis": "x",
         "y": [
          1400000,
          1400000,
          1500000,
          3000000,
          3000000,
          3000000
         ],
         "yaxis": "y"
        },
        {
         "hovertemplate": "trackName=Get Wid Lemonade<br>date=%{x}<br>views=%{y}<extra></extra>",
         "legendgroup": "Get Wid Lemonade",
         "line": {
          "color": "#00cc96",
          "dash": "solid"
         },
         "marker": {
          "symbol": "circle"
         },
         "mode": "lines+markers",
         "name": "Get Wid Lemonade",
         "showlegend": true,
         "type": "scattergl",
         "x": [
          "2024-05-23"
         ],
         "xaxis": "x",
         "y": [
          20900000
         ],
         "yaxis": "y"
        },
        {
         "hovertemplate": "trackName=Hi Hi<br>date=%{x}<br>views=%{y}<extra></extra>",
         "legendgroup": "Hi Hi",
         "line": {
          "color": "#ab63fa",
          "dash": "solid"
         },
         "marker": {
          "symbol": "circle"
         },
         "mode": "lines+markers",
         "name": "Hi Hi",
         "showlegend": true,
         "type": "scattergl",
         "x": [
          "2024-05-23"
         ],
         "xaxis": "x",
         "y": [
          4400000
         ],
         "yaxis": "y"
        },
        {
         "hovertemplate": "trackName=Intervallo (Version 2)<br>date=%{x}<br>views=%{y}<extra></extra>",
         "legendgroup": "Intervallo (Version 2)",
         "line": {
          "color": "#FFA15A",
          "dash": "solid"
         },
         "marker": {
          "symbol": "circle"
         },
         "mode": "lines+markers",
         "name": "Intervallo (Version 2)",
         "showlegend": true,
         "type": "scattergl",
         "x": [
          "2024-05-23",
          "2024-05-24"
         ],
         "xaxis": "x",
         "y": [
          20000000,
          10000000
         ],
         "yaxis": "y"
        },
        {
         "hovertemplate": "trackName=JERK!<br>date=%{x}<br>views=%{y}<extra></extra>",
         "legendgroup": "JERK!",
         "line": {
          "color": "#19d3f3",
          "dash": "solid"
         },
         "marker": {
          "symbol": "circle"
         },
         "mode": "lines+markers",
         "name": "JERK!",
         "showlegend": true,
         "type": "scattergl",
         "x": [
          "2024-05-23",
          "2024-05-27",
          "2024-05-31"
         ],
         "xaxis": "x",
         "y": [
          2600000,
          5400000,
          2700000
         ],
         "yaxis": "y"
        },
        {
         "hovertemplate": "trackName=June<br>date=%{x}<br>views=%{y}<extra></extra>",
         "legendgroup": "June",
         "line": {
          "color": "#FF6692",
          "dash": "solid"
         },
         "marker": {
          "symbol": "circle"
         },
         "mode": "lines+markers",
         "name": "June",
         "showlegend": true,
         "type": "scattergl",
         "x": [
          "2024-05-23"
         ],
         "xaxis": "x",
         "y": [
          3100000
         ],
         "yaxis": "y"
        },
        {
         "hovertemplate": "trackName=KickN Shii<br>date=%{x}<br>views=%{y}<extra></extra>",
         "legendgroup": "KickN Shii",
         "line": {
          "color": "#B6E880",
          "dash": "solid"
         },
         "marker": {
          "symbol": "circle"
         },
         "mode": "lines+markers",
         "name": "KickN Shii",
         "showlegend": true,
         "type": "scattergl",
         "x": [
          "2024-05-23"
         ],
         "xaxis": "x",
         "y": [
          20900000
         ],
         "yaxis": "y"
        },
        {
         "hovertemplate": "trackName=Kitchen Sink<br>date=%{x}<br>views=%{y}<extra></extra>",
         "legendgroup": "Kitchen Sink",
         "line": {
          "color": "#FF97FF",
          "dash": "solid"
         },
         "marker": {
          "symbol": "circle"
         },
         "mode": "lines+markers",
         "name": "Kitchen Sink",
         "showlegend": true,
         "type": "scattergl",
         "x": [
          "2024-05-23",
          "2024-05-26",
          "2024-05-27",
          "2024-05-28",
          "2024-05-29"
         ],
         "xaxis": "x",
         "y": [
          5700000,
          1900000,
          1900000,
          2000000,
          4000000
         ],
         "yaxis": "y"
        },
        {
         "hovertemplate": "trackName=MAESTRO<br>date=%{x}<br>views=%{y}<extra></extra>",
         "legendgroup": "MAESTRO",
         "line": {
          "color": "#FECB52",
          "dash": "solid"
         },
         "marker": {
          "symbol": "circle"
         },
         "mode": "lines+markers",
         "name": "MAESTRO",
         "showlegend": true,
         "type": "scattergl",
         "x": [
          "2024-05-23",
          "2024-05-31"
         ],
         "xaxis": "x",
         "y": [
          10800000,
          16500000
         ],
         "yaxis": "y"
        },
        {
         "hovertemplate": "trackName=Move<br>date=%{x}<br>views=%{y}<extra></extra>",
         "legendgroup": "Move",
         "line": {
          "color": "#636efa",
          "dash": "solid"
         },
         "marker": {
          "symbol": "circle"
         },
         "mode": "lines+markers",
         "name": "Move",
         "showlegend": true,
         "type": "scattergl",
         "x": [
          "2024-05-23"
         ],
         "xaxis": "x",
         "y": [
          3500000
         ],
         "yaxis": "y"
        },
        {
         "hovertemplate": "trackName=No Role Modelz<br>date=%{x}<br>views=%{y}<extra></extra>",
         "legendgroup": "No Role Modelz",
         "line": {
          "color": "#EF553B",
          "dash": "solid"
         },
         "marker": {
          "symbol": "circle"
         },
         "mode": "lines+markers",
         "name": "No Role Modelz",
         "showlegend": true,
         "type": "scattergl",
         "x": [
          "2024-05-23"
         ],
         "xaxis": "x",
         "y": [
          3100000
         ],
         "yaxis": "y"
        },
        {
         "hovertemplate": "trackName=No SÃ© QuÃ© PasÃ³<br>date=%{x}<br>views=%{y}<extra></extra>",
         "legendgroup": "No SÃ© QuÃ© PasÃ³",
         "line": {
          "color": "#00cc96",
          "dash": "solid"
         },
         "marker": {
          "symbol": "circle"
         },
         "mode": "lines+markers",
         "name": "No SÃ© QuÃ© PasÃ³",
         "showlegend": true,
         "type": "scattergl",
         "x": [
          "2024-05-23"
         ],
         "xaxis": "x",
         "y": [
          3000000
         ],
         "yaxis": "y"
        },
        {
         "hovertemplate": "trackName=Pop like this Pt. 2<br>date=%{x}<br>views=%{y}<extra></extra>",
         "legendgroup": "Pop like this Pt. 2",
         "line": {
          "color": "#ab63fa",
          "dash": "solid"
         },
         "marker": {
          "symbol": "circle"
         },
         "mode": "lines+markers",
         "name": "Pop like this Pt. 2",
         "showlegend": true,
         "type": "scattergl",
         "x": [
          "2024-05-23",
          "2024-05-25",
          "2024-05-26",
          "2024-05-27",
          "2024-05-28",
          "2024-05-29",
          "2024-05-31",
          "2024-06-01",
          "2024-06-02",
          "2024-06-03"
         ],
         "xaxis": "x",
         "y": [
          6300000,
          4400000,
          13300000,
          4400000,
          4600000,
          2300000,
          6900000,
          2400000,
          7500000,
          7000000
         ],
         "yaxis": "y"
        },
        {
         "hovertemplate": "trackName=Pop like this, Pt. 2<br>date=%{x}<br>views=%{y}<extra></extra>",
         "legendgroup": "Pop like this, Pt. 2",
         "line": {
          "color": "#FFA15A",
          "dash": "solid"
         },
         "marker": {
          "symbol": "circle"
         },
         "mode": "lines+markers",
         "name": "Pop like this, Pt. 2",
         "showlegend": true,
         "type": "scattergl",
         "x": [
          "2024-05-23"
         ],
         "xaxis": "x",
         "y": [
          5200000
         ],
         "yaxis": "y"
        },
        {
         "hovertemplate": "trackName=Prince of Egypt<br>date=%{x}<br>views=%{y}<extra></extra>",
         "legendgroup": "Prince of Egypt",
         "line": {
          "color": "#19d3f3",
          "dash": "solid"
         },
         "marker": {
          "symbol": "circle"
         },
         "mode": "lines+markers",
         "name": "Prince of Egypt",
         "showlegend": true,
         "type": "scattergl",
         "x": [
          "2024-05-23",
          "2024-05-27",
          "2024-05-28",
          "2024-05-29",
          "2024-05-30",
          "2024-06-05"
         ],
         "xaxis": "x",
         "y": [
          6800000,
          14400000,
          7400000,
          7600000,
          7800000,
          3900000
         ],
         "yaxis": "y"
        },
        {
         "hovertemplate": "trackName=Riot<br>date=%{x}<br>views=%{y}<extra></extra>",
         "legendgroup": "Riot",
         "line": {
          "color": "#FF6692",
          "dash": "solid"
         },
         "marker": {
          "symbol": "circle"
         },
         "mode": "lines+markers",
         "name": "Riot",
         "showlegend": true,
         "type": "scattergl",
         "x": [
          "2024-05-23",
          "2024-05-26"
         ],
         "xaxis": "x",
         "y": [
          1500000,
          8500000
         ],
         "yaxis": "y"
        },
        {
         "hovertemplate": "trackName=Scars<br>date=%{x}<br>views=%{y}<extra></extra>",
         "legendgroup": "Scars",
         "line": {
          "color": "#B6E880",
          "dash": "solid"
         },
         "marker": {
          "symbol": "circle"
         },
         "mode": "lines+markers",
         "name": "Scars",
         "showlegend": true,
         "type": "scattergl",
         "x": [
          "2024-05-23",
          "2024-05-29",
          "2024-06-02",
          "2024-06-03",
          "2024-06-05"
         ],
         "xaxis": "x",
         "y": [
          12700000,
          13300000,
          13500000,
          13500000,
          0
         ],
         "yaxis": "y"
        },
        {
         "hovertemplate": "trackName=Scott Street<br>date=%{x}<br>views=%{y}<extra></extra>",
         "legendgroup": "Scott Street",
         "line": {
          "color": "#FF97FF",
          "dash": "solid"
         },
         "marker": {
          "symbol": "circle"
         },
         "mode": "lines+markers",
         "name": "Scott Street",
         "showlegend": true,
         "type": "scattergl",
         "x": [
          "2024-05-23",
          "2024-05-24",
          "2024-05-25",
          "2024-05-26",
          "2024-05-28",
          "2024-05-29",
          "2024-06-02",
          "2024-06-04"
         ],
         "xaxis": "x",
         "y": [
          15400000,
          3900000,
          26900000,
          28400000,
          35900000,
          36100000,
          23400000,
          11800000
         ],
         "yaxis": "y"
        },
        {
         "hovertemplate": "trackName=She Took<br>date=%{x}<br>views=%{y}<extra></extra>",
         "legendgroup": "She Took",
         "line": {
          "color": "#FECB52",
          "dash": "solid"
         },
         "marker": {
          "symbol": "circle"
         },
         "mode": "lines+markers",
         "name": "She Took",
         "showlegend": true,
         "type": "scattergl",
         "x": [
          "2024-05-23"
         ],
         "xaxis": "x",
         "y": [
          3000000
         ],
         "yaxis": "y"
        },
        {
         "hovertemplate": "trackName=Suit & Tie featuring JAY Z<br>date=%{x}<br>views=%{y}<extra></extra>",
         "legendgroup": "Suit & Tie featuring JAY Z",
         "line": {
          "color": "#636efa",
          "dash": "solid"
         },
         "marker": {
          "symbol": "circle"
         },
         "mode": "lines+markers",
         "name": "Suit & Tie featuring JAY Z",
         "showlegend": true,
         "type": "scattergl",
         "x": [
          "2024-05-23",
          "2024-05-31"
         ],
         "xaxis": "x",
         "y": [
          5700000,
          6200000
         ],
         "yaxis": "y"
        },
        {
         "hovertemplate": "trackName=The Chicken In Black<br>date=%{x}<br>views=%{y}<extra></extra>",
         "legendgroup": "The Chicken In Black",
         "line": {
          "color": "#EF553B",
          "dash": "solid"
         },
         "marker": {
          "symbol": "circle"
         },
         "mode": "lines+markers",
         "name": "The Chicken In Black",
         "showlegend": true,
         "type": "scattergl",
         "x": [
          "2024-05-23"
         ],
         "xaxis": "x",
         "y": [
          14700000
         ],
         "yaxis": "y"
        },
        {
         "hovertemplate": "trackName=The Prowler<br>date=%{x}<br>views=%{y}<extra></extra>",
         "legendgroup": "The Prowler",
         "line": {
          "color": "#00cc96",
          "dash": "solid"
         },
         "marker": {
          "symbol": "circle"
         },
         "mode": "lines+markers",
         "name": "The Prowler",
         "showlegend": true,
         "type": "scattergl",
         "x": [
          "2024-05-23",
          "2024-05-27",
          "2024-05-28",
          "2024-05-29",
          "2024-05-31",
          "2024-06-01",
          "2024-06-02"
         ],
         "xaxis": "x",
         "y": [
          2600000,
          5600000,
          2800000,
          2900000,
          9000000,
          3000000,
          9300000
         ],
         "yaxis": "y"
        },
        {
         "hovertemplate": "trackName=Title Theme (The Legend Of Zelda: Ocarina Of Time Ost)<br>date=%{x}<br>views=%{y}<extra></extra>",
         "legendgroup": "Title Theme (The Legend Of Zelda: Ocarina Of Time Ost)",
         "line": {
          "color": "#ab63fa",
          "dash": "solid"
         },
         "marker": {
          "symbol": "circle"
         },
         "mode": "lines+markers",
         "name": "Title Theme (The Legend Of Zelda: Ocarina Of Time Ost)",
         "showlegend": true,
         "type": "scattergl",
         "x": [
          "2024-05-23"
         ],
         "xaxis": "x",
         "y": [
          9600000
         ],
         "yaxis": "y"
        },
        {
         "hovertemplate": "trackName=Tuesday (feat. Novacringe)<br>date=%{x}<br>views=%{y}<extra></extra>",
         "legendgroup": "Tuesday (feat. Novacringe)",
         "line": {
          "color": "#FFA15A",
          "dash": "solid"
         },
         "marker": {
          "symbol": "circle"
         },
         "mode": "lines+markers",
         "name": "Tuesday (feat. Novacringe)",
         "showlegend": true,
         "type": "scattergl",
         "x": [
          "2024-05-23",
          "2024-06-02",
          "2024-06-04",
          "2024-06-05"
         ],
         "xaxis": "x",
         "y": [
          3400000,
          8800000,
          9100000,
          9300000
         ],
         "yaxis": "y"
        },
        {
         "hovertemplate": "trackName=Where I Was (I Was In a Good Place)<br>date=%{x}<br>views=%{y}<extra></extra>",
         "legendgroup": "Where I Was (I Was In a Good Place)",
         "line": {
          "color": "#19d3f3",
          "dash": "solid"
         },
         "marker": {
          "symbol": "circle"
         },
         "mode": "lines+markers",
         "name": "Where I Was (I Was In a Good Place)",
         "showlegend": true,
         "type": "scattergl",
         "x": [
          "2024-05-23",
          "2024-05-24",
          "2024-05-25",
          "2024-05-26",
          "2024-05-27",
          "2024-05-30"
         ],
         "xaxis": "x",
         "y": [
          10800000,
          32700000,
          22000000,
          11000000,
          22000000,
          33300000
         ],
         "yaxis": "y"
        },
        {
         "hovertemplate": "trackName=Yeah Glo!<br>date=%{x}<br>views=%{y}<extra></extra>",
         "legendgroup": "Yeah Glo!",
         "line": {
          "color": "#FF6692",
          "dash": "solid"
         },
         "marker": {
          "symbol": "circle"
         },
         "mode": "lines+markers",
         "name": "Yeah Glo!",
         "showlegend": true,
         "type": "scattergl",
         "x": [
          "2024-05-23",
          "2024-05-27",
          "2024-05-29",
          "2024-05-31"
         ],
         "xaxis": "x",
         "y": [
          5400000,
          3800000,
          4000000,
          4100000
         ],
         "yaxis": "y"
        },
        {
         "hovertemplate": "trackName=Zapateado Antrax<br>date=%{x}<br>views=%{y}<extra></extra>",
         "legendgroup": "Zapateado Antrax",
         "line": {
          "color": "#B6E880",
          "dash": "solid"
         },
         "marker": {
          "symbol": "circle"
         },
         "mode": "lines+markers",
         "name": "Zapateado Antrax",
         "showlegend": true,
         "type": "scattergl",
         "x": [
          "2024-05-23",
          "2024-05-24",
          "2024-06-02",
          "2024-06-03",
          "2024-06-04",
          "2024-06-06",
          "2024-06-07",
          "2024-06-08",
          "2024-06-09",
          "2024-06-10",
          "2024-06-11"
         ],
         "xaxis": "x",
         "y": [
          16200000,
          16200000,
          16500000,
          16600000,
          16600000,
          50100000,
          33600000,
          50400000,
          16900000,
          34000000,
          51600000
         ],
         "yaxis": "y"
        },
        {
         "hovertemplate": "trackName=Del Mar Hasta la Cordillera<br>date=%{x}<br>views=%{y}<extra></extra>",
         "legendgroup": "Del Mar Hasta la Cordillera",
         "line": {
          "color": "#FF97FF",
          "dash": "solid"
         },
         "marker": {
          "symbol": "circle"
         },
         "mode": "lines+markers",
         "name": "Del Mar Hasta la Cordillera",
         "showlegend": true,
         "type": "scattergl",
         "x": [
          "2024-05-24",
          "2024-05-27",
          "2024-05-29",
          "2024-05-30",
          "2024-06-01",
          "2024-06-04"
         ],
         "xaxis": "x",
         "y": [
          3800000,
          3900000,
          3900000,
          4000000,
          8000000,
          4100000
         ],
         "yaxis": "y"
        },
        {
         "hovertemplate": "trackName=Else - Paris<br>date=%{x}<br>views=%{y}<extra></extra>",
         "legendgroup": "Else - Paris",
         "line": {
          "color": "#FECB52",
          "dash": "solid"
         },
         "marker": {
          "symbol": "circle"
         },
         "mode": "lines+markers",
         "name": "Else - Paris",
         "showlegend": true,
         "type": "scattergl",
         "x": [
          "2024-05-24",
          "2024-05-31"
         ],
         "xaxis": "x",
         "y": [
          5000000,
          10200000
         ],
         "yaxis": "y"
        },
        {
         "hovertemplate": "trackName=Get You Big Back<br>date=%{x}<br>views=%{y}<extra></extra>",
         "legendgroup": "Get You Big Back",
         "line": {
          "color": "#636efa",
          "dash": "solid"
         },
         "marker": {
          "symbol": "circle"
         },
         "mode": "lines+markers",
         "name": "Get You Big Back",
         "showlegend": true,
         "type": "scattergl",
         "x": [
          "2024-05-24"
         ],
         "xaxis": "x",
         "y": [
          1400000
         ],
         "yaxis": "y"
        },
        {
         "hovertemplate": "trackName=Je Te Laisserai Des Mots<br>date=%{x}<br>views=%{y}<extra></extra>",
         "legendgroup": "Je Te Laisserai Des Mots",
         "line": {
          "color": "#EF553B",
          "dash": "solid"
         },
         "marker": {
          "symbol": "circle"
         },
         "mode": "lines+markers",
         "name": "Je Te Laisserai Des Mots",
         "showlegend": true,
         "type": "scattergl",
         "x": [
          "2024-05-24"
         ],
         "xaxis": "x",
         "y": [
          6200000
         ],
         "yaxis": "y"
        },
        {
         "hovertemplate": "trackName=My Bitch<br>date=%{x}<br>views=%{y}<extra></extra>",
         "legendgroup": "My Bitch",
         "line": {
          "color": "#00cc96",
          "dash": "solid"
         },
         "marker": {
          "symbol": "circle"
         },
         "mode": "lines+markers",
         "name": "My Bitch",
         "showlegend": true,
         "type": "scattergl",
         "x": [
          "2024-05-24",
          "2024-05-26",
          "2024-05-30",
          "2024-06-05",
          "2024-06-06",
          "2024-06-08",
          "2024-06-09",
          "2024-06-10"
         ],
         "xaxis": "x",
         "y": [
          22200000,
          11100000,
          11200000,
          22400000,
          22400000,
          33900000,
          11300000,
          22600000
         ],
         "yaxis": "y"
        },
        {
         "hovertemplate": "trackName=Nightcrawler (feat. Swae Lee & Chief Keef)<br>date=%{x}<br>views=%{y}<extra></extra>",
         "legendgroup": "Nightcrawler (feat. Swae Lee & Chief Keef)",
         "line": {
          "color": "#ab63fa",
          "dash": "solid"
         },
         "marker": {
          "symbol": "circle"
         },
         "mode": "lines+markers",
         "name": "Nightcrawler (feat. Swae Lee & Chief Keef)",
         "showlegend": true,
         "type": "scattergl",
         "x": [
          "2024-05-24",
          "2024-06-04",
          "2024-06-06",
          "2024-06-07",
          "2024-06-09",
          "2024-06-10",
          "2024-06-11"
         ],
         "xaxis": "x",
         "y": [
          23000000,
          17300000,
          78100000,
          35400000,
          43800000,
          51000000,
          36600000
         ],
         "yaxis": "y"
        },
        {
         "hovertemplate": "trackName=Opps On Deck<br>date=%{x}<br>views=%{y}<extra></extra>",
         "legendgroup": "Opps On Deck",
         "line": {
          "color": "#FFA15A",
          "dash": "solid"
         },
         "marker": {
          "symbol": "circle"
         },
         "mode": "lines+markers",
         "name": "Opps On Deck",
         "showlegend": true,
         "type": "scattergl",
         "x": [
          "2024-05-24"
         ],
         "xaxis": "x",
         "y": [
          2800000
         ],
         "yaxis": "y"
        },
        {
         "hovertemplate": "trackName=Resonance<br>date=%{x}<br>views=%{y}<extra></extra>",
         "legendgroup": "Resonance",
         "line": {
          "color": "#19d3f3",
          "dash": "solid"
         },
         "marker": {
          "symbol": "circle"
         },
         "mode": "lines+markers",
         "name": "Resonance",
         "showlegend": true,
         "type": "scattergl",
         "x": [
          "2024-05-24",
          "2024-06-03",
          "2024-06-04",
          "2024-06-08"
         ],
         "xaxis": "x",
         "y": [
          3000000,
          3000000,
          3000000,
          6000000
         ],
         "yaxis": "y"
        },
        {
         "hovertemplate": "trackName=Show Me How<br>date=%{x}<br>views=%{y}<extra></extra>",
         "legendgroup": "Show Me How",
         "line": {
          "color": "#FF6692",
          "dash": "solid"
         },
         "marker": {
          "symbol": "circle"
         },
         "mode": "lines+markers",
         "name": "Show Me How",
         "showlegend": true,
         "type": "scattergl",
         "x": [
          "2024-05-24",
          "2024-05-25",
          "2024-05-27",
          "2024-05-28",
          "2024-05-29",
          "2024-05-30",
          "2024-06-01",
          "2024-06-02",
          "2024-06-03",
          "2024-06-04",
          "2024-06-05",
          "2024-06-06",
          "2024-06-07",
          "2024-06-08",
          "2024-06-09",
          "2024-06-10",
          "2024-06-11"
         ],
         "xaxis": "x",
         "y": [
          19400000,
          50100000,
          102000000,
          103200000,
          52000000,
          52300000,
          105800000,
          53300000,
          53700000,
          54100000,
          54400000,
          12200000,
          110200000,
          223900000,
          55800000,
          112200000,
          169200000
         ],
         "yaxis": "y"
        },
        {
         "hovertemplate": "trackName=Slipping Through My Fingers<br>date=%{x}<br>views=%{y}<extra></extra>",
         "legendgroup": "Slipping Through My Fingers",
         "line": {
          "color": "#B6E880",
          "dash": "solid"
         },
         "marker": {
          "symbol": "circle"
         },
         "mode": "lines+markers",
         "name": "Slipping Through My Fingers",
         "showlegend": true,
         "type": "scattergl",
         "x": [
          "2024-05-24"
         ],
         "xaxis": "x",
         "y": [
          5400000
         ],
         "yaxis": "y"
        },
        {
         "hovertemplate": "trackName=Sweet Yamz<br>date=%{x}<br>views=%{y}<extra></extra>",
         "legendgroup": "Sweet Yamz",
         "line": {
          "color": "#FF97FF",
          "dash": "solid"
         },
         "marker": {
          "symbol": "circle"
         },
         "mode": "lines+markers",
         "name": "Sweet Yamz",
         "showlegend": true,
         "type": "scattergl",
         "x": [
          "2024-05-24"
         ],
         "xaxis": "x",
         "y": [
          1600000
         ],
         "yaxis": "y"
        },
        {
         "hovertemplate": "trackName=Yamz<br>date=%{x}<br>views=%{y}<extra></extra>",
         "legendgroup": "Yamz",
         "line": {
          "color": "#FECB52",
          "dash": "solid"
         },
         "marker": {
          "symbol": "circle"
         },
         "mode": "lines+markers",
         "name": "Yamz",
         "showlegend": true,
         "type": "scattergl",
         "x": [
          "2024-05-24"
         ],
         "xaxis": "x",
         "y": [
          1600000
         ],
         "yaxis": "y"
        },
        {
         "hovertemplate": "trackName=ÐÑÐ¼ÐµÐ½ÑÐ¹<br>date=%{x}<br>views=%{y}<extra></extra>",
         "legendgroup": "ÐÑÐ¼ÐµÐ½ÑÐ¹",
         "line": {
          "color": "#636efa",
          "dash": "solid"
         },
         "marker": {
          "symbol": "circle"
         },
         "mode": "lines+markers",
         "name": "ÐÑÐ¼ÐµÐ½ÑÐ¹",
         "showlegend": true,
         "type": "scattergl",
         "x": [
          "2024-05-24",
          "2024-05-25",
          "2024-05-26",
          "2024-06-07",
          "2024-06-08"
         ],
         "xaxis": "x",
         "y": [
          9300000,
          9300000,
          9300000,
          8600000,
          4300000
         ],
         "yaxis": "y"
        },
        {
         "hovertemplate": "trackName=Candy Shop (Jersey Club)<br>date=%{x}<br>views=%{y}<extra></extra>",
         "legendgroup": "Candy Shop (Jersey Club)",
         "line": {
          "color": "#EF553B",
          "dash": "solid"
         },
         "marker": {
          "symbol": "circle"
         },
         "mode": "lines+markers",
         "name": "Candy Shop (Jersey Club)",
         "showlegend": true,
         "type": "scattergl",
         "x": [
          "2024-05-25",
          "2024-06-01"
         ],
         "xaxis": "x",
         "y": [
          2300000,
          2800000
         ],
         "yaxis": "y"
        },
        {
         "hovertemplate": "trackName=Destiny<br>date=%{x}<br>views=%{y}<extra></extra>",
         "legendgroup": "Destiny",
         "line": {
          "color": "#00cc96",
          "dash": "solid"
         },
         "marker": {
          "symbol": "circle"
         },
         "mode": "lines+markers",
         "name": "Destiny",
         "showlegend": true,
         "type": "scattergl",
         "x": [
          "2024-05-25",
          "2024-05-26",
          "2024-05-27",
          "2024-05-29",
          "2024-05-31",
          "2024-06-03",
          "2024-06-04",
          "2024-06-05",
          "2024-06-06",
          "2024-06-07",
          "2024-06-08",
          "2024-06-09",
          "2024-06-10"
         ],
         "xaxis": "x",
         "y": [
          2000000,
          2000000,
          2000000,
          1000000,
          1000000,
          2000000,
          1000000,
          1000000,
          3300000,
          2200000,
          3300000,
          1100000,
          2200000
         ],
         "yaxis": "y"
        },
        {
         "hovertemplate": "trackName=Face no Book<br>date=%{x}<br>views=%{y}<extra></extra>",
         "legendgroup": "Face no Book",
         "line": {
          "color": "#ab63fa",
          "dash": "solid"
         },
         "marker": {
          "symbol": "circle"
         },
         "mode": "lines+markers",
         "name": "Face no Book",
         "showlegend": true,
         "type": "scattergl",
         "x": [
          "2024-05-25",
          "2024-05-30"
         ],
         "xaxis": "x",
         "y": [
          2600000,
          5600000
         ],
         "yaxis": "y"
        },
        {
         "hovertemplate": "trackName=Georgia On My Mind<br>date=%{x}<br>views=%{y}<extra></extra>",
         "legendgroup": "Georgia On My Mind",
         "line": {
          "color": "#FFA15A",
          "dash": "solid"
         },
         "marker": {
          "symbol": "circle"
         },
         "mode": "lines+markers",
         "name": "Georgia On My Mind",
         "showlegend": true,
         "type": "scattergl",
         "x": [
          "2024-05-25",
          "2024-05-31",
          "2024-06-01",
          "2024-06-04"
         ],
         "xaxis": "x",
         "y": [
          3600000,
          7600000,
          7800000,
          4000000
         ],
         "yaxis": "y"
        },
        {
         "hovertemplate": "trackName=Hoist the Colours<br>date=%{x}<br>views=%{y}<extra></extra>",
         "legendgroup": "Hoist the Colours",
         "line": {
          "color": "#19d3f3",
          "dash": "solid"
         },
         "marker": {
          "symbol": "circle"
         },
         "mode": "lines+markers",
         "name": "Hoist the Colours",
         "showlegend": true,
         "type": "scattergl",
         "x": [
          "2024-05-25",
          "2024-06-03"
         ],
         "xaxis": "x",
         "y": [
          30600000,
          32700000
         ],
         "yaxis": "y"
        },
        {
         "hovertemplate": "trackName=I'm so lucky(Hardstyle)!<br>date=%{x}<br>views=%{y}<extra></extra>",
         "legendgroup": "I'm so lucky(Hardstyle)!",
         "line": {
          "color": "#FF6692",
          "dash": "solid"
         },
         "marker": {
          "symbol": "circle"
         },
         "mode": "lines+markers",
         "name": "I'm so lucky(Hardstyle)!",
         "showlegend": true,
         "type": "scattergl",
         "x": [
          "2024-05-25",
          "2024-05-26",
          "2024-05-27"
         ],
         "xaxis": "x",
         "y": [
          4400000,
          2300000,
          4600000
         ],
         "yaxis": "y"
        },
        {
         "hovertemplate": "trackName=If I Would Have Known<br>date=%{x}<br>views=%{y}<extra></extra>",
         "legendgroup": "If I Would Have Known",
         "line": {
          "color": "#B6E880",
          "dash": "solid"
         },
         "marker": {
          "symbol": "circle"
         },
         "mode": "lines+markers",
         "name": "If I Would Have Known",
         "showlegend": true,
         "type": "scattergl",
         "x": [
          "2024-05-25"
         ],
         "xaxis": "x",
         "y": [
          4600000
         ],
         "yaxis": "y"
        },
        {
         "hovertemplate": "trackName=Jacob and the Stone<br>date=%{x}<br>views=%{y}<extra></extra>",
         "legendgroup": "Jacob and the Stone",
         "line": {
          "color": "#FF97FF",
          "dash": "solid"
         },
         "marker": {
          "symbol": "circle"
         },
         "mode": "lines+markers",
         "name": "Jacob and the Stone",
         "showlegend": true,
         "type": "scattergl",
         "x": [
          "2024-05-25",
          "2024-06-01",
          "2024-06-07",
          "2024-06-09",
          "2024-06-10"
         ],
         "xaxis": "x",
         "y": [
          14500000,
          25400000,
          14700000,
          14800000,
          3400000
         ],
         "yaxis": "y"
        },
        {
         "hovertemplate": "trackName=Love Is Hurt<br>date=%{x}<br>views=%{y}<extra></extra>",
         "legendgroup": "Love Is Hurt",
         "line": {
          "color": "#FECB52",
          "dash": "solid"
         },
         "marker": {
          "symbol": "circle"
         },
         "mode": "lines+markers",
         "name": "Love Is Hurt",
         "showlegend": true,
         "type": "scattergl",
         "x": [
          "2024-05-25"
         ],
         "xaxis": "x",
         "y": [
          6800000
         ],
         "yaxis": "y"
        },
        {
         "hovertemplate": "trackName=Mami que chapon<br>date=%{x}<br>views=%{y}<extra></extra>",
         "legendgroup": "Mami que chapon",
         "line": {
          "color": "#636efa",
          "dash": "solid"
         },
         "marker": {
          "symbol": "circle"
         },
         "mode": "lines+markers",
         "name": "Mami que chapon",
         "showlegend": true,
         "type": "scattergl",
         "x": [
          "2024-05-25"
         ],
         "xaxis": "x",
         "y": [
          4400000
         ],
         "yaxis": "y"
        },
        {
         "hovertemplate": "trackName=Moonlight on the River<br>date=%{x}<br>views=%{y}<extra></extra>",
         "legendgroup": "Moonlight on the River",
         "line": {
          "color": "#EF553B",
          "dash": "solid"
         },
         "marker": {
          "symbol": "circle"
         },
         "mode": "lines+markers",
         "name": "Moonlight on the River",
         "showlegend": true,
         "type": "scattergl",
         "x": [
          "2024-05-25"
         ],
         "xaxis": "x",
         "y": [
          889000
         ],
         "yaxis": "y"
        },
        {
         "hovertemplate": "trackName=ONE LOVE FOR BOB<br>date=%{x}<br>views=%{y}<extra></extra>",
         "legendgroup": "ONE LOVE FOR BOB",
         "line": {
          "color": "#00cc96",
          "dash": "solid"
         },
         "marker": {
          "symbol": "circle"
         },
         "mode": "lines+markers",
         "name": "ONE LOVE FOR BOB",
         "showlegend": true,
         "type": "scattergl",
         "x": [
          "2024-05-25"
         ],
         "xaxis": "x",
         "y": [
          43800000
         ],
         "yaxis": "y"
        },
        {
         "hovertemplate": "trackName=OTT<br>date=%{x}<br>views=%{y}<extra></extra>",
         "legendgroup": "OTT",
         "line": {
          "color": "#ab63fa",
          "dash": "solid"
         },
         "marker": {
          "symbol": "circle"
         },
         "mode": "lines+markers",
         "name": "OTT",
         "showlegend": true,
         "type": "scattergl",
         "x": [
          "2024-05-25",
          "2024-05-26",
          "2024-05-27",
          "2024-05-29",
          "2024-05-31",
          "2024-06-03",
          "2024-06-04",
          "2024-06-05",
          "2024-06-06",
          "2024-06-07",
          "2024-06-08",
          "2024-06-09",
          "2024-06-10"
         ],
         "xaxis": "x",
         "y": [
          2000000,
          2000000,
          2000000,
          1000000,
          1000000,
          2000000,
          1000000,
          1000000,
          3300000,
          2200000,
          3300000,
          1100000,
          2200000
         ],
         "yaxis": "y"
        },
        {
         "hovertemplate": "trackName=School Rooftop (feat. WMD) [Bird Sounds]<br>date=%{x}<br>views=%{y}<extra></extra>",
         "legendgroup": "School Rooftop (feat. WMD) [Bird Sounds]",
         "line": {
          "color": "#FFA15A",
          "dash": "solid"
         },
         "marker": {
          "symbol": "circle"
         },
         "mode": "lines+markers",
         "name": "School Rooftop (feat. WMD) [Bird Sounds]",
         "showlegend": true,
         "type": "scattergl",
         "x": [
          "2024-05-25",
          "2024-05-26"
         ],
         "xaxis": "x",
         "y": [
          2600000,
          2600000
         ],
         "yaxis": "y"
        },
        {
         "hovertemplate": "trackName=Tornado Siren Sound Effect<br>date=%{x}<br>views=%{y}<extra></extra>",
         "legendgroup": "Tornado Siren Sound Effect",
         "line": {
          "color": "#19d3f3",
          "dash": "solid"
         },
         "marker": {
          "symbol": "circle"
         },
         "mode": "lines+markers",
         "name": "Tornado Siren Sound Effect",
         "showlegend": true,
         "type": "scattergl",
         "x": [
          "2024-05-25"
         ],
         "xaxis": "x",
         "y": [
          1000000
         ],
         "yaxis": "y"
        },
        {
         "hovertemplate": "trackName=Venezia (Instrumental Club Mix)<br>date=%{x}<br>views=%{y}<extra></extra>",
         "legendgroup": "Venezia (Instrumental Club Mix)",
         "line": {
          "color": "#FF6692",
          "dash": "solid"
         },
         "marker": {
          "symbol": "circle"
         },
         "mode": "lines+markers",
         "name": "Venezia (Instrumental Club Mix)",
         "showlegend": true,
         "type": "scattergl",
         "x": [
          "2024-05-25",
          "2024-06-01",
          "2024-06-03",
          "2024-06-07",
          "2024-06-10",
          "2024-06-11"
         ],
         "xaxis": "x",
         "y": [
          38200000,
          84600000,
          43000000,
          88400000,
          90400000,
          136500000
         ],
         "yaxis": "y"
        },
        {
         "hovertemplate": "trackName=Wild Thoughts (feat. Rihanna & Bryson Tiller)<br>date=%{x}<br>views=%{y}<extra></extra>",
         "legendgroup": "Wild Thoughts (feat. Rihanna & Bryson Tiller)",
         "line": {
          "color": "#B6E880",
          "dash": "solid"
         },
         "marker": {
          "symbol": "circle"
         },
         "mode": "lines+markers",
         "name": "Wild Thoughts (feat. Rihanna & Bryson Tiller)",
         "showlegend": true,
         "type": "scattergl",
         "x": [
          "2024-05-25"
         ],
         "xaxis": "x",
         "y": [
          1800000
         ],
         "yaxis": "y"
        },
        {
         "hovertemplate": "trackName=Yacht Club<br>date=%{x}<br>views=%{y}<extra></extra>",
         "legendgroup": "Yacht Club",
         "line": {
          "color": "#FF97FF",
          "dash": "solid"
         },
         "marker": {
          "symbol": "circle"
         },
         "mode": "lines+markers",
         "name": "Yacht Club",
         "showlegend": true,
         "type": "scattergl",
         "x": [
          "2024-05-25",
          "2024-05-27",
          "2024-05-28",
          "2024-05-29",
          "2024-05-30",
          "2024-06-01",
          "2024-06-02",
          "2024-06-03",
          "2024-06-04",
          "2024-06-05",
          "2024-06-06",
          "2024-06-07",
          "2024-06-08",
          "2024-06-09",
          "2024-06-10",
          "2024-06-11"
         ],
         "xaxis": "x",
         "y": [
          50100000,
          102000000,
          103200000,
          52000000,
          52300000,
          105800000,
          53300000,
          53700000,
          54100000,
          54400000,
          12200000,
          110200000,
          110800000,
          55800000,
          112200000,
          169200000
         ],
         "yaxis": "y"
        },
        {
         "hovertemplate": "trackName=æäº®ä¹ä¸ (Live)<br>date=%{x}<br>views=%{y}<extra></extra>",
         "legendgroup": "æäº®ä¹ä¸ (Live)",
         "line": {
          "color": "#FECB52",
          "dash": "solid"
         },
         "marker": {
          "symbol": "circle"
         },
         "mode": "lines+markers",
         "name": "æäº®ä¹ä¸ (Live)",
         "showlegend": true,
         "type": "scattergl",
         "x": [
          "2024-05-25",
          "2024-05-26"
         ],
         "xaxis": "x",
         "y": [
          2200000,
          1100000
         ],
         "yaxis": "y"
        },
        {
         "hovertemplate": "trackName=Art Deco<br>date=%{x}<br>views=%{y}<extra></extra>",
         "legendgroup": "Art Deco",
         "line": {
          "color": "#636efa",
          "dash": "solid"
         },
         "marker": {
          "symbol": "circle"
         },
         "mode": "lines+markers",
         "name": "Art Deco",
         "showlegend": true,
         "type": "scattergl",
         "x": [
          "2024-05-26",
          "2024-05-27"
         ],
         "xaxis": "x",
         "y": [
          1900000,
          1900000
         ],
         "yaxis": "y"
        },
        {
         "hovertemplate": "trackName=Belts<br>date=%{x}<br>views=%{y}<extra></extra>",
         "legendgroup": "Belts",
         "line": {
          "color": "#EF553B",
          "dash": "solid"
         },
         "marker": {
          "symbol": "circle"
         },
         "mode": "lines+markers",
         "name": "Belts",
         "showlegend": true,
         "type": "scattergl",
         "x": [
          "2024-05-26"
         ],
         "xaxis": "x",
         "y": [
          5800000
         ],
         "yaxis": "y"
        },
        {
         "hovertemplate": "trackName=Black Barbies<br>date=%{x}<br>views=%{y}<extra></extra>",
         "legendgroup": "Black Barbies",
         "line": {
          "color": "#00cc96",
          "dash": "solid"
         },
         "marker": {
          "symbol": "circle"
         },
         "mode": "lines+markers",
         "name": "Black Barbies",
         "showlegend": true,
         "type": "scattergl",
         "x": [
          "2024-05-26"
         ],
         "xaxis": "x",
         "y": [
          843800
         ],
         "yaxis": "y"
        },
        {
         "hovertemplate": "trackName=Drama Baby / Malibu<br>date=%{x}<br>views=%{y}<extra></extra>",
         "legendgroup": "Drama Baby / Malibu",
         "line": {
          "color": "#ab63fa",
          "dash": "solid"
         },
         "marker": {
          "symbol": "circle"
         },
         "mode": "lines+markers",
         "name": "Drama Baby / Malibu",
         "showlegend": true,
         "type": "scattergl",
         "x": [
          "2024-05-26"
         ],
         "xaxis": "x",
         "y": [
          1300000
         ],
         "yaxis": "y"
        },
        {
         "hovertemplate": "trackName=Dropped Out<br>date=%{x}<br>views=%{y}<extra></extra>",
         "legendgroup": "Dropped Out",
         "line": {
          "color": "#FFA15A",
          "dash": "solid"
         },
         "marker": {
          "symbol": "circle"
         },
         "mode": "lines+markers",
         "name": "Dropped Out",
         "showlegend": true,
         "type": "scattergl",
         "x": [
          "2024-05-26",
          "2024-06-05",
          "2024-06-06",
          "2024-06-07",
          "2024-06-09"
         ],
         "xaxis": "x",
         "y": [
          5900000,
          12000000,
          6000000,
          12200000,
          6100000
         ],
         "yaxis": "y"
        },
        {
         "hovertemplate": "trackName=Fresas Con Crema<br>date=%{x}<br>views=%{y}<extra></extra>",
         "legendgroup": "Fresas Con Crema",
         "line": {
          "color": "#19d3f3",
          "dash": "solid"
         },
         "marker": {
          "symbol": "circle"
         },
         "mode": "lines+markers",
         "name": "Fresas Con Crema",
         "showlegend": true,
         "type": "scattergl",
         "x": [
          "2024-05-26"
         ],
         "xaxis": "x",
         "y": [
          1900000
         ],
         "yaxis": "y"
        },
        {
         "hovertemplate": "trackName=Gulu Gulu Rap Song (Rap Song)<br>date=%{x}<br>views=%{y}<extra></extra>",
         "legendgroup": "Gulu Gulu Rap Song (Rap Song)",
         "line": {
          "color": "#FF6692",
          "dash": "solid"
         },
         "marker": {
          "symbol": "circle"
         },
         "mode": "lines+markers",
         "name": "Gulu Gulu Rap Song (Rap Song)",
         "showlegend": true,
         "type": "scattergl",
         "x": [
          "2024-05-26"
         ],
         "xaxis": "x",
         "y": [
          7900000
         ],
         "yaxis": "y"
        },
        {
         "hovertemplate": "trackName=Help Me<br>date=%{x}<br>views=%{y}<extra></extra>",
         "legendgroup": "Help Me",
         "line": {
          "color": "#B6E880",
          "dash": "solid"
         },
         "marker": {
          "symbol": "circle"
         },
         "mode": "lines+markers",
         "name": "Help Me",
         "showlegend": true,
         "type": "scattergl",
         "x": [
          "2024-05-26",
          "2024-06-07"
         ],
         "xaxis": "x",
         "y": [
          68000000,
          68900000
         ],
         "yaxis": "y"
        },
        {
         "hovertemplate": "trackName=Humiliated!<br>date=%{x}<br>views=%{y}<extra></extra>",
         "legendgroup": "Humiliated!",
         "line": {
          "color": "#FF97FF",
          "dash": "solid"
         },
         "marker": {
          "symbol": "circle"
         },
         "mode": "lines+markers",
         "name": "Humiliated!",
         "showlegend": true,
         "type": "scattergl",
         "x": [
          "2024-05-26"
         ],
         "xaxis": "x",
         "y": [
          16700000
         ],
         "yaxis": "y"
        },
        {
         "hovertemplate": "trackName=Lamda vs. T-Jey RR (feat. Shliiwa & Konni Konsn)<br>date=%{x}<br>views=%{y}<extra></extra>",
         "legendgroup": "Lamda vs. T-Jey RR (feat. Shliiwa & Konni Konsn)",
         "line": {
          "color": "#FECB52",
          "dash": "solid"
         },
         "marker": {
          "symbol": "circle"
         },
         "mode": "lines+markers",
         "name": "Lamda vs. T-Jey RR (feat. Shliiwa & Konni Konsn)",
         "showlegend": true,
         "type": "scattergl",
         "x": [
          "2024-05-26"
         ],
         "xaxis": "x",
         "y": [
          21100000
         ],
         "yaxis": "y"
        },
        {
         "hovertemplate": "trackName=Lockdown (2020 Song)<br>date=%{x}<br>views=%{y}<extra></extra>",
         "legendgroup": "Lockdown (2020 Song)",
         "line": {
          "color": "#636efa",
          "dash": "solid"
         },
         "marker": {
          "symbol": "circle"
         },
         "mode": "lines+markers",
         "name": "Lockdown (2020 Song)",
         "showlegend": true,
         "type": "scattergl",
         "x": [
          "2024-05-26",
          "2024-05-30",
          "2024-06-01",
          "2024-06-03",
          "2024-06-04",
          "2024-06-05",
          "2024-06-06",
          "2024-06-07",
          "2024-06-08",
          "2024-06-10"
         ],
         "xaxis": "x",
         "y": [
          4500000,
          4600000,
          4700000,
          4700000,
          4800000,
          5700000,
          4800000,
          9600000,
          4900000,
          4900000
         ],
         "yaxis": "y"
        },
        {
         "hovertemplate": "trackName=Made for Me (Jersey Club Song)<br>date=%{x}<br>views=%{y}<extra></extra>",
         "legendgroup": "Made for Me (Jersey Club Song)",
         "line": {
          "color": "#EF553B",
          "dash": "solid"
         },
         "marker": {
          "symbol": "circle"
         },
         "mode": "lines+markers",
         "name": "Made for Me (Jersey Club Song)",
         "showlegend": true,
         "type": "scattergl",
         "x": [
          "2024-05-26"
         ],
         "xaxis": "x",
         "y": [
          17800000
         ],
         "yaxis": "y"
        },
        {
         "hovertemplate": "trackName=Monkeys Spinning Monkeys<br>date=%{x}<br>views=%{y}<extra></extra>",
         "legendgroup": "Monkeys Spinning Monkeys",
         "line": {
          "color": "#00cc96",
          "dash": "solid"
         },
         "marker": {
          "symbol": "circle"
         },
         "mode": "lines+markers",
         "name": "Monkeys Spinning Monkeys",
         "showlegend": true,
         "type": "scattergl",
         "x": [
          "2024-05-26",
          "2024-06-06",
          "2024-06-07",
          "2024-06-08"
         ],
         "xaxis": "x",
         "y": [
          20900000,
          65900000,
          6700000,
          55200000
         ],
         "yaxis": "y"
        },
        {
         "hovertemplate": "trackName=My Bazzu<br>date=%{x}<br>views=%{y}<extra></extra>",
         "legendgroup": "My Bazzu",
         "line": {
          "color": "#ab63fa",
          "dash": "solid"
         },
         "marker": {
          "symbol": "circle"
         },
         "mode": "lines+markers",
         "name": "My Bazzu",
         "showlegend": true,
         "type": "scattergl",
         "x": [
          "2024-05-26"
         ],
         "xaxis": "x",
         "y": [
          1300000
         ],
         "yaxis": "y"
        },
        {
         "hovertemplate": "trackName=Nameless<br>date=%{x}<br>views=%{y}<extra></extra>",
         "legendgroup": "Nameless",
         "line": {
          "color": "#FFA15A",
          "dash": "solid"
         },
         "marker": {
          "symbol": "circle"
         },
         "mode": "lines+markers",
         "name": "Nameless",
         "showlegend": true,
         "type": "scattergl",
         "x": [
          "2024-05-26"
         ],
         "xaxis": "x",
         "y": [
          1700000
         ],
         "yaxis": "y"
        },
        {
         "hovertemplate": "trackName=Neon Guts (feat. Pharrell Williams)<br>date=%{x}<br>views=%{y}<extra></extra>",
         "legendgroup": "Neon Guts (feat. Pharrell Williams)",
         "line": {
          "color": "#19d3f3",
          "dash": "solid"
         },
         "marker": {
          "symbol": "circle"
         },
         "mode": "lines+markers",
         "name": "Neon Guts (feat. Pharrell Williams)",
         "showlegend": true,
         "type": "scattergl",
         "x": [
          "2024-05-26",
          "2024-06-02",
          "2024-06-03",
          "2024-06-04"
         ],
         "xaxis": "x",
         "y": [
          2000000,
          2100000,
          2100000,
          2100000
         ],
         "yaxis": "y"
        },
        {
         "hovertemplate": "trackName=QKThr<br>date=%{x}<br>views=%{y}<extra></extra>",
         "legendgroup": "QKThr",
         "line": {
          "color": "#FF6692",
          "dash": "solid"
         },
         "marker": {
          "symbol": "circle"
         },
         "mode": "lines+markers",
         "name": "QKThr",
         "showlegend": true,
         "type": "scattergl",
         "x": [
          "2024-05-26"
         ],
         "xaxis": "x",
         "y": [
          3600000
         ],
         "yaxis": "y"
        },
        {
         "hovertemplate": "trackName=Reckless Sad<br>date=%{x}<br>views=%{y}<extra></extra>",
         "legendgroup": "Reckless Sad",
         "line": {
          "color": "#B6E880",
          "dash": "solid"
         },
         "marker": {
          "symbol": "circle"
         },
         "mode": "lines+markers",
         "name": "Reckless Sad",
         "showlegend": true,
         "type": "scattergl",
         "x": [
          "2024-05-26",
          "2024-05-27",
          "2024-05-30",
          "2024-06-06",
          "2024-06-07",
          "2024-06-08",
          "2024-06-09",
          "2024-06-10"
         ],
         "xaxis": "x",
         "y": [
          21000000,
          42000000,
          21100000,
          42600000,
          42800000,
          64200000,
          21500000,
          43000000
         ],
         "yaxis": "y"
        },
        {
         "hovertemplate": "trackName=SC-9<br>date=%{x}<br>views=%{y}<extra></extra>",
         "legendgroup": "SC-9",
         "line": {
          "color": "#FF97FF",
          "dash": "solid"
         },
         "marker": {
          "symbol": "circle"
         },
         "mode": "lines+markers",
         "name": "SC-9",
         "showlegend": true,
         "type": "scattergl",
         "x": [
          "2024-05-26",
          "2024-05-30",
          "2024-06-02"
         ],
         "xaxis": "x",
         "y": [
          1800000,
          4000000,
          6600000
         ],
         "yaxis": "y"
        },
        {
         "hovertemplate": "trackName=Soy la MÃ¡s Mala de EspaÃ±a<br>date=%{x}<br>views=%{y}<extra></extra>",
         "legendgroup": "Soy la MÃ¡s Mala de EspaÃ±a",
         "line": {
          "color": "#FECB52",
          "dash": "solid"
         },
         "marker": {
          "symbol": "circle"
         },
         "mode": "lines+markers",
         "name": "Soy la MÃ¡s Mala de EspaÃ±a",
         "showlegend": true,
         "type": "scattergl",
         "x": [
          "2024-05-26"
         ],
         "xaxis": "x",
         "y": [
          4100000
         ],
         "yaxis": "y"
        },
        {
         "hovertemplate": "trackName=These Words<br>date=%{x}<br>views=%{y}<extra></extra>",
         "legendgroup": "These Words",
         "line": {
          "color": "#636efa",
          "dash": "solid"
         },
         "marker": {
          "symbol": "circle"
         },
         "mode": "lines+markers",
         "name": "These Words",
         "showlegend": true,
         "type": "scattergl",
         "x": [
          "2024-05-26"
         ],
         "xaxis": "x",
         "y": [
          5600000
         ],
         "yaxis": "y"
        },
        {
         "hovertemplate": "trackName=Trash Magic (Miss America)<br>date=%{x}<br>views=%{y}<extra></extra>",
         "legendgroup": "Trash Magic (Miss America)",
         "line": {
          "color": "#EF553B",
          "dash": "solid"
         },
         "marker": {
          "symbol": "circle"
         },
         "mode": "lines+markers",
         "name": "Trash Magic (Miss America)",
         "showlegend": true,
         "type": "scattergl",
         "x": [
          "2024-05-26"
         ],
         "xaxis": "x",
         "y": [
          1500000
         ],
         "yaxis": "y"
        },
        {
         "hovertemplate": "trackName=Where You Are<br>date=%{x}<br>views=%{y}<extra></extra>",
         "legendgroup": "Where You Are",
         "line": {
          "color": "#00cc96",
          "dash": "solid"
         },
         "marker": {
          "symbol": "circle"
         },
         "mode": "lines+markers",
         "name": "Where You Are",
         "showlegend": true,
         "type": "scattergl",
         "x": [
          "2024-05-26"
         ],
         "xaxis": "x",
         "y": [
          3600000
         ],
         "yaxis": "y"
        },
        {
         "hovertemplate": "trackName=i like the way you kiss me<br>date=%{x}<br>views=%{y}<extra></extra>",
         "legendgroup": "i like the way you kiss me",
         "line": {
          "color": "#ab63fa",
          "dash": "solid"
         },
         "marker": {
          "symbol": "circle"
         },
         "mode": "lines+markers",
         "name": "i like the way you kiss me",
         "showlegend": true,
         "type": "scattergl",
         "x": [
          "2024-05-26"
         ],
         "xaxis": "x",
         "y": [
          8400000
         ],
         "yaxis": "y"
        },
        {
         "hovertemplate": "trackName=1v1 (feat. Lil Yachty)<br>date=%{x}<br>views=%{y}<extra></extra>",
         "legendgroup": "1v1 (feat. Lil Yachty)",
         "line": {
          "color": "#FFA15A",
          "dash": "solid"
         },
         "marker": {
          "symbol": "circle"
         },
         "mode": "lines+markers",
         "name": "1v1 (feat. Lil Yachty)",
         "showlegend": true,
         "type": "scattergl",
         "x": [
          "2024-05-27"
         ],
         "xaxis": "x",
         "y": [
          8100000
         ],
         "yaxis": "y"
        },
        {
         "hovertemplate": "trackName=Back It Up<br>date=%{x}<br>views=%{y}<extra></extra>",
         "legendgroup": "Back It Up",
         "line": {
          "color": "#19d3f3",
          "dash": "solid"
         },
         "marker": {
          "symbol": "circle"
         },
         "mode": "lines+markers",
         "name": "Back It Up",
         "showlegend": true,
         "type": "scattergl",
         "x": [
          "2024-05-27",
          "2024-05-29"
         ],
         "xaxis": "x",
         "y": [
          7000000,
          3600000
         ],
         "yaxis": "y"
        },
        {
         "hovertemplate": "trackName=Backpack Clean<br>date=%{x}<br>views=%{y}<extra></extra>",
         "legendgroup": "Backpack Clean",
         "line": {
          "color": "#FF6692",
          "dash": "solid"
         },
         "marker": {
          "symbol": "circle"
         },
         "mode": "lines+markers",
         "name": "Backpack Clean",
         "showlegend": true,
         "type": "scattergl",
         "x": [
          "2024-05-27",
          "2024-05-28",
          "2024-06-04"
         ],
         "xaxis": "x",
         "y": [
          9900000,
          6100000,
          1800000
         ],
         "yaxis": "y"
        },
        {
         "hovertemplate": "trackName=Big Back<br>date=%{x}<br>views=%{y}<extra></extra>",
         "legendgroup": "Big Back",
         "line": {
          "color": "#B6E880",
          "dash": "solid"
         },
         "marker": {
          "symbol": "circle"
         },
         "mode": "lines+markers",
         "name": "Big Back",
         "showlegend": true,
         "type": "scattergl",
         "x": [
          "2024-05-27",
          "2024-05-28",
          "2024-06-04"
         ],
         "xaxis": "x",
         "y": [
          9900000,
          6100000,
          7000000
         ],
         "yaxis": "y"
        },
        {
         "hovertemplate": "trackName=Bring Me to Life<br>date=%{x}<br>views=%{y}<extra></extra>",
         "legendgroup": "Bring Me to Life",
         "line": {
          "color": "#FF97FF",
          "dash": "solid"
         },
         "marker": {
          "symbol": "circle"
         },
         "mode": "lines+markers",
         "name": "Bring Me to Life",
         "showlegend": true,
         "type": "scattergl",
         "x": [
          "2024-05-27"
         ],
         "xaxis": "x",
         "y": [
          36400000
         ],
         "yaxis": "y"
        },
        {
         "hovertemplate": "trackName=Cheri Cheri Lady<br>date=%{x}<br>views=%{y}<extra></extra>",
         "legendgroup": "Cheri Cheri Lady",
         "line": {
          "color": "#FECB52",
          "dash": "solid"
         },
         "marker": {
          "symbol": "circle"
         },
         "mode": "lines+markers",
         "name": "Cheri Cheri Lady",
         "showlegend": true,
         "type": "scattergl",
         "x": [
          "2024-05-27",
          "2024-06-10",
          "2024-06-11"
         ],
         "xaxis": "x",
         "y": [
          5200000,
          25200000,
          51200000
         ],
         "yaxis": "y"
        },
        {
         "hovertemplate": "trackName=Duvet<br>date=%{x}<br>views=%{y}<extra></extra>",
         "legendgroup": "Duvet",
         "line": {
          "color": "#636efa",
          "dash": "solid"
         },
         "marker": {
          "symbol": "circle"
         },
         "mode": "lines+markers",
         "name": "Duvet",
         "showlegend": true,
         "type": "scattergl",
         "x": [
          "2024-05-27",
          "2024-05-28",
          "2024-06-01",
          "2024-06-02",
          "2024-06-03"
         ],
         "xaxis": "x",
         "y": [
          87400000,
          44000000,
          89000000,
          44600000,
          44700000
         ],
         "yaxis": "y"
        },
        {
         "hovertemplate": "trackName=Hide Away<br>date=%{x}<br>views=%{y}<extra></extra>",
         "legendgroup": "Hide Away",
         "line": {
          "color": "#EF553B",
          "dash": "solid"
         },
         "marker": {
          "symbol": "circle"
         },
         "mode": "lines+markers",
         "name": "Hide Away",
         "showlegend": true,
         "type": "scattergl",
         "x": [
          "2024-05-27",
          "2024-05-28"
         ],
         "xaxis": "x",
         "y": [
          9000000,
          4500000
         ],
         "yaxis": "y"
        },
        {
         "hovertemplate": "trackName=Hope<br>date=%{x}<br>views=%{y}<extra></extra>",
         "legendgroup": "Hope",
         "line": {
          "color": "#00cc96",
          "dash": "solid"
         },
         "marker": {
          "symbol": "circle"
         },
         "mode": "lines+markers",
         "name": "Hope",
         "showlegend": true,
         "type": "scattergl",
         "x": [
          "2024-05-27"
         ],
         "xaxis": "x",
         "y": [
          2300000
         ],
         "yaxis": "y"
        },
        {
         "hovertemplate": "trackName=How It Ends<br>date=%{x}<br>views=%{y}<extra></extra>",
         "legendgroup": "How It Ends",
         "line": {
          "color": "#ab63fa",
          "dash": "solid"
         },
         "marker": {
          "symbol": "circle"
         },
         "mode": "lines+markers",
         "name": "How It Ends",
         "showlegend": true,
         "type": "scattergl",
         "x": [
          "2024-05-27",
          "2024-05-28",
          "2024-05-29",
          "2024-05-30",
          "2024-05-31",
          "2024-06-01",
          "2024-06-02",
          "2024-06-03",
          "2024-06-04"
         ],
         "xaxis": "x",
         "y": [
          210600000,
          105600000,
          106000000,
          212600000,
          319800000,
          346700000,
          322200000,
          107800000,
          25800000
         ],
         "yaxis": "y"
        },
        {
         "hovertemplate": "trackName=Indian D<br>date=%{x}<br>views=%{y}<extra></extra>",
         "legendgroup": "Indian D",
         "line": {
          "color": "#FFA15A",
          "dash": "solid"
         },
         "marker": {
          "symbol": "circle"
         },
         "mode": "lines+markers",
         "name": "Indian D",
         "showlegend": true,
         "type": "scattergl",
         "x": [
          "2024-05-27",
          "2024-05-29"
         ],
         "xaxis": "x",
         "y": [
          1300000,
          1300000
         ],
         "yaxis": "y"
        },
        {
         "hovertemplate": "trackName=Michelle<br>date=%{x}<br>views=%{y}<extra></extra>",
         "legendgroup": "Michelle",
         "line": {
          "color": "#19d3f3",
          "dash": "solid"
         },
         "marker": {
          "symbol": "circle"
         },
         "mode": "lines+markers",
         "name": "Michelle",
         "showlegend": true,
         "type": "scattergl",
         "x": [
          "2024-05-27"
         ],
         "xaxis": "x",
         "y": [
          18800000
         ],
         "yaxis": "y"
        },
        {
         "hovertemplate": "trackName=Mizu No Naka<br>date=%{x}<br>views=%{y}<extra></extra>",
         "legendgroup": "Mizu No Naka",
         "line": {
          "color": "#FF6692",
          "dash": "solid"
         },
         "marker": {
          "symbol": "circle"
         },
         "mode": "lines+markers",
         "name": "Mizu No Naka",
         "showlegend": true,
         "type": "scattergl",
         "x": [
          "2024-05-27"
         ],
         "xaxis": "x",
         "y": [
          36200000
         ],
         "yaxis": "y"
        },
        {
         "hovertemplate": "trackName=Only Time<br>date=%{x}<br>views=%{y}<extra></extra>",
         "legendgroup": "Only Time",
         "line": {
          "color": "#B6E880",
          "dash": "solid"
         },
         "marker": {
          "symbol": "circle"
         },
         "mode": "lines+markers",
         "name": "Only Time",
         "showlegend": true,
         "type": "scattergl",
         "x": [
          "2024-05-27"
         ],
         "xaxis": "x",
         "y": [
          36200000
         ],
         "yaxis": "y"
        },
        {
         "hovertemplate": "trackName=Party Girl<br>date=%{x}<br>views=%{y}<extra></extra>",
         "legendgroup": "Party Girl",
         "line": {
          "color": "#FF97FF",
          "dash": "solid"
         },
         "marker": {
          "symbol": "circle"
         },
         "mode": "lines+markers",
         "name": "Party Girl",
         "showlegend": true,
         "type": "scattergl",
         "x": [
          "2024-05-27",
          "2024-05-28"
         ],
         "xaxis": "x",
         "y": [
          2800000,
          2100000
         ],
         "yaxis": "y"
        },
        {
         "hovertemplate": "trackName=ROLE MODEL<br>date=%{x}<br>views=%{y}<extra></extra>",
         "legendgroup": "ROLE MODEL",
         "line": {
          "color": "#FECB52",
          "dash": "solid"
         },
         "marker": {
          "symbol": "circle"
         },
         "mode": "lines+markers",
         "name": "ROLE MODEL",
         "showlegend": true,
         "type": "scattergl",
         "x": [
          "2024-05-27",
          "2024-05-31"
         ],
         "xaxis": "x",
         "y": [
          4200000,
          4300000
         ],
         "yaxis": "y"
        },
        {
         "hovertemplate": "trackName=SMOKE IT OFF<br>date=%{x}<br>views=%{y}<extra></extra>",
         "legendgroup": "SMOKE IT OFF",
         "line": {
          "color": "#636efa",
          "dash": "solid"
         },
         "marker": {
          "symbol": "circle"
         },
         "mode": "lines+markers",
         "name": "SMOKE IT OFF",
         "showlegend": true,
         "type": "scattergl",
         "x": [
          "2024-05-27",
          "2024-05-28"
         ],
         "xaxis": "x",
         "y": [
          4300000,
          4400000
         ],
         "yaxis": "y"
        },
        {
         "hovertemplate": "trackName=Sawan Ke Pahila Somariya Ge<br>date=%{x}<br>views=%{y}<extra></extra>",
         "legendgroup": "Sawan Ke Pahila Somariya Ge",
         "line": {
          "color": "#EF553B",
          "dash": "solid"
         },
         "marker": {
          "symbol": "circle"
         },
         "mode": "lines+markers",
         "name": "Sawan Ke Pahila Somariya Ge",
         "showlegend": true,
         "type": "scattergl",
         "x": [
          "2024-05-27",
          "2024-05-29"
         ],
         "xaxis": "x",
         "y": [
          23600000,
          11900000
         ],
         "yaxis": "y"
        },
        {
         "hovertemplate": "trackName=Sensacional (feat. Strychniness)<br>date=%{x}<br>views=%{y}<extra></extra>",
         "legendgroup": "Sensacional (feat. Strychniness)",
         "line": {
          "color": "#00cc96",
          "dash": "solid"
         },
         "marker": {
          "symbol": "circle"
         },
         "mode": "lines+markers",
         "name": "Sensacional (feat. Strychniness)",
         "showlegend": true,
         "type": "scattergl",
         "x": [
          "2024-05-27",
          "2024-05-29",
          "2024-05-30",
          "2024-05-31"
         ],
         "xaxis": "x",
         "y": [
          6500000,
          6700000,
          13600000,
          20700000
         ],
         "yaxis": "y"
        },
        {
         "hovertemplate": "trackName=Sh!tty Pack (feat. Bfb Da Packman)<br>date=%{x}<br>views=%{y}<extra></extra>",
         "legendgroup": "Sh!tty Pack (feat. Bfb Da Packman)",
         "line": {
          "color": "#ab63fa",
          "dash": "solid"
         },
         "marker": {
          "symbol": "circle"
         },
         "mode": "lines+markers",
         "name": "Sh!tty Pack (feat. Bfb Da Packman)",
         "showlegend": true,
         "type": "scattergl",
         "x": [
          "2024-05-27",
          "2024-05-28",
          "2024-05-30",
          "2024-05-31",
          "2024-06-01"
         ],
         "xaxis": "x",
         "y": [
          2600000,
          1400000,
          1400000,
          2800000,
          1400000
         ],
         "yaxis": "y"
        },
        {
         "hovertemplate": "trackName=Suicidal<br>date=%{x}<br>views=%{y}<extra></extra>",
         "legendgroup": "Suicidal",
         "line": {
          "color": "#FFA15A",
          "dash": "solid"
         },
         "marker": {
          "symbol": "circle"
         },
         "mode": "lines+markers",
         "name": "Suicidal",
         "showlegend": true,
         "type": "scattergl",
         "x": [
          "2024-05-27",
          "2024-05-28",
          "2024-05-29",
          "2024-05-30",
          "2024-05-31",
          "2024-06-02"
         ],
         "xaxis": "x",
         "y": [
          1400000,
          1400000,
          1400000,
          3000000,
          3000000,
          3200000
         ],
         "yaxis": "y"
        },
        {
         "hovertemplate": "trackName=Sundress<br>date=%{x}<br>views=%{y}<extra></extra>",
         "legendgroup": "Sundress",
         "line": {
          "color": "#19d3f3",
          "dash": "solid"
         },
         "marker": {
          "symbol": "circle"
         },
         "mode": "lines+markers",
         "name": "Sundress",
         "showlegend": true,
         "type": "scattergl",
         "x": [
          "2024-05-27"
         ],
         "xaxis": "x",
         "y": [
          19500000
         ],
         "yaxis": "y"
        },
        {
         "hovertemplate": "trackName=Tadow<br>date=%{x}<br>views=%{y}<extra></extra>",
         "legendgroup": "Tadow",
         "line": {
          "color": "#FF6692",
          "dash": "solid"
         },
         "marker": {
          "symbol": "circle"
         },
         "mode": "lines+markers",
         "name": "Tadow",
         "showlegend": true,
         "type": "scattergl",
         "x": [
          "2024-05-27",
          "2024-05-28",
          "2024-05-30",
          "2024-05-31",
          "2024-06-01",
          "2024-06-02",
          "2024-06-03",
          "2024-06-04",
          "2024-06-05",
          "2024-06-06",
          "2024-06-07",
          "2024-06-08",
          "2024-06-09",
          "2024-06-10",
          "2024-06-11"
         ],
         "xaxis": "x",
         "y": [
          12000000,
          6200000,
          13600000,
          21800000,
          22200000,
          7500000,
          15400000,
          7800000,
          7900000,
          16000000,
          16200000,
          16400000,
          8300000,
          17000000,
          25800000
         ],
         "yaxis": "y"
        },
        {
         "hovertemplate": "trackName=The Mop<br>date=%{x}<br>views=%{y}<extra></extra>",
         "legendgroup": "The Mop",
         "line": {
          "color": "#B6E880",
          "dash": "solid"
         },
         "marker": {
          "symbol": "circle"
         },
         "mode": "lines+markers",
         "name": "The Mop",
         "showlegend": true,
         "type": "scattergl",
         "x": [
          "2024-05-27",
          "2024-05-29"
         ],
         "xaxis": "x",
         "y": [
          7600000,
          3900000
         ],
         "yaxis": "y"
        },
        {
         "hovertemplate": "trackName=Theme From \"The Pink Panther\"<br>date=%{x}<br>views=%{y}<extra></extra>",
         "legendgroup": "Theme From \"The Pink Panther\"",
         "line": {
          "color": "#FF97FF",
          "dash": "solid"
         },
         "marker": {
          "symbol": "circle"
         },
         "mode": "lines+markers",
         "name": "Theme From \"The Pink Panther\"",
         "showlegend": true,
         "type": "scattergl",
         "x": [
          "2024-05-27",
          "2024-05-31",
          "2024-06-02"
         ],
         "xaxis": "x",
         "y": [
          9600000,
          4800000,
          4800000
         ],
         "yaxis": "y"
        },
        {
         "hovertemplate": "trackName=Titanium (feat. Sia)<br>date=%{x}<br>views=%{y}<extra></extra>",
         "legendgroup": "Titanium (feat. Sia)",
         "line": {
          "color": "#FECB52",
          "dash": "solid"
         },
         "marker": {
          "symbol": "circle"
         },
         "mode": "lines+markers",
         "name": "Titanium (feat. Sia)",
         "showlegend": true,
         "type": "scattergl",
         "x": [
          "2024-05-27"
         ],
         "xaxis": "x",
         "y": [
          23600000
         ],
         "yaxis": "y"
        },
        {
         "hovertemplate": "trackName=WWE: The Time Is Now (John Cena)<br>date=%{x}<br>views=%{y}<extra></extra>",
         "legendgroup": "WWE: The Time Is Now (John Cena)",
         "line": {
          "color": "#636efa",
          "dash": "solid"
         },
         "marker": {
          "symbol": "circle"
         },
         "mode": "lines+markers",
         "name": "WWE: The Time Is Now (John Cena)",
         "showlegend": true,
         "type": "scattergl",
         "x": [
          "2024-05-27",
          "2024-06-01"
         ],
         "xaxis": "x",
         "y": [
          893300,
          1000000
         ],
         "yaxis": "y"
        },
        {
         "hovertemplate": "trackName=Whole Thing (feat. Freddie Gibbs)<br>date=%{x}<br>views=%{y}<extra></extra>",
         "legendgroup": "Whole Thing (feat. Freddie Gibbs)",
         "line": {
          "color": "#EF553B",
          "dash": "solid"
         },
         "marker": {
          "symbol": "circle"
         },
         "mode": "lines+markers",
         "name": "Whole Thing (feat. Freddie Gibbs)",
         "showlegend": true,
         "type": "scattergl",
         "x": [
          "2024-05-27",
          "2024-05-29",
          "2024-05-30",
          "2024-05-31"
         ],
         "xaxis": "x",
         "y": [
          6500000,
          6700000,
          13600000,
          20700000
         ],
         "yaxis": "y"
        },
        {
         "hovertemplate": "trackName=meet the grahams<br>date=%{x}<br>views=%{y}<extra></extra>",
         "legendgroup": "meet the grahams",
         "line": {
          "color": "#00cc96",
          "dash": "solid"
         },
         "marker": {
          "symbol": "circle"
         },
         "mode": "lines+markers",
         "name": "meet the grahams",
         "showlegend": true,
         "type": "scattergl",
         "x": [
          "2024-05-27",
          "2024-06-02",
          "2024-06-03"
         ],
         "xaxis": "x",
         "y": [
          8400000,
          4700000,
          4800000
         ],
         "yaxis": "y"
        },
        {
         "hovertemplate": "trackName=BACK TO BACK DDosama<br>date=%{x}<br>views=%{y}<extra></extra>",
         "legendgroup": "BACK TO BACK DDosama",
         "line": {
          "color": "#ab63fa",
          "dash": "solid"
         },
         "marker": {
          "symbol": "circle"
         },
         "mode": "lines+markers",
         "name": "BACK TO BACK DDosama",
         "showlegend": true,
         "type": "scattergl",
         "x": [
          "2024-05-28"
         ],
         "xaxis": "x",
         "y": [
          1700000
         ],
         "yaxis": "y"
        },
        {
         "hovertemplate": "trackName=Backtoback<br>date=%{x}<br>views=%{y}<extra></extra>",
         "legendgroup": "Backtoback",
         "line": {
          "color": "#FFA15A",
          "dash": "solid"
         },
         "marker": {
          "symbol": "circle"
         },
         "mode": "lines+markers",
         "name": "Backtoback",
         "showlegend": true,
         "type": "scattergl",
         "x": [
          "2024-05-28"
         ],
         "xaxis": "x",
         "y": [
          1700000
         ],
         "yaxis": "y"
        },
        {
         "hovertemplate": "trackName=Dark Red<br>date=%{x}<br>views=%{y}<extra></extra>",
         "legendgroup": "Dark Red",
         "line": {
          "color": "#19d3f3",
          "dash": "solid"
         },
         "marker": {
          "symbol": "circle"
         },
         "mode": "lines+markers",
         "name": "Dark Red",
         "showlegend": true,
         "type": "scattergl",
         "x": [
          "2024-05-28"
         ],
         "xaxis": "x",
         "y": [
          2200000
         ],
         "yaxis": "y"
        },
        {
         "hovertemplate": "trackName=Dj She Doesnt Mind (Remix)<br>date=%{x}<br>views=%{y}<extra></extra>",
         "legendgroup": "Dj She Doesnt Mind (Remix)",
         "line": {
          "color": "#FF6692",
          "dash": "solid"
         },
         "marker": {
          "symbol": "circle"
         },
         "mode": "lines+markers",
         "name": "Dj She Doesnt Mind (Remix)",
         "showlegend": true,
         "type": "scattergl",
         "x": [
          "2024-05-28",
          "2024-05-29",
          "2024-05-30",
          "2024-06-01",
          "2024-06-02",
          "2024-06-03"
         ],
         "xaxis": "x",
         "y": [
          14200000,
          14300000,
          29000000,
          15000000,
          15300000,
          15500000
         ],
         "yaxis": "y"
        },
        {
         "hovertemplate": "trackName=EYES ON ME<br>date=%{x}<br>views=%{y}<extra></extra>",
         "legendgroup": "EYES ON ME",
         "line": {
          "color": "#B6E880",
          "dash": "solid"
         },
         "marker": {
          "symbol": "circle"
         },
         "mode": "lines+markers",
         "name": "EYES ON ME",
         "showlegend": true,
         "type": "scattergl",
         "x": [
          "2024-05-28",
          "2024-06-05"
         ],
         "xaxis": "x",
         "y": [
          3500000,
          3100000
         ],
         "yaxis": "y"
        },
        {
         "hovertemplate": "trackName=Last Friday Night (T.G.I.F.)<br>date=%{x}<br>views=%{y}<extra></extra>",
         "legendgroup": "Last Friday Night (T.G.I.F.)",
         "line": {
          "color": "#FF97FF",
          "dash": "solid"
         },
         "marker": {
          "symbol": "circle"
         },
         "mode": "lines+markers",
         "name": "Last Friday Night (T.G.I.F.)",
         "showlegend": true,
         "type": "scattergl",
         "x": [
          "2024-05-28",
          "2024-06-01",
          "2024-06-06",
          "2024-06-08"
         ],
         "xaxis": "x",
         "y": [
          22800000,
          14300000,
          32600000,
          49500000
         ],
         "yaxis": "y"
        },
        {
         "hovertemplate": "trackName=My Kind of Woman<br>date=%{x}<br>views=%{y}<extra></extra>",
         "legendgroup": "My Kind of Woman",
         "line": {
          "color": "#FECB52",
          "dash": "solid"
         },
         "marker": {
          "symbol": "circle"
         },
         "mode": "lines+markers",
         "name": "My Kind of Woman",
         "showlegend": true,
         "type": "scattergl",
         "x": [
          "2024-05-28",
          "2024-06-01"
         ],
         "xaxis": "x",
         "y": [
          2800000,
          3700000
         ],
         "yaxis": "y"
        },
        {
         "hovertemplate": "trackName=RIIVERDANCE<br>date=%{x}<br>views=%{y}<extra></extra>",
         "legendgroup": "RIIVERDANCE",
         "line": {
          "color": "#636efa",
          "dash": "solid"
         },
         "marker": {
          "symbol": "circle"
         },
         "mode": "lines+markers",
         "name": "RIIVERDANCE",
         "showlegend": true,
         "type": "scattergl",
         "x": [
          "2024-05-28"
         ],
         "xaxis": "x",
         "y": [
          5000000
         ],
         "yaxis": "y"
        },
        {
         "hovertemplate": "trackName=Too Much (Remix)<br>date=%{x}<br>views=%{y}<extra></extra>",
         "legendgroup": "Too Much (Remix)",
         "line": {
          "color": "#EF553B",
          "dash": "solid"
         },
         "marker": {
          "symbol": "circle"
         },
         "mode": "lines+markers",
         "name": "Too Much (Remix)",
         "showlegend": true,
         "type": "scattergl",
         "x": [
          "2024-05-28",
          "2024-05-29",
          "2024-05-30",
          "2024-05-31",
          "2024-06-01"
         ],
         "xaxis": "x",
         "y": [
          4700000,
          4800000,
          4900000,
          14700000,
          5000000
         ],
         "yaxis": "y"
        },
        {
         "hovertemplate": "trackName=Versos Con Tu Nombre<br>date=%{x}<br>views=%{y}<extra></extra>",
         "legendgroup": "Versos Con Tu Nombre",
         "line": {
          "color": "#00cc96",
          "dash": "solid"
         },
         "marker": {
          "symbol": "circle"
         },
         "mode": "lines+markers",
         "name": "Versos Con Tu Nombre",
         "showlegend": true,
         "type": "scattergl",
         "x": [
          "2024-05-28"
         ],
         "xaxis": "x",
         "y": [
          1700000
         ],
         "yaxis": "y"
        },
        {
         "hovertemplate": "trackName=Wide Open<br>date=%{x}<br>views=%{y}<extra></extra>",
         "legendgroup": "Wide Open",
         "line": {
          "color": "#ab63fa",
          "dash": "solid"
         },
         "marker": {
          "symbol": "circle"
         },
         "mode": "lines+markers",
         "name": "Wide Open",
         "showlegend": true,
         "type": "scattergl",
         "x": [
          "2024-05-28"
         ],
         "xaxis": "x",
         "y": [
          1700000
         ],
         "yaxis": "y"
        },
        {
         "hovertemplate": "trackName=7 Years (Originally Performed By Lukas Graham) [Karaoke Version]<br>date=%{x}<br>views=%{y}<extra></extra>",
         "legendgroup": "7 Years (Originally Performed By Lukas Graham) [Karaoke Version]",
         "line": {
          "color": "#FFA15A",
          "dash": "solid"
         },
         "marker": {
          "symbol": "circle"
         },
         "mode": "lines+markers",
         "name": "7 Years (Originally Performed By Lukas Graham) [Karaoke Version]",
         "showlegend": true,
         "type": "scattergl",
         "x": [
          "2024-05-29"
         ],
         "xaxis": "x",
         "y": [
          3300000
         ],
         "yaxis": "y"
        },
        {
         "hovertemplate": "trackName=A Bar Song (Tipsy)<br>date=%{x}<br>views=%{y}<extra></extra>",
         "legendgroup": "A Bar Song (Tipsy)",
         "line": {
          "color": "#19d3f3",
          "dash": "solid"
         },
         "marker": {
          "symbol": "circle"
         },
         "mode": "lines+markers",
         "name": "A Bar Song (Tipsy)",
         "showlegend": true,
         "type": "scattergl",
         "x": [
          "2024-05-29",
          "2024-06-04",
          "2024-06-05"
         ],
         "xaxis": "x",
         "y": [
          1600000,
          2700000,
          0
         ],
         "yaxis": "y"
        },
        {
         "hovertemplate": "trackName=Abg<br>date=%{x}<br>views=%{y}<extra></extra>",
         "legendgroup": "Abg",
         "line": {
          "color": "#FF6692",
          "dash": "solid"
         },
         "marker": {
          "symbol": "circle"
         },
         "mode": "lines+markers",
         "name": "Abg",
         "showlegend": true,
         "type": "scattergl",
         "x": [
          "2024-05-29"
         ],
         "xaxis": "x",
         "y": [
          877800
         ],
         "yaxis": "y"
        },
        {
         "hovertemplate": "trackName=Chun Swae (feat. Swae Lee)<br>date=%{x}<br>views=%{y}<extra></extra>",
         "legendgroup": "Chun Swae (feat. Swae Lee)",
         "line": {
          "color": "#B6E880",
          "dash": "solid"
         },
         "marker": {
          "symbol": "circle"
         },
         "mode": "lines+markers",
         "name": "Chun Swae (feat. Swae Lee)",
         "showlegend": true,
         "type": "scattergl",
         "x": [
          "2024-05-29",
          "2024-06-02",
          "2024-06-03",
          "2024-06-06"
         ],
         "xaxis": "x",
         "y": [
          47400000,
          47900000,
          48000000,
          144300000
         ],
         "yaxis": "y"
        },
        {
         "hovertemplate": "trackName=Confidence<br>date=%{x}<br>views=%{y}<extra></extra>",
         "legendgroup": "Confidence",
         "line": {
          "color": "#FF97FF",
          "dash": "solid"
         },
         "marker": {
          "symbol": "circle"
         },
         "mode": "lines+markers",
         "name": "Confidence",
         "showlegend": true,
         "type": "scattergl",
         "x": [
          "2024-05-29"
         ],
         "xaxis": "x",
         "y": [
          11600000
         ],
         "yaxis": "y"
        },
        {
         "hovertemplate": "trackName=FUNK ESTRANHO<br>date=%{x}<br>views=%{y}<extra></extra>",
         "legendgroup": "FUNK ESTRANHO",
         "line": {
          "color": "#FECB52",
          "dash": "solid"
         },
         "marker": {
          "symbol": "circle"
         },
         "mode": "lines+markers",
         "name": "FUNK ESTRANHO",
         "showlegend": true,
         "type": "scattergl",
         "x": [
          "2024-05-29"
         ],
         "xaxis": "x",
         "y": [
          5700000
         ],
         "yaxis": "y"
        },
        {
         "hovertemplate": "trackName=Hellcats SRTs 2<br>date=%{x}<br>views=%{y}<extra></extra>",
         "legendgroup": "Hellcats SRTs 2",
         "line": {
          "color": "#636efa",
          "dash": "solid"
         },
         "marker": {
          "symbol": "circle"
         },
         "mode": "lines+markers",
         "name": "Hellcats SRTs 2",
         "showlegend": true,
         "type": "scattergl",
         "x": [
          "2024-05-29",
          "2024-05-30",
          "2024-06-04"
         ],
         "xaxis": "x",
         "y": [
          1800000,
          1800000,
          1800000
         ],
         "yaxis": "y"
        },
        {
         "hovertemplate": "trackName=Il barone rosso<br>date=%{x}<br>views=%{y}<extra></extra>",
         "legendgroup": "Il barone rosso",
         "line": {
          "color": "#EF553B",
          "dash": "solid"
         },
         "marker": {
          "symbol": "circle"
         },
         "mode": "lines+markers",
         "name": "Il barone rosso",
         "showlegend": true,
         "type": "scattergl",
         "x": [
          "2024-05-29"
         ],
         "xaxis": "x",
         "y": [
          2000000
         ],
         "yaxis": "y"
        },
        {
         "hovertemplate": "trackName=Rock N Roll<br>date=%{x}<br>views=%{y}<extra></extra>",
         "legendgroup": "Rock N Roll",
         "line": {
          "color": "#00cc96",
          "dash": "solid"
         },
         "marker": {
          "symbol": "circle"
         },
         "mode": "lines+markers",
         "name": "Rock N Roll",
         "showlegend": true,
         "type": "scattergl",
         "x": [
          "2024-05-29"
         ],
         "xaxis": "x",
         "y": [
          4500000
         ],
         "yaxis": "y"
        },
        {
         "hovertemplate": "trackName=Straight a's<br>date=%{x}<br>views=%{y}<extra></extra>",
         "legendgroup": "Straight a's",
         "line": {
          "color": "#ab63fa",
          "dash": "solid"
         },
         "marker": {
          "symbol": "circle"
         },
         "mode": "lines+markers",
         "name": "Straight a's",
         "showlegend": true,
         "type": "scattergl",
         "x": [
          "2024-05-29",
          "2024-05-31"
         ],
         "xaxis": "x",
         "y": [
          5600000,
          2800000
         ],
         "yaxis": "y"
        },
        {
         "hovertemplate": "trackName=Whip My Hair<br>date=%{x}<br>views=%{y}<extra></extra>",
         "legendgroup": "Whip My Hair",
         "line": {
          "color": "#FFA15A",
          "dash": "solid"
         },
         "marker": {
          "symbol": "circle"
         },
         "mode": "lines+markers",
         "name": "Whip My Hair",
         "showlegend": true,
         "type": "scattergl",
         "x": [
          "2024-05-29",
          "2024-06-01",
          "2024-06-02"
         ],
         "xaxis": "x",
         "y": [
          3500000,
          3700000,
          3800000
         ],
         "yaxis": "y"
        },
        {
         "hovertemplate": "trackName=World News (feat. thels)<br>date=%{x}<br>views=%{y}<extra></extra>",
         "legendgroup": "World News (feat. thels)",
         "line": {
          "color": "#19d3f3",
          "dash": "solid"
         },
         "marker": {
          "symbol": "circle"
         },
         "mode": "lines+markers",
         "name": "World News (feat. thels)",
         "showlegend": true,
         "type": "scattergl",
         "x": [
          "2024-05-29",
          "2024-05-30",
          "2024-06-01",
          "2024-06-02",
          "2024-06-03",
          "2024-06-08",
          "2024-06-09",
          "2024-06-10"
         ],
         "xaxis": "x",
         "y": [
          23000000,
          11700000,
          24000000,
          12200000,
          12300000,
          25200000,
          12700000,
          12900000
         ],
         "yaxis": "y"
        },
        {
         "hovertemplate": "trackName=paises glo<br>date=%{x}<br>views=%{y}<extra></extra>",
         "legendgroup": "paises glo",
         "line": {
          "color": "#FF6692",
          "dash": "solid"
         },
         "marker": {
          "symbol": "circle"
         },
         "mode": "lines+markers",
         "name": "paises glo",
         "showlegend": true,
         "type": "scattergl",
         "x": [
          "2024-05-29",
          "2024-05-30",
          "2024-05-31"
         ],
         "xaxis": "x",
         "y": [
          10400000,
          10500000,
          21000000
         ],
         "yaxis": "y"
        },
        {
         "hovertemplate": "trackName=Another Love<br>date=%{x}<br>views=%{y}<extra></extra>",
         "legendgroup": "Another Love",
         "line": {
          "color": "#B6E880",
          "dash": "solid"
         },
         "marker": {
          "symbol": "circle"
         },
         "mode": "lines+markers",
         "name": "Another Love",
         "showlegend": true,
         "type": "scattergl",
         "x": [
          "2024-05-30"
         ],
         "xaxis": "x",
         "y": [
          5200000
         ],
         "yaxis": "y"
        },
        {
         "hovertemplate": "trackName=DeOrbit_118<br>date=%{x}<br>views=%{y}<extra></extra>",
         "legendgroup": "DeOrbit_118",
         "line": {
          "color": "#FF97FF",
          "dash": "solid"
         },
         "marker": {
          "symbol": "circle"
         },
         "mode": "lines+markers",
         "name": "DeOrbit_118",
         "showlegend": true,
         "type": "scattergl",
         "x": [
          "2024-05-30",
          "2024-05-31",
          "2024-06-01",
          "2024-06-02",
          "2024-06-03"
         ],
         "xaxis": "x",
         "y": [
          6300000,
          13800000,
          7400000,
          23400000,
          16400000
         ],
         "yaxis": "y"
        },
        {
         "hovertemplate": "trackName=Dead Can Trance<br>date=%{x}<br>views=%{y}<extra></extra>",
         "legendgroup": "Dead Can Trance",
         "line": {
          "color": "#FECB52",
          "dash": "solid"
         },
         "marker": {
          "symbol": "circle"
         },
         "mode": "lines+markers",
         "name": "Dead Can Trance",
         "showlegend": true,
         "type": "scattergl",
         "x": [
          "2024-05-30",
          "2024-05-31",
          "2024-06-01",
          "2024-06-02",
          "2024-06-03"
         ],
         "xaxis": "x",
         "y": [
          6300000,
          13800000,
          7400000,
          23400000,
          16400000
         ],
         "yaxis": "y"
        },
        {
         "hovertemplate": "trackName=Fade into You<br>date=%{x}<br>views=%{y}<extra></extra>",
         "legendgroup": "Fade into You",
         "line": {
          "color": "#636efa",
          "dash": "solid"
         },
         "marker": {
          "symbol": "circle"
         },
         "mode": "lines+markers",
         "name": "Fade into You",
         "showlegend": true,
         "type": "scattergl",
         "x": [
          "2024-05-30",
          "2024-06-03",
          "2024-06-04",
          "2024-06-10"
         ],
         "xaxis": "x",
         "y": [
          59500000,
          60600000,
          60700000,
          15200000
         ],
         "yaxis": "y"
        },
        {
         "hovertemplate": "trackName=Jojo Meo<br>date=%{x}<br>views=%{y}<extra></extra>",
         "legendgroup": "Jojo Meo",
         "line": {
          "color": "#EF553B",
          "dash": "solid"
         },
         "marker": {
          "symbol": "circle"
         },
         "mode": "lines+markers",
         "name": "Jojo Meo",
         "showlegend": true,
         "type": "scattergl",
         "x": [
          "2024-05-30",
          "2024-05-31"
         ],
         "xaxis": "x",
         "y": [
          8400000,
          8600000
         ],
         "yaxis": "y"
        },
        {
         "hovertemplate": "trackName=NEWJEANS<br>date=%{x}<br>views=%{y}<extra></extra>",
         "legendgroup": "NEWJEANS",
         "line": {
          "color": "#00cc96",
          "dash": "solid"
         },
         "marker": {
          "symbol": "circle"
         },
         "mode": "lines+markers",
         "name": "NEWJEANS",
         "showlegend": true,
         "type": "scattergl",
         "x": [
          "2024-05-30",
          "2024-05-31",
          "2024-06-01",
          "2024-06-02",
          "2024-06-03"
         ],
         "xaxis": "x",
         "y": [
          6300000,
          13800000,
          7400000,
          23400000,
          16400000
         ],
         "yaxis": "y"
        },
        {
         "hovertemplate": "trackName=So Then the Boat<br>date=%{x}<br>views=%{y}<extra></extra>",
         "legendgroup": "So Then the Boat",
         "line": {
          "color": "#ab63fa",
          "dash": "solid"
         },
         "marker": {
          "symbol": "circle"
         },
         "mode": "lines+markers",
         "name": "So Then the Boat",
         "showlegend": true,
         "type": "scattergl",
         "x": [
          "2024-05-30",
          "2024-05-31"
         ],
         "xaxis": "x",
         "y": [
          3500000,
          3700000
         ],
         "yaxis": "y"
        },
        {
         "hovertemplate": "trackName=Thuggish Ruggish Bone<br>date=%{x}<br>views=%{y}<extra></extra>",
         "legendgroup": "Thuggish Ruggish Bone",
         "line": {
          "color": "#FFA15A",
          "dash": "solid"
         },
         "marker": {
          "symbol": "circle"
         },
         "mode": "lines+markers",
         "name": "Thuggish Ruggish Bone",
         "showlegend": true,
         "type": "scattergl",
         "x": [
          "2024-05-30"
         ],
         "xaxis": "x",
         "y": [
          3600000
         ],
         "yaxis": "y"
        },
        {
         "hovertemplate": "trackName=ose<br>date=%{x}<br>views=%{y}<extra></extra>",
         "legendgroup": "ose",
         "line": {
          "color": "#19d3f3",
          "dash": "solid"
         },
         "marker": {
          "symbol": "circle"
         },
         "mode": "lines+markers",
         "name": "ose",
         "showlegend": true,
         "type": "scattergl",
         "x": [
          "2024-05-30"
         ],
         "xaxis": "x",
         "y": [
          20000000
         ],
         "yaxis": "y"
        },
        {
         "hovertemplate": "trackName=I Love It (feat. Charli XCX)<br>date=%{x}<br>views=%{y}<extra></extra>",
         "legendgroup": "I Love It (feat. Charli XCX)",
         "line": {
          "color": "#FF6692",
          "dash": "solid"
         },
         "marker": {
          "symbol": "circle"
         },
         "mode": "lines+markers",
         "name": "I Love It (feat. Charli XCX)",
         "showlegend": true,
         "type": "scattergl",
         "x": [
          "2024-05-31"
         ],
         "xaxis": "x",
         "y": [
          8300000
         ],
         "yaxis": "y"
        },
        {
         "hovertemplate": "trackName=LOOK DON'T TOUCH<br>date=%{x}<br>views=%{y}<extra></extra>",
         "legendgroup": "LOOK DON'T TOUCH",
         "line": {
          "color": "#B6E880",
          "dash": "solid"
         },
         "marker": {
          "symbol": "circle"
         },
         "mode": "lines+markers",
         "name": "LOOK DON'T TOUCH",
         "showlegend": true,
         "type": "scattergl",
         "x": [
          "2024-05-31"
         ],
         "xaxis": "x",
         "y": [
          7200000
         ],
         "yaxis": "y"
        },
        {
         "hovertemplate": "trackName=Oh Gide Damn<br>date=%{x}<br>views=%{y}<extra></extra>",
         "legendgroup": "Oh Gide Damn",
         "line": {
          "color": "#FF97FF",
          "dash": "solid"
         },
         "marker": {
          "symbol": "circle"
         },
         "mode": "lines+markers",
         "name": "Oh Gide Damn",
         "showlegend": true,
         "type": "scattergl",
         "x": [
          "2024-05-31"
         ],
         "xaxis": "x",
         "y": [
          1500000
         ],
         "yaxis": "y"
        },
        {
         "hovertemplate": "trackName=She Will<br>date=%{x}<br>views=%{y}<extra></extra>",
         "legendgroup": "She Will",
         "line": {
          "color": "#FECB52",
          "dash": "solid"
         },
         "marker": {
          "symbol": "circle"
         },
         "mode": "lines+markers",
         "name": "She Will",
         "showlegend": true,
         "type": "scattergl",
         "x": [
          "2024-05-31"
         ],
         "xaxis": "x",
         "y": [
          2800000
         ],
         "yaxis": "y"
        },
        {
         "hovertemplate": "trackName=Thinking About Her<br>date=%{x}<br>views=%{y}<extra></extra>",
         "legendgroup": "Thinking About Her",
         "line": {
          "color": "#636efa",
          "dash": "solid"
         },
         "marker": {
          "symbol": "circle"
         },
         "mode": "lines+markers",
         "name": "Thinking About Her",
         "showlegend": true,
         "type": "scattergl",
         "x": [
          "2024-05-31",
          "2024-06-02"
         ],
         "xaxis": "x",
         "y": [
          1300000,
          1300000
         ],
         "yaxis": "y"
        },
        {
         "hovertemplate": "trackName=AJMA3 W ATRA7 (feat. DONX2D)<br>date=%{x}<br>views=%{y}<extra></extra>",
         "legendgroup": "AJMA3 W ATRA7 (feat. DONX2D)",
         "line": {
          "color": "#EF553B",
          "dash": "solid"
         },
         "marker": {
          "symbol": "circle"
         },
         "mode": "lines+markers",
         "name": "AJMA3 W ATRA7 (feat. DONX2D)",
         "showlegend": true,
         "type": "scattergl",
         "x": [
          "2024-06-01"
         ],
         "xaxis": "x",
         "y": [
          8200000
         ],
         "yaxis": "y"
        },
        {
         "hovertemplate": "trackName=Beat It Up<br>date=%{x}<br>views=%{y}<extra></extra>",
         "legendgroup": "Beat It Up",
         "line": {
          "color": "#00cc96",
          "dash": "solid"
         },
         "marker": {
          "symbol": "circle"
         },
         "mode": "lines+markers",
         "name": "Beat It Up",
         "showlegend": true,
         "type": "scattergl",
         "x": [
          "2024-06-01",
          "2024-06-02"
         ],
         "xaxis": "x",
         "y": [
          2700000,
          8100000
         ],
         "yaxis": "y"
        },
        {
         "hovertemplate": "trackName=Conquer<br>date=%{x}<br>views=%{y}<extra></extra>",
         "legendgroup": "Conquer",
         "line": {
          "color": "#ab63fa",
          "dash": "solid"
         },
         "marker": {
          "symbol": "circle"
         },
         "mode": "lines+markers",
         "name": "Conquer",
         "showlegend": true,
         "type": "scattergl",
         "x": [
          "2024-06-01"
         ],
         "xaxis": "x",
         "y": [
          6500000
         ],
         "yaxis": "y"
        },
        {
         "hovertemplate": "trackName=FAMILY BUSINESS<br>date=%{x}<br>views=%{y}<extra></extra>",
         "legendgroup": "FAMILY BUSINESS",
         "line": {
          "color": "#FFA15A",
          "dash": "solid"
         },
         "marker": {
          "symbol": "circle"
         },
         "mode": "lines+markers",
         "name": "FAMILY BUSINESS",
         "showlegend": true,
         "type": "scattergl",
         "x": [
          "2024-06-01"
         ],
         "xaxis": "x",
         "y": [
          2300000
         ],
         "yaxis": "y"
        },
        {
         "hovertemplate": "trackName=Get In With Me<br>date=%{x}<br>views=%{y}<extra></extra>",
         "legendgroup": "Get In With Me",
         "line": {
          "color": "#19d3f3",
          "dash": "solid"
         },
         "marker": {
          "symbol": "circle"
         },
         "mode": "lines+markers",
         "name": "Get In With Me",
         "showlegend": true,
         "type": "scattergl",
         "x": [
          "2024-06-01",
          "2024-06-02"
         ],
         "xaxis": "x",
         "y": [
          5600000,
          5700000
         ],
         "yaxis": "y"
        },
        {
         "hovertemplate": "trackName=Roleplaying Game<br>date=%{x}<br>views=%{y}<extra></extra>",
         "legendgroup": "Roleplaying Game",
         "line": {
          "color": "#FF6692",
          "dash": "solid"
         },
         "marker": {
          "symbol": "circle"
         },
         "mode": "lines+markers",
         "name": "Roleplaying Game",
         "showlegend": true,
         "type": "scattergl",
         "x": [
          "2024-06-01"
         ],
         "xaxis": "x",
         "y": [
          6600000
         ],
         "yaxis": "y"
        },
        {
         "hovertemplate": "trackName=SequÃªncia da Orquestra<br>date=%{x}<br>views=%{y}<extra></extra>",
         "legendgroup": "SequÃªncia da Orquestra",
         "line": {
          "color": "#B6E880",
          "dash": "solid"
         },
         "marker": {
          "symbol": "circle"
         },
         "mode": "lines+markers",
         "name": "SequÃªncia da Orquestra",
         "showlegend": true,
         "type": "scattergl",
         "x": [
          "2024-06-01"
         ],
         "xaxis": "x",
         "y": [
          6800000
         ],
         "yaxis": "y"
        },
        {
         "hovertemplate": "trackName=Unfinished Business<br>date=%{x}<br>views=%{y}<extra></extra>",
         "legendgroup": "Unfinished Business",
         "line": {
          "color": "#FF97FF",
          "dash": "solid"
         },
         "marker": {
          "symbol": "circle"
         },
         "mode": "lines+markers",
         "name": "Unfinished Business",
         "showlegend": true,
         "type": "scattergl",
         "x": [
          "2024-06-01"
         ],
         "xaxis": "x",
         "y": [
          1500000
         ],
         "yaxis": "y"
        },
        {
         "hovertemplate": "trackName=Victory<br>date=%{x}<br>views=%{y}<extra></extra>",
         "legendgroup": "Victory",
         "line": {
          "color": "#FECB52",
          "dash": "solid"
         },
         "marker": {
          "symbol": "circle"
         },
         "mode": "lines+markers",
         "name": "Victory",
         "showlegend": true,
         "type": "scattergl",
         "x": [
          "2024-06-01"
         ],
         "xaxis": "x",
         "y": [
          9900000
         ],
         "yaxis": "y"
        },
        {
         "hovertemplate": "trackName=Vordt of the Boreal Valley<br>date=%{x}<br>views=%{y}<extra></extra>",
         "legendgroup": "Vordt of the Boreal Valley",
         "line": {
          "color": "#636efa",
          "dash": "solid"
         },
         "marker": {
          "symbol": "circle"
         },
         "mode": "lines+markers",
         "name": "Vordt of the Boreal Valley",
         "showlegend": true,
         "type": "scattergl",
         "x": [
          "2024-06-01"
         ],
         "xaxis": "x",
         "y": [
          12700000
         ],
         "yaxis": "y"
        },
        {
         "hovertemplate": "trackName=Welcome and Goodbye<br>date=%{x}<br>views=%{y}<extra></extra>",
         "legendgroup": "Welcome and Goodbye",
         "line": {
          "color": "#EF553B",
          "dash": "solid"
         },
         "marker": {
          "symbol": "circle"
         },
         "mode": "lines+markers",
         "name": "Welcome and Goodbye",
         "showlegend": true,
         "type": "scattergl",
         "x": [
          "2024-06-01"
         ],
         "xaxis": "x",
         "y": [
          8600000
         ],
         "yaxis": "y"
        },
        {
         "hovertemplate": "trackName=Brokendate<br>date=%{x}<br>views=%{y}<extra></extra>",
         "legendgroup": "Brokendate",
         "line": {
          "color": "#00cc96",
          "dash": "solid"
         },
         "marker": {
          "symbol": "circle"
         },
         "mode": "lines+markers",
         "name": "Brokendate",
         "showlegend": true,
         "type": "scattergl",
         "x": [
          "2024-06-02",
          "2024-06-03"
         ],
         "xaxis": "x",
         "y": [
          4100000,
          4200000
         ],
         "yaxis": "y"
        },
        {
         "hovertemplate": "trackName=Come and Get Your Love<br>date=%{x}<br>views=%{y}<extra></extra>",
         "legendgroup": "Come and Get Your Love",
         "line": {
          "color": "#ab63fa",
          "dash": "solid"
         },
         "marker": {
          "symbol": "circle"
         },
         "mode": "lines+markers",
         "name": "Come and Get Your Love",
         "showlegend": true,
         "type": "scattergl",
         "x": [
          "2024-06-02"
         ],
         "xaxis": "x",
         "y": [
          3900000
         ],
         "yaxis": "y"
        },
        {
         "hovertemplate": "trackName=Cry<br>date=%{x}<br>views=%{y}<extra></extra>",
         "legendgroup": "Cry",
         "line": {
          "color": "#FFA15A",
          "dash": "solid"
         },
         "marker": {
          "symbol": "circle"
         },
         "mode": "lines+markers",
         "name": "Cry",
         "showlegend": true,
         "type": "scattergl",
         "x": [
          "2024-06-02",
          "2024-06-03",
          "2024-06-04"
         ],
         "xaxis": "x",
         "y": [
          17900000,
          36200000,
          18100000
         ],
         "yaxis": "y"
        },
        {
         "hovertemplate": "trackName=GraduradÃ¸<br>date=%{x}<br>views=%{y}<extra></extra>",
         "legendgroup": "GraduradÃ¸",
         "line": {
          "color": "#19d3f3",
          "dash": "solid"
         },
         "marker": {
          "symbol": "circle"
         },
         "mode": "lines+markers",
         "name": "GraduradÃ¸",
         "showlegend": true,
         "type": "scattergl",
         "x": [
          "2024-06-02",
          "2024-06-03"
         ],
         "xaxis": "x",
         "y": [
          4100000,
          8200000
         ],
         "yaxis": "y"
        },
        {
         "hovertemplate": "trackName=I Bet on Losing Dogs<br>date=%{x}<br>views=%{y}<extra></extra>",
         "legendgroup": "I Bet on Losing Dogs",
         "line": {
          "color": "#FF6692",
          "dash": "solid"
         },
         "marker": {
          "symbol": "circle"
         },
         "mode": "lines+markers",
         "name": "I Bet on Losing Dogs",
         "showlegend": true,
         "type": "scattergl",
         "x": [
          "2024-06-02"
         ],
         "xaxis": "x",
         "y": [
          24900000
         ],
         "yaxis": "y"
        },
        {
         "hovertemplate": "trackName=Me & U<br>date=%{x}<br>views=%{y}<extra></extra>",
         "legendgroup": "Me & U",
         "line": {
          "color": "#B6E880",
          "dash": "solid"
         },
         "marker": {
          "symbol": "circle"
         },
         "mode": "lines+markers",
         "name": "Me & U",
         "showlegend": true,
         "type": "scattergl",
         "x": [
          "2024-06-02",
          "2024-06-03",
          "2024-06-04",
          "2024-06-05"
         ],
         "xaxis": "x",
         "y": [
          53400000,
          17800000,
          17900000,
          17900000
         ],
         "yaxis": "y"
        },
        {
         "hovertemplate": "trackName=PIQUEZIN DOS CRIA<br>date=%{x}<br>views=%{y}<extra></extra>",
         "legendgroup": "PIQUEZIN DOS CRIA",
         "line": {
          "color": "#FF97FF",
          "dash": "solid"
         },
         "marker": {
          "symbol": "circle"
         },
         "mode": "lines+markers",
         "name": "PIQUEZIN DOS CRIA",
         "showlegend": true,
         "type": "scattergl",
         "x": [
          "2024-06-02",
          "2024-06-03"
         ],
         "xaxis": "x",
         "y": [
          11600000,
          23400000
         ],
         "yaxis": "y"
        },
        {
         "hovertemplate": "trackName=This Is What You Came For<br>date=%{x}<br>views=%{y}<extra></extra>",
         "legendgroup": "This Is What You Came For",
         "line": {
          "color": "#FECB52",
          "dash": "solid"
         },
         "marker": {
          "symbol": "circle"
         },
         "mode": "lines+markers",
         "name": "This Is What You Came For",
         "showlegend": true,
         "type": "scattergl",
         "x": [
          "2024-06-02"
         ],
         "xaxis": "x",
         "y": [
          8200000
         ],
         "yaxis": "y"
        },
        {
         "hovertemplate": "trackName=Trap Queen (Screwed and Chopped)<br>date=%{x}<br>views=%{y}<extra></extra>",
         "legendgroup": "Trap Queen (Screwed and Chopped)",
         "line": {
          "color": "#636efa",
          "dash": "solid"
         },
         "marker": {
          "symbol": "circle"
         },
         "mode": "lines+markers",
         "name": "Trap Queen (Screwed and Chopped)",
         "showlegend": true,
         "type": "scattergl",
         "x": [
          "2024-06-02"
         ],
         "xaxis": "x",
         "y": [
          3100000
         ],
         "yaxis": "y"
        },
        {
         "hovertemplate": "trackName=Dreaming Of You<br>date=%{x}<br>views=%{y}<extra></extra>",
         "legendgroup": "Dreaming Of You",
         "line": {
          "color": "#EF553B",
          "dash": "solid"
         },
         "marker": {
          "symbol": "circle"
         },
         "mode": "lines+markers",
         "name": "Dreaming Of You",
         "showlegend": true,
         "type": "scattergl",
         "x": [
          "2024-06-03"
         ],
         "xaxis": "x",
         "y": [
          3300000
         ],
         "yaxis": "y"
        },
        {
         "hovertemplate": "trackName=Espresso<br>date=%{x}<br>views=%{y}<extra></extra>",
         "legendgroup": "Espresso",
         "line": {
          "color": "#00cc96",
          "dash": "solid"
         },
         "marker": {
          "symbol": "circle"
         },
         "mode": "lines+markers",
         "name": "Espresso",
         "showlegend": true,
         "type": "scattergl",
         "x": [
          "2024-06-03"
         ],
         "xaxis": "x",
         "y": [
          638800
         ],
         "yaxis": "y"
        },
        {
         "hovertemplate": "trackName=Feather<br>date=%{x}<br>views=%{y}<extra></extra>",
         "legendgroup": "Feather",
         "line": {
          "color": "#ab63fa",
          "dash": "solid"
         },
         "marker": {
          "symbol": "circle"
         },
         "mode": "lines+markers",
         "name": "Feather",
         "showlegend": true,
         "type": "scattergl",
         "x": [
          "2024-06-03"
         ],
         "xaxis": "x",
         "y": [
          427200
         ],
         "yaxis": "y"
        },
        {
         "hovertemplate": "trackName=Fortnight (feat. Post Malone)<br>date=%{x}<br>views=%{y}<extra></extra>",
         "legendgroup": "Fortnight (feat. Post Malone)",
         "line": {
          "color": "#FFA15A",
          "dash": "solid"
         },
         "marker": {
          "symbol": "circle"
         },
         "mode": "lines+markers",
         "name": "Fortnight (feat. Post Malone)",
         "showlegend": true,
         "type": "scattergl",
         "x": [
          "2024-06-03"
         ],
         "xaxis": "x",
         "y": [
          2300000
         ],
         "yaxis": "y"
        },
        {
         "hovertemplate": "trackName=Nonsense<br>date=%{x}<br>views=%{y}<extra></extra>",
         "legendgroup": "Nonsense",
         "line": {
          "color": "#19d3f3",
          "dash": "solid"
         },
         "marker": {
          "symbol": "circle"
         },
         "mode": "lines+markers",
         "name": "Nonsense",
         "showlegend": true,
         "type": "scattergl",
         "x": [
          "2024-06-03"
         ],
         "xaxis": "x",
         "y": [
          5052100
         ],
         "yaxis": "y"
        },
        {
         "hovertemplate": "trackName=Too Sweet<br>date=%{x}<br>views=%{y}<extra></extra>",
         "legendgroup": "Too Sweet",
         "line": {
          "color": "#FF6692",
          "dash": "solid"
         },
         "marker": {
          "symbol": "circle"
         },
         "mode": "lines+markers",
         "name": "Too Sweet",
         "showlegend": true,
         "type": "scattergl",
         "x": [
          "2024-06-03"
         ],
         "xaxis": "x",
         "y": [
          10200000
         ],
         "yaxis": "y"
        },
        {
         "hovertemplate": "trackName=What Is Love (7\" Mix)<br>date=%{x}<br>views=%{y}<extra></extra>",
         "legendgroup": "What Is Love (7\" Mix)",
         "line": {
          "color": "#B6E880",
          "dash": "solid"
         },
         "marker": {
          "symbol": "circle"
         },
         "mode": "lines+markers",
         "name": "What Is Love (7\" Mix)",
         "showlegend": true,
         "type": "scattergl",
         "x": [
          "2024-06-03"
         ],
         "xaxis": "x",
         "y": [
          8400000
         ],
         "yaxis": "y"
        },
        {
         "hovertemplate": "trackName=Come Back Eventually<br>date=%{x}<br>views=%{y}<extra></extra>",
         "legendgroup": "Come Back Eventually",
         "line": {
          "color": "#FF97FF",
          "dash": "solid"
         },
         "marker": {
          "symbol": "circle"
         },
         "mode": "lines+markers",
         "name": "Come Back Eventually",
         "showlegend": true,
         "type": "scattergl",
         "x": [
          "2024-06-04"
         ],
         "xaxis": "x",
         "y": [
          5500000
         ],
         "yaxis": "y"
        },
        {
         "hovertemplate": "trackName=Come Through<br>date=%{x}<br>views=%{y}<extra></extra>",
         "legendgroup": "Come Through",
         "line": {
          "color": "#FECB52",
          "dash": "solid"
         },
         "marker": {
          "symbol": "circle"
         },
         "mode": "lines+markers",
         "name": "Come Through",
         "showlegend": true,
         "type": "scattergl",
         "x": [
          "2024-06-04"
         ],
         "xaxis": "x",
         "y": [
          9700000
         ],
         "yaxis": "y"
        },
        {
         "hovertemplate": "trackName=Death Is No More<br>date=%{x}<br>views=%{y}<extra></extra>",
         "legendgroup": "Death Is No More",
         "line": {
          "color": "#636efa",
          "dash": "solid"
         },
         "marker": {
          "symbol": "circle"
         },
         "mode": "lines+markers",
         "name": "Death Is No More",
         "showlegend": true,
         "type": "scattergl",
         "x": [
          "2024-06-04"
         ],
         "xaxis": "x",
         "y": [
          2100000
         ],
         "yaxis": "y"
        },
        {
         "hovertemplate": "trackName=El Patito Juan<br>date=%{x}<br>views=%{y}<extra></extra>",
         "legendgroup": "El Patito Juan",
         "line": {
          "color": "#EF553B",
          "dash": "solid"
         },
         "marker": {
          "symbol": "circle"
         },
         "mode": "lines+markers",
         "name": "El Patito Juan",
         "showlegend": true,
         "type": "scattergl",
         "x": [
          "2024-06-04"
         ],
         "xaxis": "x",
         "y": [
          1300000
         ],
         "yaxis": "y"
        },
        {
         "hovertemplate": "trackName=Feel Like God<br>date=%{x}<br>views=%{y}<extra></extra>",
         "legendgroup": "Feel Like God",
         "line": {
          "color": "#00cc96",
          "dash": "solid"
         },
         "marker": {
          "symbol": "circle"
         },
         "mode": "lines+markers",
         "name": "Feel Like God",
         "showlegend": true,
         "type": "scattergl",
         "x": [
          "2024-06-04",
          "2024-06-05"
         ],
         "xaxis": "x",
         "y": [
          2100000,
          2100000
         ],
         "yaxis": "y"
        },
        {
         "hovertemplate": "trackName=Gilded Lily<br>date=%{x}<br>views=%{y}<extra></extra>",
         "legendgroup": "Gilded Lily",
         "line": {
          "color": "#ab63fa",
          "dash": "solid"
         },
         "marker": {
          "symbol": "circle"
         },
         "mode": "lines+markers",
         "name": "Gilded Lily",
         "showlegend": true,
         "type": "scattergl",
         "x": [
          "2024-06-04"
         ],
         "xaxis": "x",
         "y": [
          9800000
         ],
         "yaxis": "y"
        },
        {
         "hovertemplate": "trackName=Madoromi<br>date=%{x}<br>views=%{y}<extra></extra>",
         "legendgroup": "Madoromi",
         "line": {
          "color": "#FFA15A",
          "dash": "solid"
         },
         "marker": {
          "symbol": "circle"
         },
         "mode": "lines+markers",
         "name": "Madoromi",
         "showlegend": true,
         "type": "scattergl",
         "x": [
          "2024-06-04",
          "2024-06-08",
          "2024-06-09",
          "2024-06-10",
          "2024-06-11"
         ],
         "xaxis": "x",
         "y": [
          1100000,
          14000000,
          45300000,
          28200000,
          3300000
         ],
         "yaxis": "y"
        },
        {
         "hovertemplate": "trackName=Margaret (feat. Bleachers)<br>date=%{x}<br>views=%{y}<extra></extra>",
         "legendgroup": "Margaret (feat. Bleachers)",
         "line": {
          "color": "#19d3f3",
          "dash": "solid"
         },
         "marker": {
          "symbol": "circle"
         },
         "mode": "lines+markers",
         "name": "Margaret (feat. Bleachers)",
         "showlegend": true,
         "type": "scattergl",
         "x": [
          "2024-06-04"
         ],
         "xaxis": "x",
         "y": [
          7200000
         ],
         "yaxis": "y"
        },
        {
         "hovertemplate": "trackName=Mr Pot Scraper<br>date=%{x}<br>views=%{y}<extra></extra>",
         "legendgroup": "Mr Pot Scraper",
         "line": {
          "color": "#FF6692",
          "dash": "solid"
         },
         "marker": {
          "symbol": "circle"
         },
         "mode": "lines+markers",
         "name": "Mr Pot Scraper",
         "showlegend": true,
         "type": "scattergl",
         "x": [
          "2024-06-04"
         ],
         "xaxis": "x",
         "y": [
          5200000
         ],
         "yaxis": "y"
        },
        {
         "hovertemplate": "trackName=No More Panic<br>date=%{x}<br>views=%{y}<extra></extra>",
         "legendgroup": "No More Panic",
         "line": {
          "color": "#B6E880",
          "dash": "solid"
         },
         "marker": {
          "symbol": "circle"
         },
         "mode": "lines+markers",
         "name": "No More Panic",
         "showlegend": true,
         "type": "scattergl",
         "x": [
          "2024-06-04",
          "2024-06-07"
         ],
         "xaxis": "x",
         "y": [
          10700000,
          10800000
         ],
         "yaxis": "y"
        },
        {
         "hovertemplate": "trackName=Not Like Us<br>date=%{x}<br>views=%{y}<extra></extra>",
         "legendgroup": "Not Like Us",
         "line": {
          "color": "#FF97FF",
          "dash": "solid"
         },
         "marker": {
          "symbol": "circle"
         },
         "mode": "lines+markers",
         "name": "Not Like Us",
         "showlegend": true,
         "type": "scattergl",
         "x": [
          "2024-06-04",
          "2024-06-10"
         ],
         "xaxis": "x",
         "y": [
          35400000,
          4900000
         ],
         "yaxis": "y"
        },
        {
         "hovertemplate": "trackName=PRIDE.<br>date=%{x}<br>views=%{y}<extra></extra>",
         "legendgroup": "PRIDE.",
         "line": {
          "color": "#FECB52",
          "dash": "solid"
         },
         "marker": {
          "symbol": "circle"
         },
         "mode": "lines+markers",
         "name": "PRIDE.",
         "showlegend": true,
         "type": "scattergl",
         "x": [
          "2024-06-04",
          "2024-06-05",
          "2024-06-06"
         ],
         "xaxis": "x",
         "y": [
          1300000,
          0,
          2800000
         ],
         "yaxis": "y"
        },
        {
         "hovertemplate": "trackName=Prom Queen<br>date=%{x}<br>views=%{y}<extra></extra>",
         "legendgroup": "Prom Queen",
         "line": {
          "color": "#636efa",
          "dash": "solid"
         },
         "marker": {
          "symbol": "circle"
         },
         "mode": "lines+markers",
         "name": "Prom Queen",
         "showlegend": true,
         "type": "scattergl",
         "x": [
          "2024-06-04"
         ],
         "xaxis": "x",
         "y": [
          2900000
         ],
         "yaxis": "y"
        },
        {
         "hovertemplate": "trackName=SOS<br>date=%{x}<br>views=%{y}<extra></extra>",
         "legendgroup": "SOS",
         "line": {
          "color": "#EF553B",
          "dash": "solid"
         },
         "marker": {
          "symbol": "circle"
         },
         "mode": "lines+markers",
         "name": "SOS",
         "showlegend": true,
         "type": "scattergl",
         "x": [
          "2024-06-04"
         ],
         "xaxis": "x",
         "y": [
          4400000
         ],
         "yaxis": "y"
        },
        {
         "hovertemplate": "trackName=Someone You Loved<br>date=%{x}<br>views=%{y}<extra></extra>",
         "legendgroup": "Someone You Loved",
         "line": {
          "color": "#00cc96",
          "dash": "solid"
         },
         "marker": {
          "symbol": "circle"
         },
         "mode": "lines+markers",
         "name": "Someone You Loved",
         "showlegend": true,
         "type": "scattergl",
         "x": [
          "2024-06-04"
         ],
         "xaxis": "x",
         "y": [
          5000000
         ],
         "yaxis": "y"
        },
        {
         "hovertemplate": "trackName=watch<br>date=%{x}<br>views=%{y}<extra></extra>",
         "legendgroup": "watch",
         "line": {
          "color": "#ab63fa",
          "dash": "solid"
         },
         "marker": {
          "symbol": "circle"
         },
         "mode": "lines+markers",
         "name": "watch",
         "showlegend": true,
         "type": "scattergl",
         "x": [
          "2024-06-04"
         ],
         "xaxis": "x",
         "y": [
          9300000
         ],
         "yaxis": "y"
        },
        {
         "hovertemplate": "trackName=Back On 74<br>date=%{x}<br>views=%{y}<extra></extra>",
         "legendgroup": "Back On 74",
         "line": {
          "color": "#FFA15A",
          "dash": "solid"
         },
         "marker": {
          "symbol": "circle"
         },
         "mode": "lines+markers",
         "name": "Back On 74",
         "showlegend": true,
         "type": "scattergl",
         "x": [
          "2024-06-05"
         ],
         "xaxis": "x",
         "y": [
          1200000
         ],
         "yaxis": "y"
        },
        {
         "hovertemplate": "trackName=Become the Warm Jets<br>date=%{x}<br>views=%{y}<extra></extra>",
         "legendgroup": "Become the Warm Jets",
         "line": {
          "color": "#19d3f3",
          "dash": "solid"
         },
         "marker": {
          "symbol": "circle"
         },
         "mode": "lines+markers",
         "name": "Become the Warm Jets",
         "showlegend": true,
         "type": "scattergl",
         "x": [
          "2024-06-05"
         ],
         "xaxis": "x",
         "y": [
          6800000
         ],
         "yaxis": "y"
        },
        {
         "hovertemplate": "trackName=Gata Only<br>date=%{x}<br>views=%{y}<extra></extra>",
         "legendgroup": "Gata Only",
         "line": {
          "color": "#FF6692",
          "dash": "solid"
         },
         "marker": {
          "symbol": "circle"
         },
         "mode": "lines+markers",
         "name": "Gata Only",
         "showlegend": true,
         "type": "scattergl",
         "x": [
          "2024-06-05",
          "2024-06-06",
          "2024-06-07",
          "2024-06-08"
         ],
         "xaxis": "x",
         "y": [
          38600000,
          38800000,
          77800000,
          39000000
         ],
         "yaxis": "y"
        },
        {
         "hovertemplate": "trackName=High Fashion (feat. Mustard)<br>date=%{x}<br>views=%{y}<extra></extra>",
         "legendgroup": "High Fashion (feat. Mustard)",
         "line": {
          "color": "#B6E880",
          "dash": "solid"
         },
         "marker": {
          "symbol": "circle"
         },
         "mode": "lines+markers",
         "name": "High Fashion (feat. Mustard)",
         "showlegend": true,
         "type": "scattergl",
         "x": [
          "2024-06-05"
         ],
         "xaxis": "x",
         "y": [
          1500000
         ],
         "yaxis": "y"
        },
        {
         "hovertemplate": "trackName=I Don't Mind<br>date=%{x}<br>views=%{y}<extra></extra>",
         "legendgroup": "I Don't Mind",
         "line": {
          "color": "#FF97FF",
          "dash": "solid"
         },
         "marker": {
          "symbol": "circle"
         },
         "mode": "lines+markers",
         "name": "I Don't Mind",
         "showlegend": true,
         "type": "scattergl",
         "x": [
          "2024-06-05"
         ],
         "xaxis": "x",
         "y": [
          680400
         ],
         "yaxis": "y"
        },
        {
         "hovertemplate": "trackName=Let Me Down Slowly (æé³ç­æ­)<br>date=%{x}<br>views=%{y}<extra></extra>",
         "legendgroup": "Let Me Down Slowly (æé³ç­æ­)",
         "line": {
          "color": "#FECB52",
          "dash": "solid"
         },
         "marker": {
          "symbol": "circle"
         },
         "mode": "lines+markers",
         "name": "Let Me Down Slowly (æé³ç­æ­)",
         "showlegend": true,
         "type": "scattergl",
         "x": [
          "2024-06-05"
         ],
         "xaxis": "x",
         "y": [
          2500000
         ],
         "yaxis": "y"
        },
        {
         "hovertemplate": "trackName=Los pollos hermanos<br>date=%{x}<br>views=%{y}<extra></extra>",
         "legendgroup": "Los pollos hermanos",
         "line": {
          "color": "#636efa",
          "dash": "solid"
         },
         "marker": {
          "symbol": "circle"
         },
         "mode": "lines+markers",
         "name": "Los pollos hermanos",
         "showlegend": true,
         "type": "scattergl",
         "x": [
          "2024-06-05"
         ],
         "xaxis": "x",
         "y": [
          1800000
         ],
         "yaxis": "y"
        },
        {
         "hovertemplate": "trackName=Play Party<br>date=%{x}<br>views=%{y}<extra></extra>",
         "legendgroup": "Play Party",
         "line": {
          "color": "#EF553B",
          "dash": "solid"
         },
         "marker": {
          "symbol": "circle"
         },
         "mode": "lines+markers",
         "name": "Play Party",
         "showlegend": true,
         "type": "scattergl",
         "x": [
          "2024-06-05"
         ],
         "xaxis": "x",
         "y": [
          2300000
         ],
         "yaxis": "y"
        },
        {
         "hovertemplate": "trackName=Poker Face<br>date=%{x}<br>views=%{y}<extra></extra>",
         "legendgroup": "Poker Face",
         "line": {
          "color": "#00cc96",
          "dash": "solid"
         },
         "marker": {
          "symbol": "circle"
         },
         "mode": "lines+markers",
         "name": "Poker Face",
         "showlegend": true,
         "type": "scattergl",
         "x": [
          "2024-06-05"
         ],
         "xaxis": "x",
         "y": [
          24600000
         ],
         "yaxis": "y"
        },
        {
         "hovertemplate": "trackName=Ridin' Dirty<br>date=%{x}<br>views=%{y}<extra></extra>",
         "legendgroup": "Ridin' Dirty",
         "line": {
          "color": "#ab63fa",
          "dash": "solid"
         },
         "marker": {
          "symbol": "circle"
         },
         "mode": "lines+markers",
         "name": "Ridin' Dirty",
         "showlegend": true,
         "type": "scattergl",
         "x": [
          "2024-06-05"
         ],
         "xaxis": "x",
         "y": [
          1300000
         ],
         "yaxis": "y"
        },
        {
         "hovertemplate": "trackName=Until I Found You (Em Beihold Version)<br>date=%{x}<br>views=%{y}<extra></extra>",
         "legendgroup": "Until I Found You (Em Beihold Version)",
         "line": {
          "color": "#FFA15A",
          "dash": "solid"
         },
         "marker": {
          "symbol": "circle"
         },
         "mode": "lines+markers",
         "name": "Until I Found You (Em Beihold Version)",
         "showlegend": true,
         "type": "scattergl",
         "x": [
          "2024-06-05"
         ],
         "xaxis": "x",
         "y": [
          14600000
         ],
         "yaxis": "y"
        },
        {
         "hovertemplate": "trackName=Wind Up Missinâ You<br>date=%{x}<br>views=%{y}<extra></extra>",
         "legendgroup": "Wind Up Missinâ You",
         "line": {
          "color": "#19d3f3",
          "dash": "solid"
         },
         "marker": {
          "symbol": "circle"
         },
         "mode": "lines+markers",
         "name": "Wind Up Missinâ You",
         "showlegend": true,
         "type": "scattergl",
         "x": [
          "2024-06-05"
         ],
         "xaxis": "x",
         "y": [
          13700000
         ],
         "yaxis": "y"
        },
        {
         "hovertemplate": "trackName=â»H+3+Ð¯Ðâ»7luCJIo0T6...<br>date=%{x}<br>views=%{y}<extra></extra>",
         "legendgroup": "â»H+3+Ð¯Ðâ»7luCJIo0T6...",
         "line": {
          "color": "#FF6692",
          "dash": "solid"
         },
         "marker": {
          "symbol": "circle"
         },
         "mode": "lines+markers",
         "name": "â»H+3+Ð¯Ðâ»7luCJIo0T6...",
         "showlegend": true,
         "type": "scattergl",
         "x": [
          "2024-06-05"
         ],
         "xaxis": "x",
         "y": [
          1100000
         ],
         "yaxis": "y"
        },
        {
         "hovertemplate": "trackName=9am In Calabasas<br>date=%{x}<br>views=%{y}<extra></extra>",
         "legendgroup": "9am In Calabasas",
         "line": {
          "color": "#B6E880",
          "dash": "solid"
         },
         "marker": {
          "symbol": "circle"
         },
         "mode": "lines+markers",
         "name": "9am In Calabasas",
         "showlegend": true,
         "type": "scattergl",
         "x": [
          "2024-06-06"
         ],
         "xaxis": "x",
         "y": [
          3300000
         ],
         "yaxis": "y"
        },
        {
         "hovertemplate": "trackName=A Kid Named Charlie<br>date=%{x}<br>views=%{y}<extra></extra>",
         "legendgroup": "A Kid Named Charlie",
         "line": {
          "color": "#FF97FF",
          "dash": "solid"
         },
         "marker": {
          "symbol": "circle"
         },
         "mode": "lines+markers",
         "name": "A Kid Named Charlie",
         "showlegend": true,
         "type": "scattergl",
         "x": [
          "2024-06-06"
         ],
         "xaxis": "x",
         "y": [
          992600
         ],
         "yaxis": "y"
        },
        {
         "hovertemplate": "trackName=Barbie World (with Aqua) [From Barbie The Album]<br>date=%{x}<br>views=%{y}<extra></extra>",
         "legendgroup": "Barbie World (with Aqua) [From Barbie The Album]",
         "line": {
          "color": "#FECB52",
          "dash": "solid"
         },
         "marker": {
          "symbol": "circle"
         },
         "mode": "lines+markers",
         "name": "Barbie World (with Aqua) [From Barbie The Album]",
         "showlegend": true,
         "type": "scattergl",
         "x": [
          "2024-06-06",
          "2024-06-07"
         ],
         "xaxis": "x",
         "y": [
          17700000,
          35600000
         ],
         "yaxis": "y"
        },
        {
         "hovertemplate": "trackName=Cupid - Twin Ver.<br>date=%{x}<br>views=%{y}<extra></extra>",
         "legendgroup": "Cupid - Twin Ver.",
         "line": {
          "color": "#636efa",
          "dash": "solid"
         },
         "marker": {
          "symbol": "circle"
         },
         "mode": "lines+markers",
         "name": "Cupid - Twin Ver.",
         "showlegend": true,
         "type": "scattergl",
         "x": [
          "2024-06-06",
          "2024-06-10"
         ],
         "xaxis": "x",
         "y": [
          12800000,
          13200000
         ],
         "yaxis": "y"
        },
        {
         "hovertemplate": "trackName=Dear Future Husband<br>date=%{x}<br>views=%{y}<extra></extra>",
         "legendgroup": "Dear Future Husband",
         "line": {
          "color": "#EF553B",
          "dash": "solid"
         },
         "marker": {
          "symbol": "circle"
         },
         "mode": "lines+markers",
         "name": "Dear Future Husband",
         "showlegend": true,
         "type": "scattergl",
         "x": [
          "2024-06-06"
         ],
         "xaxis": "x",
         "y": [
          16100000
         ],
         "yaxis": "y"
        },
        {
         "hovertemplate": "trackName=Golden Hour<br>date=%{x}<br>views=%{y}<extra></extra>",
         "legendgroup": "Golden Hour",
         "line": {
          "color": "#00cc96",
          "dash": "solid"
         },
         "marker": {
          "symbol": "circle"
         },
         "mode": "lines+markers",
         "name": "Golden Hour",
         "showlegend": true,
         "type": "scattergl",
         "x": [
          "2024-06-06",
          "2024-06-11"
         ],
         "xaxis": "x",
         "y": [
          41000000,
          88800000
         ],
         "yaxis": "y"
        },
        {
         "hovertemplate": "trackName=Horrified<br>date=%{x}<br>views=%{y}<extra></extra>",
         "legendgroup": "Horrified",
         "line": {
          "color": "#ab63fa",
          "dash": "solid"
         },
         "marker": {
          "symbol": "circle"
         },
         "mode": "lines+markers",
         "name": "Horrified",
         "showlegend": true,
         "type": "scattergl",
         "x": [
          "2024-06-06",
          "2024-06-07"
         ],
         "xaxis": "x",
         "y": [
          8200000,
          16600000
         ],
         "yaxis": "y"
        },
        {
         "hovertemplate": "trackName=How to Save a Life<br>date=%{x}<br>views=%{y}<extra></extra>",
         "legendgroup": "How to Save a Life",
         "line": {
          "color": "#FFA15A",
          "dash": "solid"
         },
         "marker": {
          "symbol": "circle"
         },
         "mode": "lines+markers",
         "name": "How to Save a Life",
         "showlegend": true,
         "type": "scattergl",
         "x": [
          "2024-06-06",
          "2024-06-08"
         ],
         "xaxis": "x",
         "y": [
          161300000,
          161600000
         ],
         "yaxis": "y"
        },
        {
         "hovertemplate": "trackName=Jump In, The Atmosphere Is Fine<br>date=%{x}<br>views=%{y}<extra></extra>",
         "legendgroup": "Jump In, The Atmosphere Is Fine",
         "line": {
          "color": "#19d3f3",
          "dash": "solid"
         },
         "marker": {
          "symbol": "circle"
         },
         "mode": "lines+markers",
         "name": "Jump In, The Atmosphere Is Fine",
         "showlegend": true,
         "type": "scattergl",
         "x": [
          "2024-06-06",
          "2024-06-08",
          "2024-06-10"
         ],
         "xaxis": "x",
         "y": [
          3000000,
          3100000,
          3300000
         ],
         "yaxis": "y"
        },
        {
         "hovertemplate": "trackName=Kaboom<br>date=%{x}<br>views=%{y}<extra></extra>",
         "legendgroup": "Kaboom",
         "line": {
          "color": "#FF6692",
          "dash": "solid"
         },
         "marker": {
          "symbol": "circle"
         },
         "mode": "lines+markers",
         "name": "Kaboom",
         "showlegend": true,
         "type": "scattergl",
         "x": [
          "2024-06-06"
         ],
         "xaxis": "x",
         "y": [
          23100000
         ],
         "yaxis": "y"
        },
        {
         "hovertemplate": "trackName=Me Gustas Tu<br>date=%{x}<br>views=%{y}<extra></extra>",
         "legendgroup": "Me Gustas Tu",
         "line": {
          "color": "#B6E880",
          "dash": "solid"
         },
         "marker": {
          "symbol": "circle"
         },
         "mode": "lines+markers",
         "name": "Me Gustas Tu",
         "showlegend": true,
         "type": "scattergl",
         "x": [
          "2024-06-06"
         ],
         "xaxis": "x",
         "y": [
          13200000
         ],
         "yaxis": "y"
        },
        {
         "hovertemplate": "trackName=Pacify Her<br>date=%{x}<br>views=%{y}<extra></extra>",
         "legendgroup": "Pacify Her",
         "line": {
          "color": "#FF97FF",
          "dash": "solid"
         },
         "marker": {
          "symbol": "circle"
         },
         "mode": "lines+markers",
         "name": "Pacify Her",
         "showlegend": true,
         "type": "scattergl",
         "x": [
          "2024-06-06"
         ],
         "xaxis": "x",
         "y": [
          8700000
         ],
         "yaxis": "y"
        },
        {
         "hovertemplate": "trackName=Poison Tree<br>date=%{x}<br>views=%{y}<extra></extra>",
         "legendgroup": "Poison Tree",
         "line": {
          "color": "#FECB52",
          "dash": "solid"
         },
         "marker": {
          "symbol": "circle"
         },
         "mode": "lines+markers",
         "name": "Poison Tree",
         "showlegend": true,
         "type": "scattergl",
         "x": [
          "2024-06-06",
          "2024-06-08",
          "2024-06-09"
         ],
         "xaxis": "x",
         "y": [
          3300000,
          3400000,
          3400000
         ],
         "yaxis": "y"
        },
        {
         "hovertemplate": "trackName=Ridin' the Sunflower Bus<br>date=%{x}<br>views=%{y}<extra></extra>",
         "legendgroup": "Ridin' the Sunflower Bus",
         "line": {
          "color": "#636efa",
          "dash": "solid"
         },
         "marker": {
          "symbol": "circle"
         },
         "mode": "lines+markers",
         "name": "Ridin' the Sunflower Bus",
         "showlegend": true,
         "type": "scattergl",
         "x": [
          "2024-06-06",
          "2024-06-07"
         ],
         "xaxis": "x",
         "y": [
          4800000,
          9600000
         ],
         "yaxis": "y"
        },
        {
         "hovertemplate": "trackName=Snowfall<br>date=%{x}<br>views=%{y}<extra></extra>",
         "legendgroup": "Snowfall",
         "line": {
          "color": "#EF553B",
          "dash": "solid"
         },
         "marker": {
          "symbol": "circle"
         },
         "mode": "lines+markers",
         "name": "Snowfall",
         "showlegend": true,
         "type": "scattergl",
         "x": [
          "2024-06-06",
          "2024-06-09"
         ],
         "xaxis": "x",
         "y": [
          4500000,
          4700000
         ],
         "yaxis": "y"
        },
        {
         "hovertemplate": "trackName=That's Just My Baby Dog<br>date=%{x}<br>views=%{y}<extra></extra>",
         "legendgroup": "That's Just My Baby Dog",
         "line": {
          "color": "#00cc96",
          "dash": "solid"
         },
         "marker": {
          "symbol": "circle"
         },
         "mode": "lines+markers",
         "name": "That's Just My Baby Dog",
         "showlegend": true,
         "type": "scattergl",
         "x": [
          "2024-06-06",
          "2024-06-10"
         ],
         "xaxis": "x",
         "y": [
          22200000,
          15000000
         ],
         "yaxis": "y"
        },
        {
         "hovertemplate": "trackName=Wet Hands<br>date=%{x}<br>views=%{y}<extra></extra>",
         "legendgroup": "Wet Hands",
         "line": {
          "color": "#ab63fa",
          "dash": "solid"
         },
         "marker": {
          "symbol": "circle"
         },
         "mode": "lines+markers",
         "name": "Wet Hands",
         "showlegend": true,
         "type": "scattergl",
         "x": [
          "2024-06-06",
          "2024-06-07",
          "2024-06-09",
          "2024-06-10"
         ],
         "xaxis": "x",
         "y": [
          37100000,
          74200000,
          37100000,
          37100000
         ],
         "yaxis": "y"
        },
        {
         "hovertemplate": "trackName=All In<br>date=%{x}<br>views=%{y}<extra></extra>",
         "legendgroup": "All In",
         "line": {
          "color": "#FFA15A",
          "dash": "solid"
         },
         "marker": {
          "symbol": "circle"
         },
         "mode": "lines+markers",
         "name": "All In",
         "showlegend": true,
         "type": "scattergl",
         "x": [
          "2024-06-07",
          "2024-06-08",
          "2024-06-09"
         ],
         "xaxis": "x",
         "y": [
          32600000,
          49200000,
          16600000
         ],
         "yaxis": "y"
        },
        {
         "hovertemplate": "trackName=Cannabis & Anime<br>date=%{x}<br>views=%{y}<extra></extra>",
         "legendgroup": "Cannabis & Anime",
         "line": {
          "color": "#19d3f3",
          "dash": "solid"
         },
         "marker": {
          "symbol": "circle"
         },
         "mode": "lines+markers",
         "name": "Cannabis & Anime",
         "showlegend": true,
         "type": "scattergl",
         "x": [
          "2024-06-07"
         ],
         "xaxis": "x",
         "y": [
          5200000
         ],
         "yaxis": "y"
        },
        {
         "hovertemplate": "trackName=Chemical Reaction<br>date=%{x}<br>views=%{y}<extra></extra>",
         "legendgroup": "Chemical Reaction",
         "line": {
          "color": "#FF6692",
          "dash": "solid"
         },
         "marker": {
          "symbol": "circle"
         },
         "mode": "lines+markers",
         "name": "Chemical Reaction",
         "showlegend": true,
         "type": "scattergl",
         "x": [
          "2024-06-07"
         ],
         "xaxis": "x",
         "y": [
          33000000
         ],
         "yaxis": "y"
        },
        {
         "hovertemplate": "trackName=Holidae In (feat. Ludacris & Snoop Dogg)<br>date=%{x}<br>views=%{y}<extra></extra>",
         "legendgroup": "Holidae In (feat. Ludacris & Snoop Dogg)",
         "line": {
          "color": "#B6E880",
          "dash": "solid"
         },
         "marker": {
          "symbol": "circle"
         },
         "mode": "lines+markers",
         "name": "Holidae In (feat. Ludacris & Snoop Dogg)",
         "showlegend": true,
         "type": "scattergl",
         "x": [
          "2024-06-07",
          "2024-06-09",
          "2024-06-11"
         ],
         "xaxis": "x",
         "y": [
          47000000,
          23600000,
          23700000
         ],
         "yaxis": "y"
        },
        {
         "hovertemplate": "trackName=Morsmordre<br>date=%{x}<br>views=%{y}<extra></extra>",
         "legendgroup": "Morsmordre",
         "line": {
          "color": "#FF97FF",
          "dash": "solid"
         },
         "marker": {
          "symbol": "circle"
         },
         "mode": "lines+markers",
         "name": "Morsmordre",
         "showlegend": true,
         "type": "scattergl",
         "x": [
          "2024-06-07",
          "2024-06-09"
         ],
         "xaxis": "x",
         "y": [
          26800000,
          50900000
         ],
         "yaxis": "y"
        },
        {
         "hovertemplate": "trackName=Sea Shanty Medley<br>date=%{x}<br>views=%{y}<extra></extra>",
         "legendgroup": "Sea Shanty Medley",
         "line": {
          "color": "#FECB52",
          "dash": "solid"
         },
         "marker": {
          "symbol": "circle"
         },
         "mode": "lines+markers",
         "name": "Sea Shanty Medley",
         "showlegend": true,
         "type": "scattergl",
         "x": [
          "2024-06-07"
         ],
         "xaxis": "x",
         "y": [
          1900000
         ],
         "yaxis": "y"
        },
        {
         "hovertemplate": "trackName=Solitude (Felsmann + Tiley Reinterpretation)<br>date=%{x}<br>views=%{y}<extra></extra>",
         "legendgroup": "Solitude (Felsmann + Tiley Reinterpretation)",
         "line": {
          "color": "#636efa",
          "dash": "solid"
         },
         "marker": {
          "symbol": "circle"
         },
         "mode": "lines+markers",
         "name": "Solitude (Felsmann + Tiley Reinterpretation)",
         "showlegend": true,
         "type": "scattergl",
         "x": [
          "2024-06-07"
         ],
         "xaxis": "x",
         "y": [
          5000000
         ],
         "yaxis": "y"
        },
        {
         "hovertemplate": "trackName=The Boy Who Harnessed the Wind<br>date=%{x}<br>views=%{y}<extra></extra>",
         "legendgroup": "The Boy Who Harnessed the Wind",
         "line": {
          "color": "#EF553B",
          "dash": "solid"
         },
         "marker": {
          "symbol": "circle"
         },
         "mode": "lines+markers",
         "name": "The Boy Who Harnessed the Wind",
         "showlegend": true,
         "type": "scattergl",
         "x": [
          "2024-06-07"
         ],
         "xaxis": "x",
         "y": [
          15100000
         ],
         "yaxis": "y"
        },
        {
         "hovertemplate": "trackName=The Illusion of Choosing<br>date=%{x}<br>views=%{y}<extra></extra>",
         "legendgroup": "The Illusion of Choosing",
         "line": {
          "color": "#00cc96",
          "dash": "solid"
         },
         "marker": {
          "symbol": "circle"
         },
         "mode": "lines+markers",
         "name": "The Illusion of Choosing",
         "showlegend": true,
         "type": "scattergl",
         "x": [
          "2024-06-07",
          "2024-06-09"
         ],
         "xaxis": "x",
         "y": [
          4800000,
          4900000
         ],
         "yaxis": "y"
        },
        {
         "hovertemplate": "trackName=i was only temporary<br>date=%{x}<br>views=%{y}<extra></extra>",
         "legendgroup": "i was only temporary",
         "line": {
          "color": "#ab63fa",
          "dash": "solid"
         },
         "marker": {
          "symbol": "circle"
         },
         "mode": "lines+markers",
         "name": "i was only temporary",
         "showlegend": true,
         "type": "scattergl",
         "x": [
          "2024-06-07",
          "2024-06-09"
         ],
         "xaxis": "x",
         "y": [
          49600000,
          25100000
         ],
         "yaxis": "y"
        },
        {
         "hovertemplate": "trackName=Stay Ready (What a Life) [feat. Kendrick Lamar]<br>date=%{x}<br>views=%{y}<extra></extra>",
         "legendgroup": "Stay Ready (What a Life) [feat. Kendrick Lamar]",
         "line": {
          "color": "#FFA15A",
          "dash": "solid"
         },
         "marker": {
          "symbol": "circle"
         },
         "mode": "lines+markers",
         "name": "Stay Ready (What a Life) [feat. Kendrick Lamar]",
         "showlegend": true,
         "type": "scattergl",
         "x": [
          "2024-06-08",
          "2024-06-09"
         ],
         "xaxis": "x",
         "y": [
          11800000,
          11900000
         ],
         "yaxis": "y"
        },
        {
         "hovertemplate": "trackName=Tshwala Bam (feat. S.N.E, EeQue)<br>date=%{x}<br>views=%{y}<extra></extra>",
         "legendgroup": "Tshwala Bam (feat. S.N.E, EeQue)",
         "line": {
          "color": "#19d3f3",
          "dash": "solid"
         },
         "marker": {
          "symbol": "circle"
         },
         "mode": "lines+markers",
         "name": "Tshwala Bam (feat. S.N.E, EeQue)",
         "showlegend": true,
         "type": "scattergl",
         "x": [
          "2024-06-08"
         ],
         "xaxis": "x",
         "y": [
          1700000
         ],
         "yaxis": "y"
        },
        {
         "hovertemplate": "trackName=Flowing Stream, Calm Waters<br>date=%{x}<br>views=%{y}<extra></extra>",
         "legendgroup": "Flowing Stream, Calm Waters",
         "line": {
          "color": "#FF6692",
          "dash": "solid"
         },
         "marker": {
          "symbol": "circle"
         },
         "mode": "lines+markers",
         "name": "Flowing Stream, Calm Waters",
         "showlegend": true,
         "type": "scattergl",
         "x": [
          "2024-06-09",
          "2024-06-10"
         ],
         "xaxis": "x",
         "y": [
          16300000,
          16400000
         ],
         "yaxis": "y"
        },
        {
         "hovertemplate": "trackName=I'm Kissing You (Originally Performed By Des'ree) [Karaoke Version]<br>date=%{x}<br>views=%{y}<extra></extra>",
         "legendgroup": "I'm Kissing You (Originally Performed By Des'ree) [Karaoke Version]",
         "line": {
          "color": "#B6E880",
          "dash": "solid"
         },
         "marker": {
          "symbol": "circle"
         },
         "mode": "lines+markers",
         "name": "I'm Kissing You (Originally Performed By Des'ree) [Karaoke Version]",
         "showlegend": true,
         "type": "scattergl",
         "x": [
          "2024-06-09"
         ],
         "xaxis": "x",
         "y": [
          2900000
         ],
         "yaxis": "y"
        },
        {
         "hovertemplate": "trackName=Like That<br>date=%{x}<br>views=%{y}<extra></extra>",
         "legendgroup": "Like That",
         "line": {
          "color": "#FF97FF",
          "dash": "solid"
         },
         "marker": {
          "symbol": "circle"
         },
         "mode": "lines+markers",
         "name": "Like That",
         "showlegend": true,
         "type": "scattergl",
         "x": [
          "2024-06-09"
         ],
         "xaxis": "x",
         "y": [
          9900000
         ],
         "yaxis": "y"
        },
        {
         "hovertemplate": "trackName=Mukhymantri Ke Kursi Ho<br>date=%{x}<br>views=%{y}<extra></extra>",
         "legendgroup": "Mukhymantri Ke Kursi Ho",
         "line": {
          "color": "#FECB52",
          "dash": "solid"
         },
         "marker": {
          "symbol": "circle"
         },
         "mode": "lines+markers",
         "name": "Mukhymantri Ke Kursi Ho",
         "showlegend": true,
         "type": "scattergl",
         "x": [
          "2024-06-09",
          "2024-06-10"
         ],
         "xaxis": "x",
         "y": [
          6200000,
          6200000
         ],
         "yaxis": "y"
        },
        {
         "hovertemplate": "trackName=Pieces<br>date=%{x}<br>views=%{y}<extra></extra>",
         "legendgroup": "Pieces",
         "line": {
          "color": "#636efa",
          "dash": "solid"
         },
         "marker": {
          "symbol": "circle"
         },
         "mode": "lines+markers",
         "name": "Pieces",
         "showlegend": true,
         "type": "scattergl",
         "x": [
          "2024-06-09",
          "2024-06-11"
         ],
         "xaxis": "x",
         "y": [
          12000000,
          24000000
         ],
         "yaxis": "y"
        },
        {
         "hovertemplate": "trackName=Rondo \"Alla Turca\"<br>date=%{x}<br>views=%{y}<extra></extra>",
         "legendgroup": "Rondo \"Alla Turca\"",
         "line": {
          "color": "#EF553B",
          "dash": "solid"
         },
         "marker": {
          "symbol": "circle"
         },
         "mode": "lines+markers",
         "name": "Rondo \"Alla Turca\"",
         "showlegend": true,
         "type": "scattergl",
         "x": [
          "2024-06-09"
         ],
         "xaxis": "x",
         "y": [
          14200000
         ],
         "yaxis": "y"
        },
        {
         "hovertemplate": "trackName=Save Me<br>date=%{x}<br>views=%{y}<extra></extra>",
         "legendgroup": "Save Me",
         "line": {
          "color": "#00cc96",
          "dash": "solid"
         },
         "marker": {
          "symbol": "circle"
         },
         "mode": "lines+markers",
         "name": "Save Me",
         "showlegend": true,
         "type": "scattergl",
         "x": [
          "2024-06-09"
         ],
         "xaxis": "x",
         "y": [
          12300000
         ],
         "yaxis": "y"
        },
        {
         "hovertemplate": "trackName=You Are My Sunshine<br>date=%{x}<br>views=%{y}<extra></extra>",
         "legendgroup": "You Are My Sunshine",
         "line": {
          "color": "#ab63fa",
          "dash": "solid"
         },
         "marker": {
          "symbol": "circle"
         },
         "mode": "lines+markers",
         "name": "You Are My Sunshine",
         "showlegend": true,
         "type": "scattergl",
         "x": [
          "2024-06-09"
         ],
         "xaxis": "x",
         "y": [
          16500000
         ],
         "yaxis": "y"
        },
        {
         "hovertemplate": "trackName=Aguacero<br>date=%{x}<br>views=%{y}<extra></extra>",
         "legendgroup": "Aguacero",
         "line": {
          "color": "#FFA15A",
          "dash": "solid"
         },
         "marker": {
          "symbol": "circle"
         },
         "mode": "lines+markers",
         "name": "Aguacero",
         "showlegend": true,
         "type": "scattergl",
         "x": [
          "2024-06-10"
         ],
         "xaxis": "x",
         "y": [
          4200000
         ],
         "yaxis": "y"
        },
        {
         "hovertemplate": "trackName=BAND4BAND<br>date=%{x}<br>views=%{y}<extra></extra>",
         "legendgroup": "BAND4BAND",
         "line": {
          "color": "#19d3f3",
          "dash": "solid"
         },
         "marker": {
          "symbol": "circle"
         },
         "mode": "lines+markers",
         "name": "BAND4BAND",
         "showlegend": true,
         "type": "scattergl",
         "x": [
          "2024-06-10"
         ],
         "xaxis": "x",
         "y": [
          8200000
         ],
         "yaxis": "y"
        },
        {
         "hovertemplate": "trackName=Borderline<br>date=%{x}<br>views=%{y}<extra></extra>",
         "legendgroup": "Borderline",
         "line": {
          "color": "#FF6692",
          "dash": "solid"
         },
         "marker": {
          "symbol": "circle"
         },
         "mode": "lines+markers",
         "name": "Borderline",
         "showlegend": true,
         "type": "scattergl",
         "x": [
          "2024-06-10"
         ],
         "xaxis": "x",
         "y": [
          2700000
         ],
         "yaxis": "y"
        },
        {
         "hovertemplate": "trackName=Cupid's Chokehold (Featuring Patrick Stump)<br>date=%{x}<br>views=%{y}<extra></extra>",
         "legendgroup": "Cupid's Chokehold (Featuring Patrick Stump)",
         "line": {
          "color": "#B6E880",
          "dash": "solid"
         },
         "marker": {
          "symbol": "circle"
         },
         "mode": "lines+markers",
         "name": "Cupid's Chokehold (Featuring Patrick Stump)",
         "showlegend": true,
         "type": "scattergl",
         "x": [
          "2024-06-10"
         ],
         "xaxis": "x",
         "y": [
          5900000
         ],
         "yaxis": "y"
        },
        {
         "hovertemplate": "trackName=Dark Horse (feat. Juicy J)<br>date=%{x}<br>views=%{y}<extra></extra>",
         "legendgroup": "Dark Horse (feat. Juicy J)",
         "line": {
          "color": "#FF97FF",
          "dash": "solid"
         },
         "marker": {
          "symbol": "circle"
         },
         "mode": "lines+markers",
         "name": "Dark Horse (feat. Juicy J)",
         "showlegend": true,
         "type": "scattergl",
         "x": [
          "2024-06-10"
         ],
         "xaxis": "x",
         "y": [
          12300000
         ],
         "yaxis": "y"
        },
        {
         "hovertemplate": "trackName=EgoÃ­sta (feat. Pitbull)<br>date=%{x}<br>views=%{y}<extra></extra>",
         "legendgroup": "EgoÃ­sta (feat. Pitbull)",
         "line": {
          "color": "#FECB52",
          "dash": "solid"
         },
         "marker": {
          "symbol": "circle"
         },
         "mode": "lines+markers",
         "name": "EgoÃ­sta (feat. Pitbull)",
         "showlegend": true,
         "type": "scattergl",
         "x": [
          "2024-06-10"
         ],
         "xaxis": "x",
         "y": [
          4000000
         ],
         "yaxis": "y"
        },
        {
         "hovertemplate": "trackName=El Paso Del Cierre<br>date=%{x}<br>views=%{y}<extra></extra>",
         "legendgroup": "El Paso Del Cierre",
         "line": {
          "color": "#636efa",
          "dash": "solid"
         },
         "marker": {
          "symbol": "circle"
         },
         "mode": "lines+markers",
         "name": "El Paso Del Cierre",
         "showlegend": true,
         "type": "scattergl",
         "x": [
          "2024-06-10"
         ],
         "xaxis": "x",
         "y": [
          6500000
         ],
         "yaxis": "y"
        },
        {
         "hovertemplate": "trackName=Eu Sou O Diabo, O Unico Ser Superior Existente<br>date=%{x}<br>views=%{y}<extra></extra>",
         "legendgroup": "Eu Sou O Diabo, O Unico Ser Superior Existente",
         "line": {
          "color": "#EF553B",
          "dash": "solid"
         },
         "marker": {
          "symbol": "circle"
         },
         "mode": "lines+markers",
         "name": "Eu Sou O Diabo, O Unico Ser Superior Existente",
         "showlegend": true,
         "type": "scattergl",
         "x": [
          "2024-06-10"
         ],
         "xaxis": "x",
         "y": [
          1800000
         ],
         "yaxis": "y"
        },
        {
         "hovertemplate": "trackName=Feliz Navidad 8<br>date=%{x}<br>views=%{y}<extra></extra>",
         "legendgroup": "Feliz Navidad 8",
         "line": {
          "color": "#00cc96",
          "dash": "solid"
         },
         "marker": {
          "symbol": "circle"
         },
         "mode": "lines+markers",
         "name": "Feliz Navidad 8",
         "showlegend": true,
         "type": "scattergl",
         "x": [
          "2024-06-10"
         ],
         "xaxis": "x",
         "y": [
          31900000
         ],
         "yaxis": "y"
        },
        {
         "hovertemplate": "trackName=Hard<br>date=%{x}<br>views=%{y}<extra></extra>",
         "legendgroup": "Hard",
         "line": {
          "color": "#ab63fa",
          "dash": "solid"
         },
         "marker": {
          "symbol": "circle"
         },
         "mode": "lines+markers",
         "name": "Hard",
         "showlegend": true,
         "type": "scattergl",
         "x": [
          "2024-06-10"
         ],
         "xaxis": "x",
         "y": [
          4000000
         ],
         "yaxis": "y"
        },
        {
         "hovertemplate": "trackName=Havana (feat. Young Thug)<br>date=%{x}<br>views=%{y}<extra></extra>",
         "legendgroup": "Havana (feat. Young Thug)",
         "line": {
          "color": "#FFA15A",
          "dash": "solid"
         },
         "marker": {
          "symbol": "circle"
         },
         "mode": "lines+markers",
         "name": "Havana (feat. Young Thug)",
         "showlegend": true,
         "type": "scattergl",
         "x": [
          "2024-06-10"
         ],
         "xaxis": "x",
         "y": [
          6600000
         ],
         "yaxis": "y"
        },
        {
         "hovertemplate": "trackName=Ice Ice Baby (Re-Recorded Version)<br>date=%{x}<br>views=%{y}<extra></extra>",
         "legendgroup": "Ice Ice Baby (Re-Recorded Version)",
         "line": {
          "color": "#19d3f3",
          "dash": "solid"
         },
         "marker": {
          "symbol": "circle"
         },
         "mode": "lines+markers",
         "name": "Ice Ice Baby (Re-Recorded Version)",
         "showlegend": true,
         "type": "scattergl",
         "x": [
          "2024-06-10"
         ],
         "xaxis": "x",
         "y": [
          10000000
         ],
         "yaxis": "y"
        },
        {
         "hovertemplate": "trackName=MONEY EDITION<br>date=%{x}<br>views=%{y}<extra></extra>",
         "legendgroup": "MONEY EDITION",
         "line": {
          "color": "#FF6692",
          "dash": "solid"
         },
         "marker": {
          "symbol": "circle"
         },
         "mode": "lines+markers",
         "name": "MONEY EDITION",
         "showlegend": true,
         "type": "scattergl",
         "x": [
          "2024-06-10"
         ],
         "xaxis": "x",
         "y": [
          5500000
         ],
         "yaxis": "y"
        },
        {
         "hovertemplate": "trackName=Meet the Frownies<br>date=%{x}<br>views=%{y}<extra></extra>",
         "legendgroup": "Meet the Frownies",
         "line": {
          "color": "#B6E880",
          "dash": "solid"
         },
         "marker": {
          "symbol": "circle"
         },
         "mode": "lines+markers",
         "name": "Meet the Frownies",
         "showlegend": true,
         "type": "scattergl",
         "x": [
          "2024-06-10"
         ],
         "xaxis": "x",
         "y": [
          3800000
         ],
         "yaxis": "y"
        },
        {
         "hovertemplate": "trackName=Montagem - Conga Conga<br>date=%{x}<br>views=%{y}<extra></extra>",
         "legendgroup": "Montagem - Conga Conga",
         "line": {
          "color": "#FF97FF",
          "dash": "solid"
         },
         "marker": {
          "symbol": "circle"
         },
         "mode": "lines+markers",
         "name": "Montagem - Conga Conga",
         "showlegend": true,
         "type": "scattergl",
         "x": [
          "2024-06-10"
         ],
         "xaxis": "x",
         "y": [
          24000000
         ],
         "yaxis": "y"
        },
        {
         "hovertemplate": "trackName=Por Primera Vez<br>date=%{x}<br>views=%{y}<extra></extra>",
         "legendgroup": "Por Primera Vez",
         "line": {
          "color": "#FECB52",
          "dash": "solid"
         },
         "marker": {
          "symbol": "circle"
         },
         "mode": "lines+markers",
         "name": "Por Primera Vez",
         "showlegend": true,
         "type": "scattergl",
         "x": [
          "2024-06-10"
         ],
         "xaxis": "x",
         "y": [
          4600000
         ],
         "yaxis": "y"
        },
        {
         "hovertemplate": "trackName=Quevedo: Bzrp Music Sessions, Vol. 52<br>date=%{x}<br>views=%{y}<extra></extra>",
         "legendgroup": "Quevedo: Bzrp Music Sessions, Vol. 52",
         "line": {
          "color": "#636efa",
          "dash": "solid"
         },
         "marker": {
          "symbol": "circle"
         },
         "mode": "lines+markers",
         "name": "Quevedo: Bzrp Music Sessions, Vol. 52",
         "showlegend": true,
         "type": "scattergl",
         "x": [
          "2024-06-10"
         ],
         "xaxis": "x",
         "y": [
          10400000
         ],
         "yaxis": "y"
        },
        {
         "hovertemplate": "trackName=Risada e Roinc Maravilha<br>date=%{x}<br>views=%{y}<extra></extra>",
         "legendgroup": "Risada e Roinc Maravilha",
         "line": {
          "color": "#EF553B",
          "dash": "solid"
         },
         "marker": {
          "symbol": "circle"
         },
         "mode": "lines+markers",
         "name": "Risada e Roinc Maravilha",
         "showlegend": true,
         "type": "scattergl",
         "x": [
          "2024-06-10"
         ],
         "xaxis": "x",
         "y": [
          2400000
         ],
         "yaxis": "y"
        },
        {
         "hovertemplate": "trackName=Sixty Second Commercial #1<br>date=%{x}<br>views=%{y}<extra></extra>",
         "legendgroup": "Sixty Second Commercial #1",
         "line": {
          "color": "#00cc96",
          "dash": "solid"
         },
         "marker": {
          "symbol": "circle"
         },
         "mode": "lines+markers",
         "name": "Sixty Second Commercial #1",
         "showlegend": true,
         "type": "scattergl",
         "x": [
          "2024-06-10"
         ],
         "xaxis": "x",
         "y": [
          2200000
         ],
         "yaxis": "y"
        },
        {
         "hovertemplate": "trackName=Take On Me<br>date=%{x}<br>views=%{y}<extra></extra>",
         "legendgroup": "Take On Me",
         "line": {
          "color": "#ab63fa",
          "dash": "solid"
         },
         "marker": {
          "symbol": "circle"
         },
         "mode": "lines+markers",
         "name": "Take On Me",
         "showlegend": true,
         "type": "scattergl",
         "x": [
          "2024-06-10"
         ],
         "xaxis": "x",
         "y": [
          1900000
         ],
         "yaxis": "y"
        },
        {
         "hovertemplate": "trackName=TrakatÃ¡<br>date=%{x}<br>views=%{y}<extra></extra>",
         "legendgroup": "TrakatÃ¡",
         "line": {
          "color": "#FFA15A",
          "dash": "solid"
         },
         "marker": {
          "symbol": "circle"
         },
         "mode": "lines+markers",
         "name": "TrakatÃ¡",
         "showlegend": true,
         "type": "scattergl",
         "x": [
          "2024-06-10"
         ],
         "xaxis": "x",
         "y": [
          5500000
         ],
         "yaxis": "y"
        },
        {
         "hovertemplate": "trackName=Untitled<br>date=%{x}<br>views=%{y}<extra></extra>",
         "legendgroup": "Untitled",
         "line": {
          "color": "#19d3f3",
          "dash": "solid"
         },
         "marker": {
          "symbol": "circle"
         },
         "mode": "lines+markers",
         "name": "Untitled",
         "showlegend": true,
         "type": "scattergl",
         "x": [
          "2024-06-10"
         ],
         "xaxis": "x",
         "y": [
          5000000
         ],
         "yaxis": "y"
        },
        {
         "hovertemplate": "trackName=You Spin Me Round (Like a Record)<br>date=%{x}<br>views=%{y}<extra></extra>",
         "legendgroup": "You Spin Me Round (Like a Record)",
         "line": {
          "color": "#FF6692",
          "dash": "solid"
         },
         "marker": {
          "symbol": "circle"
         },
         "mode": "lines+markers",
         "name": "You Spin Me Round (Like a Record)",
         "showlegend": true,
         "type": "scattergl",
         "x": [
          "2024-06-10"
         ],
         "xaxis": "x",
         "y": [
          3800000
         ],
         "yaxis": "y"
        },
        {
         "hovertemplate": "trackName=Praise Jah In the Moonlight<br>date=%{x}<br>views=%{y}<extra></extra>",
         "legendgroup": "Praise Jah In the Moonlight",
         "line": {
          "color": "#B6E880",
          "dash": "solid"
         },
         "marker": {
          "symbol": "circle"
         },
         "mode": "lines+markers",
         "name": "Praise Jah In the Moonlight",
         "showlegend": true,
         "type": "scattergl",
         "x": [
          "2024-06-11"
         ],
         "xaxis": "x",
         "y": [
          39600000
         ],
         "yaxis": "y"
        },
        {
         "hovertemplate": "trackName=Rocky (Main Theme)<br>date=%{x}<br>views=%{y}<extra></extra>",
         "legendgroup": "Rocky (Main Theme)",
         "line": {
          "color": "#FF97FF",
          "dash": "solid"
         },
         "marker": {
          "symbol": "circle"
         },
         "mode": "lines+markers",
         "name": "Rocky (Main Theme)",
         "showlegend": true,
         "type": "scattergl",
         "x": [
          "2024-06-11"
         ],
         "xaxis": "x",
         "y": [
          9800000
         ],
         "yaxis": "y"
        },
        {
         "hovertemplate": "trackName=Sunroof (Thomas Rhett Remix)<br>date=%{x}<br>views=%{y}<extra></extra>",
         "legendgroup": "Sunroof (Thomas Rhett Remix)",
         "line": {
          "color": "#FECB52",
          "dash": "solid"
         },
         "marker": {
          "symbol": "circle"
         },
         "mode": "lines+markers",
         "name": "Sunroof (Thomas Rhett Remix)",
         "showlegend": true,
         "type": "scattergl",
         "x": [
          "2024-06-11"
         ],
         "xaxis": "x",
         "y": [
          42600000
         ],
         "yaxis": "y"
        }
       ],
       "layout": {
        "height": 800,
        "legend": {
         "title": {
          "text": "trackName"
         },
         "tracegroupgap": 0
        },
        "template": {
         "data": {
          "bar": [
           {
            "error_x": {
             "color": "#2a3f5f"
            },
            "error_y": {
             "color": "#2a3f5f"
            },
            "marker": {
             "line": {
              "color": "#E5ECF6",
              "width": 0.5
             },
             "pattern": {
              "fillmode": "overlay",
              "size": 10,
              "solidity": 0.2
             }
            },
            "type": "bar"
           }
          ],
          "barpolar": [
           {
            "marker": {
             "line": {
              "color": "#E5ECF6",
              "width": 0.5
             },
             "pattern": {
              "fillmode": "overlay",
              "size": 10,
              "solidity": 0.2
             }
            },
            "type": "barpolar"
           }
          ],
          "carpet": [
           {
            "aaxis": {
             "endlinecolor": "#2a3f5f",
             "gridcolor": "white",
             "linecolor": "white",
             "minorgridcolor": "white",
             "startlinecolor": "#2a3f5f"
            },
            "baxis": {
             "endlinecolor": "#2a3f5f",
             "gridcolor": "white",
             "linecolor": "white",
             "minorgridcolor": "white",
             "startlinecolor": "#2a3f5f"
            },
            "type": "carpet"
           }
          ],
          "choropleth": [
           {
            "colorbar": {
             "outlinewidth": 0,
             "ticks": ""
            },
            "type": "choropleth"
           }
          ],
          "contour": [
           {
            "colorbar": {
             "outlinewidth": 0,
             "ticks": ""
            },
            "colorscale": [
             [
              0,
              "#0d0887"
             ],
             [
              0.1111111111111111,
              "#46039f"
             ],
             [
              0.2222222222222222,
              "#7201a8"
             ],
             [
              0.3333333333333333,
              "#9c179e"
             ],
             [
              0.4444444444444444,
              "#bd3786"
             ],
             [
              0.5555555555555556,
              "#d8576b"
             ],
             [
              0.6666666666666666,
              "#ed7953"
             ],
             [
              0.7777777777777778,
              "#fb9f3a"
             ],
             [
              0.8888888888888888,
              "#fdca26"
             ],
             [
              1,
              "#f0f921"
             ]
            ],
            "type": "contour"
           }
          ],
          "contourcarpet": [
           {
            "colorbar": {
             "outlinewidth": 0,
             "ticks": ""
            },
            "type": "contourcarpet"
           }
          ],
          "heatmap": [
           {
            "colorbar": {
             "outlinewidth": 0,
             "ticks": ""
            },
            "colorscale": [
             [
              0,
              "#0d0887"
             ],
             [
              0.1111111111111111,
              "#46039f"
             ],
             [
              0.2222222222222222,
              "#7201a8"
             ],
             [
              0.3333333333333333,
              "#9c179e"
             ],
             [
              0.4444444444444444,
              "#bd3786"
             ],
             [
              0.5555555555555556,
              "#d8576b"
             ],
             [
              0.6666666666666666,
              "#ed7953"
             ],
             [
              0.7777777777777778,
              "#fb9f3a"
             ],
             [
              0.8888888888888888,
              "#fdca26"
             ],
             [
              1,
              "#f0f921"
             ]
            ],
            "type": "heatmap"
           }
          ],
          "heatmapgl": [
           {
            "colorbar": {
             "outlinewidth": 0,
             "ticks": ""
            },
            "colorscale": [
             [
              0,
              "#0d0887"
             ],
             [
              0.1111111111111111,
              "#46039f"
             ],
             [
              0.2222222222222222,
              "#7201a8"
             ],
             [
              0.3333333333333333,
              "#9c179e"
             ],
             [
              0.4444444444444444,
              "#bd3786"
             ],
             [
              0.5555555555555556,
              "#d8576b"
             ],
             [
              0.6666666666666666,
              "#ed7953"
             ],
             [
              0.7777777777777778,
              "#fb9f3a"
             ],
             [
              0.8888888888888888,
              "#fdca26"
             ],
             [
              1,
              "#f0f921"
             ]
            ],
            "type": "heatmapgl"
           }
          ],
          "histogram": [
           {
            "marker": {
             "pattern": {
              "fillmode": "overlay",
              "size": 10,
              "solidity": 0.2
             }
            },
            "type": "histogram"
           }
          ],
          "histogram2d": [
           {
            "colorbar": {
             "outlinewidth": 0,
             "ticks": ""
            },
            "colorscale": [
             [
              0,
              "#0d0887"
             ],
             [
              0.1111111111111111,
              "#46039f"
             ],
             [
              0.2222222222222222,
              "#7201a8"
             ],
             [
              0.3333333333333333,
              "#9c179e"
             ],
             [
              0.4444444444444444,
              "#bd3786"
             ],
             [
              0.5555555555555556,
              "#d8576b"
             ],
             [
              0.6666666666666666,
              "#ed7953"
             ],
             [
              0.7777777777777778,
              "#fb9f3a"
             ],
             [
              0.8888888888888888,
              "#fdca26"
             ],
             [
              1,
              "#f0f921"
             ]
            ],
            "type": "histogram2d"
           }
          ],
          "histogram2dcontour": [
           {
            "colorbar": {
             "outlinewidth": 0,
             "ticks": ""
            },
            "colorscale": [
             [
              0,
              "#0d0887"
             ],
             [
              0.1111111111111111,
              "#46039f"
             ],
             [
              0.2222222222222222,
              "#7201a8"
             ],
             [
              0.3333333333333333,
              "#9c179e"
             ],
             [
              0.4444444444444444,
              "#bd3786"
             ],
             [
              0.5555555555555556,
              "#d8576b"
             ],
             [
              0.6666666666666666,
              "#ed7953"
             ],
             [
              0.7777777777777778,
              "#fb9f3a"
             ],
             [
              0.8888888888888888,
              "#fdca26"
             ],
             [
              1,
              "#f0f921"
             ]
            ],
            "type": "histogram2dcontour"
           }
          ],
          "mesh3d": [
           {
            "colorbar": {
             "outlinewidth": 0,
             "ticks": ""
            },
            "type": "mesh3d"
           }
          ],
          "parcoords": [
           {
            "line": {
             "colorbar": {
              "outlinewidth": 0,
              "ticks": ""
             }
            },
            "type": "parcoords"
           }
          ],
          "pie": [
           {
            "automargin": true,
            "type": "pie"
           }
          ],
          "scatter": [
           {
            "fillpattern": {
             "fillmode": "overlay",
             "size": 10,
             "solidity": 0.2
            },
            "type": "scatter"
           }
          ],
          "scatter3d": [
           {
            "line": {
             "colorbar": {
              "outlinewidth": 0,
              "ticks": ""
             }
            },
            "marker": {
             "colorbar": {
              "outlinewidth": 0,
              "ticks": ""
             }
            },
            "type": "scatter3d"
           }
          ],
          "scattercarpet": [
           {
            "marker": {
             "colorbar": {
              "outlinewidth": 0,
              "ticks": ""
             }
            },
            "type": "scattercarpet"
           }
          ],
          "scattergeo": [
           {
            "marker": {
             "colorbar": {
              "outlinewidth": 0,
              "ticks": ""
             }
            },
            "type": "scattergeo"
           }
          ],
          "scattergl": [
           {
            "marker": {
             "colorbar": {
              "outlinewidth": 0,
              "ticks": ""
             }
            },
            "type": "scattergl"
           }
          ],
          "scattermapbox": [
           {
            "marker": {
             "colorbar": {
              "outlinewidth": 0,
              "ticks": ""
             }
            },
            "type": "scattermapbox"
           }
          ],
          "scatterpolar": [
           {
            "marker": {
             "colorbar": {
              "outlinewidth": 0,
              "ticks": ""
             }
            },
            "type": "scatterpolar"
           }
          ],
          "scatterpolargl": [
           {
            "marker": {
             "colorbar": {
              "outlinewidth": 0,
              "ticks": ""
             }
            },
            "type": "scatterpolargl"
           }
          ],
          "scatterternary": [
           {
            "marker": {
             "colorbar": {
              "outlinewidth": 0,
              "ticks": ""
             }
            },
            "type": "scatterternary"
           }
          ],
          "surface": [
           {
            "colorbar": {
             "outlinewidth": 0,
             "ticks": ""
            },
            "colorscale": [
             [
              0,
              "#0d0887"
             ],
             [
              0.1111111111111111,
              "#46039f"
             ],
             [
              0.2222222222222222,
              "#7201a8"
             ],
             [
              0.3333333333333333,
              "#9c179e"
             ],
             [
              0.4444444444444444,
              "#bd3786"
             ],
             [
              0.5555555555555556,
              "#d8576b"
             ],
             [
              0.6666666666666666,
              "#ed7953"
             ],
             [
              0.7777777777777778,
              "#fb9f3a"
             ],
             [
              0.8888888888888888,
              "#fdca26"
             ],
             [
              1,
              "#f0f921"
             ]
            ],
            "type": "surface"
           }
          ],
          "table": [
           {
            "cells": {
             "fill": {
              "color": "#EBF0F8"
             },
             "line": {
              "color": "white"
             }
            },
            "header": {
             "fill": {
              "color": "#C8D4E3"
             },
             "line": {
              "color": "white"
             }
            },
            "type": "table"
           }
          ]
         },
         "layout": {
          "annotationdefaults": {
           "arrowcolor": "#2a3f5f",
           "arrowhead": 0,
           "arrowwidth": 1
          },
          "autotypenumbers": "strict",
          "coloraxis": {
           "colorbar": {
            "outlinewidth": 0,
            "ticks": ""
           }
          },
          "colorscale": {
           "diverging": [
            [
             0,
             "#8e0152"
            ],
            [
             0.1,
             "#c51b7d"
            ],
            [
             0.2,
             "#de77ae"
            ],
            [
             0.3,
             "#f1b6da"
            ],
            [
             0.4,
             "#fde0ef"
            ],
            [
             0.5,
             "#f7f7f7"
            ],
            [
             0.6,
             "#e6f5d0"
            ],
            [
             0.7,
             "#b8e186"
            ],
            [
             0.8,
             "#7fbc41"
            ],
            [
             0.9,
             "#4d9221"
            ],
            [
             1,
             "#276419"
            ]
           ],
           "sequential": [
            [
             0,
             "#0d0887"
            ],
            [
             0.1111111111111111,
             "#46039f"
            ],
            [
             0.2222222222222222,
             "#7201a8"
            ],
            [
             0.3333333333333333,
             "#9c179e"
            ],
            [
             0.4444444444444444,
             "#bd3786"
            ],
            [
             0.5555555555555556,
             "#d8576b"
            ],
            [
             0.6666666666666666,
             "#ed7953"
            ],
            [
             0.7777777777777778,
             "#fb9f3a"
            ],
            [
             0.8888888888888888,
             "#fdca26"
            ],
            [
             1,
             "#f0f921"
            ]
           ],
           "sequentialminus": [
            [
             0,
             "#0d0887"
            ],
            [
             0.1111111111111111,
             "#46039f"
            ],
            [
             0.2222222222222222,
             "#7201a8"
            ],
            [
             0.3333333333333333,
             "#9c179e"
            ],
            [
             0.4444444444444444,
             "#bd3786"
            ],
            [
             0.5555555555555556,
             "#d8576b"
            ],
            [
             0.6666666666666666,
             "#ed7953"
            ],
            [
             0.7777777777777778,
             "#fb9f3a"
            ],
            [
             0.8888888888888888,
             "#fdca26"
            ],
            [
             1,
             "#f0f921"
            ]
           ]
          },
          "colorway": [
           "#636efa",
           "#EF553B",
           "#00cc96",
           "#ab63fa",
           "#FFA15A",
           "#19d3f3",
           "#FF6692",
           "#B6E880",
           "#FF97FF",
           "#FECB52"
          ],
          "font": {
           "color": "#2a3f5f"
          },
          "geo": {
           "bgcolor": "white",
           "lakecolor": "white",
           "landcolor": "#E5ECF6",
           "showlakes": true,
           "showland": true,
           "subunitcolor": "white"
          },
          "hoverlabel": {
           "align": "left"
          },
          "hovermode": "closest",
          "mapbox": {
           "style": "light"
          },
          "paper_bgcolor": "white",
          "plot_bgcolor": "#E5ECF6",
          "polar": {
           "angularaxis": {
            "gridcolor": "white",
            "linecolor": "white",
            "ticks": ""
           },
           "bgcolor": "#E5ECF6",
           "radialaxis": {
            "gridcolor": "white",
            "linecolor": "white",
            "ticks": ""
           }
          },
          "scene": {
           "xaxis": {
            "backgroundcolor": "#E5ECF6",
            "gridcolor": "white",
            "gridwidth": 2,
            "linecolor": "white",
            "showbackground": true,
            "ticks": "",
            "zerolinecolor": "white"
           },
           "yaxis": {
            "backgroundcolor": "#E5ECF6",
            "gridcolor": "white",
            "gridwidth": 2,
            "linecolor": "white",
            "showbackground": true,
            "ticks": "",
            "zerolinecolor": "white"
           },
           "zaxis": {
            "backgroundcolor": "#E5ECF6",
            "gridcolor": "white",
            "gridwidth": 2,
            "linecolor": "white",
            "showbackground": true,
            "ticks": "",
            "zerolinecolor": "white"
           }
          },
          "shapedefaults": {
           "line": {
            "color": "#2a3f5f"
           }
          },
          "ternary": {
           "aaxis": {
            "gridcolor": "white",
            "linecolor": "white",
            "ticks": ""
           },
           "baxis": {
            "gridcolor": "white",
            "linecolor": "white",
            "ticks": ""
           },
           "bgcolor": "#E5ECF6",
           "caxis": {
            "gridcolor": "white",
            "linecolor": "white",
            "ticks": ""
           }
          },
          "title": {
           "x": 0.05
          },
          "xaxis": {
           "automargin": true,
           "gridcolor": "white",
           "linecolor": "white",
           "ticks": "",
           "title": {
            "standoff": 15
           },
           "zerolinecolor": "white",
           "zerolinewidth": 2
          },
          "yaxis": {
           "automargin": true,
           "gridcolor": "white",
           "linecolor": "white",
           "ticks": "",
           "title": {
            "standoff": 15
           },
           "zerolinecolor": "white",
           "zerolinewidth": 2
          }
         }
        },
        "title": {
         "text": "Suma de views por canción en TikTok"
        },
        "xaxis": {
         "anchor": "y",
         "domain": [
          0,
          1
         ],
         "title": {
          "text": "date"
         }
        },
        "yaxis": {
         "anchor": "x",
         "domain": [
          0,
          1
         ],
         "title": {
          "text": "views"
         }
        }
       }
      }
     },
     "metadata": {},
     "output_type": "display_data"
    }
   ],
   "source": [
    "# Calculate the sum of views for each song over time\n",
    "grouped_by_date_song = spotifyshazam_df.groupby(['date', 'trackName']).agg({'views': 'sum'})\n",
    "grouped_by_date_song.reset_index(inplace=True)\n",
    "\n",
    "# Create the line chart\n",
    "fig = px.line(grouped_by_date_song, x='date', y='views', color='trackName', markers=True, title='Suma de views por canción en TikTok')\n",
    "\n",
    "# Adjust layout for better visualization\n",
    "fig.update_layout(height=800)\n",
    "\n",
    "# Show the chart\n",
    "fig.show()"
   ]
  },
  {
   "cell_type": "code",
   "execution_count": 17,
   "id": "399907cf",
   "metadata": {},
   "outputs": [
    {
     "data": {
      "application/vnd.plotly.v1+json": {
       "config": {
        "plotlyServerURL": "https://plot.ly"
       },
       "data": [
        {
         "hovertemplate": "trackName=End of Beginning<br>date=%{x}<br>views=%{y}<extra></extra>",
         "legendgroup": "End of Beginning",
         "line": {
          "color": "#636efa",
          "dash": "solid"
         },
         "marker": {
          "symbol": "circle"
         },
         "mode": "lines+markers",
         "name": "End of Beginning",
         "orientation": "v",
         "showlegend": true,
         "type": "scatter",
         "x": [
          "2024-05-16",
          "2024-06-10"
         ],
         "xaxis": "x",
         "y": [
          39300000,
          5100000
         ],
         "yaxis": "y"
        },
        {
         "hovertemplate": "trackName=FE!N (feat. Playboi Carti)<br>date=%{x}<br>views=%{y}<extra></extra>",
         "legendgroup": "FE!N (feat. Playboi Carti)",
         "line": {
          "color": "#EF553B",
          "dash": "solid"
         },
         "marker": {
          "symbol": "circle"
         },
         "mode": "lines+markers",
         "name": "FE!N (feat. Playboi Carti)",
         "orientation": "v",
         "showlegend": true,
         "type": "scatter",
         "x": [
          "2024-05-16",
          "2024-05-17",
          "2024-05-18",
          "2024-05-21",
          "2024-05-25",
          "2024-05-26"
         ],
         "xaxis": "x",
         "y": [
          365000000,
          7600000,
          8100000,
          191000000,
          5500000,
          11000000
         ],
         "yaxis": "y"
        },
        {
         "hovertemplate": "trackName=MILLION DOLLAR BABY<br>date=%{x}<br>views=%{y}<extra></extra>",
         "legendgroup": "MILLION DOLLAR BABY",
         "line": {
          "color": "#00cc96",
          "dash": "solid"
         },
         "marker": {
          "symbol": "circle"
         },
         "mode": "lines+markers",
         "name": "MILLION DOLLAR BABY",
         "orientation": "v",
         "showlegend": true,
         "type": "scatter",
         "x": [
          "2024-05-16",
          "2024-05-22",
          "2024-05-25",
          "2024-05-28",
          "2024-05-29",
          "2024-05-30",
          "2024-05-31",
          "2024-06-02",
          "2024-06-03",
          "2024-06-04",
          "2024-06-05"
         ],
         "xaxis": "x",
         "y": [
          6700000,
          40000000,
          7000000,
          7800000,
          78500000,
          60800000,
          132100000,
          11600000,
          45600000,
          30200000,
          0
         ],
         "yaxis": "y"
        },
        {
         "hovertemplate": "trackName=My Love Mine All Mine<br>date=%{x}<br>views=%{y}<extra></extra>",
         "legendgroup": "My Love Mine All Mine",
         "line": {
          "color": "#ab63fa",
          "dash": "solid"
         },
         "marker": {
          "symbol": "circle"
         },
         "mode": "lines+markers",
         "name": "My Love Mine All Mine",
         "orientation": "v",
         "showlegend": true,
         "type": "scatter",
         "x": [
          "2024-05-16",
          "2024-05-17",
          "2024-05-18"
         ],
         "xaxis": "x",
         "y": [
          72700000,
          145400000,
          145600000
         ],
         "yaxis": "y"
        },
        {
         "hovertemplate": "trackName=See You Again (feat. Kali Uchis)<br>date=%{x}<br>views=%{y}<extra></extra>",
         "legendgroup": "See You Again (feat. Kali Uchis)",
         "line": {
          "color": "#FFA15A",
          "dash": "solid"
         },
         "marker": {
          "symbol": "circle"
         },
         "mode": "lines+markers",
         "name": "See You Again (feat. Kali Uchis)",
         "orientation": "v",
         "showlegend": true,
         "type": "scatter",
         "x": [
          "2024-05-16",
          "2024-05-17",
          "2024-06-03",
          "2024-06-04"
         ],
         "xaxis": "x",
         "y": [
          18900000,
          19000000,
          20200000,
          20400000
         ],
         "yaxis": "y"
        },
        {
         "hovertemplate": "trackName=Tell Ur Girlfriend<br>date=%{x}<br>views=%{y}<extra></extra>",
         "legendgroup": "Tell Ur Girlfriend",
         "line": {
          "color": "#19d3f3",
          "dash": "solid"
         },
         "marker": {
          "symbol": "circle"
         },
         "mode": "lines+markers",
         "name": "Tell Ur Girlfriend",
         "orientation": "v",
         "showlegend": true,
         "type": "scatter",
         "x": [
          "2024-05-16",
          "2024-05-17"
         ],
         "xaxis": "x",
         "y": [
          17800000,
          1500000
         ],
         "yaxis": "y"
        },
        {
         "hovertemplate": "trackName=Type Shit<br>date=%{x}<br>views=%{y}<extra></extra>",
         "legendgroup": "Type Shit",
         "line": {
          "color": "#FF6692",
          "dash": "solid"
         },
         "marker": {
          "symbol": "circle"
         },
         "mode": "lines+markers",
         "name": "Type Shit",
         "orientation": "v",
         "showlegend": true,
         "type": "scatter",
         "x": [
          "2024-05-16"
         ],
         "xaxis": "x",
         "y": [
          10800000
         ],
         "yaxis": "y"
        },
        {
         "hovertemplate": "trackName=Beautiful Things<br>date=%{x}<br>views=%{y}<extra></extra>",
         "legendgroup": "Beautiful Things",
         "line": {
          "color": "#B6E880",
          "dash": "solid"
         },
         "marker": {
          "symbol": "circle"
         },
         "mode": "lines+markers",
         "name": "Beautiful Things",
         "orientation": "v",
         "showlegend": true,
         "type": "scatter",
         "x": [
          "2024-05-18"
         ],
         "xaxis": "x",
         "y": [
          5200000
         ],
         "yaxis": "y"
        },
        {
         "hovertemplate": "trackName=euphoria<br>date=%{x}<br>views=%{y}<extra></extra>",
         "legendgroup": "euphoria",
         "line": {
          "color": "#FF97FF",
          "dash": "solid"
         },
         "marker": {
          "symbol": "circle"
         },
         "mode": "lines+markers",
         "name": "euphoria",
         "orientation": "v",
         "showlegend": true,
         "type": "scatter",
         "x": [
          "2024-05-18"
         ],
         "xaxis": "x",
         "y": [
          2900000
         ],
         "yaxis": "y"
        },
        {
         "hovertemplate": "trackName=i like the way you kiss me<br>date=%{x}<br>views=%{y}<extra></extra>",
         "legendgroup": "i like the way you kiss me",
         "line": {
          "color": "#FECB52",
          "dash": "solid"
         },
         "marker": {
          "symbol": "circle"
         },
         "mode": "lines+markers",
         "name": "i like the way you kiss me",
         "orientation": "v",
         "showlegend": true,
         "type": "scatter",
         "x": [
          "2024-05-26"
         ],
         "xaxis": "x",
         "y": [
          8400000
         ],
         "yaxis": "y"
        },
        {
         "hovertemplate": "trackName=A Bar Song (Tipsy)<br>date=%{x}<br>views=%{y}<extra></extra>",
         "legendgroup": "A Bar Song (Tipsy)",
         "line": {
          "color": "#636efa",
          "dash": "solid"
         },
         "marker": {
          "symbol": "circle"
         },
         "mode": "lines+markers",
         "name": "A Bar Song (Tipsy)",
         "orientation": "v",
         "showlegend": true,
         "type": "scatter",
         "x": [
          "2024-05-29",
          "2024-06-04",
          "2024-06-05"
         ],
         "xaxis": "x",
         "y": [
          1600000,
          2700000,
          0
         ],
         "yaxis": "y"
        },
        {
         "hovertemplate": "trackName=Espresso<br>date=%{x}<br>views=%{y}<extra></extra>",
         "legendgroup": "Espresso",
         "line": {
          "color": "#EF553B",
          "dash": "solid"
         },
         "marker": {
          "symbol": "circle"
         },
         "mode": "lines+markers",
         "name": "Espresso",
         "orientation": "v",
         "showlegend": true,
         "type": "scatter",
         "x": [
          "2024-06-03"
         ],
         "xaxis": "x",
         "y": [
          638800
         ],
         "yaxis": "y"
        },
        {
         "hovertemplate": "trackName=Fortnight (feat. Post Malone)<br>date=%{x}<br>views=%{y}<extra></extra>",
         "legendgroup": "Fortnight (feat. Post Malone)",
         "line": {
          "color": "#00cc96",
          "dash": "solid"
         },
         "marker": {
          "symbol": "circle"
         },
         "mode": "lines+markers",
         "name": "Fortnight (feat. Post Malone)",
         "orientation": "v",
         "showlegend": true,
         "type": "scatter",
         "x": [
          "2024-06-03"
         ],
         "xaxis": "x",
         "y": [
          2300000
         ],
         "yaxis": "y"
        },
        {
         "hovertemplate": "trackName=Too Sweet<br>date=%{x}<br>views=%{y}<extra></extra>",
         "legendgroup": "Too Sweet",
         "line": {
          "color": "#ab63fa",
          "dash": "solid"
         },
         "marker": {
          "symbol": "circle"
         },
         "mode": "lines+markers",
         "name": "Too Sweet",
         "orientation": "v",
         "showlegend": true,
         "type": "scatter",
         "x": [
          "2024-06-03"
         ],
         "xaxis": "x",
         "y": [
          10200000
         ],
         "yaxis": "y"
        },
        {
         "hovertemplate": "trackName=Not Like Us<br>date=%{x}<br>views=%{y}<extra></extra>",
         "legendgroup": "Not Like Us",
         "line": {
          "color": "#FFA15A",
          "dash": "solid"
         },
         "marker": {
          "symbol": "circle"
         },
         "mode": "lines+markers",
         "name": "Not Like Us",
         "orientation": "v",
         "showlegend": true,
         "type": "scatter",
         "x": [
          "2024-06-04",
          "2024-06-10"
         ],
         "xaxis": "x",
         "y": [
          35400000,
          4900000
         ],
         "yaxis": "y"
        },
        {
         "hovertemplate": "trackName=Gata Only<br>date=%{x}<br>views=%{y}<extra></extra>",
         "legendgroup": "Gata Only",
         "line": {
          "color": "#19d3f3",
          "dash": "solid"
         },
         "marker": {
          "symbol": "circle"
         },
         "mode": "lines+markers",
         "name": "Gata Only",
         "orientation": "v",
         "showlegend": true,
         "type": "scatter",
         "x": [
          "2024-06-05",
          "2024-06-06",
          "2024-06-07",
          "2024-06-08"
         ],
         "xaxis": "x",
         "y": [
          38600000,
          38800000,
          77800000,
          39000000
         ],
         "yaxis": "y"
        },
        {
         "hovertemplate": "trackName=Like That<br>date=%{x}<br>views=%{y}<extra></extra>",
         "legendgroup": "Like That",
         "line": {
          "color": "#FF6692",
          "dash": "solid"
         },
         "marker": {
          "symbol": "circle"
         },
         "mode": "lines+markers",
         "name": "Like That",
         "orientation": "v",
         "showlegend": true,
         "type": "scatter",
         "x": [
          "2024-06-09"
         ],
         "xaxis": "x",
         "y": [
          9900000
         ],
         "yaxis": "y"
        }
       ],
       "layout": {
        "height": 800,
        "legend": {
         "title": {
          "text": "trackName"
         },
         "tracegroupgap": 0
        },
        "template": {
         "data": {
          "bar": [
           {
            "error_x": {
             "color": "#2a3f5f"
            },
            "error_y": {
             "color": "#2a3f5f"
            },
            "marker": {
             "line": {
              "color": "#E5ECF6",
              "width": 0.5
             },
             "pattern": {
              "fillmode": "overlay",
              "size": 10,
              "solidity": 0.2
             }
            },
            "type": "bar"
           }
          ],
          "barpolar": [
           {
            "marker": {
             "line": {
              "color": "#E5ECF6",
              "width": 0.5
             },
             "pattern": {
              "fillmode": "overlay",
              "size": 10,
              "solidity": 0.2
             }
            },
            "type": "barpolar"
           }
          ],
          "carpet": [
           {
            "aaxis": {
             "endlinecolor": "#2a3f5f",
             "gridcolor": "white",
             "linecolor": "white",
             "minorgridcolor": "white",
             "startlinecolor": "#2a3f5f"
            },
            "baxis": {
             "endlinecolor": "#2a3f5f",
             "gridcolor": "white",
             "linecolor": "white",
             "minorgridcolor": "white",
             "startlinecolor": "#2a3f5f"
            },
            "type": "carpet"
           }
          ],
          "choropleth": [
           {
            "colorbar": {
             "outlinewidth": 0,
             "ticks": ""
            },
            "type": "choropleth"
           }
          ],
          "contour": [
           {
            "colorbar": {
             "outlinewidth": 0,
             "ticks": ""
            },
            "colorscale": [
             [
              0,
              "#0d0887"
             ],
             [
              0.1111111111111111,
              "#46039f"
             ],
             [
              0.2222222222222222,
              "#7201a8"
             ],
             [
              0.3333333333333333,
              "#9c179e"
             ],
             [
              0.4444444444444444,
              "#bd3786"
             ],
             [
              0.5555555555555556,
              "#d8576b"
             ],
             [
              0.6666666666666666,
              "#ed7953"
             ],
             [
              0.7777777777777778,
              "#fb9f3a"
             ],
             [
              0.8888888888888888,
              "#fdca26"
             ],
             [
              1,
              "#f0f921"
             ]
            ],
            "type": "contour"
           }
          ],
          "contourcarpet": [
           {
            "colorbar": {
             "outlinewidth": 0,
             "ticks": ""
            },
            "type": "contourcarpet"
           }
          ],
          "heatmap": [
           {
            "colorbar": {
             "outlinewidth": 0,
             "ticks": ""
            },
            "colorscale": [
             [
              0,
              "#0d0887"
             ],
             [
              0.1111111111111111,
              "#46039f"
             ],
             [
              0.2222222222222222,
              "#7201a8"
             ],
             [
              0.3333333333333333,
              "#9c179e"
             ],
             [
              0.4444444444444444,
              "#bd3786"
             ],
             [
              0.5555555555555556,
              "#d8576b"
             ],
             [
              0.6666666666666666,
              "#ed7953"
             ],
             [
              0.7777777777777778,
              "#fb9f3a"
             ],
             [
              0.8888888888888888,
              "#fdca26"
             ],
             [
              1,
              "#f0f921"
             ]
            ],
            "type": "heatmap"
           }
          ],
          "heatmapgl": [
           {
            "colorbar": {
             "outlinewidth": 0,
             "ticks": ""
            },
            "colorscale": [
             [
              0,
              "#0d0887"
             ],
             [
              0.1111111111111111,
              "#46039f"
             ],
             [
              0.2222222222222222,
              "#7201a8"
             ],
             [
              0.3333333333333333,
              "#9c179e"
             ],
             [
              0.4444444444444444,
              "#bd3786"
             ],
             [
              0.5555555555555556,
              "#d8576b"
             ],
             [
              0.6666666666666666,
              "#ed7953"
             ],
             [
              0.7777777777777778,
              "#fb9f3a"
             ],
             [
              0.8888888888888888,
              "#fdca26"
             ],
             [
              1,
              "#f0f921"
             ]
            ],
            "type": "heatmapgl"
           }
          ],
          "histogram": [
           {
            "marker": {
             "pattern": {
              "fillmode": "overlay",
              "size": 10,
              "solidity": 0.2
             }
            },
            "type": "histogram"
           }
          ],
          "histogram2d": [
           {
            "colorbar": {
             "outlinewidth": 0,
             "ticks": ""
            },
            "colorscale": [
             [
              0,
              "#0d0887"
             ],
             [
              0.1111111111111111,
              "#46039f"
             ],
             [
              0.2222222222222222,
              "#7201a8"
             ],
             [
              0.3333333333333333,
              "#9c179e"
             ],
             [
              0.4444444444444444,
              "#bd3786"
             ],
             [
              0.5555555555555556,
              "#d8576b"
             ],
             [
              0.6666666666666666,
              "#ed7953"
             ],
             [
              0.7777777777777778,
              "#fb9f3a"
             ],
             [
              0.8888888888888888,
              "#fdca26"
             ],
             [
              1,
              "#f0f921"
             ]
            ],
            "type": "histogram2d"
           }
          ],
          "histogram2dcontour": [
           {
            "colorbar": {
             "outlinewidth": 0,
             "ticks": ""
            },
            "colorscale": [
             [
              0,
              "#0d0887"
             ],
             [
              0.1111111111111111,
              "#46039f"
             ],
             [
              0.2222222222222222,
              "#7201a8"
             ],
             [
              0.3333333333333333,
              "#9c179e"
             ],
             [
              0.4444444444444444,
              "#bd3786"
             ],
             [
              0.5555555555555556,
              "#d8576b"
             ],
             [
              0.6666666666666666,
              "#ed7953"
             ],
             [
              0.7777777777777778,
              "#fb9f3a"
             ],
             [
              0.8888888888888888,
              "#fdca26"
             ],
             [
              1,
              "#f0f921"
             ]
            ],
            "type": "histogram2dcontour"
           }
          ],
          "mesh3d": [
           {
            "colorbar": {
             "outlinewidth": 0,
             "ticks": ""
            },
            "type": "mesh3d"
           }
          ],
          "parcoords": [
           {
            "line": {
             "colorbar": {
              "outlinewidth": 0,
              "ticks": ""
             }
            },
            "type": "parcoords"
           }
          ],
          "pie": [
           {
            "automargin": true,
            "type": "pie"
           }
          ],
          "scatter": [
           {
            "fillpattern": {
             "fillmode": "overlay",
             "size": 10,
             "solidity": 0.2
            },
            "type": "scatter"
           }
          ],
          "scatter3d": [
           {
            "line": {
             "colorbar": {
              "outlinewidth": 0,
              "ticks": ""
             }
            },
            "marker": {
             "colorbar": {
              "outlinewidth": 0,
              "ticks": ""
             }
            },
            "type": "scatter3d"
           }
          ],
          "scattercarpet": [
           {
            "marker": {
             "colorbar": {
              "outlinewidth": 0,
              "ticks": ""
             }
            },
            "type": "scattercarpet"
           }
          ],
          "scattergeo": [
           {
            "marker": {
             "colorbar": {
              "outlinewidth": 0,
              "ticks": ""
             }
            },
            "type": "scattergeo"
           }
          ],
          "scattergl": [
           {
            "marker": {
             "colorbar": {
              "outlinewidth": 0,
              "ticks": ""
             }
            },
            "type": "scattergl"
           }
          ],
          "scattermapbox": [
           {
            "marker": {
             "colorbar": {
              "outlinewidth": 0,
              "ticks": ""
             }
            },
            "type": "scattermapbox"
           }
          ],
          "scatterpolar": [
           {
            "marker": {
             "colorbar": {
              "outlinewidth": 0,
              "ticks": ""
             }
            },
            "type": "scatterpolar"
           }
          ],
          "scatterpolargl": [
           {
            "marker": {
             "colorbar": {
              "outlinewidth": 0,
              "ticks": ""
             }
            },
            "type": "scatterpolargl"
           }
          ],
          "scatterternary": [
           {
            "marker": {
             "colorbar": {
              "outlinewidth": 0,
              "ticks": ""
             }
            },
            "type": "scatterternary"
           }
          ],
          "surface": [
           {
            "colorbar": {
             "outlinewidth": 0,
             "ticks": ""
            },
            "colorscale": [
             [
              0,
              "#0d0887"
             ],
             [
              0.1111111111111111,
              "#46039f"
             ],
             [
              0.2222222222222222,
              "#7201a8"
             ],
             [
              0.3333333333333333,
              "#9c179e"
             ],
             [
              0.4444444444444444,
              "#bd3786"
             ],
             [
              0.5555555555555556,
              "#d8576b"
             ],
             [
              0.6666666666666666,
              "#ed7953"
             ],
             [
              0.7777777777777778,
              "#fb9f3a"
             ],
             [
              0.8888888888888888,
              "#fdca26"
             ],
             [
              1,
              "#f0f921"
             ]
            ],
            "type": "surface"
           }
          ],
          "table": [
           {
            "cells": {
             "fill": {
              "color": "#EBF0F8"
             },
             "line": {
              "color": "white"
             }
            },
            "header": {
             "fill": {
              "color": "#C8D4E3"
             },
             "line": {
              "color": "white"
             }
            },
            "type": "table"
           }
          ]
         },
         "layout": {
          "annotationdefaults": {
           "arrowcolor": "#2a3f5f",
           "arrowhead": 0,
           "arrowwidth": 1
          },
          "autotypenumbers": "strict",
          "coloraxis": {
           "colorbar": {
            "outlinewidth": 0,
            "ticks": ""
           }
          },
          "colorscale": {
           "diverging": [
            [
             0,
             "#8e0152"
            ],
            [
             0.1,
             "#c51b7d"
            ],
            [
             0.2,
             "#de77ae"
            ],
            [
             0.3,
             "#f1b6da"
            ],
            [
             0.4,
             "#fde0ef"
            ],
            [
             0.5,
             "#f7f7f7"
            ],
            [
             0.6,
             "#e6f5d0"
            ],
            [
             0.7,
             "#b8e186"
            ],
            [
             0.8,
             "#7fbc41"
            ],
            [
             0.9,
             "#4d9221"
            ],
            [
             1,
             "#276419"
            ]
           ],
           "sequential": [
            [
             0,
             "#0d0887"
            ],
            [
             0.1111111111111111,
             "#46039f"
            ],
            [
             0.2222222222222222,
             "#7201a8"
            ],
            [
             0.3333333333333333,
             "#9c179e"
            ],
            [
             0.4444444444444444,
             "#bd3786"
            ],
            [
             0.5555555555555556,
             "#d8576b"
            ],
            [
             0.6666666666666666,
             "#ed7953"
            ],
            [
             0.7777777777777778,
             "#fb9f3a"
            ],
            [
             0.8888888888888888,
             "#fdca26"
            ],
            [
             1,
             "#f0f921"
            ]
           ],
           "sequentialminus": [
            [
             0,
             "#0d0887"
            ],
            [
             0.1111111111111111,
             "#46039f"
            ],
            [
             0.2222222222222222,
             "#7201a8"
            ],
            [
             0.3333333333333333,
             "#9c179e"
            ],
            [
             0.4444444444444444,
             "#bd3786"
            ],
            [
             0.5555555555555556,
             "#d8576b"
            ],
            [
             0.6666666666666666,
             "#ed7953"
            ],
            [
             0.7777777777777778,
             "#fb9f3a"
            ],
            [
             0.8888888888888888,
             "#fdca26"
            ],
            [
             1,
             "#f0f921"
            ]
           ]
          },
          "colorway": [
           "#636efa",
           "#EF553B",
           "#00cc96",
           "#ab63fa",
           "#FFA15A",
           "#19d3f3",
           "#FF6692",
           "#B6E880",
           "#FF97FF",
           "#FECB52"
          ],
          "font": {
           "color": "#2a3f5f"
          },
          "geo": {
           "bgcolor": "white",
           "lakecolor": "white",
           "landcolor": "#E5ECF6",
           "showlakes": true,
           "showland": true,
           "subunitcolor": "white"
          },
          "hoverlabel": {
           "align": "left"
          },
          "hovermode": "closest",
          "mapbox": {
           "style": "light"
          },
          "paper_bgcolor": "white",
          "plot_bgcolor": "#E5ECF6",
          "polar": {
           "angularaxis": {
            "gridcolor": "white",
            "linecolor": "white",
            "ticks": ""
           },
           "bgcolor": "#E5ECF6",
           "radialaxis": {
            "gridcolor": "white",
            "linecolor": "white",
            "ticks": ""
           }
          },
          "scene": {
           "xaxis": {
            "backgroundcolor": "#E5ECF6",
            "gridcolor": "white",
            "gridwidth": 2,
            "linecolor": "white",
            "showbackground": true,
            "ticks": "",
            "zerolinecolor": "white"
           },
           "yaxis": {
            "backgroundcolor": "#E5ECF6",
            "gridcolor": "white",
            "gridwidth": 2,
            "linecolor": "white",
            "showbackground": true,
            "ticks": "",
            "zerolinecolor": "white"
           },
           "zaxis": {
            "backgroundcolor": "#E5ECF6",
            "gridcolor": "white",
            "gridwidth": 2,
            "linecolor": "white",
            "showbackground": true,
            "ticks": "",
            "zerolinecolor": "white"
           }
          },
          "shapedefaults": {
           "line": {
            "color": "#2a3f5f"
           }
          },
          "ternary": {
           "aaxis": {
            "gridcolor": "white",
            "linecolor": "white",
            "ticks": ""
           },
           "baxis": {
            "gridcolor": "white",
            "linecolor": "white",
            "ticks": ""
           },
           "bgcolor": "#E5ECF6",
           "caxis": {
            "gridcolor": "white",
            "linecolor": "white",
            "ticks": ""
           }
          },
          "title": {
           "x": 0.05
          },
          "xaxis": {
           "automargin": true,
           "gridcolor": "white",
           "linecolor": "white",
           "ticks": "",
           "title": {
            "standoff": 15
           },
           "zerolinecolor": "white",
           "zerolinewidth": 2
          },
          "yaxis": {
           "automargin": true,
           "gridcolor": "white",
           "linecolor": "white",
           "ticks": "",
           "title": {
            "standoff": 15
           },
           "zerolinecolor": "white",
           "zerolinewidth": 2
          }
         }
        },
        "title": {
         "text": "Suma de views por canción en TikTok"
        },
        "xaxis": {
         "anchor": "y",
         "domain": [
          0,
          1
         ],
         "title": {
          "text": "date"
         }
        },
        "yaxis": {
         "anchor": "x",
         "domain": [
          0,
          1
         ],
         "title": {
          "text": "views"
         }
        }
       }
      }
     },
     "metadata": {},
     "output_type": "display_data"
    }
   ],
   "source": [
    "spotifytiktok_df = pd.merge(spotifyshazam_df, spotify_df, on=['trackName','date'], how='inner')\n",
    "spotifytiktok_df.head(10)\n",
    "# Calculate the sum of views for each song over time\n",
    "grouped_by_date_song = spotifytiktok_df.groupby(['date', 'trackName']).agg({'views': 'sum'})\n",
    "grouped_by_date_song.reset_index(inplace=True)\n",
    "\n",
    "# Create the line chart\n",
    "fig = px.line(grouped_by_date_song, x='date', y='views', color='trackName', markers=True, title='Suma de views por canción en TikTok')\n",
    "\n",
    "# Adjust layout for better visualization\n",
    "fig.update_layout(height=800)\n",
    "\n",
    "# Show the chart\n",
    "fig.show()"
   ]
  },
  {
   "cell_type": "code",
   "execution_count": 18,
   "id": "520b81c0",
   "metadata": {},
   "outputs": [
    {
     "data": {
      "application/vnd.plotly.v1+json": {
       "config": {
        "plotlyServerURL": "https://plot.ly"
       },
       "data": [
        {
         "mode": "lines+markers",
         "name": "Visitas de A Bar Song (Tipsy)",
         "type": "scatter",
         "x": [
          "2024-05-29T00:00:00",
          "2024-06-04T00:00:00",
          "2024-06-05T00:00:00"
         ],
         "xaxis": "x",
         "y": [
          1600000,
          2700000,
          0
         ],
         "yaxis": "y"
        },
        {
         "name": "Posición de A Bar Song (Tipsy)",
         "opacity": 0.5,
         "type": "bar",
         "x": [
          "2024-05-16T00:00:00",
          "2024-05-17T00:00:00",
          "2024-05-18T00:00:00",
          "2024-05-19T00:00:00",
          "2024-05-20T00:00:00",
          "2024-05-21T00:00:00",
          "2024-05-22T00:00:00",
          "2024-05-23T00:00:00",
          "2024-05-24T00:00:00",
          "2024-05-25T00:00:00",
          "2024-05-26T00:00:00",
          "2024-05-27T00:00:00",
          "2024-05-28T00:00:00",
          "2024-05-29T00:00:00",
          "2024-05-30T00:00:00",
          "2024-05-31T00:00:00",
          "2024-06-01T00:00:00",
          "2024-06-02T00:00:00",
          "2024-06-03T00:00:00",
          "2024-06-04T00:00:00",
          "2024-06-05T00:00:00",
          "2024-06-06T00:00:00",
          "2024-06-07T00:00:00",
          "2024-06-08T00:00:00",
          "2024-06-09T00:00:00",
          "2024-06-10T00:00:00",
          "2024-06-11T00:00:00"
         ],
         "xaxis": "x",
         "y": [
          8,
          8,
          6,
          12,
          9,
          10,
          11,
          11,
          10,
          11,
          9,
          9,
          10,
          11,
          11,
          11,
          12,
          9,
          10,
          14,
          14,
          14,
          12,
          11,
          10,
          9,
          9
         ],
         "yaxis": "y2"
        },
        {
         "mode": "lines+markers",
         "name": "Visitas de Beautiful Things",
         "type": "scatter",
         "x": [
          "2024-05-18T00:00:00"
         ],
         "xaxis": "x2",
         "y": [
          5200000
         ],
         "yaxis": "y3"
        },
        {
         "name": "Posición de Beautiful Things",
         "opacity": 0.5,
         "type": "bar",
         "x": [
          "2024-05-16T00:00:00",
          "2024-05-17T00:00:00",
          "2024-05-18T00:00:00",
          "2024-05-19T00:00:00",
          "2024-05-20T00:00:00",
          "2024-05-21T00:00:00",
          "2024-05-22T00:00:00",
          "2024-05-23T00:00:00",
          "2024-05-24T00:00:00",
          "2024-05-25T00:00:00",
          "2024-05-26T00:00:00",
          "2024-05-27T00:00:00",
          "2024-05-28T00:00:00",
          "2024-05-29T00:00:00",
          "2024-05-30T00:00:00",
          "2024-05-31T00:00:00",
          "2024-06-01T00:00:00",
          "2024-06-02T00:00:00",
          "2024-06-03T00:00:00",
          "2024-06-04T00:00:00",
          "2024-06-05T00:00:00",
          "2024-06-06T00:00:00",
          "2024-06-07T00:00:00",
          "2024-06-08T00:00:00",
          "2024-06-09T00:00:00",
          "2024-06-10T00:00:00",
          "2024-06-11T00:00:00"
         ],
         "xaxis": "x2",
         "y": [
          10,
          10,
          9,
          14,
          12,
          12,
          12,
          12,
          12,
          10,
          11,
          10,
          11,
          10,
          12,
          12,
          9,
          12,
          11,
          10,
          12,
          11,
          11,
          12,
          13,
          11,
          11
         ],
         "yaxis": "y4"
        },
        {
         "mode": "lines+markers",
         "name": "Visitas de End of Beginning",
         "type": "scatter",
         "x": [
          "2024-05-16T00:00:00",
          "2024-06-10T00:00:00"
         ],
         "xaxis": "x3",
         "y": [
          39300000,
          5100000
         ],
         "yaxis": "y5"
        },
        {
         "name": "Posición de End of Beginning",
         "opacity": 0.5,
         "type": "bar",
         "x": [
          "2024-05-16T00:00:00",
          "2024-05-17T00:00:00",
          "2024-05-18T00:00:00",
          "2024-05-19T00:00:00",
          "2024-05-20T00:00:00",
          "2024-05-21T00:00:00",
          "2024-05-22T00:00:00",
          "2024-05-23T00:00:00",
          "2024-05-24T00:00:00",
          "2024-05-25T00:00:00",
          "2024-05-26T00:00:00",
          "2024-05-27T00:00:00",
          "2024-05-28T00:00:00",
          "2024-05-29T00:00:00",
          "2024-05-30T00:00:00",
          "2024-05-31T00:00:00",
          "2024-06-01T00:00:00",
          "2024-06-02T00:00:00",
          "2024-06-03T00:00:00",
          "2024-06-04T00:00:00",
          "2024-06-05T00:00:00",
          "2024-06-06T00:00:00",
          "2024-06-07T00:00:00",
          "2024-06-08T00:00:00",
          "2024-06-09T00:00:00",
          "2024-06-10T00:00:00",
          "2024-06-11T00:00:00"
         ],
         "xaxis": "x3",
         "y": [
          12,
          12,
          12,
          22,
          20,
          16,
          17,
          15,
          16,
          15,
          15,
          15,
          15,
          15,
          15,
          15,
          16,
          17,
          17,
          16,
          16,
          17,
          15,
          15,
          19,
          16,
          16
         ],
         "yaxis": "y6"
        },
        {
         "mode": "lines+markers",
         "name": "Visitas de Espresso",
         "type": "scatter",
         "x": [
          "2024-06-03T00:00:00"
         ],
         "xaxis": "x4",
         "y": [
          638800
         ],
         "yaxis": "y7"
        },
        {
         "name": "Posición de Espresso",
         "opacity": 0.5,
         "type": "bar",
         "x": [
          "2024-05-16T00:00:00",
          "2024-05-17T00:00:00",
          "2024-05-18T00:00:00",
          "2024-05-19T00:00:00",
          "2024-05-20T00:00:00",
          "2024-05-21T00:00:00",
          "2024-05-22T00:00:00",
          "2024-05-23T00:00:00",
          "2024-05-24T00:00:00",
          "2024-05-25T00:00:00",
          "2024-05-26T00:00:00",
          "2024-05-27T00:00:00",
          "2024-05-28T00:00:00",
          "2024-05-29T00:00:00",
          "2024-05-30T00:00:00",
          "2024-05-31T00:00:00",
          "2024-06-01T00:00:00",
          "2024-06-02T00:00:00",
          "2024-06-03T00:00:00",
          "2024-06-04T00:00:00",
          "2024-06-05T00:00:00",
          "2024-06-06T00:00:00",
          "2024-06-07T00:00:00",
          "2024-06-08T00:00:00",
          "2024-06-09T00:00:00",
          "2024-06-10T00:00:00",
          "2024-06-11T00:00:00"
         ],
         "xaxis": "x4",
         "y": [
          3,
          3,
          3,
          4,
          3,
          2,
          2,
          2,
          3,
          3,
          2,
          2,
          2,
          1,
          1,
          1,
          1,
          1,
          1,
          1,
          1,
          1,
          1,
          1,
          1,
          1,
          1
         ],
         "yaxis": "y8"
        },
        {
         "mode": "lines+markers",
         "name": "Visitas de FE!N (feat. Playboi Carti)",
         "type": "scatter",
         "x": [
          "2024-05-16T00:00:00",
          "2024-05-17T00:00:00",
          "2024-05-18T00:00:00",
          "2024-05-21T00:00:00",
          "2024-05-25T00:00:00",
          "2024-05-26T00:00:00"
         ],
         "xaxis": "x5",
         "y": [
          365000000,
          7600000,
          8100000,
          191000000,
          5500000,
          11000000
         ],
         "yaxis": "y9"
        },
        {
         "name": "Posición de FE!N (feat. Playboi Carti)",
         "opacity": 0.5,
         "type": "bar",
         "x": [
          "2024-05-16T00:00:00",
          "2024-05-17T00:00:00",
          "2024-05-18T00:00:00",
          "2024-05-19T00:00:00",
          "2024-05-20T00:00:00",
          "2024-05-21T00:00:00",
          "2024-05-22T00:00:00",
          "2024-05-23T00:00:00",
          "2024-05-24T00:00:00",
          "2024-05-25T00:00:00",
          "2024-05-26T00:00:00",
          "2024-05-27T00:00:00",
          "2024-05-28T00:00:00",
          "2024-05-29T00:00:00",
          "2024-05-30T00:00:00",
          "2024-05-31T00:00:00",
          "2024-06-01T00:00:00",
          "2024-06-02T00:00:00",
          "2024-06-03T00:00:00",
          "2024-06-04T00:00:00",
          "2024-06-05T00:00:00",
          "2024-06-06T00:00:00",
          "2024-06-07T00:00:00",
          "2024-06-08T00:00:00",
          "2024-06-09T00:00:00"
         ],
         "xaxis": "x5",
         "y": [
          29,
          29,
          27,
          39,
          37,
          41,
          39,
          38,
          40,
          39,
          37,
          39,
          38,
          39,
          34,
          32,
          35,
          36,
          47,
          48,
          44,
          44,
          43,
          43,
          49
         ],
         "yaxis": "y10"
        },
        {
         "mode": "lines+markers",
         "name": "Visitas de Fortnight (feat. Post Malone)",
         "type": "scatter",
         "x": [
          "2024-06-03T00:00:00"
         ],
         "xaxis": "x6",
         "y": [
          2300000
         ],
         "yaxis": "y11"
        },
        {
         "name": "Posición de Fortnight (feat. Post Malone)",
         "opacity": 0.5,
         "type": "bar",
         "x": [
          "2024-05-16T00:00:00",
          "2024-05-17T00:00:00",
          "2024-05-18T00:00:00",
          "2024-05-19T00:00:00",
          "2024-05-20T00:00:00",
          "2024-05-21T00:00:00",
          "2024-05-22T00:00:00",
          "2024-05-23T00:00:00",
          "2024-05-24T00:00:00",
          "2024-05-25T00:00:00",
          "2024-05-26T00:00:00",
          "2024-05-27T00:00:00",
          "2024-05-28T00:00:00",
          "2024-05-29T00:00:00",
          "2024-05-30T00:00:00",
          "2024-05-31T00:00:00",
          "2024-06-01T00:00:00",
          "2024-06-02T00:00:00",
          "2024-06-03T00:00:00",
          "2024-06-04T00:00:00",
          "2024-06-05T00:00:00",
          "2024-06-06T00:00:00",
          "2024-06-07T00:00:00",
          "2024-06-08T00:00:00",
          "2024-06-09T00:00:00",
          "2024-06-10T00:00:00",
          "2024-06-11T00:00:00"
         ],
         "xaxis": "x6",
         "y": [
          7,
          7,
          10,
          17,
          13,
          13,
          13,
          13,
          13,
          13,
          13,
          13,
          13,
          13,
          13,
          14,
          14,
          15,
          16,
          17,
          17,
          16,
          17,
          16,
          18,
          17,
          17
         ],
         "yaxis": "y12"
        },
        {
         "mode": "lines+markers",
         "name": "Visitas de Gata Only",
         "type": "scatter",
         "x": [
          "2024-06-05T00:00:00",
          "2024-06-06T00:00:00",
          "2024-06-07T00:00:00",
          "2024-06-08T00:00:00"
         ],
         "xaxis": "x7",
         "y": [
          38600000,
          38800000,
          77800000,
          39000000
         ],
         "yaxis": "y13"
        },
        {
         "name": "Posición de Gata Only",
         "opacity": 0.5,
         "type": "bar",
         "x": [
          "2024-05-16T00:00:00",
          "2024-05-17T00:00:00",
          "2024-05-18T00:00:00",
          "2024-05-19T00:00:00",
          "2024-05-20T00:00:00",
          "2024-05-21T00:00:00",
          "2024-05-22T00:00:00",
          "2024-05-23T00:00:00",
          "2024-05-24T00:00:00",
          "2024-05-25T00:00:00",
          "2024-05-26T00:00:00",
          "2024-05-27T00:00:00",
          "2024-05-28T00:00:00",
          "2024-05-29T00:00:00",
          "2024-05-30T00:00:00",
          "2024-05-31T00:00:00",
          "2024-06-01T00:00:00",
          "2024-06-02T00:00:00",
          "2024-06-03T00:00:00",
          "2024-06-04T00:00:00",
          "2024-06-05T00:00:00",
          "2024-06-06T00:00:00",
          "2024-06-07T00:00:00",
          "2024-06-08T00:00:00",
          "2024-06-09T00:00:00",
          "2024-06-10T00:00:00",
          "2024-06-11T00:00:00"
         ],
         "xaxis": "x7",
         "y": [
          6,
          6,
          7,
          10,
          7,
          7,
          7,
          7,
          8,
          8,
          8,
          5,
          6,
          6,
          6,
          6,
          6,
          7,
          5,
          6,
          6,
          6,
          6,
          5,
          5,
          4,
          5
         ],
         "yaxis": "y14"
        },
        {
         "mode": "lines+markers",
         "name": "Visitas de Like That",
         "type": "scatter",
         "x": [
          "2024-06-09T00:00:00"
         ],
         "xaxis": "x8",
         "y": [
          9900000
         ],
         "yaxis": "y15"
        },
        {
         "name": "Posición de Like That",
         "opacity": 0.5,
         "type": "bar",
         "x": [
          "2024-05-16T00:00:00",
          "2024-05-17T00:00:00",
          "2024-05-18T00:00:00",
          "2024-05-19T00:00:00",
          "2024-05-20T00:00:00",
          "2024-05-21T00:00:00",
          "2024-05-22T00:00:00",
          "2024-05-23T00:00:00",
          "2024-05-24T00:00:00",
          "2024-05-25T00:00:00",
          "2024-05-26T00:00:00",
          "2024-05-27T00:00:00",
          "2024-05-28T00:00:00",
          "2024-05-29T00:00:00",
          "2024-05-30T00:00:00",
          "2024-05-31T00:00:00",
          "2024-06-01T00:00:00",
          "2024-06-02T00:00:00",
          "2024-06-03T00:00:00",
          "2024-06-04T00:00:00",
          "2024-06-05T00:00:00",
          "2024-06-06T00:00:00",
          "2024-06-07T00:00:00",
          "2024-06-08T00:00:00",
          "2024-06-09T00:00:00",
          "2024-06-10T00:00:00",
          "2024-06-11T00:00:00"
         ],
         "xaxis": "x8",
         "y": [
          16,
          16,
          15,
          26,
          26,
          27,
          26,
          25,
          25,
          25,
          24,
          22,
          23,
          25,
          24,
          24,
          27,
          29,
          33,
          34,
          33,
          33,
          35,
          35,
          37,
          37,
          43
         ],
         "yaxis": "y16"
        },
        {
         "mode": "lines+markers",
         "name": "Visitas de MILLION DOLLAR BABY",
         "type": "scatter",
         "x": [
          "2024-05-16T00:00:00",
          "2024-05-22T00:00:00",
          "2024-05-25T00:00:00",
          "2024-05-28T00:00:00",
          "2024-05-29T00:00:00",
          "2024-05-30T00:00:00",
          "2024-05-31T00:00:00",
          "2024-06-02T00:00:00",
          "2024-06-03T00:00:00",
          "2024-06-04T00:00:00",
          "2024-06-05T00:00:00"
         ],
         "xaxis": "x9",
         "y": [
          6700000,
          40000000,
          7000000,
          7800000,
          78500000,
          60800000,
          132100000,
          11600000,
          45600000,
          30200000,
          0
         ],
         "yaxis": "y17"
        },
        {
         "name": "Posición de MILLION DOLLAR BABY",
         "opacity": 0.5,
         "type": "bar",
         "x": [
          "2024-05-16T00:00:00",
          "2024-05-17T00:00:00",
          "2024-05-18T00:00:00",
          "2024-05-19T00:00:00",
          "2024-05-20T00:00:00",
          "2024-05-21T00:00:00",
          "2024-05-22T00:00:00",
          "2024-05-23T00:00:00",
          "2024-05-24T00:00:00",
          "2024-05-25T00:00:00",
          "2024-05-26T00:00:00",
          "2024-05-27T00:00:00",
          "2024-05-28T00:00:00",
          "2024-05-29T00:00:00",
          "2024-05-30T00:00:00",
          "2024-05-31T00:00:00",
          "2024-06-01T00:00:00",
          "2024-06-02T00:00:00",
          "2024-06-03T00:00:00",
          "2024-06-04T00:00:00",
          "2024-06-05T00:00:00",
          "2024-06-06T00:00:00",
          "2024-06-07T00:00:00",
          "2024-06-08T00:00:00",
          "2024-06-09T00:00:00",
          "2024-06-10T00:00:00",
          "2024-06-11T00:00:00"
         ],
         "xaxis": "x9",
         "y": [
          1,
          1,
          1,
          1,
          1,
          1,
          1,
          1,
          2,
          2,
          3,
          3,
          3,
          3,
          2,
          2,
          2,
          2,
          2,
          2,
          3,
          4,
          4,
          7,
          7,
          8,
          6
         ],
         "yaxis": "y18"
        },
        {
         "mode": "lines+markers",
         "name": "Visitas de My Love Mine All Mine",
         "type": "scatter",
         "x": [
          "2024-05-16T00:00:00",
          "2024-05-17T00:00:00",
          "2024-05-18T00:00:00"
         ],
         "xaxis": "x10",
         "y": [
          72700000,
          145400000,
          145600000
         ],
         "yaxis": "y19"
        },
        {
         "name": "Posición de My Love Mine All Mine",
         "opacity": 0.5,
         "type": "bar",
         "x": [
          "2024-05-16T00:00:00",
          "2024-05-17T00:00:00",
          "2024-05-18T00:00:00",
          "2024-05-21T00:00:00",
          "2024-05-22T00:00:00",
          "2024-05-23T00:00:00",
          "2024-05-24T00:00:00",
          "2024-05-25T00:00:00",
          "2024-05-28T00:00:00",
          "2024-05-29T00:00:00",
          "2024-05-30T00:00:00",
          "2024-05-31T00:00:00",
          "2024-06-01T00:00:00",
          "2024-06-04T00:00:00",
          "2024-06-05T00:00:00",
          "2024-06-06T00:00:00",
          "2024-06-07T00:00:00"
         ],
         "xaxis": "x10",
         "y": [
          43,
          43,
          41,
          46,
          46,
          45,
          45,
          46,
          47,
          46,
          47,
          48,
          47,
          49,
          47,
          48,
          47
         ],
         "yaxis": "y20"
        },
        {
         "mode": "lines+markers",
         "name": "Visitas de Not Like Us",
         "type": "scatter",
         "x": [
          "2024-06-04T00:00:00",
          "2024-06-10T00:00:00"
         ],
         "xaxis": "x11",
         "y": [
          35400000,
          4900000
         ],
         "yaxis": "y21"
        },
        {
         "name": "Posición de Not Like Us",
         "opacity": 0.5,
         "type": "bar",
         "x": [
          "2024-05-16T00:00:00",
          "2024-05-17T00:00:00",
          "2024-05-18T00:00:00",
          "2024-05-19T00:00:00",
          "2024-05-20T00:00:00",
          "2024-05-21T00:00:00",
          "2024-05-22T00:00:00",
          "2024-05-23T00:00:00",
          "2024-05-24T00:00:00",
          "2024-05-25T00:00:00",
          "2024-05-26T00:00:00",
          "2024-05-27T00:00:00",
          "2024-05-28T00:00:00",
          "2024-05-29T00:00:00",
          "2024-05-30T00:00:00",
          "2024-05-31T00:00:00",
          "2024-06-01T00:00:00",
          "2024-06-02T00:00:00",
          "2024-06-03T00:00:00",
          "2024-06-04T00:00:00",
          "2024-06-05T00:00:00",
          "2024-06-06T00:00:00",
          "2024-06-07T00:00:00",
          "2024-06-08T00:00:00",
          "2024-06-09T00:00:00",
          "2024-06-10T00:00:00",
          "2024-06-11T00:00:00"
         ],
         "xaxis": "x11",
         "y": [
          2,
          2,
          2,
          5,
          2,
          3,
          3,
          3,
          4,
          4,
          4,
          4,
          4,
          4,
          4,
          4,
          4,
          6,
          7,
          7,
          8,
          8,
          9,
          9,
          11,
          13,
          13
         ],
         "yaxis": "y22"
        },
        {
         "mode": "lines+markers",
         "name": "Visitas de See You Again (feat. Kali Uchis)",
         "type": "scatter",
         "x": [
          "2024-05-16T00:00:00",
          "2024-05-17T00:00:00",
          "2024-06-03T00:00:00",
          "2024-06-04T00:00:00"
         ],
         "xaxis": "x12",
         "y": [
          18900000,
          19000000,
          20200000,
          20400000
         ],
         "yaxis": "y23"
        },
        {
         "name": "Posición de See You Again (feat. Kali Uchis)",
         "opacity": 0.5,
         "type": "bar",
         "x": [
          "2024-05-16T00:00:00",
          "2024-05-17T00:00:00",
          "2024-05-18T00:00:00",
          "2024-05-28T00:00:00",
          "2024-05-29T00:00:00",
          "2024-05-30T00:00:00",
          "2024-05-31T00:00:00",
          "2024-06-01T00:00:00",
          "2024-06-03T00:00:00",
          "2024-06-04T00:00:00",
          "2024-06-05T00:00:00",
          "2024-06-06T00:00:00",
          "2024-06-07T00:00:00",
          "2024-06-08T00:00:00"
         ],
         "xaxis": "x12",
         "y": [
          50,
          50,
          50,
          50,
          50,
          48,
          46,
          45,
          50,
          45,
          46,
          47,
          48,
          50
         ],
         "yaxis": "y24"
        },
        {
         "mode": "lines+markers",
         "name": "Visitas de Tell Ur Girlfriend",
         "type": "scatter",
         "x": [
          "2024-05-16T00:00:00",
          "2024-05-17T00:00:00"
         ],
         "xaxis": "x13",
         "y": [
          17800000,
          1500000
         ],
         "yaxis": "y25"
        },
        {
         "name": "Posición de Tell Ur Girlfriend",
         "opacity": 0.5,
         "type": "bar",
         "x": [
          "2024-05-16T00:00:00",
          "2024-05-17T00:00:00",
          "2024-05-18T00:00:00"
         ],
         "xaxis": "x13",
         "y": [
          42,
          42,
          43
         ],
         "yaxis": "y26"
        },
        {
         "mode": "lines+markers",
         "name": "Visitas de Too Sweet",
         "type": "scatter",
         "x": [
          "2024-06-03T00:00:00"
         ],
         "xaxis": "x14",
         "y": [
          10200000
         ],
         "yaxis": "y27"
        },
        {
         "name": "Posición de Too Sweet",
         "opacity": 0.5,
         "type": "bar",
         "x": [
          "2024-05-16T00:00:00",
          "2024-05-17T00:00:00",
          "2024-05-18T00:00:00",
          "2024-05-19T00:00:00",
          "2024-05-20T00:00:00",
          "2024-05-21T00:00:00",
          "2024-05-22T00:00:00",
          "2024-05-23T00:00:00",
          "2024-05-24T00:00:00",
          "2024-05-25T00:00:00",
          "2024-05-26T00:00:00",
          "2024-05-27T00:00:00",
          "2024-05-28T00:00:00",
          "2024-05-29T00:00:00",
          "2024-05-30T00:00:00",
          "2024-05-31T00:00:00",
          "2024-06-01T00:00:00",
          "2024-06-02T00:00:00",
          "2024-06-03T00:00:00",
          "2024-06-04T00:00:00",
          "2024-06-05T00:00:00",
          "2024-06-06T00:00:00",
          "2024-06-07T00:00:00",
          "2024-06-08T00:00:00",
          "2024-06-09T00:00:00",
          "2024-06-10T00:00:00",
          "2024-06-11T00:00:00"
         ],
         "xaxis": "x14",
         "y": [
          9,
          9,
          8,
          13,
          11,
          11,
          10,
          9,
          9,
          9,
          10,
          11,
          9,
          9,
          8,
          8,
          8,
          10,
          9,
          9,
          9,
          9,
          8,
          8,
          8,
          10,
          8
         ],
         "yaxis": "y28"
        },
        {
         "mode": "lines+markers",
         "name": "Visitas de Type Shit",
         "type": "scatter",
         "x": [
          "2024-05-16T00:00:00"
         ],
         "xaxis": "x15",
         "y": [
          10800000
         ],
         "yaxis": "y29"
        },
        {
         "name": "Posición de Type Shit",
         "opacity": 0.5,
         "type": "bar",
         "x": [
          "2024-05-16T00:00:00",
          "2024-05-17T00:00:00",
          "2024-05-18T00:00:00"
         ],
         "xaxis": "x15",
         "y": [
          47,
          47,
          48
         ],
         "yaxis": "y30"
        },
        {
         "mode": "lines+markers",
         "name": "Visitas de euphoria",
         "type": "scatter",
         "x": [
          "2024-05-18T00:00:00"
         ],
         "xaxis": "x16",
         "y": [
          2900000
         ],
         "yaxis": "y31"
        },
        {
         "name": "Posición de euphoria",
         "opacity": 0.5,
         "type": "bar",
         "x": [
          "2024-05-16T00:00:00",
          "2024-05-17T00:00:00",
          "2024-05-18T00:00:00",
          "2024-05-19T00:00:00",
          "2024-05-20T00:00:00",
          "2024-05-21T00:00:00",
          "2024-05-22T00:00:00",
          "2024-05-23T00:00:00",
          "2024-05-24T00:00:00",
          "2024-05-25T00:00:00",
          "2024-05-26T00:00:00",
          "2024-05-27T00:00:00",
          "2024-05-28T00:00:00",
          "2024-05-29T00:00:00",
          "2024-05-30T00:00:00",
          "2024-05-31T00:00:00",
          "2024-06-01T00:00:00"
         ],
         "xaxis": "x16",
         "y": [
          14,
          14,
          16,
          27,
          29,
          30,
          30,
          28,
          30,
          31,
          35,
          42,
          46,
          47,
          49,
          50,
          50
         ],
         "yaxis": "y32"
        },
        {
         "mode": "lines+markers",
         "name": "Visitas de i like the way you kiss me",
         "type": "scatter",
         "x": [
          "2024-05-26T00:00:00"
         ],
         "xaxis": "x17",
         "y": [
          8400000
         ],
         "yaxis": "y33"
        },
        {
         "name": "Posición de i like the way you kiss me",
         "opacity": 0.5,
         "type": "bar",
         "x": [
          "2024-05-16T00:00:00",
          "2024-05-17T00:00:00",
          "2024-05-18T00:00:00",
          "2024-05-19T00:00:00",
          "2024-05-20T00:00:00",
          "2024-05-21T00:00:00",
          "2024-05-22T00:00:00",
          "2024-05-23T00:00:00",
          "2024-05-24T00:00:00",
          "2024-05-25T00:00:00",
          "2024-05-26T00:00:00",
          "2024-05-27T00:00:00",
          "2024-05-28T00:00:00",
          "2024-05-29T00:00:00",
          "2024-05-30T00:00:00",
          "2024-05-31T00:00:00",
          "2024-06-01T00:00:00",
          "2024-06-02T00:00:00",
          "2024-06-03T00:00:00",
          "2024-06-04T00:00:00",
          "2024-06-05T00:00:00",
          "2024-06-06T00:00:00",
          "2024-06-07T00:00:00",
          "2024-06-08T00:00:00",
          "2024-06-09T00:00:00",
          "2024-06-10T00:00:00",
          "2024-06-11T00:00:00"
         ],
         "xaxis": "x17",
         "y": [
          5,
          5,
          5,
          9,
          8,
          9,
          9,
          10,
          11,
          12,
          12,
          12,
          12,
          12,
          10,
          9,
          11,
          11,
          12,
          11,
          10,
          10,
          10,
          10,
          12,
          12,
          12
         ],
         "yaxis": "y34"
        }
       ],
       "layout": {
        "annotations": [
         {
          "font": {
           "size": 16
          },
          "showarrow": false,
          "text": "A Bar Song (Tipsy)",
          "x": 0.47,
          "xanchor": "center",
          "xref": "paper",
          "y": 1,
          "yanchor": "bottom",
          "yref": "paper"
         },
         {
          "font": {
           "size": 16
          },
          "showarrow": false,
          "text": "Beautiful Things",
          "x": 0.47,
          "xanchor": "center",
          "xref": "paper",
          "y": 0.94,
          "yanchor": "bottom",
          "yref": "paper"
         },
         {
          "font": {
           "size": 16
          },
          "showarrow": false,
          "text": "End of Beginning",
          "x": 0.47,
          "xanchor": "center",
          "xref": "paper",
          "y": 0.8799999999999999,
          "yanchor": "bottom",
          "yref": "paper"
         },
         {
          "font": {
           "size": 16
          },
          "showarrow": false,
          "text": "Espresso",
          "x": 0.47,
          "xanchor": "center",
          "xref": "paper",
          "y": 0.8199999999999998,
          "yanchor": "bottom",
          "yref": "paper"
         },
         {
          "font": {
           "size": 16
          },
          "showarrow": false,
          "text": "FE!N (feat. Playboi Carti)",
          "x": 0.47,
          "xanchor": "center",
          "xref": "paper",
          "y": 0.7599999999999998,
          "yanchor": "bottom",
          "yref": "paper"
         },
         {
          "font": {
           "size": 16
          },
          "showarrow": false,
          "text": "Fortnight (feat. Post Malone)",
          "x": 0.47,
          "xanchor": "center",
          "xref": "paper",
          "y": 0.6999999999999998,
          "yanchor": "bottom",
          "yref": "paper"
         },
         {
          "font": {
           "size": 16
          },
          "showarrow": false,
          "text": "Gata Only",
          "x": 0.47,
          "xanchor": "center",
          "xref": "paper",
          "y": 0.6399999999999999,
          "yanchor": "bottom",
          "yref": "paper"
         },
         {
          "font": {
           "size": 16
          },
          "showarrow": false,
          "text": "Like That",
          "x": 0.47,
          "xanchor": "center",
          "xref": "paper",
          "y": 0.5799999999999998,
          "yanchor": "bottom",
          "yref": "paper"
         },
         {
          "font": {
           "size": 16
          },
          "showarrow": false,
          "text": "MILLION DOLLAR BABY",
          "x": 0.47,
          "xanchor": "center",
          "xref": "paper",
          "y": 0.5199999999999999,
          "yanchor": "bottom",
          "yref": "paper"
         },
         {
          "font": {
           "size": 16
          },
          "showarrow": false,
          "text": "My Love Mine All Mine",
          "x": 0.47,
          "xanchor": "center",
          "xref": "paper",
          "y": 0.4599999999999999,
          "yanchor": "bottom",
          "yref": "paper"
         },
         {
          "font": {
           "size": 16
          },
          "showarrow": false,
          "text": "Not Like Us",
          "x": 0.47,
          "xanchor": "center",
          "xref": "paper",
          "y": 0.3999999999999999,
          "yanchor": "bottom",
          "yref": "paper"
         },
         {
          "font": {
           "size": 16
          },
          "showarrow": false,
          "text": "See You Again (feat. Kali Uchis)",
          "x": 0.47,
          "xanchor": "center",
          "xref": "paper",
          "y": 0.3399999999999999,
          "yanchor": "bottom",
          "yref": "paper"
         },
         {
          "font": {
           "size": 16
          },
          "showarrow": false,
          "text": "Tell Ur Girlfriend",
          "x": 0.47,
          "xanchor": "center",
          "xref": "paper",
          "y": 0.27999999999999997,
          "yanchor": "bottom",
          "yref": "paper"
         },
         {
          "font": {
           "size": 16
          },
          "showarrow": false,
          "text": "Too Sweet",
          "x": 0.47,
          "xanchor": "center",
          "xref": "paper",
          "y": 0.21999999999999997,
          "yanchor": "bottom",
          "yref": "paper"
         },
         {
          "font": {
           "size": 16
          },
          "showarrow": false,
          "text": "Type Shit",
          "x": 0.47,
          "xanchor": "center",
          "xref": "paper",
          "y": 0.15999999999999998,
          "yanchor": "bottom",
          "yref": "paper"
         },
         {
          "font": {
           "size": 16
          },
          "showarrow": false,
          "text": "euphoria",
          "x": 0.47,
          "xanchor": "center",
          "xref": "paper",
          "y": 0.09999999999999999,
          "yanchor": "bottom",
          "yref": "paper"
         },
         {
          "font": {
           "size": 16
          },
          "showarrow": false,
          "text": "i like the way you kiss me",
          "x": 0.47,
          "xanchor": "center",
          "xref": "paper",
          "y": 0.039999999999999994,
          "yanchor": "bottom",
          "yref": "paper"
         }
        ],
        "height": 5100,
        "template": {
         "data": {
          "bar": [
           {
            "error_x": {
             "color": "#2a3f5f"
            },
            "error_y": {
             "color": "#2a3f5f"
            },
            "marker": {
             "line": {
              "color": "#E5ECF6",
              "width": 0.5
             },
             "pattern": {
              "fillmode": "overlay",
              "size": 10,
              "solidity": 0.2
             }
            },
            "type": "bar"
           }
          ],
          "barpolar": [
           {
            "marker": {
             "line": {
              "color": "#E5ECF6",
              "width": 0.5
             },
             "pattern": {
              "fillmode": "overlay",
              "size": 10,
              "solidity": 0.2
             }
            },
            "type": "barpolar"
           }
          ],
          "carpet": [
           {
            "aaxis": {
             "endlinecolor": "#2a3f5f",
             "gridcolor": "white",
             "linecolor": "white",
             "minorgridcolor": "white",
             "startlinecolor": "#2a3f5f"
            },
            "baxis": {
             "endlinecolor": "#2a3f5f",
             "gridcolor": "white",
             "linecolor": "white",
             "minorgridcolor": "white",
             "startlinecolor": "#2a3f5f"
            },
            "type": "carpet"
           }
          ],
          "choropleth": [
           {
            "colorbar": {
             "outlinewidth": 0,
             "ticks": ""
            },
            "type": "choropleth"
           }
          ],
          "contour": [
           {
            "colorbar": {
             "outlinewidth": 0,
             "ticks": ""
            },
            "colorscale": [
             [
              0,
              "#0d0887"
             ],
             [
              0.1111111111111111,
              "#46039f"
             ],
             [
              0.2222222222222222,
              "#7201a8"
             ],
             [
              0.3333333333333333,
              "#9c179e"
             ],
             [
              0.4444444444444444,
              "#bd3786"
             ],
             [
              0.5555555555555556,
              "#d8576b"
             ],
             [
              0.6666666666666666,
              "#ed7953"
             ],
             [
              0.7777777777777778,
              "#fb9f3a"
             ],
             [
              0.8888888888888888,
              "#fdca26"
             ],
             [
              1,
              "#f0f921"
             ]
            ],
            "type": "contour"
           }
          ],
          "contourcarpet": [
           {
            "colorbar": {
             "outlinewidth": 0,
             "ticks": ""
            },
            "type": "contourcarpet"
           }
          ],
          "heatmap": [
           {
            "colorbar": {
             "outlinewidth": 0,
             "ticks": ""
            },
            "colorscale": [
             [
              0,
              "#0d0887"
             ],
             [
              0.1111111111111111,
              "#46039f"
             ],
             [
              0.2222222222222222,
              "#7201a8"
             ],
             [
              0.3333333333333333,
              "#9c179e"
             ],
             [
              0.4444444444444444,
              "#bd3786"
             ],
             [
              0.5555555555555556,
              "#d8576b"
             ],
             [
              0.6666666666666666,
              "#ed7953"
             ],
             [
              0.7777777777777778,
              "#fb9f3a"
             ],
             [
              0.8888888888888888,
              "#fdca26"
             ],
             [
              1,
              "#f0f921"
             ]
            ],
            "type": "heatmap"
           }
          ],
          "heatmapgl": [
           {
            "colorbar": {
             "outlinewidth": 0,
             "ticks": ""
            },
            "colorscale": [
             [
              0,
              "#0d0887"
             ],
             [
              0.1111111111111111,
              "#46039f"
             ],
             [
              0.2222222222222222,
              "#7201a8"
             ],
             [
              0.3333333333333333,
              "#9c179e"
             ],
             [
              0.4444444444444444,
              "#bd3786"
             ],
             [
              0.5555555555555556,
              "#d8576b"
             ],
             [
              0.6666666666666666,
              "#ed7953"
             ],
             [
              0.7777777777777778,
              "#fb9f3a"
             ],
             [
              0.8888888888888888,
              "#fdca26"
             ],
             [
              1,
              "#f0f921"
             ]
            ],
            "type": "heatmapgl"
           }
          ],
          "histogram": [
           {
            "marker": {
             "pattern": {
              "fillmode": "overlay",
              "size": 10,
              "solidity": 0.2
             }
            },
            "type": "histogram"
           }
          ],
          "histogram2d": [
           {
            "colorbar": {
             "outlinewidth": 0,
             "ticks": ""
            },
            "colorscale": [
             [
              0,
              "#0d0887"
             ],
             [
              0.1111111111111111,
              "#46039f"
             ],
             [
              0.2222222222222222,
              "#7201a8"
             ],
             [
              0.3333333333333333,
              "#9c179e"
             ],
             [
              0.4444444444444444,
              "#bd3786"
             ],
             [
              0.5555555555555556,
              "#d8576b"
             ],
             [
              0.6666666666666666,
              "#ed7953"
             ],
             [
              0.7777777777777778,
              "#fb9f3a"
             ],
             [
              0.8888888888888888,
              "#fdca26"
             ],
             [
              1,
              "#f0f921"
             ]
            ],
            "type": "histogram2d"
           }
          ],
          "histogram2dcontour": [
           {
            "colorbar": {
             "outlinewidth": 0,
             "ticks": ""
            },
            "colorscale": [
             [
              0,
              "#0d0887"
             ],
             [
              0.1111111111111111,
              "#46039f"
             ],
             [
              0.2222222222222222,
              "#7201a8"
             ],
             [
              0.3333333333333333,
              "#9c179e"
             ],
             [
              0.4444444444444444,
              "#bd3786"
             ],
             [
              0.5555555555555556,
              "#d8576b"
             ],
             [
              0.6666666666666666,
              "#ed7953"
             ],
             [
              0.7777777777777778,
              "#fb9f3a"
             ],
             [
              0.8888888888888888,
              "#fdca26"
             ],
             [
              1,
              "#f0f921"
             ]
            ],
            "type": "histogram2dcontour"
           }
          ],
          "mesh3d": [
           {
            "colorbar": {
             "outlinewidth": 0,
             "ticks": ""
            },
            "type": "mesh3d"
           }
          ],
          "parcoords": [
           {
            "line": {
             "colorbar": {
              "outlinewidth": 0,
              "ticks": ""
             }
            },
            "type": "parcoords"
           }
          ],
          "pie": [
           {
            "automargin": true,
            "type": "pie"
           }
          ],
          "scatter": [
           {
            "fillpattern": {
             "fillmode": "overlay",
             "size": 10,
             "solidity": 0.2
            },
            "type": "scatter"
           }
          ],
          "scatter3d": [
           {
            "line": {
             "colorbar": {
              "outlinewidth": 0,
              "ticks": ""
             }
            },
            "marker": {
             "colorbar": {
              "outlinewidth": 0,
              "ticks": ""
             }
            },
            "type": "scatter3d"
           }
          ],
          "scattercarpet": [
           {
            "marker": {
             "colorbar": {
              "outlinewidth": 0,
              "ticks": ""
             }
            },
            "type": "scattercarpet"
           }
          ],
          "scattergeo": [
           {
            "marker": {
             "colorbar": {
              "outlinewidth": 0,
              "ticks": ""
             }
            },
            "type": "scattergeo"
           }
          ],
          "scattergl": [
           {
            "marker": {
             "colorbar": {
              "outlinewidth": 0,
              "ticks": ""
             }
            },
            "type": "scattergl"
           }
          ],
          "scattermapbox": [
           {
            "marker": {
             "colorbar": {
              "outlinewidth": 0,
              "ticks": ""
             }
            },
            "type": "scattermapbox"
           }
          ],
          "scatterpolar": [
           {
            "marker": {
             "colorbar": {
              "outlinewidth": 0,
              "ticks": ""
             }
            },
            "type": "scatterpolar"
           }
          ],
          "scatterpolargl": [
           {
            "marker": {
             "colorbar": {
              "outlinewidth": 0,
              "ticks": ""
             }
            },
            "type": "scatterpolargl"
           }
          ],
          "scatterternary": [
           {
            "marker": {
             "colorbar": {
              "outlinewidth": 0,
              "ticks": ""
             }
            },
            "type": "scatterternary"
           }
          ],
          "surface": [
           {
            "colorbar": {
             "outlinewidth": 0,
             "ticks": ""
            },
            "colorscale": [
             [
              0,
              "#0d0887"
             ],
             [
              0.1111111111111111,
              "#46039f"
             ],
             [
              0.2222222222222222,
              "#7201a8"
             ],
             [
              0.3333333333333333,
              "#9c179e"
             ],
             [
              0.4444444444444444,
              "#bd3786"
             ],
             [
              0.5555555555555556,
              "#d8576b"
             ],
             [
              0.6666666666666666,
              "#ed7953"
             ],
             [
              0.7777777777777778,
              "#fb9f3a"
             ],
             [
              0.8888888888888888,
              "#fdca26"
             ],
             [
              1,
              "#f0f921"
             ]
            ],
            "type": "surface"
           }
          ],
          "table": [
           {
            "cells": {
             "fill": {
              "color": "#EBF0F8"
             },
             "line": {
              "color": "white"
             }
            },
            "header": {
             "fill": {
              "color": "#C8D4E3"
             },
             "line": {
              "color": "white"
             }
            },
            "type": "table"
           }
          ]
         },
         "layout": {
          "annotationdefaults": {
           "arrowcolor": "#2a3f5f",
           "arrowhead": 0,
           "arrowwidth": 1
          },
          "autotypenumbers": "strict",
          "coloraxis": {
           "colorbar": {
            "outlinewidth": 0,
            "ticks": ""
           }
          },
          "colorscale": {
           "diverging": [
            [
             0,
             "#8e0152"
            ],
            [
             0.1,
             "#c51b7d"
            ],
            [
             0.2,
             "#de77ae"
            ],
            [
             0.3,
             "#f1b6da"
            ],
            [
             0.4,
             "#fde0ef"
            ],
            [
             0.5,
             "#f7f7f7"
            ],
            [
             0.6,
             "#e6f5d0"
            ],
            [
             0.7,
             "#b8e186"
            ],
            [
             0.8,
             "#7fbc41"
            ],
            [
             0.9,
             "#4d9221"
            ],
            [
             1,
             "#276419"
            ]
           ],
           "sequential": [
            [
             0,
             "#0d0887"
            ],
            [
             0.1111111111111111,
             "#46039f"
            ],
            [
             0.2222222222222222,
             "#7201a8"
            ],
            [
             0.3333333333333333,
             "#9c179e"
            ],
            [
             0.4444444444444444,
             "#bd3786"
            ],
            [
             0.5555555555555556,
             "#d8576b"
            ],
            [
             0.6666666666666666,
             "#ed7953"
            ],
            [
             0.7777777777777778,
             "#fb9f3a"
            ],
            [
             0.8888888888888888,
             "#fdca26"
            ],
            [
             1,
             "#f0f921"
            ]
           ],
           "sequentialminus": [
            [
             0,
             "#0d0887"
            ],
            [
             0.1111111111111111,
             "#46039f"
            ],
            [
             0.2222222222222222,
             "#7201a8"
            ],
            [
             0.3333333333333333,
             "#9c179e"
            ],
            [
             0.4444444444444444,
             "#bd3786"
            ],
            [
             0.5555555555555556,
             "#d8576b"
            ],
            [
             0.6666666666666666,
             "#ed7953"
            ],
            [
             0.7777777777777778,
             "#fb9f3a"
            ],
            [
             0.8888888888888888,
             "#fdca26"
            ],
            [
             1,
             "#f0f921"
            ]
           ]
          },
          "colorway": [
           "#636efa",
           "#EF553B",
           "#00cc96",
           "#ab63fa",
           "#FFA15A",
           "#19d3f3",
           "#FF6692",
           "#B6E880",
           "#FF97FF",
           "#FECB52"
          ],
          "font": {
           "color": "#2a3f5f"
          },
          "geo": {
           "bgcolor": "white",
           "lakecolor": "white",
           "landcolor": "#E5ECF6",
           "showlakes": true,
           "showland": true,
           "subunitcolor": "white"
          },
          "hoverlabel": {
           "align": "left"
          },
          "hovermode": "closest",
          "mapbox": {
           "style": "light"
          },
          "paper_bgcolor": "white",
          "plot_bgcolor": "#E5ECF6",
          "polar": {
           "angularaxis": {
            "gridcolor": "white",
            "linecolor": "white",
            "ticks": ""
           },
           "bgcolor": "#E5ECF6",
           "radialaxis": {
            "gridcolor": "white",
            "linecolor": "white",
            "ticks": ""
           }
          },
          "scene": {
           "xaxis": {
            "backgroundcolor": "#E5ECF6",
            "gridcolor": "white",
            "gridwidth": 2,
            "linecolor": "white",
            "showbackground": true,
            "ticks": "",
            "zerolinecolor": "white"
           },
           "yaxis": {
            "backgroundcolor": "#E5ECF6",
            "gridcolor": "white",
            "gridwidth": 2,
            "linecolor": "white",
            "showbackground": true,
            "ticks": "",
            "zerolinecolor": "white"
           },
           "zaxis": {
            "backgroundcolor": "#E5ECF6",
            "gridcolor": "white",
            "gridwidth": 2,
            "linecolor": "white",
            "showbackground": true,
            "ticks": "",
            "zerolinecolor": "white"
           }
          },
          "shapedefaults": {
           "line": {
            "color": "#2a3f5f"
           }
          },
          "ternary": {
           "aaxis": {
            "gridcolor": "white",
            "linecolor": "white",
            "ticks": ""
           },
           "baxis": {
            "gridcolor": "white",
            "linecolor": "white",
            "ticks": ""
           },
           "bgcolor": "#E5ECF6",
           "caxis": {
            "gridcolor": "white",
            "linecolor": "white",
            "ticks": ""
           }
          },
          "title": {
           "x": 0.05
          },
          "xaxis": {
           "automargin": true,
           "gridcolor": "white",
           "linecolor": "white",
           "ticks": "",
           "title": {
            "standoff": 15
           },
           "zerolinecolor": "white",
           "zerolinewidth": 2
          },
          "yaxis": {
           "automargin": true,
           "gridcolor": "white",
           "linecolor": "white",
           "ticks": "",
           "title": {
            "standoff": 15
           },
           "zerolinecolor": "white",
           "zerolinewidth": 2
          }
         }
        },
        "title": {
         "text": "Suma de Visitas y Posición en el Top 50 por Día para Cada Canción"
        },
        "xaxis": {
         "anchor": "y",
         "domain": [
          0,
          0.94
         ],
         "matches": "x17",
         "showticklabels": false
        },
        "xaxis10": {
         "anchor": "y19",
         "domain": [
          0,
          0.94
         ],
         "matches": "x17",
         "showticklabels": false
        },
        "xaxis11": {
         "anchor": "y21",
         "domain": [
          0,
          0.94
         ],
         "matches": "x17",
         "showticklabels": false
        },
        "xaxis12": {
         "anchor": "y23",
         "domain": [
          0,
          0.94
         ],
         "matches": "x17",
         "showticklabels": false
        },
        "xaxis13": {
         "anchor": "y25",
         "domain": [
          0,
          0.94
         ],
         "matches": "x17",
         "showticklabels": false
        },
        "xaxis14": {
         "anchor": "y27",
         "domain": [
          0,
          0.94
         ],
         "matches": "x17",
         "showticklabels": false
        },
        "xaxis15": {
         "anchor": "y29",
         "domain": [
          0,
          0.94
         ],
         "matches": "x17",
         "showticklabels": false
        },
        "xaxis16": {
         "anchor": "y31",
         "domain": [
          0,
          0.94
         ],
         "matches": "x17",
         "showticklabels": false
        },
        "xaxis17": {
         "anchor": "y33",
         "domain": [
          0,
          0.94
         ]
        },
        "xaxis2": {
         "anchor": "y3",
         "domain": [
          0,
          0.94
         ],
         "matches": "x17",
         "showticklabels": false
        },
        "xaxis3": {
         "anchor": "y5",
         "domain": [
          0,
          0.94
         ],
         "matches": "x17",
         "showticklabels": false
        },
        "xaxis4": {
         "anchor": "y7",
         "domain": [
          0,
          0.94
         ],
         "matches": "x17",
         "showticklabels": false
        },
        "xaxis5": {
         "anchor": "y9",
         "domain": [
          0,
          0.94
         ],
         "matches": "x17",
         "showticklabels": false
        },
        "xaxis6": {
         "anchor": "y11",
         "domain": [
          0,
          0.94
         ],
         "matches": "x17",
         "showticklabels": false
        },
        "xaxis7": {
         "anchor": "y13",
         "domain": [
          0,
          0.94
         ],
         "matches": "x17",
         "showticklabels": false
        },
        "xaxis8": {
         "anchor": "y15",
         "domain": [
          0,
          0.94
         ],
         "matches": "x17",
         "showticklabels": false
        },
        "xaxis9": {
         "anchor": "y17",
         "domain": [
          0,
          0.94
         ],
         "matches": "x17",
         "showticklabels": false
        },
        "yaxis": {
         "anchor": "x",
         "domain": [
          0.96,
          1
         ],
         "title": {
          "text": "Suma de Visitas"
         }
        },
        "yaxis10": {
         "anchor": "x5",
         "overlaying": "y9",
         "range": [
          50,
          1
         ],
         "side": "right",
         "title": {
          "text": "Posición en el Top 50"
         }
        },
        "yaxis11": {
         "anchor": "x6",
         "domain": [
          0.6599999999999998,
          0.6999999999999998
         ],
         "title": {
          "text": "Suma de Visitas"
         }
        },
        "yaxis12": {
         "anchor": "x6",
         "overlaying": "y11",
         "range": [
          50,
          1
         ],
         "side": "right",
         "title": {
          "text": "Posición en el Top 50"
         }
        },
        "yaxis13": {
         "anchor": "x7",
         "domain": [
          0.5999999999999999,
          0.6399999999999999
         ],
         "title": {
          "text": "Suma de Visitas"
         }
        },
        "yaxis14": {
         "anchor": "x7",
         "overlaying": "y13",
         "range": [
          50,
          1
         ],
         "side": "right",
         "title": {
          "text": "Posición en el Top 50"
         }
        },
        "yaxis15": {
         "anchor": "x8",
         "domain": [
          0.5399999999999998,
          0.5799999999999998
         ],
         "title": {
          "text": "Suma de Visitas"
         }
        },
        "yaxis16": {
         "anchor": "x8",
         "overlaying": "y15",
         "range": [
          50,
          1
         ],
         "side": "right",
         "title": {
          "text": "Posición en el Top 50"
         }
        },
        "yaxis17": {
         "anchor": "x9",
         "domain": [
          0.47999999999999987,
          0.5199999999999999
         ],
         "title": {
          "text": "Suma de Visitas"
         }
        },
        "yaxis18": {
         "anchor": "x9",
         "overlaying": "y17",
         "range": [
          50,
          1
         ],
         "side": "right",
         "title": {
          "text": "Posición en el Top 50"
         }
        },
        "yaxis19": {
         "anchor": "x10",
         "domain": [
          0.41999999999999993,
          0.4599999999999999
         ],
         "title": {
          "text": "Suma de Visitas"
         }
        },
        "yaxis2": {
         "anchor": "x",
         "overlaying": "y",
         "range": [
          50,
          1
         ],
         "side": "right",
         "title": {
          "text": "Posición en el Top 50"
         }
        },
        "yaxis20": {
         "anchor": "x10",
         "overlaying": "y19",
         "range": [
          50,
          1
         ],
         "side": "right",
         "title": {
          "text": "Posición en el Top 50"
         }
        },
        "yaxis21": {
         "anchor": "x11",
         "domain": [
          0.35999999999999993,
          0.3999999999999999
         ],
         "title": {
          "text": "Suma de Visitas"
         }
        },
        "yaxis22": {
         "anchor": "x11",
         "overlaying": "y21",
         "range": [
          50,
          1
         ],
         "side": "right",
         "title": {
          "text": "Posición en el Top 50"
         }
        },
        "yaxis23": {
         "anchor": "x12",
         "domain": [
          0.29999999999999993,
          0.3399999999999999
         ],
         "title": {
          "text": "Suma de Visitas"
         }
        },
        "yaxis24": {
         "anchor": "x12",
         "overlaying": "y23",
         "range": [
          50,
          1
         ],
         "side": "right",
         "title": {
          "text": "Posición en el Top 50"
         }
        },
        "yaxis25": {
         "anchor": "x13",
         "domain": [
          0.24,
          0.27999999999999997
         ],
         "title": {
          "text": "Suma de Visitas"
         }
        },
        "yaxis26": {
         "anchor": "x13",
         "overlaying": "y25",
         "range": [
          50,
          1
         ],
         "side": "right",
         "title": {
          "text": "Posición en el Top 50"
         }
        },
        "yaxis27": {
         "anchor": "x14",
         "domain": [
          0.18,
          0.21999999999999997
         ],
         "title": {
          "text": "Suma de Visitas"
         }
        },
        "yaxis28": {
         "anchor": "x14",
         "overlaying": "y27",
         "range": [
          50,
          1
         ],
         "side": "right",
         "title": {
          "text": "Posición en el Top 50"
         }
        },
        "yaxis29": {
         "anchor": "x15",
         "domain": [
          0.12,
          0.15999999999999998
         ],
         "title": {
          "text": "Suma de Visitas"
         }
        },
        "yaxis3": {
         "anchor": "x2",
         "domain": [
          0.8999999999999999,
          0.94
         ],
         "title": {
          "text": "Suma de Visitas"
         }
        },
        "yaxis30": {
         "anchor": "x15",
         "overlaying": "y29",
         "range": [
          50,
          1
         ],
         "side": "right",
         "title": {
          "text": "Posición en el Top 50"
         }
        },
        "yaxis31": {
         "anchor": "x16",
         "domain": [
          0.06,
          0.09999999999999999
         ],
         "title": {
          "text": "Suma de Visitas"
         }
        },
        "yaxis32": {
         "anchor": "x16",
         "overlaying": "y31",
         "range": [
          50,
          1
         ],
         "side": "right",
         "title": {
          "text": "Posición en el Top 50"
         }
        },
        "yaxis33": {
         "anchor": "x17",
         "domain": [
          0,
          0.039999999999999994
         ],
         "title": {
          "text": "Suma de Visitas"
         }
        },
        "yaxis34": {
         "anchor": "x17",
         "overlaying": "y33",
         "range": [
          50,
          1
         ],
         "side": "right",
         "title": {
          "text": "Posición en el Top 50"
         }
        },
        "yaxis4": {
         "anchor": "x2",
         "overlaying": "y3",
         "range": [
          50,
          1
         ],
         "side": "right",
         "title": {
          "text": "Posición en el Top 50"
         }
        },
        "yaxis5": {
         "anchor": "x3",
         "domain": [
          0.8399999999999999,
          0.8799999999999999
         ],
         "title": {
          "text": "Suma de Visitas"
         }
        },
        "yaxis6": {
         "anchor": "x3",
         "overlaying": "y5",
         "range": [
          50,
          1
         ],
         "side": "right",
         "title": {
          "text": "Posición en el Top 50"
         }
        },
        "yaxis7": {
         "anchor": "x4",
         "domain": [
          0.7799999999999998,
          0.8199999999999998
         ],
         "title": {
          "text": "Suma de Visitas"
         }
        },
        "yaxis8": {
         "anchor": "x4",
         "overlaying": "y7",
         "range": [
          50,
          1
         ],
         "side": "right",
         "title": {
          "text": "Posición en el Top 50"
         }
        },
        "yaxis9": {
         "anchor": "x5",
         "domain": [
          0.7199999999999998,
          0.7599999999999998
         ],
         "title": {
          "text": "Suma de Visitas"
         }
        }
       }
      }
     },
     "metadata": {},
     "output_type": "display_data"
    }
   ],
   "source": [
    "import pandas as pd\n",
    "import plotly.graph_objects as go\n",
    "from plotly.subplots import make_subplots\n",
    "\n",
    "# Asumiendo que ya tenemos los dataframes 'watafak' y 'spotify_df' cargados en el entorno\n",
    "\n",
    "# Convertir la columna 'date' a formato datetime\n",
    "spotifytiktok_df['date'] = pd.to_datetime(spotifytiktok_df['date'])\n",
    "spotify_df['date'] = pd.to_datetime(spotify_df['date'])\n",
    "\n",
    "# Agrupar por 'trackName' y 'date' para sumar las visitas\n",
    "spotifytiktok_grouped = spotifytiktok_df.groupby(['trackName', 'date'])['views'].sum().reset_index()\n",
    "\n",
    "# Obtener la lista de canciones únicas\n",
    "track_names = spotifytiktok_grouped['trackName'].unique()\n",
    "\n",
    "# Crear un subplot para cada canción\n",
    "fig = make_subplots(rows=len(track_names), cols=1, shared_xaxes=True, vertical_spacing=0.02,\n",
    "                    subplot_titles=track_names, specs=[[{\"secondary_y\": True}] for _ in track_names])\n",
    "\n",
    "# Agregar las trazas para cada canción\n",
    "for i, track in enumerate(track_names):\n",
    "    track_data_watafak = spotifytiktok_grouped[spotifytiktok_grouped['trackName'] == track]\n",
    "    track_data_spotify = spotify_df[spotify_df['trackName'] == track]\n",
    "    \n",
    "    # Agregar la línea de visitas con puntos\n",
    "    fig.add_trace(\n",
    "        go.Scatter(x=track_data_watafak['date'], y=track_data_watafak['views'], mode='lines+markers', name=f'Visitas de {track}'),\n",
    "        row=i+1, col=1, secondary_y=False\n",
    "    )\n",
    "    \n",
    "    # Agregar las barras de posición (invertir las posiciones)\n",
    "    fig.add_trace(\n",
    "        go.Bar(x=track_data_spotify['date'], y=track_data_spotify['position'], name=f'Posición de {track}', opacity=0.5),\n",
    "        row=i+1, col=1, secondary_y=True\n",
    "    )\n",
    "\n",
    "# Configurar los ejes y el layout\n",
    "fig.update_layout(\n",
    "    title_text=\"Suma de Visitas y Posición en el Top 50 por Día para Cada Canción\",\n",
    "    height=300 * len(track_names),  # Ajustar la altura de la figura según el número de canciones\n",
    ")\n",
    "\n",
    "fig.update_yaxes(title_text=\"Suma de Visitas\", secondary_y=False)\n",
    "fig.update_yaxes(title_text=\"Posición en el Top 50\", secondary_y=True, range=[50,1])\n",
    "\n",
    "# Mostrar el gráfico\n",
    "fig.show()\n"
   ]
  }
 ],
 "metadata": {
  "kernelspec": {
   "display_name": "Python 3 (ipykernel)",
   "language": "python",
   "name": "python3"
  },
  "language_info": {
   "codemirror_mode": {
    "name": "ipython",
    "version": 3
   },
   "file_extension": ".py",
   "mimetype": "text/x-python",
   "name": "python",
   "nbconvert_exporter": "python",
   "pygments_lexer": "ipython3",
   "version": "3.11.9"
  }
 },
 "nbformat": 4,
 "nbformat_minor": 5
}
